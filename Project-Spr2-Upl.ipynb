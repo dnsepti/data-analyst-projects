{
  "cells": [
    {
      "cell_type": "markdown",
      "source": [
        "# Konten\n",
        "\n",
        "### Pendahuluan\n",
        "\n",
        "## Tahap 1. Ikhtisar & Eksplorasi Data\n",
        "\n",
        "## Tahap 2. Pra-pemrosesan Data\n",
        "- 2.1 Gaya penulisan judul\n",
        "- 2.2 Memeriksa Kualitas Data & Memperbaiki Data Anomali (Jika Ada)\n",
        "- 2.3 Memeriksa Data Duplikat\n",
        "- 2.4 Bekerja dengan Nilai-nilai yang hilang\n",
        "\n",
        "## Tahap 3. Analisis Data Eksploratif (EDA)\n",
        "- Pengkategorian Data\n",
        "- Memeriksa Hipotesis\n",
        "\n",
        "## Kesimpulan Umum"
      ],
      "metadata": {
        "id": "BimBIdNayOYH"
      }
    },
    {
      "cell_type": "markdown",
      "metadata": {
        "id": "_UDueU2axjN9"
      },
      "source": [
        "# Menganalisis risiko peminjam gagal membayar\n",
        "\n",
        "Proyek Anda ialah menyiapkan laporan untuk bank bagian kredit. Anda harus mencari tahu pengaruh status perkawinan seorang nasabah dan jumlah anak terhadap probabilitas ketepatan waktu dalam melunasi pinjaman. Bank sudah memiliki beberapa data mengenai kelayakan kredit nasabah.\n",
        "\n",
        "Laporan Anda akan dipertimbangkan pada saat membuat **penilaian kredit** untuk calon nasabah. **Penilaian kredit** digunakan untuk mengevaluasi kemampuan calon peminjam untuk melunasi pinjaman mereka.\n",
        "\n",
        "Tujuan report ini untuk mendapatkan jawaban atas pertanyaan apakah ada hubungan antara ketepatan waktu dalam membayar pinnjaman dengan background nasabah, misalnya jumlah anak, status keluarga, tingkat pendapatan, dll.\n",
        "\n",
        "Langkah-langkah yang akan diambil diantaranya:\n",
        "1. Memeriksa nilai yang hilang & memperbaikinya dengan metode fillna\n",
        "2. Memeriksa value unique di setiap kolom untuk memeriksa apakah ada keanehan & memperbaikinya dengan str.lower()\n",
        "3. Memeriksa apakah ada value yang tidak masuk akal pada setiap kolom & memperbaikinya dengan nilai median/mean (tergantung kondisi value)\n",
        "4. Membuat kelompok data untuk nilai kategoris dan numerik yang valuenya banyak untuk mempermudah analisis"
      ]
    },
    {
      "cell_type": "markdown",
      "metadata": {
        "id": "ZYFLxsslxjN-"
      },
      "source": [
        "# Ikhtisar & Eksplorasi Data"
      ]
    },
    {
      "cell_type": "code",
      "execution_count": null,
      "metadata": {
        "id": "Oj-sLzVpxjN-"
      },
      "outputs": [],
      "source": [
        "# Memuat semua perpustakaan\n",
        "import pandas as pd"
      ]
    },
    {
      "cell_type": "code",
      "execution_count": null,
      "metadata": {
        "id": "uqZNbB9LxjN-"
      },
      "outputs": [],
      "source": [
        "# Memuat semua perpustakaan\n",
        "import numpy as np"
      ]
    },
    {
      "cell_type": "code",
      "execution_count": null,
      "metadata": {
        "id": "NTJ3dFiaxjN_"
      },
      "outputs": [],
      "source": [
        "# muat data\n",
        "data = pd.read_csv('/datasets/credit_scoring_eng.csv') "
      ]
    },
    {
      "cell_type": "markdown",
      "metadata": {
        "id": "8X6uuWb1xjN_"
      },
      "source": [
        "**Deskripsi Data**\n",
        "- *`children`* - jumlah anak dalam keluarga\n",
        "- *`days_employed`* - pengalaman kerja dalam hari\n",
        "- *`dob_years`* - usia klien dalam tahun\n",
        "- *`education`* - pendidikan klien\n",
        "- *`education_id`* - tanda pengenal pendidikan\n",
        "- *`family_status`* - status perkawinan\n",
        "- *`family_status_id`* - tanda pengenal status perkawinan\n",
        "- *`gender`* - jenis kelamin klien\n",
        "- *`income_type`* - jenis pekerjaan\n",
        "- *`debt`* - apakah klien memiliki hutang pembayaran pinjaman\n",
        "- *`total_income`* - pendapatan bulanan\n",
        "- *`purpose`* - tujuan mendapatkan pinjaman"
      ]
    },
    {
      "cell_type": "code",
      "execution_count": null,
      "metadata": {
        "id": "o1rLxQ_6xjN_",
        "outputId": "8440eebe-730e-403d-d366-70f08cb9dd27"
      },
      "outputs": [
        {
          "data": {
            "text/plain": [
              "(21525, 12)"
            ]
          },
          "execution_count": 4,
          "metadata": {},
          "output_type": "execute_result"
        }
      ],
      "source": [
        "# Mari kita lihat berapa banyak baris dan kolom yang dimiliki oleh dataset kita\n",
        "data.shape"
      ]
    },
    {
      "cell_type": "code",
      "execution_count": null,
      "metadata": {
        "scrolled": true,
        "id": "VpMbGjXCxjN_",
        "outputId": "16d75139-b7e2-41b9-9612-a322a64ef0d3"
      },
      "outputs": [
        {
          "data": {
            "text/html": [
              "<div>\n",
              "<style scoped>\n",
              "    .dataframe tbody tr th:only-of-type {\n",
              "        vertical-align: middle;\n",
              "    }\n",
              "\n",
              "    .dataframe tbody tr th {\n",
              "        vertical-align: top;\n",
              "    }\n",
              "\n",
              "    .dataframe thead th {\n",
              "        text-align: right;\n",
              "    }\n",
              "</style>\n",
              "<table border=\"1\" class=\"dataframe\">\n",
              "  <thead>\n",
              "    <tr style=\"text-align: right;\">\n",
              "      <th></th>\n",
              "      <th>children</th>\n",
              "      <th>days_employed</th>\n",
              "      <th>dob_years</th>\n",
              "      <th>education</th>\n",
              "      <th>education_id</th>\n",
              "      <th>family_status</th>\n",
              "      <th>family_status_id</th>\n",
              "      <th>gender</th>\n",
              "      <th>income_type</th>\n",
              "      <th>debt</th>\n",
              "      <th>total_income</th>\n",
              "      <th>purpose</th>\n",
              "    </tr>\n",
              "  </thead>\n",
              "  <tbody>\n",
              "    <tr>\n",
              "      <th>0</th>\n",
              "      <td>1</td>\n",
              "      <td>-8437.673028</td>\n",
              "      <td>42</td>\n",
              "      <td>bachelor's degree</td>\n",
              "      <td>0</td>\n",
              "      <td>married</td>\n",
              "      <td>0</td>\n",
              "      <td>F</td>\n",
              "      <td>employee</td>\n",
              "      <td>0</td>\n",
              "      <td>40620.102</td>\n",
              "      <td>purchase of the house</td>\n",
              "    </tr>\n",
              "    <tr>\n",
              "      <th>1</th>\n",
              "      <td>1</td>\n",
              "      <td>-4024.803754</td>\n",
              "      <td>36</td>\n",
              "      <td>secondary education</td>\n",
              "      <td>1</td>\n",
              "      <td>married</td>\n",
              "      <td>0</td>\n",
              "      <td>F</td>\n",
              "      <td>employee</td>\n",
              "      <td>0</td>\n",
              "      <td>17932.802</td>\n",
              "      <td>car purchase</td>\n",
              "    </tr>\n",
              "    <tr>\n",
              "      <th>2</th>\n",
              "      <td>0</td>\n",
              "      <td>-5623.422610</td>\n",
              "      <td>33</td>\n",
              "      <td>Secondary Education</td>\n",
              "      <td>1</td>\n",
              "      <td>married</td>\n",
              "      <td>0</td>\n",
              "      <td>M</td>\n",
              "      <td>employee</td>\n",
              "      <td>0</td>\n",
              "      <td>23341.752</td>\n",
              "      <td>purchase of the house</td>\n",
              "    </tr>\n",
              "    <tr>\n",
              "      <th>3</th>\n",
              "      <td>3</td>\n",
              "      <td>-4124.747207</td>\n",
              "      <td>32</td>\n",
              "      <td>secondary education</td>\n",
              "      <td>1</td>\n",
              "      <td>married</td>\n",
              "      <td>0</td>\n",
              "      <td>M</td>\n",
              "      <td>employee</td>\n",
              "      <td>0</td>\n",
              "      <td>42820.568</td>\n",
              "      <td>supplementary education</td>\n",
              "    </tr>\n",
              "    <tr>\n",
              "      <th>4</th>\n",
              "      <td>0</td>\n",
              "      <td>340266.072047</td>\n",
              "      <td>53</td>\n",
              "      <td>secondary education</td>\n",
              "      <td>1</td>\n",
              "      <td>civil partnership</td>\n",
              "      <td>1</td>\n",
              "      <td>F</td>\n",
              "      <td>retiree</td>\n",
              "      <td>0</td>\n",
              "      <td>25378.572</td>\n",
              "      <td>to have a wedding</td>\n",
              "    </tr>\n",
              "    <tr>\n",
              "      <th>5</th>\n",
              "      <td>0</td>\n",
              "      <td>-926.185831</td>\n",
              "      <td>27</td>\n",
              "      <td>bachelor's degree</td>\n",
              "      <td>0</td>\n",
              "      <td>civil partnership</td>\n",
              "      <td>1</td>\n",
              "      <td>M</td>\n",
              "      <td>business</td>\n",
              "      <td>0</td>\n",
              "      <td>40922.170</td>\n",
              "      <td>purchase of the house</td>\n",
              "    </tr>\n",
              "    <tr>\n",
              "      <th>6</th>\n",
              "      <td>0</td>\n",
              "      <td>-2879.202052</td>\n",
              "      <td>43</td>\n",
              "      <td>bachelor's degree</td>\n",
              "      <td>0</td>\n",
              "      <td>married</td>\n",
              "      <td>0</td>\n",
              "      <td>F</td>\n",
              "      <td>business</td>\n",
              "      <td>0</td>\n",
              "      <td>38484.156</td>\n",
              "      <td>housing transactions</td>\n",
              "    </tr>\n",
              "    <tr>\n",
              "      <th>7</th>\n",
              "      <td>0</td>\n",
              "      <td>-152.779569</td>\n",
              "      <td>50</td>\n",
              "      <td>SECONDARY EDUCATION</td>\n",
              "      <td>1</td>\n",
              "      <td>married</td>\n",
              "      <td>0</td>\n",
              "      <td>M</td>\n",
              "      <td>employee</td>\n",
              "      <td>0</td>\n",
              "      <td>21731.829</td>\n",
              "      <td>education</td>\n",
              "    </tr>\n",
              "    <tr>\n",
              "      <th>8</th>\n",
              "      <td>2</td>\n",
              "      <td>-6929.865299</td>\n",
              "      <td>35</td>\n",
              "      <td>BACHELOR'S DEGREE</td>\n",
              "      <td>0</td>\n",
              "      <td>civil partnership</td>\n",
              "      <td>1</td>\n",
              "      <td>F</td>\n",
              "      <td>employee</td>\n",
              "      <td>0</td>\n",
              "      <td>15337.093</td>\n",
              "      <td>having a wedding</td>\n",
              "    </tr>\n",
              "    <tr>\n",
              "      <th>9</th>\n",
              "      <td>0</td>\n",
              "      <td>-2188.756445</td>\n",
              "      <td>41</td>\n",
              "      <td>secondary education</td>\n",
              "      <td>1</td>\n",
              "      <td>married</td>\n",
              "      <td>0</td>\n",
              "      <td>M</td>\n",
              "      <td>employee</td>\n",
              "      <td>0</td>\n",
              "      <td>23108.150</td>\n",
              "      <td>purchase of the house for my family</td>\n",
              "    </tr>\n",
              "  </tbody>\n",
              "</table>\n",
              "</div>"
            ],
            "text/plain": [
              "   children  days_employed  dob_years            education  education_id  \\\n",
              "0         1   -8437.673028         42    bachelor's degree             0   \n",
              "1         1   -4024.803754         36  secondary education             1   \n",
              "2         0   -5623.422610         33  Secondary Education             1   \n",
              "3         3   -4124.747207         32  secondary education             1   \n",
              "4         0  340266.072047         53  secondary education             1   \n",
              "5         0    -926.185831         27    bachelor's degree             0   \n",
              "6         0   -2879.202052         43    bachelor's degree             0   \n",
              "7         0    -152.779569         50  SECONDARY EDUCATION             1   \n",
              "8         2   -6929.865299         35    BACHELOR'S DEGREE             0   \n",
              "9         0   -2188.756445         41  secondary education             1   \n",
              "\n",
              "       family_status  family_status_id gender income_type  debt  total_income  \\\n",
              "0            married                 0      F    employee     0     40620.102   \n",
              "1            married                 0      F    employee     0     17932.802   \n",
              "2            married                 0      M    employee     0     23341.752   \n",
              "3            married                 0      M    employee     0     42820.568   \n",
              "4  civil partnership                 1      F     retiree     0     25378.572   \n",
              "5  civil partnership                 1      M    business     0     40922.170   \n",
              "6            married                 0      F    business     0     38484.156   \n",
              "7            married                 0      M    employee     0     21731.829   \n",
              "8  civil partnership                 1      F    employee     0     15337.093   \n",
              "9            married                 0      M    employee     0     23108.150   \n",
              "\n",
              "                               purpose  \n",
              "0                purchase of the house  \n",
              "1                         car purchase  \n",
              "2                purchase of the house  \n",
              "3              supplementary education  \n",
              "4                    to have a wedding  \n",
              "5                purchase of the house  \n",
              "6                 housing transactions  \n",
              "7                            education  \n",
              "8                     having a wedding  \n",
              "9  purchase of the house for my family  "
            ]
          },
          "execution_count": 5,
          "metadata": {},
          "output_type": "execute_result"
        }
      ],
      "source": [
        "# mari menampilkan N baris pertama\n",
        "\n",
        "data.head(10)"
      ]
    },
    {
      "cell_type": "markdown",
      "metadata": {
        "id": "uNldfQ8dxjOA"
      },
      "source": [
        "Data sample diatas terlihat bermasalah, diantaranya:\n",
        "1. Kolom `days_employed` bernilai negatif dimana seharusnya bekerja tidak mungkin negatif.\n",
        "2. Kolom `days_employed` jumlah hari kerjanya ada yang tidak masuk akal 340266 hari / 365 hari = 932 tahun.\n",
        "3. Kolom `education` memiliki unique value yang bedanya pada gaya penulisan huruf kapital, huruf kecil, dstnya.\n"
      ]
    },
    {
      "cell_type": "code",
      "execution_count": null,
      "metadata": {
        "scrolled": false,
        "id": "VAreWK7MxjOA",
        "outputId": "795a1a51-2f58-4304-ac16-a4d2723af017"
      },
      "outputs": [
        {
          "name": "stdout",
          "output_type": "stream",
          "text": [
            "<class 'pandas.core.frame.DataFrame'>\n",
            "RangeIndex: 21525 entries, 0 to 21524\n",
            "Data columns (total 12 columns):\n",
            " #   Column            Non-Null Count  Dtype  \n",
            "---  ------            --------------  -----  \n",
            " 0   children          21525 non-null  int64  \n",
            " 1   days_employed     19351 non-null  float64\n",
            " 2   dob_years         21525 non-null  int64  \n",
            " 3   education         21525 non-null  object \n",
            " 4   education_id      21525 non-null  int64  \n",
            " 5   family_status     21525 non-null  object \n",
            " 6   family_status_id  21525 non-null  int64  \n",
            " 7   gender            21525 non-null  object \n",
            " 8   income_type       21525 non-null  object \n",
            " 9   debt              21525 non-null  int64  \n",
            " 10  total_income      19351 non-null  float64\n",
            " 11  purpose           21525 non-null  object \n",
            "dtypes: float64(2), int64(5), object(5)\n",
            "memory usage: 2.0+ MB\n"
          ]
        }
      ],
      "source": [
        "# Mendapatkan informasi data\n",
        "data.info()"
      ]
    },
    {
      "cell_type": "markdown",
      "metadata": {
        "id": "cxTz2biTxjOA"
      },
      "source": [
        "Pada data ini, terdapat nilai-nilai yang hilang pada kolom days_employed dan total income dengan jumlah yang sama. Kita pastikan pada sel berikut."
      ]
    },
    {
      "cell_type": "code",
      "execution_count": null,
      "metadata": {
        "scrolled": true,
        "id": "WUEE3TPPxjOA",
        "outputId": "106196a8-dfde-4ad6-b0cd-c50477400ed6"
      },
      "outputs": [
        {
          "data": {
            "text/html": [
              "<div>\n",
              "<style scoped>\n",
              "    .dataframe tbody tr th:only-of-type {\n",
              "        vertical-align: middle;\n",
              "    }\n",
              "\n",
              "    .dataframe tbody tr th {\n",
              "        vertical-align: top;\n",
              "    }\n",
              "\n",
              "    .dataframe thead th {\n",
              "        text-align: right;\n",
              "    }\n",
              "</style>\n",
              "<table border=\"1\" class=\"dataframe\">\n",
              "  <thead>\n",
              "    <tr style=\"text-align: right;\">\n",
              "      <th></th>\n",
              "      <th>children</th>\n",
              "      <th>days_employed</th>\n",
              "      <th>dob_years</th>\n",
              "      <th>education</th>\n",
              "      <th>education_id</th>\n",
              "      <th>family_status</th>\n",
              "      <th>family_status_id</th>\n",
              "      <th>gender</th>\n",
              "      <th>income_type</th>\n",
              "      <th>debt</th>\n",
              "      <th>total_income</th>\n",
              "      <th>purpose</th>\n",
              "    </tr>\n",
              "  </thead>\n",
              "  <tbody>\n",
              "    <tr>\n",
              "      <th>12</th>\n",
              "      <td>0</td>\n",
              "      <td>NaN</td>\n",
              "      <td>65</td>\n",
              "      <td>secondary education</td>\n",
              "      <td>1</td>\n",
              "      <td>civil partnership</td>\n",
              "      <td>1</td>\n",
              "      <td>M</td>\n",
              "      <td>retiree</td>\n",
              "      <td>0</td>\n",
              "      <td>NaN</td>\n",
              "      <td>to have a wedding</td>\n",
              "    </tr>\n",
              "    <tr>\n",
              "      <th>26</th>\n",
              "      <td>0</td>\n",
              "      <td>NaN</td>\n",
              "      <td>41</td>\n",
              "      <td>secondary education</td>\n",
              "      <td>1</td>\n",
              "      <td>married</td>\n",
              "      <td>0</td>\n",
              "      <td>M</td>\n",
              "      <td>civil servant</td>\n",
              "      <td>0</td>\n",
              "      <td>NaN</td>\n",
              "      <td>education</td>\n",
              "    </tr>\n",
              "    <tr>\n",
              "      <th>29</th>\n",
              "      <td>0</td>\n",
              "      <td>NaN</td>\n",
              "      <td>63</td>\n",
              "      <td>secondary education</td>\n",
              "      <td>1</td>\n",
              "      <td>unmarried</td>\n",
              "      <td>4</td>\n",
              "      <td>F</td>\n",
              "      <td>retiree</td>\n",
              "      <td>0</td>\n",
              "      <td>NaN</td>\n",
              "      <td>building a real estate</td>\n",
              "    </tr>\n",
              "    <tr>\n",
              "      <th>41</th>\n",
              "      <td>0</td>\n",
              "      <td>NaN</td>\n",
              "      <td>50</td>\n",
              "      <td>secondary education</td>\n",
              "      <td>1</td>\n",
              "      <td>married</td>\n",
              "      <td>0</td>\n",
              "      <td>F</td>\n",
              "      <td>civil servant</td>\n",
              "      <td>0</td>\n",
              "      <td>NaN</td>\n",
              "      <td>second-hand car purchase</td>\n",
              "    </tr>\n",
              "    <tr>\n",
              "      <th>55</th>\n",
              "      <td>0</td>\n",
              "      <td>NaN</td>\n",
              "      <td>54</td>\n",
              "      <td>secondary education</td>\n",
              "      <td>1</td>\n",
              "      <td>civil partnership</td>\n",
              "      <td>1</td>\n",
              "      <td>F</td>\n",
              "      <td>retiree</td>\n",
              "      <td>1</td>\n",
              "      <td>NaN</td>\n",
              "      <td>to have a wedding</td>\n",
              "    </tr>\n",
              "    <tr>\n",
              "      <th>...</th>\n",
              "      <td>...</td>\n",
              "      <td>...</td>\n",
              "      <td>...</td>\n",
              "      <td>...</td>\n",
              "      <td>...</td>\n",
              "      <td>...</td>\n",
              "      <td>...</td>\n",
              "      <td>...</td>\n",
              "      <td>...</td>\n",
              "      <td>...</td>\n",
              "      <td>...</td>\n",
              "      <td>...</td>\n",
              "    </tr>\n",
              "    <tr>\n",
              "      <th>21489</th>\n",
              "      <td>2</td>\n",
              "      <td>NaN</td>\n",
              "      <td>47</td>\n",
              "      <td>Secondary Education</td>\n",
              "      <td>1</td>\n",
              "      <td>married</td>\n",
              "      <td>0</td>\n",
              "      <td>M</td>\n",
              "      <td>business</td>\n",
              "      <td>0</td>\n",
              "      <td>NaN</td>\n",
              "      <td>purchase of a car</td>\n",
              "    </tr>\n",
              "    <tr>\n",
              "      <th>21495</th>\n",
              "      <td>1</td>\n",
              "      <td>NaN</td>\n",
              "      <td>50</td>\n",
              "      <td>secondary education</td>\n",
              "      <td>1</td>\n",
              "      <td>civil partnership</td>\n",
              "      <td>1</td>\n",
              "      <td>F</td>\n",
              "      <td>employee</td>\n",
              "      <td>0</td>\n",
              "      <td>NaN</td>\n",
              "      <td>wedding ceremony</td>\n",
              "    </tr>\n",
              "    <tr>\n",
              "      <th>21497</th>\n",
              "      <td>0</td>\n",
              "      <td>NaN</td>\n",
              "      <td>48</td>\n",
              "      <td>BACHELOR'S DEGREE</td>\n",
              "      <td>0</td>\n",
              "      <td>married</td>\n",
              "      <td>0</td>\n",
              "      <td>F</td>\n",
              "      <td>business</td>\n",
              "      <td>0</td>\n",
              "      <td>NaN</td>\n",
              "      <td>building a property</td>\n",
              "    </tr>\n",
              "    <tr>\n",
              "      <th>21502</th>\n",
              "      <td>1</td>\n",
              "      <td>NaN</td>\n",
              "      <td>42</td>\n",
              "      <td>secondary education</td>\n",
              "      <td>1</td>\n",
              "      <td>married</td>\n",
              "      <td>0</td>\n",
              "      <td>F</td>\n",
              "      <td>employee</td>\n",
              "      <td>0</td>\n",
              "      <td>NaN</td>\n",
              "      <td>building a real estate</td>\n",
              "    </tr>\n",
              "    <tr>\n",
              "      <th>21510</th>\n",
              "      <td>2</td>\n",
              "      <td>NaN</td>\n",
              "      <td>28</td>\n",
              "      <td>secondary education</td>\n",
              "      <td>1</td>\n",
              "      <td>married</td>\n",
              "      <td>0</td>\n",
              "      <td>F</td>\n",
              "      <td>employee</td>\n",
              "      <td>0</td>\n",
              "      <td>NaN</td>\n",
              "      <td>car purchase</td>\n",
              "    </tr>\n",
              "  </tbody>\n",
              "</table>\n",
              "<p>2174 rows × 12 columns</p>\n",
              "</div>"
            ],
            "text/plain": [
              "       children  days_employed  dob_years            education  education_id  \\\n",
              "12            0            NaN         65  secondary education             1   \n",
              "26            0            NaN         41  secondary education             1   \n",
              "29            0            NaN         63  secondary education             1   \n",
              "41            0            NaN         50  secondary education             1   \n",
              "55            0            NaN         54  secondary education             1   \n",
              "...         ...            ...        ...                  ...           ...   \n",
              "21489         2            NaN         47  Secondary Education             1   \n",
              "21495         1            NaN         50  secondary education             1   \n",
              "21497         0            NaN         48    BACHELOR'S DEGREE             0   \n",
              "21502         1            NaN         42  secondary education             1   \n",
              "21510         2            NaN         28  secondary education             1   \n",
              "\n",
              "           family_status  family_status_id gender    income_type  debt  \\\n",
              "12     civil partnership                 1      M        retiree     0   \n",
              "26               married                 0      M  civil servant     0   \n",
              "29             unmarried                 4      F        retiree     0   \n",
              "41               married                 0      F  civil servant     0   \n",
              "55     civil partnership                 1      F        retiree     1   \n",
              "...                  ...               ...    ...            ...   ...   \n",
              "21489            married                 0      M       business     0   \n",
              "21495  civil partnership                 1      F       employee     0   \n",
              "21497            married                 0      F       business     0   \n",
              "21502            married                 0      F       employee     0   \n",
              "21510            married                 0      F       employee     0   \n",
              "\n",
              "       total_income                   purpose  \n",
              "12              NaN         to have a wedding  \n",
              "26              NaN                 education  \n",
              "29              NaN    building a real estate  \n",
              "41              NaN  second-hand car purchase  \n",
              "55              NaN         to have a wedding  \n",
              "...             ...                       ...  \n",
              "21489           NaN         purchase of a car  \n",
              "21495           NaN          wedding ceremony  \n",
              "21497           NaN       building a property  \n",
              "21502           NaN    building a real estate  \n",
              "21510           NaN              car purchase  \n",
              "\n",
              "[2174 rows x 12 columns]"
            ]
          },
          "execution_count": 7,
          "metadata": {},
          "output_type": "execute_result"
        }
      ],
      "source": [
        "# Mari kita melihat tabel yang telah difilter dengan nilai yang hilang di kolom pertama dengan data yang hilang\n",
        "data.loc[data['days_employed'].isna()]\n"
      ]
    },
    {
      "cell_type": "markdown",
      "metadata": {
        "id": "Ybg0EtAzxjOA"
      },
      "source": [
        "Dan, ya, memang terlihat nilang yang hilang di kolom `days_employed` simetris dengan kolom `total_income`. Mungkin saja terjadi error system pada saat data diinput."
      ]
    },
    {
      "cell_type": "code",
      "execution_count": null,
      "metadata": {
        "id": "Uz2cFWorxjOA",
        "outputId": "ed958525-4858-41db-a083-1ff6a527f00c"
      },
      "outputs": [
        {
          "data": {
            "text/html": [
              "<div>\n",
              "<style scoped>\n",
              "    .dataframe tbody tr th:only-of-type {\n",
              "        vertical-align: middle;\n",
              "    }\n",
              "\n",
              "    .dataframe tbody tr th {\n",
              "        vertical-align: top;\n",
              "    }\n",
              "\n",
              "    .dataframe thead th {\n",
              "        text-align: right;\n",
              "    }\n",
              "</style>\n",
              "<table border=\"1\" class=\"dataframe\">\n",
              "  <thead>\n",
              "    <tr style=\"text-align: right;\">\n",
              "      <th></th>\n",
              "      <th>children</th>\n",
              "      <th>days_employed</th>\n",
              "      <th>dob_years</th>\n",
              "      <th>education</th>\n",
              "      <th>education_id</th>\n",
              "      <th>family_status</th>\n",
              "      <th>family_status_id</th>\n",
              "      <th>gender</th>\n",
              "      <th>income_type</th>\n",
              "      <th>debt</th>\n",
              "      <th>total_income</th>\n",
              "      <th>purpose</th>\n",
              "    </tr>\n",
              "  </thead>\n",
              "  <tbody>\n",
              "    <tr>\n",
              "      <th>12</th>\n",
              "      <td>0</td>\n",
              "      <td>NaN</td>\n",
              "      <td>65</td>\n",
              "      <td>secondary education</td>\n",
              "      <td>1</td>\n",
              "      <td>civil partnership</td>\n",
              "      <td>1</td>\n",
              "      <td>M</td>\n",
              "      <td>retiree</td>\n",
              "      <td>0</td>\n",
              "      <td>NaN</td>\n",
              "      <td>to have a wedding</td>\n",
              "    </tr>\n",
              "    <tr>\n",
              "      <th>26</th>\n",
              "      <td>0</td>\n",
              "      <td>NaN</td>\n",
              "      <td>41</td>\n",
              "      <td>secondary education</td>\n",
              "      <td>1</td>\n",
              "      <td>married</td>\n",
              "      <td>0</td>\n",
              "      <td>M</td>\n",
              "      <td>civil servant</td>\n",
              "      <td>0</td>\n",
              "      <td>NaN</td>\n",
              "      <td>education</td>\n",
              "    </tr>\n",
              "    <tr>\n",
              "      <th>29</th>\n",
              "      <td>0</td>\n",
              "      <td>NaN</td>\n",
              "      <td>63</td>\n",
              "      <td>secondary education</td>\n",
              "      <td>1</td>\n",
              "      <td>unmarried</td>\n",
              "      <td>4</td>\n",
              "      <td>F</td>\n",
              "      <td>retiree</td>\n",
              "      <td>0</td>\n",
              "      <td>NaN</td>\n",
              "      <td>building a real estate</td>\n",
              "    </tr>\n",
              "    <tr>\n",
              "      <th>41</th>\n",
              "      <td>0</td>\n",
              "      <td>NaN</td>\n",
              "      <td>50</td>\n",
              "      <td>secondary education</td>\n",
              "      <td>1</td>\n",
              "      <td>married</td>\n",
              "      <td>0</td>\n",
              "      <td>F</td>\n",
              "      <td>civil servant</td>\n",
              "      <td>0</td>\n",
              "      <td>NaN</td>\n",
              "      <td>second-hand car purchase</td>\n",
              "    </tr>\n",
              "    <tr>\n",
              "      <th>55</th>\n",
              "      <td>0</td>\n",
              "      <td>NaN</td>\n",
              "      <td>54</td>\n",
              "      <td>secondary education</td>\n",
              "      <td>1</td>\n",
              "      <td>civil partnership</td>\n",
              "      <td>1</td>\n",
              "      <td>F</td>\n",
              "      <td>retiree</td>\n",
              "      <td>1</td>\n",
              "      <td>NaN</td>\n",
              "      <td>to have a wedding</td>\n",
              "    </tr>\n",
              "    <tr>\n",
              "      <th>...</th>\n",
              "      <td>...</td>\n",
              "      <td>...</td>\n",
              "      <td>...</td>\n",
              "      <td>...</td>\n",
              "      <td>...</td>\n",
              "      <td>...</td>\n",
              "      <td>...</td>\n",
              "      <td>...</td>\n",
              "      <td>...</td>\n",
              "      <td>...</td>\n",
              "      <td>...</td>\n",
              "      <td>...</td>\n",
              "    </tr>\n",
              "    <tr>\n",
              "      <th>21489</th>\n",
              "      <td>2</td>\n",
              "      <td>NaN</td>\n",
              "      <td>47</td>\n",
              "      <td>Secondary Education</td>\n",
              "      <td>1</td>\n",
              "      <td>married</td>\n",
              "      <td>0</td>\n",
              "      <td>M</td>\n",
              "      <td>business</td>\n",
              "      <td>0</td>\n",
              "      <td>NaN</td>\n",
              "      <td>purchase of a car</td>\n",
              "    </tr>\n",
              "    <tr>\n",
              "      <th>21495</th>\n",
              "      <td>1</td>\n",
              "      <td>NaN</td>\n",
              "      <td>50</td>\n",
              "      <td>secondary education</td>\n",
              "      <td>1</td>\n",
              "      <td>civil partnership</td>\n",
              "      <td>1</td>\n",
              "      <td>F</td>\n",
              "      <td>employee</td>\n",
              "      <td>0</td>\n",
              "      <td>NaN</td>\n",
              "      <td>wedding ceremony</td>\n",
              "    </tr>\n",
              "    <tr>\n",
              "      <th>21497</th>\n",
              "      <td>0</td>\n",
              "      <td>NaN</td>\n",
              "      <td>48</td>\n",
              "      <td>BACHELOR'S DEGREE</td>\n",
              "      <td>0</td>\n",
              "      <td>married</td>\n",
              "      <td>0</td>\n",
              "      <td>F</td>\n",
              "      <td>business</td>\n",
              "      <td>0</td>\n",
              "      <td>NaN</td>\n",
              "      <td>building a property</td>\n",
              "    </tr>\n",
              "    <tr>\n",
              "      <th>21502</th>\n",
              "      <td>1</td>\n",
              "      <td>NaN</td>\n",
              "      <td>42</td>\n",
              "      <td>secondary education</td>\n",
              "      <td>1</td>\n",
              "      <td>married</td>\n",
              "      <td>0</td>\n",
              "      <td>F</td>\n",
              "      <td>employee</td>\n",
              "      <td>0</td>\n",
              "      <td>NaN</td>\n",
              "      <td>building a real estate</td>\n",
              "    </tr>\n",
              "    <tr>\n",
              "      <th>21510</th>\n",
              "      <td>2</td>\n",
              "      <td>NaN</td>\n",
              "      <td>28</td>\n",
              "      <td>secondary education</td>\n",
              "      <td>1</td>\n",
              "      <td>married</td>\n",
              "      <td>0</td>\n",
              "      <td>F</td>\n",
              "      <td>employee</td>\n",
              "      <td>0</td>\n",
              "      <td>NaN</td>\n",
              "      <td>car purchase</td>\n",
              "    </tr>\n",
              "  </tbody>\n",
              "</table>\n",
              "<p>2174 rows × 12 columns</p>\n",
              "</div>"
            ],
            "text/plain": [
              "       children  days_employed  dob_years            education  education_id  \\\n",
              "12            0            NaN         65  secondary education             1   \n",
              "26            0            NaN         41  secondary education             1   \n",
              "29            0            NaN         63  secondary education             1   \n",
              "41            0            NaN         50  secondary education             1   \n",
              "55            0            NaN         54  secondary education             1   \n",
              "...         ...            ...        ...                  ...           ...   \n",
              "21489         2            NaN         47  Secondary Education             1   \n",
              "21495         1            NaN         50  secondary education             1   \n",
              "21497         0            NaN         48    BACHELOR'S DEGREE             0   \n",
              "21502         1            NaN         42  secondary education             1   \n",
              "21510         2            NaN         28  secondary education             1   \n",
              "\n",
              "           family_status  family_status_id gender    income_type  debt  \\\n",
              "12     civil partnership                 1      M        retiree     0   \n",
              "26               married                 0      M  civil servant     0   \n",
              "29             unmarried                 4      F        retiree     0   \n",
              "41               married                 0      F  civil servant     0   \n",
              "55     civil partnership                 1      F        retiree     1   \n",
              "...                  ...               ...    ...            ...   ...   \n",
              "21489            married                 0      M       business     0   \n",
              "21495  civil partnership                 1      F       employee     0   \n",
              "21497            married                 0      F       business     0   \n",
              "21502            married                 0      F       employee     0   \n",
              "21510            married                 0      F       employee     0   \n",
              "\n",
              "       total_income                   purpose  \n",
              "12              NaN         to have a wedding  \n",
              "26              NaN                 education  \n",
              "29              NaN    building a real estate  \n",
              "41              NaN  second-hand car purchase  \n",
              "55              NaN         to have a wedding  \n",
              "...             ...                       ...  \n",
              "21489           NaN         purchase of a car  \n",
              "21495           NaN          wedding ceremony  \n",
              "21497           NaN       building a property  \n",
              "21502           NaN    building a real estate  \n",
              "21510           NaN              car purchase  \n",
              "\n",
              "[2174 rows x 12 columns]"
            ]
          },
          "execution_count": 8,
          "metadata": {},
          "output_type": "execute_result"
        }
      ],
      "source": [
        "# Mari kita menerapkan beberapa persyaratan untuk memfilter data dan melihat jumlah baris dalam tabel yang difilter.\n",
        "\n",
        "data_null = data.loc[data['days_employed'].isna() & data['total_income'].isna()]\n",
        "data_null"
      ]
    },
    {
      "cell_type": "markdown",
      "metadata": {
        "id": "aQaqDPr5xjOA"
      },
      "source": [
        "**Kesimpulan menengah**\n",
        "\n",
        "Jumlah nilai yang hilang pada kolom `days_employed` & `total_income` saling beririsan dengan jumlah 2174 rows.\n",
        "\n",
        "Selanjutnya, untuk lebih memastikan, kita akan mengecek persentase jumlah baris atas nilai yang hilang terhadap keseluruhan data."
      ]
    },
    {
      "cell_type": "code",
      "execution_count": null,
      "metadata": {
        "scrolled": true,
        "id": "sN6WWJ7QxjOA",
        "outputId": "f23635c6-e43f-48e7-e23b-76f1b18d39e2"
      },
      "outputs": [
        {
          "data": {
            "text/plain": [
              "children             0.000000\n",
              "days_employed       10.099884\n",
              "dob_years            0.000000\n",
              "education            0.000000\n",
              "education_id         0.000000\n",
              "family_status        0.000000\n",
              "family_status_id     0.000000\n",
              "gender               0.000000\n",
              "income_type          0.000000\n",
              "debt                 0.000000\n",
              "total_income        10.099884\n",
              "purpose              0.000000\n",
              "dtype: float64"
            ]
          },
          "execution_count": 9,
          "metadata": {},
          "output_type": "execute_result"
        }
      ],
      "source": [
        "# Mari kita memeriksa klien yang tidak memiliki data tentang karakteristik yang teridentifikasi dan kolom dengan nilai yang hilang\n",
        "data.isna().sum() / len(data) * 100\n"
      ]
    },
    {
      "cell_type": "code",
      "execution_count": null,
      "metadata": {
        "scrolled": true,
        "id": "43CMCLf-xjOB",
        "outputId": "ed0d2cfa-e846-47b2-f690-76dc53e8b477"
      },
      "outputs": [
        {
          "name": "stdout",
          "output_type": "stream",
          "text": [
            "\n",
            "Ini adalah unique value kolom children dalam data_null:\n",
            "[ 0  1  2 -1  3  4 20  5]\n",
            "\n",
            "Ini adalah unique value kolom children dalam data asli:\n",
            "[ 1  0  3  2 -1  4 20  5]\n",
            "\n",
            "Ini adalah unique value kolom education dalam data_null:\n",
            "['secondary education' \"bachelor's degree\" 'SECONDARY EDUCATION'\n",
            " 'some college' 'Secondary Education' 'Some College' \"Bachelor's Degree\"\n",
            " 'SOME COLLEGE' 'primary education' \"BACHELOR'S DEGREE\"\n",
            " 'Primary Education' 'PRIMARY EDUCATION']\n",
            "\n",
            "Ini adalah unique value kolom education dalam data asli:\n",
            "[\"bachelor's degree\" 'secondary education' 'Secondary Education'\n",
            " 'SECONDARY EDUCATION' \"BACHELOR'S DEGREE\" 'some college'\n",
            " 'primary education' \"Bachelor's Degree\" 'SOME COLLEGE' 'Some College'\n",
            " 'PRIMARY EDUCATION' 'Primary Education' 'Graduate Degree'\n",
            " 'GRADUATE DEGREE' 'graduate degree']\n",
            "\n",
            "Ini adalah unique value kolom family_status dalam data_null:\n",
            "['civil partnership' 'married' 'unmarried' 'widow / widower' 'divorced']\n",
            "\n",
            "Ini adalah unique value kolom family_status dalam data asli:\n",
            "['married' 'civil partnership' 'widow / widower' 'divorced' 'unmarried']\n",
            "\n",
            "Ini adalah unique value kolom gender dalam data_null:\n",
            "['M' 'F']\n",
            "\n",
            "Ini adalah unique value kolom gender dalam data asli:\n",
            "['F' 'M' 'XNA']\n",
            "\n",
            "Ini adalah unique value kolom purpose dalam data_null:\n",
            "['to have a wedding' 'education' 'building a real estate'\n",
            " 'second-hand car purchase' 'transactions with commercial real estate'\n",
            " 'purchase of the house for my family' 'housing' 'housing transactions'\n",
            " 'having a wedding' 'buy residential real estate' 'profile education'\n",
            " 'university education' 'car' 'wedding ceremony' 'building a property'\n",
            " 'to own a car' 'buying a second-hand car' 'construction of own property'\n",
            " 'purchase of my own house' 'going to university' 'property'\n",
            " 'transactions with my real estate' 'buying property for renting out'\n",
            " 'purchase of a car' 'car purchase' 'getting higher education'\n",
            " 'supplementary education' 'to buy a car' 'buy real estate' 'cars'\n",
            " 'buy commercial real estate' 'purchase of the house'\n",
            " 'getting an education' 'real estate transactions' 'housing renovation'\n",
            " 'buying my own car' 'to become educated'\n",
            " 'to get a supplementary education']\n",
            "\n",
            "Ini adalah unique value kolom purpose dalam data asli:\n",
            "['purchase of the house' 'car purchase' 'supplementary education'\n",
            " 'to have a wedding' 'housing transactions' 'education' 'having a wedding'\n",
            " 'purchase of the house for my family' 'buy real estate'\n",
            " 'buy commercial real estate' 'buy residential real estate'\n",
            " 'construction of own property' 'property' 'building a property'\n",
            " 'buying a second-hand car' 'buying my own car'\n",
            " 'transactions with commercial real estate' 'building a real estate'\n",
            " 'housing' 'transactions with my real estate' 'cars' 'to become educated'\n",
            " 'second-hand car purchase' 'getting an education' 'car'\n",
            " 'wedding ceremony' 'to get a supplementary education'\n",
            " 'purchase of my own house' 'real estate transactions'\n",
            " 'getting higher education' 'to own a car' 'purchase of a car'\n",
            " 'profile education' 'university education'\n",
            " 'buying property for renting out' 'to buy a car' 'housing renovation'\n",
            " 'going to university']\n",
            "\n",
            "Ini adalah unique value kolom income_type dalam data_null:\n",
            "['retiree' 'civil servant' 'business' 'employee' 'entrepreneur']\n",
            "\n",
            "Ini adalah unique value kolom income_type dalam data asli:\n",
            "['employee' 'retiree' 'business' 'civil servant' 'unemployed'\n",
            " 'entrepreneur' 'student' 'paternity / maternity leave']\n"
          ]
        }
      ],
      "source": [
        "# Memeriksa distribusi \n",
        "# Membandingkan value antara data_null dan data asli\n",
        "\n",
        "categorical_columns = ['children', 'education', 'family_status', 'gender', 'purpose', 'income_type']\n",
        "\n",
        "for i in categorical_columns:\n",
        "    print('\\nIni adalah unique value kolom %s dalam data_null:'%i)\n",
        "    print (data_null[i].unique())\n",
        "    print('\\nIni adalah unique value kolom %s dalam data asli:'%i)\n",
        "    print (data[i].unique())"
      ]
    },
    {
      "cell_type": "markdown",
      "metadata": {
        "id": "XWPHwSlcxjOB"
      },
      "source": [
        "Temuan pada kolom `children` adalah nilai minus dan 20, perlu dipertanyakan apakah terdapat error pada data. Sementara untuk kolom `education` dan `purpose` terdapat beberapa nilai yang sama namun ditulis dengan gaya penulisan yang beragam. Kita perlu betulkan nanti sehingga unique value nya bukan dari penulisan gaya yang beragam padahal value nya sama. \n",
        "\n",
        "**Kemungkinan penyebab hilangnya nilai dalam data**\n",
        "\n",
        "Tidak ditemukan pola tertentu jika kita membandingkan data asli dengan data_null. Sepertinya memang datanya yang memiliki error."
      ]
    },
    {
      "cell_type": "code",
      "execution_count": null,
      "metadata": {
        "scrolled": true,
        "id": "U9xytlRoxjOB"
      },
      "outputs": [],
      "source": [
        "# Memeriksa distribusi di seluruh dataset\n",
        "# Sudah dilakukan di sel sebelumnya"
      ]
    },
    {
      "cell_type": "markdown",
      "metadata": {
        "id": "d7cO_vd6xjOB"
      },
      "source": [
        "**Kesimpulan menengah**\n",
        "\n",
        "Overall, data asli mirip dengan data_null yang sudah difilter hanya berisi data yang memiliki nilai yang hilang. Hanya ada perbedaan minor pada kolom `education` di data_null tidak memiliki value `graduate degree` dan pada kolom `gender` tidak memiliki value `XNA`."
      ]
    },
    {
      "cell_type": "code",
      "execution_count": null,
      "metadata": {
        "id": "Fcmghxd8xjOB",
        "outputId": "931fd6b3-010c-4ce6-a210-032328ced9e5"
      },
      "outputs": [
        {
          "name": "stdout",
          "output_type": "stream",
          "text": [
            "\n",
            "Ini adalah unique value kolom children dalam data_null:\n",
            "[ 0  1  2 -1  3  4 20  5]\n",
            "\n",
            "Ini adalah unique value kolom children dalam data asli:\n",
            "[ 1  0  3  2 -1  4 20  5]\n",
            "\n",
            "Ini adalah unique value kolom education dalam data_null:\n",
            "['secondary education' \"bachelor's degree\" 'SECONDARY EDUCATION'\n",
            " 'some college' 'Secondary Education' 'Some College' \"Bachelor's Degree\"\n",
            " 'SOME COLLEGE' 'primary education' \"BACHELOR'S DEGREE\"\n",
            " 'Primary Education' 'PRIMARY EDUCATION']\n",
            "\n",
            "Ini adalah unique value kolom education dalam data asli:\n",
            "[\"bachelor's degree\" 'secondary education' 'Secondary Education'\n",
            " 'SECONDARY EDUCATION' \"BACHELOR'S DEGREE\" 'some college'\n",
            " 'primary education' \"Bachelor's Degree\" 'SOME COLLEGE' 'Some College'\n",
            " 'PRIMARY EDUCATION' 'Primary Education' 'Graduate Degree'\n",
            " 'GRADUATE DEGREE' 'graduate degree']\n",
            "\n",
            "Ini adalah unique value kolom family_status dalam data_null:\n",
            "['civil partnership' 'married' 'unmarried' 'widow / widower' 'divorced']\n",
            "\n",
            "Ini adalah unique value kolom family_status dalam data asli:\n",
            "['married' 'civil partnership' 'widow / widower' 'divorced' 'unmarried']\n",
            "\n",
            "Ini adalah unique value kolom gender dalam data_null:\n",
            "['M' 'F']\n",
            "\n",
            "Ini adalah unique value kolom gender dalam data asli:\n",
            "['F' 'M' 'XNA']\n",
            "\n",
            "Ini adalah unique value kolom purpose dalam data_null:\n",
            "['to have a wedding' 'education' 'building a real estate'\n",
            " 'second-hand car purchase' 'transactions with commercial real estate'\n",
            " 'purchase of the house for my family' 'housing' 'housing transactions'\n",
            " 'having a wedding' 'buy residential real estate' 'profile education'\n",
            " 'university education' 'car' 'wedding ceremony' 'building a property'\n",
            " 'to own a car' 'buying a second-hand car' 'construction of own property'\n",
            " 'purchase of my own house' 'going to university' 'property'\n",
            " 'transactions with my real estate' 'buying property for renting out'\n",
            " 'purchase of a car' 'car purchase' 'getting higher education'\n",
            " 'supplementary education' 'to buy a car' 'buy real estate' 'cars'\n",
            " 'buy commercial real estate' 'purchase of the house'\n",
            " 'getting an education' 'real estate transactions' 'housing renovation'\n",
            " 'buying my own car' 'to become educated'\n",
            " 'to get a supplementary education']\n",
            "\n",
            "Ini adalah unique value kolom purpose dalam data asli:\n",
            "['purchase of the house' 'car purchase' 'supplementary education'\n",
            " 'to have a wedding' 'housing transactions' 'education' 'having a wedding'\n",
            " 'purchase of the house for my family' 'buy real estate'\n",
            " 'buy commercial real estate' 'buy residential real estate'\n",
            " 'construction of own property' 'property' 'building a property'\n",
            " 'buying a second-hand car' 'buying my own car'\n",
            " 'transactions with commercial real estate' 'building a real estate'\n",
            " 'housing' 'transactions with my real estate' 'cars' 'to become educated'\n",
            " 'second-hand car purchase' 'getting an education' 'car'\n",
            " 'wedding ceremony' 'to get a supplementary education'\n",
            " 'purchase of my own house' 'real estate transactions'\n",
            " 'getting higher education' 'to own a car' 'purchase of a car'\n",
            " 'profile education' 'university education'\n",
            " 'buying property for renting out' 'to buy a car' 'housing renovation'\n",
            " 'going to university']\n",
            "\n",
            "Ini adalah unique value kolom income_type dalam data_null:\n",
            "['retiree' 'civil servant' 'business' 'employee' 'entrepreneur']\n",
            "\n",
            "Ini adalah unique value kolom income_type dalam data asli:\n",
            "['employee' 'retiree' 'business' 'civil servant' 'unemployed'\n",
            " 'entrepreneur' 'student' 'paternity / maternity leave']\n"
          ]
        }
      ],
      "source": [
        "# Periksa penyebab dan pola lain yang dapat mengakibatkan nilai yang hilang\n",
        "# Pada kolom education di data_null tidak memiliki value graduate degree\n",
        "# Pada kolom gender tidak memiliki value XNA\n",
        "\n",
        "categorical_columns = ['children', 'education', 'family_status', 'gender', 'purpose', 'income_type']\n",
        "\n",
        "for i in categorical_columns:\n",
        "    print('\\nIni adalah unique value kolom %s dalam data_null:'%i)\n",
        "    print (data_null[i].unique())\n",
        "    print('\\nIni adalah unique value kolom %s dalam data asli:'%i)\n",
        "    print (data[i].unique())"
      ]
    },
    {
      "cell_type": "markdown",
      "metadata": {
        "id": "rANCzzJXxjOB"
      },
      "source": [
        "**Kesimpulan menengah**\n",
        "\n",
        "Tidak ditemukan pola tertentu, sepertinya mungkin saja hanya sistem yang error."
      ]
    },
    {
      "cell_type": "code",
      "execution_count": null,
      "metadata": {
        "scrolled": true,
        "id": "4pyvpBkfxjOB"
      },
      "outputs": [],
      "source": [
        "# Memeriksa pola lainnya - jelaskan pola tersebut\n",
        "# Sepertinya tidak ditemukan pola tertentu, mungkin saja hanya sistem yang error."
      ]
    },
    {
      "cell_type": "markdown",
      "metadata": {
        "id": "Vo-q0HdWxjOB"
      },
      "source": [
        "**Kesimpulan**\n",
        "\n",
        "Tidak ditemukan adanya suatu pola. Sepertinya memang sistem error sehingga datanya menjadi seperti ini.\n",
        "Untuk itu, kita akan melakukan pendekatan median atau mean (mana yang lebih sesuai) untuk mengatasi nilai-nilai yang hilang pada pada langkah selanjutnya.\n",
        "Selain itu kita juga akan memeriksa kolom lain untuk menemukan apakah ada data bermasalah, seperti data duplikat, register yang berbeda-beda, value yang tidak masuk akal, dll."
      ]
    },
    {
      "cell_type": "markdown",
      "metadata": {
        "id": "fjtUjY-kxjOB"
      },
      "source": [
        "# Pra-pemrosesan Data"
      ]
    },
    {
      "cell_type": "markdown",
      "source": [
        "## Gaya penulisan judul"
      ],
      "metadata": {
        "id": "Nw-R5c_90jpf"
      }
    },
    {
      "cell_type": "code",
      "execution_count": null,
      "metadata": {
        "scrolled": true,
        "id": "qI-LQRAPxjOC",
        "outputId": "8e2f531a-feeb-4e4e-bd7b-0d77cb9bfe35"
      },
      "outputs": [
        {
          "data": {
            "text/plain": [
              "[\"BACHELOR'S DEGREE\",\n",
              " \"Bachelor's Degree\",\n",
              " 'GRADUATE DEGREE',\n",
              " 'Graduate Degree',\n",
              " 'PRIMARY EDUCATION',\n",
              " 'Primary Education',\n",
              " 'SECONDARY EDUCATION',\n",
              " 'SOME COLLEGE',\n",
              " 'Secondary Education',\n",
              " 'Some College',\n",
              " \"bachelor's degree\",\n",
              " 'graduate degree',\n",
              " 'primary education',\n",
              " 'secondary education',\n",
              " 'some college']"
            ]
          },
          "execution_count": 14,
          "metadata": {},
          "output_type": "execute_result"
        }
      ],
      "source": [
        "# Mari kita lihat semua nilai di kolom education untuk memeriksa ejaan apa yang perlu diperbaiki\n",
        "sorted(data['education'].unique())"
      ]
    },
    {
      "cell_type": "code",
      "execution_count": null,
      "metadata": {
        "scrolled": true,
        "id": "zcDiP5OixjOC"
      },
      "outputs": [],
      "source": [
        "# Perbaiki register jika diperlukan\n",
        "data['education'] = data['education'].str.lower()"
      ]
    },
    {
      "cell_type": "code",
      "execution_count": null,
      "metadata": {
        "id": "tL8ASfp0xjOC",
        "outputId": "611fe2e7-852c-4bac-f87f-9ed460acc45a"
      },
      "outputs": [
        {
          "data": {
            "text/plain": [
              "[\"bachelor's degree\",\n",
              " 'graduate degree',\n",
              " 'primary education',\n",
              " 'secondary education',\n",
              " 'some college']"
            ]
          },
          "execution_count": 16,
          "metadata": {},
          "output_type": "execute_result"
        }
      ],
      "source": [
        "# Memeriksa semua nilai di kolom untuk memastikan kita telah memperbaikinya\n",
        "# Setelah diperbaiki, nilai di kolom education terlihat lebih jelas dimana hanya ada 4 jenis pendidikan\n",
        "\n",
        "sorted(data['education'].unique())"
      ]
    },
    {
      "cell_type": "markdown",
      "source": [
        "## Memeriksa Kualitas Data & Memperbaiki Data Anomali (Jika Ada)"
      ],
      "metadata": {
        "id": "E_eDs5NR0sDa"
      }
    },
    {
      "cell_type": "markdown",
      "source": [
        "### Kolom `children`"
      ],
      "metadata": {
        "id": "bZE_OdaL09Uu"
      }
    },
    {
      "cell_type": "code",
      "execution_count": null,
      "metadata": {
        "scrolled": false,
        "id": "FhdKjoonxjOC",
        "outputId": "30251089-95d0-4e0b-aa7a-061732170a7c"
      },
      "outputs": [
        {
          "name": "stdout",
          "output_type": "stream",
          "text": [
            " 0     14149\n",
            " 1      4818\n",
            " 2      2055\n",
            " 3       330\n",
            " 20       76\n",
            "-1        47\n",
            " 4        41\n",
            " 5         9\n",
            "Name: children, dtype: int64\n"
          ]
        }
      ],
      "source": [
        "# Mari kita lihat distribusi nilai pada kolom `children`\n",
        "print(data['children'].value_counts())\n"
      ]
    },
    {
      "cell_type": "code",
      "execution_count": null,
      "metadata": {
        "id": "pRdfLxgixjOC",
        "outputId": "b431da02-489d-434d-911c-445d90a5c9a9"
      },
      "outputs": [
        {
          "name": "stdout",
          "output_type": "stream",
          "text": [
            "123\n"
          ]
        }
      ],
      "source": [
        "# Menghitung jumlah value 20 dan -1 di kolom children\n",
        "\n",
        "print(len(data.loc[(data['children'] == 20) | (data['children'] == -1)]))"
      ]
    },
    {
      "cell_type": "code",
      "execution_count": null,
      "metadata": {
        "id": "p__i2FW2xjOC",
        "outputId": "7acc895e-771c-4c21-9210-29e983159c69"
      },
      "outputs": [
        {
          "data": {
            "text/plain": [
              "0.5714285714285714"
            ]
          },
          "execution_count": 19,
          "metadata": {},
          "output_type": "execute_result"
        }
      ],
      "source": [
        "# Menghitung persentase jumlah value 20 dan -1 di kolom children terhadap keseluruhan data\n",
        "\n",
        "len(data.loc[(data['children'] == 20) | (data['children'] == -1)]) / len(data) *100"
      ]
    },
    {
      "cell_type": "markdown",
      "metadata": {
        "id": "rJSaMxuRxjOW"
      },
      "source": [
        "Ada masalah pada kolom children, yaitu value 20 dan -1, yang berjumlah 0.5% dari total data. Bisa jadi ini terjadi karena ada error sistem sehingga data yang disediakan menjadi aneh. Karena total bermasalah tidak siginifikan, maka akan diperbaiki dengan menggantinya menjadi 0."
      ]
    },
    {
      "cell_type": "code",
      "execution_count": null,
      "metadata": {
        "id": "Nb5h2F6IxjOW"
      },
      "outputs": [],
      "source": [
        "# [perbaiki data berdasarkan keputusan Anda]\n",
        "data.loc[data['children'] == 20, 'children'] = 0\n",
        "data.loc[data['children'] == -1, 'children'] = 0"
      ]
    },
    {
      "cell_type": "code",
      "execution_count": null,
      "metadata": {
        "scrolled": false,
        "id": "OoFcD2AJxjOW",
        "outputId": "a94f9631-0a19-4577-9690-46b6ca89b242"
      },
      "outputs": [
        {
          "data": {
            "text/plain": [
              "0    14272\n",
              "1     4818\n",
              "2     2055\n",
              "3      330\n",
              "4       41\n",
              "5        9\n",
              "Name: children, dtype: int64"
            ]
          },
          "execution_count": 21,
          "metadata": {},
          "output_type": "execute_result"
        }
      ],
      "source": [
        "# Periksa kembali kolom `children` untuk memastikan semua telah diperbaiki\n",
        "data['children'].value_counts()\n"
      ]
    },
    {
      "cell_type": "markdown",
      "source": [
        "### Kolom `days_employed`"
      ],
      "metadata": {
        "id": "FtcjGZZR1Jkf"
      }
    },
    {
      "cell_type": "code",
      "execution_count": null,
      "metadata": {
        "scrolled": false,
        "id": "2SI9LdBFxjOW",
        "outputId": "c8befa06-a805-4e64-dca8-774f87505f12"
      },
      "outputs": [
        {
          "name": "stdout",
          "output_type": "stream",
          "text": [
            "0        -23.116912\n",
            "1        -11.026860\n",
            "2        -15.406637\n",
            "3        -11.300677\n",
            "4        932.235814\n",
            "            ...    \n",
            "21520    -12.409087\n",
            "21521    942.294258\n",
            "21522     -5.789991\n",
            "21523     -8.527347\n",
            "21524     -5.437007\n",
            "Name: days_employed, Length: 21525, dtype: float64\n"
          ]
        }
      ],
      "source": [
        "# Temukan data yang bermasalah di `days_employed`, jika terdapat masalah, dan hitung persentasenya\n",
        "\n",
        "print(data['days_employed'] / 365)\n"
      ]
    },
    {
      "cell_type": "code",
      "execution_count": null,
      "metadata": {
        "id": "hGRLQR63xjOW",
        "outputId": "b7bf7e1e-1ca3-43e9-fb35-639b0ebadf0d"
      },
      "outputs": [
        {
          "data": {
            "text/plain": [
              "73.89547038327527"
            ]
          },
          "execution_count": 23,
          "metadata": {},
          "output_type": "execute_result"
        }
      ],
      "source": [
        "# hitung persentase yang bermasalah\n",
        "\n",
        "len(data.loc[(data['days_employed'] < 0)]) / len(data) * 100"
      ]
    },
    {
      "cell_type": "code",
      "execution_count": null,
      "metadata": {
        "id": "aLrwAySnxjOW"
      },
      "outputs": [],
      "source": [
        "# Atasi nilai yang bermasalah, jika ada\n",
        "# 1. mengatasi nilai yang minus karena lama bekerja tidak mungkin minus\n",
        "# 2. mengatasi nilai yang terlalu besar / tidak masuk akal > 16790 hari = 46 tahun\n",
        "    # asumsi mulai  bekerja umur 19 tahun dan pensiun max umur 65 tahun\n",
        "    # untuk dob_years yang >65 tahun, nilai days_employed nya diganti menjadi 16790 (asumsi max pensiun umur 65 tahun)\n",
        "    # untuk dob_years yang 0 tahun, maka nilai days_employed diganti dengan median days_employed\n",
        "    \n",
        "data['days_employed'] = data['days_employed'].abs()\n",
        "data.loc[(data['days_employed'] > 16790) & (data['dob_years'] >= 19) & (data['dob_years'] < 66), 'days_employed'] = (data['dob_years'] - 19) * 365\n",
        "data.loc[(data['dob_years'] > 65), 'days_employed'] = 16790\n",
        "data.loc[(data['dob_years'] == 0), 'days_employed'] = data['days_employed'].median()\n"
      ]
    },
    {
      "cell_type": "code",
      "execution_count": null,
      "metadata": {
        "scrolled": true,
        "id": "X6ljRtluxjOW",
        "outputId": "990f89e5-afcf-42a7-cd6d-de958b851427"
      },
      "outputs": [
        {
          "name": "stdout",
          "output_type": "stream",
          "text": [
            "0        23.116912\n",
            "1        11.026860\n",
            "2        15.406637\n",
            "3        11.300677\n",
            "4        34.000000\n",
            "           ...    \n",
            "21520    12.409087\n",
            "21521    46.000000\n",
            "21522     5.789991\n",
            "21523     8.527347\n",
            "21524     5.437007\n",
            "Name: days_employed, Length: 21525, dtype: float64\n"
          ]
        }
      ],
      "source": [
        "# Periksa hasilnya - pastikan telah diperbaiki\n",
        "\n",
        "print(data['days_employed'] / 365)"
      ]
    },
    {
      "cell_type": "code",
      "execution_count": null,
      "metadata": {
        "id": "86-Pt5TnxjOX",
        "outputId": "64144d97-fe14-4fb8-87d1-90e4e12a7c98"
      },
      "outputs": [
        {
          "name": "stdout",
          "output_type": "stream",
          "text": [
            "0.0\n"
          ]
        }
      ],
      "source": [
        "# Untuk memeriksa hasil tidak ada lagi days_employed dengan nilai negatif\n",
        "print(len(data.loc[(data['days_employed'] < 0)]) / len(data) * 100)"
      ]
    },
    {
      "cell_type": "code",
      "execution_count": null,
      "metadata": {
        "id": "MipSPzIaxjOX",
        "outputId": "3724e880-b2a9-42ef-d217-4cef2f29a82a"
      },
      "outputs": [
        {
          "data": {
            "text/plain": [
              "0.0"
            ]
          },
          "execution_count": 27,
          "metadata": {},
          "output_type": "execute_result"
        }
      ],
      "source": [
        "# Untuk memeriksa hasil tidak ada lagi days_employed dengan nilai terlalu besar / tidak masuk akal\n",
        "len(data.loc[(data['days_employed'] > 16790)]) / len(data) * 100"
      ]
    },
    {
      "cell_type": "markdown",
      "source": [
        "### Kolom `dob_years`"
      ],
      "metadata": {
        "id": "kcuKvhHD1Rqm"
      }
    },
    {
      "cell_type": "code",
      "execution_count": null,
      "metadata": {
        "scrolled": true,
        "id": "Vve4znKwxjOX",
        "outputId": "7e0d4aaf-1bc5-40e6-c6b3-baf13ecba81a"
      },
      "outputs": [
        {
          "name": "stdout",
          "output_type": "stream",
          "text": [
            "75      1\n",
            "74      6\n",
            "73      8\n",
            "19     14\n",
            "72     33\n",
            "20     51\n",
            "71     58\n",
            "70     65\n",
            "69     85\n",
            "68     99\n",
            "0     101\n",
            "21    111\n",
            "67    167\n",
            "22    183\n",
            "66    183\n",
            "65    194\n",
            "23    254\n",
            "24    264\n",
            "64    265\n",
            "63    269\n",
            "62    352\n",
            "61    355\n",
            "25    357\n",
            "60    377\n",
            "26    408\n",
            "55    443\n",
            "59    444\n",
            "51    448\n",
            "53    459\n",
            "57    460\n",
            "58    461\n",
            "46    475\n",
            "54    479\n",
            "47    480\n",
            "52    484\n",
            "56    487\n",
            "27    493\n",
            "45    497\n",
            "28    503\n",
            "49    508\n",
            "32    510\n",
            "43    513\n",
            "50    514\n",
            "37    537\n",
            "48    538\n",
            "30    540\n",
            "29    545\n",
            "44    547\n",
            "36    555\n",
            "31    560\n",
            "39    573\n",
            "33    581\n",
            "42    597\n",
            "38    598\n",
            "34    603\n",
            "41    607\n",
            "40    609\n",
            "35    617\n",
            "Name: dob_years, dtype: int64\n"
          ]
        }
      ],
      "source": [
        "# Periksa `dob_years` untuk nilai yang mencurigakan dan hitung persentasenya\n",
        "\n",
        "print(data['dob_years'].value_counts().sort_values())"
      ]
    },
    {
      "cell_type": "code",
      "execution_count": null,
      "metadata": {
        "id": "AJ7ZOPM3xjOX",
        "outputId": "452d8979-68bc-499f-f348-c563f7caada3"
      },
      "outputs": [
        {
          "data": {
            "text/plain": [
              "0.4692218350754936"
            ]
          },
          "execution_count": 29,
          "metadata": {},
          "output_type": "execute_result"
        }
      ],
      "source": [
        "# menhitung persentase nilai mencurigakan\n",
        "len(data.loc[(data['dob_years'] < 19)]) / len(data) * 100"
      ]
    },
    {
      "cell_type": "markdown",
      "metadata": {
        "id": "_qKPlWX8xjOX"
      },
      "source": [
        "Persentase nilai bermasalah pada umur < 19 tahun hanya 0.46%. Namun, kita tetap akan menggantinya menjadi minimum 19 tahun (minimum umur yang ada dalam dataset adalah 19 tahun). Karena umur ini akan digunakan juga untuk mengatasi masalah diatas pada kolom days_employed yang memiliki jumlah hari bekerja tidak masuk akal > 16790 hari."
      ]
    },
    {
      "cell_type": "code",
      "execution_count": null,
      "metadata": {
        "id": "jXUufplmxjOX"
      },
      "outputs": [],
      "source": [
        "# Atasi masalah pada kolom `dob_years`\n",
        "\n",
        "data.loc[data['dob_years'] == 0, 'dob_years'] = 19"
      ]
    },
    {
      "cell_type": "code",
      "execution_count": null,
      "metadata": {
        "scrolled": true,
        "id": "UvoELu4IxjOX",
        "outputId": "58c9974a-208d-4850-fe3b-d89632e52157"
      },
      "outputs": [
        {
          "data": {
            "text/plain": [
              "75      1\n",
              "74      6\n",
              "73      8\n",
              "72     33\n",
              "20     51\n",
              "71     58\n",
              "70     65\n",
              "69     85\n",
              "68     99\n",
              "21    111\n",
              "19    115\n",
              "67    167\n",
              "66    183\n",
              "22    183\n",
              "65    194\n",
              "23    254\n",
              "24    264\n",
              "64    265\n",
              "63    269\n",
              "62    352\n",
              "61    355\n",
              "25    357\n",
              "60    377\n",
              "26    408\n",
              "55    443\n",
              "59    444\n",
              "51    448\n",
              "53    459\n",
              "57    460\n",
              "58    461\n",
              "46    475\n",
              "54    479\n",
              "47    480\n",
              "52    484\n",
              "56    487\n",
              "27    493\n",
              "45    497\n",
              "28    503\n",
              "49    508\n",
              "32    510\n",
              "43    513\n",
              "50    514\n",
              "37    537\n",
              "48    538\n",
              "30    540\n",
              "29    545\n",
              "44    547\n",
              "36    555\n",
              "31    560\n",
              "39    573\n",
              "33    581\n",
              "42    597\n",
              "38    598\n",
              "34    603\n",
              "41    607\n",
              "40    609\n",
              "35    617\n",
              "Name: dob_years, dtype: int64"
            ]
          },
          "execution_count": 31,
          "metadata": {},
          "output_type": "execute_result"
        }
      ],
      "source": [
        "# Periksa hasilnya - pastikan telah diperbaiki\n",
        "data['dob_years'].value_counts().sort_values()"
      ]
    },
    {
      "cell_type": "markdown",
      "source": [
        "### Kolom `family_status`"
      ],
      "metadata": {
        "id": "HtpnO2dQ1dCT"
      }
    },
    {
      "cell_type": "code",
      "execution_count": null,
      "metadata": {
        "id": "OZlRXgEzxjOX",
        "outputId": "c57326d0-4fd1-4839-84c8-8ecfb0321533"
      },
      "outputs": [
        {
          "data": {
            "text/plain": [
              "married              12380\n",
              "civil partnership     4177\n",
              "unmarried             2813\n",
              "divorced              1195\n",
              "widow / widower        960\n",
              "Name: family_status, dtype: int64"
            ]
          },
          "execution_count": 32,
          "metadata": {},
          "output_type": "execute_result"
        }
      ],
      "source": [
        "# Mari kita lihat nilai untuk kolom\n",
        "\n",
        "data['family_status'].value_counts()"
      ]
    },
    {
      "cell_type": "markdown",
      "source": [
        "Tidak ada data bermasalah pada kolom `family_status`."
      ],
      "metadata": {
        "id": "e2vE4c441jOW"
      }
    },
    {
      "cell_type": "markdown",
      "source": [
        "### Kolom `gender`"
      ],
      "metadata": {
        "id": "-5rvY24r1qU8"
      }
    },
    {
      "cell_type": "code",
      "execution_count": null,
      "metadata": {
        "id": "AFLvy4L4xjOX",
        "outputId": "c70c404c-f3ad-45f9-e817-2c6c4913d679"
      },
      "outputs": [
        {
          "data": {
            "text/plain": [
              "F      14236\n",
              "M       7288\n",
              "XNA        1\n",
              "Name: gender, dtype: int64"
            ]
          },
          "execution_count": 35,
          "metadata": {},
          "output_type": "execute_result"
        }
      ],
      "source": [
        "# Mari kita melihat nilainya di kolom\n",
        "data['gender'].value_counts()"
      ]
    },
    {
      "cell_type": "code",
      "execution_count": null,
      "metadata": {
        "id": "pBvKrkXFxjOY"
      },
      "outputs": [],
      "source": [
        "# Atasi nilai-nilai yang bermasalah, jika ada\n",
        "data.loc[data['gender'] == 'XNA', 'gender'] = 'unknown'"
      ]
    },
    {
      "cell_type": "code",
      "execution_count": null,
      "metadata": {
        "id": "QMnVI9UdxjOY",
        "outputId": "28b1ea59-2ea2-4f5b-a892-8fc849e54802"
      },
      "outputs": [
        {
          "data": {
            "text/plain": [
              "F          14236\n",
              "M           7288\n",
              "unknown        1\n",
              "Name: gender, dtype: int64"
            ]
          },
          "execution_count": 37,
          "metadata": {},
          "output_type": "execute_result"
        }
      ],
      "source": [
        "# Periksa hasilnya - pastikan telah diperbaiki\n",
        "data['gender'].value_counts()\n"
      ]
    },
    {
      "cell_type": "markdown",
      "source": [
        "### Kolom `income_type`"
      ],
      "metadata": {
        "id": "Fw7skCoH1xtp"
      }
    },
    {
      "cell_type": "code",
      "execution_count": null,
      "metadata": {
        "id": "LjsAOn06xjOY",
        "outputId": "0733be6a-e5c2-4bef-fb12-9c055d53f5c9"
      },
      "outputs": [
        {
          "data": {
            "text/plain": [
              "employee                       11119\n",
              "business                        5085\n",
              "retiree                         3856\n",
              "civil servant                   1459\n",
              "unemployed                         2\n",
              "entrepreneur                       2\n",
              "paternity / maternity leave        1\n",
              "student                            1\n",
              "Name: income_type, dtype: int64"
            ]
          },
          "execution_count": 38,
          "metadata": {},
          "output_type": "execute_result"
        }
      ],
      "source": [
        "# Mari kita lihat nilai dalam kolom\n",
        "data['income_type'].value_counts()"
      ]
    },
    {
      "cell_type": "markdown",
      "source": [
        "Tidak ada data bermasalah pada kolom `income_type`."
      ],
      "metadata": {
        "id": "7bezjltb14GL"
      }
    },
    {
      "cell_type": "markdown",
      "source": [
        "## Memeriksa Data Duplikat"
      ],
      "metadata": {
        "id": "gYu87WxI2SsS"
      }
    },
    {
      "cell_type": "code",
      "execution_count": null,
      "metadata": {
        "id": "TIzX1s1rxjOY",
        "outputId": "b61c56c3-7fb7-4f2e-85e2-7e72d78b477f"
      },
      "outputs": [
        {
          "data": {
            "text/plain": [
              "71"
            ]
          },
          "execution_count": 41,
          "metadata": {},
          "output_type": "execute_result"
        }
      ],
      "source": [
        "# Memeriksa duplikat\n",
        "data.duplicated().sum()\n"
      ]
    },
    {
      "cell_type": "code",
      "execution_count": null,
      "metadata": {
        "id": "0pd0bJ6RxjOY"
      },
      "outputs": [],
      "source": [
        "# Atasi duplikat, jika ada\n",
        "data = data.drop_duplicates().reset_index(drop=True)\n"
      ]
    },
    {
      "cell_type": "code",
      "execution_count": null,
      "metadata": {
        "id": "0Kuw7O-3xjOY",
        "outputId": "afa828e0-dae5-44a1-fcb7-aa4c345974fa"
      },
      "outputs": [
        {
          "data": {
            "text/plain": [
              "0"
            ]
          },
          "execution_count": 43,
          "metadata": {},
          "output_type": "execute_result"
        }
      ],
      "source": [
        "# Terakhir periksa apakah kita masih memiliki duplikat\n",
        "data.duplicated().sum()"
      ]
    },
    {
      "cell_type": "code",
      "execution_count": null,
      "metadata": {
        "scrolled": true,
        "id": "_GDkT8QxxjOY",
        "outputId": "455cbcdb-0194-4896-a7c9-4728635264e1"
      },
      "outputs": [
        {
          "name": "stdout",
          "output_type": "stream",
          "text": [
            "<class 'pandas.core.frame.DataFrame'>\n",
            "RangeIndex: 21454 entries, 0 to 21453\n",
            "Data columns (total 12 columns):\n",
            " #   Column            Non-Null Count  Dtype  \n",
            "---  ------            --------------  -----  \n",
            " 0   children          21454 non-null  int64  \n",
            " 1   days_employed     19419 non-null  float64\n",
            " 2   dob_years         21454 non-null  int64  \n",
            " 3   education         21454 non-null  object \n",
            " 4   education_id      21454 non-null  int64  \n",
            " 5   family_status     21454 non-null  object \n",
            " 6   family_status_id  21454 non-null  int64  \n",
            " 7   gender            21454 non-null  object \n",
            " 8   income_type       21454 non-null  object \n",
            " 9   debt              21454 non-null  int64  \n",
            " 10  total_income      19351 non-null  float64\n",
            " 11  purpose           21454 non-null  object \n",
            "dtypes: float64(2), int64(5), object(5)\n",
            "memory usage: 2.0+ MB\n"
          ]
        }
      ],
      "source": [
        "# Periksa ukuran dataset yang sekarang Anda miliki setelah manipulasi pertama yang telah lakukan\n",
        "data.info()"
      ]
    },
    {
      "cell_type": "code",
      "execution_count": null,
      "metadata": {
        "id": "1luuVhgkxjOY",
        "outputId": "f600a29e-d36a-4252-9dce-ce7dc3d908f0"
      },
      "outputs": [
        {
          "data": {
            "text/plain": [
              "0.0035140302826727303"
            ]
          },
          "execution_count": 45,
          "metadata": {},
          "output_type": "execute_result"
        }
      ],
      "source": [
        "# Persentase perubahan kolom days_employed setelah manipulasi pertama diatas \n",
        "(19419 - 19351) / 19351"
      ]
    },
    {
      "cell_type": "markdown",
      "metadata": {
        "id": "MS92bDS4xjOY"
      },
      "source": [
        "**Ksimpulan Menengah**\n",
        "\n",
        "Sekarang dataset kita memiliki perubahan, dimana jumlah kolom `days_employed` tidak lagi sama dengan `total_income`. Hal ini dikarenakan kita sudah memanipulasi data `days_employed` yang jika umurnya 0, maka `days_employed` diganti dengan nilai median `days_employed`. % perubahannya sangat kecil, hanya 0.35%."
      ]
    },
    {
      "cell_type": "markdown",
      "metadata": {
        "id": "iC3fB64VxjOZ"
      },
      "source": [
        "## Bekerja dengan nilai yang hilang"
      ]
    },
    {
      "cell_type": "code",
      "execution_count": null,
      "metadata": {
        "scrolled": true,
        "id": "JemBWBuTxjOZ",
        "outputId": "90ed3f84-501e-4bdc-d7d8-9fbe47f4d53c"
      },
      "outputs": [
        {
          "data": {
            "text/plain": [
              "[19,\n",
              " 20,\n",
              " 21,\n",
              " 22,\n",
              " 23,\n",
              " 24,\n",
              " 25,\n",
              " 26,\n",
              " 27,\n",
              " 28,\n",
              " 29,\n",
              " 30,\n",
              " 31,\n",
              " 32,\n",
              " 33,\n",
              " 34,\n",
              " 35,\n",
              " 36,\n",
              " 37,\n",
              " 38,\n",
              " 39,\n",
              " 40,\n",
              " 41,\n",
              " 42,\n",
              " 43,\n",
              " 44,\n",
              " 45,\n",
              " 46,\n",
              " 47,\n",
              " 48,\n",
              " 49,\n",
              " 50,\n",
              " 51,\n",
              " 52,\n",
              " 53,\n",
              " 54,\n",
              " 55,\n",
              " 56,\n",
              " 57,\n",
              " 58,\n",
              " 59,\n",
              " 60,\n",
              " 61,\n",
              " 62,\n",
              " 63,\n",
              " 64,\n",
              " 65,\n",
              " 66,\n",
              " 67,\n",
              " 68,\n",
              " 69,\n",
              " 70,\n",
              " 71,\n",
              " 72,\n",
              " 73,\n",
              " 74,\n",
              " 75]"
            ]
          },
          "execution_count": 46,
          "metadata": {},
          "output_type": "execute_result"
        }
      ],
      "source": [
        "# Temukan dictionary\n",
        "\n",
        "sorted(data['dob_years'].unique())"
      ]
    },
    {
      "cell_type": "markdown",
      "metadata": {
        "id": "UdfEA14PxjOZ"
      },
      "source": [
        "### Memperbaiki nilai yang hilang di `total_income`"
      ]
    },
    {
      "cell_type": "markdown",
      "metadata": {
        "id": "k3onwvsexjOZ"
      },
      "source": [
        "Kolom `total_income` memiliki nilai yang hilang dan akan diatasi dengan menggantinya dengan nilai median ke kolom baru.\n"
      ]
    },
    {
      "cell_type": "code",
      "execution_count": null,
      "metadata": {
        "id": "mKifISfTxjOZ"
      },
      "outputs": [],
      "source": [
        "# Mari menulis fungsi untuk menghitung kategori usia\n",
        "data['dob_years'] = pd.to_numeric(data['dob_years'], errors='coerce')\n",
        "\n",
        "age = data['dob_years']\n",
        "def assign_age_group(age):\n",
        "    if age < 26:\n",
        "        return '1-25 tahun'\n",
        "    elif age < 36:\n",
        "        return '26-35 tahun'\n",
        "    elif age < 46:\n",
        "        return '36-45 tahun'\n",
        "    elif age < 56:\n",
        "        return '46-55 tahun'\n",
        "    elif age < 66:\n",
        "        return '56-65 tahun'\n",
        "    else:\n",
        "        return '66 tahun keatas'"
      ]
    },
    {
      "cell_type": "code",
      "execution_count": null,
      "metadata": {
        "id": "bftTA3htxjOZ",
        "outputId": "1714dfd0-c757-49a6-e012-beb0d3256bea"
      },
      "outputs": [
        {
          "data": {
            "text/plain": [
              "'1-25 tahun'"
            ]
          },
          "execution_count": 48,
          "metadata": {},
          "output_type": "execute_result"
        }
      ],
      "source": [
        "# Lakukan pengujian apakah fungsi bekerja atau tidak\n",
        "assign_age_group(25)"
      ]
    },
    {
      "cell_type": "code",
      "execution_count": null,
      "metadata": {
        "id": "x89h3Oi5xjOZ",
        "outputId": "3d88de3b-c4e5-43a6-8002-944428eead47"
      },
      "outputs": [
        {
          "data": {
            "text/html": [
              "<div>\n",
              "<style scoped>\n",
              "    .dataframe tbody tr th:only-of-type {\n",
              "        vertical-align: middle;\n",
              "    }\n",
              "\n",
              "    .dataframe tbody tr th {\n",
              "        vertical-align: top;\n",
              "    }\n",
              "\n",
              "    .dataframe thead th {\n",
              "        text-align: right;\n",
              "    }\n",
              "</style>\n",
              "<table border=\"1\" class=\"dataframe\">\n",
              "  <thead>\n",
              "    <tr style=\"text-align: right;\">\n",
              "      <th></th>\n",
              "      <th>children</th>\n",
              "      <th>days_employed</th>\n",
              "      <th>dob_years</th>\n",
              "      <th>education</th>\n",
              "      <th>education_id</th>\n",
              "      <th>family_status</th>\n",
              "      <th>family_status_id</th>\n",
              "      <th>gender</th>\n",
              "      <th>income_type</th>\n",
              "      <th>debt</th>\n",
              "      <th>total_income</th>\n",
              "      <th>purpose</th>\n",
              "      <th>age_group</th>\n",
              "    </tr>\n",
              "  </thead>\n",
              "  <tbody>\n",
              "    <tr>\n",
              "      <th>0</th>\n",
              "      <td>1</td>\n",
              "      <td>8437.673028</td>\n",
              "      <td>42</td>\n",
              "      <td>bachelor's degree</td>\n",
              "      <td>0</td>\n",
              "      <td>married</td>\n",
              "      <td>0</td>\n",
              "      <td>F</td>\n",
              "      <td>employee</td>\n",
              "      <td>0</td>\n",
              "      <td>40620.102</td>\n",
              "      <td>purchase of the house</td>\n",
              "      <td>36-45 tahun</td>\n",
              "    </tr>\n",
              "    <tr>\n",
              "      <th>1</th>\n",
              "      <td>1</td>\n",
              "      <td>4024.803754</td>\n",
              "      <td>36</td>\n",
              "      <td>secondary education</td>\n",
              "      <td>1</td>\n",
              "      <td>married</td>\n",
              "      <td>0</td>\n",
              "      <td>F</td>\n",
              "      <td>employee</td>\n",
              "      <td>0</td>\n",
              "      <td>17932.802</td>\n",
              "      <td>car purchase</td>\n",
              "      <td>36-45 tahun</td>\n",
              "    </tr>\n",
              "    <tr>\n",
              "      <th>2</th>\n",
              "      <td>0</td>\n",
              "      <td>5623.422610</td>\n",
              "      <td>33</td>\n",
              "      <td>secondary education</td>\n",
              "      <td>1</td>\n",
              "      <td>married</td>\n",
              "      <td>0</td>\n",
              "      <td>M</td>\n",
              "      <td>employee</td>\n",
              "      <td>0</td>\n",
              "      <td>23341.752</td>\n",
              "      <td>purchase of the house</td>\n",
              "      <td>26-35 tahun</td>\n",
              "    </tr>\n",
              "    <tr>\n",
              "      <th>3</th>\n",
              "      <td>3</td>\n",
              "      <td>4124.747207</td>\n",
              "      <td>32</td>\n",
              "      <td>secondary education</td>\n",
              "      <td>1</td>\n",
              "      <td>married</td>\n",
              "      <td>0</td>\n",
              "      <td>M</td>\n",
              "      <td>employee</td>\n",
              "      <td>0</td>\n",
              "      <td>42820.568</td>\n",
              "      <td>supplementary education</td>\n",
              "      <td>26-35 tahun</td>\n",
              "    </tr>\n",
              "    <tr>\n",
              "      <th>4</th>\n",
              "      <td>0</td>\n",
              "      <td>12410.000000</td>\n",
              "      <td>53</td>\n",
              "      <td>secondary education</td>\n",
              "      <td>1</td>\n",
              "      <td>civil partnership</td>\n",
              "      <td>1</td>\n",
              "      <td>F</td>\n",
              "      <td>retiree</td>\n",
              "      <td>0</td>\n",
              "      <td>25378.572</td>\n",
              "      <td>to have a wedding</td>\n",
              "      <td>46-55 tahun</td>\n",
              "    </tr>\n",
              "  </tbody>\n",
              "</table>\n",
              "</div>"
            ],
            "text/plain": [
              "   children  days_employed  dob_years            education  education_id  \\\n",
              "0         1    8437.673028         42    bachelor's degree             0   \n",
              "1         1    4024.803754         36  secondary education             1   \n",
              "2         0    5623.422610         33  secondary education             1   \n",
              "3         3    4124.747207         32  secondary education             1   \n",
              "4         0   12410.000000         53  secondary education             1   \n",
              "\n",
              "       family_status  family_status_id gender income_type  debt  total_income  \\\n",
              "0            married                 0      F    employee     0     40620.102   \n",
              "1            married                 0      F    employee     0     17932.802   \n",
              "2            married                 0      M    employee     0     23341.752   \n",
              "3            married                 0      M    employee     0     42820.568   \n",
              "4  civil partnership                 1      F     retiree     0     25378.572   \n",
              "\n",
              "                   purpose    age_group  \n",
              "0    purchase of the house  36-45 tahun  \n",
              "1             car purchase  36-45 tahun  \n",
              "2    purchase of the house  26-35 tahun  \n",
              "3  supplementary education  26-35 tahun  \n",
              "4        to have a wedding  46-55 tahun  "
            ]
          },
          "execution_count": 49,
          "metadata": {},
          "output_type": "execute_result"
        }
      ],
      "source": [
        "# Membuat kolom baru berdasarkan fungsi\n",
        "    \n",
        "data['age_group'] = data['dob_years'].apply(assign_age_group) \n",
        "data.head()"
      ]
    },
    {
      "cell_type": "code",
      "execution_count": null,
      "metadata": {
        "id": "MHwF9R_UxjOZ",
        "outputId": "08d290ad-1a33-4026-9e48-b2381f68af91"
      },
      "outputs": [
        {
          "data": {
            "text/plain": [
              "36-45 tahun        5620\n",
              "26-35 tahun        5351\n",
              "46-55 tahun        4814\n",
              "56-65 tahun        3634\n",
              "1-25 tahun         1333\n",
              "66 tahun keatas     702\n",
              "Name: age_group, dtype: int64"
            ]
          },
          "execution_count": 50,
          "metadata": {},
          "output_type": "execute_result"
        }
      ],
      "source": [
        "# Memeriksa bagaimana nilai di dalam kolom baru\n",
        "\n",
        "data['age_group'].value_counts()"
      ]
    },
    {
      "cell_type": "code",
      "execution_count": null,
      "metadata": {
        "id": "HO3AUQB3xjOZ",
        "outputId": "6296b3a6-80ce-4809-87f7-08046815ab2f"
      },
      "outputs": [
        {
          "data": {
            "text/html": [
              "<div>\n",
              "<style scoped>\n",
              "    .dataframe tbody tr th:only-of-type {\n",
              "        vertical-align: middle;\n",
              "    }\n",
              "\n",
              "    .dataframe tbody tr th {\n",
              "        vertical-align: top;\n",
              "    }\n",
              "\n",
              "    .dataframe thead th {\n",
              "        text-align: right;\n",
              "    }\n",
              "</style>\n",
              "<table border=\"1\" class=\"dataframe\">\n",
              "  <thead>\n",
              "    <tr style=\"text-align: right;\">\n",
              "      <th></th>\n",
              "      <th>children</th>\n",
              "      <th>days_employed</th>\n",
              "      <th>dob_years</th>\n",
              "      <th>education</th>\n",
              "      <th>education_id</th>\n",
              "      <th>family_status</th>\n",
              "      <th>family_status_id</th>\n",
              "      <th>gender</th>\n",
              "      <th>income_type</th>\n",
              "      <th>debt</th>\n",
              "      <th>total_income</th>\n",
              "      <th>purpose</th>\n",
              "      <th>age_group</th>\n",
              "    </tr>\n",
              "  </thead>\n",
              "  <tbody>\n",
              "    <tr>\n",
              "      <th>0</th>\n",
              "      <td>1</td>\n",
              "      <td>8437.673028</td>\n",
              "      <td>42</td>\n",
              "      <td>bachelor's degree</td>\n",
              "      <td>0</td>\n",
              "      <td>married</td>\n",
              "      <td>0</td>\n",
              "      <td>F</td>\n",
              "      <td>employee</td>\n",
              "      <td>0</td>\n",
              "      <td>40620.102</td>\n",
              "      <td>purchase of the house</td>\n",
              "      <td>36-45 tahun</td>\n",
              "    </tr>\n",
              "    <tr>\n",
              "      <th>1</th>\n",
              "      <td>1</td>\n",
              "      <td>4024.803754</td>\n",
              "      <td>36</td>\n",
              "      <td>secondary education</td>\n",
              "      <td>1</td>\n",
              "      <td>married</td>\n",
              "      <td>0</td>\n",
              "      <td>F</td>\n",
              "      <td>employee</td>\n",
              "      <td>0</td>\n",
              "      <td>17932.802</td>\n",
              "      <td>car purchase</td>\n",
              "      <td>36-45 tahun</td>\n",
              "    </tr>\n",
              "    <tr>\n",
              "      <th>2</th>\n",
              "      <td>0</td>\n",
              "      <td>5623.422610</td>\n",
              "      <td>33</td>\n",
              "      <td>secondary education</td>\n",
              "      <td>1</td>\n",
              "      <td>married</td>\n",
              "      <td>0</td>\n",
              "      <td>M</td>\n",
              "      <td>employee</td>\n",
              "      <td>0</td>\n",
              "      <td>23341.752</td>\n",
              "      <td>purchase of the house</td>\n",
              "      <td>26-35 tahun</td>\n",
              "    </tr>\n",
              "    <tr>\n",
              "      <th>3</th>\n",
              "      <td>3</td>\n",
              "      <td>4124.747207</td>\n",
              "      <td>32</td>\n",
              "      <td>secondary education</td>\n",
              "      <td>1</td>\n",
              "      <td>married</td>\n",
              "      <td>0</td>\n",
              "      <td>M</td>\n",
              "      <td>employee</td>\n",
              "      <td>0</td>\n",
              "      <td>42820.568</td>\n",
              "      <td>supplementary education</td>\n",
              "      <td>26-35 tahun</td>\n",
              "    </tr>\n",
              "    <tr>\n",
              "      <th>4</th>\n",
              "      <td>0</td>\n",
              "      <td>12410.000000</td>\n",
              "      <td>53</td>\n",
              "      <td>secondary education</td>\n",
              "      <td>1</td>\n",
              "      <td>civil partnership</td>\n",
              "      <td>1</td>\n",
              "      <td>F</td>\n",
              "      <td>retiree</td>\n",
              "      <td>0</td>\n",
              "      <td>25378.572</td>\n",
              "      <td>to have a wedding</td>\n",
              "      <td>46-55 tahun</td>\n",
              "    </tr>\n",
              "    <tr>\n",
              "      <th>...</th>\n",
              "      <td>...</td>\n",
              "      <td>...</td>\n",
              "      <td>...</td>\n",
              "      <td>...</td>\n",
              "      <td>...</td>\n",
              "      <td>...</td>\n",
              "      <td>...</td>\n",
              "      <td>...</td>\n",
              "      <td>...</td>\n",
              "      <td>...</td>\n",
              "      <td>...</td>\n",
              "      <td>...</td>\n",
              "      <td>...</td>\n",
              "    </tr>\n",
              "    <tr>\n",
              "      <th>21449</th>\n",
              "      <td>1</td>\n",
              "      <td>4529.316663</td>\n",
              "      <td>43</td>\n",
              "      <td>secondary education</td>\n",
              "      <td>1</td>\n",
              "      <td>civil partnership</td>\n",
              "      <td>1</td>\n",
              "      <td>F</td>\n",
              "      <td>business</td>\n",
              "      <td>0</td>\n",
              "      <td>35966.698</td>\n",
              "      <td>housing transactions</td>\n",
              "      <td>36-45 tahun</td>\n",
              "    </tr>\n",
              "    <tr>\n",
              "      <th>21450</th>\n",
              "      <td>0</td>\n",
              "      <td>16790.000000</td>\n",
              "      <td>67</td>\n",
              "      <td>secondary education</td>\n",
              "      <td>1</td>\n",
              "      <td>married</td>\n",
              "      <td>0</td>\n",
              "      <td>F</td>\n",
              "      <td>retiree</td>\n",
              "      <td>0</td>\n",
              "      <td>24959.969</td>\n",
              "      <td>purchase of a car</td>\n",
              "      <td>66 tahun keatas</td>\n",
              "    </tr>\n",
              "    <tr>\n",
              "      <th>21451</th>\n",
              "      <td>1</td>\n",
              "      <td>2113.346888</td>\n",
              "      <td>38</td>\n",
              "      <td>secondary education</td>\n",
              "      <td>1</td>\n",
              "      <td>civil partnership</td>\n",
              "      <td>1</td>\n",
              "      <td>M</td>\n",
              "      <td>employee</td>\n",
              "      <td>1</td>\n",
              "      <td>14347.610</td>\n",
              "      <td>property</td>\n",
              "      <td>36-45 tahun</td>\n",
              "    </tr>\n",
              "    <tr>\n",
              "      <th>21452</th>\n",
              "      <td>3</td>\n",
              "      <td>3112.481705</td>\n",
              "      <td>38</td>\n",
              "      <td>secondary education</td>\n",
              "      <td>1</td>\n",
              "      <td>married</td>\n",
              "      <td>0</td>\n",
              "      <td>M</td>\n",
              "      <td>employee</td>\n",
              "      <td>1</td>\n",
              "      <td>39054.888</td>\n",
              "      <td>buying my own car</td>\n",
              "      <td>36-45 tahun</td>\n",
              "    </tr>\n",
              "    <tr>\n",
              "      <th>21453</th>\n",
              "      <td>2</td>\n",
              "      <td>1984.507589</td>\n",
              "      <td>40</td>\n",
              "      <td>secondary education</td>\n",
              "      <td>1</td>\n",
              "      <td>married</td>\n",
              "      <td>0</td>\n",
              "      <td>F</td>\n",
              "      <td>employee</td>\n",
              "      <td>0</td>\n",
              "      <td>13127.587</td>\n",
              "      <td>to buy a car</td>\n",
              "      <td>36-45 tahun</td>\n",
              "    </tr>\n",
              "  </tbody>\n",
              "</table>\n",
              "<p>19351 rows × 13 columns</p>\n",
              "</div>"
            ],
            "text/plain": [
              "       children  days_employed  dob_years            education  education_id  \\\n",
              "0             1    8437.673028         42    bachelor's degree             0   \n",
              "1             1    4024.803754         36  secondary education             1   \n",
              "2             0    5623.422610         33  secondary education             1   \n",
              "3             3    4124.747207         32  secondary education             1   \n",
              "4             0   12410.000000         53  secondary education             1   \n",
              "...         ...            ...        ...                  ...           ...   \n",
              "21449         1    4529.316663         43  secondary education             1   \n",
              "21450         0   16790.000000         67  secondary education             1   \n",
              "21451         1    2113.346888         38  secondary education             1   \n",
              "21452         3    3112.481705         38  secondary education             1   \n",
              "21453         2    1984.507589         40  secondary education             1   \n",
              "\n",
              "           family_status  family_status_id gender income_type  debt  \\\n",
              "0                married                 0      F    employee     0   \n",
              "1                married                 0      F    employee     0   \n",
              "2                married                 0      M    employee     0   \n",
              "3                married                 0      M    employee     0   \n",
              "4      civil partnership                 1      F     retiree     0   \n",
              "...                  ...               ...    ...         ...   ...   \n",
              "21449  civil partnership                 1      F    business     0   \n",
              "21450            married                 0      F     retiree     0   \n",
              "21451  civil partnership                 1      M    employee     1   \n",
              "21452            married                 0      M    employee     1   \n",
              "21453            married                 0      F    employee     0   \n",
              "\n",
              "       total_income                  purpose        age_group  \n",
              "0         40620.102    purchase of the house      36-45 tahun  \n",
              "1         17932.802             car purchase      36-45 tahun  \n",
              "2         23341.752    purchase of the house      26-35 tahun  \n",
              "3         42820.568  supplementary education      26-35 tahun  \n",
              "4         25378.572        to have a wedding      46-55 tahun  \n",
              "...             ...                      ...              ...  \n",
              "21449     35966.698     housing transactions      36-45 tahun  \n",
              "21450     24959.969        purchase of a car  66 tahun keatas  \n",
              "21451     14347.610                 property      36-45 tahun  \n",
              "21452     39054.888        buying my own car      36-45 tahun  \n",
              "21453     13127.587             to buy a car      36-45 tahun  \n",
              "\n",
              "[19351 rows x 13 columns]"
            ]
          },
          "execution_count": 51,
          "metadata": {},
          "output_type": "execute_result"
        }
      ],
      "source": [
        "# Membuat tabel tanpa nilai yang hilang dan menampilkan beberapa barisnya untuk memastikan semuanya berjalan dengan baik\n",
        "data_withoutnull = data.loc[~(data['days_employed'].isna()) & ~(data['total_income'].isna())]\n",
        "data_withoutnull"
      ]
    },
    {
      "cell_type": "code",
      "execution_count": null,
      "metadata": {
        "id": "auzwFNOMxjOa",
        "outputId": "c7626021-b3dc-463e-e230-b0ad63ae4f14"
      },
      "outputs": [
        {
          "data": {
            "text/plain": [
              "income_type\n",
              "business                       32386.793835\n",
              "civil servant                  27343.729582\n",
              "employee                       25820.841683\n",
              "entrepreneur                   79866.103000\n",
              "paternity / maternity leave     8612.661000\n",
              "retiree                        21940.394503\n",
              "student                        15712.260000\n",
              "unemployed                     21014.360500\n",
              "Name: total_income, dtype: float64"
            ]
          },
          "execution_count": 52,
          "metadata": {},
          "output_type": "execute_result"
        }
      ],
      "source": [
        "# Perhatikan nilai rata-rata untuk pendapatan berdasarkan faktor yang telah Anda identifikasi\n",
        "data_withoutnull.groupby('income_type')['total_income'].mean()\n"
      ]
    },
    {
      "cell_type": "code",
      "execution_count": null,
      "metadata": {
        "scrolled": true,
        "id": "IoeRah2SxjOa",
        "outputId": "0897e32a-587b-4783-9784-0dc51b802970"
      },
      "outputs": [
        {
          "data": {
            "text/plain": [
              "income_type\n",
              "business                       27577.2720\n",
              "civil servant                  24071.6695\n",
              "employee                       22815.1035\n",
              "entrepreneur                   79866.1030\n",
              "paternity / maternity leave     8612.6610\n",
              "retiree                        18962.3180\n",
              "student                        15712.2600\n",
              "unemployed                     21014.3605\n",
              "Name: total_income, dtype: float64"
            ]
          },
          "execution_count": 53,
          "metadata": {},
          "output_type": "execute_result"
        }
      ],
      "source": [
        "# Perhatikan nilai median untuk pendapatan berdasarkan faktor yang telah Anda identifikasi\n",
        "data_withoutnull.groupby('income_type')['total_income'].median()\n"
      ]
    },
    {
      "cell_type": "markdown",
      "metadata": {
        "id": "H3Jl89TgxjOa"
      },
      "source": [
        "Kita akan memakai median untuk mengganti nilai yang hilang karena income setiap orang bervariasi, jika menggunakan mean dirasa kurang tepat untuk merepresentasikan nilai yang hilang."
      ]
    },
    {
      "cell_type": "code",
      "execution_count": null,
      "metadata": {
        "id": "JBTQzuDexjOa"
      },
      "outputs": [],
      "source": [
        "#  Tulis fungsi yang akan kita gunakan untuk mengisi nilai yang hilang\n",
        "\n",
        "def data_imputation(data, column_filter, column_selected, column_target, rules):\n",
        "    data[column_target] = data[column_selected]\n",
        "\n",
        "    # Looping di setiap value group category\n",
        "    for rule in rules:\n",
        "        # get median\n",
        "        median = data.loc[(data[column_filter]==rule) & ~(data[column_selected].isna()), column_target].median()\n",
        "\n",
        "        # change missing value\n",
        "        data.loc[(data[column_filter]==rule) & (data[column_selected].isna()), column_target] = median\n",
        "\n",
        "    return data"
      ]
    },
    {
      "cell_type": "code",
      "execution_count": null,
      "metadata": {
        "scrolled": true,
        "id": "yG3rbYvRxjOa",
        "outputId": "2fa5b7b2-e893-452d-c5bb-cec409dca725"
      },
      "outputs": [
        {
          "data": {
            "text/html": [
              "<div>\n",
              "<style scoped>\n",
              "    .dataframe tbody tr th:only-of-type {\n",
              "        vertical-align: middle;\n",
              "    }\n",
              "\n",
              "    .dataframe tbody tr th {\n",
              "        vertical-align: top;\n",
              "    }\n",
              "\n",
              "    .dataframe thead th {\n",
              "        text-align: right;\n",
              "    }\n",
              "</style>\n",
              "<table border=\"1\" class=\"dataframe\">\n",
              "  <thead>\n",
              "    <tr style=\"text-align: right;\">\n",
              "      <th></th>\n",
              "      <th>children</th>\n",
              "      <th>days_employed</th>\n",
              "      <th>dob_years</th>\n",
              "      <th>education</th>\n",
              "      <th>education_id</th>\n",
              "      <th>family_status</th>\n",
              "      <th>family_status_id</th>\n",
              "      <th>gender</th>\n",
              "      <th>income_type</th>\n",
              "      <th>debt</th>\n",
              "      <th>total_income</th>\n",
              "      <th>purpose</th>\n",
              "      <th>age_group</th>\n",
              "      <th>total_income_clean</th>\n",
              "    </tr>\n",
              "  </thead>\n",
              "  <tbody>\n",
              "    <tr>\n",
              "      <th>0</th>\n",
              "      <td>1</td>\n",
              "      <td>8437.673028</td>\n",
              "      <td>42</td>\n",
              "      <td>bachelor's degree</td>\n",
              "      <td>0</td>\n",
              "      <td>married</td>\n",
              "      <td>0</td>\n",
              "      <td>F</td>\n",
              "      <td>employee</td>\n",
              "      <td>0</td>\n",
              "      <td>40620.102</td>\n",
              "      <td>purchase of the house</td>\n",
              "      <td>36-45 tahun</td>\n",
              "      <td>40620.102</td>\n",
              "    </tr>\n",
              "    <tr>\n",
              "      <th>1</th>\n",
              "      <td>1</td>\n",
              "      <td>4024.803754</td>\n",
              "      <td>36</td>\n",
              "      <td>secondary education</td>\n",
              "      <td>1</td>\n",
              "      <td>married</td>\n",
              "      <td>0</td>\n",
              "      <td>F</td>\n",
              "      <td>employee</td>\n",
              "      <td>0</td>\n",
              "      <td>17932.802</td>\n",
              "      <td>car purchase</td>\n",
              "      <td>36-45 tahun</td>\n",
              "      <td>17932.802</td>\n",
              "    </tr>\n",
              "    <tr>\n",
              "      <th>2</th>\n",
              "      <td>0</td>\n",
              "      <td>5623.422610</td>\n",
              "      <td>33</td>\n",
              "      <td>secondary education</td>\n",
              "      <td>1</td>\n",
              "      <td>married</td>\n",
              "      <td>0</td>\n",
              "      <td>M</td>\n",
              "      <td>employee</td>\n",
              "      <td>0</td>\n",
              "      <td>23341.752</td>\n",
              "      <td>purchase of the house</td>\n",
              "      <td>26-35 tahun</td>\n",
              "      <td>23341.752</td>\n",
              "    </tr>\n",
              "    <tr>\n",
              "      <th>3</th>\n",
              "      <td>3</td>\n",
              "      <td>4124.747207</td>\n",
              "      <td>32</td>\n",
              "      <td>secondary education</td>\n",
              "      <td>1</td>\n",
              "      <td>married</td>\n",
              "      <td>0</td>\n",
              "      <td>M</td>\n",
              "      <td>employee</td>\n",
              "      <td>0</td>\n",
              "      <td>42820.568</td>\n",
              "      <td>supplementary education</td>\n",
              "      <td>26-35 tahun</td>\n",
              "      <td>42820.568</td>\n",
              "    </tr>\n",
              "    <tr>\n",
              "      <th>4</th>\n",
              "      <td>0</td>\n",
              "      <td>12410.000000</td>\n",
              "      <td>53</td>\n",
              "      <td>secondary education</td>\n",
              "      <td>1</td>\n",
              "      <td>civil partnership</td>\n",
              "      <td>1</td>\n",
              "      <td>F</td>\n",
              "      <td>retiree</td>\n",
              "      <td>0</td>\n",
              "      <td>25378.572</td>\n",
              "      <td>to have a wedding</td>\n",
              "      <td>46-55 tahun</td>\n",
              "      <td>25378.572</td>\n",
              "    </tr>\n",
              "    <tr>\n",
              "      <th>...</th>\n",
              "      <td>...</td>\n",
              "      <td>...</td>\n",
              "      <td>...</td>\n",
              "      <td>...</td>\n",
              "      <td>...</td>\n",
              "      <td>...</td>\n",
              "      <td>...</td>\n",
              "      <td>...</td>\n",
              "      <td>...</td>\n",
              "      <td>...</td>\n",
              "      <td>...</td>\n",
              "      <td>...</td>\n",
              "      <td>...</td>\n",
              "      <td>...</td>\n",
              "    </tr>\n",
              "    <tr>\n",
              "      <th>21449</th>\n",
              "      <td>1</td>\n",
              "      <td>4529.316663</td>\n",
              "      <td>43</td>\n",
              "      <td>secondary education</td>\n",
              "      <td>1</td>\n",
              "      <td>civil partnership</td>\n",
              "      <td>1</td>\n",
              "      <td>F</td>\n",
              "      <td>business</td>\n",
              "      <td>0</td>\n",
              "      <td>35966.698</td>\n",
              "      <td>housing transactions</td>\n",
              "      <td>36-45 tahun</td>\n",
              "      <td>35966.698</td>\n",
              "    </tr>\n",
              "    <tr>\n",
              "      <th>21450</th>\n",
              "      <td>0</td>\n",
              "      <td>16790.000000</td>\n",
              "      <td>67</td>\n",
              "      <td>secondary education</td>\n",
              "      <td>1</td>\n",
              "      <td>married</td>\n",
              "      <td>0</td>\n",
              "      <td>F</td>\n",
              "      <td>retiree</td>\n",
              "      <td>0</td>\n",
              "      <td>24959.969</td>\n",
              "      <td>purchase of a car</td>\n",
              "      <td>66 tahun keatas</td>\n",
              "      <td>24959.969</td>\n",
              "    </tr>\n",
              "    <tr>\n",
              "      <th>21451</th>\n",
              "      <td>1</td>\n",
              "      <td>2113.346888</td>\n",
              "      <td>38</td>\n",
              "      <td>secondary education</td>\n",
              "      <td>1</td>\n",
              "      <td>civil partnership</td>\n",
              "      <td>1</td>\n",
              "      <td>M</td>\n",
              "      <td>employee</td>\n",
              "      <td>1</td>\n",
              "      <td>14347.610</td>\n",
              "      <td>property</td>\n",
              "      <td>36-45 tahun</td>\n",
              "      <td>14347.610</td>\n",
              "    </tr>\n",
              "    <tr>\n",
              "      <th>21452</th>\n",
              "      <td>3</td>\n",
              "      <td>3112.481705</td>\n",
              "      <td>38</td>\n",
              "      <td>secondary education</td>\n",
              "      <td>1</td>\n",
              "      <td>married</td>\n",
              "      <td>0</td>\n",
              "      <td>M</td>\n",
              "      <td>employee</td>\n",
              "      <td>1</td>\n",
              "      <td>39054.888</td>\n",
              "      <td>buying my own car</td>\n",
              "      <td>36-45 tahun</td>\n",
              "      <td>39054.888</td>\n",
              "    </tr>\n",
              "    <tr>\n",
              "      <th>21453</th>\n",
              "      <td>2</td>\n",
              "      <td>1984.507589</td>\n",
              "      <td>40</td>\n",
              "      <td>secondary education</td>\n",
              "      <td>1</td>\n",
              "      <td>married</td>\n",
              "      <td>0</td>\n",
              "      <td>F</td>\n",
              "      <td>employee</td>\n",
              "      <td>0</td>\n",
              "      <td>13127.587</td>\n",
              "      <td>to buy a car</td>\n",
              "      <td>36-45 tahun</td>\n",
              "      <td>13127.587</td>\n",
              "    </tr>\n",
              "  </tbody>\n",
              "</table>\n",
              "<p>21454 rows × 14 columns</p>\n",
              "</div>"
            ],
            "text/plain": [
              "       children  days_employed  dob_years            education  education_id  \\\n",
              "0             1    8437.673028         42    bachelor's degree             0   \n",
              "1             1    4024.803754         36  secondary education             1   \n",
              "2             0    5623.422610         33  secondary education             1   \n",
              "3             3    4124.747207         32  secondary education             1   \n",
              "4             0   12410.000000         53  secondary education             1   \n",
              "...         ...            ...        ...                  ...           ...   \n",
              "21449         1    4529.316663         43  secondary education             1   \n",
              "21450         0   16790.000000         67  secondary education             1   \n",
              "21451         1    2113.346888         38  secondary education             1   \n",
              "21452         3    3112.481705         38  secondary education             1   \n",
              "21453         2    1984.507589         40  secondary education             1   \n",
              "\n",
              "           family_status  family_status_id gender income_type  debt  \\\n",
              "0                married                 0      F    employee     0   \n",
              "1                married                 0      F    employee     0   \n",
              "2                married                 0      M    employee     0   \n",
              "3                married                 0      M    employee     0   \n",
              "4      civil partnership                 1      F     retiree     0   \n",
              "...                  ...               ...    ...         ...   ...   \n",
              "21449  civil partnership                 1      F    business     0   \n",
              "21450            married                 0      F     retiree     0   \n",
              "21451  civil partnership                 1      M    employee     1   \n",
              "21452            married                 0      M    employee     1   \n",
              "21453            married                 0      F    employee     0   \n",
              "\n",
              "       total_income                  purpose        age_group  \\\n",
              "0         40620.102    purchase of the house      36-45 tahun   \n",
              "1         17932.802             car purchase      36-45 tahun   \n",
              "2         23341.752    purchase of the house      26-35 tahun   \n",
              "3         42820.568  supplementary education      26-35 tahun   \n",
              "4         25378.572        to have a wedding      46-55 tahun   \n",
              "...             ...                      ...              ...   \n",
              "21449     35966.698     housing transactions      36-45 tahun   \n",
              "21450     24959.969        purchase of a car  66 tahun keatas   \n",
              "21451     14347.610                 property      36-45 tahun   \n",
              "21452     39054.888        buying my own car      36-45 tahun   \n",
              "21453     13127.587             to buy a car      36-45 tahun   \n",
              "\n",
              "       total_income_clean  \n",
              "0               40620.102  \n",
              "1               17932.802  \n",
              "2               23341.752  \n",
              "3               42820.568  \n",
              "4               25378.572  \n",
              "...                   ...  \n",
              "21449           35966.698  \n",
              "21450           24959.969  \n",
              "21451           14347.610  \n",
              "21452           39054.888  \n",
              "21453           13127.587  \n",
              "\n",
              "[21454 rows x 14 columns]"
            ]
          },
          "execution_count": 55,
          "metadata": {},
          "output_type": "execute_result"
        }
      ],
      "source": [
        "# Memeriksa bagaimana nilai di dalam kolom baru\n",
        "rules = data['income_type'].unique()\n",
        "\n",
        "data_imputation(data, column_filter='income_type', column_selected='total_income', column_target='total_income_clean', rules=rules)"
      ]
    },
    {
      "cell_type": "code",
      "execution_count": null,
      "metadata": {
        "id": "eVJF-K6IxjOa",
        "outputId": "c7b03389-18f5-4a7f-eb8e-518683fa9081"
      },
      "outputs": [
        {
          "data": {
            "text/html": [
              "<div>\n",
              "<style scoped>\n",
              "    .dataframe tbody tr th:only-of-type {\n",
              "        vertical-align: middle;\n",
              "    }\n",
              "\n",
              "    .dataframe tbody tr th {\n",
              "        vertical-align: top;\n",
              "    }\n",
              "\n",
              "    .dataframe thead th {\n",
              "        text-align: right;\n",
              "    }\n",
              "</style>\n",
              "<table border=\"1\" class=\"dataframe\">\n",
              "  <thead>\n",
              "    <tr style=\"text-align: right;\">\n",
              "      <th></th>\n",
              "      <th>children</th>\n",
              "      <th>days_employed</th>\n",
              "      <th>dob_years</th>\n",
              "      <th>education</th>\n",
              "      <th>education_id</th>\n",
              "      <th>family_status</th>\n",
              "      <th>family_status_id</th>\n",
              "      <th>gender</th>\n",
              "      <th>income_type</th>\n",
              "      <th>debt</th>\n",
              "      <th>total_income</th>\n",
              "      <th>purpose</th>\n",
              "      <th>age_group</th>\n",
              "      <th>total_income_clean</th>\n",
              "    </tr>\n",
              "  </thead>\n",
              "  <tbody>\n",
              "    <tr>\n",
              "      <th>0</th>\n",
              "      <td>1</td>\n",
              "      <td>8437.673028</td>\n",
              "      <td>42</td>\n",
              "      <td>bachelor's degree</td>\n",
              "      <td>0</td>\n",
              "      <td>married</td>\n",
              "      <td>0</td>\n",
              "      <td>F</td>\n",
              "      <td>employee</td>\n",
              "      <td>0</td>\n",
              "      <td>40620.102</td>\n",
              "      <td>purchase of the house</td>\n",
              "      <td>36-45 tahun</td>\n",
              "      <td>40620.102</td>\n",
              "    </tr>\n",
              "    <tr>\n",
              "      <th>1</th>\n",
              "      <td>1</td>\n",
              "      <td>4024.803754</td>\n",
              "      <td>36</td>\n",
              "      <td>secondary education</td>\n",
              "      <td>1</td>\n",
              "      <td>married</td>\n",
              "      <td>0</td>\n",
              "      <td>F</td>\n",
              "      <td>employee</td>\n",
              "      <td>0</td>\n",
              "      <td>17932.802</td>\n",
              "      <td>car purchase</td>\n",
              "      <td>36-45 tahun</td>\n",
              "      <td>17932.802</td>\n",
              "    </tr>\n",
              "    <tr>\n",
              "      <th>2</th>\n",
              "      <td>0</td>\n",
              "      <td>5623.422610</td>\n",
              "      <td>33</td>\n",
              "      <td>secondary education</td>\n",
              "      <td>1</td>\n",
              "      <td>married</td>\n",
              "      <td>0</td>\n",
              "      <td>M</td>\n",
              "      <td>employee</td>\n",
              "      <td>0</td>\n",
              "      <td>23341.752</td>\n",
              "      <td>purchase of the house</td>\n",
              "      <td>26-35 tahun</td>\n",
              "      <td>23341.752</td>\n",
              "    </tr>\n",
              "    <tr>\n",
              "      <th>3</th>\n",
              "      <td>3</td>\n",
              "      <td>4124.747207</td>\n",
              "      <td>32</td>\n",
              "      <td>secondary education</td>\n",
              "      <td>1</td>\n",
              "      <td>married</td>\n",
              "      <td>0</td>\n",
              "      <td>M</td>\n",
              "      <td>employee</td>\n",
              "      <td>0</td>\n",
              "      <td>42820.568</td>\n",
              "      <td>supplementary education</td>\n",
              "      <td>26-35 tahun</td>\n",
              "      <td>42820.568</td>\n",
              "    </tr>\n",
              "    <tr>\n",
              "      <th>4</th>\n",
              "      <td>0</td>\n",
              "      <td>12410.000000</td>\n",
              "      <td>53</td>\n",
              "      <td>secondary education</td>\n",
              "      <td>1</td>\n",
              "      <td>civil partnership</td>\n",
              "      <td>1</td>\n",
              "      <td>F</td>\n",
              "      <td>retiree</td>\n",
              "      <td>0</td>\n",
              "      <td>25378.572</td>\n",
              "      <td>to have a wedding</td>\n",
              "      <td>46-55 tahun</td>\n",
              "      <td>25378.572</td>\n",
              "    </tr>\n",
              "    <tr>\n",
              "      <th>5</th>\n",
              "      <td>0</td>\n",
              "      <td>926.185831</td>\n",
              "      <td>27</td>\n",
              "      <td>bachelor's degree</td>\n",
              "      <td>0</td>\n",
              "      <td>civil partnership</td>\n",
              "      <td>1</td>\n",
              "      <td>M</td>\n",
              "      <td>business</td>\n",
              "      <td>0</td>\n",
              "      <td>40922.170</td>\n",
              "      <td>purchase of the house</td>\n",
              "      <td>26-35 tahun</td>\n",
              "      <td>40922.170</td>\n",
              "    </tr>\n",
              "    <tr>\n",
              "      <th>6</th>\n",
              "      <td>0</td>\n",
              "      <td>2879.202052</td>\n",
              "      <td>43</td>\n",
              "      <td>bachelor's degree</td>\n",
              "      <td>0</td>\n",
              "      <td>married</td>\n",
              "      <td>0</td>\n",
              "      <td>F</td>\n",
              "      <td>business</td>\n",
              "      <td>0</td>\n",
              "      <td>38484.156</td>\n",
              "      <td>housing transactions</td>\n",
              "      <td>36-45 tahun</td>\n",
              "      <td>38484.156</td>\n",
              "    </tr>\n",
              "    <tr>\n",
              "      <th>7</th>\n",
              "      <td>0</td>\n",
              "      <td>152.779569</td>\n",
              "      <td>50</td>\n",
              "      <td>secondary education</td>\n",
              "      <td>1</td>\n",
              "      <td>married</td>\n",
              "      <td>0</td>\n",
              "      <td>M</td>\n",
              "      <td>employee</td>\n",
              "      <td>0</td>\n",
              "      <td>21731.829</td>\n",
              "      <td>education</td>\n",
              "      <td>46-55 tahun</td>\n",
              "      <td>21731.829</td>\n",
              "    </tr>\n",
              "    <tr>\n",
              "      <th>8</th>\n",
              "      <td>2</td>\n",
              "      <td>6929.865299</td>\n",
              "      <td>35</td>\n",
              "      <td>bachelor's degree</td>\n",
              "      <td>0</td>\n",
              "      <td>civil partnership</td>\n",
              "      <td>1</td>\n",
              "      <td>F</td>\n",
              "      <td>employee</td>\n",
              "      <td>0</td>\n",
              "      <td>15337.093</td>\n",
              "      <td>having a wedding</td>\n",
              "      <td>26-35 tahun</td>\n",
              "      <td>15337.093</td>\n",
              "    </tr>\n",
              "    <tr>\n",
              "      <th>9</th>\n",
              "      <td>0</td>\n",
              "      <td>2188.756445</td>\n",
              "      <td>41</td>\n",
              "      <td>secondary education</td>\n",
              "      <td>1</td>\n",
              "      <td>married</td>\n",
              "      <td>0</td>\n",
              "      <td>M</td>\n",
              "      <td>employee</td>\n",
              "      <td>0</td>\n",
              "      <td>23108.150</td>\n",
              "      <td>purchase of the house for my family</td>\n",
              "      <td>36-45 tahun</td>\n",
              "      <td>23108.150</td>\n",
              "    </tr>\n",
              "    <tr>\n",
              "      <th>10</th>\n",
              "      <td>2</td>\n",
              "      <td>4171.483647</td>\n",
              "      <td>36</td>\n",
              "      <td>bachelor's degree</td>\n",
              "      <td>0</td>\n",
              "      <td>married</td>\n",
              "      <td>0</td>\n",
              "      <td>M</td>\n",
              "      <td>business</td>\n",
              "      <td>0</td>\n",
              "      <td>18230.959</td>\n",
              "      <td>buy real estate</td>\n",
              "      <td>36-45 tahun</td>\n",
              "      <td>18230.959</td>\n",
              "    </tr>\n",
              "    <tr>\n",
              "      <th>11</th>\n",
              "      <td>0</td>\n",
              "      <td>792.701887</td>\n",
              "      <td>40</td>\n",
              "      <td>secondary education</td>\n",
              "      <td>1</td>\n",
              "      <td>married</td>\n",
              "      <td>0</td>\n",
              "      <td>F</td>\n",
              "      <td>employee</td>\n",
              "      <td>0</td>\n",
              "      <td>12331.077</td>\n",
              "      <td>buy commercial real estate</td>\n",
              "      <td>36-45 tahun</td>\n",
              "      <td>12331.077</td>\n",
              "    </tr>\n",
              "    <tr>\n",
              "      <th>12</th>\n",
              "      <td>0</td>\n",
              "      <td>NaN</td>\n",
              "      <td>65</td>\n",
              "      <td>secondary education</td>\n",
              "      <td>1</td>\n",
              "      <td>civil partnership</td>\n",
              "      <td>1</td>\n",
              "      <td>M</td>\n",
              "      <td>retiree</td>\n",
              "      <td>0</td>\n",
              "      <td>NaN</td>\n",
              "      <td>to have a wedding</td>\n",
              "      <td>56-65 tahun</td>\n",
              "      <td>18962.318</td>\n",
              "    </tr>\n",
              "    <tr>\n",
              "      <th>13</th>\n",
              "      <td>0</td>\n",
              "      <td>1846.641941</td>\n",
              "      <td>54</td>\n",
              "      <td>some college</td>\n",
              "      <td>2</td>\n",
              "      <td>married</td>\n",
              "      <td>0</td>\n",
              "      <td>F</td>\n",
              "      <td>employee</td>\n",
              "      <td>0</td>\n",
              "      <td>20873.317</td>\n",
              "      <td>car purchase</td>\n",
              "      <td>46-55 tahun</td>\n",
              "      <td>20873.317</td>\n",
              "    </tr>\n",
              "    <tr>\n",
              "      <th>14</th>\n",
              "      <td>0</td>\n",
              "      <td>1844.956182</td>\n",
              "      <td>56</td>\n",
              "      <td>bachelor's degree</td>\n",
              "      <td>0</td>\n",
              "      <td>civil partnership</td>\n",
              "      <td>1</td>\n",
              "      <td>F</td>\n",
              "      <td>business</td>\n",
              "      <td>1</td>\n",
              "      <td>26420.466</td>\n",
              "      <td>buy residential real estate</td>\n",
              "      <td>56-65 tahun</td>\n",
              "      <td>26420.466</td>\n",
              "    </tr>\n",
              "  </tbody>\n",
              "</table>\n",
              "</div>"
            ],
            "text/plain": [
              "    children  days_employed  dob_years            education  education_id  \\\n",
              "0          1    8437.673028         42    bachelor's degree             0   \n",
              "1          1    4024.803754         36  secondary education             1   \n",
              "2          0    5623.422610         33  secondary education             1   \n",
              "3          3    4124.747207         32  secondary education             1   \n",
              "4          0   12410.000000         53  secondary education             1   \n",
              "5          0     926.185831         27    bachelor's degree             0   \n",
              "6          0    2879.202052         43    bachelor's degree             0   \n",
              "7          0     152.779569         50  secondary education             1   \n",
              "8          2    6929.865299         35    bachelor's degree             0   \n",
              "9          0    2188.756445         41  secondary education             1   \n",
              "10         2    4171.483647         36    bachelor's degree             0   \n",
              "11         0     792.701887         40  secondary education             1   \n",
              "12         0            NaN         65  secondary education             1   \n",
              "13         0    1846.641941         54         some college             2   \n",
              "14         0    1844.956182         56    bachelor's degree             0   \n",
              "\n",
              "        family_status  family_status_id gender income_type  debt  \\\n",
              "0             married                 0      F    employee     0   \n",
              "1             married                 0      F    employee     0   \n",
              "2             married                 0      M    employee     0   \n",
              "3             married                 0      M    employee     0   \n",
              "4   civil partnership                 1      F     retiree     0   \n",
              "5   civil partnership                 1      M    business     0   \n",
              "6             married                 0      F    business     0   \n",
              "7             married                 0      M    employee     0   \n",
              "8   civil partnership                 1      F    employee     0   \n",
              "9             married                 0      M    employee     0   \n",
              "10            married                 0      M    business     0   \n",
              "11            married                 0      F    employee     0   \n",
              "12  civil partnership                 1      M     retiree     0   \n",
              "13            married                 0      F    employee     0   \n",
              "14  civil partnership                 1      F    business     1   \n",
              "\n",
              "    total_income                              purpose    age_group  \\\n",
              "0      40620.102                purchase of the house  36-45 tahun   \n",
              "1      17932.802                         car purchase  36-45 tahun   \n",
              "2      23341.752                purchase of the house  26-35 tahun   \n",
              "3      42820.568              supplementary education  26-35 tahun   \n",
              "4      25378.572                    to have a wedding  46-55 tahun   \n",
              "5      40922.170                purchase of the house  26-35 tahun   \n",
              "6      38484.156                 housing transactions  36-45 tahun   \n",
              "7      21731.829                            education  46-55 tahun   \n",
              "8      15337.093                     having a wedding  26-35 tahun   \n",
              "9      23108.150  purchase of the house for my family  36-45 tahun   \n",
              "10     18230.959                      buy real estate  36-45 tahun   \n",
              "11     12331.077           buy commercial real estate  36-45 tahun   \n",
              "12           NaN                    to have a wedding  56-65 tahun   \n",
              "13     20873.317                         car purchase  46-55 tahun   \n",
              "14     26420.466          buy residential real estate  56-65 tahun   \n",
              "\n",
              "    total_income_clean  \n",
              "0            40620.102  \n",
              "1            17932.802  \n",
              "2            23341.752  \n",
              "3            42820.568  \n",
              "4            25378.572  \n",
              "5            40922.170  \n",
              "6            38484.156  \n",
              "7            21731.829  \n",
              "8            15337.093  \n",
              "9            23108.150  \n",
              "10           18230.959  \n",
              "11           12331.077  \n",
              "12           18962.318  \n",
              "13           20873.317  \n",
              "14           26420.466  "
            ]
          },
          "execution_count": 56,
          "metadata": {},
          "output_type": "execute_result"
        }
      ],
      "source": [
        "# Periksa bahwa fungsi bekerja\n",
        "data.head(15)"
      ]
    },
    {
      "cell_type": "code",
      "execution_count": null,
      "metadata": {
        "id": "ZauNECWfxjOa",
        "outputId": "d4abfe7f-70c4-4096-a9d9-e36365a890c8"
      },
      "outputs": [
        {
          "data": {
            "text/plain": [
              "0"
            ]
          },
          "execution_count": 58,
          "metadata": {},
          "output_type": "execute_result"
        }
      ],
      "source": [
        "# Periksa apakah kita mendapatkan kesalahan\n",
        "data['total_income_clean'].isna().sum()"
      ]
    },
    {
      "cell_type": "code",
      "execution_count": null,
      "metadata": {
        "scrolled": true,
        "id": "0YVgiTShxjOa",
        "outputId": "71980711-9511-412d-dcdd-3127a3b13f8e"
      },
      "outputs": [
        {
          "name": "stdout",
          "output_type": "stream",
          "text": [
            "<class 'pandas.core.frame.DataFrame'>\n",
            "RangeIndex: 21454 entries, 0 to 21453\n",
            "Data columns (total 14 columns):\n",
            " #   Column              Non-Null Count  Dtype  \n",
            "---  ------              --------------  -----  \n",
            " 0   children            21454 non-null  int64  \n",
            " 1   days_employed       19419 non-null  float64\n",
            " 2   dob_years           21454 non-null  int64  \n",
            " 3   education           21454 non-null  object \n",
            " 4   education_id        21454 non-null  int64  \n",
            " 5   family_status       21454 non-null  object \n",
            " 6   family_status_id    21454 non-null  int64  \n",
            " 7   gender              21454 non-null  object \n",
            " 8   income_type         21454 non-null  object \n",
            " 9   debt                21454 non-null  int64  \n",
            " 10  total_income        19351 non-null  float64\n",
            " 11  purpose             21454 non-null  object \n",
            " 12  age_group           21454 non-null  object \n",
            " 13  total_income_clean  21454 non-null  float64\n",
            "dtypes: float64(3), int64(5), object(6)\n",
            "memory usage: 2.3+ MB\n"
          ]
        }
      ],
      "source": [
        "# Memeriksa jumlah entri di kolom\n",
        "data.info()"
      ]
    },
    {
      "cell_type": "markdown",
      "metadata": {
        "id": "kUtAhAAJxjOb"
      },
      "source": [
        "###  Memperbaiki nilai di `days_employed`"
      ]
    },
    {
      "cell_type": "code",
      "execution_count": null,
      "metadata": {
        "pycharm": {
          "name": "#%%\n"
        },
        "id": "Z6OrUq-hxjOb",
        "outputId": "86654805-18b2-4ddc-ec70-ae2f5a086994"
      },
      "outputs": [
        {
          "data": {
            "text/plain": [
              "age_group\n",
              "1-25 tahun           885.674587\n",
              "26-35 tahun         1350.995300\n",
              "36-45 tahun         1917.145342\n",
              "46-55 tahun         2886.495612\n",
              "56-65 tahun        14235.000000\n",
              "66 tahun keatas    16790.000000\n",
              "Name: days_employed, dtype: float64"
            ]
          },
          "execution_count": 61,
          "metadata": {},
          "output_type": "execute_result"
        }
      ],
      "source": [
        "# Distribusi median dari `days_employed` berdasarkan parameter yang Anda identifikasi\n",
        "\n",
        "data.groupby('age_group')['days_employed'].median()"
      ]
    },
    {
      "cell_type": "code",
      "execution_count": null,
      "metadata": {
        "scrolled": false,
        "id": "sGOVzl0fxjOb",
        "outputId": "939351fd-8979-46d2-c1f1-ad5b070dbe92"
      },
      "outputs": [
        {
          "data": {
            "text/plain": [
              "age_group\n",
              "1-25 tahun          1032.172063\n",
              "26-35 tahun         1689.775100\n",
              "36-45 tahun         2559.939899\n",
              "46-55 tahun         4596.744180\n",
              "56-65 tahun        10818.555121\n",
              "66 tahun keatas    16790.000000\n",
              "Name: days_employed, dtype: float64"
            ]
          },
          "execution_count": 62,
          "metadata": {},
          "output_type": "execute_result"
        }
      ],
      "source": [
        "# Distribusi rata-rata dari `days_employed` berdasarkan parameter yang Anda identifikasi\n",
        "\n",
        "data.groupby('age_group')['days_employed'].mean()"
      ]
    },
    {
      "cell_type": "markdown",
      "metadata": {
        "id": "6k6BZW3vxjOb"
      },
      "source": [
        "Kita memilih menggunakan median untuk mengganti nilai yang hilang pad kolom `days_employed` karena value yang bervariasi pada kolom `days_employed` tidak memungkinkan memakai mean."
      ]
    },
    {
      "cell_type": "code",
      "execution_count": null,
      "metadata": {
        "id": "AFtOJvBxxjOb"
      },
      "outputs": [],
      "source": [
        "# Mari tulis fungsi yang menghitung rata-rata atau median (tergantung keputusan Anda) berdasarkan parameter yang Anda identifikasi\n",
        "\n",
        "def data_imputation(data, column_filter, column_selected, rules):\n",
        "    # Looping di setiap value group category\n",
        "    for rule in rules:\n",
        "        # get median\n",
        "        median = data.loc[(data[column_filter]==rule) & ~(data[column_selected].isna()), column_selected].median()\n",
        "\n",
        "        # change missing value\n",
        "        data.loc[(data[column_filter]==rule) & (data[column_selected].isna()), column_selected] = median\n",
        "\n",
        "    return data"
      ]
    },
    {
      "cell_type": "code",
      "execution_count": null,
      "metadata": {
        "id": "vNT_9aEWxjOb",
        "outputId": "6e922cb9-c230-48d6-eddc-b6018ce8e9e7"
      },
      "outputs": [
        {
          "data": {
            "text/html": [
              "<div>\n",
              "<style scoped>\n",
              "    .dataframe tbody tr th:only-of-type {\n",
              "        vertical-align: middle;\n",
              "    }\n",
              "\n",
              "    .dataframe tbody tr th {\n",
              "        vertical-align: top;\n",
              "    }\n",
              "\n",
              "    .dataframe thead th {\n",
              "        text-align: right;\n",
              "    }\n",
              "</style>\n",
              "<table border=\"1\" class=\"dataframe\">\n",
              "  <thead>\n",
              "    <tr style=\"text-align: right;\">\n",
              "      <th></th>\n",
              "      <th>children</th>\n",
              "      <th>days_employed</th>\n",
              "      <th>dob_years</th>\n",
              "      <th>education</th>\n",
              "      <th>education_id</th>\n",
              "      <th>family_status</th>\n",
              "      <th>family_status_id</th>\n",
              "      <th>gender</th>\n",
              "      <th>income_type</th>\n",
              "      <th>debt</th>\n",
              "      <th>total_income</th>\n",
              "      <th>purpose</th>\n",
              "      <th>age_group</th>\n",
              "      <th>total_income_clean</th>\n",
              "    </tr>\n",
              "  </thead>\n",
              "  <tbody>\n",
              "    <tr>\n",
              "      <th>0</th>\n",
              "      <td>1</td>\n",
              "      <td>8437.673028</td>\n",
              "      <td>42</td>\n",
              "      <td>bachelor's degree</td>\n",
              "      <td>0</td>\n",
              "      <td>married</td>\n",
              "      <td>0</td>\n",
              "      <td>F</td>\n",
              "      <td>employee</td>\n",
              "      <td>0</td>\n",
              "      <td>40620.102</td>\n",
              "      <td>purchase of the house</td>\n",
              "      <td>36-45 tahun</td>\n",
              "      <td>40620.102</td>\n",
              "    </tr>\n",
              "    <tr>\n",
              "      <th>1</th>\n",
              "      <td>1</td>\n",
              "      <td>4024.803754</td>\n",
              "      <td>36</td>\n",
              "      <td>secondary education</td>\n",
              "      <td>1</td>\n",
              "      <td>married</td>\n",
              "      <td>0</td>\n",
              "      <td>F</td>\n",
              "      <td>employee</td>\n",
              "      <td>0</td>\n",
              "      <td>17932.802</td>\n",
              "      <td>car purchase</td>\n",
              "      <td>36-45 tahun</td>\n",
              "      <td>17932.802</td>\n",
              "    </tr>\n",
              "    <tr>\n",
              "      <th>2</th>\n",
              "      <td>0</td>\n",
              "      <td>5623.422610</td>\n",
              "      <td>33</td>\n",
              "      <td>secondary education</td>\n",
              "      <td>1</td>\n",
              "      <td>married</td>\n",
              "      <td>0</td>\n",
              "      <td>M</td>\n",
              "      <td>employee</td>\n",
              "      <td>0</td>\n",
              "      <td>23341.752</td>\n",
              "      <td>purchase of the house</td>\n",
              "      <td>26-35 tahun</td>\n",
              "      <td>23341.752</td>\n",
              "    </tr>\n",
              "    <tr>\n",
              "      <th>3</th>\n",
              "      <td>3</td>\n",
              "      <td>4124.747207</td>\n",
              "      <td>32</td>\n",
              "      <td>secondary education</td>\n",
              "      <td>1</td>\n",
              "      <td>married</td>\n",
              "      <td>0</td>\n",
              "      <td>M</td>\n",
              "      <td>employee</td>\n",
              "      <td>0</td>\n",
              "      <td>42820.568</td>\n",
              "      <td>supplementary education</td>\n",
              "      <td>26-35 tahun</td>\n",
              "      <td>42820.568</td>\n",
              "    </tr>\n",
              "    <tr>\n",
              "      <th>4</th>\n",
              "      <td>0</td>\n",
              "      <td>12410.000000</td>\n",
              "      <td>53</td>\n",
              "      <td>secondary education</td>\n",
              "      <td>1</td>\n",
              "      <td>civil partnership</td>\n",
              "      <td>1</td>\n",
              "      <td>F</td>\n",
              "      <td>retiree</td>\n",
              "      <td>0</td>\n",
              "      <td>25378.572</td>\n",
              "      <td>to have a wedding</td>\n",
              "      <td>46-55 tahun</td>\n",
              "      <td>25378.572</td>\n",
              "    </tr>\n",
              "    <tr>\n",
              "      <th>...</th>\n",
              "      <td>...</td>\n",
              "      <td>...</td>\n",
              "      <td>...</td>\n",
              "      <td>...</td>\n",
              "      <td>...</td>\n",
              "      <td>...</td>\n",
              "      <td>...</td>\n",
              "      <td>...</td>\n",
              "      <td>...</td>\n",
              "      <td>...</td>\n",
              "      <td>...</td>\n",
              "      <td>...</td>\n",
              "      <td>...</td>\n",
              "      <td>...</td>\n",
              "    </tr>\n",
              "    <tr>\n",
              "      <th>21449</th>\n",
              "      <td>1</td>\n",
              "      <td>4529.316663</td>\n",
              "      <td>43</td>\n",
              "      <td>secondary education</td>\n",
              "      <td>1</td>\n",
              "      <td>civil partnership</td>\n",
              "      <td>1</td>\n",
              "      <td>F</td>\n",
              "      <td>business</td>\n",
              "      <td>0</td>\n",
              "      <td>35966.698</td>\n",
              "      <td>housing transactions</td>\n",
              "      <td>36-45 tahun</td>\n",
              "      <td>35966.698</td>\n",
              "    </tr>\n",
              "    <tr>\n",
              "      <th>21450</th>\n",
              "      <td>0</td>\n",
              "      <td>16790.000000</td>\n",
              "      <td>67</td>\n",
              "      <td>secondary education</td>\n",
              "      <td>1</td>\n",
              "      <td>married</td>\n",
              "      <td>0</td>\n",
              "      <td>F</td>\n",
              "      <td>retiree</td>\n",
              "      <td>0</td>\n",
              "      <td>24959.969</td>\n",
              "      <td>purchase of a car</td>\n",
              "      <td>66 tahun keatas</td>\n",
              "      <td>24959.969</td>\n",
              "    </tr>\n",
              "    <tr>\n",
              "      <th>21451</th>\n",
              "      <td>1</td>\n",
              "      <td>2113.346888</td>\n",
              "      <td>38</td>\n",
              "      <td>secondary education</td>\n",
              "      <td>1</td>\n",
              "      <td>civil partnership</td>\n",
              "      <td>1</td>\n",
              "      <td>M</td>\n",
              "      <td>employee</td>\n",
              "      <td>1</td>\n",
              "      <td>14347.610</td>\n",
              "      <td>property</td>\n",
              "      <td>36-45 tahun</td>\n",
              "      <td>14347.610</td>\n",
              "    </tr>\n",
              "    <tr>\n",
              "      <th>21452</th>\n",
              "      <td>3</td>\n",
              "      <td>3112.481705</td>\n",
              "      <td>38</td>\n",
              "      <td>secondary education</td>\n",
              "      <td>1</td>\n",
              "      <td>married</td>\n",
              "      <td>0</td>\n",
              "      <td>M</td>\n",
              "      <td>employee</td>\n",
              "      <td>1</td>\n",
              "      <td>39054.888</td>\n",
              "      <td>buying my own car</td>\n",
              "      <td>36-45 tahun</td>\n",
              "      <td>39054.888</td>\n",
              "    </tr>\n",
              "    <tr>\n",
              "      <th>21453</th>\n",
              "      <td>2</td>\n",
              "      <td>1984.507589</td>\n",
              "      <td>40</td>\n",
              "      <td>secondary education</td>\n",
              "      <td>1</td>\n",
              "      <td>married</td>\n",
              "      <td>0</td>\n",
              "      <td>F</td>\n",
              "      <td>employee</td>\n",
              "      <td>0</td>\n",
              "      <td>13127.587</td>\n",
              "      <td>to buy a car</td>\n",
              "      <td>36-45 tahun</td>\n",
              "      <td>13127.587</td>\n",
              "    </tr>\n",
              "  </tbody>\n",
              "</table>\n",
              "<p>21454 rows × 14 columns</p>\n",
              "</div>"
            ],
            "text/plain": [
              "       children  days_employed  dob_years            education  education_id  \\\n",
              "0             1    8437.673028         42    bachelor's degree             0   \n",
              "1             1    4024.803754         36  secondary education             1   \n",
              "2             0    5623.422610         33  secondary education             1   \n",
              "3             3    4124.747207         32  secondary education             1   \n",
              "4             0   12410.000000         53  secondary education             1   \n",
              "...         ...            ...        ...                  ...           ...   \n",
              "21449         1    4529.316663         43  secondary education             1   \n",
              "21450         0   16790.000000         67  secondary education             1   \n",
              "21451         1    2113.346888         38  secondary education             1   \n",
              "21452         3    3112.481705         38  secondary education             1   \n",
              "21453         2    1984.507589         40  secondary education             1   \n",
              "\n",
              "           family_status  family_status_id gender income_type  debt  \\\n",
              "0                married                 0      F    employee     0   \n",
              "1                married                 0      F    employee     0   \n",
              "2                married                 0      M    employee     0   \n",
              "3                married                 0      M    employee     0   \n",
              "4      civil partnership                 1      F     retiree     0   \n",
              "...                  ...               ...    ...         ...   ...   \n",
              "21449  civil partnership                 1      F    business     0   \n",
              "21450            married                 0      F     retiree     0   \n",
              "21451  civil partnership                 1      M    employee     1   \n",
              "21452            married                 0      M    employee     1   \n",
              "21453            married                 0      F    employee     0   \n",
              "\n",
              "       total_income                  purpose        age_group  \\\n",
              "0         40620.102    purchase of the house      36-45 tahun   \n",
              "1         17932.802             car purchase      36-45 tahun   \n",
              "2         23341.752    purchase of the house      26-35 tahun   \n",
              "3         42820.568  supplementary education      26-35 tahun   \n",
              "4         25378.572        to have a wedding      46-55 tahun   \n",
              "...             ...                      ...              ...   \n",
              "21449     35966.698     housing transactions      36-45 tahun   \n",
              "21450     24959.969        purchase of a car  66 tahun keatas   \n",
              "21451     14347.610                 property      36-45 tahun   \n",
              "21452     39054.888        buying my own car      36-45 tahun   \n",
              "21453     13127.587             to buy a car      36-45 tahun   \n",
              "\n",
              "       total_income_clean  \n",
              "0               40620.102  \n",
              "1               17932.802  \n",
              "2               23341.752  \n",
              "3               42820.568  \n",
              "4               25378.572  \n",
              "...                   ...  \n",
              "21449           35966.698  \n",
              "21450           24959.969  \n",
              "21451           14347.610  \n",
              "21452           39054.888  \n",
              "21453           13127.587  \n",
              "\n",
              "[21454 rows x 14 columns]"
            ]
          },
          "execution_count": 64,
          "metadata": {},
          "output_type": "execute_result"
        }
      ],
      "source": [
        "# Periksa bahwa fungsi bekerja\n",
        "rules = data['age_group'].unique()\n",
        "data_imputation(data, column_filter='age_group', column_selected='days_employed', rules=rules)"
      ]
    },
    {
      "cell_type": "code",
      "execution_count": null,
      "metadata": {
        "scrolled": true,
        "id": "TM0LD44XxjOb",
        "outputId": "36a356a0-ca5d-4123-c56a-cba0b73817b3"
      },
      "outputs": [
        {
          "data": {
            "text/html": [
              "<div>\n",
              "<style scoped>\n",
              "    .dataframe tbody tr th:only-of-type {\n",
              "        vertical-align: middle;\n",
              "    }\n",
              "\n",
              "    .dataframe tbody tr th {\n",
              "        vertical-align: top;\n",
              "    }\n",
              "\n",
              "    .dataframe thead th {\n",
              "        text-align: right;\n",
              "    }\n",
              "</style>\n",
              "<table border=\"1\" class=\"dataframe\">\n",
              "  <thead>\n",
              "    <tr style=\"text-align: right;\">\n",
              "      <th></th>\n",
              "      <th>children</th>\n",
              "      <th>days_employed</th>\n",
              "      <th>dob_years</th>\n",
              "      <th>education</th>\n",
              "      <th>education_id</th>\n",
              "      <th>family_status</th>\n",
              "      <th>family_status_id</th>\n",
              "      <th>gender</th>\n",
              "      <th>income_type</th>\n",
              "      <th>debt</th>\n",
              "      <th>total_income</th>\n",
              "      <th>purpose</th>\n",
              "      <th>age_group</th>\n",
              "      <th>total_income_clean</th>\n",
              "    </tr>\n",
              "  </thead>\n",
              "  <tbody>\n",
              "    <tr>\n",
              "      <th>0</th>\n",
              "      <td>1</td>\n",
              "      <td>8437.673028</td>\n",
              "      <td>42</td>\n",
              "      <td>bachelor's degree</td>\n",
              "      <td>0</td>\n",
              "      <td>married</td>\n",
              "      <td>0</td>\n",
              "      <td>F</td>\n",
              "      <td>employee</td>\n",
              "      <td>0</td>\n",
              "      <td>40620.102</td>\n",
              "      <td>purchase of the house</td>\n",
              "      <td>36-45 tahun</td>\n",
              "      <td>40620.102</td>\n",
              "    </tr>\n",
              "    <tr>\n",
              "      <th>1</th>\n",
              "      <td>1</td>\n",
              "      <td>4024.803754</td>\n",
              "      <td>36</td>\n",
              "      <td>secondary education</td>\n",
              "      <td>1</td>\n",
              "      <td>married</td>\n",
              "      <td>0</td>\n",
              "      <td>F</td>\n",
              "      <td>employee</td>\n",
              "      <td>0</td>\n",
              "      <td>17932.802</td>\n",
              "      <td>car purchase</td>\n",
              "      <td>36-45 tahun</td>\n",
              "      <td>17932.802</td>\n",
              "    </tr>\n",
              "    <tr>\n",
              "      <th>2</th>\n",
              "      <td>0</td>\n",
              "      <td>5623.422610</td>\n",
              "      <td>33</td>\n",
              "      <td>secondary education</td>\n",
              "      <td>1</td>\n",
              "      <td>married</td>\n",
              "      <td>0</td>\n",
              "      <td>M</td>\n",
              "      <td>employee</td>\n",
              "      <td>0</td>\n",
              "      <td>23341.752</td>\n",
              "      <td>purchase of the house</td>\n",
              "      <td>26-35 tahun</td>\n",
              "      <td>23341.752</td>\n",
              "    </tr>\n",
              "    <tr>\n",
              "      <th>3</th>\n",
              "      <td>3</td>\n",
              "      <td>4124.747207</td>\n",
              "      <td>32</td>\n",
              "      <td>secondary education</td>\n",
              "      <td>1</td>\n",
              "      <td>married</td>\n",
              "      <td>0</td>\n",
              "      <td>M</td>\n",
              "      <td>employee</td>\n",
              "      <td>0</td>\n",
              "      <td>42820.568</td>\n",
              "      <td>supplementary education</td>\n",
              "      <td>26-35 tahun</td>\n",
              "      <td>42820.568</td>\n",
              "    </tr>\n",
              "    <tr>\n",
              "      <th>4</th>\n",
              "      <td>0</td>\n",
              "      <td>12410.000000</td>\n",
              "      <td>53</td>\n",
              "      <td>secondary education</td>\n",
              "      <td>1</td>\n",
              "      <td>civil partnership</td>\n",
              "      <td>1</td>\n",
              "      <td>F</td>\n",
              "      <td>retiree</td>\n",
              "      <td>0</td>\n",
              "      <td>25378.572</td>\n",
              "      <td>to have a wedding</td>\n",
              "      <td>46-55 tahun</td>\n",
              "      <td>25378.572</td>\n",
              "    </tr>\n",
              "    <tr>\n",
              "      <th>...</th>\n",
              "      <td>...</td>\n",
              "      <td>...</td>\n",
              "      <td>...</td>\n",
              "      <td>...</td>\n",
              "      <td>...</td>\n",
              "      <td>...</td>\n",
              "      <td>...</td>\n",
              "      <td>...</td>\n",
              "      <td>...</td>\n",
              "      <td>...</td>\n",
              "      <td>...</td>\n",
              "      <td>...</td>\n",
              "      <td>...</td>\n",
              "      <td>...</td>\n",
              "    </tr>\n",
              "    <tr>\n",
              "      <th>21449</th>\n",
              "      <td>1</td>\n",
              "      <td>4529.316663</td>\n",
              "      <td>43</td>\n",
              "      <td>secondary education</td>\n",
              "      <td>1</td>\n",
              "      <td>civil partnership</td>\n",
              "      <td>1</td>\n",
              "      <td>F</td>\n",
              "      <td>business</td>\n",
              "      <td>0</td>\n",
              "      <td>35966.698</td>\n",
              "      <td>housing transactions</td>\n",
              "      <td>36-45 tahun</td>\n",
              "      <td>35966.698</td>\n",
              "    </tr>\n",
              "    <tr>\n",
              "      <th>21450</th>\n",
              "      <td>0</td>\n",
              "      <td>16790.000000</td>\n",
              "      <td>67</td>\n",
              "      <td>secondary education</td>\n",
              "      <td>1</td>\n",
              "      <td>married</td>\n",
              "      <td>0</td>\n",
              "      <td>F</td>\n",
              "      <td>retiree</td>\n",
              "      <td>0</td>\n",
              "      <td>24959.969</td>\n",
              "      <td>purchase of a car</td>\n",
              "      <td>66 tahun keatas</td>\n",
              "      <td>24959.969</td>\n",
              "    </tr>\n",
              "    <tr>\n",
              "      <th>21451</th>\n",
              "      <td>1</td>\n",
              "      <td>2113.346888</td>\n",
              "      <td>38</td>\n",
              "      <td>secondary education</td>\n",
              "      <td>1</td>\n",
              "      <td>civil partnership</td>\n",
              "      <td>1</td>\n",
              "      <td>M</td>\n",
              "      <td>employee</td>\n",
              "      <td>1</td>\n",
              "      <td>14347.610</td>\n",
              "      <td>property</td>\n",
              "      <td>36-45 tahun</td>\n",
              "      <td>14347.610</td>\n",
              "    </tr>\n",
              "    <tr>\n",
              "      <th>21452</th>\n",
              "      <td>3</td>\n",
              "      <td>3112.481705</td>\n",
              "      <td>38</td>\n",
              "      <td>secondary education</td>\n",
              "      <td>1</td>\n",
              "      <td>married</td>\n",
              "      <td>0</td>\n",
              "      <td>M</td>\n",
              "      <td>employee</td>\n",
              "      <td>1</td>\n",
              "      <td>39054.888</td>\n",
              "      <td>buying my own car</td>\n",
              "      <td>36-45 tahun</td>\n",
              "      <td>39054.888</td>\n",
              "    </tr>\n",
              "    <tr>\n",
              "      <th>21453</th>\n",
              "      <td>2</td>\n",
              "      <td>1984.507589</td>\n",
              "      <td>40</td>\n",
              "      <td>secondary education</td>\n",
              "      <td>1</td>\n",
              "      <td>married</td>\n",
              "      <td>0</td>\n",
              "      <td>F</td>\n",
              "      <td>employee</td>\n",
              "      <td>0</td>\n",
              "      <td>13127.587</td>\n",
              "      <td>to buy a car</td>\n",
              "      <td>36-45 tahun</td>\n",
              "      <td>13127.587</td>\n",
              "    </tr>\n",
              "  </tbody>\n",
              "</table>\n",
              "<p>21454 rows × 14 columns</p>\n",
              "</div>"
            ],
            "text/plain": [
              "       children  days_employed  dob_years            education  education_id  \\\n",
              "0             1    8437.673028         42    bachelor's degree             0   \n",
              "1             1    4024.803754         36  secondary education             1   \n",
              "2             0    5623.422610         33  secondary education             1   \n",
              "3             3    4124.747207         32  secondary education             1   \n",
              "4             0   12410.000000         53  secondary education             1   \n",
              "...         ...            ...        ...                  ...           ...   \n",
              "21449         1    4529.316663         43  secondary education             1   \n",
              "21450         0   16790.000000         67  secondary education             1   \n",
              "21451         1    2113.346888         38  secondary education             1   \n",
              "21452         3    3112.481705         38  secondary education             1   \n",
              "21453         2    1984.507589         40  secondary education             1   \n",
              "\n",
              "           family_status  family_status_id gender income_type  debt  \\\n",
              "0                married                 0      F    employee     0   \n",
              "1                married                 0      F    employee     0   \n",
              "2                married                 0      M    employee     0   \n",
              "3                married                 0      M    employee     0   \n",
              "4      civil partnership                 1      F     retiree     0   \n",
              "...                  ...               ...    ...         ...   ...   \n",
              "21449  civil partnership                 1      F    business     0   \n",
              "21450            married                 0      F     retiree     0   \n",
              "21451  civil partnership                 1      M    employee     1   \n",
              "21452            married                 0      M    employee     1   \n",
              "21453            married                 0      F    employee     0   \n",
              "\n",
              "       total_income                  purpose        age_group  \\\n",
              "0         40620.102    purchase of the house      36-45 tahun   \n",
              "1         17932.802             car purchase      36-45 tahun   \n",
              "2         23341.752    purchase of the house      26-35 tahun   \n",
              "3         42820.568  supplementary education      26-35 tahun   \n",
              "4         25378.572        to have a wedding      46-55 tahun   \n",
              "...             ...                      ...              ...   \n",
              "21449     35966.698     housing transactions      36-45 tahun   \n",
              "21450     24959.969        purchase of a car  66 tahun keatas   \n",
              "21451     14347.610                 property      36-45 tahun   \n",
              "21452     39054.888        buying my own car      36-45 tahun   \n",
              "21453     13127.587             to buy a car      36-45 tahun   \n",
              "\n",
              "       total_income_clean  \n",
              "0               40620.102  \n",
              "1               17932.802  \n",
              "2               23341.752  \n",
              "3               42820.568  \n",
              "4               25378.572  \n",
              "...                   ...  \n",
              "21449           35966.698  \n",
              "21450           24959.969  \n",
              "21451           14347.610  \n",
              "21452           39054.888  \n",
              "21453           13127.587  \n",
              "\n",
              "[21454 rows x 14 columns]"
            ]
          },
          "execution_count": 65,
          "metadata": {},
          "output_type": "execute_result"
        }
      ],
      "source": [
        "# Terapkan fungsi ke income_type\n",
        "rules = data['income_type'].unique()\n",
        "\n",
        "data_imputation(data, column_filter='income_type', column_selected='total_income', rules=rules)"
      ]
    },
    {
      "cell_type": "code",
      "execution_count": null,
      "metadata": {
        "id": "cRx6FFP2xjOb",
        "outputId": "e259ff6a-a6e8-4cbe-83a7-f92c79cf362f"
      },
      "outputs": [
        {
          "data": {
            "text/html": [
              "<div>\n",
              "<style scoped>\n",
              "    .dataframe tbody tr th:only-of-type {\n",
              "        vertical-align: middle;\n",
              "    }\n",
              "\n",
              "    .dataframe tbody tr th {\n",
              "        vertical-align: top;\n",
              "    }\n",
              "\n",
              "    .dataframe thead th {\n",
              "        text-align: right;\n",
              "    }\n",
              "</style>\n",
              "<table border=\"1\" class=\"dataframe\">\n",
              "  <thead>\n",
              "    <tr style=\"text-align: right;\">\n",
              "      <th></th>\n",
              "      <th>children</th>\n",
              "      <th>days_employed</th>\n",
              "      <th>dob_years</th>\n",
              "      <th>education</th>\n",
              "      <th>education_id</th>\n",
              "      <th>family_status</th>\n",
              "      <th>family_status_id</th>\n",
              "      <th>gender</th>\n",
              "      <th>income_type</th>\n",
              "      <th>debt</th>\n",
              "      <th>total_income</th>\n",
              "      <th>purpose</th>\n",
              "      <th>age_group</th>\n",
              "      <th>total_income_clean</th>\n",
              "    </tr>\n",
              "  </thead>\n",
              "  <tbody>\n",
              "    <tr>\n",
              "      <th>0</th>\n",
              "      <td>1</td>\n",
              "      <td>8437.673028</td>\n",
              "      <td>42</td>\n",
              "      <td>bachelor's degree</td>\n",
              "      <td>0</td>\n",
              "      <td>married</td>\n",
              "      <td>0</td>\n",
              "      <td>F</td>\n",
              "      <td>employee</td>\n",
              "      <td>0</td>\n",
              "      <td>40620.102</td>\n",
              "      <td>purchase of the house</td>\n",
              "      <td>36-45 tahun</td>\n",
              "      <td>40620.102</td>\n",
              "    </tr>\n",
              "    <tr>\n",
              "      <th>1</th>\n",
              "      <td>1</td>\n",
              "      <td>4024.803754</td>\n",
              "      <td>36</td>\n",
              "      <td>secondary education</td>\n",
              "      <td>1</td>\n",
              "      <td>married</td>\n",
              "      <td>0</td>\n",
              "      <td>F</td>\n",
              "      <td>employee</td>\n",
              "      <td>0</td>\n",
              "      <td>17932.802</td>\n",
              "      <td>car purchase</td>\n",
              "      <td>36-45 tahun</td>\n",
              "      <td>17932.802</td>\n",
              "    </tr>\n",
              "    <tr>\n",
              "      <th>2</th>\n",
              "      <td>0</td>\n",
              "      <td>5623.422610</td>\n",
              "      <td>33</td>\n",
              "      <td>secondary education</td>\n",
              "      <td>1</td>\n",
              "      <td>married</td>\n",
              "      <td>0</td>\n",
              "      <td>M</td>\n",
              "      <td>employee</td>\n",
              "      <td>0</td>\n",
              "      <td>23341.752</td>\n",
              "      <td>purchase of the house</td>\n",
              "      <td>26-35 tahun</td>\n",
              "      <td>23341.752</td>\n",
              "    </tr>\n",
              "    <tr>\n",
              "      <th>3</th>\n",
              "      <td>3</td>\n",
              "      <td>4124.747207</td>\n",
              "      <td>32</td>\n",
              "      <td>secondary education</td>\n",
              "      <td>1</td>\n",
              "      <td>married</td>\n",
              "      <td>0</td>\n",
              "      <td>M</td>\n",
              "      <td>employee</td>\n",
              "      <td>0</td>\n",
              "      <td>42820.568</td>\n",
              "      <td>supplementary education</td>\n",
              "      <td>26-35 tahun</td>\n",
              "      <td>42820.568</td>\n",
              "    </tr>\n",
              "    <tr>\n",
              "      <th>4</th>\n",
              "      <td>0</td>\n",
              "      <td>12410.000000</td>\n",
              "      <td>53</td>\n",
              "      <td>secondary education</td>\n",
              "      <td>1</td>\n",
              "      <td>civil partnership</td>\n",
              "      <td>1</td>\n",
              "      <td>F</td>\n",
              "      <td>retiree</td>\n",
              "      <td>0</td>\n",
              "      <td>25378.572</td>\n",
              "      <td>to have a wedding</td>\n",
              "      <td>46-55 tahun</td>\n",
              "      <td>25378.572</td>\n",
              "    </tr>\n",
              "    <tr>\n",
              "      <th>5</th>\n",
              "      <td>0</td>\n",
              "      <td>926.185831</td>\n",
              "      <td>27</td>\n",
              "      <td>bachelor's degree</td>\n",
              "      <td>0</td>\n",
              "      <td>civil partnership</td>\n",
              "      <td>1</td>\n",
              "      <td>M</td>\n",
              "      <td>business</td>\n",
              "      <td>0</td>\n",
              "      <td>40922.170</td>\n",
              "      <td>purchase of the house</td>\n",
              "      <td>26-35 tahun</td>\n",
              "      <td>40922.170</td>\n",
              "    </tr>\n",
              "    <tr>\n",
              "      <th>6</th>\n",
              "      <td>0</td>\n",
              "      <td>2879.202052</td>\n",
              "      <td>43</td>\n",
              "      <td>bachelor's degree</td>\n",
              "      <td>0</td>\n",
              "      <td>married</td>\n",
              "      <td>0</td>\n",
              "      <td>F</td>\n",
              "      <td>business</td>\n",
              "      <td>0</td>\n",
              "      <td>38484.156</td>\n",
              "      <td>housing transactions</td>\n",
              "      <td>36-45 tahun</td>\n",
              "      <td>38484.156</td>\n",
              "    </tr>\n",
              "    <tr>\n",
              "      <th>7</th>\n",
              "      <td>0</td>\n",
              "      <td>152.779569</td>\n",
              "      <td>50</td>\n",
              "      <td>secondary education</td>\n",
              "      <td>1</td>\n",
              "      <td>married</td>\n",
              "      <td>0</td>\n",
              "      <td>M</td>\n",
              "      <td>employee</td>\n",
              "      <td>0</td>\n",
              "      <td>21731.829</td>\n",
              "      <td>education</td>\n",
              "      <td>46-55 tahun</td>\n",
              "      <td>21731.829</td>\n",
              "    </tr>\n",
              "    <tr>\n",
              "      <th>8</th>\n",
              "      <td>2</td>\n",
              "      <td>6929.865299</td>\n",
              "      <td>35</td>\n",
              "      <td>bachelor's degree</td>\n",
              "      <td>0</td>\n",
              "      <td>civil partnership</td>\n",
              "      <td>1</td>\n",
              "      <td>F</td>\n",
              "      <td>employee</td>\n",
              "      <td>0</td>\n",
              "      <td>15337.093</td>\n",
              "      <td>having a wedding</td>\n",
              "      <td>26-35 tahun</td>\n",
              "      <td>15337.093</td>\n",
              "    </tr>\n",
              "    <tr>\n",
              "      <th>9</th>\n",
              "      <td>0</td>\n",
              "      <td>2188.756445</td>\n",
              "      <td>41</td>\n",
              "      <td>secondary education</td>\n",
              "      <td>1</td>\n",
              "      <td>married</td>\n",
              "      <td>0</td>\n",
              "      <td>M</td>\n",
              "      <td>employee</td>\n",
              "      <td>0</td>\n",
              "      <td>23108.150</td>\n",
              "      <td>purchase of the house for my family</td>\n",
              "      <td>36-45 tahun</td>\n",
              "      <td>23108.150</td>\n",
              "    </tr>\n",
              "    <tr>\n",
              "      <th>10</th>\n",
              "      <td>2</td>\n",
              "      <td>4171.483647</td>\n",
              "      <td>36</td>\n",
              "      <td>bachelor's degree</td>\n",
              "      <td>0</td>\n",
              "      <td>married</td>\n",
              "      <td>0</td>\n",
              "      <td>M</td>\n",
              "      <td>business</td>\n",
              "      <td>0</td>\n",
              "      <td>18230.959</td>\n",
              "      <td>buy real estate</td>\n",
              "      <td>36-45 tahun</td>\n",
              "      <td>18230.959</td>\n",
              "    </tr>\n",
              "    <tr>\n",
              "      <th>11</th>\n",
              "      <td>0</td>\n",
              "      <td>792.701887</td>\n",
              "      <td>40</td>\n",
              "      <td>secondary education</td>\n",
              "      <td>1</td>\n",
              "      <td>married</td>\n",
              "      <td>0</td>\n",
              "      <td>F</td>\n",
              "      <td>employee</td>\n",
              "      <td>0</td>\n",
              "      <td>12331.077</td>\n",
              "      <td>buy commercial real estate</td>\n",
              "      <td>36-45 tahun</td>\n",
              "      <td>12331.077</td>\n",
              "    </tr>\n",
              "    <tr>\n",
              "      <th>12</th>\n",
              "      <td>0</td>\n",
              "      <td>14235.000000</td>\n",
              "      <td>65</td>\n",
              "      <td>secondary education</td>\n",
              "      <td>1</td>\n",
              "      <td>civil partnership</td>\n",
              "      <td>1</td>\n",
              "      <td>M</td>\n",
              "      <td>retiree</td>\n",
              "      <td>0</td>\n",
              "      <td>18962.318</td>\n",
              "      <td>to have a wedding</td>\n",
              "      <td>56-65 tahun</td>\n",
              "      <td>18962.318</td>\n",
              "    </tr>\n",
              "    <tr>\n",
              "      <th>13</th>\n",
              "      <td>0</td>\n",
              "      <td>1846.641941</td>\n",
              "      <td>54</td>\n",
              "      <td>some college</td>\n",
              "      <td>2</td>\n",
              "      <td>married</td>\n",
              "      <td>0</td>\n",
              "      <td>F</td>\n",
              "      <td>employee</td>\n",
              "      <td>0</td>\n",
              "      <td>20873.317</td>\n",
              "      <td>car purchase</td>\n",
              "      <td>46-55 tahun</td>\n",
              "      <td>20873.317</td>\n",
              "    </tr>\n",
              "    <tr>\n",
              "      <th>14</th>\n",
              "      <td>0</td>\n",
              "      <td>1844.956182</td>\n",
              "      <td>56</td>\n",
              "      <td>bachelor's degree</td>\n",
              "      <td>0</td>\n",
              "      <td>civil partnership</td>\n",
              "      <td>1</td>\n",
              "      <td>F</td>\n",
              "      <td>business</td>\n",
              "      <td>1</td>\n",
              "      <td>26420.466</td>\n",
              "      <td>buy residential real estate</td>\n",
              "      <td>56-65 tahun</td>\n",
              "      <td>26420.466</td>\n",
              "    </tr>\n",
              "  </tbody>\n",
              "</table>\n",
              "</div>"
            ],
            "text/plain": [
              "    children  days_employed  dob_years            education  education_id  \\\n",
              "0          1    8437.673028         42    bachelor's degree             0   \n",
              "1          1    4024.803754         36  secondary education             1   \n",
              "2          0    5623.422610         33  secondary education             1   \n",
              "3          3    4124.747207         32  secondary education             1   \n",
              "4          0   12410.000000         53  secondary education             1   \n",
              "5          0     926.185831         27    bachelor's degree             0   \n",
              "6          0    2879.202052         43    bachelor's degree             0   \n",
              "7          0     152.779569         50  secondary education             1   \n",
              "8          2    6929.865299         35    bachelor's degree             0   \n",
              "9          0    2188.756445         41  secondary education             1   \n",
              "10         2    4171.483647         36    bachelor's degree             0   \n",
              "11         0     792.701887         40  secondary education             1   \n",
              "12         0   14235.000000         65  secondary education             1   \n",
              "13         0    1846.641941         54         some college             2   \n",
              "14         0    1844.956182         56    bachelor's degree             0   \n",
              "\n",
              "        family_status  family_status_id gender income_type  debt  \\\n",
              "0             married                 0      F    employee     0   \n",
              "1             married                 0      F    employee     0   \n",
              "2             married                 0      M    employee     0   \n",
              "3             married                 0      M    employee     0   \n",
              "4   civil partnership                 1      F     retiree     0   \n",
              "5   civil partnership                 1      M    business     0   \n",
              "6             married                 0      F    business     0   \n",
              "7             married                 0      M    employee     0   \n",
              "8   civil partnership                 1      F    employee     0   \n",
              "9             married                 0      M    employee     0   \n",
              "10            married                 0      M    business     0   \n",
              "11            married                 0      F    employee     0   \n",
              "12  civil partnership                 1      M     retiree     0   \n",
              "13            married                 0      F    employee     0   \n",
              "14  civil partnership                 1      F    business     1   \n",
              "\n",
              "    total_income                              purpose    age_group  \\\n",
              "0      40620.102                purchase of the house  36-45 tahun   \n",
              "1      17932.802                         car purchase  36-45 tahun   \n",
              "2      23341.752                purchase of the house  26-35 tahun   \n",
              "3      42820.568              supplementary education  26-35 tahun   \n",
              "4      25378.572                    to have a wedding  46-55 tahun   \n",
              "5      40922.170                purchase of the house  26-35 tahun   \n",
              "6      38484.156                 housing transactions  36-45 tahun   \n",
              "7      21731.829                            education  46-55 tahun   \n",
              "8      15337.093                     having a wedding  26-35 tahun   \n",
              "9      23108.150  purchase of the house for my family  36-45 tahun   \n",
              "10     18230.959                      buy real estate  36-45 tahun   \n",
              "11     12331.077           buy commercial real estate  36-45 tahun   \n",
              "12     18962.318                    to have a wedding  56-65 tahun   \n",
              "13     20873.317                         car purchase  46-55 tahun   \n",
              "14     26420.466          buy residential real estate  56-65 tahun   \n",
              "\n",
              "    total_income_clean  \n",
              "0            40620.102  \n",
              "1            17932.802  \n",
              "2            23341.752  \n",
              "3            42820.568  \n",
              "4            25378.572  \n",
              "5            40922.170  \n",
              "6            38484.156  \n",
              "7            21731.829  \n",
              "8            15337.093  \n",
              "9            23108.150  \n",
              "10           18230.959  \n",
              "11           12331.077  \n",
              "12           18962.318  \n",
              "13           20873.317  \n",
              "14           26420.466  "
            ]
          },
          "execution_count": 66,
          "metadata": {},
          "output_type": "execute_result"
        }
      ],
      "source": [
        "# Periksa bahwa fungsi bekerja\n",
        "data.head(15)"
      ]
    },
    {
      "cell_type": "code",
      "execution_count": null,
      "metadata": {
        "scrolled": true,
        "id": "DqZwNM6zxjOb",
        "outputId": "7e8d2aca-5f7a-4d8f-d8d8-0d2e21b69880"
      },
      "outputs": [
        {
          "name": "stdout",
          "output_type": "stream",
          "text": [
            "<class 'pandas.core.frame.DataFrame'>\n",
            "RangeIndex: 21454 entries, 0 to 21453\n",
            "Data columns (total 14 columns):\n",
            " #   Column              Non-Null Count  Dtype  \n",
            "---  ------              --------------  -----  \n",
            " 0   children            21454 non-null  int64  \n",
            " 1   days_employed       21454 non-null  float64\n",
            " 2   dob_years           21454 non-null  int64  \n",
            " 3   education           21454 non-null  object \n",
            " 4   education_id        21454 non-null  int64  \n",
            " 5   family_status       21454 non-null  object \n",
            " 6   family_status_id    21454 non-null  int64  \n",
            " 7   gender              21454 non-null  object \n",
            " 8   income_type         21454 non-null  object \n",
            " 9   debt                21454 non-null  int64  \n",
            " 10  total_income        21454 non-null  float64\n",
            " 11  purpose             21454 non-null  object \n",
            " 12  age_group           21454 non-null  object \n",
            " 13  total_income_clean  21454 non-null  float64\n",
            "dtypes: float64(3), int64(5), object(6)\n",
            "memory usage: 2.3+ MB\n"
          ]
        }
      ],
      "source": [
        "# Periksa entri di semua kolom - pastikan kita memperbaiki semua nilai yang hilang\n",
        "data.info()"
      ]
    },
    {
      "cell_type": "markdown",
      "source": [
        "# Analisis Data Eksploratif (EDA)\n",
        "\n",
        "Pada bagian Hipotesis kita akan menjawab pertanyaan-pertanyaan berikut ini:\n",
        "1. Apakah terdapat hubungan antara memiliki anak dan probabilitas seseorang melakukan gagal bayar pinjaman?\n",
        "2. Apakah terdapat hubungan antara status perkawinan dan  probabilitas seseorang melakukan gagal bayar pinjaman?\n",
        "3. Apakah terdapat hubungan antara tingkat pendapatan dan probabilitas seseorang melakukan gagal bayar pinjaman?\n",
        "4. Bagaimana perbedaan tujuan pinjaman memengaruhi probabilitas seseorang melakukan gagal bayar pinjaman?"
      ],
      "metadata": {
        "id": "gcWUAJYK2rKv"
      }
    },
    {
      "cell_type": "markdown",
      "metadata": {
        "id": "moVjTlkgxjOc"
      },
      "source": [
        "### Pengkategorian Data"
      ]
    },
    {
      "cell_type": "code",
      "execution_count": null,
      "metadata": {
        "scrolled": true,
        "id": "JtubVxPExjOc",
        "outputId": "56d6294b-c435-4ed3-df8f-e77610a6749d"
      },
      "outputs": [
        {
          "data": {
            "text/html": [
              "<div>\n",
              "<style scoped>\n",
              "    .dataframe tbody tr th:only-of-type {\n",
              "        vertical-align: middle;\n",
              "    }\n",
              "\n",
              "    .dataframe tbody tr th {\n",
              "        vertical-align: top;\n",
              "    }\n",
              "\n",
              "    .dataframe thead th {\n",
              "        text-align: right;\n",
              "    }\n",
              "</style>\n",
              "<table border=\"1\" class=\"dataframe\">\n",
              "  <thead>\n",
              "    <tr style=\"text-align: right;\">\n",
              "      <th></th>\n",
              "      <th>children</th>\n",
              "      <th>family_status</th>\n",
              "      <th>purpose</th>\n",
              "    </tr>\n",
              "  </thead>\n",
              "  <tbody>\n",
              "    <tr>\n",
              "      <th>0</th>\n",
              "      <td>1</td>\n",
              "      <td>married</td>\n",
              "      <td>purchase of the house</td>\n",
              "    </tr>\n",
              "    <tr>\n",
              "      <th>1</th>\n",
              "      <td>1</td>\n",
              "      <td>married</td>\n",
              "      <td>car purchase</td>\n",
              "    </tr>\n",
              "    <tr>\n",
              "      <th>2</th>\n",
              "      <td>0</td>\n",
              "      <td>married</td>\n",
              "      <td>purchase of the house</td>\n",
              "    </tr>\n",
              "    <tr>\n",
              "      <th>3</th>\n",
              "      <td>3</td>\n",
              "      <td>married</td>\n",
              "      <td>supplementary education</td>\n",
              "    </tr>\n",
              "    <tr>\n",
              "      <th>4</th>\n",
              "      <td>0</td>\n",
              "      <td>civil partnership</td>\n",
              "      <td>to have a wedding</td>\n",
              "    </tr>\n",
              "    <tr>\n",
              "      <th>...</th>\n",
              "      <td>...</td>\n",
              "      <td>...</td>\n",
              "      <td>...</td>\n",
              "    </tr>\n",
              "    <tr>\n",
              "      <th>21449</th>\n",
              "      <td>1</td>\n",
              "      <td>civil partnership</td>\n",
              "      <td>housing transactions</td>\n",
              "    </tr>\n",
              "    <tr>\n",
              "      <th>21450</th>\n",
              "      <td>0</td>\n",
              "      <td>married</td>\n",
              "      <td>purchase of a car</td>\n",
              "    </tr>\n",
              "    <tr>\n",
              "      <th>21451</th>\n",
              "      <td>1</td>\n",
              "      <td>civil partnership</td>\n",
              "      <td>property</td>\n",
              "    </tr>\n",
              "    <tr>\n",
              "      <th>21452</th>\n",
              "      <td>3</td>\n",
              "      <td>married</td>\n",
              "      <td>buying my own car</td>\n",
              "    </tr>\n",
              "    <tr>\n",
              "      <th>21453</th>\n",
              "      <td>2</td>\n",
              "      <td>married</td>\n",
              "      <td>to buy a car</td>\n",
              "    </tr>\n",
              "  </tbody>\n",
              "</table>\n",
              "<p>21454 rows × 3 columns</p>\n",
              "</div>"
            ],
            "text/plain": [
              "       children      family_status                  purpose\n",
              "0             1            married    purchase of the house\n",
              "1             1            married             car purchase\n",
              "2             0            married    purchase of the house\n",
              "3             3            married  supplementary education\n",
              "4             0  civil partnership        to have a wedding\n",
              "...         ...                ...                      ...\n",
              "21449         1  civil partnership     housing transactions\n",
              "21450         0            married        purchase of a car\n",
              "21451         1  civil partnership                 property\n",
              "21452         3            married        buying my own car\n",
              "21453         2            married             to buy a car\n",
              "\n",
              "[21454 rows x 3 columns]"
            ]
          },
          "execution_count": 69,
          "metadata": {},
          "output_type": "execute_result"
        }
      ],
      "source": [
        "# Tampilkan nilai data yang Anda pilih untuk pengkategorian\n",
        "\n",
        "data[['children', 'family_status', 'purpose']]\n"
      ]
    },
    {
      "cell_type": "code",
      "execution_count": null,
      "metadata": {
        "scrolled": true,
        "id": "jWnxw3hqxjOc",
        "outputId": "6268d653-ac4d-4fe9-f905-d9ab6a81d011"
      },
      "outputs": [
        {
          "data": {
            "text/plain": [
              "[0, 1, 2, 3, 4, 5]"
            ]
          },
          "execution_count": 70,
          "metadata": {},
          "output_type": "execute_result"
        }
      ],
      "source": [
        "# Periksa nilai unik\n",
        "# pada kolom age_group\n",
        "\n",
        "sorted(data['children'].unique())"
      ]
    },
    {
      "cell_type": "code",
      "execution_count": null,
      "metadata": {
        "id": "yR-ceET4xjOc",
        "outputId": "53158327-886e-483f-9721-4e9feca19d2d"
      },
      "outputs": [
        {
          "data": {
            "text/plain": [
              "['civil partnership', 'divorced', 'married', 'unmarried', 'widow / widower']"
            ]
          },
          "execution_count": 71,
          "metadata": {},
          "output_type": "execute_result"
        }
      ],
      "source": [
        "# Periksa nilai unik\n",
        "# pada kolom children\n",
        "\n",
        "sorted(data['family_status'].unique())"
      ]
    },
    {
      "cell_type": "code",
      "execution_count": null,
      "metadata": {
        "scrolled": true,
        "id": "e0I2RcZuxjOc",
        "outputId": "ff5b88eb-749e-4276-8259-4dbab3dcff24"
      },
      "outputs": [
        {
          "data": {
            "text/plain": [
              "['building a property',\n",
              " 'building a real estate',\n",
              " 'buy commercial real estate',\n",
              " 'buy real estate',\n",
              " 'buy residential real estate',\n",
              " 'buying a second-hand car',\n",
              " 'buying my own car',\n",
              " 'buying property for renting out',\n",
              " 'car',\n",
              " 'car purchase',\n",
              " 'cars',\n",
              " 'construction of own property',\n",
              " 'education',\n",
              " 'getting an education',\n",
              " 'getting higher education',\n",
              " 'going to university',\n",
              " 'having a wedding',\n",
              " 'housing',\n",
              " 'housing renovation',\n",
              " 'housing transactions',\n",
              " 'profile education',\n",
              " 'property',\n",
              " 'purchase of a car',\n",
              " 'purchase of my own house',\n",
              " 'purchase of the house',\n",
              " 'purchase of the house for my family',\n",
              " 'real estate transactions',\n",
              " 'second-hand car purchase',\n",
              " 'supplementary education',\n",
              " 'to become educated',\n",
              " 'to buy a car',\n",
              " 'to get a supplementary education',\n",
              " 'to have a wedding',\n",
              " 'to own a car',\n",
              " 'transactions with commercial real estate',\n",
              " 'transactions with my real estate',\n",
              " 'university education',\n",
              " 'wedding ceremony']"
            ]
          },
          "execution_count": 72,
          "metadata": {},
          "output_type": "execute_result"
        }
      ],
      "source": [
        "# Periksa nilai unik\n",
        "# pada kolom purpose\n",
        "\n",
        "sorted(data['purpose'].unique())"
      ]
    },
    {
      "cell_type": "markdown",
      "metadata": {
        "id": "8yQD23PtxjOc"
      },
      "source": [
        "Kelompok utama yang akan diidentifikasi adalah `debt` berdasarkan nilai unik `purpose` dan `total_income`.\n"
      ]
    },
    {
      "cell_type": "code",
      "execution_count": null,
      "metadata": {
        "id": "qrKyheyixjOc"
      },
      "outputs": [],
      "source": [
        "# Mari kita menulis fungsi untuk mengkategorikan data berdasarkan topik umum\n",
        "# kategori untuk kolom debt\n",
        "\n",
        "def replace_debt(value):\n",
        "    if value == 1:\n",
        "        return \"history gagal bayar\"\n",
        "    else:\n",
        "        return \"history hutang lancar\""
      ]
    },
    {
      "cell_type": "code",
      "execution_count": null,
      "metadata": {
        "scrolled": true,
        "id": "eQX94iq7xjOc",
        "outputId": "a2d1fd03-54ee-4685-df41-7ce972c1600d"
      },
      "outputs": [
        {
          "data": {
            "text/html": [
              "<div>\n",
              "<style scoped>\n",
              "    .dataframe tbody tr th:only-of-type {\n",
              "        vertical-align: middle;\n",
              "    }\n",
              "\n",
              "    .dataframe tbody tr th {\n",
              "        vertical-align: top;\n",
              "    }\n",
              "\n",
              "    .dataframe thead th {\n",
              "        text-align: right;\n",
              "    }\n",
              "</style>\n",
              "<table border=\"1\" class=\"dataframe\">\n",
              "  <thead>\n",
              "    <tr style=\"text-align: right;\">\n",
              "      <th></th>\n",
              "      <th>children</th>\n",
              "      <th>days_employed</th>\n",
              "      <th>dob_years</th>\n",
              "      <th>education</th>\n",
              "      <th>education_id</th>\n",
              "      <th>family_status</th>\n",
              "      <th>family_status_id</th>\n",
              "      <th>gender</th>\n",
              "      <th>income_type</th>\n",
              "      <th>debt</th>\n",
              "      <th>total_income</th>\n",
              "      <th>purpose</th>\n",
              "      <th>age_group</th>\n",
              "      <th>total_income_clean</th>\n",
              "      <th>debt_meaning</th>\n",
              "    </tr>\n",
              "  </thead>\n",
              "  <tbody>\n",
              "    <tr>\n",
              "      <th>0</th>\n",
              "      <td>1</td>\n",
              "      <td>8437.673028</td>\n",
              "      <td>42</td>\n",
              "      <td>bachelor's degree</td>\n",
              "      <td>0</td>\n",
              "      <td>married</td>\n",
              "      <td>0</td>\n",
              "      <td>F</td>\n",
              "      <td>employee</td>\n",
              "      <td>0</td>\n",
              "      <td>40620.102</td>\n",
              "      <td>purchase of the house</td>\n",
              "      <td>36-45 tahun</td>\n",
              "      <td>40620.102</td>\n",
              "      <td>history hutang lancar</td>\n",
              "    </tr>\n",
              "    <tr>\n",
              "      <th>1</th>\n",
              "      <td>1</td>\n",
              "      <td>4024.803754</td>\n",
              "      <td>36</td>\n",
              "      <td>secondary education</td>\n",
              "      <td>1</td>\n",
              "      <td>married</td>\n",
              "      <td>0</td>\n",
              "      <td>F</td>\n",
              "      <td>employee</td>\n",
              "      <td>0</td>\n",
              "      <td>17932.802</td>\n",
              "      <td>car purchase</td>\n",
              "      <td>36-45 tahun</td>\n",
              "      <td>17932.802</td>\n",
              "      <td>history hutang lancar</td>\n",
              "    </tr>\n",
              "    <tr>\n",
              "      <th>2</th>\n",
              "      <td>0</td>\n",
              "      <td>5623.422610</td>\n",
              "      <td>33</td>\n",
              "      <td>secondary education</td>\n",
              "      <td>1</td>\n",
              "      <td>married</td>\n",
              "      <td>0</td>\n",
              "      <td>M</td>\n",
              "      <td>employee</td>\n",
              "      <td>0</td>\n",
              "      <td>23341.752</td>\n",
              "      <td>purchase of the house</td>\n",
              "      <td>26-35 tahun</td>\n",
              "      <td>23341.752</td>\n",
              "      <td>history hutang lancar</td>\n",
              "    </tr>\n",
              "    <tr>\n",
              "      <th>3</th>\n",
              "      <td>3</td>\n",
              "      <td>4124.747207</td>\n",
              "      <td>32</td>\n",
              "      <td>secondary education</td>\n",
              "      <td>1</td>\n",
              "      <td>married</td>\n",
              "      <td>0</td>\n",
              "      <td>M</td>\n",
              "      <td>employee</td>\n",
              "      <td>0</td>\n",
              "      <td>42820.568</td>\n",
              "      <td>supplementary education</td>\n",
              "      <td>26-35 tahun</td>\n",
              "      <td>42820.568</td>\n",
              "      <td>history hutang lancar</td>\n",
              "    </tr>\n",
              "    <tr>\n",
              "      <th>4</th>\n",
              "      <td>0</td>\n",
              "      <td>12410.000000</td>\n",
              "      <td>53</td>\n",
              "      <td>secondary education</td>\n",
              "      <td>1</td>\n",
              "      <td>civil partnership</td>\n",
              "      <td>1</td>\n",
              "      <td>F</td>\n",
              "      <td>retiree</td>\n",
              "      <td>0</td>\n",
              "      <td>25378.572</td>\n",
              "      <td>to have a wedding</td>\n",
              "      <td>46-55 tahun</td>\n",
              "      <td>25378.572</td>\n",
              "      <td>history hutang lancar</td>\n",
              "    </tr>\n",
              "  </tbody>\n",
              "</table>\n",
              "</div>"
            ],
            "text/plain": [
              "   children  days_employed  dob_years            education  education_id  \\\n",
              "0         1    8437.673028         42    bachelor's degree             0   \n",
              "1         1    4024.803754         36  secondary education             1   \n",
              "2         0    5623.422610         33  secondary education             1   \n",
              "3         3    4124.747207         32  secondary education             1   \n",
              "4         0   12410.000000         53  secondary education             1   \n",
              "\n",
              "       family_status  family_status_id gender income_type  debt  total_income  \\\n",
              "0            married                 0      F    employee     0     40620.102   \n",
              "1            married                 0      F    employee     0     17932.802   \n",
              "2            married                 0      M    employee     0     23341.752   \n",
              "3            married                 0      M    employee     0     42820.568   \n",
              "4  civil partnership                 1      F     retiree     0     25378.572   \n",
              "\n",
              "                   purpose    age_group  total_income_clean  \\\n",
              "0    purchase of the house  36-45 tahun           40620.102   \n",
              "1             car purchase  36-45 tahun           17932.802   \n",
              "2    purchase of the house  26-35 tahun           23341.752   \n",
              "3  supplementary education  26-35 tahun           42820.568   \n",
              "4        to have a wedding  46-55 tahun           25378.572   \n",
              "\n",
              "            debt_meaning  \n",
              "0  history hutang lancar  \n",
              "1  history hutang lancar  \n",
              "2  history hutang lancar  \n",
              "3  history hutang lancar  \n",
              "4  history hutang lancar  "
            ]
          },
          "execution_count": 74,
          "metadata": {},
          "output_type": "execute_result"
        }
      ],
      "source": [
        "# Buat kolom dengan kategori dan hitung nilainya\n",
        "# Kolom baru untuk mengkategorikan kolom debt\n",
        "\n",
        "data['debt_meaning'] = data['debt'].apply(replace_debt)\n",
        "data.head()"
      ]
    },
    {
      "cell_type": "code",
      "execution_count": null,
      "metadata": {
        "id": "tGnVZuqexjOc"
      },
      "outputs": [],
      "source": [
        "# Mari kita menulis fungsi untuk mengkategorikan data berdasarkan topik umum\n",
        "# kategori untuk kolom purpose karena nilai unik pada kolom purpose >10 dan beberapa value mengandung arti yang sama\n",
        "# kelompok kategori dibuat ke kolom baru\n",
        "\n",
        "data.loc[data['purpose'].isin(['building a property', 'building a real estate', 'buy commercial real estate', 'buy real estate', 'buy residential real estate', 'housing', 'housing transactions', 'purchase of my own house', 'purchase of the house', 'purchase of the house for my family', 'real estate transactions', 'transactions with commercial real estate', 'transactions with my real estate']), 'purpose_group'] = 'buy house'\n",
        "data.loc[data['purpose'].isin(['having a wedding', 'to have a wedding', 'wedding ceremony']), 'purpose_group'] = 'wedding'\n",
        "data.loc[data['purpose'].isin(['education', 'getting an education', 'getting higher education', 'going to university', 'profile education', 'supplementary education', 'to become educated', 'to get a supplementary education', 'university education']), 'purpose_group'] = 'education'\n",
        "data.loc[data['purpose'].isin(['construction of own property', 'housing renovation']), 'purpose_group'] = 'housing renovation'\n",
        "data.loc[data['purpose'].isin(['buying property for renting out', 'property']), 'purpose_group'] = 'buy property'\n",
        "data.loc[data['purpose'].isin(['buying a second-hand car', 'buying my own car', 'car', 'car purchase', 'cars', 'purchase of a car', 'second-hand car purchase', 'to buy a car', 'to own a car']), 'purpose_group'] = 'car purchase'\n"
      ]
    },
    {
      "cell_type": "code",
      "execution_count": null,
      "metadata": {
        "scrolled": false,
        "id": "3oLS0KwMxjOc",
        "outputId": "ce3897c9-d315-4114-9b08-12fe541b4266"
      },
      "outputs": [
        {
          "data": {
            "text/html": [
              "<div>\n",
              "<style scoped>\n",
              "    .dataframe tbody tr th:only-of-type {\n",
              "        vertical-align: middle;\n",
              "    }\n",
              "\n",
              "    .dataframe tbody tr th {\n",
              "        vertical-align: top;\n",
              "    }\n",
              "\n",
              "    .dataframe thead th {\n",
              "        text-align: right;\n",
              "    }\n",
              "</style>\n",
              "<table border=\"1\" class=\"dataframe\">\n",
              "  <thead>\n",
              "    <tr style=\"text-align: right;\">\n",
              "      <th></th>\n",
              "      <th>children</th>\n",
              "      <th>days_employed</th>\n",
              "      <th>dob_years</th>\n",
              "      <th>education</th>\n",
              "      <th>education_id</th>\n",
              "      <th>family_status</th>\n",
              "      <th>family_status_id</th>\n",
              "      <th>gender</th>\n",
              "      <th>income_type</th>\n",
              "      <th>debt</th>\n",
              "      <th>total_income</th>\n",
              "      <th>purpose</th>\n",
              "      <th>age_group</th>\n",
              "      <th>total_income_clean</th>\n",
              "      <th>debt_meaning</th>\n",
              "      <th>purpose_group</th>\n",
              "    </tr>\n",
              "  </thead>\n",
              "  <tbody>\n",
              "    <tr>\n",
              "      <th>15</th>\n",
              "      <td>1</td>\n",
              "      <td>972.364419</td>\n",
              "      <td>26</td>\n",
              "      <td>secondary education</td>\n",
              "      <td>1</td>\n",
              "      <td>married</td>\n",
              "      <td>0</td>\n",
              "      <td>F</td>\n",
              "      <td>employee</td>\n",
              "      <td>0</td>\n",
              "      <td>18691.345</td>\n",
              "      <td>construction of own property</td>\n",
              "      <td>26-35 tahun</td>\n",
              "      <td>18691.345</td>\n",
              "      <td>history hutang lancar</td>\n",
              "      <td>housing renovation</td>\n",
              "    </tr>\n",
              "    <tr>\n",
              "      <th>27</th>\n",
              "      <td>0</td>\n",
              "      <td>529.191635</td>\n",
              "      <td>28</td>\n",
              "      <td>bachelor's degree</td>\n",
              "      <td>0</td>\n",
              "      <td>married</td>\n",
              "      <td>0</td>\n",
              "      <td>M</td>\n",
              "      <td>employee</td>\n",
              "      <td>0</td>\n",
              "      <td>49415.837</td>\n",
              "      <td>construction of own property</td>\n",
              "      <td>26-35 tahun</td>\n",
              "      <td>49415.837</td>\n",
              "      <td>history hutang lancar</td>\n",
              "      <td>housing renovation</td>\n",
              "    </tr>\n",
              "    <tr>\n",
              "      <th>28</th>\n",
              "      <td>1</td>\n",
              "      <td>717.274324</td>\n",
              "      <td>26</td>\n",
              "      <td>bachelor's degree</td>\n",
              "      <td>0</td>\n",
              "      <td>married</td>\n",
              "      <td>0</td>\n",
              "      <td>F</td>\n",
              "      <td>employee</td>\n",
              "      <td>0</td>\n",
              "      <td>30058.118</td>\n",
              "      <td>construction of own property</td>\n",
              "      <td>26-35 tahun</td>\n",
              "      <td>30058.118</td>\n",
              "      <td>history hutang lancar</td>\n",
              "      <td>housing renovation</td>\n",
              "    </tr>\n",
              "    <tr>\n",
              "      <th>48</th>\n",
              "      <td>0</td>\n",
              "      <td>3341.067886</td>\n",
              "      <td>45</td>\n",
              "      <td>secondary education</td>\n",
              "      <td>1</td>\n",
              "      <td>married</td>\n",
              "      <td>0</td>\n",
              "      <td>F</td>\n",
              "      <td>employee</td>\n",
              "      <td>0</td>\n",
              "      <td>25930.483</td>\n",
              "      <td>construction of own property</td>\n",
              "      <td>36-45 tahun</td>\n",
              "      <td>25930.483</td>\n",
              "      <td>history hutang lancar</td>\n",
              "      <td>housing renovation</td>\n",
              "    </tr>\n",
              "    <tr>\n",
              "      <th>105</th>\n",
              "      <td>0</td>\n",
              "      <td>2098.626296</td>\n",
              "      <td>62</td>\n",
              "      <td>secondary education</td>\n",
              "      <td>1</td>\n",
              "      <td>widow / widower</td>\n",
              "      <td>2</td>\n",
              "      <td>F</td>\n",
              "      <td>employee</td>\n",
              "      <td>0</td>\n",
              "      <td>12301.470</td>\n",
              "      <td>construction of own property</td>\n",
              "      <td>56-65 tahun</td>\n",
              "      <td>12301.470</td>\n",
              "      <td>history hutang lancar</td>\n",
              "      <td>housing renovation</td>\n",
              "    </tr>\n",
              "  </tbody>\n",
              "</table>\n",
              "</div>"
            ],
            "text/plain": [
              "     children  days_employed  dob_years            education  education_id  \\\n",
              "15          1     972.364419         26  secondary education             1   \n",
              "27          0     529.191635         28    bachelor's degree             0   \n",
              "28          1     717.274324         26    bachelor's degree             0   \n",
              "48          0    3341.067886         45  secondary education             1   \n",
              "105         0    2098.626296         62  secondary education             1   \n",
              "\n",
              "       family_status  family_status_id gender income_type  debt  total_income  \\\n",
              "15           married                 0      F    employee     0     18691.345   \n",
              "27           married                 0      M    employee     0     49415.837   \n",
              "28           married                 0      F    employee     0     30058.118   \n",
              "48           married                 0      F    employee     0     25930.483   \n",
              "105  widow / widower                 2      F    employee     0     12301.470   \n",
              "\n",
              "                          purpose    age_group  total_income_clean  \\\n",
              "15   construction of own property  26-35 tahun           18691.345   \n",
              "27   construction of own property  26-35 tahun           49415.837   \n",
              "28   construction of own property  26-35 tahun           30058.118   \n",
              "48   construction of own property  36-45 tahun           25930.483   \n",
              "105  construction of own property  56-65 tahun           12301.470   \n",
              "\n",
              "              debt_meaning       purpose_group  \n",
              "15   history hutang lancar  housing renovation  \n",
              "27   history hutang lancar  housing renovation  \n",
              "28   history hutang lancar  housing renovation  \n",
              "48   history hutang lancar  housing renovation  \n",
              "105  history hutang lancar  housing renovation  "
            ]
          },
          "execution_count": 76,
          "metadata": {},
          "output_type": "execute_result"
        }
      ],
      "source": [
        "# Memeriksa fungsi bekerja\n",
        "data.loc[data['purpose'] == 'construction of own property'].head()"
      ]
    },
    {
      "cell_type": "code",
      "execution_count": null,
      "metadata": {
        "id": "UkIWqmKCxjOd",
        "outputId": "5db558a1-5ff1-40b7-d665-87aaa9446461"
      },
      "outputs": [
        {
          "name": "stdout",
          "output_type": "stream",
          "text": [
            "<class 'pandas.core.frame.DataFrame'>\n",
            "RangeIndex: 21454 entries, 0 to 21453\n",
            "Data columns (total 16 columns):\n",
            " #   Column              Non-Null Count  Dtype  \n",
            "---  ------              --------------  -----  \n",
            " 0   children            21454 non-null  int64  \n",
            " 1   days_employed       21454 non-null  float64\n",
            " 2   dob_years           21454 non-null  int64  \n",
            " 3   education           21454 non-null  object \n",
            " 4   education_id        21454 non-null  int64  \n",
            " 5   family_status       21454 non-null  object \n",
            " 6   family_status_id    21454 non-null  int64  \n",
            " 7   gender              21454 non-null  object \n",
            " 8   income_type         21454 non-null  object \n",
            " 9   debt                21454 non-null  int64  \n",
            " 10  total_income        21454 non-null  float64\n",
            " 11  purpose             21454 non-null  object \n",
            " 12  age_group           21454 non-null  object \n",
            " 13  total_income_clean  21454 non-null  float64\n",
            " 14  debt_meaning        21454 non-null  object \n",
            " 15  purpose_group       21454 non-null  object \n",
            "dtypes: float64(3), int64(5), object(8)\n",
            "memory usage: 2.6+ MB\n"
          ]
        }
      ],
      "source": [
        "# Melihat distribusi\n",
        "data.info()"
      ]
    },
    {
      "cell_type": "code",
      "execution_count": null,
      "metadata": {
        "id": "1Aom2TyUxjOd",
        "outputId": "c9927c28-0320-4188-e3d1-65ac15f9853b"
      },
      "outputs": [
        {
          "data": {
            "text/plain": [
              "['buy house',\n",
              " 'buy property',\n",
              " 'car purchase',\n",
              " 'education',\n",
              " 'housing renovation',\n",
              " 'wedding']"
            ]
          },
          "execution_count": 78,
          "metadata": {},
          "output_type": "execute_result"
        }
      ],
      "source": [
        "# Periksa nilai unik pada kolom purpose_group\n",
        "\n",
        "sorted(data['purpose_group'].unique())"
      ]
    },
    {
      "cell_type": "markdown",
      "metadata": {
        "id": "Jeq52vaSxjOd"
      },
      "source": [
        "Pengkategorian kelompok numerik dari kolom `total_income` dengan mengelompokkan pendapatan ke beberapa rentang pendapatan, karena pendapatan nilainya bervariasi. Sehingga bisa membantu kita dalam mengambil keputusan dalam memberikan pinjaman."
      ]
    },
    {
      "cell_type": "code",
      "execution_count": null,
      "metadata": {
        "id": "ZowIQGKVxjOd"
      },
      "outputs": [],
      "source": [
        "# Membuat fungsi untuk pengkategorian menjadi kelompok numerik yang berbeda berdasarkan rentang\n",
        "\n",
        "income = data['total_income']\n",
        "def assign_income_group(income):\n",
        "    if income < 10000:\n",
        "        return 'below 10k'\n",
        "    elif income >= 10000 and income < 25000:\n",
        "        return '10k-25k'\n",
        "    elif income >= 25000 and income < 50000:\n",
        "        return '25k-50k'\n",
        "    elif income >= 50000 and income < 100000:\n",
        "        return '50k-100k'\n",
        "    elif income >= 100000 and income < 300000:\n",
        "        return '100k-300k'\n",
        "    else:\n",
        "        return 'above 300k'"
      ]
    },
    {
      "cell_type": "code",
      "execution_count": null,
      "metadata": {
        "id": "y1rOJWCtxjOd",
        "outputId": "75df64cb-5d2f-48f2-c4e5-3ad7564eb94a"
      },
      "outputs": [
        {
          "data": {
            "text/html": [
              "<div>\n",
              "<style scoped>\n",
              "    .dataframe tbody tr th:only-of-type {\n",
              "        vertical-align: middle;\n",
              "    }\n",
              "\n",
              "    .dataframe tbody tr th {\n",
              "        vertical-align: top;\n",
              "    }\n",
              "\n",
              "    .dataframe thead th {\n",
              "        text-align: right;\n",
              "    }\n",
              "</style>\n",
              "<table border=\"1\" class=\"dataframe\">\n",
              "  <thead>\n",
              "    <tr style=\"text-align: right;\">\n",
              "      <th></th>\n",
              "      <th>children</th>\n",
              "      <th>days_employed</th>\n",
              "      <th>dob_years</th>\n",
              "      <th>education</th>\n",
              "      <th>education_id</th>\n",
              "      <th>family_status</th>\n",
              "      <th>family_status_id</th>\n",
              "      <th>gender</th>\n",
              "      <th>income_type</th>\n",
              "      <th>debt</th>\n",
              "      <th>total_income</th>\n",
              "      <th>purpose</th>\n",
              "      <th>age_group</th>\n",
              "      <th>total_income_clean</th>\n",
              "      <th>debt_meaning</th>\n",
              "      <th>purpose_group</th>\n",
              "      <th>income_group</th>\n",
              "    </tr>\n",
              "  </thead>\n",
              "  <tbody>\n",
              "    <tr>\n",
              "      <th>0</th>\n",
              "      <td>1</td>\n",
              "      <td>8437.673028</td>\n",
              "      <td>42</td>\n",
              "      <td>bachelor's degree</td>\n",
              "      <td>0</td>\n",
              "      <td>married</td>\n",
              "      <td>0</td>\n",
              "      <td>F</td>\n",
              "      <td>employee</td>\n",
              "      <td>0</td>\n",
              "      <td>40620.102</td>\n",
              "      <td>purchase of the house</td>\n",
              "      <td>36-45 tahun</td>\n",
              "      <td>40620.102</td>\n",
              "      <td>history hutang lancar</td>\n",
              "      <td>buy house</td>\n",
              "      <td>25k-50k</td>\n",
              "    </tr>\n",
              "    <tr>\n",
              "      <th>1</th>\n",
              "      <td>1</td>\n",
              "      <td>4024.803754</td>\n",
              "      <td>36</td>\n",
              "      <td>secondary education</td>\n",
              "      <td>1</td>\n",
              "      <td>married</td>\n",
              "      <td>0</td>\n",
              "      <td>F</td>\n",
              "      <td>employee</td>\n",
              "      <td>0</td>\n",
              "      <td>17932.802</td>\n",
              "      <td>car purchase</td>\n",
              "      <td>36-45 tahun</td>\n",
              "      <td>17932.802</td>\n",
              "      <td>history hutang lancar</td>\n",
              "      <td>car purchase</td>\n",
              "      <td>10k-25k</td>\n",
              "    </tr>\n",
              "    <tr>\n",
              "      <th>2</th>\n",
              "      <td>0</td>\n",
              "      <td>5623.422610</td>\n",
              "      <td>33</td>\n",
              "      <td>secondary education</td>\n",
              "      <td>1</td>\n",
              "      <td>married</td>\n",
              "      <td>0</td>\n",
              "      <td>M</td>\n",
              "      <td>employee</td>\n",
              "      <td>0</td>\n",
              "      <td>23341.752</td>\n",
              "      <td>purchase of the house</td>\n",
              "      <td>26-35 tahun</td>\n",
              "      <td>23341.752</td>\n",
              "      <td>history hutang lancar</td>\n",
              "      <td>buy house</td>\n",
              "      <td>10k-25k</td>\n",
              "    </tr>\n",
              "    <tr>\n",
              "      <th>3</th>\n",
              "      <td>3</td>\n",
              "      <td>4124.747207</td>\n",
              "      <td>32</td>\n",
              "      <td>secondary education</td>\n",
              "      <td>1</td>\n",
              "      <td>married</td>\n",
              "      <td>0</td>\n",
              "      <td>M</td>\n",
              "      <td>employee</td>\n",
              "      <td>0</td>\n",
              "      <td>42820.568</td>\n",
              "      <td>supplementary education</td>\n",
              "      <td>26-35 tahun</td>\n",
              "      <td>42820.568</td>\n",
              "      <td>history hutang lancar</td>\n",
              "      <td>education</td>\n",
              "      <td>25k-50k</td>\n",
              "    </tr>\n",
              "    <tr>\n",
              "      <th>4</th>\n",
              "      <td>0</td>\n",
              "      <td>12410.000000</td>\n",
              "      <td>53</td>\n",
              "      <td>secondary education</td>\n",
              "      <td>1</td>\n",
              "      <td>civil partnership</td>\n",
              "      <td>1</td>\n",
              "      <td>F</td>\n",
              "      <td>retiree</td>\n",
              "      <td>0</td>\n",
              "      <td>25378.572</td>\n",
              "      <td>to have a wedding</td>\n",
              "      <td>46-55 tahun</td>\n",
              "      <td>25378.572</td>\n",
              "      <td>history hutang lancar</td>\n",
              "      <td>wedding</td>\n",
              "      <td>25k-50k</td>\n",
              "    </tr>\n",
              "  </tbody>\n",
              "</table>\n",
              "</div>"
            ],
            "text/plain": [
              "   children  days_employed  dob_years            education  education_id  \\\n",
              "0         1    8437.673028         42    bachelor's degree             0   \n",
              "1         1    4024.803754         36  secondary education             1   \n",
              "2         0    5623.422610         33  secondary education             1   \n",
              "3         3    4124.747207         32  secondary education             1   \n",
              "4         0   12410.000000         53  secondary education             1   \n",
              "\n",
              "       family_status  family_status_id gender income_type  debt  total_income  \\\n",
              "0            married                 0      F    employee     0     40620.102   \n",
              "1            married                 0      F    employee     0     17932.802   \n",
              "2            married                 0      M    employee     0     23341.752   \n",
              "3            married                 0      M    employee     0     42820.568   \n",
              "4  civil partnership                 1      F     retiree     0     25378.572   \n",
              "\n",
              "                   purpose    age_group  total_income_clean  \\\n",
              "0    purchase of the house  36-45 tahun           40620.102   \n",
              "1             car purchase  36-45 tahun           17932.802   \n",
              "2    purchase of the house  26-35 tahun           23341.752   \n",
              "3  supplementary education  26-35 tahun           42820.568   \n",
              "4        to have a wedding  46-55 tahun           25378.572   \n",
              "\n",
              "            debt_meaning purpose_group income_group  \n",
              "0  history hutang lancar     buy house      25k-50k  \n",
              "1  history hutang lancar  car purchase      10k-25k  \n",
              "2  history hutang lancar     buy house      10k-25k  \n",
              "3  history hutang lancar     education      25k-50k  \n",
              "4  history hutang lancar       wedding      25k-50k  "
            ]
          },
          "execution_count": 82,
          "metadata": {},
          "output_type": "execute_result"
        }
      ],
      "source": [
        "# Membuat kolom dengan kategori\n",
        "data['income_group'] = data['total_income'].apply(assign_income_group) \n",
        "data.head()"
      ]
    },
    {
      "cell_type": "code",
      "execution_count": null,
      "metadata": {
        "scrolled": false,
        "id": "6mYst6a-xjOd",
        "outputId": "dd66c64a-be27-4389-d3d1-c23232cdfbb8"
      },
      "outputs": [
        {
          "data": {
            "text/plain": [
              "history hutang lancar    19713\n",
              "history gagal bayar       1741\n",
              "Name: debt_meaning, dtype: int64"
            ]
          },
          "execution_count": 83,
          "metadata": {},
          "output_type": "execute_result"
        }
      ],
      "source": [
        "# Menghitung setiap nilai kategori untuk melihat pendistribusian\n",
        "\n",
        "data['debt_meaning'].value_counts()"
      ]
    },
    {
      "cell_type": "code",
      "execution_count": null,
      "metadata": {
        "id": "DLOQauO1xjOd",
        "outputId": "16dfadb2-dc07-4a45-a935-3421a11ffb85"
      },
      "outputs": [
        {
          "data": {
            "text/plain": [
              "buy house             8285\n",
              "car purchase          4306\n",
              "education             4013\n",
              "wedding               2324\n",
              "buy property          1284\n",
              "housing renovation    1242\n",
              "Name: purpose_group, dtype: int64"
            ]
          },
          "execution_count": 84,
          "metadata": {},
          "output_type": "execute_result"
        }
      ],
      "source": [
        "# Menghitung setiap nilai kategori untuk melihat pendistribusian\n",
        "data['purpose_group'].value_counts()"
      ]
    },
    {
      "cell_type": "code",
      "execution_count": null,
      "metadata": {
        "id": "vCOaAzMBxjOe",
        "outputId": "29a78db4-4ba3-46f3-a140-2c1382426614"
      },
      "outputs": [
        {
          "data": {
            "text/plain": [
              "10k-25k       11423\n",
              "25k-50k        7784\n",
              "50k-100k       1222\n",
              "below 10k       926\n",
              "100k-300k        97\n",
              "above 300k        2\n",
              "Name: income_group, dtype: int64"
            ]
          },
          "execution_count": 85,
          "metadata": {},
          "output_type": "execute_result"
        }
      ],
      "source": [
        "# Menghitung setiap nilai kategori untuk melihat pendistribusian\n",
        "data['income_group'].value_counts()"
      ]
    },
    {
      "cell_type": "markdown",
      "metadata": {
        "id": "9QXwV-cUxjOe"
      },
      "source": [
        "## Memeriksa Hipotesis\n",
        "\n",
        "1. Apakah terdapat hubungan antara memiliki anak dan probabilitas seseorang melakukan gagal bayar pinjaman?\n",
        "2. Apakah terdapat hubungan antara status perkawinan dan  probabilitas seseorang melakukan gagal bayar pinjaman?\n",
        "3. Apakah terdapat hubungan antara tingkat pendapatan dan probabilitas seseorang melakukan gagal bayar pinjaman?\n",
        "4. Bagaimana perbedaan tujuan pinjaman memengaruhi probabilitas seseorang melakukan gagal bayar pinjaman?"
      ]
    },
    {
      "cell_type": "markdown",
      "metadata": {
        "id": "s05qMfK-xjOe"
      },
      "source": [
        "### Apakah terdapat korelasi antara memiliki anak dengan membayar kembali tepat waktu?"
      ]
    },
    {
      "cell_type": "code",
      "execution_count": null,
      "metadata": {
        "scrolled": true,
        "id": "51fLxJ7MxjOe",
        "outputId": "5de51ab8-8fc9-499f-ed69-587e9176f443"
      },
      "outputs": [
        {
          "data": {
            "text/html": [
              "<div>\n",
              "<style scoped>\n",
              "    .dataframe tbody tr th:only-of-type {\n",
              "        vertical-align: middle;\n",
              "    }\n",
              "\n",
              "    .dataframe tbody tr th {\n",
              "        vertical-align: top;\n",
              "    }\n",
              "\n",
              "    .dataframe thead th {\n",
              "        text-align: right;\n",
              "    }\n",
              "</style>\n",
              "<table border=\"1\" class=\"dataframe\">\n",
              "  <thead>\n",
              "    <tr style=\"text-align: right;\">\n",
              "      <th></th>\n",
              "      <th>children</th>\n",
              "      <th>debt</th>\n",
              "    </tr>\n",
              "  </thead>\n",
              "  <tbody>\n",
              "    <tr>\n",
              "      <th>0</th>\n",
              "      <td>1</td>\n",
              "      <td>0</td>\n",
              "    </tr>\n",
              "    <tr>\n",
              "      <th>1</th>\n",
              "      <td>1</td>\n",
              "      <td>0</td>\n",
              "    </tr>\n",
              "    <tr>\n",
              "      <th>2</th>\n",
              "      <td>0</td>\n",
              "      <td>0</td>\n",
              "    </tr>\n",
              "    <tr>\n",
              "      <th>3</th>\n",
              "      <td>3</td>\n",
              "      <td>0</td>\n",
              "    </tr>\n",
              "    <tr>\n",
              "      <th>4</th>\n",
              "      <td>0</td>\n",
              "      <td>0</td>\n",
              "    </tr>\n",
              "    <tr>\n",
              "      <th>...</th>\n",
              "      <td>...</td>\n",
              "      <td>...</td>\n",
              "    </tr>\n",
              "    <tr>\n",
              "      <th>21449</th>\n",
              "      <td>1</td>\n",
              "      <td>0</td>\n",
              "    </tr>\n",
              "    <tr>\n",
              "      <th>21450</th>\n",
              "      <td>0</td>\n",
              "      <td>0</td>\n",
              "    </tr>\n",
              "    <tr>\n",
              "      <th>21451</th>\n",
              "      <td>1</td>\n",
              "      <td>1</td>\n",
              "    </tr>\n",
              "    <tr>\n",
              "      <th>21452</th>\n",
              "      <td>3</td>\n",
              "      <td>1</td>\n",
              "    </tr>\n",
              "    <tr>\n",
              "      <th>21453</th>\n",
              "      <td>2</td>\n",
              "      <td>0</td>\n",
              "    </tr>\n",
              "  </tbody>\n",
              "</table>\n",
              "<p>21454 rows × 2 columns</p>\n",
              "</div>"
            ],
            "text/plain": [
              "       children  debt\n",
              "0             1     0\n",
              "1             1     0\n",
              "2             0     0\n",
              "3             3     0\n",
              "4             0     0\n",
              "...         ...   ...\n",
              "21449         1     0\n",
              "21450         0     0\n",
              "21451         1     1\n",
              "21452         3     1\n",
              "21453         2     0\n",
              "\n",
              "[21454 rows x 2 columns]"
            ]
          },
          "execution_count": 86,
          "metadata": {},
          "output_type": "execute_result"
        }
      ],
      "source": [
        "# Periksa data anak dan membayar kembali dengan tepat waktu\n",
        "\n",
        "data[['children', 'debt']]"
      ]
    },
    {
      "cell_type": "code",
      "execution_count": null,
      "metadata": {
        "id": "UrhFrKkCxjOe",
        "outputId": "cb3abefd-8740-44d2-fdd5-0ab4a31e2137"
      },
      "outputs": [
        {
          "data": {
            "text/html": [
              "<div>\n",
              "<style scoped>\n",
              "    .dataframe tbody tr th:only-of-type {\n",
              "        vertical-align: middle;\n",
              "    }\n",
              "\n",
              "    .dataframe tbody tr th {\n",
              "        vertical-align: top;\n",
              "    }\n",
              "\n",
              "    .dataframe thead th {\n",
              "        text-align: right;\n",
              "    }\n",
              "</style>\n",
              "<table border=\"1\" class=\"dataframe\">\n",
              "  <thead>\n",
              "    <tr style=\"text-align: right;\">\n",
              "      <th>debt</th>\n",
              "      <th>0</th>\n",
              "      <th>1</th>\n",
              "      <th>All</th>\n",
              "      <th>Proporsi</th>\n",
              "    </tr>\n",
              "    <tr>\n",
              "      <th>children</th>\n",
              "      <th></th>\n",
              "      <th></th>\n",
              "      <th></th>\n",
              "      <th></th>\n",
              "    </tr>\n",
              "  </thead>\n",
              "  <tbody>\n",
              "    <tr>\n",
              "      <th>0</th>\n",
              "      <td>13142.0</td>\n",
              "      <td>1072.0</td>\n",
              "      <td>14214</td>\n",
              "      <td>7.54</td>\n",
              "    </tr>\n",
              "    <tr>\n",
              "      <th>1</th>\n",
              "      <td>4364.0</td>\n",
              "      <td>444.0</td>\n",
              "      <td>4808</td>\n",
              "      <td>9.23</td>\n",
              "    </tr>\n",
              "    <tr>\n",
              "      <th>2</th>\n",
              "      <td>1858.0</td>\n",
              "      <td>194.0</td>\n",
              "      <td>2052</td>\n",
              "      <td>9.45</td>\n",
              "    </tr>\n",
              "    <tr>\n",
              "      <th>3</th>\n",
              "      <td>303.0</td>\n",
              "      <td>27.0</td>\n",
              "      <td>330</td>\n",
              "      <td>8.18</td>\n",
              "    </tr>\n",
              "    <tr>\n",
              "      <th>4</th>\n",
              "      <td>37.0</td>\n",
              "      <td>4.0</td>\n",
              "      <td>41</td>\n",
              "      <td>9.76</td>\n",
              "    </tr>\n",
              "    <tr>\n",
              "      <th>5</th>\n",
              "      <td>9.0</td>\n",
              "      <td>NaN</td>\n",
              "      <td>9</td>\n",
              "      <td>NaN</td>\n",
              "    </tr>\n",
              "    <tr>\n",
              "      <th>All</th>\n",
              "      <td>19713.0</td>\n",
              "      <td>1741.0</td>\n",
              "      <td>21454</td>\n",
              "      <td>8.12</td>\n",
              "    </tr>\n",
              "  </tbody>\n",
              "</table>\n",
              "</div>"
            ],
            "text/plain": [
              "debt            0       1    All  Proporsi\n",
              "children                                  \n",
              "0         13142.0  1072.0  14214      7.54\n",
              "1          4364.0   444.0   4808      9.23\n",
              "2          1858.0   194.0   2052      9.45\n",
              "3           303.0    27.0    330      8.18\n",
              "4            37.0     4.0     41      9.76\n",
              "5             9.0     NaN      9       NaN\n",
              "All       19713.0  1741.0  21454      8.12"
            ]
          },
          "execution_count": 87,
          "metadata": {},
          "output_type": "execute_result"
        }
      ],
      "source": [
        "# Menghitung tarif otomatis berdasarkan jumlah anak\n",
        "# default_rate = persentase gagal bayar\n",
        "\n",
        "data_pivot_by_children = data.pivot_table(\n",
        "    values='debt_meaning',\n",
        "    index='children',\n",
        "    columns='debt',\n",
        "    aggfunc='count',\n",
        "    margins=True,\n",
        ")\n",
        "\n",
        "data_pivot_by_children['Proporsi'] = round(data_pivot_by_children[1] / data_pivot_by_children['All'] * 100, 2)\n",
        "data_pivot_by_children"
      ]
    },
    {
      "cell_type": "markdown",
      "metadata": {
        "id": "DIGyQ6p_xjOe"
      },
      "source": [
        "**Kesimpulan**\n",
        "\n",
        "Melihat data diatas, jumlah anak berpengaruh kepada kegagalan debitur dalam membayar hutang mulai dari 8.18%. Sementara, nasabah tanpa anak memiliki jumlah terbanyak yang gagal membayar hutang meski persentasenya lebih kecil sedikit, yaitu 7.54%. Jadi, menurut kami memiliki anak tidak signifikan berhubungan dengan tingkat kegagalan nasabah dalam membayar hutang. "
      ]
    },
    {
      "cell_type": "markdown",
      "metadata": {
        "id": "p1FXf5GjxjOe"
      },
      "source": [
        "### Apakah terdapat korelasi antara status keluarga dengan membayar kembali tepat waktu?"
      ]
    },
    {
      "cell_type": "code",
      "execution_count": null,
      "metadata": {
        "scrolled": true,
        "id": "MnH6gJJOxjOe",
        "outputId": "57f0a171-9a31-4146-eb0a-99e9bc65a67e"
      },
      "outputs": [
        {
          "data": {
            "text/html": [
              "<div>\n",
              "<style scoped>\n",
              "    .dataframe tbody tr th:only-of-type {\n",
              "        vertical-align: middle;\n",
              "    }\n",
              "\n",
              "    .dataframe tbody tr th {\n",
              "        vertical-align: top;\n",
              "    }\n",
              "\n",
              "    .dataframe thead th {\n",
              "        text-align: right;\n",
              "    }\n",
              "</style>\n",
              "<table border=\"1\" class=\"dataframe\">\n",
              "  <thead>\n",
              "    <tr style=\"text-align: right;\">\n",
              "      <th></th>\n",
              "      <th>family_status</th>\n",
              "      <th>debt</th>\n",
              "    </tr>\n",
              "  </thead>\n",
              "  <tbody>\n",
              "    <tr>\n",
              "      <th>0</th>\n",
              "      <td>married</td>\n",
              "      <td>0</td>\n",
              "    </tr>\n",
              "    <tr>\n",
              "      <th>1</th>\n",
              "      <td>married</td>\n",
              "      <td>0</td>\n",
              "    </tr>\n",
              "    <tr>\n",
              "      <th>2</th>\n",
              "      <td>married</td>\n",
              "      <td>0</td>\n",
              "    </tr>\n",
              "    <tr>\n",
              "      <th>3</th>\n",
              "      <td>married</td>\n",
              "      <td>0</td>\n",
              "    </tr>\n",
              "    <tr>\n",
              "      <th>4</th>\n",
              "      <td>civil partnership</td>\n",
              "      <td>0</td>\n",
              "    </tr>\n",
              "    <tr>\n",
              "      <th>...</th>\n",
              "      <td>...</td>\n",
              "      <td>...</td>\n",
              "    </tr>\n",
              "    <tr>\n",
              "      <th>21449</th>\n",
              "      <td>civil partnership</td>\n",
              "      <td>0</td>\n",
              "    </tr>\n",
              "    <tr>\n",
              "      <th>21450</th>\n",
              "      <td>married</td>\n",
              "      <td>0</td>\n",
              "    </tr>\n",
              "    <tr>\n",
              "      <th>21451</th>\n",
              "      <td>civil partnership</td>\n",
              "      <td>1</td>\n",
              "    </tr>\n",
              "    <tr>\n",
              "      <th>21452</th>\n",
              "      <td>married</td>\n",
              "      <td>1</td>\n",
              "    </tr>\n",
              "    <tr>\n",
              "      <th>21453</th>\n",
              "      <td>married</td>\n",
              "      <td>0</td>\n",
              "    </tr>\n",
              "  </tbody>\n",
              "</table>\n",
              "<p>21454 rows × 2 columns</p>\n",
              "</div>"
            ],
            "text/plain": [
              "           family_status  debt\n",
              "0                married     0\n",
              "1                married     0\n",
              "2                married     0\n",
              "3                married     0\n",
              "4      civil partnership     0\n",
              "...                  ...   ...\n",
              "21449  civil partnership     0\n",
              "21450            married     0\n",
              "21451  civil partnership     1\n",
              "21452            married     1\n",
              "21453            married     0\n",
              "\n",
              "[21454 rows x 2 columns]"
            ]
          },
          "execution_count": 88,
          "metadata": {},
          "output_type": "execute_result"
        }
      ],
      "source": [
        "# Periksa data status keluarga dan membayar kembali dengan tepat waktu\n",
        "\n",
        "data[['family_status', 'debt']]"
      ]
    },
    {
      "cell_type": "code",
      "execution_count": null,
      "metadata": {
        "id": "SSmyToAfxjOe",
        "outputId": "8518945f-debb-467e-a202-d277e5ddbb4b"
      },
      "outputs": [
        {
          "data": {
            "text/html": [
              "<div>\n",
              "<style scoped>\n",
              "    .dataframe tbody tr th:only-of-type {\n",
              "        vertical-align: middle;\n",
              "    }\n",
              "\n",
              "    .dataframe tbody tr th {\n",
              "        vertical-align: top;\n",
              "    }\n",
              "\n",
              "    .dataframe thead th {\n",
              "        text-align: right;\n",
              "    }\n",
              "</style>\n",
              "<table border=\"1\" class=\"dataframe\">\n",
              "  <thead>\n",
              "    <tr style=\"text-align: right;\">\n",
              "      <th>debt</th>\n",
              "      <th>0</th>\n",
              "      <th>1</th>\n",
              "      <th>All</th>\n",
              "      <th>Proporsi</th>\n",
              "    </tr>\n",
              "    <tr>\n",
              "      <th>family_status</th>\n",
              "      <th></th>\n",
              "      <th></th>\n",
              "      <th></th>\n",
              "      <th></th>\n",
              "    </tr>\n",
              "  </thead>\n",
              "  <tbody>\n",
              "    <tr>\n",
              "      <th>civil partnership</th>\n",
              "      <td>3763</td>\n",
              "      <td>388</td>\n",
              "      <td>4151</td>\n",
              "      <td>9.35</td>\n",
              "    </tr>\n",
              "    <tr>\n",
              "      <th>divorced</th>\n",
              "      <td>1110</td>\n",
              "      <td>85</td>\n",
              "      <td>1195</td>\n",
              "      <td>7.11</td>\n",
              "    </tr>\n",
              "    <tr>\n",
              "      <th>married</th>\n",
              "      <td>11408</td>\n",
              "      <td>931</td>\n",
              "      <td>12339</td>\n",
              "      <td>7.55</td>\n",
              "    </tr>\n",
              "    <tr>\n",
              "      <th>unmarried</th>\n",
              "      <td>2536</td>\n",
              "      <td>274</td>\n",
              "      <td>2810</td>\n",
              "      <td>9.75</td>\n",
              "    </tr>\n",
              "    <tr>\n",
              "      <th>widow / widower</th>\n",
              "      <td>896</td>\n",
              "      <td>63</td>\n",
              "      <td>959</td>\n",
              "      <td>6.57</td>\n",
              "    </tr>\n",
              "    <tr>\n",
              "      <th>All</th>\n",
              "      <td>19713</td>\n",
              "      <td>1741</td>\n",
              "      <td>21454</td>\n",
              "      <td>8.12</td>\n",
              "    </tr>\n",
              "  </tbody>\n",
              "</table>\n",
              "</div>"
            ],
            "text/plain": [
              "debt                   0     1    All  Proporsi\n",
              "family_status                                  \n",
              "civil partnership   3763   388   4151      9.35\n",
              "divorced            1110    85   1195      7.11\n",
              "married            11408   931  12339      7.55\n",
              "unmarried           2536   274   2810      9.75\n",
              "widow / widower      896    63    959      6.57\n",
              "All                19713  1741  21454      8.12"
            ]
          },
          "execution_count": 89,
          "metadata": {},
          "output_type": "execute_result"
        }
      ],
      "source": [
        "# Menghitung tarif otomatis berdasarkan status keluarga\n",
        "\n",
        "data_pivot_by_family = data.pivot_table(\n",
        "    values='debt_meaning',\n",
        "    index='family_status',\n",
        "    columns='debt',\n",
        "    aggfunc='count',\n",
        "    margins=True,\n",
        ")\n",
        "\n",
        "data_pivot_by_family['Proporsi'] = round(data_pivot_by_family[1] / data_pivot_by_family['All'] * 100, 2)\n",
        "data_pivot_by_family"
      ]
    },
    {
      "cell_type": "markdown",
      "metadata": {
        "id": "ZR2dP9VnxjOe"
      },
      "source": [
        "**Kesimpulan**\n",
        "\n",
        "Secara persentase, nasabah status `civil_partnership` memiliki tingkat gagal bayar paling tinggi. Sementara, nasabah dengan status married justru lebih tepat waktu dalam membayar hutang. Hal ini mungkin berhubungan dengan sudah adanya pengalaman dalam mengatur keuangan bagi mereka yang sudah menikah. Selain itu, nasabah dengan status widow/widower & divorced juga memiliki tingkat gagal bayar hutang yang rendah. "
      ]
    },
    {
      "cell_type": "markdown",
      "metadata": {
        "id": "aZ6bRDNZxjOf"
      },
      "source": [
        "### Apakah terdapat korelasi antara tingkat pendapatan dengan membayar kembali tepat waktu?"
      ]
    },
    {
      "cell_type": "code",
      "execution_count": null,
      "metadata": {
        "id": "iLa2DKpXxjOf",
        "outputId": "38f3b165-a24e-456d-be57-fe37209859b4"
      },
      "outputs": [
        {
          "data": {
            "text/html": [
              "<div>\n",
              "<style scoped>\n",
              "    .dataframe tbody tr th:only-of-type {\n",
              "        vertical-align: middle;\n",
              "    }\n",
              "\n",
              "    .dataframe tbody tr th {\n",
              "        vertical-align: top;\n",
              "    }\n",
              "\n",
              "    .dataframe thead th {\n",
              "        text-align: right;\n",
              "    }\n",
              "</style>\n",
              "<table border=\"1\" class=\"dataframe\">\n",
              "  <thead>\n",
              "    <tr style=\"text-align: right;\">\n",
              "      <th></th>\n",
              "      <th>income_group</th>\n",
              "      <th>debt</th>\n",
              "    </tr>\n",
              "  </thead>\n",
              "  <tbody>\n",
              "    <tr>\n",
              "      <th>0</th>\n",
              "      <td>25k-50k</td>\n",
              "      <td>0</td>\n",
              "    </tr>\n",
              "    <tr>\n",
              "      <th>1</th>\n",
              "      <td>10k-25k</td>\n",
              "      <td>0</td>\n",
              "    </tr>\n",
              "    <tr>\n",
              "      <th>2</th>\n",
              "      <td>10k-25k</td>\n",
              "      <td>0</td>\n",
              "    </tr>\n",
              "    <tr>\n",
              "      <th>3</th>\n",
              "      <td>25k-50k</td>\n",
              "      <td>0</td>\n",
              "    </tr>\n",
              "    <tr>\n",
              "      <th>4</th>\n",
              "      <td>25k-50k</td>\n",
              "      <td>0</td>\n",
              "    </tr>\n",
              "    <tr>\n",
              "      <th>...</th>\n",
              "      <td>...</td>\n",
              "      <td>...</td>\n",
              "    </tr>\n",
              "    <tr>\n",
              "      <th>21449</th>\n",
              "      <td>25k-50k</td>\n",
              "      <td>0</td>\n",
              "    </tr>\n",
              "    <tr>\n",
              "      <th>21450</th>\n",
              "      <td>10k-25k</td>\n",
              "      <td>0</td>\n",
              "    </tr>\n",
              "    <tr>\n",
              "      <th>21451</th>\n",
              "      <td>10k-25k</td>\n",
              "      <td>1</td>\n",
              "    </tr>\n",
              "    <tr>\n",
              "      <th>21452</th>\n",
              "      <td>25k-50k</td>\n",
              "      <td>1</td>\n",
              "    </tr>\n",
              "    <tr>\n",
              "      <th>21453</th>\n",
              "      <td>10k-25k</td>\n",
              "      <td>0</td>\n",
              "    </tr>\n",
              "  </tbody>\n",
              "</table>\n",
              "<p>21454 rows × 2 columns</p>\n",
              "</div>"
            ],
            "text/plain": [
              "      income_group  debt\n",
              "0          25k-50k     0\n",
              "1          10k-25k     0\n",
              "2          10k-25k     0\n",
              "3          25k-50k     0\n",
              "4          25k-50k     0\n",
              "...            ...   ...\n",
              "21449      25k-50k     0\n",
              "21450      10k-25k     0\n",
              "21451      10k-25k     1\n",
              "21452      25k-50k     1\n",
              "21453      10k-25k     0\n",
              "\n",
              "[21454 rows x 2 columns]"
            ]
          },
          "execution_count": 90,
          "metadata": {},
          "output_type": "execute_result"
        }
      ],
      "source": [
        "# Periksa data tingkat pendapatan dan membayar kembali dengan tepat waktu\n",
        "\n",
        "data[['income_group', 'debt']]"
      ]
    },
    {
      "cell_type": "code",
      "execution_count": null,
      "metadata": {
        "id": "BDvW-UIxxjOf",
        "outputId": "ccf55330-39c9-4fd5-ac5f-a8baad18a25b"
      },
      "outputs": [
        {
          "data": {
            "text/html": [
              "<div>\n",
              "<style scoped>\n",
              "    .dataframe tbody tr th:only-of-type {\n",
              "        vertical-align: middle;\n",
              "    }\n",
              "\n",
              "    .dataframe tbody tr th {\n",
              "        vertical-align: top;\n",
              "    }\n",
              "\n",
              "    .dataframe thead th {\n",
              "        text-align: right;\n",
              "    }\n",
              "</style>\n",
              "<table border=\"1\" class=\"dataframe\">\n",
              "  <thead>\n",
              "    <tr style=\"text-align: right;\">\n",
              "      <th>debt</th>\n",
              "      <th>0</th>\n",
              "      <th>1</th>\n",
              "      <th>All</th>\n",
              "      <th>Proporsi</th>\n",
              "    </tr>\n",
              "    <tr>\n",
              "      <th>income_group</th>\n",
              "      <th></th>\n",
              "      <th></th>\n",
              "      <th></th>\n",
              "      <th></th>\n",
              "    </tr>\n",
              "  </thead>\n",
              "  <tbody>\n",
              "    <tr>\n",
              "      <th>100k-300k</th>\n",
              "      <td>92</td>\n",
              "      <td>5</td>\n",
              "      <td>97</td>\n",
              "      <td>5.15</td>\n",
              "    </tr>\n",
              "    <tr>\n",
              "      <th>10k-25k</th>\n",
              "      <td>10445</td>\n",
              "      <td>978</td>\n",
              "      <td>11423</td>\n",
              "      <td>8.56</td>\n",
              "    </tr>\n",
              "    <tr>\n",
              "      <th>25k-50k</th>\n",
              "      <td>7171</td>\n",
              "      <td>613</td>\n",
              "      <td>7784</td>\n",
              "      <td>7.88</td>\n",
              "    </tr>\n",
              "    <tr>\n",
              "      <th>50k-100k</th>\n",
              "      <td>1136</td>\n",
              "      <td>86</td>\n",
              "      <td>1222</td>\n",
              "      <td>7.04</td>\n",
              "    </tr>\n",
              "    <tr>\n",
              "      <th>above 300k</th>\n",
              "      <td>1</td>\n",
              "      <td>1</td>\n",
              "      <td>2</td>\n",
              "      <td>50.00</td>\n",
              "    </tr>\n",
              "    <tr>\n",
              "      <th>below 10k</th>\n",
              "      <td>868</td>\n",
              "      <td>58</td>\n",
              "      <td>926</td>\n",
              "      <td>6.26</td>\n",
              "    </tr>\n",
              "    <tr>\n",
              "      <th>All</th>\n",
              "      <td>19713</td>\n",
              "      <td>1741</td>\n",
              "      <td>21454</td>\n",
              "      <td>8.12</td>\n",
              "    </tr>\n",
              "  </tbody>\n",
              "</table>\n",
              "</div>"
            ],
            "text/plain": [
              "debt              0     1    All  Proporsi\n",
              "income_group                              \n",
              "100k-300k        92     5     97      5.15\n",
              "10k-25k       10445   978  11423      8.56\n",
              "25k-50k        7171   613   7784      7.88\n",
              "50k-100k       1136    86   1222      7.04\n",
              "above 300k        1     1      2     50.00\n",
              "below 10k       868    58    926      6.26\n",
              "All           19713  1741  21454      8.12"
            ]
          },
          "execution_count": 91,
          "metadata": {},
          "output_type": "execute_result"
        }
      ],
      "source": [
        "# Menghitung tarif otomatis berdasarkan tingkat pendapatan\n",
        "\n",
        "data_pivot_by_income = data.pivot_table(\n",
        "    values='debt_meaning',\n",
        "    index='income_group',\n",
        "    columns='debt',\n",
        "    aggfunc='count',\n",
        "    margins=True,\n",
        ")\n",
        "\n",
        "data_pivot_by_income['Proporsi'] = round(data_pivot_by_income[1] / data_pivot_by_income['All'] * 100, 2)\n",
        "data_pivot_by_income"
      ]
    },
    {
      "cell_type": "markdown",
      "metadata": {
        "id": "aSdPtcJ6xjOf"
      },
      "source": [
        "**Kesimpulan**\n",
        "\n",
        "Wow! Ternyata, penghasilan tinggi tidak menjamin seseorang membayar hutang tepat waktu, orang kaya mungkin memiliki lebih banyak hutang lagi, dibandingkan dengan orang berpenghasilan rendah. Atau bisa jadi dikarenakan orang kaya memiliki biaya gaya hidup yang tinggi sehingga berpengaruh kepada kegagalan membayar hutang mereka. Meskipun pada data ini, hanya berjumlah 2 orang, namun bayangkan apabila 50% nasabah Bank berasal dari kategori pendapatan >300k, berapa estimasi kerugian yang harus dicadangkan Bank apabila setengahnya benar-benar gagal bayar hutang :')"
      ]
    },
    {
      "cell_type": "markdown",
      "metadata": {
        "id": "a1H0OJ90xjOf"
      },
      "source": [
        "### Bagaimana tujuan kredit memengaruhi tarif otomatis?"
      ]
    },
    {
      "cell_type": "code",
      "execution_count": null,
      "metadata": {
        "scrolled": false,
        "id": "HqdO1bktxjOf",
        "outputId": "0c9b4f1f-0b00-4ca7-917f-6ebb3b3f4506"
      },
      "outputs": [
        {
          "data": {
            "text/html": [
              "<div>\n",
              "<style scoped>\n",
              "    .dataframe tbody tr th:only-of-type {\n",
              "        vertical-align: middle;\n",
              "    }\n",
              "\n",
              "    .dataframe tbody tr th {\n",
              "        vertical-align: top;\n",
              "    }\n",
              "\n",
              "    .dataframe thead th {\n",
              "        text-align: right;\n",
              "    }\n",
              "</style>\n",
              "<table border=\"1\" class=\"dataframe\">\n",
              "  <thead>\n",
              "    <tr style=\"text-align: right;\">\n",
              "      <th></th>\n",
              "      <th>purpose_group</th>\n",
              "      <th>debt</th>\n",
              "    </tr>\n",
              "  </thead>\n",
              "  <tbody>\n",
              "    <tr>\n",
              "      <th>0</th>\n",
              "      <td>buy house</td>\n",
              "      <td>0</td>\n",
              "    </tr>\n",
              "    <tr>\n",
              "      <th>1</th>\n",
              "      <td>car purchase</td>\n",
              "      <td>0</td>\n",
              "    </tr>\n",
              "    <tr>\n",
              "      <th>2</th>\n",
              "      <td>buy house</td>\n",
              "      <td>0</td>\n",
              "    </tr>\n",
              "    <tr>\n",
              "      <th>3</th>\n",
              "      <td>education</td>\n",
              "      <td>0</td>\n",
              "    </tr>\n",
              "    <tr>\n",
              "      <th>4</th>\n",
              "      <td>wedding</td>\n",
              "      <td>0</td>\n",
              "    </tr>\n",
              "    <tr>\n",
              "      <th>...</th>\n",
              "      <td>...</td>\n",
              "      <td>...</td>\n",
              "    </tr>\n",
              "    <tr>\n",
              "      <th>21449</th>\n",
              "      <td>buy house</td>\n",
              "      <td>0</td>\n",
              "    </tr>\n",
              "    <tr>\n",
              "      <th>21450</th>\n",
              "      <td>car purchase</td>\n",
              "      <td>0</td>\n",
              "    </tr>\n",
              "    <tr>\n",
              "      <th>21451</th>\n",
              "      <td>buy property</td>\n",
              "      <td>1</td>\n",
              "    </tr>\n",
              "    <tr>\n",
              "      <th>21452</th>\n",
              "      <td>car purchase</td>\n",
              "      <td>1</td>\n",
              "    </tr>\n",
              "    <tr>\n",
              "      <th>21453</th>\n",
              "      <td>car purchase</td>\n",
              "      <td>0</td>\n",
              "    </tr>\n",
              "  </tbody>\n",
              "</table>\n",
              "<p>21454 rows × 2 columns</p>\n",
              "</div>"
            ],
            "text/plain": [
              "      purpose_group  debt\n",
              "0         buy house     0\n",
              "1      car purchase     0\n",
              "2         buy house     0\n",
              "3         education     0\n",
              "4           wedding     0\n",
              "...             ...   ...\n",
              "21449     buy house     0\n",
              "21450  car purchase     0\n",
              "21451  buy property     1\n",
              "21452  car purchase     1\n",
              "21453  car purchase     0\n",
              "\n",
              "[21454 rows x 2 columns]"
            ]
          },
          "execution_count": 92,
          "metadata": {},
          "output_type": "execute_result"
        }
      ],
      "source": [
        "# Periksa persentase tarif otomatis untuk setiap tujuan kredit dan lakukan penganalisisan\n",
        "\n",
        "data[['purpose_group', 'debt']]"
      ]
    },
    {
      "cell_type": "code",
      "execution_count": null,
      "metadata": {
        "id": "oWbzuEogxjOf",
        "outputId": "561bc806-a511-45f2-ef78-a8aa41cd75e9"
      },
      "outputs": [
        {
          "data": {
            "text/html": [
              "<div>\n",
              "<style scoped>\n",
              "    .dataframe tbody tr th:only-of-type {\n",
              "        vertical-align: middle;\n",
              "    }\n",
              "\n",
              "    .dataframe tbody tr th {\n",
              "        vertical-align: top;\n",
              "    }\n",
              "\n",
              "    .dataframe thead th {\n",
              "        text-align: right;\n",
              "    }\n",
              "</style>\n",
              "<table border=\"1\" class=\"dataframe\">\n",
              "  <thead>\n",
              "    <tr style=\"text-align: right;\">\n",
              "      <th>debt</th>\n",
              "      <th>0</th>\n",
              "      <th>1</th>\n",
              "      <th>All</th>\n",
              "      <th>Proporsi</th>\n",
              "    </tr>\n",
              "    <tr>\n",
              "      <th>purpose_group</th>\n",
              "      <th></th>\n",
              "      <th></th>\n",
              "      <th></th>\n",
              "      <th></th>\n",
              "    </tr>\n",
              "  </thead>\n",
              "  <tbody>\n",
              "    <tr>\n",
              "      <th>buy house</th>\n",
              "      <td>7674</td>\n",
              "      <td>611</td>\n",
              "      <td>8285</td>\n",
              "      <td>7.37</td>\n",
              "    </tr>\n",
              "    <tr>\n",
              "      <th>buy property</th>\n",
              "      <td>1190</td>\n",
              "      <td>94</td>\n",
              "      <td>1284</td>\n",
              "      <td>7.32</td>\n",
              "    </tr>\n",
              "    <tr>\n",
              "      <th>car purchase</th>\n",
              "      <td>3903</td>\n",
              "      <td>403</td>\n",
              "      <td>4306</td>\n",
              "      <td>9.36</td>\n",
              "    </tr>\n",
              "    <tr>\n",
              "      <th>education</th>\n",
              "      <td>3643</td>\n",
              "      <td>370</td>\n",
              "      <td>4013</td>\n",
              "      <td>9.22</td>\n",
              "    </tr>\n",
              "    <tr>\n",
              "      <th>housing renovation</th>\n",
              "      <td>1165</td>\n",
              "      <td>77</td>\n",
              "      <td>1242</td>\n",
              "      <td>6.20</td>\n",
              "    </tr>\n",
              "    <tr>\n",
              "      <th>wedding</th>\n",
              "      <td>2138</td>\n",
              "      <td>186</td>\n",
              "      <td>2324</td>\n",
              "      <td>8.00</td>\n",
              "    </tr>\n",
              "    <tr>\n",
              "      <th>All</th>\n",
              "      <td>19713</td>\n",
              "      <td>1741</td>\n",
              "      <td>21454</td>\n",
              "      <td>8.12</td>\n",
              "    </tr>\n",
              "  </tbody>\n",
              "</table>\n",
              "</div>"
            ],
            "text/plain": [
              "debt                    0     1    All  Proporsi\n",
              "purpose_group                                   \n",
              "buy house            7674   611   8285      7.37\n",
              "buy property         1190    94   1284      7.32\n",
              "car purchase         3903   403   4306      9.36\n",
              "education            3643   370   4013      9.22\n",
              "housing renovation   1165    77   1242      6.20\n",
              "wedding              2138   186   2324      8.00\n",
              "All                 19713  1741  21454      8.12"
            ]
          },
          "execution_count": 93,
          "metadata": {},
          "output_type": "execute_result"
        }
      ],
      "source": [
        "# Periksa persentase tarif otomatis untuk setiap tujuan kredit\n",
        "data_pivot_by_purpose = data.pivot_table(\n",
        "    values='debt_meaning',\n",
        "    index='purpose_group',\n",
        "    columns='debt',\n",
        "    aggfunc='count',\n",
        "    margins=True,\n",
        ")\n",
        "\n",
        "data_pivot_by_purpose['Proporsi'] = round(data_pivot_by_purpose[1] / data_pivot_by_purpose['All'] * 100, 2)\n",
        "data_pivot_by_purpose"
      ]
    },
    {
      "cell_type": "markdown",
      "metadata": {
        "id": "D2HZ5eTDxjOf"
      },
      "source": [
        "**Kesimpulan**\n",
        "\n",
        "Nasabah dengan tujuan pinjaman pembelian mobil & pendidikan memiliki tingkat probabilitas gagal bayar paling tinggi, sementara orang-orang dengan tujuan merenovasi rumah memiliki tingkat probabilitas gagal bayar paling rendah. Mungkin, ini berhubungan dengan umur nasabah dan pengalaman kerja mereka, sehingga income mereka masih terbatas untuk memenuhi kewajiban mereka."
      ]
    },
    {
      "cell_type": "markdown",
      "metadata": {
        "id": "HfQYzGOTxjOf"
      },
      "source": [
        "# Kesimpulan Umum \n",
        "\n",
        "1. Nilai yang hilang pada kolom `days_employed` & `total_income` simetris yaitu 2174 rows (10% dari data). Mungkin saja ini adalah kesalahan sistem. Tidak ditemukan pola dalam hilangnya data, karena setelah dicompare antara data asli dengan data_null, hampir semua jenis data muncul (contoh: pada kolom `children` & kolom `family_status` terlihat sama pada data asli & data_null)\n",
        "\n",
        "2. Kolom `days_employed` mengandung banyak value rancu, dimana ada yang bernilai negatif dimana seharusnya lama bekerja tidak mungkin negatif, kemudian jumlah hari kerjanya ada yang tidak masuk akal 340266 hari / 365 hari = 932 tahun. Sehingga kita perlu melakukan modifikasi yang lebih masuk akal dengan mengganti nilai negatif menjadi positif dan jumlah hari bekerja yang tidak masuk akal disesuaikan dengan umur nasabah.\n",
        "\n",
        "3. Kolom `education` memiliki unique value yang bedanya pada gaya penulisan huruf kapital, huruf kecil, dstnya.\n",
        "\n",
        "4. Kolom `dob_years` yang berumur 0 diperbaiki dengan mengambil umur termuda yang ada pada data, yaitu umur 19 tahun.\n",
        "\n",
        "5. Kolom `total_income` yang hilang diperbaiki dengan mengambil nilai median, begitu pula dengan kolom `days_employed`. Nilai median dirasa lebih tepat karena value pada kolom tersebut sangatlah bervariasi.\n",
        "\n",
        "6. Kolom `education` & kolom `purpose` merupakan data yang diinput manual sehingga memiliki banyak duplikat value sehingga diperbaiki berdasarkan jenisnya.\n",
        "\n",
        "7. Secara umum, data memiliki banyak masalah, mulai dari data yang hilang sebesar 10%, kolom yang memiliki banyak kerancuan dan tidak masuk akal, sehingga manipulasi pada data cukup banyak untuk memperbaiki data tersebut.\n",
        "\n",
        "8. Berdasarkan hasil analisis data:\n",
        "- Pertama, memiliki anak tidak berpengaruh signifikan terhadap kegagalan pembayaran hutang, hanya selisih sedikit (8.18% -> memiliki anak vs. 7.54% -> tidak memiliki anak).\n",
        "- Selanjutnya, orang-orang yang sudah menikah / pernah menikah lebih rendah memiliki % probabilitas gagal bayar dibandingkan yang belum menikah. \n",
        "- Bahkan, orang kaya dengan penghasilan besar tidak menjamin berhasil bayar tepat waktu dimana data menunjukkan golongan mereka memiliki probabilitas 50% gagal bayar hutang meski data hanya berisi 2 orang.\n",
        "- Terakhir, untuk tujuan pengambilan hutang berpengaruh sampai dengan 9.36% yaitu untuk yang tujuannya membeli mobil & pendidikan."
      ]
    },
    {
      "cell_type": "code",
      "source": [],
      "metadata": {
        "id": "3dMU3ZBT4tOH"
      },
      "execution_count": null,
      "outputs": []
    }
  ],
  "metadata": {
    "ExecuteTimeLog": [
      {
        "duration": 2741,
        "start_time": "2021-10-21T01:08:49.480Z"
      },
      {
        "duration": 52,
        "start_time": "2021-10-21T01:08:53.315Z"
      },
      {
        "duration": 49,
        "start_time": "2021-10-21T01:08:57.432Z"
      },
      {
        "duration": 70,
        "start_time": "2021-10-21T01:09:07.706Z"
      },
      {
        "duration": 472,
        "start_time": "2022-08-29T14:29:34.100Z"
      },
      {
        "duration": 291,
        "start_time": "2022-08-29T14:29:44.762Z"
      },
      {
        "duration": 14,
        "start_time": "2022-08-29T14:31:02.977Z"
      },
      {
        "duration": 19,
        "start_time": "2022-08-29T14:33:13.811Z"
      },
      {
        "duration": 7,
        "start_time": "2022-08-29T14:39:09.100Z"
      },
      {
        "duration": 4,
        "start_time": "2022-08-29T14:39:18.332Z"
      },
      {
        "duration": 12,
        "start_time": "2022-08-29T14:40:38.499Z"
      },
      {
        "duration": 10,
        "start_time": "2022-08-29T14:45:02.499Z"
      },
      {
        "duration": 18,
        "start_time": "2022-08-29T14:45:18.590Z"
      },
      {
        "duration": 4,
        "start_time": "2022-08-29T14:48:45.938Z"
      },
      {
        "duration": 4,
        "start_time": "2022-08-29T14:48:54.249Z"
      },
      {
        "duration": 20,
        "start_time": "2022-08-29T14:49:15.351Z"
      },
      {
        "duration": 8,
        "start_time": "2022-08-29T14:49:46.883Z"
      },
      {
        "duration": 68,
        "start_time": "2022-08-29T14:50:11.026Z"
      },
      {
        "duration": 55,
        "start_time": "2022-08-29T14:50:21.331Z"
      },
      {
        "duration": 11,
        "start_time": "2022-08-29T14:50:54.520Z"
      },
      {
        "duration": 19,
        "start_time": "2022-08-29T14:51:05.165Z"
      },
      {
        "duration": 12,
        "start_time": "2022-08-29T14:54:30.733Z"
      },
      {
        "duration": 9,
        "start_time": "2022-08-29T14:56:25.894Z"
      },
      {
        "duration": 5,
        "start_time": "2022-08-29T14:56:34.599Z"
      },
      {
        "duration": 28,
        "start_time": "2022-08-29T15:02:32.771Z"
      },
      {
        "duration": 8,
        "start_time": "2022-08-29T15:16:08.384Z"
      },
      {
        "duration": 46,
        "start_time": "2022-08-29T15:16:20.901Z"
      },
      {
        "duration": 42,
        "start_time": "2022-08-29T15:16:35.849Z"
      },
      {
        "duration": 579,
        "start_time": "2022-08-30T15:09:43.255Z"
      },
      {
        "duration": 7,
        "start_time": "2022-08-30T15:11:25.890Z"
      },
      {
        "duration": 18,
        "start_time": "2022-08-30T15:11:30.002Z"
      },
      {
        "duration": 59,
        "start_time": "2022-08-30T15:11:49.993Z"
      },
      {
        "duration": 4,
        "start_time": "2022-08-30T15:11:55.434Z"
      },
      {
        "duration": 14,
        "start_time": "2022-08-30T15:11:59.731Z"
      },
      {
        "duration": 16,
        "start_time": "2022-08-30T15:12:04.958Z"
      },
      {
        "duration": 21,
        "start_time": "2022-08-30T15:12:24.397Z"
      },
      {
        "duration": 21,
        "start_time": "2022-08-30T15:13:04.601Z"
      },
      {
        "duration": 73,
        "start_time": "2022-08-30T15:16:04.440Z"
      },
      {
        "duration": 21,
        "start_time": "2022-08-30T15:16:41.827Z"
      },
      {
        "duration": 21,
        "start_time": "2022-08-30T15:17:12.033Z"
      },
      {
        "duration": 20,
        "start_time": "2022-08-30T15:17:28.509Z"
      },
      {
        "duration": 7,
        "start_time": "2022-08-30T15:27:13.488Z"
      },
      {
        "duration": 6,
        "start_time": "2022-08-30T15:33:53.766Z"
      },
      {
        "duration": 7,
        "start_time": "2022-08-30T15:36:23.955Z"
      },
      {
        "duration": 8,
        "start_time": "2022-08-30T15:36:58.365Z"
      },
      {
        "duration": 8,
        "start_time": "2022-08-30T15:37:37.740Z"
      },
      {
        "duration": 5,
        "start_time": "2022-08-30T15:37:48.731Z"
      },
      {
        "duration": 4,
        "start_time": "2022-08-30T15:38:08.941Z"
      },
      {
        "duration": 10,
        "start_time": "2022-08-30T15:38:47.608Z"
      },
      {
        "duration": 4,
        "start_time": "2022-08-30T15:38:52.857Z"
      },
      {
        "duration": 5,
        "start_time": "2022-08-30T15:39:02.582Z"
      },
      {
        "duration": 6,
        "start_time": "2022-08-30T15:43:35.570Z"
      },
      {
        "duration": 9,
        "start_time": "2022-08-30T15:44:47.691Z"
      },
      {
        "duration": 4,
        "start_time": "2022-08-30T15:44:56.774Z"
      },
      {
        "duration": 4,
        "start_time": "2022-08-30T15:49:45.605Z"
      },
      {
        "duration": 14,
        "start_time": "2022-08-30T15:49:52.075Z"
      },
      {
        "duration": 7,
        "start_time": "2022-08-30T16:00:14.482Z"
      },
      {
        "duration": 5,
        "start_time": "2022-08-30T16:00:43.566Z"
      },
      {
        "duration": 4,
        "start_time": "2022-08-30T16:00:48.736Z"
      },
      {
        "duration": 6,
        "start_time": "2022-08-30T16:01:06.887Z"
      },
      {
        "duration": 6,
        "start_time": "2022-08-30T16:02:02.311Z"
      },
      {
        "duration": 6,
        "start_time": "2022-08-30T16:02:06.517Z"
      },
      {
        "duration": 7,
        "start_time": "2022-08-30T16:02:16.331Z"
      },
      {
        "duration": 8,
        "start_time": "2022-08-30T16:05:16.414Z"
      },
      {
        "duration": 5,
        "start_time": "2022-08-30T16:05:42.221Z"
      },
      {
        "duration": 1025,
        "start_time": "2022-08-30T16:06:01.403Z"
      },
      {
        "duration": 6,
        "start_time": "2022-08-30T16:06:31.378Z"
      },
      {
        "duration": 4,
        "start_time": "2022-08-30T16:06:53.375Z"
      },
      {
        "duration": 5,
        "start_time": "2022-08-30T16:07:03.013Z"
      },
      {
        "duration": 4,
        "start_time": "2022-08-30T16:07:22.069Z"
      },
      {
        "duration": 6,
        "start_time": "2022-08-30T16:07:42.485Z"
      },
      {
        "duration": 4,
        "start_time": "2022-08-30T16:07:59.610Z"
      },
      {
        "duration": 4,
        "start_time": "2022-08-30T16:08:04.900Z"
      },
      {
        "duration": 4,
        "start_time": "2022-08-30T16:08:35.810Z"
      },
      {
        "duration": 4,
        "start_time": "2022-08-30T16:08:43.509Z"
      },
      {
        "duration": 6,
        "start_time": "2022-08-30T16:10:15.501Z"
      },
      {
        "duration": 2,
        "start_time": "2022-08-30T16:10:23.602Z"
      },
      {
        "duration": 5,
        "start_time": "2022-08-30T16:10:50.650Z"
      },
      {
        "duration": 5,
        "start_time": "2022-08-30T16:11:38.072Z"
      },
      {
        "duration": 3,
        "start_time": "2022-08-30T16:15:35.710Z"
      },
      {
        "duration": 5,
        "start_time": "2022-08-30T16:15:45.945Z"
      },
      {
        "duration": 8,
        "start_time": "2022-08-30T16:16:08.908Z"
      },
      {
        "duration": 8,
        "start_time": "2022-08-30T16:16:14.652Z"
      },
      {
        "duration": 8,
        "start_time": "2022-08-30T16:23:29.273Z"
      },
      {
        "duration": 6,
        "start_time": "2022-08-30T16:23:42.476Z"
      },
      {
        "duration": 5,
        "start_time": "2022-08-30T16:23:52.951Z"
      },
      {
        "duration": 9,
        "start_time": "2022-08-30T16:30:38.284Z"
      },
      {
        "duration": 5,
        "start_time": "2022-08-30T16:30:41.475Z"
      },
      {
        "duration": 5,
        "start_time": "2022-08-30T16:32:04.605Z"
      },
      {
        "duration": 4,
        "start_time": "2022-08-30T16:32:37.543Z"
      },
      {
        "duration": 6,
        "start_time": "2022-08-30T16:33:02.757Z"
      },
      {
        "duration": 7,
        "start_time": "2022-08-30T16:33:06.377Z"
      },
      {
        "duration": 6,
        "start_time": "2022-08-30T16:34:30.021Z"
      },
      {
        "duration": 6,
        "start_time": "2022-08-30T16:34:51.980Z"
      },
      {
        "duration": 4,
        "start_time": "2022-08-30T16:34:53.878Z"
      },
      {
        "duration": 7,
        "start_time": "2022-08-30T16:39:07.644Z"
      },
      {
        "duration": 6,
        "start_time": "2022-08-30T16:39:09.875Z"
      },
      {
        "duration": 9,
        "start_time": "2022-08-30T16:40:16.857Z"
      },
      {
        "duration": 5,
        "start_time": "2022-08-30T16:40:19.201Z"
      },
      {
        "duration": 11,
        "start_time": "2022-08-30T16:42:30.006Z"
      },
      {
        "duration": 5,
        "start_time": "2022-08-30T16:42:30.210Z"
      },
      {
        "duration": 6,
        "start_time": "2022-08-30T16:42:36.040Z"
      },
      {
        "duration": 12,
        "start_time": "2022-08-30T16:44:23.703Z"
      },
      {
        "duration": 5,
        "start_time": "2022-08-30T16:44:26.751Z"
      },
      {
        "duration": 15,
        "start_time": "2022-08-30T16:45:21.598Z"
      },
      {
        "duration": 14,
        "start_time": "2022-08-30T16:45:25.303Z"
      },
      {
        "duration": 5,
        "start_time": "2022-08-30T16:45:28.629Z"
      },
      {
        "duration": 13,
        "start_time": "2022-08-30T16:46:10.380Z"
      },
      {
        "duration": 5,
        "start_time": "2022-08-30T16:46:27.199Z"
      },
      {
        "duration": 5,
        "start_time": "2022-08-30T16:46:36.086Z"
      },
      {
        "duration": 6,
        "start_time": "2022-08-30T16:46:42.379Z"
      },
      {
        "duration": 5,
        "start_time": "2022-08-30T16:47:54.626Z"
      },
      {
        "duration": 5,
        "start_time": "2022-08-30T16:48:05.877Z"
      },
      {
        "duration": 3,
        "start_time": "2022-08-30T16:48:23.530Z"
      },
      {
        "duration": 5,
        "start_time": "2022-08-30T16:49:34.002Z"
      },
      {
        "duration": 5,
        "start_time": "2022-08-30T16:49:53.479Z"
      },
      {
        "duration": 4,
        "start_time": "2022-08-30T16:51:44.382Z"
      },
      {
        "duration": 5,
        "start_time": "2022-08-30T16:51:57.204Z"
      },
      {
        "duration": 4,
        "start_time": "2022-08-30T16:53:51.281Z"
      },
      {
        "duration": 5,
        "start_time": "2022-08-30T16:53:54.276Z"
      },
      {
        "duration": 418,
        "start_time": "2022-08-30T16:55:03.732Z"
      },
      {
        "duration": 8,
        "start_time": "2022-08-30T16:55:07.125Z"
      },
      {
        "duration": 15,
        "start_time": "2022-08-30T16:55:08.906Z"
      },
      {
        "duration": 15,
        "start_time": "2022-08-30T16:55:11.413Z"
      },
      {
        "duration": 61,
        "start_time": "2022-08-30T16:55:13.905Z"
      },
      {
        "duration": 21,
        "start_time": "2022-08-30T16:55:25.064Z"
      },
      {
        "duration": 6,
        "start_time": "2022-08-30T16:55:27.505Z"
      },
      {
        "duration": 4,
        "start_time": "2022-08-30T16:55:30.062Z"
      },
      {
        "duration": 5,
        "start_time": "2022-08-30T16:55:32.412Z"
      },
      {
        "duration": 7,
        "start_time": "2022-08-30T16:55:34.824Z"
      },
      {
        "duration": 5,
        "start_time": "2022-08-30T16:55:37.312Z"
      },
      {
        "duration": 5,
        "start_time": "2022-08-30T16:55:40.143Z"
      },
      {
        "duration": 6,
        "start_time": "2022-08-30T16:55:42.706Z"
      },
      {
        "duration": 16,
        "start_time": "2022-08-30T16:55:45.682Z"
      },
      {
        "duration": 6,
        "start_time": "2022-08-30T16:55:48.709Z"
      },
      {
        "duration": 6,
        "start_time": "2022-08-30T16:55:51.188Z"
      },
      {
        "duration": 4,
        "start_time": "2022-08-30T16:56:01.048Z"
      },
      {
        "duration": 6,
        "start_time": "2022-08-30T16:56:06.153Z"
      },
      {
        "duration": 5,
        "start_time": "2022-08-30T16:56:09.675Z"
      },
      {
        "duration": 5,
        "start_time": "2022-08-30T16:56:13.197Z"
      },
      {
        "duration": 11,
        "start_time": "2022-08-30T16:58:54.533Z"
      },
      {
        "duration": 21,
        "start_time": "2022-08-30T16:59:10.025Z"
      },
      {
        "duration": 7,
        "start_time": "2022-08-30T16:59:12.412Z"
      },
      {
        "duration": 482,
        "start_time": "2022-08-30T17:01:03.698Z"
      },
      {
        "duration": 8,
        "start_time": "2022-08-30T17:01:08.342Z"
      },
      {
        "duration": 15,
        "start_time": "2022-08-30T17:01:10.199Z"
      },
      {
        "duration": 23,
        "start_time": "2022-08-30T17:01:12.857Z"
      },
      {
        "duration": 21,
        "start_time": "2022-08-30T17:01:15.700Z"
      },
      {
        "duration": 9,
        "start_time": "2022-08-30T17:01:18.952Z"
      },
      {
        "duration": 3,
        "start_time": "2022-08-30T17:01:21.373Z"
      },
      {
        "duration": 6,
        "start_time": "2022-08-30T17:01:23.162Z"
      },
      {
        "duration": 7,
        "start_time": "2022-08-30T17:01:25.401Z"
      },
      {
        "duration": 6,
        "start_time": "2022-08-30T17:01:28.583Z"
      },
      {
        "duration": 5,
        "start_time": "2022-08-30T17:01:31.165Z"
      },
      {
        "duration": 5,
        "start_time": "2022-08-30T17:01:34.232Z"
      },
      {
        "duration": 5,
        "start_time": "2022-08-30T17:01:37.930Z"
      },
      {
        "duration": 5,
        "start_time": "2022-08-30T17:01:40.141Z"
      },
      {
        "duration": 20,
        "start_time": "2022-08-30T17:01:49.674Z"
      },
      {
        "duration": 29,
        "start_time": "2022-08-30T17:04:22.342Z"
      },
      {
        "duration": 22,
        "start_time": "2022-08-30T17:06:20.889Z"
      },
      {
        "duration": 7,
        "start_time": "2022-08-30T17:06:23.244Z"
      },
      {
        "duration": 21,
        "start_time": "2022-08-30T17:06:36.765Z"
      },
      {
        "duration": 7,
        "start_time": "2022-08-30T17:06:38.530Z"
      },
      {
        "duration": 42,
        "start_time": "2022-08-31T11:33:11.293Z"
      },
      {
        "duration": 592,
        "start_time": "2022-08-31T11:33:30.290Z"
      },
      {
        "duration": 7,
        "start_time": "2022-08-31T11:33:36.339Z"
      },
      {
        "duration": 15,
        "start_time": "2022-08-31T11:33:38.104Z"
      },
      {
        "duration": 14,
        "start_time": "2022-08-31T11:33:41.095Z"
      },
      {
        "duration": 18,
        "start_time": "2022-08-31T11:33:43.817Z"
      },
      {
        "duration": 6,
        "start_time": "2022-08-31T11:33:47.761Z"
      },
      {
        "duration": 3,
        "start_time": "2022-08-31T11:33:50.875Z"
      },
      {
        "duration": 6,
        "start_time": "2022-08-31T11:33:53.725Z"
      },
      {
        "duration": 6,
        "start_time": "2022-08-31T11:33:57.592Z"
      },
      {
        "duration": 5,
        "start_time": "2022-08-31T11:34:01.066Z"
      },
      {
        "duration": 4,
        "start_time": "2022-08-31T11:34:04.300Z"
      },
      {
        "duration": 18,
        "start_time": "2022-08-31T11:34:07.437Z"
      },
      {
        "duration": 5,
        "start_time": "2022-08-31T11:34:10.453Z"
      },
      {
        "duration": 5,
        "start_time": "2022-08-31T11:34:13.544Z"
      },
      {
        "duration": 3,
        "start_time": "2022-08-31T11:34:19.984Z"
      },
      {
        "duration": 4,
        "start_time": "2022-08-31T11:34:26.528Z"
      },
      {
        "duration": 9,
        "start_time": "2022-08-31T11:41:29.273Z"
      },
      {
        "duration": 5,
        "start_time": "2022-08-31T11:41:33.412Z"
      },
      {
        "duration": 479,
        "start_time": "2022-08-31T11:42:00.961Z"
      },
      {
        "duration": 7,
        "start_time": "2022-08-31T11:42:03.486Z"
      },
      {
        "duration": 14,
        "start_time": "2022-08-31T11:42:04.967Z"
      },
      {
        "duration": 18,
        "start_time": "2022-08-31T11:42:07.436Z"
      },
      {
        "duration": 36,
        "start_time": "2022-08-31T11:42:09.834Z"
      },
      {
        "duration": 6,
        "start_time": "2022-08-31T11:42:11.713Z"
      },
      {
        "duration": 5,
        "start_time": "2022-08-31T11:42:13.768Z"
      },
      {
        "duration": 6,
        "start_time": "2022-08-31T11:42:15.356Z"
      },
      {
        "duration": 9,
        "start_time": "2022-08-31T11:42:17.945Z"
      },
      {
        "duration": 5,
        "start_time": "2022-08-31T11:42:21.324Z"
      },
      {
        "duration": 6,
        "start_time": "2022-08-31T11:42:23.578Z"
      },
      {
        "duration": 5,
        "start_time": "2022-08-31T11:42:25.974Z"
      },
      {
        "duration": 19,
        "start_time": "2022-08-31T11:42:27.742Z"
      },
      {
        "duration": 6,
        "start_time": "2022-08-31T11:42:30.511Z"
      },
      {
        "duration": 6,
        "start_time": "2022-08-31T11:42:35.305Z"
      },
      {
        "duration": 31,
        "start_time": "2022-08-31T11:43:09.615Z"
      },
      {
        "duration": 15,
        "start_time": "2022-08-31T11:44:28.755Z"
      },
      {
        "duration": 6,
        "start_time": "2022-08-31T11:44:35.112Z"
      },
      {
        "duration": 414,
        "start_time": "2022-08-31T11:45:09.801Z"
      },
      {
        "duration": 7,
        "start_time": "2022-08-31T11:45:13.840Z"
      },
      {
        "duration": 13,
        "start_time": "2022-08-31T11:45:16.311Z"
      },
      {
        "duration": 15,
        "start_time": "2022-08-31T11:45:19.203Z"
      },
      {
        "duration": 20,
        "start_time": "2022-08-31T11:45:21.401Z"
      },
      {
        "duration": 6,
        "start_time": "2022-08-31T11:45:23.731Z"
      },
      {
        "duration": 4,
        "start_time": "2022-08-31T11:45:26.138Z"
      },
      {
        "duration": 5,
        "start_time": "2022-08-31T11:45:27.939Z"
      },
      {
        "duration": 6,
        "start_time": "2022-08-31T11:45:30.029Z"
      },
      {
        "duration": 5,
        "start_time": "2022-08-31T11:45:32.159Z"
      },
      {
        "duration": 6,
        "start_time": "2022-08-31T11:45:34.218Z"
      },
      {
        "duration": 5,
        "start_time": "2022-08-31T11:45:36.704Z"
      },
      {
        "duration": 12,
        "start_time": "2022-08-31T11:45:37.753Z"
      },
      {
        "duration": 4,
        "start_time": "2022-08-31T11:45:38.949Z"
      },
      {
        "duration": 6,
        "start_time": "2022-08-31T11:45:42.108Z"
      },
      {
        "duration": 8,
        "start_time": "2022-08-31T11:45:57.497Z"
      },
      {
        "duration": 5,
        "start_time": "2022-08-31T11:45:59.117Z"
      },
      {
        "duration": 435,
        "start_time": "2022-08-31T11:46:50.338Z"
      },
      {
        "duration": 7,
        "start_time": "2022-08-31T11:46:52.372Z"
      },
      {
        "duration": 15,
        "start_time": "2022-08-31T11:46:53.003Z"
      },
      {
        "duration": 16,
        "start_time": "2022-08-31T11:46:56.732Z"
      },
      {
        "duration": 18,
        "start_time": "2022-08-31T11:46:59.179Z"
      },
      {
        "duration": 5,
        "start_time": "2022-08-31T11:47:01.470Z"
      },
      {
        "duration": 4,
        "start_time": "2022-08-31T11:47:03.863Z"
      },
      {
        "duration": 6,
        "start_time": "2022-08-31T11:47:05.089Z"
      },
      {
        "duration": 6,
        "start_time": "2022-08-31T11:47:07.669Z"
      },
      {
        "duration": 5,
        "start_time": "2022-08-31T11:47:10.484Z"
      },
      {
        "duration": 5,
        "start_time": "2022-08-31T11:47:12.366Z"
      },
      {
        "duration": 5,
        "start_time": "2022-08-31T11:47:15.088Z"
      },
      {
        "duration": 14,
        "start_time": "2022-08-31T11:47:16.884Z"
      },
      {
        "duration": 5,
        "start_time": "2022-08-31T11:47:17.682Z"
      },
      {
        "duration": 5,
        "start_time": "2022-08-31T11:47:20.507Z"
      },
      {
        "duration": 8,
        "start_time": "2022-08-31T11:47:32.625Z"
      },
      {
        "duration": 5,
        "start_time": "2022-08-31T11:47:40.134Z"
      },
      {
        "duration": 429,
        "start_time": "2022-08-31T11:48:12.067Z"
      },
      {
        "duration": 8,
        "start_time": "2022-08-31T11:48:15.567Z"
      },
      {
        "duration": 15,
        "start_time": "2022-08-31T11:48:16.500Z"
      },
      {
        "duration": 14,
        "start_time": "2022-08-31T11:48:19.335Z"
      },
      {
        "duration": 29,
        "start_time": "2022-08-31T11:48:21.737Z"
      },
      {
        "duration": 6,
        "start_time": "2022-08-31T11:48:23.906Z"
      },
      {
        "duration": 3,
        "start_time": "2022-08-31T11:48:25.945Z"
      },
      {
        "duration": 6,
        "start_time": "2022-08-31T11:48:28.370Z"
      },
      {
        "duration": 11,
        "start_time": "2022-08-31T11:48:30.756Z"
      },
      {
        "duration": 5,
        "start_time": "2022-08-31T11:48:33.078Z"
      },
      {
        "duration": 5,
        "start_time": "2022-08-31T11:48:35.379Z"
      },
      {
        "duration": 4,
        "start_time": "2022-08-31T11:48:38.591Z"
      },
      {
        "duration": 13,
        "start_time": "2022-08-31T11:48:41.209Z"
      },
      {
        "duration": 5,
        "start_time": "2022-08-31T11:48:43.466Z"
      },
      {
        "duration": 6,
        "start_time": "2022-08-31T11:48:46.721Z"
      },
      {
        "duration": 4,
        "start_time": "2022-08-31T11:49:19.634Z"
      },
      {
        "duration": 27,
        "start_time": "2022-08-31T11:55:20.978Z"
      },
      {
        "duration": 19,
        "start_time": "2022-08-31T11:55:53.479Z"
      },
      {
        "duration": 11,
        "start_time": "2022-08-31T11:55:56.246Z"
      },
      {
        "duration": 4,
        "start_time": "2022-08-31T11:56:55.613Z"
      },
      {
        "duration": 14,
        "start_time": "2022-08-31T11:57:18.768Z"
      },
      {
        "duration": 6,
        "start_time": "2022-08-31T14:06:34.817Z"
      },
      {
        "duration": 5,
        "start_time": "2022-08-31T14:09:36.970Z"
      },
      {
        "duration": 9,
        "start_time": "2022-08-31T14:12:31.081Z"
      },
      {
        "duration": 15,
        "start_time": "2022-08-31T14:13:37.670Z"
      },
      {
        "duration": 1323,
        "start_time": "2022-08-31T14:27:27.122Z"
      },
      {
        "duration": 1163,
        "start_time": "2022-08-31T14:27:46.024Z"
      },
      {
        "duration": 1092,
        "start_time": "2022-08-31T14:27:53.913Z"
      },
      {
        "duration": 2,
        "start_time": "2022-08-31T14:29:12.511Z"
      },
      {
        "duration": 731,
        "start_time": "2022-08-31T14:31:30.494Z"
      },
      {
        "duration": 1095,
        "start_time": "2022-08-31T14:31:35.935Z"
      },
      {
        "duration": 859,
        "start_time": "2022-08-31T14:32:23.367Z"
      },
      {
        "duration": 9,
        "start_time": "2022-08-31T14:33:56.035Z"
      },
      {
        "duration": 702,
        "start_time": "2022-08-31T14:34:11.594Z"
      },
      {
        "duration": 1153,
        "start_time": "2022-08-31T14:35:27.264Z"
      },
      {
        "duration": 28,
        "start_time": "2022-08-31T14:35:31.138Z"
      },
      {
        "duration": 55,
        "start_time": "2022-08-31T14:37:42.902Z"
      },
      {
        "duration": 52,
        "start_time": "2022-08-31T14:37:46.104Z"
      },
      {
        "duration": 423,
        "start_time": "2022-08-31T14:37:54.923Z"
      },
      {
        "duration": 7,
        "start_time": "2022-08-31T14:37:57.932Z"
      },
      {
        "duration": 15,
        "start_time": "2022-08-31T14:37:59.588Z"
      },
      {
        "duration": 15,
        "start_time": "2022-08-31T14:38:02.129Z"
      },
      {
        "duration": 21,
        "start_time": "2022-08-31T14:38:04.433Z"
      },
      {
        "duration": 7,
        "start_time": "2022-08-31T14:38:06.344Z"
      },
      {
        "duration": 4,
        "start_time": "2022-08-31T14:38:08.239Z"
      },
      {
        "duration": 6,
        "start_time": "2022-08-31T14:38:09.642Z"
      },
      {
        "duration": 6,
        "start_time": "2022-08-31T14:38:12.331Z"
      },
      {
        "duration": 6,
        "start_time": "2022-08-31T14:38:14.623Z"
      },
      {
        "duration": 5,
        "start_time": "2022-08-31T14:38:17.146Z"
      },
      {
        "duration": 6,
        "start_time": "2022-08-31T14:38:19.287Z"
      },
      {
        "duration": 15,
        "start_time": "2022-08-31T14:38:20.662Z"
      },
      {
        "duration": 6,
        "start_time": "2022-08-31T14:38:22.012Z"
      },
      {
        "duration": 5,
        "start_time": "2022-08-31T14:38:24.027Z"
      },
      {
        "duration": 18,
        "start_time": "2022-08-31T14:38:25.955Z"
      },
      {
        "duration": 6,
        "start_time": "2022-08-31T14:38:28.360Z"
      },
      {
        "duration": 18,
        "start_time": "2022-08-31T14:38:30.746Z"
      },
      {
        "duration": 4,
        "start_time": "2022-08-31T14:44:00.897Z"
      },
      {
        "duration": 112,
        "start_time": "2022-08-31T14:44:17.222Z"
      },
      {
        "duration": 99,
        "start_time": "2022-08-31T14:44:22.181Z"
      },
      {
        "duration": 55,
        "start_time": "2022-08-31T14:44:26.211Z"
      },
      {
        "duration": 5,
        "start_time": "2022-08-31T14:44:34.890Z"
      },
      {
        "duration": 7,
        "start_time": "2022-08-31T14:45:00.804Z"
      },
      {
        "duration": 106,
        "start_time": "2022-08-31T14:48:18.839Z"
      },
      {
        "duration": 19,
        "start_time": "2022-08-31T14:48:24.374Z"
      },
      {
        "duration": 21,
        "start_time": "2022-08-31T14:48:35.314Z"
      },
      {
        "duration": 21,
        "start_time": "2022-08-31T14:48:48.310Z"
      },
      {
        "duration": 23,
        "start_time": "2022-08-31T15:05:23.249Z"
      },
      {
        "duration": 4,
        "start_time": "2022-08-31T15:06:18.405Z"
      },
      {
        "duration": 16,
        "start_time": "2022-08-31T15:06:39.877Z"
      },
      {
        "duration": 23,
        "start_time": "2022-08-31T15:08:13.836Z"
      },
      {
        "duration": 53,
        "start_time": "2022-08-31T15:14:58.770Z"
      },
      {
        "duration": 385,
        "start_time": "2022-08-31T15:15:07.993Z"
      },
      {
        "duration": 7,
        "start_time": "2022-08-31T15:15:11.071Z"
      },
      {
        "duration": 14,
        "start_time": "2022-08-31T15:15:12.193Z"
      },
      {
        "duration": 13,
        "start_time": "2022-08-31T15:20:58.587Z"
      },
      {
        "duration": 21,
        "start_time": "2022-08-31T15:21:00.924Z"
      },
      {
        "duration": 6,
        "start_time": "2022-08-31T15:21:06.962Z"
      },
      {
        "duration": 4,
        "start_time": "2022-08-31T15:21:09.885Z"
      },
      {
        "duration": 5,
        "start_time": "2022-08-31T15:21:18.975Z"
      },
      {
        "duration": 5,
        "start_time": "2022-08-31T15:21:27.911Z"
      },
      {
        "duration": 6,
        "start_time": "2022-08-31T15:21:32.391Z"
      },
      {
        "duration": 6,
        "start_time": "2022-08-31T15:21:35.589Z"
      },
      {
        "duration": 5,
        "start_time": "2022-08-31T15:21:38.203Z"
      },
      {
        "duration": 5,
        "start_time": "2022-08-31T15:21:41.220Z"
      },
      {
        "duration": 13,
        "start_time": "2022-08-31T15:21:41.940Z"
      },
      {
        "duration": 5,
        "start_time": "2022-08-31T15:21:45.564Z"
      },
      {
        "duration": 19,
        "start_time": "2022-08-31T15:21:50.460Z"
      },
      {
        "duration": 7,
        "start_time": "2022-08-31T15:21:51.277Z"
      },
      {
        "duration": 18,
        "start_time": "2022-08-31T15:21:59.118Z"
      },
      {
        "duration": 9,
        "start_time": "2022-08-31T15:22:24.421Z"
      },
      {
        "duration": 5,
        "start_time": "2022-08-31T15:22:34.177Z"
      },
      {
        "duration": 8,
        "start_time": "2022-08-31T15:22:41.675Z"
      },
      {
        "duration": 9,
        "start_time": "2022-08-31T15:28:21.392Z"
      },
      {
        "duration": 4,
        "start_time": "2022-08-31T15:28:28.810Z"
      },
      {
        "duration": 22,
        "start_time": "2022-08-31T15:28:38.794Z"
      },
      {
        "duration": 56,
        "start_time": "2022-08-31T15:29:52.439Z"
      },
      {
        "duration": 4,
        "start_time": "2022-08-31T15:30:01.730Z"
      },
      {
        "duration": 18,
        "start_time": "2022-08-31T15:31:37.117Z"
      },
      {
        "duration": 4,
        "start_time": "2022-08-31T15:31:49.490Z"
      },
      {
        "duration": 15,
        "start_time": "2022-08-31T15:31:56.688Z"
      },
      {
        "duration": 356,
        "start_time": "2022-08-31T15:34:20.027Z"
      },
      {
        "duration": 5,
        "start_time": "2022-08-31T15:35:01.852Z"
      },
      {
        "duration": 13,
        "start_time": "2022-08-31T15:35:04.422Z"
      },
      {
        "duration": 7,
        "start_time": "2022-08-31T15:35:49.022Z"
      },
      {
        "duration": 8,
        "start_time": "2022-08-31T15:36:13.049Z"
      },
      {
        "duration": 9,
        "start_time": "2022-08-31T15:36:16.670Z"
      },
      {
        "duration": 6,
        "start_time": "2022-08-31T15:36:56.937Z"
      },
      {
        "duration": 10,
        "start_time": "2022-08-31T15:40:28.774Z"
      },
      {
        "duration": 8,
        "start_time": "2022-08-31T15:41:19.432Z"
      },
      {
        "duration": 6,
        "start_time": "2022-08-31T15:41:53.401Z"
      },
      {
        "duration": 9,
        "start_time": "2022-08-31T15:43:04.699Z"
      },
      {
        "duration": 9,
        "start_time": "2022-08-31T15:43:33.700Z"
      },
      {
        "duration": 15,
        "start_time": "2022-08-31T15:44:08.589Z"
      },
      {
        "duration": 26,
        "start_time": "2022-08-31T15:44:31.152Z"
      },
      {
        "duration": 13,
        "start_time": "2022-08-31T15:44:49.999Z"
      },
      {
        "duration": 8,
        "start_time": "2022-08-31T15:44:53.880Z"
      },
      {
        "duration": 15,
        "start_time": "2022-08-31T15:45:14.819Z"
      },
      {
        "duration": 87,
        "start_time": "2022-08-31T15:45:31.293Z"
      },
      {
        "duration": 19,
        "start_time": "2022-08-31T15:45:33.768Z"
      },
      {
        "duration": 18,
        "start_time": "2022-08-31T15:45:56.425Z"
      },
      {
        "duration": 8,
        "start_time": "2022-08-31T15:46:22.357Z"
      },
      {
        "duration": 17,
        "start_time": "2022-08-31T15:47:39.197Z"
      },
      {
        "duration": 8,
        "start_time": "2022-08-31T15:47:52.780Z"
      },
      {
        "duration": 10,
        "start_time": "2022-08-31T15:48:00.504Z"
      },
      {
        "duration": 8,
        "start_time": "2022-08-31T15:48:07.268Z"
      },
      {
        "duration": 13,
        "start_time": "2022-08-31T15:48:17.506Z"
      },
      {
        "duration": 19,
        "start_time": "2022-08-31T15:48:20.567Z"
      },
      {
        "duration": 7,
        "start_time": "2022-08-31T15:48:51.393Z"
      },
      {
        "duration": 15,
        "start_time": "2022-08-31T15:49:12.255Z"
      },
      {
        "duration": 6,
        "start_time": "2022-08-31T15:49:33.076Z"
      },
      {
        "duration": 3,
        "start_time": "2022-08-31T15:50:27.667Z"
      },
      {
        "duration": 5,
        "start_time": "2022-08-31T15:50:36.422Z"
      },
      {
        "duration": 10,
        "start_time": "2022-08-31T15:51:25.517Z"
      },
      {
        "duration": 6,
        "start_time": "2022-08-31T15:51:41.553Z"
      },
      {
        "duration": 7,
        "start_time": "2022-08-31T15:51:51.336Z"
      },
      {
        "duration": 5,
        "start_time": "2022-08-31T15:52:40.277Z"
      },
      {
        "duration": 6,
        "start_time": "2022-08-31T15:53:12.819Z"
      },
      {
        "duration": 6,
        "start_time": "2022-08-31T15:54:12.190Z"
      },
      {
        "duration": 5,
        "start_time": "2022-08-31T15:54:22.296Z"
      },
      {
        "duration": 6,
        "start_time": "2022-08-31T15:54:38.416Z"
      },
      {
        "duration": 7,
        "start_time": "2022-08-31T15:55:10.389Z"
      },
      {
        "duration": 9,
        "start_time": "2022-08-31T15:55:49.993Z"
      },
      {
        "duration": 7,
        "start_time": "2022-08-31T15:55:58.299Z"
      },
      {
        "duration": 9,
        "start_time": "2022-08-31T15:56:22.542Z"
      },
      {
        "duration": 7,
        "start_time": "2022-08-31T15:58:43.186Z"
      },
      {
        "duration": 28,
        "start_time": "2022-08-31T15:58:57.808Z"
      },
      {
        "duration": 22,
        "start_time": "2022-08-31T15:59:57.049Z"
      },
      {
        "duration": 45,
        "start_time": "2022-08-31T16:01:23.027Z"
      },
      {
        "duration": 22,
        "start_time": "2022-08-31T16:01:41.576Z"
      },
      {
        "duration": 23,
        "start_time": "2022-08-31T16:01:51.496Z"
      },
      {
        "duration": 34,
        "start_time": "2022-08-31T16:01:53.521Z"
      },
      {
        "duration": 23,
        "start_time": "2022-08-31T16:01:58.766Z"
      },
      {
        "duration": 23,
        "start_time": "2022-08-31T16:03:03.983Z"
      },
      {
        "duration": 24,
        "start_time": "2022-08-31T16:03:09.157Z"
      },
      {
        "duration": 24,
        "start_time": "2022-08-31T16:03:15.237Z"
      },
      {
        "duration": 16,
        "start_time": "2022-08-31T16:03:21.576Z"
      },
      {
        "duration": 683,
        "start_time": "2022-09-01T06:58:28.099Z"
      },
      {
        "duration": 8,
        "start_time": "2022-09-01T06:58:28.784Z"
      },
      {
        "duration": 18,
        "start_time": "2022-09-01T06:58:28.794Z"
      },
      {
        "duration": 15,
        "start_time": "2022-09-01T06:58:28.814Z"
      },
      {
        "duration": 23,
        "start_time": "2022-09-01T06:58:28.831Z"
      },
      {
        "duration": 7,
        "start_time": "2022-09-01T06:58:28.855Z"
      },
      {
        "duration": 5,
        "start_time": "2022-09-01T06:58:28.892Z"
      },
      {
        "duration": 8,
        "start_time": "2022-09-01T06:58:28.899Z"
      },
      {
        "duration": 10,
        "start_time": "2022-09-01T06:58:28.909Z"
      },
      {
        "duration": 6,
        "start_time": "2022-09-01T06:58:28.924Z"
      },
      {
        "duration": 8,
        "start_time": "2022-09-01T06:58:28.932Z"
      },
      {
        "duration": 7,
        "start_time": "2022-09-01T06:58:28.942Z"
      },
      {
        "duration": 53,
        "start_time": "2022-09-01T06:58:28.951Z"
      },
      {
        "duration": 7,
        "start_time": "2022-09-01T06:58:29.006Z"
      },
      {
        "duration": 6,
        "start_time": "2022-09-01T06:58:29.015Z"
      },
      {
        "duration": 21,
        "start_time": "2022-09-01T06:58:29.023Z"
      },
      {
        "duration": 7,
        "start_time": "2022-09-01T06:58:29.046Z"
      },
      {
        "duration": 56,
        "start_time": "2022-09-01T06:58:29.054Z"
      },
      {
        "duration": 8,
        "start_time": "2022-09-01T06:58:29.111Z"
      },
      {
        "duration": 26,
        "start_time": "2022-09-01T06:58:29.121Z"
      },
      {
        "duration": 5,
        "start_time": "2022-09-01T06:58:29.149Z"
      },
      {
        "duration": 8,
        "start_time": "2022-09-01T06:58:29.155Z"
      },
      {
        "duration": 35,
        "start_time": "2022-09-01T06:58:29.165Z"
      },
      {
        "duration": 17,
        "start_time": "2022-09-01T06:58:29.201Z"
      },
      {
        "duration": 9,
        "start_time": "2022-09-01T06:58:29.220Z"
      },
      {
        "duration": 20,
        "start_time": "2022-09-01T06:58:29.231Z"
      },
      {
        "duration": 8,
        "start_time": "2022-09-01T06:58:29.253Z"
      },
      {
        "duration": 25,
        "start_time": "2022-09-01T06:58:29.267Z"
      },
      {
        "duration": 74,
        "start_time": "2022-09-01T06:58:29.294Z"
      },
      {
        "duration": 0,
        "start_time": "2022-09-01T06:58:29.370Z"
      },
      {
        "duration": 0,
        "start_time": "2022-09-01T06:58:29.372Z"
      },
      {
        "duration": 0,
        "start_time": "2022-09-01T06:58:29.373Z"
      },
      {
        "duration": 0,
        "start_time": "2022-09-01T06:58:29.374Z"
      },
      {
        "duration": 0,
        "start_time": "2022-09-01T06:58:29.375Z"
      },
      {
        "duration": 0,
        "start_time": "2022-09-01T06:58:29.376Z"
      },
      {
        "duration": 0,
        "start_time": "2022-09-01T06:58:29.378Z"
      },
      {
        "duration": 0,
        "start_time": "2022-09-01T06:58:29.379Z"
      },
      {
        "duration": 0,
        "start_time": "2022-09-01T06:58:29.381Z"
      },
      {
        "duration": 0,
        "start_time": "2022-09-01T06:58:29.381Z"
      },
      {
        "duration": 0,
        "start_time": "2022-09-01T06:58:29.382Z"
      },
      {
        "duration": 0,
        "start_time": "2022-09-01T06:58:29.384Z"
      },
      {
        "duration": 0,
        "start_time": "2022-09-01T06:58:29.385Z"
      },
      {
        "duration": 0,
        "start_time": "2022-09-01T06:58:29.386Z"
      },
      {
        "duration": 0,
        "start_time": "2022-09-01T06:58:29.387Z"
      },
      {
        "duration": 0,
        "start_time": "2022-09-01T06:58:29.388Z"
      },
      {
        "duration": 0,
        "start_time": "2022-09-01T06:58:29.389Z"
      },
      {
        "duration": 0,
        "start_time": "2022-09-01T06:58:29.390Z"
      },
      {
        "duration": 0,
        "start_time": "2022-09-01T06:58:29.391Z"
      },
      {
        "duration": 0,
        "start_time": "2022-09-01T06:58:29.392Z"
      },
      {
        "duration": 0,
        "start_time": "2022-09-01T06:58:29.393Z"
      },
      {
        "duration": 0,
        "start_time": "2022-09-01T06:58:29.395Z"
      },
      {
        "duration": 0,
        "start_time": "2022-09-01T06:58:29.397Z"
      },
      {
        "duration": 0,
        "start_time": "2022-09-01T06:58:29.398Z"
      },
      {
        "duration": 0,
        "start_time": "2022-09-01T06:58:29.399Z"
      },
      {
        "duration": 0,
        "start_time": "2022-09-01T06:58:29.400Z"
      },
      {
        "duration": 0,
        "start_time": "2022-09-01T06:58:29.403Z"
      },
      {
        "duration": 0,
        "start_time": "2022-09-01T06:58:29.404Z"
      },
      {
        "duration": 0,
        "start_time": "2022-09-01T06:58:29.406Z"
      },
      {
        "duration": 0,
        "start_time": "2022-09-01T06:58:29.407Z"
      },
      {
        "duration": 0,
        "start_time": "2022-09-01T06:58:29.408Z"
      },
      {
        "duration": 0,
        "start_time": "2022-09-01T06:58:29.409Z"
      },
      {
        "duration": 0,
        "start_time": "2022-09-01T06:58:29.411Z"
      },
      {
        "duration": 0,
        "start_time": "2022-09-01T06:58:29.412Z"
      },
      {
        "duration": 0,
        "start_time": "2022-09-01T06:58:29.412Z"
      },
      {
        "duration": 0,
        "start_time": "2022-09-01T06:58:29.414Z"
      },
      {
        "duration": 0,
        "start_time": "2022-09-01T06:58:29.415Z"
      },
      {
        "duration": 0,
        "start_time": "2022-09-01T06:58:29.416Z"
      },
      {
        "duration": 0,
        "start_time": "2022-09-01T06:58:29.417Z"
      },
      {
        "duration": 0,
        "start_time": "2022-09-01T06:58:29.418Z"
      },
      {
        "duration": 0,
        "start_time": "2022-09-01T06:58:29.419Z"
      },
      {
        "duration": 0,
        "start_time": "2022-09-01T06:58:29.421Z"
      },
      {
        "duration": 0,
        "start_time": "2022-09-01T06:58:29.421Z"
      },
      {
        "duration": 0,
        "start_time": "2022-09-01T06:58:29.423Z"
      },
      {
        "duration": 0,
        "start_time": "2022-09-01T06:58:29.424Z"
      },
      {
        "duration": 0,
        "start_time": "2022-09-01T06:58:29.425Z"
      },
      {
        "duration": 3,
        "start_time": "2022-09-01T06:58:59.534Z"
      },
      {
        "duration": 2,
        "start_time": "2022-09-01T06:59:01.277Z"
      },
      {
        "duration": 7,
        "start_time": "2022-09-01T06:59:09.914Z"
      },
      {
        "duration": 10,
        "start_time": "2022-09-01T06:59:10.849Z"
      },
      {
        "duration": 10,
        "start_time": "2022-09-01T06:59:11.831Z"
      },
      {
        "duration": 7,
        "start_time": "2022-09-01T06:59:15.619Z"
      },
      {
        "duration": 2,
        "start_time": "2022-09-01T06:59:21.502Z"
      },
      {
        "duration": 3,
        "start_time": "2022-09-01T06:59:26.237Z"
      },
      {
        "duration": 27,
        "start_time": "2022-09-01T06:59:29.819Z"
      },
      {
        "duration": 35,
        "start_time": "2022-09-01T06:59:30.906Z"
      },
      {
        "duration": 36,
        "start_time": "2022-09-01T06:59:31.959Z"
      },
      {
        "duration": 19,
        "start_time": "2022-09-01T06:59:32.990Z"
      },
      {
        "duration": 16,
        "start_time": "2022-09-01T07:20:47.451Z"
      },
      {
        "duration": 10,
        "start_time": "2022-09-01T07:21:19.124Z"
      },
      {
        "duration": 8,
        "start_time": "2022-09-01T07:33:05.740Z"
      },
      {
        "duration": 887,
        "start_time": "2022-09-01T07:35:03.732Z"
      },
      {
        "duration": 3951,
        "start_time": "2022-09-01T07:35:12.500Z"
      },
      {
        "duration": 5224,
        "start_time": "2022-09-01T07:35:33.616Z"
      },
      {
        "duration": 4009,
        "start_time": "2022-09-01T07:36:35.063Z"
      },
      {
        "duration": 3154,
        "start_time": "2022-09-01T07:36:49.266Z"
      },
      {
        "duration": 4,
        "start_time": "2022-09-01T07:39:44.200Z"
      },
      {
        "duration": 9,
        "start_time": "2022-09-01T07:40:17.416Z"
      },
      {
        "duration": 3,
        "start_time": "2022-09-01T07:49:24.979Z"
      },
      {
        "duration": 7,
        "start_time": "2022-09-01T08:28:04.451Z"
      },
      {
        "duration": 96,
        "start_time": "2022-09-01T08:28:14.903Z"
      },
      {
        "duration": 7,
        "start_time": "2022-09-01T08:28:19.679Z"
      },
      {
        "duration": 324,
        "start_time": "2022-09-01T08:28:34.572Z"
      },
      {
        "duration": 76,
        "start_time": "2022-09-01T08:29:54.935Z"
      },
      {
        "duration": 4,
        "start_time": "2022-09-01T08:30:01.063Z"
      },
      {
        "duration": 403,
        "start_time": "2022-09-01T08:30:04.131Z"
      },
      {
        "duration": 4,
        "start_time": "2022-09-01T08:31:11.023Z"
      },
      {
        "duration": 322,
        "start_time": "2022-09-01T08:31:14.073Z"
      },
      {
        "duration": 7,
        "start_time": "2022-09-01T08:32:46.411Z"
      },
      {
        "duration": 8,
        "start_time": "2022-09-01T08:32:55.850Z"
      },
      {
        "duration": 10,
        "start_time": "2022-09-01T08:33:05.440Z"
      },
      {
        "duration": 5,
        "start_time": "2022-09-01T08:33:20.158Z"
      },
      {
        "duration": 451,
        "start_time": "2022-09-01T08:40:26.037Z"
      },
      {
        "duration": 9,
        "start_time": "2022-09-01T08:40:29.374Z"
      },
      {
        "duration": 16,
        "start_time": "2022-09-01T08:40:30.232Z"
      },
      {
        "duration": 16,
        "start_time": "2022-09-01T08:40:32.673Z"
      },
      {
        "duration": 21,
        "start_time": "2022-09-01T08:40:34.806Z"
      },
      {
        "duration": 7,
        "start_time": "2022-09-01T08:40:36.236Z"
      },
      {
        "duration": 4,
        "start_time": "2022-09-01T08:40:37.469Z"
      },
      {
        "duration": 5,
        "start_time": "2022-09-01T08:40:40.570Z"
      },
      {
        "duration": 7,
        "start_time": "2022-09-01T08:40:43.138Z"
      },
      {
        "duration": 6,
        "start_time": "2022-09-01T08:40:44.554Z"
      },
      {
        "duration": 6,
        "start_time": "2022-09-01T08:40:46.355Z"
      },
      {
        "duration": 5,
        "start_time": "2022-09-01T08:40:48.281Z"
      },
      {
        "duration": 5,
        "start_time": "2022-09-01T08:40:49.231Z"
      },
      {
        "duration": 6,
        "start_time": "2022-09-01T08:40:50.333Z"
      },
      {
        "duration": 21,
        "start_time": "2022-09-01T08:40:51.510Z"
      },
      {
        "duration": 8,
        "start_time": "2022-09-01T08:40:55.060Z"
      },
      {
        "duration": 19,
        "start_time": "2022-09-01T08:40:57.493Z"
      },
      {
        "duration": 787,
        "start_time": "2022-09-01T08:40:59.257Z"
      },
      {
        "duration": 3289,
        "start_time": "2022-09-01T08:41:01.977Z"
      },
      {
        "duration": 6,
        "start_time": "2022-09-01T08:41:08.360Z"
      },
      {
        "duration": 25,
        "start_time": "2022-09-01T08:41:11.116Z"
      },
      {
        "duration": 4,
        "start_time": "2022-09-01T08:41:15.127Z"
      },
      {
        "duration": 5,
        "start_time": "2022-09-01T08:41:17.543Z"
      },
      {
        "duration": 14,
        "start_time": "2022-09-01T08:41:18.467Z"
      },
      {
        "duration": 8,
        "start_time": "2022-09-01T08:41:20.327Z"
      },
      {
        "duration": 6,
        "start_time": "2022-09-01T08:41:27.821Z"
      },
      {
        "duration": 10,
        "start_time": "2022-09-01T08:41:31.045Z"
      },
      {
        "duration": 8,
        "start_time": "2022-09-01T08:41:32.563Z"
      },
      {
        "duration": 6,
        "start_time": "2022-09-01T08:41:43.310Z"
      },
      {
        "duration": 6,
        "start_time": "2022-09-01T08:41:47.318Z"
      },
      {
        "duration": 3,
        "start_time": "2022-09-01T08:41:52.420Z"
      },
      {
        "duration": 2,
        "start_time": "2022-09-01T08:41:53.190Z"
      },
      {
        "duration": 6,
        "start_time": "2022-09-01T08:41:56.142Z"
      },
      {
        "duration": 10,
        "start_time": "2022-09-01T08:41:57.705Z"
      },
      {
        "duration": 8,
        "start_time": "2022-09-01T08:41:58.682Z"
      },
      {
        "duration": 8,
        "start_time": "2022-09-01T08:42:00.110Z"
      },
      {
        "duration": 2,
        "start_time": "2022-09-01T08:42:02.136Z"
      },
      {
        "duration": 2,
        "start_time": "2022-09-01T08:42:03.562Z"
      },
      {
        "duration": 29,
        "start_time": "2022-09-01T08:42:06.554Z"
      },
      {
        "duration": 35,
        "start_time": "2022-09-01T08:42:47.105Z"
      },
      {
        "duration": 27,
        "start_time": "2022-09-01T08:42:50.484Z"
      },
      {
        "duration": 27,
        "start_time": "2022-09-01T08:42:51.815Z"
      },
      {
        "duration": 5,
        "start_time": "2022-09-01T09:15:06.128Z"
      },
      {
        "duration": 11,
        "start_time": "2022-09-01T09:15:12.467Z"
      },
      {
        "duration": 10,
        "start_time": "2022-09-01T09:15:23.703Z"
      },
      {
        "duration": 11,
        "start_time": "2022-09-01T09:15:47.006Z"
      },
      {
        "duration": 6,
        "start_time": "2022-09-01T09:15:53.783Z"
      },
      {
        "duration": 20,
        "start_time": "2022-09-01T09:15:57.584Z"
      },
      {
        "duration": 70,
        "start_time": "2022-09-01T09:17:08.268Z"
      },
      {
        "duration": 4,
        "start_time": "2022-09-01T09:17:11.542Z"
      },
      {
        "duration": 25,
        "start_time": "2022-09-01T09:17:53.800Z"
      },
      {
        "duration": 19,
        "start_time": "2022-09-01T09:18:11.126Z"
      },
      {
        "duration": 430,
        "start_time": "2022-09-01T09:45:47.837Z"
      },
      {
        "duration": 8,
        "start_time": "2022-09-01T09:45:50.147Z"
      },
      {
        "duration": 17,
        "start_time": "2022-09-01T09:45:51.281Z"
      },
      {
        "duration": 17,
        "start_time": "2022-09-01T09:45:53.184Z"
      },
      {
        "duration": 4,
        "start_time": "2022-09-01T09:46:07.871Z"
      },
      {
        "duration": 23,
        "start_time": "2022-09-01T09:46:31.141Z"
      },
      {
        "duration": 7,
        "start_time": "2022-09-01T09:46:33.911Z"
      },
      {
        "duration": 4,
        "start_time": "2022-09-01T09:46:36.040Z"
      },
      {
        "duration": 5,
        "start_time": "2022-09-01T09:46:37.293Z"
      },
      {
        "duration": 7,
        "start_time": "2022-09-01T09:46:38.836Z"
      },
      {
        "duration": 5,
        "start_time": "2022-09-01T09:46:40.472Z"
      },
      {
        "duration": 6,
        "start_time": "2022-09-01T09:46:41.775Z"
      },
      {
        "duration": 5,
        "start_time": "2022-09-01T09:46:43.392Z"
      },
      {
        "duration": 16,
        "start_time": "2022-09-01T09:46:45.784Z"
      },
      {
        "duration": 5,
        "start_time": "2022-09-01T09:46:46.926Z"
      },
      {
        "duration": 5,
        "start_time": "2022-09-01T09:46:48.129Z"
      },
      {
        "duration": 24,
        "start_time": "2022-09-01T09:46:51.837Z"
      },
      {
        "duration": 8,
        "start_time": "2022-09-01T09:46:59.645Z"
      },
      {
        "duration": 21,
        "start_time": "2022-09-01T09:47:08.628Z"
      },
      {
        "duration": 6,
        "start_time": "2022-09-01T09:47:13.675Z"
      },
      {
        "duration": 33,
        "start_time": "2022-09-01T09:47:19.276Z"
      },
      {
        "duration": 5,
        "start_time": "2022-09-01T09:47:22.891Z"
      },
      {
        "duration": 5,
        "start_time": "2022-09-01T09:47:24.052Z"
      },
      {
        "duration": 14,
        "start_time": "2022-09-01T09:47:25.378Z"
      },
      {
        "duration": 8,
        "start_time": "2022-09-01T09:47:30.941Z"
      },
      {
        "duration": 5,
        "start_time": "2022-09-01T09:47:33.802Z"
      },
      {
        "duration": 10,
        "start_time": "2022-09-01T09:47:37.340Z"
      },
      {
        "duration": 8,
        "start_time": "2022-09-01T09:47:39.111Z"
      },
      {
        "duration": 8,
        "start_time": "2022-09-01T09:47:41.887Z"
      },
      {
        "duration": 7,
        "start_time": "2022-09-01T09:47:49.089Z"
      },
      {
        "duration": 10,
        "start_time": "2022-09-01T09:47:51.052Z"
      },
      {
        "duration": 8,
        "start_time": "2022-09-01T09:47:52.072Z"
      },
      {
        "duration": 8,
        "start_time": "2022-09-01T09:47:53.473Z"
      },
      {
        "duration": 28,
        "start_time": "2022-09-01T09:47:58.059Z"
      },
      {
        "duration": 35,
        "start_time": "2022-09-01T09:48:13.220Z"
      },
      {
        "duration": 28,
        "start_time": "2022-09-01T09:48:14.154Z"
      },
      {
        "duration": 19,
        "start_time": "2022-09-01T09:48:16.173Z"
      },
      {
        "duration": 66,
        "start_time": "2022-09-01T09:48:29.272Z"
      },
      {
        "duration": 4,
        "start_time": "2022-09-01T09:48:34.490Z"
      },
      {
        "duration": 6,
        "start_time": "2022-09-01T09:49:55.418Z"
      },
      {
        "duration": 22,
        "start_time": "2022-09-01T09:49:59.434Z"
      },
      {
        "duration": 12,
        "start_time": "2022-09-01T09:51:50.490Z"
      },
      {
        "duration": 10,
        "start_time": "2022-09-01T09:52:11.087Z"
      },
      {
        "duration": 10,
        "start_time": "2022-09-01T09:55:13.050Z"
      },
      {
        "duration": 9,
        "start_time": "2022-09-01T10:26:30.677Z"
      },
      {
        "duration": 22,
        "start_time": "2022-09-01T10:26:52.094Z"
      },
      {
        "duration": 8,
        "start_time": "2022-09-01T10:28:31.954Z"
      },
      {
        "duration": 6,
        "start_time": "2022-09-01T10:28:40.844Z"
      },
      {
        "duration": 5,
        "start_time": "2022-09-01T10:28:49.819Z"
      },
      {
        "duration": 5,
        "start_time": "2022-09-01T10:28:56.101Z"
      },
      {
        "duration": 4,
        "start_time": "2022-09-01T10:29:56.590Z"
      },
      {
        "duration": 4,
        "start_time": "2022-09-01T10:30:02.774Z"
      },
      {
        "duration": 14,
        "start_time": "2022-09-01T10:30:27.403Z"
      },
      {
        "duration": 6,
        "start_time": "2022-09-01T10:30:59.140Z"
      },
      {
        "duration": 4,
        "start_time": "2022-09-01T10:31:28.574Z"
      },
      {
        "duration": 6,
        "start_time": "2022-09-01T10:31:30.119Z"
      },
      {
        "duration": 11,
        "start_time": "2022-09-01T10:33:32.619Z"
      },
      {
        "duration": 7,
        "start_time": "2022-09-01T10:35:14.912Z"
      },
      {
        "duration": 4,
        "start_time": "2022-09-01T10:35:36.160Z"
      },
      {
        "duration": 4,
        "start_time": "2022-09-01T10:36:49.693Z"
      },
      {
        "duration": 10,
        "start_time": "2022-09-01T10:36:52.876Z"
      },
      {
        "duration": 4,
        "start_time": "2022-09-01T10:37:18.442Z"
      },
      {
        "duration": 10,
        "start_time": "2022-09-01T10:37:20.107Z"
      },
      {
        "duration": 493,
        "start_time": "2022-09-01T10:43:02.395Z"
      },
      {
        "duration": 10,
        "start_time": "2022-09-01T10:43:03.777Z"
      },
      {
        "duration": 17,
        "start_time": "2022-09-01T10:43:08.017Z"
      },
      {
        "duration": 26,
        "start_time": "2022-09-01T10:43:10.155Z"
      },
      {
        "duration": 21,
        "start_time": "2022-09-01T10:43:11.442Z"
      },
      {
        "duration": 7,
        "start_time": "2022-09-01T10:43:13.081Z"
      },
      {
        "duration": 5,
        "start_time": "2022-09-01T10:43:15.455Z"
      },
      {
        "duration": 5,
        "start_time": "2022-09-01T10:43:16.220Z"
      },
      {
        "duration": 7,
        "start_time": "2022-09-01T10:43:17.728Z"
      },
      {
        "duration": 5,
        "start_time": "2022-09-01T10:43:19.211Z"
      },
      {
        "duration": 5,
        "start_time": "2022-09-01T10:43:20.820Z"
      },
      {
        "duration": 5,
        "start_time": "2022-09-01T10:43:23.085Z"
      },
      {
        "duration": 6,
        "start_time": "2022-09-01T10:43:25.013Z"
      },
      {
        "duration": 6,
        "start_time": "2022-09-01T10:43:26.645Z"
      },
      {
        "duration": 72,
        "start_time": "2022-09-01T10:43:27.924Z"
      },
      {
        "duration": 7,
        "start_time": "2022-09-01T10:43:28.928Z"
      },
      {
        "duration": 19,
        "start_time": "2022-09-01T10:43:29.956Z"
      },
      {
        "duration": 6,
        "start_time": "2022-09-01T10:43:33.717Z"
      },
      {
        "duration": 26,
        "start_time": "2022-09-01T10:43:34.989Z"
      },
      {
        "duration": 5,
        "start_time": "2022-09-01T10:43:38.259Z"
      },
      {
        "duration": 6,
        "start_time": "2022-09-01T10:43:39.325Z"
      },
      {
        "duration": 13,
        "start_time": "2022-09-01T10:43:40.281Z"
      },
      {
        "duration": 8,
        "start_time": "2022-09-01T10:43:41.422Z"
      },
      {
        "duration": 6,
        "start_time": "2022-09-01T10:43:44.279Z"
      },
      {
        "duration": 14,
        "start_time": "2022-09-01T10:43:45.378Z"
      },
      {
        "duration": 8,
        "start_time": "2022-09-01T10:43:46.944Z"
      },
      {
        "duration": 7,
        "start_time": "2022-09-01T10:43:48.225Z"
      },
      {
        "duration": 7,
        "start_time": "2022-09-01T10:43:50.486Z"
      },
      {
        "duration": 10,
        "start_time": "2022-09-01T10:43:51.824Z"
      },
      {
        "duration": 11,
        "start_time": "2022-09-01T10:43:53.596Z"
      },
      {
        "duration": 29,
        "start_time": "2022-09-01T10:43:57.464Z"
      },
      {
        "duration": 39,
        "start_time": "2022-09-01T10:43:58.800Z"
      },
      {
        "duration": 27,
        "start_time": "2022-09-01T10:43:59.709Z"
      },
      {
        "duration": 19,
        "start_time": "2022-09-01T10:44:00.593Z"
      },
      {
        "duration": 13,
        "start_time": "2022-09-01T10:44:48.875Z"
      },
      {
        "duration": 5,
        "start_time": "2022-09-01T10:45:11.107Z"
      },
      {
        "duration": 72,
        "start_time": "2022-09-01T10:45:12.778Z"
      },
      {
        "duration": 10,
        "start_time": "2022-09-01T10:45:58.451Z"
      },
      {
        "duration": 5,
        "start_time": "2022-09-01T10:46:09.626Z"
      },
      {
        "duration": 15,
        "start_time": "2022-09-01T10:46:11.845Z"
      },
      {
        "duration": 5,
        "start_time": "2022-09-01T10:46:46.325Z"
      },
      {
        "duration": 5,
        "start_time": "2022-09-01T10:46:49.413Z"
      },
      {
        "duration": 5,
        "start_time": "2022-09-01T10:47:42.420Z"
      },
      {
        "duration": 9,
        "start_time": "2022-09-01T10:47:47.695Z"
      },
      {
        "duration": 4,
        "start_time": "2022-09-01T10:47:59.600Z"
      },
      {
        "duration": 5,
        "start_time": "2022-09-01T10:49:14.131Z"
      },
      {
        "duration": 5,
        "start_time": "2022-09-01T10:49:17.012Z"
      },
      {
        "duration": 4,
        "start_time": "2022-09-01T10:49:20.494Z"
      },
      {
        "duration": 5,
        "start_time": "2022-09-01T10:50:20.520Z"
      },
      {
        "duration": 4,
        "start_time": "2022-09-01T10:50:22.441Z"
      },
      {
        "duration": 4,
        "start_time": "2022-09-01T10:50:48.598Z"
      },
      {
        "duration": 4,
        "start_time": "2022-09-01T10:51:06.053Z"
      },
      {
        "duration": 1245,
        "start_time": "2022-09-01T10:51:36.646Z"
      },
      {
        "duration": 12,
        "start_time": "2022-09-01T10:52:40.747Z"
      },
      {
        "duration": 18,
        "start_time": "2022-09-01T10:52:46.366Z"
      },
      {
        "duration": 499,
        "start_time": "2022-09-01T14:01:07.284Z"
      },
      {
        "duration": 12,
        "start_time": "2022-09-01T14:01:09.260Z"
      },
      {
        "duration": 17,
        "start_time": "2022-09-01T14:01:10.081Z"
      },
      {
        "duration": 16,
        "start_time": "2022-09-01T14:01:11.204Z"
      },
      {
        "duration": 20,
        "start_time": "2022-09-01T14:01:12.517Z"
      },
      {
        "duration": 8,
        "start_time": "2022-09-01T14:01:13.743Z"
      },
      {
        "duration": 5,
        "start_time": "2022-09-01T14:01:15.042Z"
      },
      {
        "duration": 6,
        "start_time": "2022-09-01T14:01:15.963Z"
      },
      {
        "duration": 7,
        "start_time": "2022-09-01T14:01:20.642Z"
      },
      {
        "duration": 6,
        "start_time": "2022-09-01T14:01:23.326Z"
      },
      {
        "duration": 6,
        "start_time": "2022-09-01T14:01:24.743Z"
      },
      {
        "duration": 7,
        "start_time": "2022-09-01T14:01:26.812Z"
      },
      {
        "duration": 6,
        "start_time": "2022-09-01T14:01:28.333Z"
      },
      {
        "duration": 8,
        "start_time": "2022-09-01T14:03:20.456Z"
      },
      {
        "duration": 6,
        "start_time": "2022-09-01T14:03:22.170Z"
      },
      {
        "duration": 11,
        "start_time": "2022-09-01T14:03:32.384Z"
      },
      {
        "duration": 4,
        "start_time": "2022-09-01T14:03:45.900Z"
      },
      {
        "duration": 34,
        "start_time": "2022-09-01T14:03:53.863Z"
      },
      {
        "duration": 5,
        "start_time": "2022-09-01T14:03:55.961Z"
      },
      {
        "duration": 3,
        "start_time": "2022-09-01T14:03:59.613Z"
      },
      {
        "duration": 18,
        "start_time": "2022-09-01T14:04:01.914Z"
      },
      {
        "duration": 8,
        "start_time": "2022-09-01T14:04:06.945Z"
      },
      {
        "duration": 5,
        "start_time": "2022-09-01T14:04:09.885Z"
      },
      {
        "duration": 5,
        "start_time": "2022-09-01T14:05:44.099Z"
      },
      {
        "duration": 6,
        "start_time": "2022-09-01T14:05:53.426Z"
      },
      {
        "duration": 11,
        "start_time": "2022-09-01T14:05:54.312Z"
      },
      {
        "duration": 8,
        "start_time": "2022-09-01T14:06:00.676Z"
      },
      {
        "duration": 8,
        "start_time": "2022-09-01T14:06:04.160Z"
      },
      {
        "duration": 54,
        "start_time": "2022-09-01T14:07:18.698Z"
      },
      {
        "duration": 602,
        "start_time": "2022-09-01T14:07:34.342Z"
      },
      {
        "duration": 9,
        "start_time": "2022-09-01T14:07:36.018Z"
      },
      {
        "duration": 17,
        "start_time": "2022-09-01T14:07:36.924Z"
      },
      {
        "duration": 16,
        "start_time": "2022-09-01T14:07:38.583Z"
      },
      {
        "duration": 21,
        "start_time": "2022-09-01T14:07:40.613Z"
      },
      {
        "duration": 7,
        "start_time": "2022-09-01T14:07:42.501Z"
      },
      {
        "duration": 4,
        "start_time": "2022-09-01T14:07:44.311Z"
      },
      {
        "duration": 5,
        "start_time": "2022-09-01T14:07:45.309Z"
      },
      {
        "duration": 9,
        "start_time": "2022-09-01T14:07:47.160Z"
      },
      {
        "duration": 6,
        "start_time": "2022-09-01T14:07:48.252Z"
      },
      {
        "duration": 6,
        "start_time": "2022-09-01T14:07:49.536Z"
      },
      {
        "duration": 6,
        "start_time": "2022-09-01T14:07:50.968Z"
      },
      {
        "duration": 5,
        "start_time": "2022-09-01T14:07:52.382Z"
      },
      {
        "duration": 6,
        "start_time": "2022-09-01T14:07:53.349Z"
      },
      {
        "duration": 9,
        "start_time": "2022-09-01T14:07:56.261Z"
      },
      {
        "duration": 9,
        "start_time": "2022-09-01T14:07:58.499Z"
      },
      {
        "duration": 13,
        "start_time": "2022-09-01T14:08:00.431Z"
      },
      {
        "duration": 34,
        "start_time": "2022-09-01T14:08:03.543Z"
      },
      {
        "duration": 7,
        "start_time": "2022-09-01T14:08:06.880Z"
      },
      {
        "duration": 4,
        "start_time": "2022-09-01T14:08:08.038Z"
      },
      {
        "duration": 20,
        "start_time": "2022-09-01T14:08:16.123Z"
      },
      {
        "duration": 7,
        "start_time": "2022-09-01T14:08:18.169Z"
      },
      {
        "duration": 5,
        "start_time": "2022-09-01T14:08:21.570Z"
      },
      {
        "duration": 5,
        "start_time": "2022-09-01T14:08:23.446Z"
      },
      {
        "duration": 7,
        "start_time": "2022-09-01T14:08:24.679Z"
      },
      {
        "duration": 7,
        "start_time": "2022-09-01T14:08:28.882Z"
      },
      {
        "duration": 7,
        "start_time": "2022-09-01T14:08:44.155Z"
      },
      {
        "duration": 4,
        "start_time": "2022-09-01T14:08:50.924Z"
      },
      {
        "duration": 7,
        "start_time": "2022-09-01T14:08:53.754Z"
      },
      {
        "duration": 9,
        "start_time": "2022-09-01T14:08:57.580Z"
      },
      {
        "duration": 29,
        "start_time": "2022-09-01T14:09:02.184Z"
      },
      {
        "duration": 27,
        "start_time": "2022-09-01T14:09:03.397Z"
      },
      {
        "duration": 16,
        "start_time": "2022-09-01T14:09:07.800Z"
      },
      {
        "duration": 16,
        "start_time": "2022-09-01T14:09:09.295Z"
      },
      {
        "duration": 11,
        "start_time": "2022-09-01T14:09:16.924Z"
      },
      {
        "duration": 5,
        "start_time": "2022-09-01T14:09:19.011Z"
      },
      {
        "duration": 5,
        "start_time": "2022-09-01T14:18:12.580Z"
      },
      {
        "duration": 5,
        "start_time": "2022-09-01T14:18:15.963Z"
      },
      {
        "duration": 19,
        "start_time": "2022-09-01T14:18:17.387Z"
      },
      {
        "duration": 23,
        "start_time": "2022-09-01T14:18:19.257Z"
      },
      {
        "duration": 71,
        "start_time": "2022-09-01T14:19:13.472Z"
      },
      {
        "duration": 38,
        "start_time": "2022-09-01T14:19:38.902Z"
      },
      {
        "duration": 6,
        "start_time": "2022-09-01T14:21:25.167Z"
      },
      {
        "duration": 34,
        "start_time": "2022-09-01T14:21:51.997Z"
      },
      {
        "duration": 5,
        "start_time": "2022-09-01T14:22:41.696Z"
      },
      {
        "duration": 7,
        "start_time": "2022-09-01T14:22:52.103Z"
      },
      {
        "duration": 4,
        "start_time": "2022-09-01T14:40:11.555Z"
      },
      {
        "duration": 4,
        "start_time": "2022-09-01T14:40:17.770Z"
      },
      {
        "duration": 5,
        "start_time": "2022-09-01T14:40:26.137Z"
      },
      {
        "duration": 4,
        "start_time": "2022-09-01T14:49:18.232Z"
      },
      {
        "duration": 9,
        "start_time": "2022-09-01T14:49:45.092Z"
      },
      {
        "duration": 3,
        "start_time": "2022-09-01T14:54:56.358Z"
      },
      {
        "duration": 2,
        "start_time": "2022-09-01T14:55:02.321Z"
      },
      {
        "duration": 9,
        "start_time": "2022-09-01T14:55:31.723Z"
      },
      {
        "duration": 12,
        "start_time": "2022-09-01T14:55:48.616Z"
      },
      {
        "duration": 3,
        "start_time": "2022-09-01T14:56:59.082Z"
      },
      {
        "duration": 11,
        "start_time": "2022-09-01T14:57:02.912Z"
      },
      {
        "duration": 5,
        "start_time": "2022-09-01T14:57:30.165Z"
      },
      {
        "duration": 20,
        "start_time": "2022-09-01T14:58:41.270Z"
      },
      {
        "duration": 11,
        "start_time": "2022-09-01T14:58:56.834Z"
      },
      {
        "duration": 21,
        "start_time": "2022-09-01T14:59:02.418Z"
      },
      {
        "duration": 4,
        "start_time": "2022-09-01T14:59:13.722Z"
      },
      {
        "duration": 10,
        "start_time": "2022-09-01T14:59:14.160Z"
      },
      {
        "duration": 8,
        "start_time": "2022-09-01T15:01:39.911Z"
      },
      {
        "duration": 4,
        "start_time": "2022-09-01T15:01:43.665Z"
      },
      {
        "duration": 7,
        "start_time": "2022-09-01T15:02:30.438Z"
      },
      {
        "duration": 4,
        "start_time": "2022-09-01T15:02:53.547Z"
      },
      {
        "duration": 16,
        "start_time": "2022-09-01T15:04:22.039Z"
      },
      {
        "duration": 12,
        "start_time": "2022-09-01T15:04:34.400Z"
      },
      {
        "duration": 13,
        "start_time": "2022-09-01T15:04:42.415Z"
      },
      {
        "duration": 438,
        "start_time": "2022-09-01T15:41:15.428Z"
      },
      {
        "duration": 8,
        "start_time": "2022-09-01T15:41:21.479Z"
      },
      {
        "duration": 16,
        "start_time": "2022-09-01T15:41:22.280Z"
      },
      {
        "duration": 15,
        "start_time": "2022-09-01T15:41:36.674Z"
      },
      {
        "duration": 21,
        "start_time": "2022-09-01T15:41:39.235Z"
      },
      {
        "duration": 8,
        "start_time": "2022-09-01T15:41:41.160Z"
      },
      {
        "duration": 4,
        "start_time": "2022-09-01T15:41:42.879Z"
      },
      {
        "duration": 7,
        "start_time": "2022-09-01T15:41:43.797Z"
      },
      {
        "duration": 7,
        "start_time": "2022-09-01T15:41:46.163Z"
      },
      {
        "duration": 5,
        "start_time": "2022-09-01T15:41:47.931Z"
      },
      {
        "duration": 7,
        "start_time": "2022-09-01T15:41:49.151Z"
      },
      {
        "duration": 6,
        "start_time": "2022-09-01T15:41:50.884Z"
      },
      {
        "duration": 17,
        "start_time": "2022-09-01T15:41:53.699Z"
      },
      {
        "duration": 5,
        "start_time": "2022-09-01T15:41:55.188Z"
      },
      {
        "duration": 6,
        "start_time": "2022-09-01T15:41:56.456Z"
      },
      {
        "duration": 7,
        "start_time": "2022-09-01T15:41:57.620Z"
      },
      {
        "duration": 6,
        "start_time": "2022-09-01T15:41:58.616Z"
      },
      {
        "duration": 13,
        "start_time": "2022-09-01T15:42:00.234Z"
      },
      {
        "duration": 30,
        "start_time": "2022-09-01T15:42:02.318Z"
      },
      {
        "duration": 4,
        "start_time": "2022-09-01T15:42:04.276Z"
      },
      {
        "duration": 32,
        "start_time": "2022-09-01T15:42:04.991Z"
      },
      {
        "duration": 5,
        "start_time": "2022-09-01T15:42:11.578Z"
      },
      {
        "duration": 3,
        "start_time": "2022-09-01T15:42:13.232Z"
      },
      {
        "duration": 13,
        "start_time": "2022-09-01T15:42:14.532Z"
      },
      {
        "duration": 6,
        "start_time": "2022-09-01T15:42:16.550Z"
      },
      {
        "duration": 4,
        "start_time": "2022-09-01T15:42:18.901Z"
      },
      {
        "duration": 5,
        "start_time": "2022-09-01T15:42:20.046Z"
      },
      {
        "duration": 8,
        "start_time": "2022-09-01T15:42:21.388Z"
      },
      {
        "duration": 7,
        "start_time": "2022-09-01T15:42:22.990Z"
      },
      {
        "duration": 7,
        "start_time": "2022-09-01T15:42:25.459Z"
      },
      {
        "duration": 6,
        "start_time": "2022-09-01T15:42:27.397Z"
      },
      {
        "duration": 8,
        "start_time": "2022-09-01T15:42:28.435Z"
      },
      {
        "duration": 7,
        "start_time": "2022-09-01T15:42:29.836Z"
      },
      {
        "duration": 20,
        "start_time": "2022-09-01T15:42:33.937Z"
      },
      {
        "duration": 532,
        "start_time": "2022-09-01T15:43:01.181Z"
      },
      {
        "duration": 8,
        "start_time": "2022-09-01T15:43:02.883Z"
      },
      {
        "duration": 18,
        "start_time": "2022-09-01T15:43:03.689Z"
      },
      {
        "duration": 17,
        "start_time": "2022-09-01T15:43:05.760Z"
      },
      {
        "duration": 22,
        "start_time": "2022-09-01T15:43:09.171Z"
      },
      {
        "duration": 7,
        "start_time": "2022-09-01T15:43:11.202Z"
      },
      {
        "duration": 5,
        "start_time": "2022-09-01T15:43:12.784Z"
      },
      {
        "duration": 6,
        "start_time": "2022-09-01T15:43:13.272Z"
      },
      {
        "duration": 7,
        "start_time": "2022-09-01T15:43:14.714Z"
      },
      {
        "duration": 5,
        "start_time": "2022-09-01T15:43:15.638Z"
      },
      {
        "duration": 5,
        "start_time": "2022-09-01T15:43:16.478Z"
      },
      {
        "duration": 5,
        "start_time": "2022-09-01T15:43:17.810Z"
      },
      {
        "duration": 16,
        "start_time": "2022-09-01T15:43:18.891Z"
      },
      {
        "duration": 6,
        "start_time": "2022-09-01T15:43:19.556Z"
      },
      {
        "duration": 5,
        "start_time": "2022-09-01T15:43:20.692Z"
      },
      {
        "duration": 8,
        "start_time": "2022-09-01T15:43:22.043Z"
      },
      {
        "duration": 6,
        "start_time": "2022-09-01T15:43:23.117Z"
      },
      {
        "duration": 13,
        "start_time": "2022-09-01T15:43:24.306Z"
      },
      {
        "duration": 30,
        "start_time": "2022-09-01T15:43:25.795Z"
      },
      {
        "duration": 478,
        "start_time": "2022-09-01T15:43:38.789Z"
      },
      {
        "duration": 8,
        "start_time": "2022-09-01T15:43:40.409Z"
      },
      {
        "duration": 16,
        "start_time": "2022-09-01T15:43:41.149Z"
      },
      {
        "duration": 16,
        "start_time": "2022-09-01T15:43:42.319Z"
      },
      {
        "duration": 22,
        "start_time": "2022-09-01T15:43:43.404Z"
      },
      {
        "duration": 7,
        "start_time": "2022-09-01T15:43:44.321Z"
      },
      {
        "duration": 4,
        "start_time": "2022-09-01T15:43:45.143Z"
      },
      {
        "duration": 6,
        "start_time": "2022-09-01T15:43:45.985Z"
      },
      {
        "duration": 7,
        "start_time": "2022-09-01T15:43:47.811Z"
      },
      {
        "duration": 6,
        "start_time": "2022-09-01T15:43:49.037Z"
      },
      {
        "duration": 6,
        "start_time": "2022-09-01T15:43:50.631Z"
      },
      {
        "duration": 5,
        "start_time": "2022-09-01T15:43:52.240Z"
      },
      {
        "duration": 18,
        "start_time": "2022-09-01T15:43:52.992Z"
      },
      {
        "duration": 7,
        "start_time": "2022-09-01T15:43:54.078Z"
      },
      {
        "duration": 7,
        "start_time": "2022-09-01T15:43:55.402Z"
      },
      {
        "duration": 7,
        "start_time": "2022-09-01T15:43:56.646Z"
      },
      {
        "duration": 20,
        "start_time": "2022-09-01T15:43:57.488Z"
      },
      {
        "duration": 14,
        "start_time": "2022-09-01T15:43:58.812Z"
      },
      {
        "duration": 4,
        "start_time": "2022-09-01T15:44:03.477Z"
      },
      {
        "duration": 29,
        "start_time": "2022-09-01T15:44:04.307Z"
      },
      {
        "duration": 6,
        "start_time": "2022-09-01T15:44:07.101Z"
      },
      {
        "duration": 5,
        "start_time": "2022-09-01T15:44:08.698Z"
      },
      {
        "duration": 16,
        "start_time": "2022-09-01T15:44:09.998Z"
      },
      {
        "duration": 8,
        "start_time": "2022-09-01T15:44:11.909Z"
      },
      {
        "duration": 5,
        "start_time": "2022-09-01T15:44:14.286Z"
      },
      {
        "duration": 5,
        "start_time": "2022-09-01T15:44:15.789Z"
      },
      {
        "duration": 8,
        "start_time": "2022-09-01T15:44:17.168Z"
      },
      {
        "duration": 7,
        "start_time": "2022-09-01T15:44:19.119Z"
      },
      {
        "duration": 7,
        "start_time": "2022-09-01T15:44:23.476Z"
      },
      {
        "duration": 5,
        "start_time": "2022-09-01T15:44:25.455Z"
      },
      {
        "duration": 7,
        "start_time": "2022-09-01T15:44:27.048Z"
      },
      {
        "duration": 7,
        "start_time": "2022-09-01T15:44:31.013Z"
      },
      {
        "duration": 20,
        "start_time": "2022-09-01T15:44:35.026Z"
      },
      {
        "duration": 25,
        "start_time": "2022-09-01T15:44:37.351Z"
      },
      {
        "duration": 18,
        "start_time": "2022-09-01T15:44:39.137Z"
      },
      {
        "duration": 17,
        "start_time": "2022-09-01T15:44:40.415Z"
      },
      {
        "duration": 11,
        "start_time": "2022-09-01T15:45:11.633Z"
      },
      {
        "duration": 3,
        "start_time": "2022-09-01T15:45:13.677Z"
      },
      {
        "duration": 11,
        "start_time": "2022-09-01T15:45:14.842Z"
      },
      {
        "duration": 19,
        "start_time": "2022-09-01T15:45:15.789Z"
      },
      {
        "duration": 24,
        "start_time": "2022-09-01T15:45:18.680Z"
      },
      {
        "duration": 7,
        "start_time": "2022-09-01T15:45:22.059Z"
      },
      {
        "duration": 5,
        "start_time": "2022-09-01T15:45:22.862Z"
      },
      {
        "duration": 3,
        "start_time": "2022-09-01T15:45:25.411Z"
      },
      {
        "duration": 20,
        "start_time": "2022-09-01T15:45:27.277Z"
      },
      {
        "duration": 21,
        "start_time": "2022-09-01T15:46:01.507Z"
      },
      {
        "duration": 21,
        "start_time": "2022-09-01T15:46:20.972Z"
      },
      {
        "duration": 4,
        "start_time": "2022-09-01T15:46:25.450Z"
      },
      {
        "duration": 13,
        "start_time": "2022-09-01T15:46:27.362Z"
      },
      {
        "duration": 14,
        "start_time": "2022-09-01T15:46:30.533Z"
      },
      {
        "duration": 4,
        "start_time": "2022-09-01T15:50:36.691Z"
      },
      {
        "duration": 6,
        "start_time": "2022-09-01T15:50:43.891Z"
      },
      {
        "duration": 16,
        "start_time": "2022-09-01T15:51:27.678Z"
      },
      {
        "duration": 11,
        "start_time": "2022-09-01T15:52:37.659Z"
      },
      {
        "duration": 19,
        "start_time": "2022-09-01T15:52:51.849Z"
      },
      {
        "duration": 7,
        "start_time": "2022-09-01T15:54:56.232Z"
      },
      {
        "duration": 12,
        "start_time": "2022-09-01T15:55:05.112Z"
      },
      {
        "duration": 6,
        "start_time": "2022-09-01T15:56:11.182Z"
      },
      {
        "duration": 12,
        "start_time": "2022-09-01T15:56:13.400Z"
      },
      {
        "duration": 431,
        "start_time": "2022-09-01T15:56:33.345Z"
      },
      {
        "duration": 9,
        "start_time": "2022-09-01T15:56:35.222Z"
      },
      {
        "duration": 16,
        "start_time": "2022-09-01T15:56:36.428Z"
      },
      {
        "duration": 17,
        "start_time": "2022-09-01T15:56:37.880Z"
      },
      {
        "duration": 23,
        "start_time": "2022-09-01T15:56:39.378Z"
      },
      {
        "duration": 6,
        "start_time": "2022-09-01T15:56:40.941Z"
      },
      {
        "duration": 4,
        "start_time": "2022-09-01T15:56:42.606Z"
      },
      {
        "duration": 6,
        "start_time": "2022-09-01T15:56:43.395Z"
      },
      {
        "duration": 8,
        "start_time": "2022-09-01T15:56:44.595Z"
      },
      {
        "duration": 6,
        "start_time": "2022-09-01T15:56:45.805Z"
      },
      {
        "duration": 7,
        "start_time": "2022-09-01T15:56:46.898Z"
      },
      {
        "duration": 5,
        "start_time": "2022-09-01T15:56:49.030Z"
      },
      {
        "duration": 16,
        "start_time": "2022-09-01T15:56:51.178Z"
      },
      {
        "duration": 5,
        "start_time": "2022-09-01T15:56:52.308Z"
      },
      {
        "duration": 6,
        "start_time": "2022-09-01T15:56:53.538Z"
      },
      {
        "duration": 7,
        "start_time": "2022-09-01T15:56:55.755Z"
      },
      {
        "duration": 7,
        "start_time": "2022-09-01T15:56:56.680Z"
      },
      {
        "duration": 13,
        "start_time": "2022-09-01T15:56:57.775Z"
      },
      {
        "duration": 5,
        "start_time": "2022-09-01T15:57:01.022Z"
      },
      {
        "duration": 37,
        "start_time": "2022-09-01T15:57:02.040Z"
      },
      {
        "duration": 5,
        "start_time": "2022-09-01T15:57:04.423Z"
      },
      {
        "duration": 3,
        "start_time": "2022-09-01T15:57:05.553Z"
      },
      {
        "duration": 13,
        "start_time": "2022-09-01T15:57:06.928Z"
      },
      {
        "duration": 6,
        "start_time": "2022-09-01T15:57:08.448Z"
      },
      {
        "duration": 5,
        "start_time": "2022-09-01T15:57:10.526Z"
      },
      {
        "duration": 6,
        "start_time": "2022-09-01T15:57:12.119Z"
      },
      {
        "duration": 8,
        "start_time": "2022-09-01T15:57:14.176Z"
      },
      {
        "duration": 7,
        "start_time": "2022-09-01T15:57:16.492Z"
      },
      {
        "duration": 2,
        "start_time": "2022-09-01T15:57:17.771Z"
      },
      {
        "duration": 2,
        "start_time": "2022-09-01T15:57:19.554Z"
      },
      {
        "duration": 7,
        "start_time": "2022-09-01T15:57:21.406Z"
      },
      {
        "duration": 5,
        "start_time": "2022-09-01T15:57:22.525Z"
      },
      {
        "duration": 7,
        "start_time": "2022-09-01T15:57:23.333Z"
      },
      {
        "duration": 7,
        "start_time": "2022-09-01T15:57:24.556Z"
      },
      {
        "duration": 2,
        "start_time": "2022-09-01T15:57:26.316Z"
      },
      {
        "duration": 2,
        "start_time": "2022-09-01T15:57:28.835Z"
      },
      {
        "duration": 20,
        "start_time": "2022-09-01T15:57:30.801Z"
      },
      {
        "duration": 24,
        "start_time": "2022-09-01T15:57:32.696Z"
      },
      {
        "duration": 18,
        "start_time": "2022-09-01T15:57:34.611Z"
      },
      {
        "duration": 17,
        "start_time": "2022-09-01T15:57:35.542Z"
      },
      {
        "duration": 3,
        "start_time": "2022-09-01T15:57:37.204Z"
      },
      {
        "duration": 12,
        "start_time": "2022-09-01T15:57:39.139Z"
      },
      {
        "duration": 4,
        "start_time": "2022-09-01T15:57:40.116Z"
      },
      {
        "duration": 11,
        "start_time": "2022-09-01T15:57:40.904Z"
      },
      {
        "duration": 16,
        "start_time": "2022-09-01T15:57:41.596Z"
      },
      {
        "duration": 27,
        "start_time": "2022-09-01T15:57:44.011Z"
      },
      {
        "duration": 5,
        "start_time": "2022-09-01T15:57:44.558Z"
      },
      {
        "duration": 6,
        "start_time": "2022-09-01T15:57:45.437Z"
      },
      {
        "duration": 3,
        "start_time": "2022-09-01T15:57:46.959Z"
      },
      {
        "duration": 22,
        "start_time": "2022-09-01T15:57:48.697Z"
      },
      {
        "duration": 4,
        "start_time": "2022-09-01T15:57:49.243Z"
      },
      {
        "duration": 13,
        "start_time": "2022-09-01T15:57:51.935Z"
      },
      {
        "duration": 7,
        "start_time": "2022-09-01T15:58:04.081Z"
      },
      {
        "duration": 13,
        "start_time": "2022-09-01T15:58:06.715Z"
      },
      {
        "duration": 500,
        "start_time": "2022-09-01T15:59:42.289Z"
      },
      {
        "duration": 9,
        "start_time": "2022-09-01T15:59:43.440Z"
      },
      {
        "duration": 16,
        "start_time": "2022-09-01T15:59:44.621Z"
      },
      {
        "duration": 15,
        "start_time": "2022-09-01T15:59:47.800Z"
      },
      {
        "duration": 20,
        "start_time": "2022-09-01T15:59:49.473Z"
      },
      {
        "duration": 7,
        "start_time": "2022-09-01T15:59:50.726Z"
      },
      {
        "duration": 6,
        "start_time": "2022-09-01T15:59:51.899Z"
      },
      {
        "duration": 6,
        "start_time": "2022-09-01T15:59:53.025Z"
      },
      {
        "duration": 7,
        "start_time": "2022-09-01T15:59:54.482Z"
      },
      {
        "duration": 6,
        "start_time": "2022-09-01T15:59:55.683Z"
      },
      {
        "duration": 7,
        "start_time": "2022-09-01T15:59:56.989Z"
      },
      {
        "duration": 6,
        "start_time": "2022-09-01T15:59:58.752Z"
      },
      {
        "duration": 17,
        "start_time": "2022-09-01T16:00:00.578Z"
      },
      {
        "duration": 6,
        "start_time": "2022-09-01T16:00:02.270Z"
      },
      {
        "duration": 5,
        "start_time": "2022-09-01T16:00:03.417Z"
      },
      {
        "duration": 7,
        "start_time": "2022-09-01T16:00:04.873Z"
      },
      {
        "duration": 6,
        "start_time": "2022-09-01T16:00:05.709Z"
      },
      {
        "duration": 13,
        "start_time": "2022-09-01T16:00:06.943Z"
      },
      {
        "duration": 31,
        "start_time": "2022-09-01T16:00:08.544Z"
      },
      {
        "duration": 4,
        "start_time": "2022-09-01T16:00:10.823Z"
      },
      {
        "duration": 31,
        "start_time": "2022-09-01T16:00:11.544Z"
      },
      {
        "duration": 5,
        "start_time": "2022-09-01T16:00:14.598Z"
      },
      {
        "duration": 3,
        "start_time": "2022-09-01T16:00:16.795Z"
      },
      {
        "duration": 14,
        "start_time": "2022-09-01T16:00:17.727Z"
      },
      {
        "duration": 7,
        "start_time": "2022-09-01T16:00:19.415Z"
      },
      {
        "duration": 4,
        "start_time": "2022-09-01T16:00:21.514Z"
      },
      {
        "duration": 5,
        "start_time": "2022-09-01T16:00:23.040Z"
      },
      {
        "duration": 7,
        "start_time": "2022-09-01T16:00:24.266Z"
      },
      {
        "duration": 7,
        "start_time": "2022-09-01T16:00:25.957Z"
      },
      {
        "duration": 7,
        "start_time": "2022-09-01T16:00:28.620Z"
      },
      {
        "duration": 6,
        "start_time": "2022-09-01T16:00:30.107Z"
      },
      {
        "duration": 8,
        "start_time": "2022-09-01T16:00:32.573Z"
      },
      {
        "duration": 8,
        "start_time": "2022-09-01T16:00:47.019Z"
      },
      {
        "duration": 2,
        "start_time": "2022-09-01T16:00:48.111Z"
      },
      {
        "duration": 2,
        "start_time": "2022-09-01T16:00:49.276Z"
      },
      {
        "duration": 19,
        "start_time": "2022-09-01T16:00:51.486Z"
      },
      {
        "duration": 25,
        "start_time": "2022-09-01T16:00:53.656Z"
      },
      {
        "duration": 19,
        "start_time": "2022-09-01T16:00:54.638Z"
      },
      {
        "duration": 16,
        "start_time": "2022-09-01T16:00:54.849Z"
      },
      {
        "duration": 12,
        "start_time": "2022-09-01T16:00:58.000Z"
      },
      {
        "duration": 4,
        "start_time": "2022-09-01T16:00:58.984Z"
      },
      {
        "duration": 12,
        "start_time": "2022-09-01T16:00:59.773Z"
      },
      {
        "duration": 17,
        "start_time": "2022-09-01T16:01:00.323Z"
      },
      {
        "duration": 29,
        "start_time": "2022-09-01T16:01:02.952Z"
      },
      {
        "duration": 5,
        "start_time": "2022-09-01T16:01:03.482Z"
      },
      {
        "duration": 5,
        "start_time": "2022-09-01T16:01:04.603Z"
      },
      {
        "duration": 3,
        "start_time": "2022-09-01T16:01:07.223Z"
      },
      {
        "duration": 20,
        "start_time": "2022-09-01T16:01:08.044Z"
      },
      {
        "duration": 4,
        "start_time": "2022-09-01T16:01:10.108Z"
      },
      {
        "duration": 10,
        "start_time": "2022-09-01T16:01:12.104Z"
      },
      {
        "duration": 5,
        "start_time": "2022-09-01T16:02:18.504Z"
      },
      {
        "duration": 12,
        "start_time": "2022-09-01T16:02:19.895Z"
      },
      {
        "duration": 752,
        "start_time": "2022-09-02T10:03:31.895Z"
      },
      {
        "duration": 8,
        "start_time": "2022-09-02T10:03:39.396Z"
      },
      {
        "duration": 16,
        "start_time": "2022-09-02T10:03:40.230Z"
      },
      {
        "duration": 17,
        "start_time": "2022-09-02T10:03:41.301Z"
      },
      {
        "duration": 25,
        "start_time": "2022-09-02T10:03:45.702Z"
      },
      {
        "duration": 7,
        "start_time": "2022-09-02T10:03:47.208Z"
      },
      {
        "duration": 5,
        "start_time": "2022-09-02T10:03:47.970Z"
      },
      {
        "duration": 5,
        "start_time": "2022-09-02T10:03:48.277Z"
      },
      {
        "duration": 7,
        "start_time": "2022-09-02T10:03:51.480Z"
      },
      {
        "duration": 6,
        "start_time": "2022-09-02T10:03:52.672Z"
      },
      {
        "duration": 6,
        "start_time": "2022-09-02T10:03:54.086Z"
      },
      {
        "duration": 5,
        "start_time": "2022-09-02T10:03:57.264Z"
      },
      {
        "duration": 17,
        "start_time": "2022-09-02T10:03:58.298Z"
      },
      {
        "duration": 7,
        "start_time": "2022-09-02T10:03:59.093Z"
      },
      {
        "duration": 6,
        "start_time": "2022-09-02T10:04:00.247Z"
      },
      {
        "duration": 7,
        "start_time": "2022-09-02T10:04:01.340Z"
      },
      {
        "duration": 6,
        "start_time": "2022-09-02T10:04:02.062Z"
      },
      {
        "duration": 12,
        "start_time": "2022-09-02T10:04:06.321Z"
      },
      {
        "duration": 5,
        "start_time": "2022-09-02T10:04:08.451Z"
      },
      {
        "duration": 40,
        "start_time": "2022-09-02T10:04:08.983Z"
      },
      {
        "duration": 5,
        "start_time": "2022-09-02T10:04:11.267Z"
      },
      {
        "duration": 3,
        "start_time": "2022-09-02T10:04:12.207Z"
      },
      {
        "duration": 13,
        "start_time": "2022-09-02T10:04:12.805Z"
      },
      {
        "duration": 6,
        "start_time": "2022-09-02T10:04:17.241Z"
      },
      {
        "duration": 6,
        "start_time": "2022-09-02T10:04:18.394Z"
      },
      {
        "duration": 5,
        "start_time": "2022-09-02T10:04:21.122Z"
      },
      {
        "duration": 7,
        "start_time": "2022-09-02T10:04:21.733Z"
      },
      {
        "duration": 7,
        "start_time": "2022-09-02T10:04:23.480Z"
      },
      {
        "duration": 7,
        "start_time": "2022-09-02T10:04:26.331Z"
      },
      {
        "duration": 4,
        "start_time": "2022-09-02T10:04:27.271Z"
      },
      {
        "duration": 7,
        "start_time": "2022-09-02T10:04:28.031Z"
      },
      {
        "duration": 7,
        "start_time": "2022-09-02T10:04:30.040Z"
      },
      {
        "duration": 20,
        "start_time": "2022-09-02T10:04:33.127Z"
      },
      {
        "duration": 27,
        "start_time": "2022-09-02T10:04:33.661Z"
      },
      {
        "duration": 17,
        "start_time": "2022-09-02T10:04:35.189Z"
      },
      {
        "duration": 15,
        "start_time": "2022-09-02T10:04:36.107Z"
      },
      {
        "duration": 10,
        "start_time": "2022-09-02T10:04:46.662Z"
      },
      {
        "duration": 4,
        "start_time": "2022-09-02T10:04:48.030Z"
      },
      {
        "duration": 13,
        "start_time": "2022-09-02T10:04:48.924Z"
      },
      {
        "duration": 17,
        "start_time": "2022-09-02T10:04:49.692Z"
      },
      {
        "duration": 26,
        "start_time": "2022-09-02T10:04:52.574Z"
      },
      {
        "duration": 4,
        "start_time": "2022-09-02T10:04:53.407Z"
      },
      {
        "duration": 6,
        "start_time": "2022-09-02T10:04:54.191Z"
      },
      {
        "duration": 3,
        "start_time": "2022-09-02T10:04:55.690Z"
      },
      {
        "duration": 20,
        "start_time": "2022-09-02T10:04:56.800Z"
      },
      {
        "duration": 5,
        "start_time": "2022-09-02T10:04:58.958Z"
      },
      {
        "duration": 10,
        "start_time": "2022-09-02T10:04:59.870Z"
      },
      {
        "duration": 4,
        "start_time": "2022-09-02T10:05:01.010Z"
      },
      {
        "duration": 12,
        "start_time": "2022-09-02T10:05:02.831Z"
      },
      {
        "duration": 7,
        "start_time": "2022-09-02T10:08:02.031Z"
      },
      {
        "duration": 6,
        "start_time": "2022-09-02T10:08:22.685Z"
      },
      {
        "duration": 17,
        "start_time": "2022-09-02T10:10:26.714Z"
      },
      {
        "duration": 11,
        "start_time": "2022-09-02T10:10:42.001Z"
      },
      {
        "duration": 20,
        "start_time": "2022-09-02T10:11:26.309Z"
      },
      {
        "duration": 9,
        "start_time": "2022-09-02T10:11:53.768Z"
      },
      {
        "duration": 76,
        "start_time": "2022-09-02T10:12:09.424Z"
      },
      {
        "duration": 6,
        "start_time": "2022-09-02T10:13:22.770Z"
      },
      {
        "duration": 9,
        "start_time": "2022-09-02T10:13:27.889Z"
      },
      {
        "duration": 76,
        "start_time": "2022-09-02T10:13:44.820Z"
      },
      {
        "duration": 6,
        "start_time": "2022-09-02T10:14:19.099Z"
      },
      {
        "duration": 8,
        "start_time": "2022-09-02T10:14:27.245Z"
      },
      {
        "duration": 10,
        "start_time": "2022-09-02T10:14:47.340Z"
      },
      {
        "duration": 12,
        "start_time": "2022-09-02T10:15:07.491Z"
      },
      {
        "duration": 8,
        "start_time": "2022-09-02T10:17:57.232Z"
      },
      {
        "duration": 76,
        "start_time": "2022-09-02T10:18:19.086Z"
      },
      {
        "duration": 7,
        "start_time": "2022-09-02T10:18:33.529Z"
      },
      {
        "duration": 7,
        "start_time": "2022-09-02T10:21:07.390Z"
      },
      {
        "duration": 3,
        "start_time": "2022-09-02T10:21:48.236Z"
      },
      {
        "duration": 23,
        "start_time": "2022-09-02T10:22:35.055Z"
      },
      {
        "duration": 24,
        "start_time": "2022-09-02T10:22:43.922Z"
      },
      {
        "duration": 25,
        "start_time": "2022-09-02T10:23:12.217Z"
      },
      {
        "duration": 3,
        "start_time": "2022-09-02T10:24:37.912Z"
      },
      {
        "duration": 25,
        "start_time": "2022-09-02T10:24:39.688Z"
      },
      {
        "duration": 3,
        "start_time": "2022-09-02T10:25:07.209Z"
      },
      {
        "duration": 239,
        "start_time": "2022-09-02T10:25:08.455Z"
      },
      {
        "duration": 4,
        "start_time": "2022-09-02T10:25:15.814Z"
      },
      {
        "duration": 25,
        "start_time": "2022-09-02T10:25:16.507Z"
      },
      {
        "duration": 12,
        "start_time": "2022-09-02T13:16:00.894Z"
      },
      {
        "duration": 8,
        "start_time": "2022-09-02T13:17:57.335Z"
      },
      {
        "duration": 9,
        "start_time": "2022-09-02T13:18:29.478Z"
      },
      {
        "duration": 449,
        "start_time": "2022-09-02T13:19:33.320Z"
      },
      {
        "duration": 8,
        "start_time": "2022-09-02T13:19:34.466Z"
      },
      {
        "duration": 16,
        "start_time": "2022-09-02T13:19:35.069Z"
      },
      {
        "duration": 16,
        "start_time": "2022-09-02T13:19:36.369Z"
      },
      {
        "duration": 22,
        "start_time": "2022-09-02T13:19:37.366Z"
      },
      {
        "duration": 7,
        "start_time": "2022-09-02T13:19:38.691Z"
      },
      {
        "duration": 5,
        "start_time": "2022-09-02T13:19:40.306Z"
      },
      {
        "duration": 6,
        "start_time": "2022-09-02T13:19:41.194Z"
      },
      {
        "duration": 6,
        "start_time": "2022-09-02T13:19:43.485Z"
      },
      {
        "duration": 6,
        "start_time": "2022-09-02T13:19:44.399Z"
      },
      {
        "duration": 6,
        "start_time": "2022-09-02T13:19:45.739Z"
      },
      {
        "duration": 5,
        "start_time": "2022-09-02T13:19:47.113Z"
      },
      {
        "duration": 15,
        "start_time": "2022-09-02T13:19:47.675Z"
      },
      {
        "duration": 5,
        "start_time": "2022-09-02T13:19:48.469Z"
      },
      {
        "duration": 6,
        "start_time": "2022-09-02T13:19:49.527Z"
      },
      {
        "duration": 7,
        "start_time": "2022-09-02T13:19:50.814Z"
      },
      {
        "duration": 7,
        "start_time": "2022-09-02T13:19:51.538Z"
      },
      {
        "duration": 12,
        "start_time": "2022-09-02T13:19:59.354Z"
      },
      {
        "duration": 69,
        "start_time": "2022-09-02T13:20:20.129Z"
      },
      {
        "duration": 5,
        "start_time": "2022-09-02T13:20:26.231Z"
      },
      {
        "duration": 4,
        "start_time": "2022-09-02T13:20:50.741Z"
      },
      {
        "duration": 6,
        "start_time": "2022-09-02T13:20:59.319Z"
      },
      {
        "duration": 32,
        "start_time": "2022-09-02T13:21:04.824Z"
      },
      {
        "duration": 32,
        "start_time": "2022-09-02T13:21:29.501Z"
      },
      {
        "duration": 25,
        "start_time": "2022-09-02T13:21:34.639Z"
      },
      {
        "duration": 7,
        "start_time": "2022-09-02T13:21:53.726Z"
      },
      {
        "duration": 5,
        "start_time": "2022-09-02T13:21:54.956Z"
      },
      {
        "duration": 13,
        "start_time": "2022-09-02T13:21:57.290Z"
      },
      {
        "duration": 6,
        "start_time": "2022-09-02T13:22:15.364Z"
      },
      {
        "duration": 4,
        "start_time": "2022-09-02T13:22:18.169Z"
      },
      {
        "duration": 4,
        "start_time": "2022-09-02T13:22:19.541Z"
      },
      {
        "duration": 8,
        "start_time": "2022-09-02T13:22:20.652Z"
      },
      {
        "duration": 8,
        "start_time": "2022-09-02T13:22:21.775Z"
      },
      {
        "duration": 2,
        "start_time": "2022-09-02T13:22:22.329Z"
      },
      {
        "duration": 3,
        "start_time": "2022-09-02T13:22:23.892Z"
      },
      {
        "duration": 8,
        "start_time": "2022-09-02T13:22:25.590Z"
      },
      {
        "duration": 5,
        "start_time": "2022-09-02T13:22:26.546Z"
      },
      {
        "duration": 9,
        "start_time": "2022-09-02T13:22:27.086Z"
      },
      {
        "duration": 6,
        "start_time": "2022-09-02T13:22:28.105Z"
      },
      {
        "duration": 19,
        "start_time": "2022-09-02T13:22:31.783Z"
      },
      {
        "duration": 26,
        "start_time": "2022-09-02T13:22:32.909Z"
      },
      {
        "duration": 19,
        "start_time": "2022-09-02T13:22:34.192Z"
      },
      {
        "duration": 16,
        "start_time": "2022-09-02T13:22:35.082Z"
      },
      {
        "duration": 10,
        "start_time": "2022-09-02T13:22:47.588Z"
      },
      {
        "duration": 3,
        "start_time": "2022-09-02T13:22:48.334Z"
      },
      {
        "duration": 13,
        "start_time": "2022-09-02T13:22:48.993Z"
      },
      {
        "duration": 17,
        "start_time": "2022-09-02T13:22:49.850Z"
      },
      {
        "duration": 29,
        "start_time": "2022-09-02T13:22:51.672Z"
      },
      {
        "duration": 4,
        "start_time": "2022-09-02T13:22:52.383Z"
      },
      {
        "duration": 6,
        "start_time": "2022-09-02T13:22:53.588Z"
      },
      {
        "duration": 3,
        "start_time": "2022-09-02T13:22:55.629Z"
      },
      {
        "duration": 24,
        "start_time": "2022-09-02T13:22:56.753Z"
      },
      {
        "duration": 5,
        "start_time": "2022-09-02T13:22:59.228Z"
      },
      {
        "duration": 10,
        "start_time": "2022-09-02T13:23:00.029Z"
      },
      {
        "duration": 5,
        "start_time": "2022-09-02T13:23:01.199Z"
      },
      {
        "duration": 12,
        "start_time": "2022-09-02T13:23:03.843Z"
      },
      {
        "duration": 8,
        "start_time": "2022-09-02T13:23:06.939Z"
      },
      {
        "duration": 77,
        "start_time": "2022-09-02T13:23:07.677Z"
      },
      {
        "duration": 8,
        "start_time": "2022-09-02T13:23:10.489Z"
      },
      {
        "duration": 3,
        "start_time": "2022-09-02T13:24:25.889Z"
      },
      {
        "duration": 297,
        "start_time": "2022-09-02T13:24:40.313Z"
      },
      {
        "duration": 4,
        "start_time": "2022-09-02T13:25:20.886Z"
      },
      {
        "duration": 53,
        "start_time": "2022-09-02T13:25:34.491Z"
      },
      {
        "duration": 7,
        "start_time": "2022-09-02T13:27:03.558Z"
      },
      {
        "duration": 7,
        "start_time": "2022-09-02T13:31:47.940Z"
      },
      {
        "duration": 653,
        "start_time": "2022-09-02T13:32:44.261Z"
      },
      {
        "duration": 11,
        "start_time": "2022-09-02T13:32:46.430Z"
      },
      {
        "duration": 15,
        "start_time": "2022-09-02T13:32:47.040Z"
      },
      {
        "duration": 16,
        "start_time": "2022-09-02T13:32:48.184Z"
      },
      {
        "duration": 22,
        "start_time": "2022-09-02T13:32:49.695Z"
      },
      {
        "duration": 6,
        "start_time": "2022-09-02T13:32:50.573Z"
      },
      {
        "duration": 6,
        "start_time": "2022-09-02T13:32:52.426Z"
      },
      {
        "duration": 5,
        "start_time": "2022-09-02T13:32:53.175Z"
      },
      {
        "duration": 6,
        "start_time": "2022-09-02T13:32:54.683Z"
      },
      {
        "duration": 6,
        "start_time": "2022-09-02T13:32:56.084Z"
      },
      {
        "duration": 7,
        "start_time": "2022-09-02T13:32:57.001Z"
      },
      {
        "duration": 5,
        "start_time": "2022-09-02T13:32:58.351Z"
      },
      {
        "duration": 18,
        "start_time": "2022-09-02T13:32:59.075Z"
      },
      {
        "duration": 5,
        "start_time": "2022-09-02T13:32:59.745Z"
      },
      {
        "duration": 5,
        "start_time": "2022-09-02T13:33:00.798Z"
      },
      {
        "duration": 7,
        "start_time": "2022-09-02T13:33:02.575Z"
      },
      {
        "duration": 8,
        "start_time": "2022-09-02T13:33:03.246Z"
      },
      {
        "duration": 16,
        "start_time": "2022-09-02T13:33:04.775Z"
      },
      {
        "duration": 4,
        "start_time": "2022-09-02T13:33:07.132Z"
      },
      {
        "duration": 26,
        "start_time": "2022-09-02T13:33:07.578Z"
      },
      {
        "duration": 5,
        "start_time": "2022-09-02T13:33:08.476Z"
      },
      {
        "duration": 4,
        "start_time": "2022-09-02T13:33:09.870Z"
      },
      {
        "duration": 14,
        "start_time": "2022-09-02T13:33:10.340Z"
      },
      {
        "duration": 7,
        "start_time": "2022-09-02T13:33:11.419Z"
      },
      {
        "duration": 5,
        "start_time": "2022-09-02T13:33:11.929Z"
      },
      {
        "duration": 5,
        "start_time": "2022-09-02T13:33:13.050Z"
      },
      {
        "duration": 8,
        "start_time": "2022-09-02T13:33:13.510Z"
      },
      {
        "duration": 7,
        "start_time": "2022-09-02T13:33:16.299Z"
      },
      {
        "duration": 7,
        "start_time": "2022-09-02T13:33:17.869Z"
      },
      {
        "duration": 5,
        "start_time": "2022-09-02T13:33:20.555Z"
      },
      {
        "duration": 9,
        "start_time": "2022-09-02T13:33:21.422Z"
      },
      {
        "duration": 7,
        "start_time": "2022-09-02T13:33:22.666Z"
      },
      {
        "duration": 19,
        "start_time": "2022-09-02T13:33:24.766Z"
      },
      {
        "duration": 25,
        "start_time": "2022-09-02T13:33:25.497Z"
      },
      {
        "duration": 23,
        "start_time": "2022-09-02T13:33:26.431Z"
      },
      {
        "duration": 16,
        "start_time": "2022-09-02T13:33:28.620Z"
      },
      {
        "duration": 11,
        "start_time": "2022-09-02T13:33:31.888Z"
      },
      {
        "duration": 12,
        "start_time": "2022-09-02T13:33:35.028Z"
      },
      {
        "duration": 4,
        "start_time": "2022-09-02T13:33:36.269Z"
      },
      {
        "duration": 15,
        "start_time": "2022-09-02T13:33:38.048Z"
      },
      {
        "duration": 16,
        "start_time": "2022-09-02T13:33:38.804Z"
      },
      {
        "duration": 34,
        "start_time": "2022-09-02T13:33:59.109Z"
      },
      {
        "duration": 5,
        "start_time": "2022-09-02T13:33:59.559Z"
      },
      {
        "duration": 6,
        "start_time": "2022-09-02T13:34:02.069Z"
      },
      {
        "duration": 4,
        "start_time": "2022-09-02T13:34:03.478Z"
      },
      {
        "duration": 21,
        "start_time": "2022-09-02T13:34:05.527Z"
      },
      {
        "duration": 4,
        "start_time": "2022-09-02T13:34:06.346Z"
      },
      {
        "duration": 11,
        "start_time": "2022-09-02T13:34:07.776Z"
      },
      {
        "duration": 5,
        "start_time": "2022-09-02T13:34:09.084Z"
      },
      {
        "duration": 4,
        "start_time": "2022-09-02T13:34:11.396Z"
      },
      {
        "duration": 14,
        "start_time": "2022-09-02T13:34:12.497Z"
      },
      {
        "duration": 11,
        "start_time": "2022-09-02T13:34:14.229Z"
      },
      {
        "duration": 97,
        "start_time": "2022-09-02T13:34:15.016Z"
      },
      {
        "duration": 7,
        "start_time": "2022-09-02T13:34:16.099Z"
      },
      {
        "duration": 36,
        "start_time": "2022-09-02T13:36:54.907Z"
      },
      {
        "duration": 19,
        "start_time": "2022-09-02T13:37:32.318Z"
      },
      {
        "duration": 4,
        "start_time": "2022-09-02T13:38:22.471Z"
      },
      {
        "duration": 26,
        "start_time": "2022-09-02T13:38:28.582Z"
      },
      {
        "duration": 69,
        "start_time": "2022-09-02T13:40:06.221Z"
      },
      {
        "duration": 65,
        "start_time": "2022-09-02T13:42:16.766Z"
      },
      {
        "duration": 55,
        "start_time": "2022-09-02T14:17:15.080Z"
      },
      {
        "duration": 5,
        "start_time": "2022-09-02T14:17:16.791Z"
      },
      {
        "duration": 475,
        "start_time": "2022-09-02T14:18:03.188Z"
      },
      {
        "duration": 9,
        "start_time": "2022-09-02T14:18:04.877Z"
      },
      {
        "duration": 17,
        "start_time": "2022-09-02T14:18:05.377Z"
      },
      {
        "duration": 18,
        "start_time": "2022-09-02T14:18:06.739Z"
      },
      {
        "duration": 23,
        "start_time": "2022-09-02T14:18:07.810Z"
      },
      {
        "duration": 7,
        "start_time": "2022-09-02T14:18:08.770Z"
      },
      {
        "duration": 4,
        "start_time": "2022-09-02T14:18:09.835Z"
      },
      {
        "duration": 6,
        "start_time": "2022-09-02T14:18:10.326Z"
      },
      {
        "duration": 7,
        "start_time": "2022-09-02T14:18:11.404Z"
      },
      {
        "duration": 6,
        "start_time": "2022-09-02T14:18:12.175Z"
      },
      {
        "duration": 6,
        "start_time": "2022-09-02T14:18:13.302Z"
      },
      {
        "duration": 6,
        "start_time": "2022-09-02T14:18:14.711Z"
      },
      {
        "duration": 19,
        "start_time": "2022-09-02T14:18:15.482Z"
      },
      {
        "duration": 6,
        "start_time": "2022-09-02T14:18:16.183Z"
      },
      {
        "duration": 6,
        "start_time": "2022-09-02T14:18:17.087Z"
      },
      {
        "duration": 8,
        "start_time": "2022-09-02T14:18:18.361Z"
      },
      {
        "duration": 8,
        "start_time": "2022-09-02T14:18:18.967Z"
      },
      {
        "duration": 13,
        "start_time": "2022-09-02T14:18:19.835Z"
      },
      {
        "duration": 4,
        "start_time": "2022-09-02T14:18:21.599Z"
      },
      {
        "duration": 27,
        "start_time": "2022-09-02T14:18:22.448Z"
      },
      {
        "duration": 5,
        "start_time": "2022-09-02T14:18:23.100Z"
      },
      {
        "duration": 4,
        "start_time": "2022-09-02T14:18:24.326Z"
      },
      {
        "duration": 14,
        "start_time": "2022-09-02T14:18:25.172Z"
      },
      {
        "duration": 6,
        "start_time": "2022-09-02T14:18:26.543Z"
      },
      {
        "duration": 4,
        "start_time": "2022-09-02T14:18:27.127Z"
      },
      {
        "duration": 6,
        "start_time": "2022-09-02T14:18:28.370Z"
      },
      {
        "duration": 9,
        "start_time": "2022-09-02T14:18:28.892Z"
      },
      {
        "duration": 7,
        "start_time": "2022-09-02T14:18:30.328Z"
      },
      {
        "duration": 7,
        "start_time": "2022-09-02T14:18:32.338Z"
      },
      {
        "duration": 5,
        "start_time": "2022-09-02T14:18:33.369Z"
      },
      {
        "duration": 7,
        "start_time": "2022-09-02T14:18:33.882Z"
      },
      {
        "duration": 7,
        "start_time": "2022-09-02T14:18:36.139Z"
      },
      {
        "duration": 2,
        "start_time": "2022-09-02T14:18:37.195Z"
      },
      {
        "duration": 21,
        "start_time": "2022-09-02T14:18:39.452Z"
      },
      {
        "duration": 27,
        "start_time": "2022-09-02T14:18:40.869Z"
      },
      {
        "duration": 17,
        "start_time": "2022-09-02T14:18:41.873Z"
      },
      {
        "duration": 23,
        "start_time": "2022-09-02T14:18:42.418Z"
      },
      {
        "duration": 11,
        "start_time": "2022-09-02T14:18:44.640Z"
      },
      {
        "duration": 3,
        "start_time": "2022-09-02T14:18:45.344Z"
      },
      {
        "duration": 12,
        "start_time": "2022-09-02T14:18:45.796Z"
      },
      {
        "duration": 18,
        "start_time": "2022-09-02T14:18:46.319Z"
      },
      {
        "duration": 26,
        "start_time": "2022-09-02T14:18:47.599Z"
      },
      {
        "duration": 5,
        "start_time": "2022-09-02T14:18:48.001Z"
      },
      {
        "duration": 7,
        "start_time": "2022-09-02T14:18:48.406Z"
      },
      {
        "duration": 4,
        "start_time": "2022-09-02T14:18:50.570Z"
      },
      {
        "duration": 24,
        "start_time": "2022-09-02T14:18:51.145Z"
      },
      {
        "duration": 4,
        "start_time": "2022-09-02T14:18:56.087Z"
      },
      {
        "duration": 11,
        "start_time": "2022-09-02T14:18:56.538Z"
      },
      {
        "duration": 6,
        "start_time": "2022-09-02T14:18:57.524Z"
      },
      {
        "duration": 12,
        "start_time": "2022-09-02T14:18:59.572Z"
      },
      {
        "duration": 10,
        "start_time": "2022-09-02T14:19:01.269Z"
      },
      {
        "duration": 74,
        "start_time": "2022-09-02T14:19:01.960Z"
      },
      {
        "duration": 82,
        "start_time": "2022-09-02T14:21:07.740Z"
      },
      {
        "duration": 25,
        "start_time": "2022-09-02T14:23:02.138Z"
      },
      {
        "duration": 3,
        "start_time": "2022-09-02T14:23:07.782Z"
      },
      {
        "duration": 29,
        "start_time": "2022-09-02T14:28:07.498Z"
      },
      {
        "duration": 6,
        "start_time": "2022-09-02T14:28:14.594Z"
      },
      {
        "duration": 53,
        "start_time": "2022-09-02T14:29:31.965Z"
      },
      {
        "duration": 23,
        "start_time": "2022-09-02T14:29:40.688Z"
      },
      {
        "duration": 28,
        "start_time": "2022-09-02T14:29:45.834Z"
      },
      {
        "duration": 20,
        "start_time": "2022-09-02T14:30:19.032Z"
      },
      {
        "duration": 10,
        "start_time": "2022-09-02T14:32:12.492Z"
      },
      {
        "duration": 15,
        "start_time": "2022-09-02T14:32:18.734Z"
      },
      {
        "duration": 478,
        "start_time": "2022-09-02T14:34:05.002Z"
      },
      {
        "duration": 9,
        "start_time": "2022-09-02T14:34:06.293Z"
      },
      {
        "duration": 18,
        "start_time": "2022-09-02T14:34:06.786Z"
      },
      {
        "duration": 16,
        "start_time": "2022-09-02T14:34:08.095Z"
      },
      {
        "duration": 21,
        "start_time": "2022-09-02T14:34:09.323Z"
      },
      {
        "duration": 8,
        "start_time": "2022-09-02T14:34:10.364Z"
      },
      {
        "duration": 6,
        "start_time": "2022-09-02T14:34:11.435Z"
      },
      {
        "duration": 5,
        "start_time": "2022-09-02T14:34:12.026Z"
      },
      {
        "duration": 7,
        "start_time": "2022-09-02T14:34:13.625Z"
      },
      {
        "duration": 6,
        "start_time": "2022-09-02T14:34:17.249Z"
      },
      {
        "duration": 5,
        "start_time": "2022-09-02T14:34:18.492Z"
      },
      {
        "duration": 6,
        "start_time": "2022-09-02T14:34:21.126Z"
      },
      {
        "duration": 17,
        "start_time": "2022-09-02T14:34:22.065Z"
      },
      {
        "duration": 6,
        "start_time": "2022-09-02T14:34:23.541Z"
      },
      {
        "duration": 5,
        "start_time": "2022-09-02T14:34:24.520Z"
      },
      {
        "duration": 7,
        "start_time": "2022-09-02T14:34:25.810Z"
      },
      {
        "duration": 7,
        "start_time": "2022-09-02T14:34:26.584Z"
      },
      {
        "duration": 12,
        "start_time": "2022-09-02T14:34:28.790Z"
      },
      {
        "duration": 5,
        "start_time": "2022-09-02T14:34:30.624Z"
      },
      {
        "duration": 26,
        "start_time": "2022-09-02T14:34:31.660Z"
      },
      {
        "duration": 6,
        "start_time": "2022-09-02T14:34:32.288Z"
      },
      {
        "duration": 4,
        "start_time": "2022-09-02T14:34:34.232Z"
      },
      {
        "duration": 16,
        "start_time": "2022-09-02T14:34:35.065Z"
      },
      {
        "duration": 5,
        "start_time": "2022-09-02T14:34:38.265Z"
      },
      {
        "duration": 4,
        "start_time": "2022-09-02T14:34:40.079Z"
      },
      {
        "duration": 5,
        "start_time": "2022-09-02T14:34:41.136Z"
      },
      {
        "duration": 8,
        "start_time": "2022-09-02T14:34:42.206Z"
      },
      {
        "duration": 7,
        "start_time": "2022-09-02T14:34:43.406Z"
      },
      {
        "duration": 7,
        "start_time": "2022-09-02T14:34:47.618Z"
      },
      {
        "duration": 6,
        "start_time": "2022-09-02T14:34:48.519Z"
      },
      {
        "duration": 7,
        "start_time": "2022-09-02T14:34:49.765Z"
      },
      {
        "duration": 7,
        "start_time": "2022-09-02T14:34:51.941Z"
      },
      {
        "duration": 20,
        "start_time": "2022-09-02T14:34:54.697Z"
      },
      {
        "duration": 24,
        "start_time": "2022-09-02T14:34:55.580Z"
      },
      {
        "duration": 18,
        "start_time": "2022-09-02T14:34:57.022Z"
      },
      {
        "duration": 15,
        "start_time": "2022-09-02T14:34:57.998Z"
      },
      {
        "duration": 9,
        "start_time": "2022-09-02T14:35:02.274Z"
      },
      {
        "duration": 4,
        "start_time": "2022-09-02T14:35:03.569Z"
      },
      {
        "duration": 13,
        "start_time": "2022-09-02T14:35:04.984Z"
      },
      {
        "duration": 17,
        "start_time": "2022-09-02T14:35:05.565Z"
      },
      {
        "duration": 26,
        "start_time": "2022-09-02T14:35:12.086Z"
      },
      {
        "duration": 5,
        "start_time": "2022-09-02T14:35:12.598Z"
      },
      {
        "duration": 6,
        "start_time": "2022-09-02T14:35:14.975Z"
      },
      {
        "duration": 3,
        "start_time": "2022-09-02T14:35:17.060Z"
      },
      {
        "duration": 4,
        "start_time": "2022-09-02T14:35:23.553Z"
      },
      {
        "duration": 9,
        "start_time": "2022-09-02T14:35:24.680Z"
      },
      {
        "duration": 825,
        "start_time": "2022-09-02T14:35:28.747Z"
      },
      {
        "duration": 4,
        "start_time": "2022-09-02T14:35:35.990Z"
      },
      {
        "duration": 26,
        "start_time": "2022-09-02T14:35:36.583Z"
      },
      {
        "duration": 4,
        "start_time": "2022-09-02T14:35:37.398Z"
      },
      {
        "duration": 4,
        "start_time": "2022-09-02T14:35:40.484Z"
      },
      {
        "duration": 13,
        "start_time": "2022-09-02T14:35:42.194Z"
      },
      {
        "duration": 11,
        "start_time": "2022-09-02T14:36:00.671Z"
      },
      {
        "duration": 81,
        "start_time": "2022-09-02T14:36:01.213Z"
      },
      {
        "duration": 23,
        "start_time": "2022-09-02T14:36:24.577Z"
      },
      {
        "duration": 26,
        "start_time": "2022-09-02T14:36:39.527Z"
      },
      {
        "duration": 6,
        "start_time": "2022-09-02T14:37:09.382Z"
      },
      {
        "duration": 28,
        "start_time": "2022-09-02T14:37:10.348Z"
      },
      {
        "duration": 472,
        "start_time": "2022-09-02T14:37:23.398Z"
      },
      {
        "duration": 8,
        "start_time": "2022-09-02T14:37:24.768Z"
      },
      {
        "duration": 17,
        "start_time": "2022-09-02T14:37:25.322Z"
      },
      {
        "duration": 16,
        "start_time": "2022-09-02T14:37:26.936Z"
      },
      {
        "duration": 21,
        "start_time": "2022-09-02T14:37:44.602Z"
      },
      {
        "duration": 7,
        "start_time": "2022-09-02T14:37:45.638Z"
      },
      {
        "duration": 4,
        "start_time": "2022-09-02T14:37:46.516Z"
      },
      {
        "duration": 6,
        "start_time": "2022-09-02T14:37:47.039Z"
      },
      {
        "duration": 6,
        "start_time": "2022-09-02T14:37:48.285Z"
      },
      {
        "duration": 6,
        "start_time": "2022-09-02T14:37:49.369Z"
      },
      {
        "duration": 6,
        "start_time": "2022-09-02T14:37:50.351Z"
      },
      {
        "duration": 5,
        "start_time": "2022-09-02T14:37:52.265Z"
      },
      {
        "duration": 15,
        "start_time": "2022-09-02T14:37:53.652Z"
      },
      {
        "duration": 5,
        "start_time": "2022-09-02T14:37:54.879Z"
      },
      {
        "duration": 6,
        "start_time": "2022-09-02T14:37:56.691Z"
      },
      {
        "duration": 7,
        "start_time": "2022-09-02T14:37:57.988Z"
      },
      {
        "duration": 8,
        "start_time": "2022-09-02T14:37:59.023Z"
      },
      {
        "duration": 12,
        "start_time": "2022-09-02T14:38:00.375Z"
      },
      {
        "duration": 4,
        "start_time": "2022-09-02T14:38:03.104Z"
      },
      {
        "duration": 25,
        "start_time": "2022-09-02T14:38:08.175Z"
      },
      {
        "duration": 5,
        "start_time": "2022-09-02T14:38:13.051Z"
      },
      {
        "duration": 4,
        "start_time": "2022-09-02T14:38:14.086Z"
      },
      {
        "duration": 13,
        "start_time": "2022-09-02T14:38:15.546Z"
      },
      {
        "duration": 6,
        "start_time": "2022-09-02T14:38:25.667Z"
      },
      {
        "duration": 4,
        "start_time": "2022-09-02T14:38:26.166Z"
      },
      {
        "duration": 5,
        "start_time": "2022-09-02T14:38:28.487Z"
      },
      {
        "duration": 13,
        "start_time": "2022-09-02T14:38:28.933Z"
      },
      {
        "duration": 7,
        "start_time": "2022-09-02T14:38:30.895Z"
      },
      {
        "duration": 8,
        "start_time": "2022-09-02T14:38:34.273Z"
      },
      {
        "duration": 5,
        "start_time": "2022-09-02T14:38:34.708Z"
      },
      {
        "duration": 7,
        "start_time": "2022-09-02T14:38:35.272Z"
      },
      {
        "duration": 6,
        "start_time": "2022-09-02T14:38:37.367Z"
      },
      {
        "duration": 21,
        "start_time": "2022-09-02T14:38:40.765Z"
      },
      {
        "duration": 27,
        "start_time": "2022-09-02T14:38:41.229Z"
      },
      {
        "duration": 25,
        "start_time": "2022-09-02T14:38:42.216Z"
      },
      {
        "duration": 21,
        "start_time": "2022-09-02T14:38:42.627Z"
      },
      {
        "duration": 10,
        "start_time": "2022-09-02T14:38:45.824Z"
      },
      {
        "duration": 4,
        "start_time": "2022-09-02T14:38:46.741Z"
      },
      {
        "duration": 13,
        "start_time": "2022-09-02T14:38:47.230Z"
      },
      {
        "duration": 17,
        "start_time": "2022-09-02T14:38:47.693Z"
      },
      {
        "duration": 28,
        "start_time": "2022-09-02T14:38:56.138Z"
      },
      {
        "duration": 6,
        "start_time": "2022-09-02T14:38:56.667Z"
      },
      {
        "duration": 6,
        "start_time": "2022-09-02T14:38:57.872Z"
      },
      {
        "duration": 3,
        "start_time": "2022-09-02T14:38:59.545Z"
      },
      {
        "duration": 26,
        "start_time": "2022-09-02T14:39:00.575Z"
      },
      {
        "duration": 4,
        "start_time": "2022-09-02T14:39:03.483Z"
      },
      {
        "duration": 10,
        "start_time": "2022-09-02T14:39:04.365Z"
      },
      {
        "duration": 5,
        "start_time": "2022-09-02T14:39:08.024Z"
      },
      {
        "duration": 11,
        "start_time": "2022-09-02T14:39:11.077Z"
      },
      {
        "duration": 8,
        "start_time": "2022-09-02T14:39:33.307Z"
      },
      {
        "duration": 76,
        "start_time": "2022-09-02T14:39:33.843Z"
      },
      {
        "duration": 3,
        "start_time": "2022-09-02T14:39:40.304Z"
      },
      {
        "duration": 26,
        "start_time": "2022-09-02T14:39:42.127Z"
      },
      {
        "duration": 4,
        "start_time": "2022-09-02T14:40:03.394Z"
      },
      {
        "duration": 10,
        "start_time": "2022-09-02T14:40:18.591Z"
      },
      {
        "duration": 8,
        "start_time": "2022-09-02T14:41:42.807Z"
      },
      {
        "duration": 13,
        "start_time": "2022-09-02T14:41:47.309Z"
      },
      {
        "duration": 6,
        "start_time": "2022-09-02T14:43:05.078Z"
      },
      {
        "duration": 11,
        "start_time": "2022-09-02T14:43:06.576Z"
      },
      {
        "duration": 6,
        "start_time": "2022-09-02T14:43:07.995Z"
      },
      {
        "duration": 12,
        "start_time": "2022-09-02T14:43:11.259Z"
      },
      {
        "duration": 7,
        "start_time": "2022-09-02T14:43:41.286Z"
      },
      {
        "duration": 9,
        "start_time": "2022-09-02T14:43:42.182Z"
      },
      {
        "duration": 2,
        "start_time": "2022-09-02T14:43:47.751Z"
      },
      {
        "duration": 11,
        "start_time": "2022-09-02T14:43:49.451Z"
      },
      {
        "duration": 433,
        "start_time": "2022-09-02T14:44:02.850Z"
      },
      {
        "duration": 8,
        "start_time": "2022-09-02T14:44:04.764Z"
      },
      {
        "duration": 17,
        "start_time": "2022-09-02T14:44:05.187Z"
      },
      {
        "duration": 15,
        "start_time": "2022-09-02T14:44:06.690Z"
      },
      {
        "duration": 26,
        "start_time": "2022-09-02T14:44:08.415Z"
      },
      {
        "duration": 8,
        "start_time": "2022-09-02T14:44:09.411Z"
      },
      {
        "duration": 5,
        "start_time": "2022-09-02T14:44:10.781Z"
      },
      {
        "duration": 6,
        "start_time": "2022-09-02T14:44:10.899Z"
      },
      {
        "duration": 7,
        "start_time": "2022-09-02T14:44:12.400Z"
      },
      {
        "duration": 6,
        "start_time": "2022-09-02T14:44:13.435Z"
      },
      {
        "duration": 6,
        "start_time": "2022-09-02T14:44:14.439Z"
      },
      {
        "duration": 6,
        "start_time": "2022-09-02T14:44:16.306Z"
      },
      {
        "duration": 16,
        "start_time": "2022-09-02T14:44:18.735Z"
      },
      {
        "duration": 5,
        "start_time": "2022-09-02T14:44:19.213Z"
      },
      {
        "duration": 6,
        "start_time": "2022-09-02T14:44:20.080Z"
      },
      {
        "duration": 8,
        "start_time": "2022-09-02T14:44:21.576Z"
      },
      {
        "duration": 7,
        "start_time": "2022-09-02T14:44:22.051Z"
      },
      {
        "duration": 14,
        "start_time": "2022-09-02T14:44:23.241Z"
      },
      {
        "duration": 5,
        "start_time": "2022-09-02T14:44:24.164Z"
      },
      {
        "duration": 24,
        "start_time": "2022-09-02T14:44:25.770Z"
      },
      {
        "duration": 5,
        "start_time": "2022-09-02T14:44:26.642Z"
      },
      {
        "duration": 3,
        "start_time": "2022-09-02T14:44:27.496Z"
      },
      {
        "duration": 13,
        "start_time": "2022-09-02T14:44:28.297Z"
      },
      {
        "duration": 6,
        "start_time": "2022-09-02T14:44:29.182Z"
      },
      {
        "duration": 5,
        "start_time": "2022-09-02T14:44:29.694Z"
      },
      {
        "duration": 4,
        "start_time": "2022-09-02T14:44:31.121Z"
      },
      {
        "duration": 8,
        "start_time": "2022-09-02T14:44:31.937Z"
      },
      {
        "duration": 7,
        "start_time": "2022-09-02T14:44:33.690Z"
      },
      {
        "duration": 6,
        "start_time": "2022-09-02T14:44:35.311Z"
      },
      {
        "duration": 5,
        "start_time": "2022-09-02T14:44:36.327Z"
      },
      {
        "duration": 7,
        "start_time": "2022-09-02T14:44:36.969Z"
      },
      {
        "duration": 7,
        "start_time": "2022-09-02T14:44:38.578Z"
      },
      {
        "duration": 19,
        "start_time": "2022-09-02T14:44:42.818Z"
      },
      {
        "duration": 25,
        "start_time": "2022-09-02T14:44:43.333Z"
      },
      {
        "duration": 18,
        "start_time": "2022-09-02T14:44:44.175Z"
      },
      {
        "duration": 14,
        "start_time": "2022-09-02T14:44:46.069Z"
      },
      {
        "duration": 11,
        "start_time": "2022-09-02T14:44:50.903Z"
      },
      {
        "duration": 4,
        "start_time": "2022-09-02T14:44:51.570Z"
      },
      {
        "duration": 11,
        "start_time": "2022-09-02T14:44:52.093Z"
      },
      {
        "duration": 16,
        "start_time": "2022-09-02T14:44:52.630Z"
      },
      {
        "duration": 25,
        "start_time": "2022-09-02T14:45:01.896Z"
      },
      {
        "duration": 4,
        "start_time": "2022-09-02T14:45:02.774Z"
      },
      {
        "duration": 6,
        "start_time": "2022-09-02T14:45:03.582Z"
      },
      {
        "duration": 3,
        "start_time": "2022-09-02T14:45:05.779Z"
      },
      {
        "duration": 26,
        "start_time": "2022-09-02T14:45:06.552Z"
      },
      {
        "duration": 4,
        "start_time": "2022-09-02T14:45:10.199Z"
      },
      {
        "duration": 10,
        "start_time": "2022-09-02T14:45:11.024Z"
      },
      {
        "duration": 10,
        "start_time": "2022-09-02T14:45:31.244Z"
      },
      {
        "duration": 21,
        "start_time": "2022-09-02T14:45:37.769Z"
      },
      {
        "duration": 9,
        "start_time": "2022-09-02T14:45:50.548Z"
      },
      {
        "duration": 4,
        "start_time": "2022-09-02T14:45:53.674Z"
      },
      {
        "duration": 11,
        "start_time": "2022-09-02T14:45:56.005Z"
      },
      {
        "duration": 8,
        "start_time": "2022-09-02T14:46:00.956Z"
      },
      {
        "duration": 76,
        "start_time": "2022-09-02T14:46:02.188Z"
      },
      {
        "duration": 9,
        "start_time": "2022-09-02T14:46:33.616Z"
      },
      {
        "duration": 67,
        "start_time": "2022-09-02T14:46:37.783Z"
      },
      {
        "duration": 9,
        "start_time": "2022-09-02T14:46:43.276Z"
      },
      {
        "duration": 76,
        "start_time": "2022-09-02T14:46:46.389Z"
      },
      {
        "duration": 3,
        "start_time": "2022-09-02T14:47:12.725Z"
      },
      {
        "duration": 26,
        "start_time": "2022-09-02T14:47:14.167Z"
      },
      {
        "duration": 6,
        "start_time": "2022-09-02T14:47:16.708Z"
      },
      {
        "duration": 458,
        "start_time": "2022-09-02T14:47:48.307Z"
      },
      {
        "duration": 9,
        "start_time": "2022-09-02T14:47:49.637Z"
      },
      {
        "duration": 18,
        "start_time": "2022-09-02T14:47:50.399Z"
      },
      {
        "duration": 15,
        "start_time": "2022-09-02T14:47:51.364Z"
      },
      {
        "duration": 24,
        "start_time": "2022-09-02T14:47:53.034Z"
      },
      {
        "duration": 7,
        "start_time": "2022-09-02T14:47:54.251Z"
      },
      {
        "duration": 5,
        "start_time": "2022-09-02T14:47:55.232Z"
      },
      {
        "duration": 6,
        "start_time": "2022-09-02T14:47:55.729Z"
      },
      {
        "duration": 7,
        "start_time": "2022-09-02T14:47:56.973Z"
      },
      {
        "duration": 6,
        "start_time": "2022-09-02T14:47:58.030Z"
      },
      {
        "duration": 6,
        "start_time": "2022-09-02T14:47:58.838Z"
      },
      {
        "duration": 5,
        "start_time": "2022-09-02T14:48:00.206Z"
      },
      {
        "duration": 16,
        "start_time": "2022-09-02T14:48:00.885Z"
      },
      {
        "duration": 6,
        "start_time": "2022-09-02T14:48:01.880Z"
      },
      {
        "duration": 7,
        "start_time": "2022-09-02T14:48:02.568Z"
      },
      {
        "duration": 8,
        "start_time": "2022-09-02T14:48:03.564Z"
      },
      {
        "duration": 6,
        "start_time": "2022-09-02T14:48:04.110Z"
      },
      {
        "duration": 13,
        "start_time": "2022-09-02T14:48:05.267Z"
      },
      {
        "duration": 4,
        "start_time": "2022-09-02T14:48:07.286Z"
      },
      {
        "duration": 27,
        "start_time": "2022-09-02T14:48:08.826Z"
      },
      {
        "duration": 5,
        "start_time": "2022-09-02T14:48:09.627Z"
      },
      {
        "duration": 4,
        "start_time": "2022-09-02T14:48:11.896Z"
      },
      {
        "duration": 14,
        "start_time": "2022-09-02T14:48:12.726Z"
      },
      {
        "duration": 5,
        "start_time": "2022-09-02T14:48:14.191Z"
      },
      {
        "duration": 4,
        "start_time": "2022-09-02T14:48:14.708Z"
      },
      {
        "duration": 5,
        "start_time": "2022-09-02T14:48:15.898Z"
      },
      {
        "duration": 8,
        "start_time": "2022-09-02T14:48:16.966Z"
      },
      {
        "duration": 6,
        "start_time": "2022-09-02T14:48:19.292Z"
      },
      {
        "duration": 7,
        "start_time": "2022-09-02T14:48:20.893Z"
      },
      {
        "duration": 5,
        "start_time": "2022-09-02T14:48:21.697Z"
      },
      {
        "duration": 7,
        "start_time": "2022-09-02T14:48:22.176Z"
      },
      {
        "duration": 7,
        "start_time": "2022-09-02T14:48:23.420Z"
      },
      {
        "duration": 19,
        "start_time": "2022-09-02T14:48:26.143Z"
      },
      {
        "duration": 26,
        "start_time": "2022-09-02T14:48:26.693Z"
      },
      {
        "duration": 20,
        "start_time": "2022-09-02T14:48:28.783Z"
      },
      {
        "duration": 16,
        "start_time": "2022-09-02T14:48:29.564Z"
      },
      {
        "duration": 10,
        "start_time": "2022-09-02T14:48:34.083Z"
      },
      {
        "duration": 4,
        "start_time": "2022-09-02T14:48:34.771Z"
      },
      {
        "duration": 11,
        "start_time": "2022-09-02T14:48:35.412Z"
      },
      {
        "duration": 16,
        "start_time": "2022-09-02T14:48:36.145Z"
      },
      {
        "duration": 27,
        "start_time": "2022-09-02T14:48:39.182Z"
      },
      {
        "duration": 5,
        "start_time": "2022-09-02T14:48:39.635Z"
      },
      {
        "duration": 7,
        "start_time": "2022-09-02T14:48:41.852Z"
      },
      {
        "duration": 3,
        "start_time": "2022-09-02T14:48:43.075Z"
      },
      {
        "duration": 27,
        "start_time": "2022-09-02T14:48:44.384Z"
      },
      {
        "duration": 4,
        "start_time": "2022-09-02T14:48:53.588Z"
      },
      {
        "duration": 11,
        "start_time": "2022-09-02T14:48:56.664Z"
      },
      {
        "duration": 4,
        "start_time": "2022-09-02T14:48:59.064Z"
      },
      {
        "duration": 12,
        "start_time": "2022-09-02T14:49:01.478Z"
      },
      {
        "duration": 9,
        "start_time": "2022-09-02T14:49:03.361Z"
      },
      {
        "duration": 77,
        "start_time": "2022-09-02T14:49:03.912Z"
      },
      {
        "duration": 3,
        "start_time": "2022-09-02T14:49:06.505Z"
      },
      {
        "duration": 27,
        "start_time": "2022-09-02T14:49:15.135Z"
      },
      {
        "duration": 5,
        "start_time": "2022-09-02T14:49:34.939Z"
      },
      {
        "duration": 11,
        "start_time": "2022-09-02T14:49:52.083Z"
      },
      {
        "duration": 9,
        "start_time": "2022-09-02T14:50:03.642Z"
      },
      {
        "duration": 11,
        "start_time": "2022-09-02T14:50:09.642Z"
      },
      {
        "duration": 9,
        "start_time": "2022-09-02T14:50:33.691Z"
      },
      {
        "duration": 11,
        "start_time": "2022-09-02T14:50:59.090Z"
      },
      {
        "duration": 8,
        "start_time": "2022-09-02T15:19:37.164Z"
      },
      {
        "duration": 17,
        "start_time": "2022-09-02T15:19:40.039Z"
      },
      {
        "duration": 431,
        "start_time": "2022-09-02T15:23:29.637Z"
      },
      {
        "duration": 12,
        "start_time": "2022-09-02T15:24:21.330Z"
      },
      {
        "duration": 17,
        "start_time": "2022-09-02T15:24:22.982Z"
      },
      {
        "duration": 15,
        "start_time": "2022-09-02T15:24:24.586Z"
      },
      {
        "duration": 22,
        "start_time": "2022-09-02T15:24:25.701Z"
      },
      {
        "duration": 9,
        "start_time": "2022-09-02T15:24:26.758Z"
      },
      {
        "duration": 5,
        "start_time": "2022-09-02T15:24:27.806Z"
      },
      {
        "duration": 7,
        "start_time": "2022-09-02T15:24:28.603Z"
      },
      {
        "duration": 10,
        "start_time": "2022-09-02T15:24:29.823Z"
      },
      {
        "duration": 8,
        "start_time": "2022-09-02T15:24:30.781Z"
      },
      {
        "duration": 6,
        "start_time": "2022-09-02T15:24:31.590Z"
      },
      {
        "duration": 5,
        "start_time": "2022-09-02T15:24:33.041Z"
      },
      {
        "duration": 15,
        "start_time": "2022-09-02T15:24:34.015Z"
      },
      {
        "duration": 7,
        "start_time": "2022-09-02T15:24:36.806Z"
      },
      {
        "duration": 6,
        "start_time": "2022-09-02T15:24:37.750Z"
      },
      {
        "duration": 13,
        "start_time": "2022-09-02T15:24:38.963Z"
      },
      {
        "duration": 7,
        "start_time": "2022-09-02T15:24:39.839Z"
      },
      {
        "duration": 13,
        "start_time": "2022-09-02T15:24:41.077Z"
      },
      {
        "duration": 5,
        "start_time": "2022-09-02T15:24:42.832Z"
      },
      {
        "duration": 26,
        "start_time": "2022-09-02T15:24:44.270Z"
      },
      {
        "duration": 7,
        "start_time": "2022-09-02T15:24:58.879Z"
      },
      {
        "duration": 4,
        "start_time": "2022-09-02T15:24:59.741Z"
      },
      {
        "duration": 13,
        "start_time": "2022-09-02T15:25:00.577Z"
      },
      {
        "duration": 6,
        "start_time": "2022-09-02T15:25:01.784Z"
      },
      {
        "duration": 5,
        "start_time": "2022-09-02T15:25:02.924Z"
      },
      {
        "duration": 5,
        "start_time": "2022-09-02T15:25:04.267Z"
      },
      {
        "duration": 10,
        "start_time": "2022-09-02T15:25:05.215Z"
      },
      {
        "duration": 7,
        "start_time": "2022-09-02T15:25:29.493Z"
      },
      {
        "duration": 8,
        "start_time": "2022-09-02T15:25:31.754Z"
      },
      {
        "duration": 5,
        "start_time": "2022-09-02T15:25:32.868Z"
      },
      {
        "duration": 7,
        "start_time": "2022-09-02T15:25:33.889Z"
      },
      {
        "duration": 8,
        "start_time": "2022-09-02T15:25:35.939Z"
      },
      {
        "duration": 27,
        "start_time": "2022-09-02T15:25:39.261Z"
      },
      {
        "duration": 25,
        "start_time": "2022-09-02T15:25:41.226Z"
      },
      {
        "duration": 18,
        "start_time": "2022-09-02T15:25:42.040Z"
      },
      {
        "duration": 15,
        "start_time": "2022-09-02T15:25:42.647Z"
      },
      {
        "duration": 10,
        "start_time": "2022-09-02T15:25:48.634Z"
      },
      {
        "duration": 4,
        "start_time": "2022-09-02T15:25:50.678Z"
      },
      {
        "duration": 13,
        "start_time": "2022-09-02T15:25:51.998Z"
      },
      {
        "duration": 17,
        "start_time": "2022-09-02T15:25:52.839Z"
      },
      {
        "duration": 28,
        "start_time": "2022-09-02T15:25:55.086Z"
      },
      {
        "duration": 5,
        "start_time": "2022-09-02T15:25:55.786Z"
      },
      {
        "duration": 6,
        "start_time": "2022-09-02T15:25:57.701Z"
      },
      {
        "duration": 3,
        "start_time": "2022-09-02T15:25:59.319Z"
      },
      {
        "duration": 25,
        "start_time": "2022-09-02T15:26:18.127Z"
      },
      {
        "duration": 4,
        "start_time": "2022-09-02T15:26:20.743Z"
      },
      {
        "duration": 12,
        "start_time": "2022-09-02T15:26:27.359Z"
      },
      {
        "duration": 5,
        "start_time": "2022-09-02T15:26:30.062Z"
      },
      {
        "duration": 12,
        "start_time": "2022-09-02T15:26:34.820Z"
      },
      {
        "duration": 10,
        "start_time": "2022-09-02T15:26:36.663Z"
      },
      {
        "duration": 81,
        "start_time": "2022-09-02T15:26:38.795Z"
      },
      {
        "duration": 4,
        "start_time": "2022-09-02T15:26:41.036Z"
      },
      {
        "duration": 26,
        "start_time": "2022-09-02T15:26:42.171Z"
      },
      {
        "duration": 5,
        "start_time": "2022-09-02T15:26:43.288Z"
      },
      {
        "duration": 12,
        "start_time": "2022-09-02T15:26:55.301Z"
      },
      {
        "duration": 6,
        "start_time": "2022-09-02T15:26:58.494Z"
      },
      {
        "duration": 12,
        "start_time": "2022-09-02T15:27:00.127Z"
      },
      {
        "duration": 456,
        "start_time": "2022-09-02T15:30:43.918Z"
      },
      {
        "duration": 9,
        "start_time": "2022-09-02T15:30:45.076Z"
      },
      {
        "duration": 480,
        "start_time": "2022-09-02T15:34:01.336Z"
      },
      {
        "duration": 9,
        "start_time": "2022-09-02T15:34:02.737Z"
      },
      {
        "duration": 18,
        "start_time": "2022-09-02T15:34:03.647Z"
      },
      {
        "duration": 17,
        "start_time": "2022-09-02T15:34:04.765Z"
      },
      {
        "duration": 25,
        "start_time": "2022-09-02T15:34:05.912Z"
      },
      {
        "duration": 7,
        "start_time": "2022-09-02T15:34:06.905Z"
      },
      {
        "duration": 4,
        "start_time": "2022-09-02T15:34:08.032Z"
      },
      {
        "duration": 7,
        "start_time": "2022-09-02T15:34:09.008Z"
      },
      {
        "duration": 7,
        "start_time": "2022-09-02T15:34:10.046Z"
      },
      {
        "duration": 6,
        "start_time": "2022-09-02T15:34:11.135Z"
      },
      {
        "duration": 7,
        "start_time": "2022-09-02T15:34:12.132Z"
      },
      {
        "duration": 5,
        "start_time": "2022-09-02T15:34:23.892Z"
      },
      {
        "duration": 20,
        "start_time": "2022-09-02T15:34:24.793Z"
      },
      {
        "duration": 7,
        "start_time": "2022-09-02T15:34:25.445Z"
      },
      {
        "duration": 6,
        "start_time": "2022-09-02T15:34:26.352Z"
      },
      {
        "duration": 7,
        "start_time": "2022-09-02T15:34:27.380Z"
      },
      {
        "duration": 6,
        "start_time": "2022-09-02T15:34:28.313Z"
      },
      {
        "duration": 13,
        "start_time": "2022-09-02T15:34:29.295Z"
      },
      {
        "duration": 5,
        "start_time": "2022-09-02T15:34:31.700Z"
      },
      {
        "duration": 26,
        "start_time": "2022-09-02T15:34:32.589Z"
      },
      {
        "duration": 5,
        "start_time": "2022-09-02T15:34:34.738Z"
      },
      {
        "duration": 3,
        "start_time": "2022-09-02T15:34:35.825Z"
      },
      {
        "duration": 13,
        "start_time": "2022-09-02T15:34:36.962Z"
      },
      {
        "duration": 7,
        "start_time": "2022-09-02T15:34:37.973Z"
      },
      {
        "duration": 4,
        "start_time": "2022-09-02T15:34:38.479Z"
      },
      {
        "duration": 5,
        "start_time": "2022-09-02T15:34:39.859Z"
      },
      {
        "duration": 9,
        "start_time": "2022-09-02T15:34:40.985Z"
      },
      {
        "duration": 8,
        "start_time": "2022-09-02T15:34:42.150Z"
      },
      {
        "duration": 3,
        "start_time": "2022-09-02T15:34:43.009Z"
      },
      {
        "duration": 10,
        "start_time": "2022-09-02T15:34:46.689Z"
      },
      {
        "duration": 5,
        "start_time": "2022-09-02T15:34:47.689Z"
      },
      {
        "duration": 7,
        "start_time": "2022-09-02T15:34:48.244Z"
      },
      {
        "duration": 7,
        "start_time": "2022-09-02T15:34:51.038Z"
      },
      {
        "duration": 20,
        "start_time": "2022-09-02T15:34:54.224Z"
      },
      {
        "duration": 26,
        "start_time": "2022-09-02T15:34:54.997Z"
      },
      {
        "duration": 19,
        "start_time": "2022-09-02T15:34:56.890Z"
      },
      {
        "duration": 15,
        "start_time": "2022-09-02T15:34:57.646Z"
      },
      {
        "duration": 11,
        "start_time": "2022-09-02T15:35:01.044Z"
      },
      {
        "duration": 4,
        "start_time": "2022-09-02T15:35:02.258Z"
      },
      {
        "duration": 11,
        "start_time": "2022-09-02T15:35:02.912Z"
      },
      {
        "duration": 17,
        "start_time": "2022-09-02T15:35:03.710Z"
      },
      {
        "duration": 27,
        "start_time": "2022-09-02T15:35:05.298Z"
      },
      {
        "duration": 5,
        "start_time": "2022-09-02T15:35:05.875Z"
      },
      {
        "duration": 9,
        "start_time": "2022-09-02T15:35:07.440Z"
      },
      {
        "duration": 3,
        "start_time": "2022-09-02T15:35:08.933Z"
      },
      {
        "duration": 26,
        "start_time": "2022-09-02T15:35:10.541Z"
      },
      {
        "duration": 4,
        "start_time": "2022-09-02T15:35:13.077Z"
      },
      {
        "duration": 10,
        "start_time": "2022-09-02T15:35:13.662Z"
      },
      {
        "duration": 6,
        "start_time": "2022-09-02T15:35:15.233Z"
      },
      {
        "duration": 14,
        "start_time": "2022-09-02T15:35:17.477Z"
      },
      {
        "duration": 10,
        "start_time": "2022-09-02T15:35:19.613Z"
      },
      {
        "duration": 78,
        "start_time": "2022-09-02T15:35:23.774Z"
      },
      {
        "duration": 4,
        "start_time": "2022-09-02T15:35:34.686Z"
      },
      {
        "duration": 27,
        "start_time": "2022-09-02T15:35:38.518Z"
      },
      {
        "duration": 71,
        "start_time": "2022-09-02T15:36:55.358Z"
      },
      {
        "duration": 4,
        "start_time": "2022-09-02T15:36:57.713Z"
      },
      {
        "duration": 11,
        "start_time": "2022-09-02T15:37:04.289Z"
      },
      {
        "duration": 7,
        "start_time": "2022-09-02T15:37:24.516Z"
      },
      {
        "duration": 14,
        "start_time": "2022-09-02T15:37:26.392Z"
      },
      {
        "duration": 482,
        "start_time": "2022-09-02T16:03:03.410Z"
      },
      {
        "duration": 9,
        "start_time": "2022-09-02T16:03:04.728Z"
      },
      {
        "duration": 21,
        "start_time": "2022-09-02T16:03:05.388Z"
      },
      {
        "duration": 15,
        "start_time": "2022-09-02T16:03:06.966Z"
      },
      {
        "duration": 21,
        "start_time": "2022-09-02T16:03:08.128Z"
      },
      {
        "duration": 9,
        "start_time": "2022-09-02T16:03:09.106Z"
      },
      {
        "duration": 6,
        "start_time": "2022-09-02T16:03:10.223Z"
      },
      {
        "duration": 6,
        "start_time": "2022-09-02T16:03:10.650Z"
      },
      {
        "duration": 9,
        "start_time": "2022-09-02T16:03:12.277Z"
      },
      {
        "duration": 5,
        "start_time": "2022-09-02T16:03:13.153Z"
      },
      {
        "duration": 6,
        "start_time": "2022-09-02T16:03:13.966Z"
      },
      {
        "duration": 7,
        "start_time": "2022-09-02T16:03:16.002Z"
      },
      {
        "duration": 21,
        "start_time": "2022-09-02T16:03:17.995Z"
      },
      {
        "duration": 6,
        "start_time": "2022-09-02T16:03:18.930Z"
      },
      {
        "duration": 6,
        "start_time": "2022-09-02T16:03:21.428Z"
      },
      {
        "duration": 7,
        "start_time": "2022-09-02T16:03:23.073Z"
      },
      {
        "duration": 7,
        "start_time": "2022-09-02T16:03:23.837Z"
      },
      {
        "duration": 13,
        "start_time": "2022-09-02T16:03:25.632Z"
      },
      {
        "duration": 4,
        "start_time": "2022-09-02T16:03:27.799Z"
      },
      {
        "duration": 40,
        "start_time": "2022-09-02T16:03:28.508Z"
      },
      {
        "duration": 6,
        "start_time": "2022-09-02T16:03:30.532Z"
      },
      {
        "duration": 3,
        "start_time": "2022-09-02T16:03:31.857Z"
      },
      {
        "duration": 14,
        "start_time": "2022-09-02T16:03:32.883Z"
      },
      {
        "duration": 11,
        "start_time": "2022-09-02T16:03:34.393Z"
      },
      {
        "duration": 5,
        "start_time": "2022-09-02T16:03:37.024Z"
      },
      {
        "duration": 5,
        "start_time": "2022-09-02T16:03:38.341Z"
      },
      {
        "duration": 8,
        "start_time": "2022-09-02T16:03:40.582Z"
      },
      {
        "duration": 7,
        "start_time": "2022-09-02T16:03:42.781Z"
      },
      {
        "duration": 2,
        "start_time": "2022-09-02T16:03:44.114Z"
      },
      {
        "duration": 7,
        "start_time": "2022-09-02T16:03:48.308Z"
      },
      {
        "duration": 7,
        "start_time": "2022-09-02T16:03:49.222Z"
      },
      {
        "duration": 8,
        "start_time": "2022-09-02T16:03:49.984Z"
      },
      {
        "duration": 8,
        "start_time": "2022-09-02T16:03:52.785Z"
      },
      {
        "duration": 19,
        "start_time": "2022-09-02T16:03:56.870Z"
      },
      {
        "duration": 25,
        "start_time": "2022-09-02T16:03:57.664Z"
      },
      {
        "duration": 18,
        "start_time": "2022-09-02T16:03:59.949Z"
      },
      {
        "duration": 15,
        "start_time": "2022-09-02T16:04:00.773Z"
      },
      {
        "duration": 10,
        "start_time": "2022-09-02T16:04:05.883Z"
      },
      {
        "duration": 4,
        "start_time": "2022-09-02T16:04:12.956Z"
      },
      {
        "duration": 12,
        "start_time": "2022-09-02T16:04:13.486Z"
      },
      {
        "duration": 16,
        "start_time": "2022-09-02T16:04:14.199Z"
      },
      {
        "duration": 27,
        "start_time": "2022-09-02T16:04:16.282Z"
      },
      {
        "duration": 5,
        "start_time": "2022-09-02T16:04:16.737Z"
      },
      {
        "duration": 6,
        "start_time": "2022-09-02T16:04:17.416Z"
      },
      {
        "duration": 4,
        "start_time": "2022-09-02T16:04:23.028Z"
      },
      {
        "duration": 27,
        "start_time": "2022-09-02T16:04:23.836Z"
      },
      {
        "duration": 8,
        "start_time": "2022-09-02T16:04:24.599Z"
      },
      {
        "duration": 10,
        "start_time": "2022-09-02T16:04:25.689Z"
      },
      {
        "duration": 4,
        "start_time": "2022-09-02T16:04:26.490Z"
      },
      {
        "duration": 10,
        "start_time": "2022-09-02T16:04:28.803Z"
      },
      {
        "duration": 9,
        "start_time": "2022-09-02T16:04:30.619Z"
      },
      {
        "duration": 77,
        "start_time": "2022-09-02T16:04:31.288Z"
      },
      {
        "duration": 6,
        "start_time": "2022-09-02T16:05:28.982Z"
      },
      {
        "duration": 6,
        "start_time": "2022-09-02T16:05:40.970Z"
      },
      {
        "duration": 4,
        "start_time": "2022-09-02T16:05:49.674Z"
      },
      {
        "duration": 27,
        "start_time": "2022-09-02T16:05:51.019Z"
      },
      {
        "duration": 5,
        "start_time": "2022-09-02T16:06:00.351Z"
      },
      {
        "duration": 12,
        "start_time": "2022-09-02T16:06:04.989Z"
      },
      {
        "duration": 8,
        "start_time": "2022-09-02T16:06:09.975Z"
      },
      {
        "duration": 16,
        "start_time": "2022-09-02T16:06:12.398Z"
      },
      {
        "duration": 482,
        "start_time": "2022-09-02T16:07:52.787Z"
      },
      {
        "duration": 9,
        "start_time": "2022-09-02T16:07:54.403Z"
      },
      {
        "duration": 17,
        "start_time": "2022-09-02T16:07:55.181Z"
      },
      {
        "duration": 17,
        "start_time": "2022-09-02T16:07:56.686Z"
      },
      {
        "duration": 21,
        "start_time": "2022-09-02T16:07:57.909Z"
      },
      {
        "duration": 8,
        "start_time": "2022-09-02T16:07:58.719Z"
      },
      {
        "duration": 5,
        "start_time": "2022-09-02T16:07:59.592Z"
      },
      {
        "duration": 6,
        "start_time": "2022-09-02T16:08:00.846Z"
      },
      {
        "duration": 10,
        "start_time": "2022-09-02T16:08:01.926Z"
      },
      {
        "duration": 7,
        "start_time": "2022-09-02T16:08:02.843Z"
      },
      {
        "duration": 6,
        "start_time": "2022-09-02T16:08:03.718Z"
      },
      {
        "duration": 5,
        "start_time": "2022-09-02T16:08:05.095Z"
      },
      {
        "duration": 18,
        "start_time": "2022-09-02T16:08:06.773Z"
      },
      {
        "duration": 5,
        "start_time": "2022-09-02T16:08:07.241Z"
      },
      {
        "duration": 7,
        "start_time": "2022-09-02T16:08:07.918Z"
      },
      {
        "duration": 8,
        "start_time": "2022-09-02T16:08:09.127Z"
      },
      {
        "duration": 8,
        "start_time": "2022-09-02T16:08:09.606Z"
      },
      {
        "duration": 13,
        "start_time": "2022-09-02T16:08:11.189Z"
      },
      {
        "duration": 4,
        "start_time": "2022-09-02T16:08:11.825Z"
      },
      {
        "duration": 25,
        "start_time": "2022-09-02T16:08:13.056Z"
      },
      {
        "duration": 5,
        "start_time": "2022-09-02T16:08:13.554Z"
      },
      {
        "duration": 4,
        "start_time": "2022-09-02T16:08:14.928Z"
      },
      {
        "duration": 15,
        "start_time": "2022-09-02T16:08:15.730Z"
      },
      {
        "duration": 7,
        "start_time": "2022-09-02T16:08:16.944Z"
      },
      {
        "duration": 5,
        "start_time": "2022-09-02T16:08:17.405Z"
      },
      {
        "duration": 5,
        "start_time": "2022-09-02T16:08:18.751Z"
      },
      {
        "duration": 9,
        "start_time": "2022-09-02T16:08:19.506Z"
      },
      {
        "duration": 7,
        "start_time": "2022-09-02T16:08:20.712Z"
      },
      {
        "duration": 7,
        "start_time": "2022-09-02T16:08:22.349Z"
      },
      {
        "duration": 5,
        "start_time": "2022-09-02T16:08:23.169Z"
      },
      {
        "duration": 8,
        "start_time": "2022-09-02T16:08:23.588Z"
      },
      {
        "duration": 8,
        "start_time": "2022-09-02T16:08:24.883Z"
      },
      {
        "duration": 22,
        "start_time": "2022-09-02T16:08:27.956Z"
      },
      {
        "duration": 34,
        "start_time": "2022-09-02T16:08:28.458Z"
      },
      {
        "duration": 26,
        "start_time": "2022-09-02T16:08:30.722Z"
      },
      {
        "duration": 23,
        "start_time": "2022-09-02T16:08:31.239Z"
      },
      {
        "duration": 19,
        "start_time": "2022-09-02T16:08:35.475Z"
      },
      {
        "duration": 4,
        "start_time": "2022-09-02T16:08:35.970Z"
      },
      {
        "duration": 11,
        "start_time": "2022-09-02T16:08:36.376Z"
      },
      {
        "duration": 21,
        "start_time": "2022-09-02T16:08:37.513Z"
      },
      {
        "duration": 37,
        "start_time": "2022-09-02T16:08:38.979Z"
      },
      {
        "duration": 5,
        "start_time": "2022-09-02T16:08:39.393Z"
      },
      {
        "duration": 6,
        "start_time": "2022-09-02T16:08:40.216Z"
      },
      {
        "duration": 3,
        "start_time": "2022-09-02T16:08:42.266Z"
      },
      {
        "duration": 23,
        "start_time": "2022-09-02T16:08:42.729Z"
      },
      {
        "duration": 4,
        "start_time": "2022-09-02T16:08:44.490Z"
      },
      {
        "duration": 10,
        "start_time": "2022-09-02T16:08:46.525Z"
      },
      {
        "duration": 5,
        "start_time": "2022-09-02T16:08:50.208Z"
      },
      {
        "duration": 11,
        "start_time": "2022-09-02T16:08:50.972Z"
      },
      {
        "duration": 10,
        "start_time": "2022-09-02T16:08:52.878Z"
      },
      {
        "duration": 78,
        "start_time": "2022-09-02T16:08:53.418Z"
      },
      {
        "duration": 5,
        "start_time": "2022-09-02T16:08:57.389Z"
      },
      {
        "duration": 7,
        "start_time": "2022-09-02T16:08:58.794Z"
      },
      {
        "duration": 28,
        "start_time": "2022-09-02T16:09:00.726Z"
      },
      {
        "duration": 6,
        "start_time": "2022-09-02T16:09:05.030Z"
      },
      {
        "duration": 12,
        "start_time": "2022-09-02T16:09:07.217Z"
      },
      {
        "duration": 7,
        "start_time": "2022-09-02T16:09:08.316Z"
      },
      {
        "duration": 13,
        "start_time": "2022-09-02T16:09:10.162Z"
      },
      {
        "duration": 573,
        "start_time": "2022-09-05T10:34:33.263Z"
      },
      {
        "duration": 9,
        "start_time": "2022-09-05T10:34:35.080Z"
      },
      {
        "duration": 17,
        "start_time": "2022-09-05T10:34:56.176Z"
      },
      {
        "duration": 16,
        "start_time": "2022-09-05T10:34:57.523Z"
      },
      {
        "duration": 29,
        "start_time": "2022-09-05T10:36:23.894Z"
      },
      {
        "duration": 7,
        "start_time": "2022-09-05T10:39:28.627Z"
      },
      {
        "duration": 7,
        "start_time": "2022-09-05T10:41:05.332Z"
      },
      {
        "duration": 4,
        "start_time": "2022-09-05T10:41:12.138Z"
      },
      {
        "duration": 5,
        "start_time": "2022-09-05T10:41:13.044Z"
      },
      {
        "duration": 7,
        "start_time": "2022-09-05T10:41:14.668Z"
      },
      {
        "duration": 7,
        "start_time": "2022-09-05T10:41:16.244Z"
      },
      {
        "duration": 6,
        "start_time": "2022-09-05T10:41:18.325Z"
      },
      {
        "duration": 6,
        "start_time": "2022-09-05T10:41:20.128Z"
      },
      {
        "duration": 20,
        "start_time": "2022-09-05T10:41:23.517Z"
      },
      {
        "duration": 6,
        "start_time": "2022-09-05T10:41:24.860Z"
      },
      {
        "duration": 5,
        "start_time": "2022-09-05T10:42:04.759Z"
      },
      {
        "duration": 8,
        "start_time": "2022-09-05T10:42:07.143Z"
      },
      {
        "duration": 6,
        "start_time": "2022-09-05T10:42:08.107Z"
      },
      {
        "duration": 12,
        "start_time": "2022-09-05T10:42:28.796Z"
      },
      {
        "duration": 13,
        "start_time": "2022-09-05T10:44:50.639Z"
      },
      {
        "duration": 13,
        "start_time": "2022-09-05T10:47:40.704Z"
      },
      {
        "duration": 16,
        "start_time": "2022-09-05T10:48:17.089Z"
      },
      {
        "duration": 15,
        "start_time": "2022-09-05T10:48:36.393Z"
      },
      {
        "duration": 8,
        "start_time": "2022-09-05T10:48:50.598Z"
      },
      {
        "duration": 13,
        "start_time": "2022-09-05T10:50:11.325Z"
      },
      {
        "duration": 384,
        "start_time": "2022-09-05T10:51:20.852Z"
      },
      {
        "duration": 449,
        "start_time": "2022-09-05T10:53:24.695Z"
      },
      {
        "duration": 7,
        "start_time": "2022-09-05T10:54:04.907Z"
      },
      {
        "duration": 15,
        "start_time": "2022-09-05T10:54:54.929Z"
      },
      {
        "duration": 17,
        "start_time": "2022-09-05T10:55:30.265Z"
      },
      {
        "duration": 13,
        "start_time": "2022-09-05T10:56:25.217Z"
      },
      {
        "duration": 16,
        "start_time": "2022-09-05T10:56:41.475Z"
      },
      {
        "duration": 1004,
        "start_time": "2022-09-05T10:57:06.103Z"
      },
      {
        "duration": 16,
        "start_time": "2022-09-05T10:57:16.832Z"
      },
      {
        "duration": 1576,
        "start_time": "2022-09-05T11:00:55.772Z"
      },
      {
        "duration": 18,
        "start_time": "2022-09-05T11:01:05.739Z"
      },
      {
        "duration": 5,
        "start_time": "2022-09-05T11:01:10.173Z"
      },
      {
        "duration": 23,
        "start_time": "2022-09-05T11:01:11.200Z"
      },
      {
        "duration": 7,
        "start_time": "2022-09-05T11:01:16.887Z"
      },
      {
        "duration": 4,
        "start_time": "2022-09-05T11:01:17.819Z"
      },
      {
        "duration": 484,
        "start_time": "2022-09-05T13:29:04.539Z"
      },
      {
        "duration": 9,
        "start_time": "2022-09-05T13:29:05.026Z"
      },
      {
        "duration": 16,
        "start_time": "2022-09-05T13:29:06.515Z"
      },
      {
        "duration": 16,
        "start_time": "2022-09-05T13:29:08.053Z"
      },
      {
        "duration": 22,
        "start_time": "2022-09-05T13:29:12.821Z"
      },
      {
        "duration": 7,
        "start_time": "2022-09-05T13:29:14.257Z"
      },
      {
        "duration": 5,
        "start_time": "2022-09-05T13:29:18.851Z"
      },
      {
        "duration": 6,
        "start_time": "2022-09-05T13:29:19.903Z"
      },
      {
        "duration": 7,
        "start_time": "2022-09-05T13:29:22.306Z"
      },
      {
        "duration": 7,
        "start_time": "2022-09-05T13:29:36.123Z"
      },
      {
        "duration": 7,
        "start_time": "2022-09-05T13:29:37.691Z"
      },
      {
        "duration": 6,
        "start_time": "2022-09-05T13:30:05.083Z"
      },
      {
        "duration": 17,
        "start_time": "2022-09-05T13:30:05.337Z"
      },
      {
        "duration": 5,
        "start_time": "2022-09-05T13:30:06.919Z"
      },
      {
        "duration": 6,
        "start_time": "2022-09-05T13:30:08.079Z"
      },
      {
        "duration": 9,
        "start_time": "2022-09-05T13:30:09.506Z"
      },
      {
        "duration": 6,
        "start_time": "2022-09-05T13:30:10.759Z"
      },
      {
        "duration": 14,
        "start_time": "2022-09-05T13:32:10.842Z"
      },
      {
        "duration": 11,
        "start_time": "2022-09-05T13:32:35.525Z"
      },
      {
        "duration": 17,
        "start_time": "2022-09-05T13:32:57.942Z"
      },
      {
        "duration": 4,
        "start_time": "2022-09-05T13:33:22.315Z"
      },
      {
        "duration": 13,
        "start_time": "2022-09-05T13:33:23.442Z"
      },
      {
        "duration": 7,
        "start_time": "2022-09-05T13:33:35.052Z"
      },
      {
        "duration": 5,
        "start_time": "2022-09-05T13:33:40.172Z"
      },
      {
        "duration": 6,
        "start_time": "2022-09-05T13:33:41.561Z"
      },
      {
        "duration": 8,
        "start_time": "2022-09-05T13:33:42.718Z"
      },
      {
        "duration": 16,
        "start_time": "2022-09-05T13:34:22.729Z"
      },
      {
        "duration": 15,
        "start_time": "2022-09-05T13:34:32.164Z"
      },
      {
        "duration": 453,
        "start_time": "2022-09-05T13:37:51.254Z"
      },
      {
        "duration": 9,
        "start_time": "2022-09-05T13:37:52.410Z"
      },
      {
        "duration": 17,
        "start_time": "2022-09-05T13:37:52.817Z"
      },
      {
        "duration": 17,
        "start_time": "2022-09-05T13:37:54.154Z"
      },
      {
        "duration": 21,
        "start_time": "2022-09-05T13:37:55.181Z"
      },
      {
        "duration": 7,
        "start_time": "2022-09-05T13:37:56.194Z"
      },
      {
        "duration": 6,
        "start_time": "2022-09-05T13:37:57.331Z"
      },
      {
        "duration": 7,
        "start_time": "2022-09-05T13:37:57.755Z"
      },
      {
        "duration": 8,
        "start_time": "2022-09-05T13:37:59.702Z"
      },
      {
        "duration": 6,
        "start_time": "2022-09-05T13:38:04.383Z"
      },
      {
        "duration": 6,
        "start_time": "2022-09-05T13:38:05.798Z"
      },
      {
        "duration": 5,
        "start_time": "2022-09-05T13:38:37.753Z"
      },
      {
        "duration": 19,
        "start_time": "2022-09-05T13:38:38.356Z"
      },
      {
        "duration": 5,
        "start_time": "2022-09-05T13:38:39.474Z"
      },
      {
        "duration": 6,
        "start_time": "2022-09-05T13:38:41.105Z"
      },
      {
        "duration": 9,
        "start_time": "2022-09-05T13:38:47.015Z"
      },
      {
        "duration": 6,
        "start_time": "2022-09-05T13:38:49.298Z"
      },
      {
        "duration": 18,
        "start_time": "2022-09-05T13:38:51.571Z"
      },
      {
        "duration": 3,
        "start_time": "2022-09-05T13:38:54.810Z"
      },
      {
        "duration": 23,
        "start_time": "2022-09-05T13:38:55.967Z"
      },
      {
        "duration": 7,
        "start_time": "2022-09-05T13:39:01.090Z"
      },
      {
        "duration": 11,
        "start_time": "2022-09-05T13:39:40.576Z"
      },
      {
        "duration": 12,
        "start_time": "2022-09-05T13:39:57.791Z"
      },
      {
        "duration": 12,
        "start_time": "2022-09-05T13:40:08.333Z"
      },
      {
        "duration": 17,
        "start_time": "2022-09-05T13:40:09.926Z"
      },
      {
        "duration": 4,
        "start_time": "2022-09-05T13:40:15.283Z"
      },
      {
        "duration": 14,
        "start_time": "2022-09-05T13:40:16.538Z"
      },
      {
        "duration": 6,
        "start_time": "2022-09-05T13:40:23.402Z"
      },
      {
        "duration": 6,
        "start_time": "2022-09-05T13:41:22.025Z"
      },
      {
        "duration": 951,
        "start_time": "2022-09-05T13:42:04.751Z"
      },
      {
        "duration": 17,
        "start_time": "2022-09-05T13:42:23.744Z"
      },
      {
        "duration": 5,
        "start_time": "2022-09-05T13:42:28.587Z"
      },
      {
        "duration": 4,
        "start_time": "2022-09-05T13:42:50.553Z"
      },
      {
        "duration": 6,
        "start_time": "2022-09-05T13:42:58.811Z"
      },
      {
        "duration": 9,
        "start_time": "2022-09-05T13:42:59.665Z"
      },
      {
        "duration": 8,
        "start_time": "2022-09-05T13:43:05.215Z"
      },
      {
        "duration": 7,
        "start_time": "2022-09-05T13:43:20.872Z"
      },
      {
        "duration": 7,
        "start_time": "2022-09-05T13:43:57.038Z"
      },
      {
        "duration": 8,
        "start_time": "2022-09-05T13:43:58.225Z"
      },
      {
        "duration": 7,
        "start_time": "2022-09-05T13:44:02.060Z"
      },
      {
        "duration": 20,
        "start_time": "2022-09-05T13:44:18.503Z"
      },
      {
        "duration": 26,
        "start_time": "2022-09-05T13:44:20.206Z"
      },
      {
        "duration": 18,
        "start_time": "2022-09-05T13:44:21.755Z"
      },
      {
        "duration": 16,
        "start_time": "2022-09-05T13:44:22.703Z"
      },
      {
        "duration": 11,
        "start_time": "2022-09-05T13:44:30.804Z"
      },
      {
        "duration": 4,
        "start_time": "2022-09-05T13:44:31.421Z"
      },
      {
        "duration": 12,
        "start_time": "2022-09-05T13:44:33.143Z"
      },
      {
        "duration": 17,
        "start_time": "2022-09-05T13:44:33.522Z"
      },
      {
        "duration": 26,
        "start_time": "2022-09-05T13:44:36.662Z"
      },
      {
        "duration": 5,
        "start_time": "2022-09-05T13:44:36.690Z"
      },
      {
        "duration": 6,
        "start_time": "2022-09-05T13:44:39.673Z"
      },
      {
        "duration": 4,
        "start_time": "2022-09-05T13:44:42.194Z"
      },
      {
        "duration": 26,
        "start_time": "2022-09-05T13:44:42.812Z"
      },
      {
        "duration": 4,
        "start_time": "2022-09-05T13:44:46.331Z"
      },
      {
        "duration": 11,
        "start_time": "2022-09-05T13:44:47.048Z"
      },
      {
        "duration": 5,
        "start_time": "2022-09-05T13:44:49.943Z"
      },
      {
        "duration": 14,
        "start_time": "2022-09-05T13:44:51.161Z"
      },
      {
        "duration": 11,
        "start_time": "2022-09-05T13:45:22.630Z"
      },
      {
        "duration": 85,
        "start_time": "2022-09-05T13:45:23.157Z"
      },
      {
        "duration": 6,
        "start_time": "2022-09-05T13:45:24.444Z"
      },
      {
        "duration": 7,
        "start_time": "2022-09-05T13:45:25.062Z"
      },
      {
        "duration": 35,
        "start_time": "2022-09-05T13:45:27.278Z"
      },
      {
        "duration": 5,
        "start_time": "2022-09-05T13:45:27.861Z"
      },
      {
        "duration": 11,
        "start_time": "2022-09-05T13:45:29.259Z"
      },
      {
        "duration": 7,
        "start_time": "2022-09-05T13:45:30.492Z"
      },
      {
        "duration": 12,
        "start_time": "2022-09-05T13:45:34.005Z"
      },
      {
        "duration": 479,
        "start_time": "2022-09-05T14:21:02.028Z"
      },
      {
        "duration": 9,
        "start_time": "2022-09-05T14:21:12.310Z"
      },
      {
        "duration": 17,
        "start_time": "2022-09-05T14:21:12.765Z"
      },
      {
        "duration": 17,
        "start_time": "2022-09-05T14:21:14.395Z"
      },
      {
        "duration": 24,
        "start_time": "2022-09-05T14:21:15.456Z"
      },
      {
        "duration": 7,
        "start_time": "2022-09-05T14:21:16.175Z"
      },
      {
        "duration": 6,
        "start_time": "2022-09-05T14:21:17.263Z"
      },
      {
        "duration": 6,
        "start_time": "2022-09-05T14:21:17.930Z"
      },
      {
        "duration": 8,
        "start_time": "2022-09-05T14:21:19.414Z"
      },
      {
        "duration": 7,
        "start_time": "2022-09-05T14:21:20.540Z"
      },
      {
        "duration": 6,
        "start_time": "2022-09-05T14:21:22.263Z"
      },
      {
        "duration": 5,
        "start_time": "2022-09-05T14:21:23.731Z"
      },
      {
        "duration": 19,
        "start_time": "2022-09-05T14:21:24.217Z"
      },
      {
        "duration": 6,
        "start_time": "2022-09-05T14:21:25.064Z"
      },
      {
        "duration": 6,
        "start_time": "2022-09-05T14:21:26.527Z"
      },
      {
        "duration": 8,
        "start_time": "2022-09-05T14:21:26.918Z"
      },
      {
        "duration": 7,
        "start_time": "2022-09-05T14:21:38.233Z"
      },
      {
        "duration": 18,
        "start_time": "2022-09-05T14:21:38.916Z"
      },
      {
        "duration": 18,
        "start_time": "2022-09-05T14:21:40.160Z"
      },
      {
        "duration": 5,
        "start_time": "2022-09-05T14:21:43.182Z"
      },
      {
        "duration": 15,
        "start_time": "2022-09-05T14:21:43.598Z"
      },
      {
        "duration": 7,
        "start_time": "2022-09-05T14:21:44.900Z"
      },
      {
        "duration": 4,
        "start_time": "2022-09-05T14:21:45.308Z"
      },
      {
        "duration": 5,
        "start_time": "2022-09-05T14:21:46.363Z"
      },
      {
        "duration": 9,
        "start_time": "2022-09-05T14:21:46.727Z"
      },
      {
        "duration": 8,
        "start_time": "2022-09-05T14:21:47.660Z"
      },
      {
        "duration": 3,
        "start_time": "2022-09-05T14:21:48.055Z"
      },
      {
        "duration": 8,
        "start_time": "2022-09-05T14:21:50.976Z"
      },
      {
        "duration": 6,
        "start_time": "2022-09-05T14:21:51.387Z"
      },
      {
        "duration": 8,
        "start_time": "2022-09-05T14:21:52.526Z"
      },
      {
        "duration": 8,
        "start_time": "2022-09-05T14:21:53.226Z"
      },
      {
        "duration": 20,
        "start_time": "2022-09-05T14:21:55.344Z"
      },
      {
        "duration": 22,
        "start_time": "2022-09-05T14:21:55.704Z"
      },
      {
        "duration": 22,
        "start_time": "2022-09-05T14:21:56.516Z"
      },
      {
        "duration": 18,
        "start_time": "2022-09-05T14:22:00.018Z"
      },
      {
        "duration": 11,
        "start_time": "2022-09-05T14:22:02.710Z"
      },
      {
        "duration": 4,
        "start_time": "2022-09-05T14:22:03.555Z"
      },
      {
        "duration": 12,
        "start_time": "2022-09-05T14:22:03.958Z"
      },
      {
        "duration": 17,
        "start_time": "2022-09-05T14:22:04.585Z"
      },
      {
        "duration": 28,
        "start_time": "2022-09-05T14:22:06.206Z"
      },
      {
        "duration": 5,
        "start_time": "2022-09-05T14:22:06.623Z"
      },
      {
        "duration": 6,
        "start_time": "2022-09-05T14:22:07.538Z"
      },
      {
        "duration": 4,
        "start_time": "2022-09-05T14:22:08.820Z"
      },
      {
        "duration": 25,
        "start_time": "2022-09-05T14:22:09.669Z"
      },
      {
        "duration": 4,
        "start_time": "2022-09-05T14:22:12.298Z"
      },
      {
        "duration": 13,
        "start_time": "2022-09-05T14:22:12.678Z"
      },
      {
        "duration": 5,
        "start_time": "2022-09-05T14:22:14.007Z"
      },
      {
        "duration": 12,
        "start_time": "2022-09-05T14:22:18.149Z"
      },
      {
        "duration": 10,
        "start_time": "2022-09-05T14:24:15.008Z"
      },
      {
        "duration": 77,
        "start_time": "2022-09-05T14:24:15.507Z"
      },
      {
        "duration": 3,
        "start_time": "2022-09-05T14:27:13.903Z"
      },
      {
        "duration": 57,
        "start_time": "2022-09-05T14:27:26.513Z"
      },
      {
        "duration": 4,
        "start_time": "2022-09-05T14:31:29.368Z"
      },
      {
        "duration": 281,
        "start_time": "2022-09-05T14:31:31.253Z"
      },
      {
        "duration": 488,
        "start_time": "2022-09-05T14:31:50.972Z"
      },
      {
        "duration": 9,
        "start_time": "2022-09-05T14:31:51.462Z"
      },
      {
        "duration": 23,
        "start_time": "2022-09-05T14:31:51.473Z"
      },
      {
        "duration": 16,
        "start_time": "2022-09-05T14:31:52.208Z"
      },
      {
        "duration": 30,
        "start_time": "2022-09-05T14:31:54.102Z"
      },
      {
        "duration": 8,
        "start_time": "2022-09-05T14:31:55.058Z"
      },
      {
        "duration": 5,
        "start_time": "2022-09-05T14:31:56.342Z"
      },
      {
        "duration": 6,
        "start_time": "2022-09-05T14:31:56.670Z"
      },
      {
        "duration": 7,
        "start_time": "2022-09-05T14:31:57.737Z"
      },
      {
        "duration": 6,
        "start_time": "2022-09-05T14:31:58.635Z"
      },
      {
        "duration": 6,
        "start_time": "2022-09-05T14:31:59.738Z"
      },
      {
        "duration": 5,
        "start_time": "2022-09-05T14:32:02.443Z"
      },
      {
        "duration": 17,
        "start_time": "2022-09-05T14:32:02.987Z"
      },
      {
        "duration": 6,
        "start_time": "2022-09-05T14:32:03.669Z"
      },
      {
        "duration": 6,
        "start_time": "2022-09-05T14:32:04.378Z"
      },
      {
        "duration": 8,
        "start_time": "2022-09-05T14:32:05.331Z"
      },
      {
        "duration": 7,
        "start_time": "2022-09-05T14:32:05.892Z"
      },
      {
        "duration": 14,
        "start_time": "2022-09-05T14:32:06.635Z"
      },
      {
        "duration": 17,
        "start_time": "2022-09-05T14:32:09.867Z"
      },
      {
        "duration": 4,
        "start_time": "2022-09-05T14:32:10.921Z"
      },
      {
        "duration": 15,
        "start_time": "2022-09-05T14:32:11.323Z"
      },
      {
        "duration": 6,
        "start_time": "2022-09-05T14:32:12.586Z"
      },
      {
        "duration": 4,
        "start_time": "2022-09-05T14:32:13.000Z"
      },
      {
        "duration": 6,
        "start_time": "2022-09-05T14:32:14.123Z"
      },
      {
        "duration": 8,
        "start_time": "2022-09-05T14:32:14.543Z"
      },
      {
        "duration": 9,
        "start_time": "2022-09-05T14:32:15.874Z"
      },
      {
        "duration": 8,
        "start_time": "2022-09-05T14:32:24.893Z"
      },
      {
        "duration": 6,
        "start_time": "2022-09-05T14:32:25.103Z"
      },
      {
        "duration": 7,
        "start_time": "2022-09-05T14:32:25.590Z"
      },
      {
        "duration": 7,
        "start_time": "2022-09-05T14:32:29.137Z"
      },
      {
        "duration": 19,
        "start_time": "2022-09-05T14:32:32.070Z"
      },
      {
        "duration": 21,
        "start_time": "2022-09-05T14:32:32.517Z"
      },
      {
        "duration": 17,
        "start_time": "2022-09-05T14:32:33.083Z"
      },
      {
        "duration": 17,
        "start_time": "2022-09-05T14:32:33.548Z"
      },
      {
        "duration": 14,
        "start_time": "2022-09-05T14:32:37.279Z"
      },
      {
        "duration": 4,
        "start_time": "2022-09-05T14:32:38.170Z"
      },
      {
        "duration": 13,
        "start_time": "2022-09-05T14:32:38.565Z"
      },
      {
        "duration": 17,
        "start_time": "2022-09-05T14:32:40.057Z"
      },
      {
        "duration": 26,
        "start_time": "2022-09-05T14:32:44.223Z"
      },
      {
        "duration": 4,
        "start_time": "2022-09-05T14:32:44.634Z"
      },
      {
        "duration": 7,
        "start_time": "2022-09-05T14:32:45.044Z"
      },
      {
        "duration": 4,
        "start_time": "2022-09-05T14:32:46.732Z"
      },
      {
        "duration": 26,
        "start_time": "2022-09-05T14:32:47.449Z"
      },
      {
        "duration": 4,
        "start_time": "2022-09-05T14:32:49.615Z"
      },
      {
        "duration": 12,
        "start_time": "2022-09-05T14:32:50.043Z"
      },
      {
        "duration": 4,
        "start_time": "2022-09-05T14:32:50.988Z"
      },
      {
        "duration": 13,
        "start_time": "2022-09-05T14:32:53.523Z"
      },
      {
        "duration": 9,
        "start_time": "2022-09-05T14:32:56.243Z"
      },
      {
        "duration": 75,
        "start_time": "2022-09-05T14:32:56.675Z"
      },
      {
        "duration": 3,
        "start_time": "2022-09-05T14:32:59.008Z"
      },
      {
        "duration": 54,
        "start_time": "2022-09-05T14:33:17.014Z"
      },
      {
        "duration": 6,
        "start_time": "2022-09-05T14:35:37.924Z"
      },
      {
        "duration": 69,
        "start_time": "2022-09-05T14:36:11.757Z"
      },
      {
        "duration": 5,
        "start_time": "2022-09-05T14:36:18.349Z"
      },
      {
        "duration": 4,
        "start_time": "2022-09-05T14:36:22.330Z"
      },
      {
        "duration": 345,
        "start_time": "2022-09-05T14:36:23.224Z"
      },
      {
        "duration": 556,
        "start_time": "2022-09-05T14:36:37.698Z"
      },
      {
        "duration": 11,
        "start_time": "2022-09-05T14:36:40.165Z"
      },
      {
        "duration": 24,
        "start_time": "2022-09-05T14:36:40.534Z"
      },
      {
        "duration": 19,
        "start_time": "2022-09-05T14:36:42.759Z"
      },
      {
        "duration": 24,
        "start_time": "2022-09-05T14:36:43.832Z"
      },
      {
        "duration": 9,
        "start_time": "2022-09-05T14:36:45.123Z"
      },
      {
        "duration": 4,
        "start_time": "2022-09-05T14:36:46.288Z"
      },
      {
        "duration": 8,
        "start_time": "2022-09-05T14:36:47.344Z"
      },
      {
        "duration": 10,
        "start_time": "2022-09-05T14:36:49.823Z"
      },
      {
        "duration": 8,
        "start_time": "2022-09-05T14:36:50.926Z"
      },
      {
        "duration": 7,
        "start_time": "2022-09-05T14:36:51.831Z"
      },
      {
        "duration": 5,
        "start_time": "2022-09-05T14:36:53.127Z"
      },
      {
        "duration": 17,
        "start_time": "2022-09-05T14:36:55.437Z"
      },
      {
        "duration": 6,
        "start_time": "2022-09-05T14:36:56.347Z"
      },
      {
        "duration": 7,
        "start_time": "2022-09-05T14:36:57.134Z"
      },
      {
        "duration": 8,
        "start_time": "2022-09-05T14:36:58.330Z"
      },
      {
        "duration": 17,
        "start_time": "2022-09-05T14:36:59.210Z"
      },
      {
        "duration": 30,
        "start_time": "2022-09-05T14:37:00.205Z"
      },
      {
        "duration": 19,
        "start_time": "2022-09-05T14:37:00.922Z"
      },
      {
        "duration": 5,
        "start_time": "2022-09-05T14:37:03.589Z"
      },
      {
        "duration": 20,
        "start_time": "2022-09-05T14:37:04.097Z"
      },
      {
        "duration": 8,
        "start_time": "2022-09-05T14:37:05.141Z"
      },
      {
        "duration": 5,
        "start_time": "2022-09-05T14:37:05.476Z"
      },
      {
        "duration": 4,
        "start_time": "2022-09-05T14:37:06.349Z"
      },
      {
        "duration": 10,
        "start_time": "2022-09-05T14:37:07.191Z"
      },
      {
        "duration": 8,
        "start_time": "2022-09-05T14:37:08.384Z"
      },
      {
        "duration": 3,
        "start_time": "2022-09-05T14:37:09.176Z"
      },
      {
        "duration": 3,
        "start_time": "2022-09-05T14:37:10.838Z"
      },
      {
        "duration": 9,
        "start_time": "2022-09-05T14:37:13.501Z"
      },
      {
        "duration": 6,
        "start_time": "2022-09-05T14:37:13.884Z"
      },
      {
        "duration": 8,
        "start_time": "2022-09-05T14:37:16.023Z"
      },
      {
        "duration": 8,
        "start_time": "2022-09-05T14:37:16.966Z"
      },
      {
        "duration": 21,
        "start_time": "2022-09-05T14:37:18.661Z"
      },
      {
        "duration": 32,
        "start_time": "2022-09-05T14:37:25.189Z"
      },
      {
        "duration": 18,
        "start_time": "2022-09-05T14:37:26.175Z"
      },
      {
        "duration": 16,
        "start_time": "2022-09-05T14:37:28.688Z"
      },
      {
        "duration": 11,
        "start_time": "2022-09-05T14:37:31.024Z"
      },
      {
        "duration": 3,
        "start_time": "2022-09-05T14:37:32.975Z"
      },
      {
        "duration": 20,
        "start_time": "2022-09-05T14:37:33.805Z"
      },
      {
        "duration": 17,
        "start_time": "2022-09-05T14:37:34.774Z"
      },
      {
        "duration": 27,
        "start_time": "2022-09-05T14:37:36.660Z"
      },
      {
        "duration": 5,
        "start_time": "2022-09-05T14:37:37.087Z"
      },
      {
        "duration": 6,
        "start_time": "2022-09-05T14:37:37.933Z"
      },
      {
        "duration": 4,
        "start_time": "2022-09-05T14:37:40.422Z"
      },
      {
        "duration": 34,
        "start_time": "2022-09-05T14:37:41.187Z"
      },
      {
        "duration": 4,
        "start_time": "2022-09-05T14:37:41.980Z"
      },
      {
        "duration": 25,
        "start_time": "2022-09-05T14:37:47.116Z"
      },
      {
        "duration": 5,
        "start_time": "2022-09-05T14:37:48.131Z"
      },
      {
        "duration": 13,
        "start_time": "2022-09-05T14:37:50.836Z"
      },
      {
        "duration": 6,
        "start_time": "2022-09-05T14:37:52.381Z"
      },
      {
        "duration": 5,
        "start_time": "2022-09-05T14:37:52.857Z"
      },
      {
        "duration": 3,
        "start_time": "2022-09-05T14:37:54.754Z"
      },
      {
        "duration": 81,
        "start_time": "2022-09-05T14:37:56.697Z"
      },
      {
        "duration": 12,
        "start_time": "2022-09-05T14:38:17.060Z"
      },
      {
        "duration": 6,
        "start_time": "2022-09-05T14:43:53.635Z"
      },
      {
        "duration": 5,
        "start_time": "2022-09-05T14:44:48.049Z"
      },
      {
        "duration": 4,
        "start_time": "2022-09-05T14:47:19.767Z"
      },
      {
        "duration": 11,
        "start_time": "2022-09-05T14:47:28.805Z"
      },
      {
        "duration": 10,
        "start_time": "2022-09-05T14:48:27.634Z"
      },
      {
        "duration": 8,
        "start_time": "2022-09-05T14:48:29.694Z"
      },
      {
        "duration": 7,
        "start_time": "2022-09-05T14:48:54.854Z"
      },
      {
        "duration": 5,
        "start_time": "2022-09-05T14:49:43.123Z"
      },
      {
        "duration": 530,
        "start_time": "2022-09-05T14:50:09.923Z"
      },
      {
        "duration": 10,
        "start_time": "2022-09-05T14:50:10.952Z"
      },
      {
        "duration": 18,
        "start_time": "2022-09-05T14:50:11.649Z"
      },
      {
        "duration": 17,
        "start_time": "2022-09-05T14:50:13.242Z"
      },
      {
        "duration": 22,
        "start_time": "2022-09-05T14:50:14.271Z"
      },
      {
        "duration": 8,
        "start_time": "2022-09-05T14:50:15.558Z"
      },
      {
        "duration": 5,
        "start_time": "2022-09-05T14:50:17.521Z"
      },
      {
        "duration": 6,
        "start_time": "2022-09-05T14:50:18.625Z"
      },
      {
        "duration": 8,
        "start_time": "2022-09-05T14:50:20.958Z"
      },
      {
        "duration": 6,
        "start_time": "2022-09-05T14:50:23.295Z"
      },
      {
        "duration": 8,
        "start_time": "2022-09-05T14:50:24.242Z"
      },
      {
        "duration": 5,
        "start_time": "2022-09-05T14:50:26.288Z"
      },
      {
        "duration": 16,
        "start_time": "2022-09-05T14:50:43.783Z"
      },
      {
        "duration": 6,
        "start_time": "2022-09-05T14:50:44.298Z"
      },
      {
        "duration": 5,
        "start_time": "2022-09-05T14:50:45.779Z"
      },
      {
        "duration": 39,
        "start_time": "2022-09-05T14:50:59.906Z"
      },
      {
        "duration": 8,
        "start_time": "2022-09-05T14:51:02.755Z"
      },
      {
        "duration": 11,
        "start_time": "2022-09-05T14:51:08.005Z"
      },
      {
        "duration": 6,
        "start_time": "2022-09-05T14:52:20.262Z"
      },
      {
        "duration": 18,
        "start_time": "2022-09-05T14:56:01.347Z"
      },
      {
        "duration": 36,
        "start_time": "2022-09-05T14:56:01.882Z"
      },
      {
        "duration": 4,
        "start_time": "2022-09-05T14:56:03.278Z"
      },
      {
        "duration": 20,
        "start_time": "2022-09-05T14:56:03.690Z"
      },
      {
        "duration": 7,
        "start_time": "2022-09-05T14:56:04.844Z"
      },
      {
        "duration": 5,
        "start_time": "2022-09-05T14:56:07.867Z"
      },
      {
        "duration": 5,
        "start_time": "2022-09-05T14:56:08.758Z"
      },
      {
        "duration": 8,
        "start_time": "2022-09-05T14:56:09.170Z"
      },
      {
        "duration": 8,
        "start_time": "2022-09-05T14:56:10.698Z"
      },
      {
        "duration": 7,
        "start_time": "2022-09-05T14:56:12.587Z"
      },
      {
        "duration": 5,
        "start_time": "2022-09-05T14:56:15.656Z"
      },
      {
        "duration": 8,
        "start_time": "2022-09-05T14:56:16.371Z"
      },
      {
        "duration": 7,
        "start_time": "2022-09-05T14:56:18.449Z"
      },
      {
        "duration": 19,
        "start_time": "2022-09-05T14:56:22.238Z"
      },
      {
        "duration": 22,
        "start_time": "2022-09-05T14:56:23.925Z"
      },
      {
        "duration": 25,
        "start_time": "2022-09-05T14:56:24.704Z"
      },
      {
        "duration": 19,
        "start_time": "2022-09-05T14:56:27.123Z"
      },
      {
        "duration": 19,
        "start_time": "2022-09-05T14:56:30.901Z"
      },
      {
        "duration": 4,
        "start_time": "2022-09-05T14:56:31.645Z"
      },
      {
        "duration": 13,
        "start_time": "2022-09-05T14:56:32.162Z"
      },
      {
        "duration": 15,
        "start_time": "2022-09-05T14:56:35.352Z"
      },
      {
        "duration": 38,
        "start_time": "2022-09-05T14:56:37.685Z"
      },
      {
        "duration": 5,
        "start_time": "2022-09-05T14:56:38.146Z"
      },
      {
        "duration": 8,
        "start_time": "2022-09-05T14:56:40.163Z"
      },
      {
        "duration": 3,
        "start_time": "2022-09-05T14:56:41.584Z"
      },
      {
        "duration": 26,
        "start_time": "2022-09-05T14:56:42.871Z"
      },
      {
        "duration": 12,
        "start_time": "2022-09-05T14:57:23.223Z"
      },
      {
        "duration": 17,
        "start_time": "2022-09-05T14:57:24.059Z"
      },
      {
        "duration": 32,
        "start_time": "2022-09-05T14:57:26.353Z"
      },
      {
        "duration": 5,
        "start_time": "2022-09-05T14:57:31.866Z"
      },
      {
        "duration": 12,
        "start_time": "2022-09-05T14:57:32.299Z"
      },
      {
        "duration": 5,
        "start_time": "2022-09-05T14:57:33.397Z"
      },
      {
        "duration": 20,
        "start_time": "2022-09-05T14:57:35.408Z"
      },
      {
        "duration": 7,
        "start_time": "2022-09-05T14:57:43.533Z"
      },
      {
        "duration": 6,
        "start_time": "2022-09-05T14:57:43.923Z"
      },
      {
        "duration": 8,
        "start_time": "2022-09-05T14:57:45.208Z"
      },
      {
        "duration": 83,
        "start_time": "2022-09-05T14:57:45.940Z"
      },
      {
        "duration": 15,
        "start_time": "2022-09-05T14:57:49.744Z"
      },
      {
        "duration": 474,
        "start_time": "2022-09-05T14:59:42.748Z"
      },
      {
        "duration": 9,
        "start_time": "2022-09-05T14:59:43.755Z"
      },
      {
        "duration": 16,
        "start_time": "2022-09-05T14:59:44.153Z"
      },
      {
        "duration": 17,
        "start_time": "2022-09-05T14:59:46.164Z"
      },
      {
        "duration": 27,
        "start_time": "2022-09-05T14:59:47.261Z"
      },
      {
        "duration": 9,
        "start_time": "2022-09-05T14:59:48.223Z"
      },
      {
        "duration": 5,
        "start_time": "2022-09-05T14:59:49.260Z"
      },
      {
        "duration": 6,
        "start_time": "2022-09-05T14:59:49.624Z"
      },
      {
        "duration": 7,
        "start_time": "2022-09-05T14:59:51.299Z"
      },
      {
        "duration": 6,
        "start_time": "2022-09-05T14:59:52.994Z"
      },
      {
        "duration": 6,
        "start_time": "2022-09-05T14:59:54.071Z"
      },
      {
        "duration": 6,
        "start_time": "2022-09-05T14:59:55.433Z"
      },
      {
        "duration": 18,
        "start_time": "2022-09-05T14:59:56.596Z"
      },
      {
        "duration": 7,
        "start_time": "2022-09-05T14:59:57.619Z"
      },
      {
        "duration": 6,
        "start_time": "2022-09-05T14:59:58.395Z"
      },
      {
        "duration": 9,
        "start_time": "2022-09-05T14:59:59.149Z"
      },
      {
        "duration": 10,
        "start_time": "2022-09-05T15:00:00.217Z"
      },
      {
        "duration": 21,
        "start_time": "2022-09-05T15:00:01.670Z"
      },
      {
        "duration": 22,
        "start_time": "2022-09-05T15:00:02.159Z"
      },
      {
        "duration": 4,
        "start_time": "2022-09-05T15:00:03.874Z"
      },
      {
        "duration": 15,
        "start_time": "2022-09-05T15:00:04.662Z"
      },
      {
        "duration": 10,
        "start_time": "2022-09-05T15:00:12.343Z"
      },
      {
        "duration": 6,
        "start_time": "2022-09-05T15:00:13.200Z"
      },
      {
        "duration": 11,
        "start_time": "2022-09-05T15:00:41.424Z"
      },
      {
        "duration": 5,
        "start_time": "2022-09-05T15:07:44.023Z"
      },
      {
        "duration": 8,
        "start_time": "2022-09-05T15:07:45.155Z"
      },
      {
        "duration": 8,
        "start_time": "2022-09-05T15:08:36.523Z"
      },
      {
        "duration": 7,
        "start_time": "2022-09-05T15:08:46.542Z"
      },
      {
        "duration": 8,
        "start_time": "2022-09-05T15:08:51.519Z"
      },
      {
        "duration": 8,
        "start_time": "2022-09-05T15:08:54.299Z"
      },
      {
        "duration": 8,
        "start_time": "2022-09-05T15:09:03.623Z"
      },
      {
        "duration": 21,
        "start_time": "2022-09-05T15:09:11.973Z"
      },
      {
        "duration": 22,
        "start_time": "2022-09-05T15:09:19.483Z"
      },
      {
        "duration": 19,
        "start_time": "2022-09-05T15:09:25.083Z"
      },
      {
        "duration": 18,
        "start_time": "2022-09-05T15:09:26.569Z"
      },
      {
        "duration": 11,
        "start_time": "2022-09-05T15:09:36.723Z"
      },
      {
        "duration": 8,
        "start_time": "2022-09-05T15:09:38.008Z"
      },
      {
        "duration": 14,
        "start_time": "2022-09-05T15:09:40.383Z"
      },
      {
        "duration": 18,
        "start_time": "2022-09-05T15:09:43.119Z"
      },
      {
        "duration": 27,
        "start_time": "2022-09-05T15:09:48.319Z"
      },
      {
        "duration": 6,
        "start_time": "2022-09-05T15:09:50.957Z"
      },
      {
        "duration": 5,
        "start_time": "2022-09-05T15:09:51.758Z"
      },
      {
        "duration": 4,
        "start_time": "2022-09-05T15:09:53.322Z"
      },
      {
        "duration": 25,
        "start_time": "2022-09-05T15:09:56.627Z"
      },
      {
        "duration": 4,
        "start_time": "2022-09-05T15:10:01.157Z"
      },
      {
        "duration": 14,
        "start_time": "2022-09-05T15:10:07.161Z"
      },
      {
        "duration": 5,
        "start_time": "2022-09-05T15:10:09.866Z"
      },
      {
        "duration": 23,
        "start_time": "2022-09-05T15:10:12.803Z"
      },
      {
        "duration": 7,
        "start_time": "2022-09-05T15:10:25.999Z"
      },
      {
        "duration": 6,
        "start_time": "2022-09-05T15:10:59.134Z"
      },
      {
        "duration": 4,
        "start_time": "2022-09-05T15:11:00.227Z"
      },
      {
        "duration": 55,
        "start_time": "2022-09-05T15:11:01.126Z"
      },
      {
        "duration": 15,
        "start_time": "2022-09-05T15:11:06.619Z"
      },
      {
        "duration": 6,
        "start_time": "2022-09-05T15:12:14.479Z"
      },
      {
        "duration": 541,
        "start_time": "2022-09-05T15:14:37.095Z"
      },
      {
        "duration": 9,
        "start_time": "2022-09-05T15:14:38.122Z"
      },
      {
        "duration": 29,
        "start_time": "2022-09-05T15:14:38.593Z"
      },
      {
        "duration": 18,
        "start_time": "2022-09-05T15:14:39.947Z"
      },
      {
        "duration": 31,
        "start_time": "2022-09-05T15:14:41.321Z"
      },
      {
        "duration": 8,
        "start_time": "2022-09-05T15:14:42.284Z"
      },
      {
        "duration": 5,
        "start_time": "2022-09-05T15:14:43.249Z"
      },
      {
        "duration": 10,
        "start_time": "2022-09-05T15:14:43.806Z"
      },
      {
        "duration": 7,
        "start_time": "2022-09-05T15:14:45.229Z"
      },
      {
        "duration": 7,
        "start_time": "2022-09-05T15:14:46.740Z"
      },
      {
        "duration": 8,
        "start_time": "2022-09-05T15:14:47.623Z"
      },
      {
        "duration": 6,
        "start_time": "2022-09-05T15:14:48.823Z"
      },
      {
        "duration": 24,
        "start_time": "2022-09-05T15:14:49.727Z"
      },
      {
        "duration": 6,
        "start_time": "2022-09-05T15:14:50.919Z"
      },
      {
        "duration": 6,
        "start_time": "2022-09-05T15:14:51.670Z"
      },
      {
        "duration": 9,
        "start_time": "2022-09-05T15:14:52.781Z"
      },
      {
        "duration": 18,
        "start_time": "2022-09-05T15:14:53.202Z"
      },
      {
        "duration": 16,
        "start_time": "2022-09-05T15:14:54.139Z"
      },
      {
        "duration": 17,
        "start_time": "2022-09-05T15:14:55.390Z"
      },
      {
        "duration": 4,
        "start_time": "2022-09-05T15:14:56.131Z"
      },
      {
        "duration": 17,
        "start_time": "2022-09-05T15:14:56.718Z"
      },
      {
        "duration": 7,
        "start_time": "2022-09-05T15:14:58.119Z"
      },
      {
        "duration": 5,
        "start_time": "2022-09-05T15:16:11.764Z"
      },
      {
        "duration": 4,
        "start_time": "2022-09-05T15:16:13.099Z"
      },
      {
        "duration": 7,
        "start_time": "2022-09-05T15:19:17.493Z"
      },
      {
        "duration": 2,
        "start_time": "2022-09-05T15:19:52.250Z"
      },
      {
        "duration": 7,
        "start_time": "2022-09-05T15:19:55.095Z"
      },
      {
        "duration": 8,
        "start_time": "2022-09-05T15:19:59.519Z"
      },
      {
        "duration": 6,
        "start_time": "2022-09-05T15:20:00.533Z"
      },
      {
        "duration": 12,
        "start_time": "2022-09-05T15:20:01.219Z"
      },
      {
        "duration": 8,
        "start_time": "2022-09-05T15:20:02.699Z"
      },
      {
        "duration": 26,
        "start_time": "2022-09-05T15:20:08.300Z"
      },
      {
        "duration": 22,
        "start_time": "2022-09-05T15:20:08.723Z"
      },
      {
        "duration": 19,
        "start_time": "2022-09-05T15:20:09.425Z"
      },
      {
        "duration": 17,
        "start_time": "2022-09-05T15:20:11.537Z"
      },
      {
        "duration": 11,
        "start_time": "2022-09-05T15:20:15.021Z"
      },
      {
        "duration": 4,
        "start_time": "2022-09-05T15:20:15.755Z"
      },
      {
        "duration": 15,
        "start_time": "2022-09-05T15:20:16.621Z"
      },
      {
        "duration": 16,
        "start_time": "2022-09-05T15:20:17.249Z"
      },
      {
        "duration": 28,
        "start_time": "2022-09-05T15:20:19.163Z"
      },
      {
        "duration": 5,
        "start_time": "2022-09-05T15:20:19.578Z"
      },
      {
        "duration": 7,
        "start_time": "2022-09-05T15:20:20.798Z"
      },
      {
        "duration": 3,
        "start_time": "2022-09-05T15:20:22.282Z"
      },
      {
        "duration": 26,
        "start_time": "2022-09-05T15:20:23.223Z"
      },
      {
        "duration": 4,
        "start_time": "2022-09-05T15:20:23.629Z"
      },
      {
        "duration": 11,
        "start_time": "2022-09-05T15:20:25.538Z"
      },
      {
        "duration": 5,
        "start_time": "2022-09-05T15:20:26.622Z"
      },
      {
        "duration": 16,
        "start_time": "2022-09-05T15:20:27.621Z"
      },
      {
        "duration": 7,
        "start_time": "2022-09-05T15:20:32.237Z"
      },
      {
        "duration": 5,
        "start_time": "2022-09-05T15:20:33.690Z"
      },
      {
        "duration": 3,
        "start_time": "2022-09-05T15:20:35.133Z"
      },
      {
        "duration": 71,
        "start_time": "2022-09-05T15:20:35.856Z"
      },
      {
        "duration": 15,
        "start_time": "2022-09-05T15:20:39.761Z"
      },
      {
        "duration": 518,
        "start_time": "2022-09-05T15:25:30.209Z"
      },
      {
        "duration": 10,
        "start_time": "2022-09-05T15:25:30.730Z"
      },
      {
        "duration": 65,
        "start_time": "2022-09-05T15:25:30.743Z"
      },
      {
        "duration": 93,
        "start_time": "2022-09-05T15:25:30.811Z"
      },
      {
        "duration": 87,
        "start_time": "2022-09-05T15:25:30.906Z"
      },
      {
        "duration": 101,
        "start_time": "2022-09-05T15:25:30.995Z"
      },
      {
        "duration": 77,
        "start_time": "2022-09-05T15:25:31.098Z"
      },
      {
        "duration": 24,
        "start_time": "2022-09-05T15:25:31.177Z"
      },
      {
        "duration": 35,
        "start_time": "2022-09-05T15:25:31.202Z"
      },
      {
        "duration": 16,
        "start_time": "2022-09-05T15:25:31.242Z"
      },
      {
        "duration": 28,
        "start_time": "2022-09-05T15:25:31.260Z"
      },
      {
        "duration": 17,
        "start_time": "2022-09-05T15:25:31.290Z"
      },
      {
        "duration": 29,
        "start_time": "2022-09-05T15:25:31.313Z"
      },
      {
        "duration": 6,
        "start_time": "2022-09-05T15:25:31.344Z"
      },
      {
        "duration": 9,
        "start_time": "2022-09-05T15:25:31.352Z"
      },
      {
        "duration": 18,
        "start_time": "2022-09-05T15:25:31.363Z"
      },
      {
        "duration": 13,
        "start_time": "2022-09-05T15:25:31.383Z"
      },
      {
        "duration": 26,
        "start_time": "2022-09-05T15:25:31.398Z"
      },
      {
        "duration": 22,
        "start_time": "2022-09-05T15:25:31.426Z"
      },
      {
        "duration": 8,
        "start_time": "2022-09-05T15:25:31.449Z"
      },
      {
        "duration": 41,
        "start_time": "2022-09-05T15:25:31.459Z"
      },
      {
        "duration": 25,
        "start_time": "2022-09-05T15:25:31.503Z"
      },
      {
        "duration": 14,
        "start_time": "2022-09-05T15:25:31.530Z"
      },
      {
        "duration": 15,
        "start_time": "2022-09-05T15:25:31.546Z"
      },
      {
        "duration": 18,
        "start_time": "2022-09-05T15:25:31.563Z"
      },
      {
        "duration": 38,
        "start_time": "2022-09-05T15:25:31.583Z"
      },
      {
        "duration": 7,
        "start_time": "2022-09-05T15:25:31.623Z"
      },
      {
        "duration": 3,
        "start_time": "2022-09-05T15:25:31.636Z"
      },
      {
        "duration": 15,
        "start_time": "2022-09-05T15:25:31.641Z"
      },
      {
        "duration": 16,
        "start_time": "2022-09-05T15:25:31.658Z"
      },
      {
        "duration": 23,
        "start_time": "2022-09-05T15:25:31.676Z"
      },
      {
        "duration": 23,
        "start_time": "2022-09-05T15:25:31.701Z"
      },
      {
        "duration": 12,
        "start_time": "2022-09-05T15:25:31.726Z"
      },
      {
        "duration": 26,
        "start_time": "2022-09-05T15:25:31.740Z"
      },
      {
        "duration": 40,
        "start_time": "2022-09-05T15:25:31.768Z"
      },
      {
        "duration": 28,
        "start_time": "2022-09-05T15:25:31.809Z"
      },
      {
        "duration": 18,
        "start_time": "2022-09-05T15:25:31.839Z"
      },
      {
        "duration": 16,
        "start_time": "2022-09-05T15:25:31.859Z"
      },
      {
        "duration": 15,
        "start_time": "2022-09-05T15:25:31.877Z"
      },
      {
        "duration": 34,
        "start_time": "2022-09-05T15:25:31.894Z"
      },
      {
        "duration": 38,
        "start_time": "2022-09-05T15:25:31.930Z"
      },
      {
        "duration": 23,
        "start_time": "2022-09-05T15:25:31.970Z"
      },
      {
        "duration": 27,
        "start_time": "2022-09-05T15:25:31.995Z"
      },
      {
        "duration": 37,
        "start_time": "2022-09-05T15:25:32.025Z"
      },
      {
        "duration": 6,
        "start_time": "2022-09-05T15:25:32.064Z"
      },
      {
        "duration": 9,
        "start_time": "2022-09-05T15:25:32.072Z"
      },
      {
        "duration": 5,
        "start_time": "2022-09-05T15:25:32.083Z"
      },
      {
        "duration": 44,
        "start_time": "2022-09-05T15:25:32.089Z"
      },
      {
        "duration": 3,
        "start_time": "2022-09-05T15:25:32.135Z"
      },
      {
        "duration": 26,
        "start_time": "2022-09-05T15:25:32.140Z"
      },
      {
        "duration": 5,
        "start_time": "2022-09-05T15:25:32.168Z"
      },
      {
        "duration": 21,
        "start_time": "2022-09-05T15:25:32.174Z"
      },
      {
        "duration": 24,
        "start_time": "2022-09-05T15:25:32.196Z"
      },
      {
        "duration": 18,
        "start_time": "2022-09-05T15:25:32.222Z"
      },
      {
        "duration": 15,
        "start_time": "2022-09-05T15:25:32.242Z"
      },
      {
        "duration": 65,
        "start_time": "2022-09-05T15:25:32.258Z"
      },
      {
        "duration": 2,
        "start_time": "2022-09-05T15:25:32.325Z"
      },
      {
        "duration": 10,
        "start_time": "2022-09-05T15:25:32.329Z"
      },
      {
        "duration": 9,
        "start_time": "2022-09-05T15:25:32.341Z"
      },
      {
        "duration": 21,
        "start_time": "2022-09-05T15:25:32.352Z"
      },
      {
        "duration": 8,
        "start_time": "2022-09-05T15:25:32.375Z"
      },
      {
        "duration": 11,
        "start_time": "2022-09-05T15:25:32.385Z"
      },
      {
        "duration": 7,
        "start_time": "2022-09-05T15:25:32.398Z"
      },
      {
        "duration": 9,
        "start_time": "2022-09-05T15:25:32.423Z"
      },
      {
        "duration": 14,
        "start_time": "2022-09-05T15:25:32.434Z"
      },
      {
        "duration": 5,
        "start_time": "2022-09-05T15:25:32.450Z"
      },
      {
        "duration": 11,
        "start_time": "2022-09-05T15:25:32.457Z"
      },
      {
        "duration": 10,
        "start_time": "2022-09-05T15:25:32.470Z"
      },
      {
        "duration": 6,
        "start_time": "2022-09-05T15:25:32.482Z"
      },
      {
        "duration": 12,
        "start_time": "2022-09-05T15:25:32.490Z"
      },
      {
        "duration": 20,
        "start_time": "2022-09-05T15:25:32.504Z"
      },
      {
        "duration": 10,
        "start_time": "2022-09-05T15:25:32.526Z"
      },
      {
        "duration": 8,
        "start_time": "2022-09-05T15:25:32.538Z"
      },
      {
        "duration": 38,
        "start_time": "2022-09-05T15:40:27.717Z"
      },
      {
        "duration": 79,
        "start_time": "2022-09-05T15:43:16.762Z"
      },
      {
        "duration": 604,
        "start_time": "2022-09-08T14:46:37.809Z"
      },
      {
        "duration": 12,
        "start_time": "2022-09-08T14:46:39.407Z"
      },
      {
        "duration": 21,
        "start_time": "2022-09-08T14:46:41.070Z"
      },
      {
        "duration": 21,
        "start_time": "2022-09-08T14:46:44.703Z"
      },
      {
        "duration": 13,
        "start_time": "2022-09-08T14:50:30.427Z"
      },
      {
        "duration": 18,
        "start_time": "2022-09-08T14:56:36.087Z"
      },
      {
        "duration": 596,
        "start_time": "2022-09-08T15:02:03.729Z"
      },
      {
        "duration": 620,
        "start_time": "2022-09-08T15:02:17.762Z"
      },
      {
        "duration": 8,
        "start_time": "2022-09-08T15:02:41.700Z"
      },
      {
        "duration": 24,
        "start_time": "2022-09-08T15:04:15.364Z"
      },
      {
        "duration": 29,
        "start_time": "2022-09-08T15:04:25.565Z"
      },
      {
        "duration": 5,
        "start_time": "2022-09-08T15:04:41.862Z"
      },
      {
        "duration": 21,
        "start_time": "2022-09-08T15:04:50.304Z"
      },
      {
        "duration": 9,
        "start_time": "2022-09-08T15:10:13.911Z"
      },
      {
        "duration": 12,
        "start_time": "2022-09-08T15:10:38.810Z"
      },
      {
        "duration": 18,
        "start_time": "2022-09-08T15:10:55.947Z"
      },
      {
        "duration": 16,
        "start_time": "2022-09-08T15:11:10.320Z"
      },
      {
        "duration": 16,
        "start_time": "2022-09-08T15:11:14.157Z"
      },
      {
        "duration": 5,
        "start_time": "2022-09-08T15:13:36.071Z"
      },
      {
        "duration": 5,
        "start_time": "2022-09-08T15:14:04.459Z"
      },
      {
        "duration": 4,
        "start_time": "2022-09-08T15:15:37.163Z"
      },
      {
        "duration": 5,
        "start_time": "2022-09-08T15:15:45.661Z"
      },
      {
        "duration": 6,
        "start_time": "2022-09-08T15:16:31.989Z"
      },
      {
        "duration": 5,
        "start_time": "2022-09-08T15:17:03.095Z"
      },
      {
        "duration": 7,
        "start_time": "2022-09-08T15:17:14.075Z"
      },
      {
        "duration": 5,
        "start_time": "2022-09-08T15:17:53.773Z"
      },
      {
        "duration": 6,
        "start_time": "2022-09-08T15:17:55.172Z"
      },
      {
        "duration": 6,
        "start_time": "2022-09-08T15:23:51.781Z"
      },
      {
        "duration": 9,
        "start_time": "2022-09-08T15:24:13.035Z"
      },
      {
        "duration": 6,
        "start_time": "2022-09-08T15:24:25.175Z"
      },
      {
        "duration": 4,
        "start_time": "2022-09-08T15:26:28.326Z"
      },
      {
        "duration": 9,
        "start_time": "2022-09-08T15:26:31.902Z"
      },
      {
        "duration": 2287,
        "start_time": "2022-09-08T15:34:12.076Z"
      },
      {
        "duration": 1325,
        "start_time": "2022-09-08T15:35:08.627Z"
      },
      {
        "duration": 1111,
        "start_time": "2022-09-08T15:35:59.850Z"
      },
      {
        "duration": 824,
        "start_time": "2022-09-08T15:36:26.984Z"
      },
      {
        "duration": 911,
        "start_time": "2022-09-08T15:36:56.739Z"
      },
      {
        "duration": 10,
        "start_time": "2022-09-08T15:40:07.703Z"
      },
      {
        "duration": 1508,
        "start_time": "2022-09-08T15:41:04.748Z"
      },
      {
        "duration": 8,
        "start_time": "2022-09-08T15:41:54.726Z"
      },
      {
        "duration": 8,
        "start_time": "2022-09-08T15:41:59.524Z"
      },
      {
        "duration": 16,
        "start_time": "2022-09-08T15:45:53.237Z"
      },
      {
        "duration": 5,
        "start_time": "2022-09-08T15:50:38.173Z"
      },
      {
        "duration": 6,
        "start_time": "2022-09-08T15:51:18.927Z"
      },
      {
        "duration": 8,
        "start_time": "2022-09-08T15:52:50.302Z"
      },
      {
        "duration": 2,
        "start_time": "2022-09-08T15:52:51.983Z"
      },
      {
        "duration": 562,
        "start_time": "2022-09-09T12:10:34.365Z"
      },
      {
        "duration": 8,
        "start_time": "2022-09-09T12:10:35.536Z"
      },
      {
        "duration": 19,
        "start_time": "2022-09-09T12:10:35.911Z"
      },
      {
        "duration": 14,
        "start_time": "2022-09-09T12:10:37.302Z"
      },
      {
        "duration": 22,
        "start_time": "2022-09-09T12:10:38.200Z"
      },
      {
        "duration": 24,
        "start_time": "2022-09-09T12:10:40.376Z"
      },
      {
        "duration": 17,
        "start_time": "2022-09-09T12:10:43.271Z"
      },
      {
        "duration": 9,
        "start_time": "2022-09-09T12:10:43.701Z"
      },
      {
        "duration": 17,
        "start_time": "2022-09-09T12:10:45.298Z"
      },
      {
        "duration": 11,
        "start_time": "2022-09-09T12:10:46.848Z"
      },
      {
        "duration": 6,
        "start_time": "2022-09-09T12:10:55.248Z"
      },
      {
        "duration": 24,
        "start_time": "2022-09-09T12:10:55.717Z"
      },
      {
        "duration": 6,
        "start_time": "2022-09-09T12:10:59.889Z"
      },
      {
        "duration": 7,
        "start_time": "2022-09-09T12:11:00.656Z"
      },
      {
        "duration": 8,
        "start_time": "2022-09-09T12:11:04.077Z"
      },
      {
        "duration": 7,
        "start_time": "2022-09-09T12:11:04.566Z"
      },
      {
        "duration": 14,
        "start_time": "2022-09-09T12:11:06.099Z"
      },
      {
        "duration": 398,
        "start_time": "2022-09-09T12:11:33.131Z"
      },
      {
        "duration": 12,
        "start_time": "2022-09-09T12:11:34.526Z"
      },
      {
        "duration": 14,
        "start_time": "2022-09-09T12:11:34.995Z"
      },
      {
        "duration": 14,
        "start_time": "2022-09-09T12:11:36.080Z"
      },
      {
        "duration": 32,
        "start_time": "2022-09-09T12:11:37.534Z"
      },
      {
        "duration": 20,
        "start_time": "2022-09-09T12:11:38.420Z"
      },
      {
        "duration": 18,
        "start_time": "2022-09-09T12:11:39.952Z"
      },
      {
        "duration": 11,
        "start_time": "2022-09-09T12:11:40.507Z"
      },
      {
        "duration": 11,
        "start_time": "2022-09-09T12:11:41.708Z"
      },
      {
        "duration": 7,
        "start_time": "2022-09-09T12:11:42.881Z"
      },
      {
        "duration": 5,
        "start_time": "2022-09-09T12:12:19.368Z"
      },
      {
        "duration": 15,
        "start_time": "2022-09-09T12:14:37.078Z"
      },
      {
        "duration": 6,
        "start_time": "2022-09-09T12:14:50.528Z"
      },
      {
        "duration": 6,
        "start_time": "2022-09-09T12:15:25.271Z"
      },
      {
        "duration": 9,
        "start_time": "2022-09-09T12:16:00.530Z"
      },
      {
        "duration": 6,
        "start_time": "2022-09-09T12:16:02.707Z"
      },
      {
        "duration": 450,
        "start_time": "2022-09-09T12:17:17.446Z"
      },
      {
        "duration": 7,
        "start_time": "2022-09-09T12:17:18.356Z"
      },
      {
        "duration": 12,
        "start_time": "2022-09-09T12:17:18.748Z"
      },
      {
        "duration": 13,
        "start_time": "2022-09-09T12:17:19.670Z"
      },
      {
        "duration": 20,
        "start_time": "2022-09-09T12:17:20.352Z"
      },
      {
        "duration": 20,
        "start_time": "2022-09-09T12:17:21.190Z"
      },
      {
        "duration": 16,
        "start_time": "2022-09-09T12:17:22.100Z"
      },
      {
        "duration": 8,
        "start_time": "2022-09-09T12:17:22.941Z"
      },
      {
        "duration": 11,
        "start_time": "2022-09-09T12:17:24.876Z"
      },
      {
        "duration": 7,
        "start_time": "2022-09-09T12:17:28.025Z"
      },
      {
        "duration": 6,
        "start_time": "2022-09-09T12:17:30.990Z"
      },
      {
        "duration": 10,
        "start_time": "2022-09-09T12:17:31.373Z"
      },
      {
        "duration": 5,
        "start_time": "2022-09-09T12:17:31.854Z"
      },
      {
        "duration": 5,
        "start_time": "2022-09-09T12:17:33.765Z"
      },
      {
        "duration": 5,
        "start_time": "2022-09-09T12:17:48.604Z"
      },
      {
        "duration": 4,
        "start_time": "2022-09-09T12:17:56.395Z"
      },
      {
        "duration": 6,
        "start_time": "2022-09-09T12:19:03.005Z"
      },
      {
        "duration": 80,
        "start_time": "2022-09-09T12:19:15.185Z"
      },
      {
        "duration": 5,
        "start_time": "2022-09-09T12:19:29.756Z"
      },
      {
        "duration": 5,
        "start_time": "2022-09-09T12:19:38.022Z"
      },
      {
        "duration": 5,
        "start_time": "2022-09-09T12:19:52.985Z"
      },
      {
        "duration": 5,
        "start_time": "2022-09-09T12:20:03.924Z"
      },
      {
        "duration": 11,
        "start_time": "2022-09-09T12:32:18.841Z"
      },
      {
        "duration": 11,
        "start_time": "2022-09-09T12:34:08.691Z"
      },
      {
        "duration": 46,
        "start_time": "2022-09-09T12:34:23.395Z"
      },
      {
        "duration": 10,
        "start_time": "2022-09-09T12:34:50.224Z"
      },
      {
        "duration": 6,
        "start_time": "2022-09-09T12:35:01.820Z"
      },
      {
        "duration": 6,
        "start_time": "2022-09-09T12:35:07.659Z"
      },
      {
        "duration": 4,
        "start_time": "2022-09-09T12:35:14.957Z"
      },
      {
        "duration": 4,
        "start_time": "2022-09-09T12:35:24.391Z"
      },
      {
        "duration": 8,
        "start_time": "2022-09-09T12:36:02.505Z"
      },
      {
        "duration": 5,
        "start_time": "2022-09-09T12:37:52.876Z"
      },
      {
        "duration": 6,
        "start_time": "2022-09-09T12:39:02.128Z"
      },
      {
        "duration": 4,
        "start_time": "2022-09-09T12:39:10.777Z"
      },
      {
        "duration": 4,
        "start_time": "2022-09-09T12:39:18.508Z"
      },
      {
        "duration": 6,
        "start_time": "2022-09-09T12:39:46.216Z"
      },
      {
        "duration": 9,
        "start_time": "2022-09-09T12:40:18.354Z"
      },
      {
        "duration": 49,
        "start_time": "2022-09-09T12:45:24.311Z"
      },
      {
        "duration": 66,
        "start_time": "2022-09-09T12:45:32.761Z"
      },
      {
        "duration": 48,
        "start_time": "2022-09-09T12:45:59.878Z"
      },
      {
        "duration": 5,
        "start_time": "2022-09-09T12:48:48.932Z"
      },
      {
        "duration": 9,
        "start_time": "2022-09-09T12:49:03.238Z"
      },
      {
        "duration": 4,
        "start_time": "2022-09-09T12:58:17.721Z"
      },
      {
        "duration": 6,
        "start_time": "2022-09-09T12:58:41.307Z"
      },
      {
        "duration": 4,
        "start_time": "2022-09-09T12:58:55.583Z"
      },
      {
        "duration": 7,
        "start_time": "2022-09-09T12:59:04.322Z"
      },
      {
        "duration": 21,
        "start_time": "2022-09-09T12:59:13.770Z"
      },
      {
        "duration": 19,
        "start_time": "2022-09-09T12:59:48.809Z"
      },
      {
        "duration": 8,
        "start_time": "2022-09-09T12:59:55.564Z"
      },
      {
        "duration": 5,
        "start_time": "2022-09-09T13:00:03.031Z"
      },
      {
        "duration": 6,
        "start_time": "2022-09-09T13:00:21.283Z"
      },
      {
        "duration": 7,
        "start_time": "2022-09-09T13:00:48.839Z"
      },
      {
        "duration": 7,
        "start_time": "2022-09-09T13:01:01.474Z"
      },
      {
        "duration": 6,
        "start_time": "2022-09-09T13:01:35.114Z"
      },
      {
        "duration": 6,
        "start_time": "2022-09-09T13:01:57.852Z"
      },
      {
        "duration": 5,
        "start_time": "2022-09-09T13:02:55.406Z"
      },
      {
        "duration": 7,
        "start_time": "2022-09-09T13:03:15.817Z"
      },
      {
        "duration": 8,
        "start_time": "2022-09-09T13:03:42.553Z"
      },
      {
        "duration": 8,
        "start_time": "2022-09-09T13:04:29.482Z"
      },
      {
        "duration": 9,
        "start_time": "2022-09-09T13:04:36.700Z"
      },
      {
        "duration": 15,
        "start_time": "2022-09-09T13:05:50.558Z"
      },
      {
        "duration": 10,
        "start_time": "2022-09-09T13:06:13.097Z"
      },
      {
        "duration": 4,
        "start_time": "2022-09-09T13:06:23.680Z"
      },
      {
        "duration": 9,
        "start_time": "2022-09-09T13:07:24.435Z"
      },
      {
        "duration": 9,
        "start_time": "2022-09-09T13:07:36.715Z"
      },
      {
        "duration": 10,
        "start_time": "2022-09-09T13:08:09.653Z"
      },
      {
        "duration": 12,
        "start_time": "2022-09-09T13:09:07.539Z"
      },
      {
        "duration": 12,
        "start_time": "2022-09-09T13:09:13.208Z"
      },
      {
        "duration": 13,
        "start_time": "2022-09-09T13:09:35.684Z"
      },
      {
        "duration": 113,
        "start_time": "2022-09-09T13:09:52.859Z"
      },
      {
        "duration": 15,
        "start_time": "2022-09-09T13:09:56.347Z"
      },
      {
        "duration": 9,
        "start_time": "2022-09-09T13:10:13.936Z"
      },
      {
        "duration": 16,
        "start_time": "2022-09-09T13:10:56.176Z"
      },
      {
        "duration": 9,
        "start_time": "2022-09-09T13:11:05.538Z"
      },
      {
        "duration": 60,
        "start_time": "2022-09-09T15:41:32.510Z"
      },
      {
        "duration": 4,
        "start_time": "2022-09-09T15:41:33.690Z"
      },
      {
        "duration": 11,
        "start_time": "2022-09-09T15:41:34.352Z"
      },
      {
        "duration": 14,
        "start_time": "2022-09-09T15:41:35.997Z"
      },
      {
        "duration": 22,
        "start_time": "2022-09-09T15:41:37.026Z"
      },
      {
        "duration": 21,
        "start_time": "2022-09-09T15:41:38.486Z"
      },
      {
        "duration": 15,
        "start_time": "2022-09-09T15:41:39.953Z"
      },
      {
        "duration": 12,
        "start_time": "2022-09-09T15:41:42.770Z"
      },
      {
        "duration": 440,
        "start_time": "2022-09-09T15:41:54.685Z"
      },
      {
        "duration": 8,
        "start_time": "2022-09-09T15:41:56.718Z"
      },
      {
        "duration": 15,
        "start_time": "2022-09-09T15:41:57.188Z"
      },
      {
        "duration": 16,
        "start_time": "2022-09-09T15:41:58.517Z"
      },
      {
        "duration": 20,
        "start_time": "2022-09-09T15:41:59.445Z"
      },
      {
        "duration": 21,
        "start_time": "2022-09-09T15:42:00.224Z"
      },
      {
        "duration": 17,
        "start_time": "2022-09-09T15:42:01.767Z"
      },
      {
        "duration": 9,
        "start_time": "2022-09-09T15:42:02.484Z"
      },
      {
        "duration": 14,
        "start_time": "2022-09-09T15:42:12.943Z"
      },
      {
        "duration": 9,
        "start_time": "2022-09-09T15:42:14.898Z"
      },
      {
        "duration": 2,
        "start_time": "2022-09-09T15:42:16.233Z"
      },
      {
        "duration": 5,
        "start_time": "2022-09-09T15:42:21.063Z"
      },
      {
        "duration": 9,
        "start_time": "2022-09-09T15:42:21.552Z"
      },
      {
        "duration": 5,
        "start_time": "2022-09-09T15:42:24.571Z"
      },
      {
        "duration": 63,
        "start_time": "2022-09-09T15:42:25.405Z"
      },
      {
        "duration": 6,
        "start_time": "2022-09-09T15:42:27.196Z"
      },
      {
        "duration": 23,
        "start_time": "2022-09-09T15:43:11.892Z"
      },
      {
        "duration": 437,
        "start_time": "2022-09-09T15:43:46.413Z"
      },
      {
        "duration": 8,
        "start_time": "2022-09-09T15:43:47.591Z"
      },
      {
        "duration": 14,
        "start_time": "2022-09-09T15:43:48.697Z"
      },
      {
        "duration": 14,
        "start_time": "2022-09-09T15:43:49.695Z"
      },
      {
        "duration": 22,
        "start_time": "2022-09-09T15:43:50.545Z"
      },
      {
        "duration": 20,
        "start_time": "2022-09-09T15:43:51.410Z"
      },
      {
        "duration": 15,
        "start_time": "2022-09-09T15:43:54.300Z"
      },
      {
        "duration": 8,
        "start_time": "2022-09-09T15:43:54.773Z"
      },
      {
        "duration": 11,
        "start_time": "2022-09-09T15:43:56.358Z"
      },
      {
        "duration": 6,
        "start_time": "2022-09-09T15:43:57.687Z"
      },
      {
        "duration": 4,
        "start_time": "2022-09-09T15:44:00.816Z"
      },
      {
        "duration": 9,
        "start_time": "2022-09-09T15:44:01.309Z"
      },
      {
        "duration": 6,
        "start_time": "2022-09-09T15:44:03.371Z"
      },
      {
        "duration": 9,
        "start_time": "2022-09-09T15:44:04.653Z"
      },
      {
        "duration": 5,
        "start_time": "2022-09-09T15:47:30.602Z"
      },
      {
        "duration": 6,
        "start_time": "2022-09-09T15:47:55.375Z"
      },
      {
        "duration": 9,
        "start_time": "2022-09-09T15:49:19.712Z"
      },
      {
        "duration": 427,
        "start_time": "2022-09-09T15:49:34.739Z"
      },
      {
        "duration": 8,
        "start_time": "2022-09-09T15:49:36.322Z"
      },
      {
        "duration": 13,
        "start_time": "2022-09-09T15:49:36.701Z"
      },
      {
        "duration": 13,
        "start_time": "2022-09-09T15:49:38.314Z"
      },
      {
        "duration": 20,
        "start_time": "2022-09-09T15:49:39.039Z"
      },
      {
        "duration": 21,
        "start_time": "2022-09-09T15:49:39.919Z"
      },
      {
        "duration": 16,
        "start_time": "2022-09-09T15:49:40.988Z"
      },
      {
        "duration": 8,
        "start_time": "2022-09-09T15:49:41.323Z"
      },
      {
        "duration": 16,
        "start_time": "2022-09-09T15:49:46.983Z"
      },
      {
        "duration": 7,
        "start_time": "2022-09-09T15:49:48.239Z"
      },
      {
        "duration": 5,
        "start_time": "2022-09-09T15:49:50.821Z"
      },
      {
        "duration": 9,
        "start_time": "2022-09-09T15:49:52.019Z"
      },
      {
        "duration": 6,
        "start_time": "2022-09-09T15:49:52.494Z"
      },
      {
        "duration": 10,
        "start_time": "2022-09-09T15:49:55.172Z"
      },
      {
        "duration": 9,
        "start_time": "2022-09-09T15:50:11.429Z"
      },
      {
        "duration": 6,
        "start_time": "2022-09-09T15:52:04.781Z"
      },
      {
        "duration": 8,
        "start_time": "2022-09-09T15:52:05.530Z"
      },
      {
        "duration": 7,
        "start_time": "2022-09-09T15:54:25.270Z"
      },
      {
        "duration": 466,
        "start_time": "2022-09-09T15:54:35.643Z"
      },
      {
        "duration": 10,
        "start_time": "2022-09-09T15:54:36.525Z"
      },
      {
        "duration": 19,
        "start_time": "2022-09-09T15:54:36.980Z"
      },
      {
        "duration": 17,
        "start_time": "2022-09-09T15:54:37.979Z"
      },
      {
        "duration": 28,
        "start_time": "2022-09-09T15:54:38.733Z"
      },
      {
        "duration": 33,
        "start_time": "2022-09-09T15:54:39.842Z"
      },
      {
        "duration": 16,
        "start_time": "2022-09-09T15:54:47.484Z"
      },
      {
        "duration": 12,
        "start_time": "2022-09-09T15:54:47.845Z"
      },
      {
        "duration": 12,
        "start_time": "2022-09-09T15:54:49.417Z"
      },
      {
        "duration": 9,
        "start_time": "2022-09-09T15:54:50.572Z"
      },
      {
        "duration": 6,
        "start_time": "2022-09-09T15:54:53.056Z"
      },
      {
        "duration": 10,
        "start_time": "2022-09-09T15:54:53.595Z"
      },
      {
        "duration": 7,
        "start_time": "2022-09-09T15:54:55.394Z"
      },
      {
        "duration": 9,
        "start_time": "2022-09-09T15:54:56.117Z"
      },
      {
        "duration": 7,
        "start_time": "2022-09-09T15:54:59.755Z"
      },
      {
        "duration": 7,
        "start_time": "2022-09-09T15:55:21.880Z"
      },
      {
        "duration": 67,
        "start_time": "2022-09-09T15:55:54.093Z"
      },
      {
        "duration": 7,
        "start_time": "2022-09-09T15:55:58.840Z"
      },
      {
        "duration": 14,
        "start_time": "2022-09-09T15:59:12.959Z"
      },
      {
        "duration": 8,
        "start_time": "2022-09-09T15:59:30.166Z"
      },
      {
        "duration": 7,
        "start_time": "2022-09-09T15:59:57.124Z"
      },
      {
        "duration": 34,
        "start_time": "2022-09-09T16:00:25.732Z"
      },
      {
        "duration": 10,
        "start_time": "2022-09-09T16:00:44.437Z"
      },
      {
        "duration": 9,
        "start_time": "2022-09-09T16:01:17.762Z"
      },
      {
        "duration": 8,
        "start_time": "2022-09-09T16:01:30.101Z"
      },
      {
        "duration": 8,
        "start_time": "2022-09-09T16:01:47.796Z"
      },
      {
        "duration": 5,
        "start_time": "2022-09-09T16:02:02.608Z"
      },
      {
        "duration": 6,
        "start_time": "2022-09-09T16:02:03.089Z"
      },
      {
        "duration": 6,
        "start_time": "2022-09-09T16:03:23.342Z"
      },
      {
        "duration": 6,
        "start_time": "2022-09-09T16:04:49.742Z"
      },
      {
        "duration": 10,
        "start_time": "2022-09-09T16:08:17.497Z"
      },
      {
        "duration": 9,
        "start_time": "2022-09-09T16:08:28.600Z"
      },
      {
        "duration": 4,
        "start_time": "2022-09-09T16:10:43.441Z"
      },
      {
        "duration": 51,
        "start_time": "2022-09-09T16:18:06.023Z"
      },
      {
        "duration": 5,
        "start_time": "2022-09-09T16:18:14.437Z"
      },
      {
        "duration": 6,
        "start_time": "2022-09-09T16:19:13.058Z"
      },
      {
        "duration": 83,
        "start_time": "2022-09-09T16:19:45.324Z"
      },
      {
        "duration": 7,
        "start_time": "2022-09-09T16:19:51.181Z"
      },
      {
        "duration": 6,
        "start_time": "2022-09-09T16:20:34.152Z"
      },
      {
        "duration": 8,
        "start_time": "2022-09-09T16:20:37.944Z"
      },
      {
        "duration": 7,
        "start_time": "2022-09-09T16:20:54.157Z"
      },
      {
        "duration": 8,
        "start_time": "2022-09-09T16:21:36.705Z"
      },
      {
        "duration": 6,
        "start_time": "2022-09-09T16:23:04.137Z"
      },
      {
        "duration": 5,
        "start_time": "2022-09-09T16:24:25.011Z"
      },
      {
        "duration": 7,
        "start_time": "2022-09-09T16:24:58.580Z"
      },
      {
        "duration": 7,
        "start_time": "2022-09-09T16:25:12.318Z"
      },
      {
        "duration": 7,
        "start_time": "2022-09-09T16:25:20.374Z"
      },
      {
        "duration": 9,
        "start_time": "2022-09-09T16:25:55.985Z"
      },
      {
        "duration": 7,
        "start_time": "2022-09-09T16:26:13.951Z"
      },
      {
        "duration": 6,
        "start_time": "2022-09-09T16:26:40.391Z"
      },
      {
        "duration": 7,
        "start_time": "2022-09-09T16:27:54.848Z"
      },
      {
        "duration": 15,
        "start_time": "2022-09-09T16:29:51.759Z"
      },
      {
        "duration": 5,
        "start_time": "2022-09-09T16:30:08.022Z"
      },
      {
        "duration": 610,
        "start_time": "2022-09-10T13:26:03.193Z"
      },
      {
        "duration": 7,
        "start_time": "2022-09-10T13:26:04.092Z"
      },
      {
        "duration": 12,
        "start_time": "2022-09-10T13:26:04.476Z"
      },
      {
        "duration": 19,
        "start_time": "2022-09-10T13:26:06.778Z"
      },
      {
        "duration": 18,
        "start_time": "2022-09-10T13:26:07.572Z"
      },
      {
        "duration": 17,
        "start_time": "2022-09-10T13:26:08.415Z"
      },
      {
        "duration": 14,
        "start_time": "2022-09-10T13:26:09.769Z"
      },
      {
        "duration": 8,
        "start_time": "2022-09-10T13:26:10.125Z"
      },
      {
        "duration": 11,
        "start_time": "2022-09-10T13:26:11.467Z"
      },
      {
        "duration": 7,
        "start_time": "2022-09-10T13:26:15.546Z"
      },
      {
        "duration": 4,
        "start_time": "2022-09-10T13:26:20.220Z"
      },
      {
        "duration": 8,
        "start_time": "2022-09-10T13:26:20.597Z"
      },
      {
        "duration": 5,
        "start_time": "2022-09-10T13:26:23.439Z"
      },
      {
        "duration": 9,
        "start_time": "2022-09-10T13:26:26.589Z"
      },
      {
        "duration": 5,
        "start_time": "2022-09-10T13:26:29.611Z"
      },
      {
        "duration": 5,
        "start_time": "2022-09-10T13:26:31.144Z"
      },
      {
        "duration": 8,
        "start_time": "2022-09-10T13:26:34.751Z"
      },
      {
        "duration": 4,
        "start_time": "2022-09-10T13:26:46.785Z"
      },
      {
        "duration": 5,
        "start_time": "2022-09-10T13:27:25.629Z"
      },
      {
        "duration": 7,
        "start_time": "2022-09-10T13:28:40.075Z"
      },
      {
        "duration": 5,
        "start_time": "2022-09-10T13:31:20.465Z"
      },
      {
        "duration": 60,
        "start_time": "2022-09-10T13:31:52.016Z"
      },
      {
        "duration": 9,
        "start_time": "2022-09-10T13:32:12.623Z"
      },
      {
        "duration": 3,
        "start_time": "2022-09-10T13:37:18.836Z"
      },
      {
        "duration": 5,
        "start_time": "2022-09-10T13:44:17.476Z"
      },
      {
        "duration": 5,
        "start_time": "2022-09-10T13:45:50.758Z"
      },
      {
        "duration": 5,
        "start_time": "2022-09-10T13:45:56.839Z"
      },
      {
        "duration": 6,
        "start_time": "2022-09-10T13:46:51.988Z"
      },
      {
        "duration": 394,
        "start_time": "2022-09-10T13:49:38.784Z"
      },
      {
        "duration": 8,
        "start_time": "2022-09-10T13:49:39.489Z"
      },
      {
        "duration": 12,
        "start_time": "2022-09-10T13:49:39.918Z"
      },
      {
        "duration": 12,
        "start_time": "2022-09-10T13:49:40.874Z"
      },
      {
        "duration": 18,
        "start_time": "2022-09-10T13:49:41.535Z"
      },
      {
        "duration": 15,
        "start_time": "2022-09-10T13:49:43.653Z"
      },
      {
        "duration": 406,
        "start_time": "2022-09-10T13:49:59.822Z"
      },
      {
        "duration": 7,
        "start_time": "2022-09-10T13:50:00.583Z"
      },
      {
        "duration": 19,
        "start_time": "2022-09-10T13:50:01.009Z"
      },
      {
        "duration": 14,
        "start_time": "2022-09-10T13:50:02.068Z"
      },
      {
        "duration": 19,
        "start_time": "2022-09-10T13:50:02.814Z"
      },
      {
        "duration": 19,
        "start_time": "2022-09-10T13:50:04.401Z"
      },
      {
        "duration": 15,
        "start_time": "2022-09-10T13:50:05.932Z"
      },
      {
        "duration": 9,
        "start_time": "2022-09-10T13:50:06.292Z"
      },
      {
        "duration": 12,
        "start_time": "2022-09-10T13:50:08.483Z"
      },
      {
        "duration": 8,
        "start_time": "2022-09-10T13:50:09.670Z"
      },
      {
        "duration": 6,
        "start_time": "2022-09-10T13:50:19.338Z"
      },
      {
        "duration": 8,
        "start_time": "2022-09-10T13:50:19.623Z"
      },
      {
        "duration": 5,
        "start_time": "2022-09-10T13:50:19.903Z"
      },
      {
        "duration": 9,
        "start_time": "2022-09-10T13:50:21.355Z"
      },
      {
        "duration": 5,
        "start_time": "2022-09-10T13:50:23.389Z"
      },
      {
        "duration": 5,
        "start_time": "2022-09-10T13:50:23.720Z"
      },
      {
        "duration": 9,
        "start_time": "2022-09-10T13:50:29.742Z"
      },
      {
        "duration": 4,
        "start_time": "2022-09-10T13:50:34.439Z"
      },
      {
        "duration": 7,
        "start_time": "2022-09-10T13:50:35.705Z"
      },
      {
        "duration": 7,
        "start_time": "2022-09-10T13:50:42.756Z"
      },
      {
        "duration": 5,
        "start_time": "2022-09-10T13:51:33.461Z"
      },
      {
        "duration": 5,
        "start_time": "2022-09-10T13:51:36.299Z"
      },
      {
        "duration": 7,
        "start_time": "2022-09-10T13:51:38.652Z"
      },
      {
        "duration": 415,
        "start_time": "2022-09-10T13:52:57.475Z"
      },
      {
        "duration": 7,
        "start_time": "2022-09-10T13:52:58.256Z"
      },
      {
        "duration": 14,
        "start_time": "2022-09-10T13:52:58.660Z"
      },
      {
        "duration": 14,
        "start_time": "2022-09-10T13:52:59.797Z"
      },
      {
        "duration": 22,
        "start_time": "2022-09-10T13:53:02.968Z"
      },
      {
        "duration": 20,
        "start_time": "2022-09-10T13:53:03.657Z"
      },
      {
        "duration": 15,
        "start_time": "2022-09-10T13:53:04.880Z"
      },
      {
        "duration": 7,
        "start_time": "2022-09-10T13:53:05.220Z"
      },
      {
        "duration": 10,
        "start_time": "2022-09-10T13:53:06.454Z"
      },
      {
        "duration": 6,
        "start_time": "2022-09-10T13:53:07.293Z"
      },
      {
        "duration": 2,
        "start_time": "2022-09-10T13:53:08.190Z"
      },
      {
        "duration": 4,
        "start_time": "2022-09-10T13:53:09.533Z"
      },
      {
        "duration": 9,
        "start_time": "2022-09-10T13:53:11.517Z"
      },
      {
        "duration": 5,
        "start_time": "2022-09-10T13:53:11.866Z"
      },
      {
        "duration": 9,
        "start_time": "2022-09-10T13:53:12.607Z"
      },
      {
        "duration": 4,
        "start_time": "2022-09-10T13:53:14.183Z"
      },
      {
        "duration": 6,
        "start_time": "2022-09-10T13:53:14.580Z"
      },
      {
        "duration": 8,
        "start_time": "2022-09-10T13:53:16.493Z"
      },
      {
        "duration": 3,
        "start_time": "2022-09-10T13:53:18.678Z"
      },
      {
        "duration": 5,
        "start_time": "2022-09-10T13:53:37.543Z"
      },
      {
        "duration": 7,
        "start_time": "2022-09-10T13:53:51.378Z"
      },
      {
        "duration": 4,
        "start_time": "2022-09-10T13:54:26.163Z"
      },
      {
        "duration": 5,
        "start_time": "2022-09-10T13:54:29.856Z"
      },
      {
        "duration": 5,
        "start_time": "2022-09-10T14:00:10.966Z"
      },
      {
        "duration": 8,
        "start_time": "2022-09-10T14:00:12.665Z"
      },
      {
        "duration": 7,
        "start_time": "2022-09-10T14:03:02.893Z"
      },
      {
        "duration": 8,
        "start_time": "2022-09-10T14:03:57.403Z"
      },
      {
        "duration": 6,
        "start_time": "2022-09-10T14:04:04.789Z"
      },
      {
        "duration": 6,
        "start_time": "2022-09-10T14:04:13.556Z"
      },
      {
        "duration": 4,
        "start_time": "2022-09-10T14:04:33.084Z"
      },
      {
        "duration": 7,
        "start_time": "2022-09-10T14:04:59.029Z"
      },
      {
        "duration": 6,
        "start_time": "2022-09-10T14:05:13.856Z"
      },
      {
        "duration": 5,
        "start_time": "2022-09-10T14:05:23.304Z"
      },
      {
        "duration": 7,
        "start_time": "2022-09-10T14:05:38.801Z"
      },
      {
        "duration": 5,
        "start_time": "2022-09-10T14:05:49.049Z"
      },
      {
        "duration": 7,
        "start_time": "2022-09-10T14:05:51.334Z"
      },
      {
        "duration": 6,
        "start_time": "2022-09-10T14:06:13.576Z"
      },
      {
        "duration": 14,
        "start_time": "2022-09-10T14:06:59.712Z"
      },
      {
        "duration": 16,
        "start_time": "2022-09-10T14:08:41.492Z"
      },
      {
        "duration": 15,
        "start_time": "2022-09-10T14:08:43.196Z"
      },
      {
        "duration": 13,
        "start_time": "2022-09-10T14:08:45.236Z"
      },
      {
        "duration": 5,
        "start_time": "2022-09-10T14:14:07.834Z"
      },
      {
        "duration": 5,
        "start_time": "2022-09-10T14:20:31.450Z"
      },
      {
        "duration": 4,
        "start_time": "2022-09-10T14:20:32.215Z"
      },
      {
        "duration": 4,
        "start_time": "2022-09-10T14:20:40.223Z"
      },
      {
        "duration": 4,
        "start_time": "2022-09-10T14:20:47.767Z"
      },
      {
        "duration": 7,
        "start_time": "2022-09-10T14:21:03.669Z"
      },
      {
        "duration": 17,
        "start_time": "2022-09-10T14:21:21.026Z"
      },
      {
        "duration": 16,
        "start_time": "2022-09-10T14:21:27.073Z"
      },
      {
        "duration": 6,
        "start_time": "2022-09-10T14:22:09.161Z"
      },
      {
        "duration": 19,
        "start_time": "2022-09-10T14:23:25.087Z"
      },
      {
        "duration": 20,
        "start_time": "2022-09-10T14:23:41.778Z"
      },
      {
        "duration": 30,
        "start_time": "2022-09-10T14:32:00.632Z"
      },
      {
        "duration": 4,
        "start_time": "2022-09-10T14:33:03.706Z"
      },
      {
        "duration": 5,
        "start_time": "2022-09-10T14:33:33.414Z"
      },
      {
        "duration": 19,
        "start_time": "2022-09-10T14:37:27.816Z"
      },
      {
        "duration": 412,
        "start_time": "2022-09-10T14:40:57.569Z"
      },
      {
        "duration": 7,
        "start_time": "2022-09-10T14:40:59.062Z"
      },
      {
        "duration": 13,
        "start_time": "2022-09-10T14:40:59.403Z"
      },
      {
        "duration": 17,
        "start_time": "2022-09-10T14:41:07.812Z"
      },
      {
        "duration": 11,
        "start_time": "2022-09-10T14:41:14.511Z"
      },
      {
        "duration": 14,
        "start_time": "2022-09-10T14:41:22.066Z"
      },
      {
        "duration": 19,
        "start_time": "2022-09-10T14:41:22.793Z"
      },
      {
        "duration": 19,
        "start_time": "2022-09-10T14:41:24.198Z"
      },
      {
        "duration": 15,
        "start_time": "2022-09-10T14:41:26.894Z"
      },
      {
        "duration": 11,
        "start_time": "2022-09-10T14:41:27.273Z"
      },
      {
        "duration": 10,
        "start_time": "2022-09-10T14:41:30.905Z"
      },
      {
        "duration": 8,
        "start_time": "2022-09-10T14:41:33.680Z"
      },
      {
        "duration": 2,
        "start_time": "2022-09-10T14:41:34.846Z"
      },
      {
        "duration": 7,
        "start_time": "2022-09-10T14:41:37.414Z"
      },
      {
        "duration": 8,
        "start_time": "2022-09-10T14:41:37.846Z"
      },
      {
        "duration": 5,
        "start_time": "2022-09-10T14:41:38.109Z"
      },
      {
        "duration": 9,
        "start_time": "2022-09-10T14:41:39.798Z"
      },
      {
        "duration": 5,
        "start_time": "2022-09-10T14:41:41.549Z"
      },
      {
        "duration": 5,
        "start_time": "2022-09-10T14:41:41.882Z"
      },
      {
        "duration": 8,
        "start_time": "2022-09-10T14:41:43.944Z"
      },
      {
        "duration": 24,
        "start_time": "2022-09-10T14:42:17.486Z"
      },
      {
        "duration": 3,
        "start_time": "2022-09-10T14:42:40.534Z"
      },
      {
        "duration": 19,
        "start_time": "2022-09-10T14:42:45.737Z"
      },
      {
        "duration": 5,
        "start_time": "2022-09-10T14:42:55.396Z"
      },
      {
        "duration": 6,
        "start_time": "2022-09-10T14:42:59.685Z"
      },
      {
        "duration": 18,
        "start_time": "2022-09-10T14:43:05.049Z"
      },
      {
        "duration": 8,
        "start_time": "2022-09-10T14:47:54.944Z"
      },
      {
        "duration": 7,
        "start_time": "2022-09-10T14:47:55.792Z"
      },
      {
        "duration": 5,
        "start_time": "2022-09-10T14:47:56.949Z"
      },
      {
        "duration": 7,
        "start_time": "2022-09-10T14:47:57.295Z"
      },
      {
        "duration": 7,
        "start_time": "2022-09-10T14:47:58.944Z"
      },
      {
        "duration": 7,
        "start_time": "2022-09-10T14:48:01.037Z"
      },
      {
        "duration": 4,
        "start_time": "2022-09-10T14:48:01.860Z"
      },
      {
        "duration": 6,
        "start_time": "2022-09-10T14:48:02.227Z"
      },
      {
        "duration": 6,
        "start_time": "2022-09-10T14:48:03.788Z"
      },
      {
        "duration": 14,
        "start_time": "2022-09-10T14:48:06.960Z"
      },
      {
        "duration": 17,
        "start_time": "2022-09-10T14:48:07.413Z"
      },
      {
        "duration": 14,
        "start_time": "2022-09-10T14:48:08.306Z"
      },
      {
        "duration": 12,
        "start_time": "2022-09-10T14:48:08.898Z"
      },
      {
        "duration": 14,
        "start_time": "2022-09-10T14:57:04.052Z"
      },
      {
        "duration": 13,
        "start_time": "2022-09-10T14:57:11.224Z"
      },
      {
        "duration": 430,
        "start_time": "2022-09-10T14:58:32.427Z"
      },
      {
        "duration": 8,
        "start_time": "2022-09-10T14:58:33.809Z"
      },
      {
        "duration": 14,
        "start_time": "2022-09-10T14:58:34.128Z"
      },
      {
        "duration": 13,
        "start_time": "2022-09-10T14:58:35.271Z"
      },
      {
        "duration": 19,
        "start_time": "2022-09-10T14:58:35.862Z"
      },
      {
        "duration": 20,
        "start_time": "2022-09-10T14:58:36.995Z"
      },
      {
        "duration": 14,
        "start_time": "2022-09-10T14:58:52.558Z"
      },
      {
        "duration": 14,
        "start_time": "2022-09-10T14:58:52.573Z"
      },
      {
        "duration": 11,
        "start_time": "2022-09-10T14:58:52.782Z"
      },
      {
        "duration": 7,
        "start_time": "2022-09-10T14:58:53.265Z"
      },
      {
        "duration": 5,
        "start_time": "2022-09-10T14:59:01.107Z"
      },
      {
        "duration": 8,
        "start_time": "2022-09-10T14:59:03.908Z"
      },
      {
        "duration": 5,
        "start_time": "2022-09-10T14:59:04.338Z"
      },
      {
        "duration": 9,
        "start_time": "2022-09-10T14:59:05.254Z"
      },
      {
        "duration": 6,
        "start_time": "2022-09-10T14:59:07.353Z"
      },
      {
        "duration": 5,
        "start_time": "2022-09-10T14:59:08.059Z"
      },
      {
        "duration": 8,
        "start_time": "2022-09-10T14:59:14.375Z"
      },
      {
        "duration": 20,
        "start_time": "2022-09-10T14:59:15.752Z"
      },
      {
        "duration": 5,
        "start_time": "2022-09-10T14:59:26.328Z"
      },
      {
        "duration": 19,
        "start_time": "2022-09-10T14:59:31.003Z"
      },
      {
        "duration": 13,
        "start_time": "2022-09-10T14:59:35.933Z"
      },
      {
        "duration": 389,
        "start_time": "2022-09-10T15:02:22.605Z"
      },
      {
        "duration": 7,
        "start_time": "2022-09-10T15:02:23.484Z"
      },
      {
        "duration": 13,
        "start_time": "2022-09-10T15:02:23.807Z"
      },
      {
        "duration": 13,
        "start_time": "2022-09-10T15:02:24.847Z"
      },
      {
        "duration": 18,
        "start_time": "2022-09-10T15:02:25.582Z"
      },
      {
        "duration": 20,
        "start_time": "2022-09-10T15:02:26.704Z"
      },
      {
        "duration": 19,
        "start_time": "2022-09-10T15:02:30.993Z"
      },
      {
        "duration": 8,
        "start_time": "2022-09-10T15:02:31.176Z"
      },
      {
        "duration": 11,
        "start_time": "2022-09-10T15:02:32.842Z"
      },
      {
        "duration": 6,
        "start_time": "2022-09-10T15:02:34.276Z"
      },
      {
        "duration": 6,
        "start_time": "2022-09-10T15:02:36.762Z"
      },
      {
        "duration": 9,
        "start_time": "2022-09-10T15:02:37.496Z"
      },
      {
        "duration": 5,
        "start_time": "2022-09-10T15:02:38.179Z"
      },
      {
        "duration": 9,
        "start_time": "2022-09-10T15:02:39.530Z"
      },
      {
        "duration": 5,
        "start_time": "2022-09-10T15:02:40.584Z"
      },
      {
        "duration": 5,
        "start_time": "2022-09-10T15:02:41.136Z"
      },
      {
        "duration": 9,
        "start_time": "2022-09-10T15:02:44.137Z"
      },
      {
        "duration": 3,
        "start_time": "2022-09-10T15:02:54.768Z"
      },
      {
        "duration": 5,
        "start_time": "2022-09-10T15:03:19.394Z"
      },
      {
        "duration": 20,
        "start_time": "2022-09-10T15:03:21.341Z"
      },
      {
        "duration": 7,
        "start_time": "2022-09-10T15:04:02.339Z"
      },
      {
        "duration": 7,
        "start_time": "2022-09-10T15:04:21.833Z"
      },
      {
        "duration": 4,
        "start_time": "2022-09-10T15:04:25.602Z"
      },
      {
        "duration": 6,
        "start_time": "2022-09-10T15:04:25.992Z"
      },
      {
        "duration": 6,
        "start_time": "2022-09-10T15:04:28.851Z"
      },
      {
        "duration": 6,
        "start_time": "2022-09-10T15:04:32.889Z"
      },
      {
        "duration": 4,
        "start_time": "2022-09-10T15:04:33.792Z"
      },
      {
        "duration": 6,
        "start_time": "2022-09-10T15:04:34.228Z"
      },
      {
        "duration": 6,
        "start_time": "2022-09-10T15:04:36.376Z"
      },
      {
        "duration": 16,
        "start_time": "2022-09-10T15:04:38.305Z"
      },
      {
        "duration": 16,
        "start_time": "2022-09-10T15:04:40.867Z"
      },
      {
        "duration": 15,
        "start_time": "2022-09-10T15:04:41.329Z"
      },
      {
        "duration": 13,
        "start_time": "2022-09-10T15:04:41.795Z"
      },
      {
        "duration": 653,
        "start_time": "2022-09-12T13:45:28.515Z"
      },
      {
        "duration": 10,
        "start_time": "2022-09-12T13:45:29.648Z"
      },
      {
        "duration": 22,
        "start_time": "2022-09-12T13:45:29.981Z"
      },
      {
        "duration": 22,
        "start_time": "2022-09-12T13:45:30.764Z"
      },
      {
        "duration": 35,
        "start_time": "2022-09-12T13:45:31.555Z"
      },
      {
        "duration": 22,
        "start_time": "2022-09-12T13:45:32.191Z"
      },
      {
        "duration": 19,
        "start_time": "2022-09-12T13:45:34.352Z"
      },
      {
        "duration": 11,
        "start_time": "2022-09-12T13:45:34.797Z"
      },
      {
        "duration": 17,
        "start_time": "2022-09-12T13:45:39.371Z"
      },
      {
        "duration": 10,
        "start_time": "2022-09-12T13:45:40.452Z"
      },
      {
        "duration": 2,
        "start_time": "2022-09-12T13:45:41.568Z"
      },
      {
        "duration": 7,
        "start_time": "2022-09-12T13:45:42.924Z"
      },
      {
        "duration": 13,
        "start_time": "2022-09-12T13:45:44.833Z"
      },
      {
        "duration": 7,
        "start_time": "2022-09-12T13:45:45.255Z"
      },
      {
        "duration": 14,
        "start_time": "2022-09-12T13:45:46.830Z"
      },
      {
        "duration": 5,
        "start_time": "2022-09-12T13:45:47.523Z"
      },
      {
        "duration": 6,
        "start_time": "2022-09-12T13:45:49.001Z"
      },
      {
        "duration": 10,
        "start_time": "2022-09-12T13:45:49.961Z"
      },
      {
        "duration": 4,
        "start_time": "2022-09-12T13:45:51.326Z"
      },
      {
        "duration": 7,
        "start_time": "2022-09-12T13:45:51.872Z"
      },
      {
        "duration": 8,
        "start_time": "2022-09-12T13:45:52.269Z"
      },
      {
        "duration": 9,
        "start_time": "2022-09-12T13:45:54.986Z"
      },
      {
        "duration": 4,
        "start_time": "2022-09-12T13:45:57.105Z"
      },
      {
        "duration": 6,
        "start_time": "2022-09-12T13:45:58.794Z"
      },
      {
        "duration": 8,
        "start_time": "2022-09-12T13:46:02.744Z"
      },
      {
        "duration": 8,
        "start_time": "2022-09-12T13:46:04.861Z"
      },
      {
        "duration": 6,
        "start_time": "2022-09-12T13:46:05.228Z"
      },
      {
        "duration": 8,
        "start_time": "2022-09-12T13:46:06.805Z"
      },
      {
        "duration": 7,
        "start_time": "2022-09-12T13:46:10.068Z"
      },
      {
        "duration": 26,
        "start_time": "2022-09-12T13:46:14.091Z"
      },
      {
        "duration": 27,
        "start_time": "2022-09-12T13:46:14.568Z"
      },
      {
        "duration": 19,
        "start_time": "2022-09-12T13:46:14.984Z"
      },
      {
        "duration": 13,
        "start_time": "2022-09-12T13:46:15.393Z"
      },
      {
        "duration": 5,
        "start_time": "2022-09-12T13:46:18.725Z"
      },
      {
        "duration": 4,
        "start_time": "2022-09-12T13:46:20.649Z"
      },
      {
        "duration": 4,
        "start_time": "2022-09-12T13:46:22.701Z"
      },
      {
        "duration": 20,
        "start_time": "2022-09-12T13:46:23.868Z"
      },
      {
        "duration": 7,
        "start_time": "2022-09-12T13:46:24.998Z"
      },
      {
        "duration": 36,
        "start_time": "2022-09-12T13:46:56.499Z"
      },
      {
        "duration": 6,
        "start_time": "2022-09-12T13:46:56.538Z"
      },
      {
        "duration": 6,
        "start_time": "2022-09-12T13:47:34.595Z"
      },
      {
        "duration": 4,
        "start_time": "2022-09-12T13:47:57.054Z"
      },
      {
        "duration": 31,
        "start_time": "2022-09-12T13:49:01.481Z"
      },
      {
        "duration": 5,
        "start_time": "2022-09-12T13:49:26.104Z"
      },
      {
        "duration": 9,
        "start_time": "2022-09-12T13:51:15.825Z"
      },
      {
        "duration": 7,
        "start_time": "2022-09-12T13:51:16.650Z"
      },
      {
        "duration": 14,
        "start_time": "2022-09-12T13:52:00.865Z"
      },
      {
        "duration": 5,
        "start_time": "2022-09-12T13:52:01.641Z"
      },
      {
        "duration": 4,
        "start_time": "2022-09-12T14:07:55.345Z"
      },
      {
        "duration": 5,
        "start_time": "2022-09-12T14:08:07.061Z"
      },
      {
        "duration": 4,
        "start_time": "2022-09-12T14:08:24.041Z"
      },
      {
        "duration": 65,
        "start_time": "2022-09-12T14:08:54.384Z"
      },
      {
        "duration": 7,
        "start_time": "2022-09-12T14:08:56.717Z"
      },
      {
        "duration": 17,
        "start_time": "2022-09-12T14:09:18.682Z"
      },
      {
        "duration": 3,
        "start_time": "2022-09-12T14:10:34.387Z"
      },
      {
        "duration": 6,
        "start_time": "2022-09-12T14:10:43.807Z"
      },
      {
        "duration": 1597,
        "start_time": "2022-09-12T14:10:50.616Z"
      },
      {
        "duration": 5,
        "start_time": "2022-09-12T14:11:50.426Z"
      },
      {
        "duration": 5,
        "start_time": "2022-09-12T14:12:19.675Z"
      },
      {
        "duration": 14,
        "start_time": "2022-09-12T14:13:58.072Z"
      },
      {
        "duration": 16,
        "start_time": "2022-09-12T14:14:23.125Z"
      },
      {
        "duration": 5,
        "start_time": "2022-09-12T14:14:55.781Z"
      },
      {
        "duration": 18,
        "start_time": "2022-09-12T14:15:06.089Z"
      },
      {
        "duration": 490,
        "start_time": "2022-09-12T14:16:48.982Z"
      },
      {
        "duration": 8,
        "start_time": "2022-09-12T14:16:49.670Z"
      },
      {
        "duration": 18,
        "start_time": "2022-09-12T14:16:51.171Z"
      },
      {
        "duration": 16,
        "start_time": "2022-09-12T14:16:52.260Z"
      },
      {
        "duration": 23,
        "start_time": "2022-09-12T14:16:53.113Z"
      },
      {
        "duration": 22,
        "start_time": "2022-09-12T14:16:53.957Z"
      },
      {
        "duration": 18,
        "start_time": "2022-09-12T14:16:54.840Z"
      },
      {
        "duration": 9,
        "start_time": "2022-09-12T14:16:55.188Z"
      },
      {
        "duration": 11,
        "start_time": "2022-09-12T14:16:57.447Z"
      },
      {
        "duration": 7,
        "start_time": "2022-09-12T14:16:58.620Z"
      },
      {
        "duration": 3,
        "start_time": "2022-09-12T14:16:59.585Z"
      },
      {
        "duration": 6,
        "start_time": "2022-09-12T14:17:01.282Z"
      },
      {
        "duration": 9,
        "start_time": "2022-09-12T14:17:02.342Z"
      },
      {
        "duration": 5,
        "start_time": "2022-09-12T14:17:02.919Z"
      },
      {
        "duration": 10,
        "start_time": "2022-09-12T14:17:04.525Z"
      },
      {
        "duration": 5,
        "start_time": "2022-09-12T14:17:05.575Z"
      },
      {
        "duration": 6,
        "start_time": "2022-09-12T14:17:05.953Z"
      },
      {
        "duration": 9,
        "start_time": "2022-09-12T14:17:07.186Z"
      },
      {
        "duration": 3,
        "start_time": "2022-09-12T14:17:08.270Z"
      },
      {
        "duration": 5,
        "start_time": "2022-09-12T14:17:09.016Z"
      },
      {
        "duration": 7,
        "start_time": "2022-09-12T14:17:10.582Z"
      },
      {
        "duration": 8,
        "start_time": "2022-09-12T14:17:11.299Z"
      },
      {
        "duration": 4,
        "start_time": "2022-09-12T14:17:12.786Z"
      },
      {
        "duration": 7,
        "start_time": "2022-09-12T14:17:13.231Z"
      },
      {
        "duration": 9,
        "start_time": "2022-09-12T14:17:14.289Z"
      },
      {
        "duration": 6,
        "start_time": "2022-09-12T14:17:16.778Z"
      },
      {
        "duration": 5,
        "start_time": "2022-09-12T14:17:17.199Z"
      },
      {
        "duration": 6,
        "start_time": "2022-09-12T14:17:18.149Z"
      },
      {
        "duration": 8,
        "start_time": "2022-09-12T14:17:19.067Z"
      },
      {
        "duration": 18,
        "start_time": "2022-09-12T14:17:21.206Z"
      },
      {
        "duration": 19,
        "start_time": "2022-09-12T14:17:21.586Z"
      },
      {
        "duration": 17,
        "start_time": "2022-09-12T14:17:21.969Z"
      },
      {
        "duration": 14,
        "start_time": "2022-09-12T14:17:23.927Z"
      },
      {
        "duration": 5,
        "start_time": "2022-09-12T14:17:25.324Z"
      },
      {
        "duration": 5,
        "start_time": "2022-09-12T14:17:26.740Z"
      },
      {
        "duration": 4,
        "start_time": "2022-09-12T14:17:27.186Z"
      },
      {
        "duration": 17,
        "start_time": "2022-09-12T14:17:27.651Z"
      },
      {
        "duration": 7,
        "start_time": "2022-09-12T14:17:29.495Z"
      },
      {
        "duration": 25,
        "start_time": "2022-09-12T14:17:32.377Z"
      },
      {
        "duration": 4,
        "start_time": "2022-09-12T14:17:32.766Z"
      },
      {
        "duration": 5,
        "start_time": "2022-09-12T14:17:34.096Z"
      },
      {
        "duration": 2,
        "start_time": "2022-09-12T14:17:42.788Z"
      },
      {
        "duration": 15,
        "start_time": "2022-09-12T14:17:43.789Z"
      },
      {
        "duration": 4,
        "start_time": "2022-09-12T14:17:50.872Z"
      },
      {
        "duration": 17,
        "start_time": "2022-09-12T14:17:53.784Z"
      },
      {
        "duration": 5,
        "start_time": "2022-09-12T14:17:59.362Z"
      },
      {
        "duration": 5,
        "start_time": "2022-09-12T14:18:00.335Z"
      },
      {
        "duration": 17,
        "start_time": "2022-09-12T14:18:04.620Z"
      },
      {
        "duration": 11,
        "start_time": "2022-09-12T14:29:10.133Z"
      },
      {
        "duration": 11,
        "start_time": "2022-09-12T14:30:31.432Z"
      },
      {
        "duration": 40,
        "start_time": "2022-09-12T14:30:57.979Z"
      },
      {
        "duration": 67,
        "start_time": "2022-09-12T14:31:13.464Z"
      },
      {
        "duration": 16,
        "start_time": "2022-09-12T14:31:15.840Z"
      },
      {
        "duration": 466,
        "start_time": "2022-09-12T15:09:33.975Z"
      },
      {
        "duration": 8,
        "start_time": "2022-09-12T15:09:40.116Z"
      },
      {
        "duration": 16,
        "start_time": "2022-09-12T15:09:40.405Z"
      },
      {
        "duration": 15,
        "start_time": "2022-09-12T15:09:45.539Z"
      },
      {
        "duration": 22,
        "start_time": "2022-09-12T15:09:47.156Z"
      },
      {
        "duration": 22,
        "start_time": "2022-09-12T15:09:48.539Z"
      },
      {
        "duration": 18,
        "start_time": "2022-09-12T15:10:16.478Z"
      },
      {
        "duration": 9,
        "start_time": "2022-09-12T15:11:53.375Z"
      },
      {
        "duration": 66,
        "start_time": "2022-09-12T15:13:43.391Z"
      },
      {
        "duration": 7,
        "start_time": "2022-09-12T15:13:53.985Z"
      },
      {
        "duration": 13,
        "start_time": "2022-09-12T15:13:59.150Z"
      },
      {
        "duration": 9,
        "start_time": "2022-09-12T15:14:12.769Z"
      },
      {
        "duration": 10,
        "start_time": "2022-09-12T15:14:25.598Z"
      },
      {
        "duration": 7,
        "start_time": "2022-09-12T15:15:30.386Z"
      },
      {
        "duration": 12,
        "start_time": "2022-09-12T15:15:39.979Z"
      },
      {
        "duration": 5,
        "start_time": "2022-09-12T15:17:33.535Z"
      },
      {
        "duration": 10,
        "start_time": "2022-09-12T15:17:33.927Z"
      },
      {
        "duration": 6,
        "start_time": "2022-09-12T15:17:34.896Z"
      },
      {
        "duration": 11,
        "start_time": "2022-09-12T15:17:38.289Z"
      },
      {
        "duration": 5,
        "start_time": "2022-09-12T15:17:39.336Z"
      },
      {
        "duration": 7,
        "start_time": "2022-09-12T15:17:39.709Z"
      },
      {
        "duration": 10,
        "start_time": "2022-09-12T15:17:43.380Z"
      },
      {
        "duration": 9,
        "start_time": "2022-09-12T15:19:13.951Z"
      },
      {
        "duration": 4,
        "start_time": "2022-09-12T15:19:32.295Z"
      },
      {
        "duration": 6,
        "start_time": "2022-09-12T15:19:35.456Z"
      },
      {
        "duration": 7,
        "start_time": "2022-09-12T15:20:36.905Z"
      },
      {
        "duration": 7,
        "start_time": "2022-09-12T15:20:37.845Z"
      },
      {
        "duration": 8,
        "start_time": "2022-09-12T15:23:51.578Z"
      },
      {
        "duration": 8,
        "start_time": "2022-09-12T15:23:54.932Z"
      },
      {
        "duration": 7,
        "start_time": "2022-09-12T15:23:55.957Z"
      },
      {
        "duration": 7,
        "start_time": "2022-09-12T15:23:56.425Z"
      },
      {
        "duration": 7,
        "start_time": "2022-09-12T15:23:59.115Z"
      },
      {
        "duration": 19,
        "start_time": "2022-09-12T15:24:02.216Z"
      },
      {
        "duration": 19,
        "start_time": "2022-09-12T15:24:02.359Z"
      },
      {
        "duration": 17,
        "start_time": "2022-09-12T15:24:02.699Z"
      },
      {
        "duration": 14,
        "start_time": "2022-09-12T15:24:02.979Z"
      },
      {
        "duration": 5,
        "start_time": "2022-09-12T15:24:08.204Z"
      },
      {
        "duration": 5,
        "start_time": "2022-09-12T15:24:10.111Z"
      },
      {
        "duration": 3,
        "start_time": "2022-09-12T15:24:11.624Z"
      },
      {
        "duration": 18,
        "start_time": "2022-09-12T15:24:12.013Z"
      },
      {
        "duration": 7,
        "start_time": "2022-09-12T15:24:12.365Z"
      },
      {
        "duration": 24,
        "start_time": "2022-09-12T15:24:15.275Z"
      },
      {
        "duration": 5,
        "start_time": "2022-09-12T15:24:16.092Z"
      },
      {
        "duration": 5,
        "start_time": "2022-09-12T15:24:18.456Z"
      },
      {
        "duration": 5,
        "start_time": "2022-09-12T15:24:20.499Z"
      },
      {
        "duration": 16,
        "start_time": "2022-09-12T15:24:20.885Z"
      },
      {
        "duration": 3,
        "start_time": "2022-09-12T15:24:21.295Z"
      },
      {
        "duration": 5,
        "start_time": "2022-09-12T15:24:22.079Z"
      },
      {
        "duration": 16,
        "start_time": "2022-09-12T15:24:25.189Z"
      },
      {
        "duration": 12,
        "start_time": "2022-09-12T15:24:28.377Z"
      },
      {
        "duration": 10,
        "start_time": "2022-09-12T15:24:28.885Z"
      },
      {
        "duration": 11,
        "start_time": "2022-09-12T15:26:45.657Z"
      },
      {
        "duration": 7,
        "start_time": "2022-09-12T15:28:11.390Z"
      },
      {
        "duration": 8,
        "start_time": "2022-09-12T15:28:25.838Z"
      },
      {
        "duration": 7,
        "start_time": "2022-09-12T15:29:25.696Z"
      },
      {
        "duration": 6,
        "start_time": "2022-09-12T15:31:19.809Z"
      },
      {
        "duration": 9,
        "start_time": "2022-09-12T15:31:30.268Z"
      },
      {
        "duration": 5,
        "start_time": "2022-09-12T15:31:52.141Z"
      },
      {
        "duration": 8,
        "start_time": "2022-09-12T15:32:03.372Z"
      },
      {
        "duration": 2065,
        "start_time": "2022-09-12T15:32:41.442Z"
      },
      {
        "duration": 1381,
        "start_time": "2022-09-12T15:32:49.940Z"
      },
      {
        "duration": 22,
        "start_time": "2022-09-12T15:32:57.200Z"
      },
      {
        "duration": 14,
        "start_time": "2022-09-12T15:33:28.513Z"
      },
      {
        "duration": 6,
        "start_time": "2022-09-12T15:37:33.901Z"
      },
      {
        "duration": 421,
        "start_time": "2022-09-12T15:40:23.548Z"
      },
      {
        "duration": 9,
        "start_time": "2022-09-12T15:40:24.585Z"
      },
      {
        "duration": 17,
        "start_time": "2022-09-12T15:40:24.923Z"
      },
      {
        "duration": 18,
        "start_time": "2022-09-12T15:40:26.555Z"
      },
      {
        "duration": 22,
        "start_time": "2022-09-12T15:40:27.380Z"
      },
      {
        "duration": 20,
        "start_time": "2022-09-12T15:40:28.110Z"
      },
      {
        "duration": 17,
        "start_time": "2022-09-12T15:40:29.217Z"
      },
      {
        "duration": 9,
        "start_time": "2022-09-12T15:40:29.560Z"
      },
      {
        "duration": 10,
        "start_time": "2022-09-12T15:42:31.444Z"
      },
      {
        "duration": 7,
        "start_time": "2022-09-12T15:42:41.144Z"
      },
      {
        "duration": 12,
        "start_time": "2022-09-12T15:42:55.278Z"
      },
      {
        "duration": 8,
        "start_time": "2022-09-12T15:43:07.264Z"
      },
      {
        "duration": 8,
        "start_time": "2022-09-12T15:44:03.156Z"
      },
      {
        "duration": 6,
        "start_time": "2022-09-12T15:44:22.985Z"
      },
      {
        "duration": 10,
        "start_time": "2022-09-12T15:44:23.339Z"
      },
      {
        "duration": 5,
        "start_time": "2022-09-12T15:44:23.637Z"
      },
      {
        "duration": 10,
        "start_time": "2022-09-12T15:44:24.759Z"
      },
      {
        "duration": 6,
        "start_time": "2022-09-12T15:44:25.928Z"
      },
      {
        "duration": 6,
        "start_time": "2022-09-12T15:44:26.318Z"
      },
      {
        "duration": 11,
        "start_time": "2022-09-12T15:44:27.655Z"
      },
      {
        "duration": 13,
        "start_time": "2022-09-12T15:51:29.725Z"
      },
      {
        "duration": 8,
        "start_time": "2022-09-12T15:51:57.357Z"
      },
      {
        "duration": 8,
        "start_time": "2022-09-12T15:52:25.290Z"
      },
      {
        "duration": 4,
        "start_time": "2022-09-12T15:52:26.386Z"
      },
      {
        "duration": 7,
        "start_time": "2022-09-12T15:52:26.905Z"
      },
      {
        "duration": 10,
        "start_time": "2022-09-12T15:52:28.505Z"
      },
      {
        "duration": 10,
        "start_time": "2022-09-12T15:52:31.452Z"
      },
      {
        "duration": 6,
        "start_time": "2022-09-12T15:52:31.936Z"
      },
      {
        "duration": 7,
        "start_time": "2022-09-12T15:52:32.671Z"
      },
      {
        "duration": 7,
        "start_time": "2022-09-12T15:53:16.389Z"
      },
      {
        "duration": 18,
        "start_time": "2022-09-12T15:53:18.649Z"
      },
      {
        "duration": 18,
        "start_time": "2022-09-12T15:53:19.055Z"
      },
      {
        "duration": 17,
        "start_time": "2022-09-12T15:53:19.709Z"
      },
      {
        "duration": 13,
        "start_time": "2022-09-12T15:53:20.407Z"
      },
      {
        "duration": 5,
        "start_time": "2022-09-12T15:53:26.320Z"
      },
      {
        "duration": 5,
        "start_time": "2022-09-12T15:53:28.805Z"
      },
      {
        "duration": 3,
        "start_time": "2022-09-12T15:53:31.020Z"
      },
      {
        "duration": 18,
        "start_time": "2022-09-12T15:53:31.480Z"
      },
      {
        "duration": 7,
        "start_time": "2022-09-12T15:53:33.822Z"
      },
      {
        "duration": 27,
        "start_time": "2022-09-12T15:53:34.974Z"
      },
      {
        "duration": 6,
        "start_time": "2022-09-12T15:53:35.408Z"
      },
      {
        "duration": 70,
        "start_time": "2022-09-12T15:53:37.738Z"
      },
      {
        "duration": 6,
        "start_time": "2022-09-12T15:54:16.026Z"
      },
      {
        "duration": 4,
        "start_time": "2022-09-12T15:54:17.328Z"
      },
      {
        "duration": 16,
        "start_time": "2022-09-12T15:54:18.744Z"
      },
      {
        "duration": 3,
        "start_time": "2022-09-12T15:54:19.239Z"
      },
      {
        "duration": 5,
        "start_time": "2022-09-12T15:54:20.625Z"
      },
      {
        "duration": 11,
        "start_time": "2022-09-12T15:54:25.290Z"
      },
      {
        "duration": 9,
        "start_time": "2022-09-12T15:54:25.733Z"
      },
      {
        "duration": 17,
        "start_time": "2022-09-12T16:14:56.447Z"
      },
      {
        "duration": 13,
        "start_time": "2022-09-12T16:15:04.864Z"
      },
      {
        "duration": 13,
        "start_time": "2022-09-12T16:15:17.952Z"
      },
      {
        "duration": 4,
        "start_time": "2022-09-12T16:20:34.885Z"
      },
      {
        "duration": 5,
        "start_time": "2022-09-12T16:21:06.915Z"
      },
      {
        "duration": 4,
        "start_time": "2022-09-12T16:21:12.875Z"
      },
      {
        "duration": 19,
        "start_time": "2022-09-12T16:21:36.549Z"
      },
      {
        "duration": 16,
        "start_time": "2022-09-12T16:21:48.840Z"
      },
      {
        "duration": 443,
        "start_time": "2022-09-12T16:22:17.736Z"
      },
      {
        "duration": 8,
        "start_time": "2022-09-12T16:22:18.935Z"
      },
      {
        "duration": 16,
        "start_time": "2022-09-12T16:22:19.515Z"
      },
      {
        "duration": 16,
        "start_time": "2022-09-12T16:22:20.759Z"
      },
      {
        "duration": 21,
        "start_time": "2022-09-12T16:22:21.595Z"
      },
      {
        "duration": 22,
        "start_time": "2022-09-12T16:22:22.510Z"
      },
      {
        "duration": 18,
        "start_time": "2022-09-12T16:22:23.901Z"
      },
      {
        "duration": 8,
        "start_time": "2022-09-12T16:22:24.324Z"
      },
      {
        "duration": 11,
        "start_time": "2022-09-12T16:22:25.595Z"
      },
      {
        "duration": 8,
        "start_time": "2022-09-12T16:22:27.050Z"
      },
      {
        "duration": 2,
        "start_time": "2022-09-12T16:22:28.140Z"
      },
      {
        "duration": 6,
        "start_time": "2022-09-12T16:22:30.128Z"
      },
      {
        "duration": 10,
        "start_time": "2022-09-12T16:22:44.669Z"
      },
      {
        "duration": 6,
        "start_time": "2022-09-12T16:22:45.180Z"
      },
      {
        "duration": 11,
        "start_time": "2022-09-12T16:22:46.146Z"
      },
      {
        "duration": 5,
        "start_time": "2022-09-12T16:22:47.309Z"
      },
      {
        "duration": 6,
        "start_time": "2022-09-12T16:22:47.778Z"
      },
      {
        "duration": 10,
        "start_time": "2022-09-12T16:22:48.798Z"
      },
      {
        "duration": 12,
        "start_time": "2022-09-12T16:22:51.152Z"
      },
      {
        "duration": 11,
        "start_time": "2022-09-12T16:22:53.283Z"
      },
      {
        "duration": 8,
        "start_time": "2022-09-12T16:22:54.738Z"
      },
      {
        "duration": 4,
        "start_time": "2022-09-12T16:22:57.278Z"
      },
      {
        "duration": 7,
        "start_time": "2022-09-12T16:22:57.676Z"
      },
      {
        "duration": 7,
        "start_time": "2022-09-12T16:22:58.980Z"
      },
      {
        "duration": 7,
        "start_time": "2022-09-12T16:23:01.792Z"
      },
      {
        "duration": 7,
        "start_time": "2022-09-12T16:23:02.583Z"
      },
      {
        "duration": 6,
        "start_time": "2022-09-12T16:23:03.981Z"
      },
      {
        "duration": 7,
        "start_time": "2022-09-12T16:23:05.897Z"
      },
      {
        "duration": 17,
        "start_time": "2022-09-12T16:23:08.249Z"
      },
      {
        "duration": 21,
        "start_time": "2022-09-12T16:23:08.845Z"
      },
      {
        "duration": 17,
        "start_time": "2022-09-12T16:23:10.696Z"
      },
      {
        "duration": 15,
        "start_time": "2022-09-12T16:23:11.190Z"
      },
      {
        "duration": 5,
        "start_time": "2022-09-12T16:23:13.628Z"
      },
      {
        "duration": 5,
        "start_time": "2022-09-12T16:23:15.547Z"
      },
      {
        "duration": 3,
        "start_time": "2022-09-12T16:23:16.563Z"
      },
      {
        "duration": 18,
        "start_time": "2022-09-12T16:23:17.521Z"
      },
      {
        "duration": 7,
        "start_time": "2022-09-12T16:23:18.331Z"
      },
      {
        "duration": 33,
        "start_time": "2022-09-12T16:23:20.407Z"
      },
      {
        "duration": 8,
        "start_time": "2022-09-12T16:23:20.990Z"
      },
      {
        "duration": 6,
        "start_time": "2022-09-12T16:23:22.210Z"
      },
      {
        "duration": 5,
        "start_time": "2022-09-12T16:23:24.271Z"
      },
      {
        "duration": 16,
        "start_time": "2022-09-12T16:23:25.863Z"
      },
      {
        "duration": 4,
        "start_time": "2022-09-12T16:23:26.516Z"
      },
      {
        "duration": 5,
        "start_time": "2022-09-12T16:23:32.499Z"
      },
      {
        "duration": 16,
        "start_time": "2022-09-12T16:23:34.173Z"
      },
      {
        "duration": 11,
        "start_time": "2022-09-12T16:26:37.062Z"
      },
      {
        "duration": 11,
        "start_time": "2022-09-12T16:26:37.607Z"
      },
      {
        "duration": 10,
        "start_time": "2022-09-12T16:26:39.810Z"
      },
      {
        "duration": 6,
        "start_time": "2022-09-12T16:26:42.716Z"
      },
      {
        "duration": 3,
        "start_time": "2022-09-12T16:26:59.586Z"
      },
      {
        "duration": 16,
        "start_time": "2022-09-12T16:27:03.587Z"
      },
      {
        "duration": 70,
        "start_time": "2022-09-12T16:30:03.906Z"
      },
      {
        "duration": 440,
        "start_time": "2022-09-12T16:30:17.918Z"
      },
      {
        "duration": 10,
        "start_time": "2022-09-12T16:30:18.830Z"
      },
      {
        "duration": 16,
        "start_time": "2022-09-12T16:30:19.192Z"
      },
      {
        "duration": 14,
        "start_time": "2022-09-12T16:30:20.404Z"
      },
      {
        "duration": 21,
        "start_time": "2022-09-12T16:30:21.388Z"
      },
      {
        "duration": 21,
        "start_time": "2022-09-12T16:30:22.339Z"
      },
      {
        "duration": 18,
        "start_time": "2022-09-12T16:30:23.285Z"
      },
      {
        "duration": 8,
        "start_time": "2022-09-12T16:30:23.688Z"
      },
      {
        "duration": 12,
        "start_time": "2022-09-12T16:30:24.595Z"
      },
      {
        "duration": 8,
        "start_time": "2022-09-12T16:30:29.892Z"
      },
      {
        "duration": 5,
        "start_time": "2022-09-12T16:30:35.859Z"
      },
      {
        "duration": 10,
        "start_time": "2022-09-12T16:30:36.307Z"
      },
      {
        "duration": 5,
        "start_time": "2022-09-12T16:30:37.257Z"
      },
      {
        "duration": 10,
        "start_time": "2022-09-12T16:30:38.159Z"
      },
      {
        "duration": 5,
        "start_time": "2022-09-12T16:30:39.260Z"
      },
      {
        "duration": 6,
        "start_time": "2022-09-12T16:30:39.731Z"
      },
      {
        "duration": 10,
        "start_time": "2022-09-12T16:30:40.921Z"
      },
      {
        "duration": 12,
        "start_time": "2022-09-12T16:30:42.755Z"
      },
      {
        "duration": 8,
        "start_time": "2022-09-12T16:30:44.301Z"
      },
      {
        "duration": 8,
        "start_time": "2022-09-12T16:30:45.472Z"
      },
      {
        "duration": 4,
        "start_time": "2022-09-12T16:30:47.240Z"
      },
      {
        "duration": 6,
        "start_time": "2022-09-12T16:30:47.715Z"
      },
      {
        "duration": 9,
        "start_time": "2022-09-12T16:30:48.850Z"
      },
      {
        "duration": 7,
        "start_time": "2022-09-12T16:30:53.824Z"
      },
      {
        "duration": 5,
        "start_time": "2022-09-12T16:30:54.283Z"
      },
      {
        "duration": 7,
        "start_time": "2022-09-12T16:30:54.756Z"
      },
      {
        "duration": 9,
        "start_time": "2022-09-12T16:31:00.835Z"
      },
      {
        "duration": 18,
        "start_time": "2022-09-12T16:31:03.362Z"
      },
      {
        "duration": 19,
        "start_time": "2022-09-12T16:31:03.860Z"
      },
      {
        "duration": 18,
        "start_time": "2022-09-12T16:31:05.219Z"
      },
      {
        "duration": 15,
        "start_time": "2022-09-12T16:31:05.679Z"
      },
      {
        "duration": 5,
        "start_time": "2022-09-12T16:31:07.844Z"
      },
      {
        "duration": 4,
        "start_time": "2022-09-12T16:31:11.705Z"
      },
      {
        "duration": 4,
        "start_time": "2022-09-12T16:31:12.436Z"
      },
      {
        "duration": 20,
        "start_time": "2022-09-12T16:31:12.922Z"
      },
      {
        "duration": 6,
        "start_time": "2022-09-12T16:31:13.960Z"
      },
      {
        "duration": 26,
        "start_time": "2022-09-12T16:31:15.759Z"
      },
      {
        "duration": 5,
        "start_time": "2022-09-12T16:31:16.295Z"
      },
      {
        "duration": 5,
        "start_time": "2022-09-12T16:31:17.489Z"
      },
      {
        "duration": 4,
        "start_time": "2022-09-12T16:31:18.925Z"
      },
      {
        "duration": 17,
        "start_time": "2022-09-12T16:31:20.032Z"
      },
      {
        "duration": 4,
        "start_time": "2022-09-12T16:31:21.388Z"
      },
      {
        "duration": 6,
        "start_time": "2022-09-12T16:31:22.897Z"
      },
      {
        "duration": 15,
        "start_time": "2022-09-12T16:31:25.185Z"
      },
      {
        "duration": 10,
        "start_time": "2022-09-12T16:31:28.766Z"
      },
      {
        "duration": 9,
        "start_time": "2022-09-12T16:31:29.214Z"
      },
      {
        "duration": 4,
        "start_time": "2022-09-12T16:31:30.882Z"
      },
      {
        "duration": 6,
        "start_time": "2022-09-12T16:31:32.888Z"
      },
      {
        "duration": 5,
        "start_time": "2022-09-12T16:31:37.287Z"
      },
      {
        "duration": 15,
        "start_time": "2022-09-12T16:31:39.754Z"
      },
      {
        "duration": 5,
        "start_time": "2022-09-12T16:32:00.340Z"
      },
      {
        "duration": 16,
        "start_time": "2022-09-12T16:32:01.934Z"
      },
      {
        "duration": 15,
        "start_time": "2022-09-12T16:35:30.599Z"
      },
      {
        "duration": 5,
        "start_time": "2022-09-12T16:38:13.428Z"
      },
      {
        "duration": 5,
        "start_time": "2022-09-12T16:39:31.708Z"
      },
      {
        "duration": 7,
        "start_time": "2022-09-12T16:40:17.746Z"
      },
      {
        "duration": 5,
        "start_time": "2022-09-12T16:40:42.920Z"
      },
      {
        "duration": 11,
        "start_time": "2022-09-12T16:41:51.071Z"
      },
      {
        "duration": 11,
        "start_time": "2022-09-12T16:42:08.181Z"
      },
      {
        "duration": 4,
        "start_time": "2022-09-12T16:43:22.498Z"
      },
      {
        "duration": 11,
        "start_time": "2022-09-12T16:43:27.740Z"
      },
      {
        "duration": 12,
        "start_time": "2022-09-12T16:44:28.769Z"
      },
      {
        "duration": 6,
        "start_time": "2022-09-12T16:44:39.382Z"
      },
      {
        "duration": 3,
        "start_time": "2022-09-12T16:48:46.887Z"
      },
      {
        "duration": 19,
        "start_time": "2022-09-12T16:49:57.545Z"
      },
      {
        "duration": 14,
        "start_time": "2022-09-12T16:58:24.544Z"
      },
      {
        "duration": 6,
        "start_time": "2022-09-12T16:58:27.138Z"
      },
      {
        "duration": 5,
        "start_time": "2022-09-12T17:01:50.589Z"
      },
      {
        "duration": 5,
        "start_time": "2022-09-12T17:02:01.929Z"
      },
      {
        "duration": 7,
        "start_time": "2022-09-12T17:02:15.656Z"
      },
      {
        "duration": 11,
        "start_time": "2022-09-12T17:07:34.339Z"
      },
      {
        "duration": 7,
        "start_time": "2022-09-12T17:15:39.780Z"
      },
      {
        "duration": 16,
        "start_time": "2022-09-12T17:16:19.696Z"
      },
      {
        "duration": 8,
        "start_time": "2022-09-12T17:24:28.762Z"
      },
      {
        "duration": 441,
        "start_time": "2022-09-12T17:26:28.419Z"
      },
      {
        "duration": 8,
        "start_time": "2022-09-12T17:26:29.305Z"
      },
      {
        "duration": 17,
        "start_time": "2022-09-12T17:26:29.675Z"
      },
      {
        "duration": 17,
        "start_time": "2022-09-12T17:26:30.514Z"
      },
      {
        "duration": 22,
        "start_time": "2022-09-12T17:26:31.214Z"
      },
      {
        "duration": 22,
        "start_time": "2022-09-12T17:26:31.904Z"
      },
      {
        "duration": 21,
        "start_time": "2022-09-12T17:26:32.756Z"
      },
      {
        "duration": 9,
        "start_time": "2022-09-12T17:26:33.149Z"
      },
      {
        "duration": 11,
        "start_time": "2022-09-12T17:26:34.121Z"
      },
      {
        "duration": 8,
        "start_time": "2022-09-12T17:26:35.366Z"
      },
      {
        "duration": 2,
        "start_time": "2022-09-12T17:26:36.246Z"
      },
      {
        "duration": 5,
        "start_time": "2022-09-12T17:26:37.625Z"
      },
      {
        "duration": 9,
        "start_time": "2022-09-12T17:26:38.281Z"
      },
      {
        "duration": 6,
        "start_time": "2022-09-12T17:26:38.675Z"
      },
      {
        "duration": 10,
        "start_time": "2022-09-12T17:26:39.544Z"
      },
      {
        "duration": 5,
        "start_time": "2022-09-12T17:26:40.716Z"
      },
      {
        "duration": 5,
        "start_time": "2022-09-12T17:26:41.063Z"
      },
      {
        "duration": 9,
        "start_time": "2022-09-12T17:26:41.737Z"
      },
      {
        "duration": 12,
        "start_time": "2022-09-12T17:26:43.283Z"
      },
      {
        "duration": 9,
        "start_time": "2022-09-12T17:26:44.749Z"
      },
      {
        "duration": 8,
        "start_time": "2022-09-12T17:26:45.864Z"
      },
      {
        "duration": 5,
        "start_time": "2022-09-12T17:26:47.752Z"
      },
      {
        "duration": 7,
        "start_time": "2022-09-12T17:26:48.151Z"
      },
      {
        "duration": 8,
        "start_time": "2022-09-12T17:26:48.881Z"
      },
      {
        "duration": 7,
        "start_time": "2022-09-12T17:26:50.659Z"
      },
      {
        "duration": 5,
        "start_time": "2022-09-12T17:26:51.405Z"
      },
      {
        "duration": 7,
        "start_time": "2022-09-12T17:26:52.323Z"
      },
      {
        "duration": 6,
        "start_time": "2022-09-12T17:26:53.149Z"
      },
      {
        "duration": 18,
        "start_time": "2022-09-12T17:26:54.526Z"
      },
      {
        "duration": 19,
        "start_time": "2022-09-12T17:26:55.483Z"
      },
      {
        "duration": 16,
        "start_time": "2022-09-12T17:26:55.504Z"
      },
      {
        "duration": 15,
        "start_time": "2022-09-12T17:26:56.826Z"
      },
      {
        "duration": 6,
        "start_time": "2022-09-12T17:27:04.261Z"
      },
      {
        "duration": 4,
        "start_time": "2022-09-12T17:27:05.936Z"
      },
      {
        "duration": 4,
        "start_time": "2022-09-12T17:27:06.778Z"
      },
      {
        "duration": 21,
        "start_time": "2022-09-12T17:27:07.205Z"
      },
      {
        "duration": 7,
        "start_time": "2022-09-12T17:27:09.100Z"
      },
      {
        "duration": 26,
        "start_time": "2022-09-12T17:27:10.133Z"
      },
      {
        "duration": 6,
        "start_time": "2022-09-12T17:27:10.589Z"
      },
      {
        "duration": 5,
        "start_time": "2022-09-12T17:27:11.013Z"
      },
      {
        "duration": 4,
        "start_time": "2022-09-12T17:27:13.318Z"
      },
      {
        "duration": 16,
        "start_time": "2022-09-12T17:27:13.746Z"
      },
      {
        "duration": 4,
        "start_time": "2022-09-12T17:27:14.457Z"
      },
      {
        "duration": 4,
        "start_time": "2022-09-12T17:27:15.848Z"
      },
      {
        "duration": 14,
        "start_time": "2022-09-12T17:27:17.500Z"
      },
      {
        "duration": 10,
        "start_time": "2022-09-12T17:27:32.088Z"
      },
      {
        "duration": 10,
        "start_time": "2022-09-12T17:27:32.619Z"
      },
      {
        "duration": 5,
        "start_time": "2022-09-12T17:27:34.514Z"
      },
      {
        "duration": 6,
        "start_time": "2022-09-12T17:27:36.843Z"
      },
      {
        "duration": 5,
        "start_time": "2022-09-12T17:27:37.321Z"
      },
      {
        "duration": 15,
        "start_time": "2022-09-12T17:27:38.763Z"
      },
      {
        "duration": 10,
        "start_time": "2022-09-12T17:27:42.123Z"
      },
      {
        "duration": 6,
        "start_time": "2022-09-12T17:27:43.253Z"
      },
      {
        "duration": 3,
        "start_time": "2022-09-12T17:27:44.034Z"
      },
      {
        "duration": 18,
        "start_time": "2022-09-12T17:27:45.475Z"
      },
      {
        "duration": 3,
        "start_time": "2022-09-12T17:27:46.741Z"
      },
      {
        "duration": 7,
        "start_time": "2022-09-12T17:27:49.376Z"
      },
      {
        "duration": 14,
        "start_time": "2022-09-12T17:27:51.446Z"
      },
      {
        "duration": 13,
        "start_time": "2022-09-12T17:27:53.065Z"
      },
      {
        "duration": 36,
        "start_time": "2022-09-12T17:28:45.449Z"
      },
      {
        "duration": 73,
        "start_time": "2022-09-12T17:37:40.834Z"
      },
      {
        "duration": 94,
        "start_time": "2022-09-12T17:38:02.927Z"
      },
      {
        "duration": 9,
        "start_time": "2022-09-12T17:43:35.365Z"
      },
      {
        "duration": 5,
        "start_time": "2022-09-12T17:43:50.834Z"
      },
      {
        "duration": 3,
        "start_time": "2022-09-12T17:44:09.439Z"
      },
      {
        "duration": 5,
        "start_time": "2022-09-12T17:44:18.121Z"
      },
      {
        "duration": 5,
        "start_time": "2022-09-12T17:44:37.470Z"
      },
      {
        "duration": 3,
        "start_time": "2022-09-12T17:44:47.490Z"
      },
      {
        "duration": 25,
        "start_time": "2022-09-12T17:45:35.844Z"
      },
      {
        "duration": 21,
        "start_time": "2022-09-12T17:45:54.771Z"
      },
      {
        "duration": 75,
        "start_time": "2022-09-12T17:48:02.198Z"
      },
      {
        "duration": 24,
        "start_time": "2022-09-12T17:48:06.513Z"
      },
      {
        "duration": 23,
        "start_time": "2022-09-12T17:48:14.110Z"
      },
      {
        "duration": 21,
        "start_time": "2022-09-12T17:48:22.616Z"
      },
      {
        "duration": 5,
        "start_time": "2022-09-12T17:49:22.749Z"
      },
      {
        "duration": 5,
        "start_time": "2022-09-12T17:52:12.312Z"
      },
      {
        "duration": 9,
        "start_time": "2022-09-12T17:53:45.916Z"
      },
      {
        "duration": 18,
        "start_time": "2022-09-12T17:59:12.804Z"
      },
      {
        "duration": 15,
        "start_time": "2022-09-12T17:59:25.208Z"
      },
      {
        "duration": 15,
        "start_time": "2022-09-12T17:59:41.400Z"
      },
      {
        "duration": 28,
        "start_time": "2022-09-12T18:00:52.345Z"
      },
      {
        "duration": 27,
        "start_time": "2022-09-12T18:01:03.668Z"
      },
      {
        "duration": 6,
        "start_time": "2022-09-12T18:01:58.582Z"
      },
      {
        "duration": 17,
        "start_time": "2022-09-12T18:02:07.083Z"
      },
      {
        "duration": 19,
        "start_time": "2022-09-12T18:02:20.964Z"
      },
      {
        "duration": 18,
        "start_time": "2022-09-12T18:02:28.926Z"
      },
      {
        "duration": 24,
        "start_time": "2022-09-12T18:02:43.011Z"
      },
      {
        "duration": 17,
        "start_time": "2022-09-12T18:02:54.032Z"
      },
      {
        "duration": 19,
        "start_time": "2022-09-12T18:03:07.978Z"
      },
      {
        "duration": 18,
        "start_time": "2022-09-12T18:03:22.221Z"
      },
      {
        "duration": 19,
        "start_time": "2022-09-12T18:03:30.064Z"
      },
      {
        "duration": 17,
        "start_time": "2022-09-12T18:03:44.704Z"
      },
      {
        "duration": 18,
        "start_time": "2022-09-12T18:04:08.760Z"
      },
      {
        "duration": 18,
        "start_time": "2022-09-12T18:04:19.613Z"
      },
      {
        "duration": 18,
        "start_time": "2022-09-12T18:04:40.799Z"
      },
      {
        "duration": 18,
        "start_time": "2022-09-12T18:04:54.148Z"
      },
      {
        "duration": 31,
        "start_time": "2022-09-12T18:05:12.070Z"
      },
      {
        "duration": 19,
        "start_time": "2022-09-12T18:05:30.448Z"
      },
      {
        "duration": 19,
        "start_time": "2022-09-12T18:05:47.646Z"
      },
      {
        "duration": 18,
        "start_time": "2022-09-12T18:06:05.374Z"
      },
      {
        "duration": 19,
        "start_time": "2022-09-12T18:06:37.430Z"
      },
      {
        "duration": 21,
        "start_time": "2022-09-12T18:08:21.018Z"
      },
      {
        "duration": 27,
        "start_time": "2022-09-12T18:08:46.999Z"
      },
      {
        "duration": 24,
        "start_time": "2022-09-12T18:08:58.701Z"
      },
      {
        "duration": 29,
        "start_time": "2022-09-12T18:09:29.129Z"
      },
      {
        "duration": 14,
        "start_time": "2022-09-12T18:30:18.908Z"
      },
      {
        "duration": 585,
        "start_time": "2022-09-13T03:35:33.498Z"
      },
      {
        "duration": 10,
        "start_time": "2022-09-13T03:35:34.084Z"
      },
      {
        "duration": 26,
        "start_time": "2022-09-13T03:35:34.095Z"
      },
      {
        "duration": 18,
        "start_time": "2022-09-13T03:35:34.123Z"
      },
      {
        "duration": 25,
        "start_time": "2022-09-13T03:35:34.143Z"
      },
      {
        "duration": 21,
        "start_time": "2022-09-13T03:35:34.170Z"
      },
      {
        "duration": 41,
        "start_time": "2022-09-13T03:35:34.192Z"
      },
      {
        "duration": 12,
        "start_time": "2022-09-13T03:35:34.234Z"
      },
      {
        "duration": 12,
        "start_time": "2022-09-13T03:35:34.248Z"
      },
      {
        "duration": 8,
        "start_time": "2022-09-13T03:35:34.262Z"
      },
      {
        "duration": 4,
        "start_time": "2022-09-13T03:35:34.271Z"
      },
      {
        "duration": 11,
        "start_time": "2022-09-13T03:35:34.276Z"
      },
      {
        "duration": 12,
        "start_time": "2022-09-13T03:35:34.288Z"
      },
      {
        "duration": 5,
        "start_time": "2022-09-13T03:35:34.322Z"
      },
      {
        "duration": 13,
        "start_time": "2022-09-13T03:35:34.328Z"
      },
      {
        "duration": 9,
        "start_time": "2022-09-13T03:35:34.342Z"
      },
      {
        "duration": 6,
        "start_time": "2022-09-13T03:35:34.352Z"
      },
      {
        "duration": 13,
        "start_time": "2022-09-13T03:35:34.360Z"
      },
      {
        "duration": 9,
        "start_time": "2022-09-13T03:35:34.374Z"
      },
      {
        "duration": 8,
        "start_time": "2022-09-13T03:35:34.384Z"
      },
      {
        "duration": 30,
        "start_time": "2022-09-13T03:35:34.393Z"
      },
      {
        "duration": 8,
        "start_time": "2022-09-13T03:35:34.424Z"
      },
      {
        "duration": 8,
        "start_time": "2022-09-13T03:35:34.433Z"
      },
      {
        "duration": 8,
        "start_time": "2022-09-13T03:35:34.443Z"
      },
      {
        "duration": 6,
        "start_time": "2022-09-13T03:35:34.453Z"
      },
      {
        "duration": 5,
        "start_time": "2022-09-13T03:35:34.460Z"
      },
      {
        "duration": 11,
        "start_time": "2022-09-13T03:35:34.466Z"
      },
      {
        "duration": 5,
        "start_time": "2022-09-13T03:35:34.480Z"
      },
      {
        "duration": 9,
        "start_time": "2022-09-13T03:35:34.486Z"
      },
      {
        "duration": 27,
        "start_time": "2022-09-13T03:35:34.496Z"
      },
      {
        "duration": 5,
        "start_time": "2022-09-13T03:35:34.524Z"
      },
      {
        "duration": 5,
        "start_time": "2022-09-13T03:35:34.531Z"
      },
      {
        "duration": 21,
        "start_time": "2022-09-13T03:35:34.537Z"
      },
      {
        "duration": 15,
        "start_time": "2022-09-13T03:35:34.559Z"
      },
      {
        "duration": 14,
        "start_time": "2022-09-13T03:35:34.576Z"
      },
      {
        "duration": 30,
        "start_time": "2022-09-13T03:35:34.592Z"
      },
      {
        "duration": 5,
        "start_time": "2022-09-13T03:35:34.623Z"
      },
      {
        "duration": 13,
        "start_time": "2022-09-13T03:35:34.629Z"
      },
      {
        "duration": 10,
        "start_time": "2022-09-13T03:35:34.644Z"
      },
      {
        "duration": 20,
        "start_time": "2022-09-13T03:35:34.655Z"
      },
      {
        "duration": 7,
        "start_time": "2022-09-13T03:35:34.676Z"
      },
      {
        "duration": 38,
        "start_time": "2022-09-13T03:35:34.684Z"
      },
      {
        "duration": 4,
        "start_time": "2022-09-13T03:35:34.724Z"
      },
      {
        "duration": 14,
        "start_time": "2022-09-13T03:35:34.729Z"
      },
      {
        "duration": 6,
        "start_time": "2022-09-13T03:35:34.745Z"
      },
      {
        "duration": 15,
        "start_time": "2022-09-13T03:35:34.753Z"
      },
      {
        "duration": 6,
        "start_time": "2022-09-13T03:35:34.770Z"
      },
      {
        "duration": 7,
        "start_time": "2022-09-13T03:35:34.777Z"
      },
      {
        "duration": 3,
        "start_time": "2022-09-13T03:35:34.785Z"
      },
      {
        "duration": 32,
        "start_time": "2022-09-13T03:35:34.790Z"
      },
      {
        "duration": 8,
        "start_time": "2022-09-13T03:35:34.824Z"
      },
      {
        "duration": 8,
        "start_time": "2022-09-13T03:35:34.833Z"
      },
      {
        "duration": 4,
        "start_time": "2022-09-13T03:35:34.842Z"
      },
      {
        "duration": 8,
        "start_time": "2022-09-13T03:35:34.847Z"
      },
      {
        "duration": 5,
        "start_time": "2022-09-13T03:35:34.856Z"
      },
      {
        "duration": 4,
        "start_time": "2022-09-13T03:35:34.863Z"
      },
      {
        "duration": 6,
        "start_time": "2022-09-13T03:35:34.868Z"
      },
      {
        "duration": 19,
        "start_time": "2022-09-13T03:35:34.875Z"
      },
      {
        "duration": 30,
        "start_time": "2022-09-13T03:35:34.895Z"
      },
      {
        "duration": 4,
        "start_time": "2022-09-13T03:35:34.927Z"
      },
      {
        "duration": 11,
        "start_time": "2022-09-13T03:35:34.933Z"
      },
      {
        "duration": 18,
        "start_time": "2022-09-13T03:35:34.945Z"
      },
      {
        "duration": 2,
        "start_time": "2022-09-13T03:35:34.965Z"
      },
      {
        "duration": 5,
        "start_time": "2022-09-13T03:35:34.968Z"
      },
      {
        "duration": 8,
        "start_time": "2022-09-13T03:35:34.974Z"
      },
      {
        "duration": 7,
        "start_time": "2022-09-13T03:35:34.983Z"
      },
      {
        "duration": 8,
        "start_time": "2022-09-13T03:35:34.991Z"
      },
      {
        "duration": 28,
        "start_time": "2022-09-13T03:35:35.001Z"
      },
      {
        "duration": 11,
        "start_time": "2022-09-13T03:35:35.030Z"
      },
      {
        "duration": 24,
        "start_time": "2022-09-13T03:35:35.042Z"
      },
      {
        "duration": 29,
        "start_time": "2022-09-13T03:35:35.067Z"
      }
    ],
    "kernelspec": {
      "display_name": "Python 3 (ipykernel)",
      "language": "python",
      "name": "python3"
    },
    "language_info": {
      "codemirror_mode": {
        "name": "ipython",
        "version": 3
      },
      "file_extension": ".py",
      "mimetype": "text/x-python",
      "name": "python",
      "nbconvert_exporter": "python",
      "pygments_lexer": "ipython3",
      "version": "3.9.5"
    },
    "toc": {
      "base_numbering": 1,
      "nav_menu": {},
      "number_sections": true,
      "sideBar": true,
      "skip_h1_title": true,
      "title_cell": "Table of Contents",
      "title_sidebar": "Contents",
      "toc_cell": false,
      "toc_position": {
        "height": "calc(100% - 180px)",
        "left": "10px",
        "top": "150px",
        "width": "314.661px"
      },
      "toc_section_display": true,
      "toc_window_display": true
    },
    "colab": {
      "provenance": [],
      "toc_visible": true
    }
  },
  "nbformat": 4,
  "nbformat_minor": 0
}