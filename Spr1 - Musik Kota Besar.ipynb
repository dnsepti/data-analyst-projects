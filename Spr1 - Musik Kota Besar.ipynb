{
 "cells": [
  {
   "cell_type": "markdown",
   "metadata": {
    "id": "E0vqbgi9ay0H"
   },
   "source": [
    "# Y.Music"
   ]
  },
  {
   "cell_type": "markdown",
   "metadata": {},
   "source": [
    "<div style=\"border:solid black 2px; padding: 20px\"><h1 style=\"color:green; margin-bottom:20px\">Reviewer's comment v1</h1>\n",
    "Halo Diana!\n",
    "\n",
    "Perkenalkan saya Naufal, disini saya akan mereview tugas Diana ya.\n",
    "\n",
    "Saya akan memberikan beberapa komen seperti dibawah ini, tolong jangan dipindah, dirubah, maupun dihapus ya.\n",
    "\n",
    "Komen yang saya berikan akan muncul dalam warna hijau, kuning, atau pun merah seperti ini:\n",
    "\n",
    "<div class=\"alert alert-success\">\n",
    "<b>Reviewer's comment</b> <a class=\"tocSkip\"></a>\n",
    "\n",
    "Bagus, semua berjalan lancar.\n",
    "\n",
    "</div>\n",
    "\n",
    "<div class=\"alert alert-warning\">\n",
    "<b>Reviewer's comment</b> <a class=\"tocSkip\"></a>\n",
    "\n",
    "Terdapat beberapa catatan.\n",
    "\n",
    "</div>\n",
    "\n",
    "<div class=\"alert alert-danger\">\n",
    "<b>Reviewer's comment</b> <a class=\"tocSkip\"></a>\n",
    "\n",
    "Perlu beberapa perbaikan\n",
    "\n",
    "</div>\n",
    "\n",
    "Dan tentu saja Diana dapat menjawab saya dengan menggunakan ini\n",
    "\n",
    "<div class=\"alert alert-block alert-info\">\n",
    "<b>Student answer.</b> <a class=\"tocSkip\"></a>\n",
    "    \n",
    "Respon/Pertanyaan/Konfirmasi\n",
    "</div>"
   ]
  },
  {
   "cell_type": "markdown",
   "metadata": {},
   "source": [
    "<div style=\"border:solid black 2px; padding: 20px\">\n",
    "<b>Reviewer's comment v1:</b>\n",
    "    \n",
    "<b>Overall Feedback</b> \n",
    "    \n",
    "- Secara keseluruhan ini adalah hasil yang sangat bagus! Dengan langkah-langkah pengerjaan yang saya rasa sangat efisien dan optimal.\n",
    "- Namun terdapat beberapa poin dimana perlu perbaikan namun saya rasa bukan lah hal yang sulit seperti terdapat beberapa pengulangan yang kurang efektif baik dalam perumusan fungsi maupun penulisan koding serta penggunaan `print()` yang perlu dicek kembali.\n",
    "    \n",
    "Untuk perbaikan nya ditunggu ya!\n",
    "</div>\n",
    "\n",
    "        "
   ]
  },
  {
   "cell_type": "markdown",
   "metadata": {},
   "source": [
    "<div style=\"border:solid black 2px; padding: 20px\">\n",
    "<b>Reviewer's comment v2:</b>\n",
    "    \n",
    "<b>Overall Feedback</b> \n",
    "    \n",
    "Terima kasih atas perbaikan yang sangat bagus dan relatif cepat. Sekarang hanya terdapat satu perbaikan lagi dan beberapa catatan kecil sebelum project ini bisa disetejui dan melanjutkan ke tahapan selanjutnya. Secara keseluruhan ini adalah pekerjaan yang luar biasa. Semoga konsisten ya!\n",
    "    \n",
    "Untuk perbaikan nya tetap ditunggu ya!\n",
    "</div>\n",
    "\n",
    "        "
   ]
  },
  {
   "cell_type": "markdown",
   "metadata": {},
   "source": [
    "<div style=\"border:solid black 2px; padding: 20px\">\n",
    "<b>Reviewer's comment v3:</b>\n",
    "    \n",
    "<b>Overall Feedback</b> \n",
    "    \n",
    "Selamat dengan ini project saya setujui dan bisa melanjutkan ke tahapan selanjutnya. Terima kasih atas kerja kerasnya untuk menyelesaikan project ini. Mungkin coba lihat beberapa catatan tambahan untuk pertimbangan kedepanya. Keep up the good work ya!\n",
    "</div>\n",
    "\n",
    "        "
   ]
  },
  {
   "cell_type": "markdown",
   "metadata": {
    "id": "fhq_eyov_Zcs"
   },
   "source": [
    "# Konten <a id='back'></a>\n",
    "\n",
    "* [Pendahuluan](#intro)\n",
    "* [Tahap 1. Ikhtisar Data](#data_review)\n",
    "    * [Kesimpulan](#data_review_conclusions)\n",
    "* [Tahap 2. Pra-pemrosesan Data](#data_preprocessing)\n",
    "    * [2.1 Gaya penulisan judul](#header_style)\n",
    "    * [2.2 Nilai-nilai yang hilang](#missing_values)\n",
    "    * [2.3 Duplikat](#duplicates)\n",
    "    * [2.4 Kesimpulan](#data_preprocessing_conclusions)\n",
    "* [Tahap 3. Menguji Hipotesis](#hypotheses)\n",
    "    * [3.1 Hipotesis 1: aktivitas pengguna di dua kota](#activity)\n",
    "    * [3.2 Hipotesis 2: preferensi musik pada hari Senin dan Jumat](#week)\n",
    "    * [3.3 Hipotesis 3: preferensi genre di kota Springfield dan Shelbyville](#genre)\n",
    "* [Temuan](#end)"
   ]
  },
  {
   "cell_type": "markdown",
   "metadata": {
    "id": "VUC88oWjTJw2"
   },
   "source": [
    "## Pendahuluan <a id='intro'></a>\n",
    "Setiap kali kita melakukan penelitian, kita perlu merumuskan hipotesis yang kemudian dapat kita uji. Terkadang kita menerima hipotesis ini; tetapi terkadang kita juga menolaknya. Untuk membuat keputusan yang tepat, sebuah bisnis harus dapat memahami apakah asumsi yang dibuatnya benar atau tidak.\n",
    "\n",
    "Dalam proyek kali ini, Anda akan membandingkan preferensi musik kota Springfield dan Shelbyville. Anda akan mempelajari data Y.Music yang sebenarnya untuk menguji hipotesis di bawah ini dan membandingkan perilaku pengguna di kedua kota ini.\n",
    "\n",
    "### Tujuan: \n",
    "Menguji tiga hipotesis:\n",
    "1. Aktivitas pengguna berbeda-beda tergantung pada hari dan kotanya.\n",
    "2. Pada senin pagi, penduduk Springfield dan Shelbyville mendengarkan genre yang berbeda. Hal ini juga ini juga berlaku untuk Jumat malam.\n",
    "3. Pendengar di Springfield dan Shelbyville memiliki preferensi yang berbeda. Di Springfield, mereka lebih suka musik pop, sementara Shelbyville, musik rap memiliki lebih banyak penggemar.\n",
    "\n",
    "### Tahapan\n",
    "Data tentang perilaku pengguna disimpan dalam berkas `/datasets/music_project_en.csv`. Tidak ada informasi tentang kualitas data, jadi Anda perlu memeriksanya lebih dahulu sebelum menguji hipotesis.\n",
    "\n",
    "Pertama, Anda akan mengevaluasi kualitas data dan melihat apakah masalahnya signifikan. Kemudian, selama pra-pemrosesan data, Anda akan mencoba memperhitungkan masalah yang paling serius.\n",
    " \n",
    "Proyek ini akan terdiri dari tiga tahap:\n",
    " 1. Ikhtisar Data\n",
    " 2. Pra-pemrosesan Data\n",
    " 3. Menguji Hipotesis\n",
    "\n",
    " \n",
    "[Kembali ke Daftar Isi](#back)"
   ]
  },
  {
   "cell_type": "markdown",
   "metadata": {
    "id": "Ml1hmfXC_Zcs"
   },
   "source": [
    "## Tahap 1. Ikhtisar Data <a id='data_review'></a>\n",
    "\n",
    "Buka data di Y.Music lalu jelajahi data yang ada di sana."
   ]
  },
  {
   "cell_type": "markdown",
   "metadata": {
    "id": "57eAOGIz_Zcs"
   },
   "source": [
    "Anda akan membutuhkan `Pandas`, jadi Anda harus mengimpornya."
   ]
  },
  {
   "cell_type": "code",
   "execution_count": 1,
   "metadata": {
    "id": "AXN7PHPN_Zcs"
   },
   "outputs": [],
   "source": [
    "# mengimpor Pandas\n",
    "import pandas as pd"
   ]
  },
  {
   "cell_type": "markdown",
   "metadata": {},
   "source": [
    "<div class=\"alert alert-success\">\n",
    "<b>Reviewer's comment v1</b> <a class=\"tocSkip\"></a>\n",
    "\n",
    "Bagus! `pandas` terimpor dengan benar, bahkan beserta singkatan yang umum dipakai.\n",
    "\n",
    "</div>"
   ]
  },
  {
   "cell_type": "markdown",
   "metadata": {
    "id": "SG23P8tt_Zcs"
   },
   "source": [
    "Baca file `music_project_en.csv` dari folder `/datasets/` lalu simpan di variabel `df`:"
   ]
  },
  {
   "cell_type": "code",
   "execution_count": 2,
   "metadata": {},
   "outputs": [],
   "source": [
    "df = pd.read_csv('/datasets/music_project_en.csv')"
   ]
  },
  {
   "cell_type": "code",
   "execution_count": 3,
   "metadata": {
    "id": "fFVu7vqh_Zct",
    "scrolled": false
   },
   "outputs": [
    {
     "data": {
      "text/html": [
       "<div>\n",
       "<style scoped>\n",
       "    .dataframe tbody tr th:only-of-type {\n",
       "        vertical-align: middle;\n",
       "    }\n",
       "\n",
       "    .dataframe tbody tr th {\n",
       "        vertical-align: top;\n",
       "    }\n",
       "\n",
       "    .dataframe thead th {\n",
       "        text-align: right;\n",
       "    }\n",
       "</style>\n",
       "<table border=\"1\" class=\"dataframe\">\n",
       "  <thead>\n",
       "    <tr style=\"text-align: right;\">\n",
       "      <th></th>\n",
       "      <th>userID</th>\n",
       "      <th>Track</th>\n",
       "      <th>artist</th>\n",
       "      <th>genre</th>\n",
       "      <th>City</th>\n",
       "      <th>time</th>\n",
       "      <th>Day</th>\n",
       "    </tr>\n",
       "  </thead>\n",
       "  <tbody>\n",
       "    <tr>\n",
       "      <th>count</th>\n",
       "      <td>65079</td>\n",
       "      <td>63736</td>\n",
       "      <td>57512</td>\n",
       "      <td>63881</td>\n",
       "      <td>65079</td>\n",
       "      <td>65079</td>\n",
       "      <td>65079</td>\n",
       "    </tr>\n",
       "    <tr>\n",
       "      <th>unique</th>\n",
       "      <td>41748</td>\n",
       "      <td>39666</td>\n",
       "      <td>37806</td>\n",
       "      <td>268</td>\n",
       "      <td>2</td>\n",
       "      <td>20392</td>\n",
       "      <td>3</td>\n",
       "    </tr>\n",
       "    <tr>\n",
       "      <th>top</th>\n",
       "      <td>A8AE9169</td>\n",
       "      <td>Brand</td>\n",
       "      <td>Kartvelli</td>\n",
       "      <td>pop</td>\n",
       "      <td>Springfield</td>\n",
       "      <td>08:14:07</td>\n",
       "      <td>Friday</td>\n",
       "    </tr>\n",
       "    <tr>\n",
       "      <th>freq</th>\n",
       "      <td>76</td>\n",
       "      <td>136</td>\n",
       "      <td>136</td>\n",
       "      <td>8850</td>\n",
       "      <td>45360</td>\n",
       "      <td>14</td>\n",
       "      <td>23149</td>\n",
       "    </tr>\n",
       "  </tbody>\n",
       "</table>\n",
       "</div>"
      ],
      "text/plain": [
       "          userID  Track     artist  genre       City        time     Day\n",
       "count      65079  63736      57512  63881        65079     65079   65079\n",
       "unique     41748  39666      37806    268            2     20392       3\n",
       "top     A8AE9169  Brand  Kartvelli    pop  Springfield  08:14:07  Friday\n",
       "freq          76    136        136   8850        45360        14   23149"
      ]
     },
     "execution_count": 3,
     "metadata": {},
     "output_type": "execute_result"
    }
   ],
   "source": [
    "# membaca berkas dan menyimpannya ke df\n",
    "df.describe()"
   ]
  },
  {
   "cell_type": "markdown",
   "metadata": {},
   "source": [
    "<div class=\"alert alert-success\">\n",
    "<b>Reviewer's comment v1</b> <a class=\"tocSkip\"></a>\n",
    "\n",
    "Penulisan direktori sudah benar dengan mencantumkan folder `/datasets/` dan menggunakan `describe()` untuk pengecekan secara cepat.\n",
    "</div>"
   ]
  },
  {
   "cell_type": "markdown",
   "metadata": {
    "id": "rDoOMd3uTqnZ"
   },
   "source": [
    "Tampilkan 10 baris tabel pertama:"
   ]
  },
  {
   "cell_type": "code",
   "execution_count": 4,
   "metadata": {
    "id": "oWTVX3gW_Zct",
    "scrolled": false
   },
   "outputs": [
    {
     "data": {
      "text/html": [
       "<div>\n",
       "<style scoped>\n",
       "    .dataframe tbody tr th:only-of-type {\n",
       "        vertical-align: middle;\n",
       "    }\n",
       "\n",
       "    .dataframe tbody tr th {\n",
       "        vertical-align: top;\n",
       "    }\n",
       "\n",
       "    .dataframe thead th {\n",
       "        text-align: right;\n",
       "    }\n",
       "</style>\n",
       "<table border=\"1\" class=\"dataframe\">\n",
       "  <thead>\n",
       "    <tr style=\"text-align: right;\">\n",
       "      <th></th>\n",
       "      <th>userID</th>\n",
       "      <th>Track</th>\n",
       "      <th>artist</th>\n",
       "      <th>genre</th>\n",
       "      <th>City</th>\n",
       "      <th>time</th>\n",
       "      <th>Day</th>\n",
       "    </tr>\n",
       "  </thead>\n",
       "  <tbody>\n",
       "    <tr>\n",
       "      <th>0</th>\n",
       "      <td>FFB692EC</td>\n",
       "      <td>Kamigata To Boots</td>\n",
       "      <td>The Mass Missile</td>\n",
       "      <td>rock</td>\n",
       "      <td>Shelbyville</td>\n",
       "      <td>20:28:33</td>\n",
       "      <td>Wednesday</td>\n",
       "    </tr>\n",
       "    <tr>\n",
       "      <th>1</th>\n",
       "      <td>55204538</td>\n",
       "      <td>Delayed Because of Accident</td>\n",
       "      <td>Andreas Rönnberg</td>\n",
       "      <td>rock</td>\n",
       "      <td>Springfield</td>\n",
       "      <td>14:07:09</td>\n",
       "      <td>Friday</td>\n",
       "    </tr>\n",
       "    <tr>\n",
       "      <th>2</th>\n",
       "      <td>20EC38</td>\n",
       "      <td>Funiculì funiculà</td>\n",
       "      <td>Mario Lanza</td>\n",
       "      <td>pop</td>\n",
       "      <td>Shelbyville</td>\n",
       "      <td>20:58:07</td>\n",
       "      <td>Wednesday</td>\n",
       "    </tr>\n",
       "    <tr>\n",
       "      <th>3</th>\n",
       "      <td>A3DD03C9</td>\n",
       "      <td>Dragons in the Sunset</td>\n",
       "      <td>Fire + Ice</td>\n",
       "      <td>folk</td>\n",
       "      <td>Shelbyville</td>\n",
       "      <td>08:37:09</td>\n",
       "      <td>Monday</td>\n",
       "    </tr>\n",
       "    <tr>\n",
       "      <th>4</th>\n",
       "      <td>E2DC1FAE</td>\n",
       "      <td>Soul People</td>\n",
       "      <td>Space Echo</td>\n",
       "      <td>dance</td>\n",
       "      <td>Springfield</td>\n",
       "      <td>08:34:34</td>\n",
       "      <td>Monday</td>\n",
       "    </tr>\n",
       "    <tr>\n",
       "      <th>5</th>\n",
       "      <td>842029A1</td>\n",
       "      <td>Chains</td>\n",
       "      <td>Obladaet</td>\n",
       "      <td>rusrap</td>\n",
       "      <td>Shelbyville</td>\n",
       "      <td>13:09:41</td>\n",
       "      <td>Friday</td>\n",
       "    </tr>\n",
       "    <tr>\n",
       "      <th>6</th>\n",
       "      <td>4CB90AA5</td>\n",
       "      <td>True</td>\n",
       "      <td>Roman Messer</td>\n",
       "      <td>dance</td>\n",
       "      <td>Springfield</td>\n",
       "      <td>13:00:07</td>\n",
       "      <td>Wednesday</td>\n",
       "    </tr>\n",
       "    <tr>\n",
       "      <th>7</th>\n",
       "      <td>F03E1C1F</td>\n",
       "      <td>Feeling This Way</td>\n",
       "      <td>Polina Griffith</td>\n",
       "      <td>dance</td>\n",
       "      <td>Springfield</td>\n",
       "      <td>20:47:49</td>\n",
       "      <td>Wednesday</td>\n",
       "    </tr>\n",
       "    <tr>\n",
       "      <th>8</th>\n",
       "      <td>8FA1D3BE</td>\n",
       "      <td>L’estate</td>\n",
       "      <td>Julia Dalia</td>\n",
       "      <td>ruspop</td>\n",
       "      <td>Springfield</td>\n",
       "      <td>09:17:40</td>\n",
       "      <td>Friday</td>\n",
       "    </tr>\n",
       "    <tr>\n",
       "      <th>9</th>\n",
       "      <td>E772D5C0</td>\n",
       "      <td>Pessimist</td>\n",
       "      <td>NaN</td>\n",
       "      <td>dance</td>\n",
       "      <td>Shelbyville</td>\n",
       "      <td>21:20:49</td>\n",
       "      <td>Wednesday</td>\n",
       "    </tr>\n",
       "  </tbody>\n",
       "</table>\n",
       "</div>"
      ],
      "text/plain": [
       "     userID                        Track            artist   genre  \\\n",
       "0  FFB692EC            Kamigata To Boots  The Mass Missile    rock   \n",
       "1  55204538  Delayed Because of Accident  Andreas Rönnberg    rock   \n",
       "2    20EC38            Funiculì funiculà       Mario Lanza     pop   \n",
       "3  A3DD03C9        Dragons in the Sunset        Fire + Ice    folk   \n",
       "4  E2DC1FAE                  Soul People        Space Echo   dance   \n",
       "5  842029A1                       Chains          Obladaet  rusrap   \n",
       "6  4CB90AA5                         True      Roman Messer   dance   \n",
       "7  F03E1C1F             Feeling This Way   Polina Griffith   dance   \n",
       "8  8FA1D3BE                     L’estate       Julia Dalia  ruspop   \n",
       "9  E772D5C0                    Pessimist               NaN   dance   \n",
       "\n",
       "        City        time        Day  \n",
       "0  Shelbyville  20:28:33  Wednesday  \n",
       "1  Springfield  14:07:09     Friday  \n",
       "2  Shelbyville  20:58:07  Wednesday  \n",
       "3  Shelbyville  08:37:09     Monday  \n",
       "4  Springfield  08:34:34     Monday  \n",
       "5  Shelbyville  13:09:41     Friday  \n",
       "6  Springfield  13:00:07  Wednesday  \n",
       "7  Springfield  20:47:49  Wednesday  \n",
       "8  Springfield  09:17:40     Friday  \n",
       "9  Shelbyville  21:20:49  Wednesday  "
      ]
     },
     "execution_count": 4,
     "metadata": {},
     "output_type": "execute_result"
    }
   ],
   "source": [
    "# memperoleh 10 baris pertama dari tabel df\n",
    "df.head(10)"
   ]
  },
  {
   "cell_type": "markdown",
   "metadata": {},
   "source": [
    "<div class=\"alert alert-success\">\n",
    "<b>Reviewer's comment v1</b> <a class=\"tocSkip\"></a>\n",
    "\n",
    "Penggunaan fungsi `head()` sudah benar untuk `n` baris pertama dari dataframe dan juga terdapat fungsi lain yang merupakan lawan dari `head()` yaitu `tail()` yang menampilkan `n` baris terkahir dari dataframe.\n",
    "\n",
    "</div>"
   ]
  },
  {
   "cell_type": "markdown",
   "metadata": {},
   "source": [
    "<div class=\"alert alert-warning\">\n",
    "<b>Reviewer's comment v1</b> <a class=\"tocSkip\"></a>\n",
    "\n",
    "`print()` tidak diperlukan lagi untuk menampilkan output karena kode yang ditulis merupakan baris terakhir.\n",
    "\n",
    "</div>"
   ]
  },
  {
   "cell_type": "markdown",
   "metadata": {
    "id": "EO73Kwic_Zct"
   },
   "source": [
    "Memperoleh informasi umum tentang tabel dengan satu perintah:"
   ]
  },
  {
   "cell_type": "code",
   "execution_count": 5,
   "metadata": {
    "id": "DSf2kIb-_Zct",
    "scrolled": true
   },
   "outputs": [
    {
     "name": "stdout",
     "output_type": "stream",
     "text": [
      "<class 'pandas.core.frame.DataFrame'>\n",
      "RangeIndex: 65079 entries, 0 to 65078\n",
      "Data columns (total 7 columns):\n",
      " #   Column    Non-Null Count  Dtype \n",
      "---  ------    --------------  ----- \n",
      " 0     userID  65079 non-null  object\n",
      " 1   Track     63736 non-null  object\n",
      " 2   artist    57512 non-null  object\n",
      " 3   genre     63881 non-null  object\n",
      " 4     City    65079 non-null  object\n",
      " 5   time      65079 non-null  object\n",
      " 6   Day       65079 non-null  object\n",
      "dtypes: object(7)\n",
      "memory usage: 3.5+ MB\n"
     ]
    }
   ],
   "source": [
    "# memperoleh informasi umum tentang data di df\n",
    "df.info()"
   ]
  },
  {
   "cell_type": "markdown",
   "metadata": {},
   "source": [
    "<div class=\"alert alert-success\">\n",
    "<b>Reviewer's comment v1</b> <a class=\"tocSkip\"></a>\n",
    "\n",
    "Pilihan yang tepat menggunakan `info()` untuk menampilkan banyak informasi dari dataframe dengan efisien.\n",
    "\n",
    "</div>"
   ]
  },
  {
   "cell_type": "markdown",
   "metadata": {
    "id": "TaQ2Iwbr_Zct"
   },
   "source": [
    "Tabel ini berisi tujuh kolom. Semuanya menyimpan tipe data yang sama, yaitu: `objek`.\n",
    "\n",
    "Berdasarkan dokumentasi:\n",
    "- `'userID'` — pengenal pengguna\n",
    "- `'Track'` — judul trek\n",
    "- `'artist'` — nama artis\n",
    "- `'genre'`\n",
    "- `'City'` — kota tempat pengguna berada\n",
    "- `'time'` — lama waktu lagu tersebut dimainkan\n",
    "- `'Day'` — nama hari\n",
    "\n",
    "Kita dapat melihat tiga masalah dengan gaya penulisan nama kolom:\n",
    "1. Beberapa nama huruf besar, beberapa huruf kecil.\n",
    "2. Ada penggunaan spasi pada beberapa nama.\n",
    "3. Ada nama yang memiliki beberapa kata namun digabung dalam satu kata dengan penggabungan huruf kecil dan huruf besar.\n",
    "\n",
    "Jumlah nilai kolom berbeda. Ini berarti data mengandung nilai yang hilang.\n"
   ]
  },
  {
   "cell_type": "markdown",
   "metadata": {},
   "source": [
    "<div class=\"alert alert-success\">\n",
    "<b>Reviewer's comment v1</b> <a class=\"tocSkip\"></a>\n",
    "\n",
    "Benar, terdapat masalah dimana gaya penamaan kolom yang tidak konsiten dan tidak sesuai dengan gaya `snake_case`\n",
    "\n",
    "</div>"
   ]
  },
  {
   "cell_type": "markdown",
   "metadata": {
    "id": "MCB6-dXG_Zct"
   },
   "source": [
    "### Kesimpulan <a id='data_review_conclusions'></a> \n",
    "\n",
    "Setiap baris dalam tabel menyimpan data pada lagu yang dimainkan. Beberapa kolom menggambarkan lagu itu sendiri: judul, artis, dan genre. Sisanya menyampaikan informasi tentang pengguna: kota asal mereka, waktu mereka memutar lagu.\n",
    "\n",
    "Jelas bahwa data tersebut cukup untuk menguji hipotesis. Namun, ada nilai-nilai yang hilang.\n",
    "\n",
    "Selanjutnya, kita perlu melakukan pra-pemrosesan data terlebih dahulu."
   ]
  },
  {
   "cell_type": "markdown",
   "metadata": {
    "id": "3eL__vcwViOi"
   },
   "source": [
    "[Kembali ke Daftar Isi](#back)"
   ]
  },
  {
   "cell_type": "markdown",
   "metadata": {
    "id": "SjYF6Ub9_Zct"
   },
   "source": [
    "## Tahap 2. Pra-pemrosesan Data <a id='data_preprocessing'></a>\n",
    "Perbaiki format pada judul kolom dan atasi nilai yang hilang. Kemudian, periksa apakah ada duplikat dalam data."
   ]
  },
  {
   "cell_type": "markdown",
   "metadata": {
    "id": "dIaKXr29_Zct"
   },
   "source": [
    "### Gaya Penulisan Judul <a id='header_style'></a>\n",
    "Tampilkan judul kolom:\n"
   ]
  },
  {
   "cell_type": "code",
   "execution_count": 6,
   "metadata": {
    "id": "oKOTdF_Q_Zct"
   },
   "outputs": [
    {
     "data": {
      "text/plain": [
       "Index(['  userID', 'Track', 'artist', 'genre', '  City  ', 'time', 'Day'], dtype='object')"
      ]
     },
     "execution_count": 6,
     "metadata": {},
     "output_type": "execute_result"
    }
   ],
   "source": [
    "# daftar nama kolom di tabel df\n",
    "df.columns"
   ]
  },
  {
   "cell_type": "markdown",
   "metadata": {},
   "source": [
    "<div class=\"alert alert-warning\">\n",
    "<b>Reviewer's comment v1</b> <a class=\"tocSkip\"></a>\n",
    "\n",
    "Sama seperti pembahasan sebelumnya `print()` disini sudah tidak diperlukan untuk menampilkan output.\n",
    "\n",
    "</div>"
   ]
  },
  {
   "cell_type": "markdown",
   "metadata": {
    "id": "zj5534cv_Zct"
   },
   "source": [
    "Ubah nama kolom sesuai dengan aturan gaya penulisan yang baik:\n",
    "* Jika nama memiliki beberapa kata, gunakan snake_case\n",
    "* Semua karakter harus menggunakan huruf kecil\n",
    "* Hapus spasi"
   ]
  },
  {
   "cell_type": "code",
   "execution_count": 7,
   "metadata": {
    "id": "ISlFqs5y_Zct"
   },
   "outputs": [],
   "source": [
    "# mengganti nama kolom\n",
    "df = df.rename(\n",
    "    columns={\n",
    "        '  userID': 'user_id',\n",
    "        'Track': 'track',\n",
    "        '  City  ': 'city',\n",
    "        'Day': 'day',\n",
    "    }\n",
    ")"
   ]
  },
  {
   "cell_type": "markdown",
   "metadata": {},
   "source": [
    "<div class=\"alert alert-success\">\n",
    "<b>Reviewer's comment v1</b> <a class=\"tocSkip\"></a>\n",
    "\n",
    "Penggunaan `rename()` yang efisien.\n",
    "\n",
    "</div>"
   ]
  },
  {
   "cell_type": "markdown",
   "metadata": {
    "id": "1dqbh00J_Zct"
   },
   "source": [
    "Periksa hasilnya. Tampilkan nama kolom sekali lagi:"
   ]
  },
  {
   "cell_type": "code",
   "execution_count": 8,
   "metadata": {
    "id": "d4NOAmTW_Zct",
    "scrolled": true
   },
   "outputs": [
    {
     "data": {
      "text/plain": [
       "Index(['user_id', 'track', 'artist', 'genre', 'city', 'time', 'day'], dtype='object')"
      ]
     },
     "execution_count": 8,
     "metadata": {},
     "output_type": "execute_result"
    }
   ],
   "source": [
    "# hasil pengecekan: daftar nama kolom\n",
    "df.columns"
   ]
  },
  {
   "cell_type": "markdown",
   "metadata": {},
   "source": [
    "<div class=\"alert alert-warning\">\n",
    "<b>Reviewer's comment v1</b> <a class=\"tocSkip\"></a>\n",
    "\n",
    "Sama seperti pembahasan sebelumnya `print()` disini sudah tidak diperlukan untuk menampilkan output.\n",
    "\n",
    "</div>"
   ]
  },
  {
   "cell_type": "markdown",
   "metadata": {
    "id": "xYJk6ksJVpOl"
   },
   "source": [
    "[Kembali ke Daftar Isi](#back)"
   ]
  },
  {
   "cell_type": "markdown",
   "metadata": {
    "id": "5ISfbcfY_Zct"
   },
   "source": [
    "### Nilai-Nilai yang Hilang <a id='missing_values'></a>\n",
    "Pertama, temukan jumlah nilai yang hilang dalam tabel. Untuk melakukannya, gunakan dua metode `Pandas`:"
   ]
  },
  {
   "cell_type": "code",
   "execution_count": 9,
   "metadata": {
    "id": "RskX29qr_Zct",
    "scrolled": true
   },
   "outputs": [
    {
     "data": {
      "text/plain": [
       "user_id       0\n",
       "track      1343\n",
       "artist     7567\n",
       "genre      1198\n",
       "city          0\n",
       "time          0\n",
       "day           0\n",
       "dtype: int64"
      ]
     },
     "execution_count": 9,
     "metadata": {},
     "output_type": "execute_result"
    }
   ],
   "source": [
    "# menghitung nilai yang hilang\n",
    "df.isna().sum()"
   ]
  },
  {
   "cell_type": "markdown",
   "metadata": {},
   "source": [
    "<div class=\"alert alert-success\">\n",
    "<b>Reviewer's comment v1</b> <a class=\"tocSkip\"></a>\n",
    "\n",
    "Penggunaan dua metode `isnull` dan `isna` sudah bagus namun dalam sel sebelumnya hanya menampilkan baris terakhir saja yaitu `isna` yang merupakan metode paling umum digunakan.\n",
    "\n",
    "</div>"
   ]
  },
  {
   "cell_type": "markdown",
   "metadata": {},
   "source": [
    "<div class=\"alert alert-warning\">\n",
    "<b>Reviewer's comment v1</b> <a class=\"tocSkip\"></a>\n",
    "\n",
    "`print()` sudah tidak diperlukan untuk menampilkan output.\n",
    "\n",
    "</div>"
   ]
  },
  {
   "cell_type": "markdown",
   "metadata": {
    "id": "qubhgnlO_Zct"
   },
   "source": [
    "Tidak semua nilai yang hilang berpengaruh terhadap penelitian. Misalnya, nilai yang hilang dalam `track` dan `artist` tidak begitu penting. Anda cukup menggantinya dengan tanda yang jelas.\n",
    "\n",
    "Namun nilai yang hilang dalam `'genre'` dapat memengaruhi perbandingan preferensi musik di Springfield dan Shelbyville. Dalam kehidupan nyata, ini akan berguna untuk mempelajari alasan mengapa data tersebut hilang dan mencoba memperbaikinya. Tetapi kita tidak memiliki kesempatan itu dalam proyek ini. Jadi Anda harus:\n",
    "* Isi nilai yang hilang ini dengan sebuah tanda\n",
    "* Evaluasi seberapa besar nilai yang hilang dapat memengaruhi perhitungan Anda"
   ]
  },
  {
   "cell_type": "markdown",
   "metadata": {
    "id": "fSv2laPA_Zct"
   },
   "source": [
    "Ganti nilai yang hilang pada `'track'`, `'artist'`, dan `'genre'` dengan string `'unknown'`. Untuk melakukannya, buat list `columns_to_replace`, lakukan *loop* dengan `for`, dan ganti nilai yang hilang di setiap kolom:"
   ]
  },
  {
   "cell_type": "code",
   "execution_count": 10,
   "metadata": {
    "id": "KplB5qWs_Zct"
   },
   "outputs": [],
   "source": [
    "# loop nama kolom dan ganti nilai yang hilang dengan 'unknown'\n",
    "columns_to_replace = ['track', 'artist', 'genre']\n",
    "\n",
    "for column in columns_to_replace:\n",
    "    df[column]=df[column].fillna('unknown')"
   ]
  },
  {
   "cell_type": "markdown",
   "metadata": {},
   "source": [
    "<div class=\"alert alert-danger\">\n",
    "<b>Reviewer's comment v1</b> <a class=\"tocSkip\"></a>\n",
    "\n",
    "Penggunaan `for` loop yang sudah benar, namun dalam penggantian nilai hilang sebaiknya menggunakan `fillna()` agar lebih efisien.\n",
    "\n",
    "</div>"
   ]
  },
  {
   "cell_type": "markdown",
   "metadata": {},
   "source": [
    "<div class=\"alert alert-success\">\n",
    "<b>Reviewer's comment v2</b> <a class=\"tocSkip\"></a>\n",
    "\n",
    "OK!\n",
    "\n",
    "</div>"
   ]
  },
  {
   "cell_type": "markdown",
   "metadata": {
    "id": "Ilsm-MZo_Zct"
   },
   "source": [
    "Pastikan tidak ada tabel lagi yang berisi nilai yang hilang. Hitung kembali nilai yang hilang."
   ]
  },
  {
   "cell_type": "code",
   "execution_count": 11,
   "metadata": {
    "id": "Tq4nYRX4_Zct",
    "scrolled": true
   },
   "outputs": [
    {
     "data": {
      "text/plain": [
       "user_id    0\n",
       "track      0\n",
       "artist     0\n",
       "genre      0\n",
       "city       0\n",
       "time       0\n",
       "day        0\n",
       "dtype: int64"
      ]
     },
     "execution_count": 11,
     "metadata": {},
     "output_type": "execute_result"
    }
   ],
   "source": [
    "# menghitung nilai yang hilang\n",
    "df.isna().sum()"
   ]
  },
  {
   "cell_type": "markdown",
   "metadata": {},
   "source": [
    "<div class=\"alert alert-warning\">\n",
    "<b>Reviewer's comment v1</b> <a class=\"tocSkip\"></a>\n",
    "\n",
    "`print()` sudah tidak diperlukan untuk menampilkan output.\n",
    "\n",
    "</div>"
   ]
  },
  {
   "cell_type": "markdown",
   "metadata": {
    "id": "74ZIBmq9VrsK"
   },
   "source": [
    "[Kembali ke Daftar Isi](#back)"
   ]
  },
  {
   "cell_type": "markdown",
   "metadata": {
    "id": "BWKRtBJ3_Zct"
   },
   "source": [
    "### Duplikat <a id='duplicates'></a>\n",
    "Temukan jumlah duplikat yang jelas dalam tabel menggunakan satu perintah:"
   ]
  },
  {
   "cell_type": "code",
   "execution_count": 12,
   "metadata": {
    "id": "36eES_S0_Zct",
    "scrolled": false
   },
   "outputs": [
    {
     "data": {
      "text/plain": [
       "3826"
      ]
     },
     "execution_count": 12,
     "metadata": {},
     "output_type": "execute_result"
    }
   ],
   "source": [
    "# menghitung duplikat yang jelas\n",
    "df.duplicated().sum()"
   ]
  },
  {
   "cell_type": "markdown",
   "metadata": {},
   "source": [
    "<div class=\"alert alert-success\">\n",
    "<b>Reviewer's comment v1</b> <a class=\"tocSkip\"></a>\n",
    "\n",
    "Perhitungan duplikat sudah dilakukan secara benar dan efisien.\n",
    "\n",
    "</div>"
   ]
  },
  {
   "cell_type": "markdown",
   "metadata": {
    "id": "Ot25h6XR_Zct"
   },
   "source": [
    "Panggil metode `Pandas` untuk menghapus duplikat yang jelas:"
   ]
  },
  {
   "cell_type": "code",
   "execution_count": 13,
   "metadata": {
    "id": "exFHq6tt_Zct"
   },
   "outputs": [],
   "source": [
    "# menghapus duplikat yang jelas\n",
    "df = df.drop_duplicates().reset_index(drop=True)"
   ]
  },
  {
   "cell_type": "markdown",
   "metadata": {},
   "source": [
    "<div class=\"alert alert-danger\">\n",
    "<b>Reviewer's comment v1</b> <a class=\"tocSkip\"></a>\n",
    "\n",
    "Masih diperlukan tambahan pada `drop_duplicates()` untuk melakukan reset ulang pada index yang terbentuk dengan `reset_index()`.\n",
    "\n",
    "</div>"
   ]
  },
  {
   "cell_type": "markdown",
   "metadata": {},
   "source": [
    "<div class=\"alert alert-danger\">\n",
    "<b>Reviewer's comment v2</b> <a class=\"tocSkip\"></a>\n",
    "\n",
    "`reset_index()` sudah ditambahkan namun apabila dicek pada `df.head()` maka akan muncul kolom index baru yang muncul oleh karena itu perlu ditambahkan `drop=True`.\n",
    "\n",
    "\n",
    "</div>"
   ]
  },
  {
   "cell_type": "markdown",
   "metadata": {},
   "source": [
    "<div class=\"alert alert-success\">\n",
    "<b>Reviewer's comment v3</b> <a class=\"tocSkip\"></a>\n",
    "\n",
    "OK!\n",
    "\n",
    "\n",
    "</div>"
   ]
  },
  {
   "cell_type": "code",
   "execution_count": 14,
   "metadata": {},
   "outputs": [
    {
     "data": {
      "text/html": [
       "<div>\n",
       "<style scoped>\n",
       "    .dataframe tbody tr th:only-of-type {\n",
       "        vertical-align: middle;\n",
       "    }\n",
       "\n",
       "    .dataframe tbody tr th {\n",
       "        vertical-align: top;\n",
       "    }\n",
       "\n",
       "    .dataframe thead th {\n",
       "        text-align: right;\n",
       "    }\n",
       "</style>\n",
       "<table border=\"1\" class=\"dataframe\">\n",
       "  <thead>\n",
       "    <tr style=\"text-align: right;\">\n",
       "      <th></th>\n",
       "      <th>user_id</th>\n",
       "      <th>track</th>\n",
       "      <th>artist</th>\n",
       "      <th>genre</th>\n",
       "      <th>city</th>\n",
       "      <th>time</th>\n",
       "      <th>day</th>\n",
       "    </tr>\n",
       "  </thead>\n",
       "  <tbody>\n",
       "    <tr>\n",
       "      <th>0</th>\n",
       "      <td>FFB692EC</td>\n",
       "      <td>Kamigata To Boots</td>\n",
       "      <td>The Mass Missile</td>\n",
       "      <td>rock</td>\n",
       "      <td>Shelbyville</td>\n",
       "      <td>20:28:33</td>\n",
       "      <td>Wednesday</td>\n",
       "    </tr>\n",
       "    <tr>\n",
       "      <th>1</th>\n",
       "      <td>55204538</td>\n",
       "      <td>Delayed Because of Accident</td>\n",
       "      <td>Andreas Rönnberg</td>\n",
       "      <td>rock</td>\n",
       "      <td>Springfield</td>\n",
       "      <td>14:07:09</td>\n",
       "      <td>Friday</td>\n",
       "    </tr>\n",
       "    <tr>\n",
       "      <th>2</th>\n",
       "      <td>20EC38</td>\n",
       "      <td>Funiculì funiculà</td>\n",
       "      <td>Mario Lanza</td>\n",
       "      <td>pop</td>\n",
       "      <td>Shelbyville</td>\n",
       "      <td>20:58:07</td>\n",
       "      <td>Wednesday</td>\n",
       "    </tr>\n",
       "    <tr>\n",
       "      <th>3</th>\n",
       "      <td>A3DD03C9</td>\n",
       "      <td>Dragons in the Sunset</td>\n",
       "      <td>Fire + Ice</td>\n",
       "      <td>folk</td>\n",
       "      <td>Shelbyville</td>\n",
       "      <td>08:37:09</td>\n",
       "      <td>Monday</td>\n",
       "    </tr>\n",
       "    <tr>\n",
       "      <th>4</th>\n",
       "      <td>E2DC1FAE</td>\n",
       "      <td>Soul People</td>\n",
       "      <td>Space Echo</td>\n",
       "      <td>dance</td>\n",
       "      <td>Springfield</td>\n",
       "      <td>08:34:34</td>\n",
       "      <td>Monday</td>\n",
       "    </tr>\n",
       "  </tbody>\n",
       "</table>\n",
       "</div>"
      ],
      "text/plain": [
       "    user_id                        track            artist  genre  \\\n",
       "0  FFB692EC            Kamigata To Boots  The Mass Missile   rock   \n",
       "1  55204538  Delayed Because of Accident  Andreas Rönnberg   rock   \n",
       "2    20EC38            Funiculì funiculà       Mario Lanza    pop   \n",
       "3  A3DD03C9        Dragons in the Sunset        Fire + Ice   folk   \n",
       "4  E2DC1FAE                  Soul People        Space Echo  dance   \n",
       "\n",
       "          city      time        day  \n",
       "0  Shelbyville  20:28:33  Wednesday  \n",
       "1  Springfield  14:07:09     Friday  \n",
       "2  Shelbyville  20:58:07  Wednesday  \n",
       "3  Shelbyville  08:37:09     Monday  \n",
       "4  Springfield  08:34:34     Monday  "
      ]
     },
     "execution_count": 14,
     "metadata": {},
     "output_type": "execute_result"
    }
   ],
   "source": [
    "df.head()"
   ]
  },
  {
   "cell_type": "markdown",
   "metadata": {
    "id": "Im2YwBEG_Zct"
   },
   "source": [
    "Hitung duplikat yang jelas sekali lagi untuk memastikan Anda telah menghapus semuanya:"
   ]
  },
  {
   "cell_type": "code",
   "execution_count": 15,
   "metadata": {
    "id": "-8PuNWQ0_Zct"
   },
   "outputs": [
    {
     "data": {
      "text/plain": [
       "0"
      ]
     },
     "execution_count": 15,
     "metadata": {},
     "output_type": "execute_result"
    }
   ],
   "source": [
    "# memeriksa duplikat\n",
    "df.duplicated().sum()"
   ]
  },
  {
   "cell_type": "markdown",
   "metadata": {
    "id": "QlFBsxAr_Zct"
   },
   "source": [
    "Sekarang hapus duplikat implisit di kolom `genre`. Misalnya, nama genre dapat ditulis dengan cara yang berbeda. Kesalahan seperti ini juga akan memengaruhi hasil."
   ]
  },
  {
   "cell_type": "markdown",
   "metadata": {
    "id": "eSjWwsOh_Zct"
   },
   "source": [
    "Tampilkan daftar nama genre yang unik, urutkan berdasarkan abjad. Untuk melakukannya:\n",
    "* Ambil kolom DataFrame yang dimaksud\n",
    "* Terapkan metode pengurutan untuk itu\n",
    "* Untuk kolom yang diurutkan, panggil metode yang akan menghasilkan semua nilai kolom yang unik"
   ]
  },
  {
   "cell_type": "code",
   "execution_count": 16,
   "metadata": {
    "id": "JIUcqzZN_Zct",
    "scrolled": true
   },
   "outputs": [
    {
     "data": {
      "text/plain": [
       "array(['acid', 'acoustic', 'action', 'adult', 'africa', 'afrikaans',\n",
       "       'alternative', 'ambient', 'americana', 'animated', 'anime',\n",
       "       'arabesk', 'arabic', 'arena', 'argentinetango', 'art', 'audiobook',\n",
       "       'avantgarde', 'axé', 'baile', 'balkan', 'beats', 'bigroom',\n",
       "       'black', 'bluegrass', 'blues', 'bollywood', 'bossa', 'brazilian',\n",
       "       'breakbeat', 'breaks', 'broadway', 'cantautori', 'cantopop',\n",
       "       'canzone', 'caribbean', 'caucasian', 'celtic', 'chamber',\n",
       "       'children', 'chill', 'chinese', 'choral', 'christian', 'christmas',\n",
       "       'classical', 'classicmetal', 'club', 'colombian', 'comedy',\n",
       "       'conjazz', 'contemporary', 'country', 'cuban', 'dance',\n",
       "       'dancehall', 'dancepop', 'dark', 'death', 'deep', 'deutschrock',\n",
       "       'deutschspr', 'dirty', 'disco', 'dnb', 'documentary', 'downbeat',\n",
       "       'downtempo', 'drum', 'dub', 'dubstep', 'eastern', 'easy',\n",
       "       'electronic', 'electropop', 'emo', 'entehno', 'epicmetal',\n",
       "       'estrada', 'ethnic', 'eurofolk', 'european', 'experimental',\n",
       "       'extrememetal', 'fado', 'film', 'fitness', 'flamenco', 'folk',\n",
       "       'folklore', 'folkmetal', 'folkrock', 'folktronica', 'forró',\n",
       "       'frankreich', 'französisch', 'french', 'funk', 'future', 'gangsta',\n",
       "       'garage', 'german', 'ghazal', 'gitarre', 'glitch', 'gospel',\n",
       "       'gothic', 'grime', 'grunge', 'gypsy', 'handsup', \"hard'n'heavy\",\n",
       "       'hardcore', 'hardstyle', 'hardtechno', 'hip', 'hip-hop', 'hiphop',\n",
       "       'historisch', 'holiday', 'hop', 'horror', 'house', 'idm',\n",
       "       'independent', 'indian', 'indie', 'indipop', 'industrial',\n",
       "       'inspirational', 'instrumental', 'international', 'irish', 'jam',\n",
       "       'japanese', 'jazz', 'jewish', 'jpop', 'jungle', 'k-pop',\n",
       "       'karadeniz', 'karaoke', 'kayokyoku', 'korean', 'laiko', 'latin',\n",
       "       'latino', 'leftfield', 'local', 'lounge', 'loungeelectronic',\n",
       "       'lovers', 'malaysian', 'mandopop', 'marschmusik', 'meditative',\n",
       "       'mediterranean', 'melodic', 'metal', 'metalcore', 'mexican',\n",
       "       'middle', 'minimal', 'miscellaneous', 'modern', 'mood', 'mpb',\n",
       "       'muslim', 'native', 'neoklassik', 'neue', 'new', 'newage',\n",
       "       'newwave', 'nu', 'nujazz', 'numetal', 'oceania', 'old', 'opera',\n",
       "       'orchestral', 'other', 'piano', 'pop', 'popelectronic',\n",
       "       'popeurodance', 'post', 'posthardcore', 'postrock', 'power',\n",
       "       'progmetal', 'progressive', 'psychedelic', 'punjabi', 'punk',\n",
       "       'quebecois', 'ragga', 'ram', 'rancheras', 'rap', 'rave', 'reggae',\n",
       "       'reggaeton', 'regional', 'relax', 'religious', 'retro', 'rhythm',\n",
       "       'rnb', 'rnr', 'rock', 'rockabilly', 'romance', 'roots', 'ruspop',\n",
       "       'rusrap', 'rusrock', 'salsa', 'samba', 'schlager', 'self',\n",
       "       'sertanejo', 'shoegazing', 'showtunes', 'singer', 'ska', 'slow',\n",
       "       'smooth', 'soul', 'soulful', 'sound', 'soundtrack', 'southern',\n",
       "       'specialty', 'speech', 'spiritual', 'sport', 'stonerrock', 'surf',\n",
       "       'swing', 'synthpop', 'sängerportrait', 'tango', 'tanzorchester',\n",
       "       'taraftar', 'tech', 'techno', 'thrash', 'top', 'traditional',\n",
       "       'tradjazz', 'trance', 'tribal', 'trip', 'triphop', 'tropical',\n",
       "       'türk', 'türkçe', 'unknown', 'urban', 'uzbek', 'variété', 'vi',\n",
       "       'videogame', 'vocal', 'western', 'world', 'worldbeat', 'ïîï'],\n",
       "      dtype=object)"
      ]
     },
     "execution_count": 16,
     "metadata": {},
     "output_type": "execute_result"
    }
   ],
   "source": [
    "# melihat nama genre yang unik\n",
    "df1 = df.sort_values('genre')\n",
    "df2 = df1['genre'].unique()\n",
    "df2"
   ]
  },
  {
   "cell_type": "markdown",
   "metadata": {},
   "source": [
    "<div class=\"alert alert-warning\">\n",
    "<b>Reviewer's comment v1</b> <a class=\"tocSkip\"></a>\n",
    "\n",
    "Akan lebih mudah dilakukan pengecekan duplikat implisit apabila nilai unik ditampilkan berurutan serta `print()` sudah tidak diperlukan untuk menampilkan output.\n",
    "\n",
    "</div>"
   ]
  },
  {
   "cell_type": "markdown",
   "metadata": {},
   "source": [
    "<div class=\"alert alert-warning\">\n",
    "<b>Reviewer's comment v2</b> <a class=\"tocSkip\"></a>\n",
    "\n",
    "`sorted()` dapat digantikan dengan `sort_values()` mengingat objek yang ingin diurutkan merupakan dataframe maka `sort_values()` lebih baik.\n",
    "\n",
    "</div>"
   ]
  },
  {
   "cell_type": "markdown",
   "metadata": {
    "id": "qej-Qmuo_Zct"
   },
   "source": [
    "Lihat melalui *list* untuk menemukan duplikat implisit dari genre `hiphop`. Ini bisa berupa nama yang ditulis secara salah atau nama alternatif dari genre yang sama.\n",
    "\n",
    "Anda akan melihat duplikat implisit berikut:\n",
    "* `hip`\n",
    "* `hop`\n",
    "* `hip-hop`\n",
    "\n",
    "Untuk menghapusnya, gunakan fungsi `replace_wrong_genres()` dengan dua parameter:\n",
    "* `wrong_genres=` — daftar duplikat\n",
    "* `correct_genre=` — string dengan nilai yang benar\n",
    "\n",
    "Fungsi harus mengoreksi nama dalam kolom `'genre'` dari tabel `df`, yaitu mengganti setiap nilai dari daftar `wrong_genres` dengan nilai dalam `correct_genre`."
   ]
  },
  {
   "cell_type": "code",
   "execution_count": 17,
   "metadata": {
    "id": "ErNDkmns_Zct"
   },
   "outputs": [],
   "source": [
    "# fungsi untuk mengganti duplikat implisit\n",
    "def replace_wrong_genres(wrong_genres, correct_genre):\n",
    "    for wrong_genre in wrong_genres:\n",
    "        df['genre'] = df['genre'].replace(wrong_genres, correct_genre)"
   ]
  },
  {
   "cell_type": "markdown",
   "metadata": {},
   "source": [
    "<div class=\"alert alert-success\">\n",
    "<b>Reviewer's comment v1</b> <a class=\"tocSkip\"></a>\n",
    "\n",
    "Fungsi telah didefinisikan dengan benar.\n",
    "\n",
    "</div>"
   ]
  },
  {
   "cell_type": "markdown",
   "metadata": {
    "id": "aDoBJxbA_Zct"
   },
   "source": [
    "Panggil `replace_wrong_genres()` dan berikan argumennya sehingga menghapus duplikat implisit (`hip`, `hop`, dan `hip-hop`) dan menggantinya dengan `hiphop`:"
   ]
  },
  {
   "cell_type": "code",
   "execution_count": 18,
   "metadata": {
    "id": "YN5i2hpmSo09"
   },
   "outputs": [],
   "source": [
    "# menghapus duplikat implisit\n",
    "duplicates = ['hip', 'hop', 'hip-hop']\n",
    "genre = 'hiphop'\n",
    "replace_wrong_genres(duplicates, genre)"
   ]
  },
  {
   "cell_type": "markdown",
   "metadata": {},
   "source": [
    "<div class=\"alert alert-success\">\n",
    "<b>Reviewer's comment v1</b> <a class=\"tocSkip\"></a>\n",
    "\n",
    "OK.\n",
    "\n",
    "</div>"
   ]
  },
  {
   "cell_type": "markdown",
   "metadata": {
    "id": "zQKF16_RG15m"
   },
   "source": [
    "Pastikan nama duplikat telah dihapus. Tampilkan daftar nilai unik dari kolom `'genre'`:"
   ]
  },
  {
   "cell_type": "code",
   "execution_count": 19,
   "metadata": {
    "id": "wvixALnFG15m",
    "scrolled": true
   },
   "outputs": [
    {
     "data": {
      "text/plain": [
       "array(['acid', 'acoustic', 'action', 'adult', 'africa', 'afrikaans',\n",
       "       'alternative', 'ambient', 'americana', 'animated', 'anime',\n",
       "       'arabesk', 'arabic', 'arena', 'argentinetango', 'art', 'audiobook',\n",
       "       'avantgarde', 'axé', 'baile', 'balkan', 'beats', 'bigroom',\n",
       "       'black', 'bluegrass', 'blues', 'bollywood', 'bossa', 'brazilian',\n",
       "       'breakbeat', 'breaks', 'broadway', 'cantautori', 'cantopop',\n",
       "       'canzone', 'caribbean', 'caucasian', 'celtic', 'chamber',\n",
       "       'children', 'chill', 'chinese', 'choral', 'christian', 'christmas',\n",
       "       'classical', 'classicmetal', 'club', 'colombian', 'comedy',\n",
       "       'conjazz', 'contemporary', 'country', 'cuban', 'dance',\n",
       "       'dancehall', 'dancepop', 'dark', 'death', 'deep', 'deutschrock',\n",
       "       'deutschspr', 'dirty', 'disco', 'dnb', 'documentary', 'downbeat',\n",
       "       'downtempo', 'drum', 'dub', 'dubstep', 'eastern', 'easy',\n",
       "       'electronic', 'electropop', 'emo', 'entehno', 'epicmetal',\n",
       "       'estrada', 'ethnic', 'eurofolk', 'european', 'experimental',\n",
       "       'extrememetal', 'fado', 'film', 'fitness', 'flamenco', 'folk',\n",
       "       'folklore', 'folkmetal', 'folkrock', 'folktronica', 'forró',\n",
       "       'frankreich', 'französisch', 'french', 'funk', 'future', 'gangsta',\n",
       "       'garage', 'german', 'ghazal', 'gitarre', 'glitch', 'gospel',\n",
       "       'gothic', 'grime', 'grunge', 'gypsy', 'handsup', \"hard'n'heavy\",\n",
       "       'hardcore', 'hardstyle', 'hardtechno', 'hiphop', 'historisch',\n",
       "       'holiday', 'horror', 'house', 'idm', 'independent', 'indian',\n",
       "       'indie', 'indipop', 'industrial', 'inspirational', 'instrumental',\n",
       "       'international', 'irish', 'jam', 'japanese', 'jazz', 'jewish',\n",
       "       'jpop', 'jungle', 'k-pop', 'karadeniz', 'karaoke', 'kayokyoku',\n",
       "       'korean', 'laiko', 'latin', 'latino', 'leftfield', 'local',\n",
       "       'lounge', 'loungeelectronic', 'lovers', 'malaysian', 'mandopop',\n",
       "       'marschmusik', 'meditative', 'mediterranean', 'melodic', 'metal',\n",
       "       'metalcore', 'mexican', 'middle', 'minimal', 'miscellaneous',\n",
       "       'modern', 'mood', 'mpb', 'muslim', 'native', 'neoklassik', 'neue',\n",
       "       'new', 'newage', 'newwave', 'nu', 'nujazz', 'numetal', 'oceania',\n",
       "       'old', 'opera', 'orchestral', 'other', 'piano', 'pop',\n",
       "       'popelectronic', 'popeurodance', 'post', 'posthardcore',\n",
       "       'postrock', 'power', 'progmetal', 'progressive', 'psychedelic',\n",
       "       'punjabi', 'punk', 'quebecois', 'ragga', 'ram', 'rancheras', 'rap',\n",
       "       'rave', 'reggae', 'reggaeton', 'regional', 'relax', 'religious',\n",
       "       'retro', 'rhythm', 'rnb', 'rnr', 'rock', 'rockabilly', 'romance',\n",
       "       'roots', 'ruspop', 'rusrap', 'rusrock', 'salsa', 'samba',\n",
       "       'schlager', 'self', 'sertanejo', 'shoegazing', 'showtunes',\n",
       "       'singer', 'ska', 'slow', 'smooth', 'soul', 'soulful', 'sound',\n",
       "       'soundtrack', 'southern', 'specialty', 'speech', 'spiritual',\n",
       "       'sport', 'stonerrock', 'surf', 'swing', 'synthpop',\n",
       "       'sängerportrait', 'tango', 'tanzorchester', 'taraftar', 'tech',\n",
       "       'techno', 'thrash', 'top', 'traditional', 'tradjazz', 'trance',\n",
       "       'tribal', 'trip', 'triphop', 'tropical', 'türk', 'türkçe',\n",
       "       'unknown', 'urban', 'uzbek', 'variété', 'vi', 'videogame', 'vocal',\n",
       "       'western', 'world', 'worldbeat', 'ïîï'], dtype=object)"
      ]
     },
     "execution_count": 19,
     "metadata": {},
     "output_type": "execute_result"
    }
   ],
   "source": [
    "# memeriksa duplikat implisit\n",
    "df1 = df.sort_values('genre')\n",
    "df2 = df1['genre'].unique()\n",
    "df2"
   ]
  },
  {
   "cell_type": "markdown",
   "metadata": {},
   "source": [
    "<div class=\"alert alert-warning\">\n",
    "<b>Reviewer's comment v1</b> <a class=\"tocSkip\"></a>\n",
    "\n",
    "Sama dengan sebelumnya, lebih mudah dilakukan pengecekan duplikat implisit apabila nilai unik ditampilkan berurutan serta `print()` sudah tidak diperlukan untuk menampilkan output.\n",
    "\n",
    "</div>"
   ]
  },
  {
   "cell_type": "markdown",
   "metadata": {},
   "source": [
    "<div class=\"alert alert-warning\">\n",
    "<b>Reviewer's comment v2</b> <a class=\"tocSkip\"></a>\n",
    "\n",
    "`sorted()` dapat digantikan dengan `sort_values()` mengingat objek yang ingin diurutkan merupakan dataframe maka `sort_values()` lebih baik.\n",
    "\n",
    "</div>"
   ]
  },
  {
   "cell_type": "markdown",
   "metadata": {
    "id": "ALgNbvF3VtPA"
   },
   "source": [
    "[Kembali ke Daftar Isi](#back)"
   ]
  },
  {
   "cell_type": "markdown",
   "metadata": {
    "id": "jz6a9-7HQUDd"
   },
   "source": [
    "### Kesimpulan <a id='data_preprocessing_conclusions'></a>\n",
    "Kita mendeteksi tiga masalah dengan data:\n",
    "\n",
    "- Gaya penulisan judul yang salah\n",
    "- Nilai-nilai yang hilang\n",
    "- Duplikat yang jelas dan implisit\n",
    "\n",
    "Judul telah dibersihkan untuk mempermudah pemrosesan tabel.\n",
    "\n",
    "Semua nilai yang hilang telah diganti dengan `'unknown'`. Tapi kita masih harus melihat apakah nilai yang hilang dalam `'genre'` akan memengaruhi perhitungan kita.\n",
    "\n",
    "Tidak adanya duplikat akan membuat hasil lebih tepat dan lebih mudah dipahami.\n",
    "\n",
    "Sekarang kita dapat melanjutkan ke pengujian hipotesis."
   ]
  },
  {
   "cell_type": "markdown",
   "metadata": {
    "id": "eK1es74rVujj"
   },
   "source": [
    "[Kembali ke Daftar Isi](#back)"
   ]
  },
  {
   "cell_type": "markdown",
   "metadata": {
    "id": "WttZHXH0SqKk"
   },
   "source": [
    "## Tahap 3. Menguji Hipotesis <a id='hypotheses'></a>"
   ]
  },
  {
   "cell_type": "markdown",
   "metadata": {
    "id": "Im936VVi_Zcu"
   },
   "source": [
    "### Hipotesis 1: Membandingkan Perilaku Pengguna di Dua Kota <a id='activity'></a>"
   ]
  },
  {
   "cell_type": "markdown",
   "metadata": {
    "id": "nwt_MuaL_Zcu"
   },
   "source": [
    "Menurut hipotesis pertama, pengguna dari Springfield dan Shelbyville memiliki perbedaan dalam mendengarkan musik. Pengujian ini menggunakan data pada hari: Senin, Rabu, dan Jumat.\n",
    "\n",
    "* Pisahkan pengguna ke dalam kelompok berdasarkan kota.\n",
    "* Bandingkan berapa banyak lagu yang dimainkan setiap kelompok pada hari Senin, Rabu, dan Jumat."
   ]
  },
  {
   "cell_type": "markdown",
   "metadata": {
    "id": "8Dw_YMmT_Zcu"
   },
   "source": [
    "Untuk latihan, lakukan setiap perhitungan secara terpisah.\n",
    "\n",
    "Evaluasi aktivitas pengguna di setiap kota. Kelompokkan data berdasarkan kota dan temukan jumlah lagu yang diputar di setiap kelompok.\n",
    "\n"
   ]
  },
  {
   "cell_type": "code",
   "execution_count": 20,
   "metadata": {
    "id": "0_Qs96oh_Zcu",
    "scrolled": true
   },
   "outputs": [
    {
     "data": {
      "text/plain": [
       "city\n",
       "Shelbyville    18512\n",
       "Springfield    42741\n",
       "Name: track, dtype: int64"
      ]
     },
     "execution_count": 20,
     "metadata": {},
     "output_type": "execute_result"
    }
   ],
   "source": [
    "# Menghitung lagu yang diputar di setiap kota\n",
    "df.groupby('city').count()['track']"
   ]
  },
  {
   "cell_type": "markdown",
   "metadata": {},
   "source": [
    "<div class=\"alert alert-success\">\n",
    "<b>Reviewer's comment v1</b> <a class=\"tocSkip\"></a>\n",
    "\n",
    "Kerja bagus!\n",
    "\n",
    "</div>"
   ]
  },
  {
   "cell_type": "code",
   "execution_count": 21,
   "metadata": {},
   "outputs": [],
   "source": [
    "track_by_city = df.groupby('city').count()['track']"
   ]
  },
  {
   "cell_type": "markdown",
   "metadata": {
    "id": "dzli3w8o_Zcu"
   },
   "source": [
    "Springfield memiliki lebih banyak lagu yang dimainkan daripada Shelbyville. Namun bukan berarti warga Springfield lebih sering mendengarkan musik. Kota ini lebih besar, dan memiliki lebih banyak pengguna.\n",
    "\n",
    "Sekarang kelompokkan data menurut hari dan temukan jumlah lagu yang diputar pada hari Senin, Rabu, dan Jumat."
   ]
  },
  {
   "cell_type": "code",
   "execution_count": 22,
   "metadata": {
    "id": "uZMKjiJz_Zcu",
    "scrolled": true
   },
   "outputs": [
    {
     "data": {
      "text/plain": [
       "day\n",
       "Friday       21840\n",
       "Monday       21354\n",
       "Wednesday    18059\n",
       "Name: track, dtype: int64"
      ]
     },
     "execution_count": 22,
     "metadata": {},
     "output_type": "execute_result"
    }
   ],
   "source": [
    "# Menghitung trek yang diputar pada masing-masing hari\n",
    "df.groupby('day').count()['track']"
   ]
  },
  {
   "cell_type": "markdown",
   "metadata": {},
   "source": [
    "<div class=\"alert alert-success\">\n",
    "<b>Reviewer's comment v1</b> <a class=\"tocSkip\"></a>\n",
    "\n",
    "Oke.\n",
    "\n",
    "</div>"
   ]
  },
  {
   "cell_type": "code",
   "execution_count": 23,
   "metadata": {},
   "outputs": [],
   "source": [
    "track_by_day = df.groupby('day').count()['track']"
   ]
  },
  {
   "cell_type": "markdown",
   "metadata": {
    "id": "cC2tNrlL_Zcu"
   },
   "source": [
    "Rabu adalah hari paling tenang secara keseluruhan. Tetapi jika kita mempertimbangkan kedua kota secara terpisah, kita mungkin akan memiliki kesimpulan yang berbeda."
   ]
  },
  {
   "cell_type": "markdown",
   "metadata": {
    "id": "POzs8bGa_Zcu"
   },
   "source": [
    "Anda telah melihat cara kerja pengelompokan berdasarkan kota atau hari. Sekarang tulis fungsi yang akan dikelompokkan berdasarkan keduanya.\n",
    "\n",
    "Buat fungsi `number_tracks()` untuk menghitung jumlah lagu yang diputar untuk hari dan kota tertentu. Ini akan membutuhkan dua parameter:\n",
    "* nama hari\n",
    "* nama kota\n",
    "\n",
    "Dalam fungsi, gunakan variabel untuk menyimpan baris dari tabel asli, di mana:\n",
    "  *  Nilai kolom `'day'` sama dengan parameter `day`\n",
    "  * Nilai kolom `'city'` sama dengan parameter `city`\n",
    "\n",
    "Terapkan pemfilteran berurutan dengan pengindeksan logis.\n",
    "\n",
    "Kemudian hitung nilai kolom `'user_id'` pada tabel yang dihasilkan. Simpan hasilnya ke variabel baru. Kembalikan variabel ini dari fungsi."
   ]
  },
  {
   "cell_type": "code",
   "execution_count": 24,
   "metadata": {
    "id": "Nz3GdQB1_Zcu"
   },
   "outputs": [],
   "source": [
    "# <membuat fungsi number_tracks()>\n",
    "# Kita akan mendeklarasikan sebuah fungsi dengan dua parameter: day=, city=.\n",
    "# Biarkan variabel track_list menyimpan baris df di mana\n",
    "# nilai di kolom 'day' sama dengan parameter day= dan, pada saat yang sama,\n",
    "# nilai pada kolom 'city' sama dengan parameter city= (terapkan pemfilteran berurutan\n",
    "# dengan pengindeksan logis).\n",
    "# Biarkan variabel track_list_count menyimpan jumlah nilai kolom 'user_id' pada track_list\n",
    "# (temukan dengan metode count()).\n",
    "# Biarkan fungsi menghasilkan jumlah: nilai track_list_count.\n",
    "\n",
    "\n",
    "# Fungsi menghitung lagu yang diputar untuk kota dan hari tertentu.\n",
    "# Pertama-tama ini akan mengambil baris dengan hari yang diinginkan dari tabel,\n",
    "# kemudian memfilter baris hasilnya dengan kota yang dimaksud,\n",
    "# kemudian temukan jumlah nilai 'user_id' pada tabel yang difilter,\n",
    "# kemudian menghasilkan jumlah tersebut.\n",
    "# Untuk melihat apa yang dihasilkan, kemas pemanggilan fungsi pada print().\n",
    "\n",
    "def number_tracks(dataset, day, city):\n",
    "    track_list = df.loc[(dataset['day']==day) & (dataset['city']==city)]\n",
    "    track_list_count = track_list['user_id'].count()\n",
    "    return track_list_count"
   ]
  },
  {
   "cell_type": "markdown",
   "metadata": {},
   "source": [
    "<div class=\"alert alert-danger\">\n",
    "<b>Reviewer's comment v1</b> <a class=\"tocSkip\"></a>\n",
    "\n",
    "Sebaiknya menggunakan `count()` untuk perhitungan `user_id`. Pada fungsi yang terbentuk seharunsya tidak ada `print()` didalamnya karena sudah ada `return` untuk mengembalikan nilai yang keluar dari perhitungan sebagai output fungsi.\n",
    "\n",
    "Penggunaan `print()` disini berakibat seperti pada sel selanjutnya dimana walaupun fungsi ini digunakan dan dideklarasikan pada variabel tertentu output masih tampil.\n",
    "\n",
    "</div>"
   ]
  },
  {
   "cell_type": "markdown",
   "metadata": {},
   "source": [
    "<div class=\"alert alert-success\">\n",
    "<b>Reviewer's comment v2</b> <a class=\"tocSkip\"></a>\n",
    "\n",
    "Perbaikan yang tepat.\n",
    "\n",
    "</div>"
   ]
  },
  {
   "cell_type": "markdown",
   "metadata": {
    "id": "ytf7xFrFJQ2r"
   },
   "source": [
    "Panggil `number_tracks()` enam kali dan ubahlah nilai parameternya, sehingga Anda bisa mengambil data di kedua kota untuk masing-masing hari tersebut."
   ]
  },
  {
   "cell_type": "code",
   "execution_count": 25,
   "metadata": {
    "id": "rJcRATNQ_Zcu"
   },
   "outputs": [
    {
     "data": {
      "text/plain": [
       "15740"
      ]
     },
     "execution_count": 25,
     "metadata": {},
     "output_type": "execute_result"
    }
   ],
   "source": [
    "# jumlah lagu yang diputar di Springfield pada hari Senin\n",
    "filtered_spr_monday = number_tracks(dataset=df, day='Monday', city='Springfield')\n",
    "filtered_spr_monday"
   ]
  },
  {
   "cell_type": "code",
   "execution_count": 26,
   "metadata": {
    "id": "hq_ncZ5T_Zcu"
   },
   "outputs": [
    {
     "data": {
      "text/plain": [
       "5614"
      ]
     },
     "execution_count": 26,
     "metadata": {},
     "output_type": "execute_result"
    }
   ],
   "source": [
    "# jumlah lagu yang diputar di Shelbyville pada hari Senin\n",
    "filtered_shel_monday = number_tracks(dataset=df, day='Monday', city='Shelbyville')\n",
    "filtered_shel_monday"
   ]
  },
  {
   "cell_type": "code",
   "execution_count": 27,
   "metadata": {
    "id": "_NTy2VPU_Zcu"
   },
   "outputs": [
    {
     "data": {
      "text/plain": [
       "11056"
      ]
     },
     "execution_count": 27,
     "metadata": {},
     "output_type": "execute_result"
    }
   ],
   "source": [
    "#  jumlah lagu yang diputar di Springfield pada hari Rabu\n",
    "filtered_spr_wedn = number_tracks(dataset=df, day='Wednesday', city='Springfield')\n",
    "filtered_spr_wedn"
   ]
  },
  {
   "cell_type": "code",
   "execution_count": 28,
   "metadata": {
    "id": "j2y3TAwo_Zcu"
   },
   "outputs": [
    {
     "data": {
      "text/plain": [
       "7003"
      ]
     },
     "execution_count": 28,
     "metadata": {},
     "output_type": "execute_result"
    }
   ],
   "source": [
    "#  jumlah lagu yang diputar di Shelbyville pada hari Rabu\n",
    "filtered_shel_wedn = number_tracks(dataset=df, day='Wednesday', city='Shelbyville')\n",
    "filtered_shel_wedn"
   ]
  },
  {
   "cell_type": "code",
   "execution_count": 29,
   "metadata": {
    "id": "vYDw5u_K_Zcu"
   },
   "outputs": [
    {
     "data": {
      "text/plain": [
       "15945"
      ]
     },
     "execution_count": 29,
     "metadata": {},
     "output_type": "execute_result"
    }
   ],
   "source": [
    "# jumlah lagu yang diputar di Springfield pada hari Jumat\n",
    "filtered_spr_frid = number_tracks(dataset=df, day='Friday', city='Springfield')\n",
    "filtered_spr_frid"
   ]
  },
  {
   "cell_type": "code",
   "execution_count": 30,
   "metadata": {
    "id": "8_yzFtW3_Zcu"
   },
   "outputs": [
    {
     "data": {
      "text/plain": [
       "5895"
      ]
     },
     "execution_count": 30,
     "metadata": {},
     "output_type": "execute_result"
    }
   ],
   "source": [
    "# jumlah lagu yang diputar di Shelbyville pada hari Jumat\n",
    "filtered_shel_frid = number_tracks(dataset=df, day='Friday', city='Shelbyville')\n",
    "filtered_shel_frid"
   ]
  },
  {
   "cell_type": "markdown",
   "metadata": {},
   "source": [
    "<div class=\"alert alert-warning\">\n",
    "<b>Reviewer's comment v1</b> <a class=\"tocSkip\"></a>\n",
    "\n",
    "Berdasarkan pembahasan di fungsi `number_tracks` apabila tanpa `print()` di dalam fungsi penulisan kode apabila dilakukan deklarasi pada suatu variabel akan menjadi seperti ini:\n",
    "    \n",
    "    filtered = number_tracks(dataset=df, day='Friday', city='Shelbyville')\n",
    "    filtered\n",
    "    \n",
    "\n",
    "</div>"
   ]
  },
  {
   "cell_type": "markdown",
   "metadata": {
    "id": "7QXffbO-_Zcu"
   },
   "source": [
    "Gunakan `pd.DataFrame` untuk membuat tabel, di mana\n",
    "* Nama kolom adalah: `['city', 'monday', 'wednesday', 'friday']`\n",
    "* Data adalah hasil yang Anda dapatkan dari `number_tracks()`"
   ]
  },
  {
   "cell_type": "code",
   "execution_count": 31,
   "metadata": {
    "id": "APAcLpOr_Zcu"
   },
   "outputs": [
    {
     "data": {
      "text/html": [
       "<div>\n",
       "<style scoped>\n",
       "    .dataframe tbody tr th:only-of-type {\n",
       "        vertical-align: middle;\n",
       "    }\n",
       "\n",
       "    .dataframe tbody tr th {\n",
       "        vertical-align: top;\n",
       "    }\n",
       "\n",
       "    .dataframe thead th {\n",
       "        text-align: right;\n",
       "    }\n",
       "</style>\n",
       "<table border=\"1\" class=\"dataframe\">\n",
       "  <thead>\n",
       "    <tr style=\"text-align: right;\">\n",
       "      <th></th>\n",
       "      <th>city</th>\n",
       "      <th>monday</th>\n",
       "      <th>wednesday</th>\n",
       "      <th>friday</th>\n",
       "    </tr>\n",
       "  </thead>\n",
       "  <tbody>\n",
       "    <tr>\n",
       "      <th>0</th>\n",
       "      <td>Springfield</td>\n",
       "      <td>15740</td>\n",
       "      <td>11056</td>\n",
       "      <td>15945</td>\n",
       "    </tr>\n",
       "    <tr>\n",
       "      <th>1</th>\n",
       "      <td>Shelbyville</td>\n",
       "      <td>5614</td>\n",
       "      <td>7003</td>\n",
       "      <td>5895</td>\n",
       "    </tr>\n",
       "  </tbody>\n",
       "</table>\n",
       "</div>"
      ],
      "text/plain": [
       "          city  monday  wednesday  friday\n",
       "0  Springfield   15740      11056   15945\n",
       "1  Shelbyville    5614       7003    5895"
      ]
     },
     "execution_count": 31,
     "metadata": {},
     "output_type": "execute_result"
    }
   ],
   "source": [
    "# tabel dengan hasil\n",
    "music = [\n",
    "    ['Springfield', 15740, 11056, 15945],\n",
    "    ['Shelbyville', 5614, 7003, 5895],\n",
    "]\n",
    "\n",
    "entries = ['city', 'monday', 'wednesday', 'friday']\n",
    "\n",
    "table_first_hypothesis = pd.DataFrame(data=music, columns=entries)\n",
    "table_first_hypothesis"
   ]
  },
  {
   "cell_type": "markdown",
   "metadata": {},
   "source": [
    "<div class=\"alert alert-warning\">\n",
    "<b>Reviewer's comment v1</b> <a class=\"tocSkip\"></a>\n",
    "\n",
    "Sama seperti pembahasan sebelumnya `print()` disini sudah tidak diperlukan untuk menampilkan output.\n",
    "\n",
    "Selain itu sebaiknya tabel dibentuk tanpa adanya nilai-nilai yang kosong.\n",
    "</div>"
   ]
  },
  {
   "cell_type": "markdown",
   "metadata": {
    "id": "-EgPIHYu_Zcu"
   },
   "source": [
    "**Kesimpulan**\n",
    "\n",
    "Data mengungkapkan perbedaan perilaku pengguna:\n",
    "\n",
    "- Pada Springfield, jumlah lagu yang diputar mencapai puncaknya pada hari Senin dan Jumat, sedangkan pada hari Rabu terjadi penurunan aktivitas.\n",
    "- Di Shelbyville, sebaliknya, pengguna lebih banyak mendengarkan musik pada hari Rabu.\n",
    "\n",
    "Aktivitas pengguna pada hari Senin dan Jumat lebih sedikit."
   ]
  },
  {
   "cell_type": "markdown",
   "metadata": {
    "id": "p7nFQajCVw5B"
   },
   "source": [
    "[Kembali ke Daftar Isi](#back)"
   ]
  },
  {
   "cell_type": "markdown",
   "metadata": {
    "id": "atZAxtq4_Zcu"
   },
   "source": [
    "### Hipotesis 2: Musik di Awal dan Akhir Minggu <a id='week'></a>"
   ]
  },
  {
   "cell_type": "markdown",
   "metadata": {
    "id": "eXrQqXFH_Zcu"
   },
   "source": [
    "Menurut hipotesis kedua, pada Senin pagi dan Jumat malam, warga Springfield mendengarkan genre yang berbeda dari yang dinikmati warga Shelbyville."
   ]
  },
  {
   "cell_type": "markdown",
   "metadata": {
    "id": "S8UcW6Hw_Zcu"
   },
   "source": [
    "Dapatkan tabel (pastikan nama tabel gabungan Anda cocok dengan DataFrame yang diberikan dalam dua blok kode di bawah):\n",
    "* Untuk Springfield — `spr_general`\n",
    "* Untuk Shelbyville — `shel_general`"
   ]
  },
  {
   "cell_type": "code",
   "execution_count": 32,
   "metadata": {
    "scrolled": true
   },
   "outputs": [
    {
     "data": {
      "text/html": [
       "<div>\n",
       "<style scoped>\n",
       "    .dataframe tbody tr th:only-of-type {\n",
       "        vertical-align: middle;\n",
       "    }\n",
       "\n",
       "    .dataframe tbody tr th {\n",
       "        vertical-align: top;\n",
       "    }\n",
       "\n",
       "    .dataframe thead th {\n",
       "        text-align: right;\n",
       "    }\n",
       "</style>\n",
       "<table border=\"1\" class=\"dataframe\">\n",
       "  <thead>\n",
       "    <tr style=\"text-align: right;\">\n",
       "      <th></th>\n",
       "      <th>user_id</th>\n",
       "      <th>track</th>\n",
       "      <th>artist</th>\n",
       "      <th>genre</th>\n",
       "      <th>city</th>\n",
       "      <th>time</th>\n",
       "      <th>day</th>\n",
       "    </tr>\n",
       "  </thead>\n",
       "  <tbody>\n",
       "    <tr>\n",
       "      <th>1</th>\n",
       "      <td>55204538</td>\n",
       "      <td>Delayed Because of Accident</td>\n",
       "      <td>Andreas Rönnberg</td>\n",
       "      <td>rock</td>\n",
       "      <td>Springfield</td>\n",
       "      <td>14:07:09</td>\n",
       "      <td>Friday</td>\n",
       "    </tr>\n",
       "    <tr>\n",
       "      <th>4</th>\n",
       "      <td>E2DC1FAE</td>\n",
       "      <td>Soul People</td>\n",
       "      <td>Space Echo</td>\n",
       "      <td>dance</td>\n",
       "      <td>Springfield</td>\n",
       "      <td>08:34:34</td>\n",
       "      <td>Monday</td>\n",
       "    </tr>\n",
       "    <tr>\n",
       "      <th>6</th>\n",
       "      <td>4CB90AA5</td>\n",
       "      <td>True</td>\n",
       "      <td>Roman Messer</td>\n",
       "      <td>dance</td>\n",
       "      <td>Springfield</td>\n",
       "      <td>13:00:07</td>\n",
       "      <td>Wednesday</td>\n",
       "    </tr>\n",
       "    <tr>\n",
       "      <th>7</th>\n",
       "      <td>F03E1C1F</td>\n",
       "      <td>Feeling This Way</td>\n",
       "      <td>Polina Griffith</td>\n",
       "      <td>dance</td>\n",
       "      <td>Springfield</td>\n",
       "      <td>20:47:49</td>\n",
       "      <td>Wednesday</td>\n",
       "    </tr>\n",
       "    <tr>\n",
       "      <th>8</th>\n",
       "      <td>8FA1D3BE</td>\n",
       "      <td>L’estate</td>\n",
       "      <td>Julia Dalia</td>\n",
       "      <td>ruspop</td>\n",
       "      <td>Springfield</td>\n",
       "      <td>09:17:40</td>\n",
       "      <td>Friday</td>\n",
       "    </tr>\n",
       "    <tr>\n",
       "      <th>...</th>\n",
       "      <td>...</td>\n",
       "      <td>...</td>\n",
       "      <td>...</td>\n",
       "      <td>...</td>\n",
       "      <td>...</td>\n",
       "      <td>...</td>\n",
       "      <td>...</td>\n",
       "    </tr>\n",
       "    <tr>\n",
       "      <th>61247</th>\n",
       "      <td>83A474E7</td>\n",
       "      <td>I Worship Only What You Bleed</td>\n",
       "      <td>The Black Dahlia Murder</td>\n",
       "      <td>extrememetal</td>\n",
       "      <td>Springfield</td>\n",
       "      <td>21:07:12</td>\n",
       "      <td>Monday</td>\n",
       "    </tr>\n",
       "    <tr>\n",
       "      <th>61248</th>\n",
       "      <td>729CBB09</td>\n",
       "      <td>My Name</td>\n",
       "      <td>McLean</td>\n",
       "      <td>rnb</td>\n",
       "      <td>Springfield</td>\n",
       "      <td>13:32:28</td>\n",
       "      <td>Wednesday</td>\n",
       "    </tr>\n",
       "    <tr>\n",
       "      <th>61250</th>\n",
       "      <td>C5E3A0D5</td>\n",
       "      <td>Jalopiina</td>\n",
       "      <td>unknown</td>\n",
       "      <td>industrial</td>\n",
       "      <td>Springfield</td>\n",
       "      <td>20:09:26</td>\n",
       "      <td>Friday</td>\n",
       "    </tr>\n",
       "    <tr>\n",
       "      <th>61251</th>\n",
       "      <td>321D0506</td>\n",
       "      <td>Freight Train</td>\n",
       "      <td>Chas McDevitt</td>\n",
       "      <td>rock</td>\n",
       "      <td>Springfield</td>\n",
       "      <td>21:43:59</td>\n",
       "      <td>Friday</td>\n",
       "    </tr>\n",
       "    <tr>\n",
       "      <th>61252</th>\n",
       "      <td>3A64EF84</td>\n",
       "      <td>Tell Me Sweet Little Lies</td>\n",
       "      <td>Monica Lopez</td>\n",
       "      <td>country</td>\n",
       "      <td>Springfield</td>\n",
       "      <td>21:59:46</td>\n",
       "      <td>Friday</td>\n",
       "    </tr>\n",
       "  </tbody>\n",
       "</table>\n",
       "<p>42741 rows × 7 columns</p>\n",
       "</div>"
      ],
      "text/plain": [
       "        user_id                          track                   artist  \\\n",
       "1      55204538    Delayed Because of Accident         Andreas Rönnberg   \n",
       "4      E2DC1FAE                    Soul People               Space Echo   \n",
       "6      4CB90AA5                           True             Roman Messer   \n",
       "7      F03E1C1F               Feeling This Way          Polina Griffith   \n",
       "8      8FA1D3BE                       L’estate              Julia Dalia   \n",
       "...         ...                            ...                      ...   \n",
       "61247  83A474E7  I Worship Only What You Bleed  The Black Dahlia Murder   \n",
       "61248  729CBB09                        My Name                   McLean   \n",
       "61250  C5E3A0D5                      Jalopiina                  unknown   \n",
       "61251  321D0506                  Freight Train            Chas McDevitt   \n",
       "61252  3A64EF84      Tell Me Sweet Little Lies             Monica Lopez   \n",
       "\n",
       "              genre         city      time        day  \n",
       "1              rock  Springfield  14:07:09     Friday  \n",
       "4             dance  Springfield  08:34:34     Monday  \n",
       "6             dance  Springfield  13:00:07  Wednesday  \n",
       "7             dance  Springfield  20:47:49  Wednesday  \n",
       "8            ruspop  Springfield  09:17:40     Friday  \n",
       "...             ...          ...       ...        ...  \n",
       "61247  extrememetal  Springfield  21:07:12     Monday  \n",
       "61248           rnb  Springfield  13:32:28  Wednesday  \n",
       "61250    industrial  Springfield  20:09:26     Friday  \n",
       "61251          rock  Springfield  21:43:59     Friday  \n",
       "61252       country  Springfield  21:59:46     Friday  \n",
       "\n",
       "[42741 rows x 7 columns]"
      ]
     },
     "execution_count": 32,
     "metadata": {},
     "output_type": "execute_result"
    }
   ],
   "source": [
    "df.loc[(df['city']=='Springfield')]"
   ]
  },
  {
   "cell_type": "code",
   "execution_count": 33,
   "metadata": {
    "id": "qeaFfM_P_Zcu"
   },
   "outputs": [],
   "source": [
    "# mendapatkan tabel spr_general dari baris df,\n",
    "# dimana nilai dari kolom 'city' adalah 'Springfield'\n",
    "\n",
    "spr_general = df.loc[(df['city']=='Springfield')]"
   ]
  },
  {
   "cell_type": "code",
   "execution_count": 34,
   "metadata": {},
   "outputs": [
    {
     "data": {
      "text/html": [
       "<div>\n",
       "<style scoped>\n",
       "    .dataframe tbody tr th:only-of-type {\n",
       "        vertical-align: middle;\n",
       "    }\n",
       "\n",
       "    .dataframe tbody tr th {\n",
       "        vertical-align: top;\n",
       "    }\n",
       "\n",
       "    .dataframe thead th {\n",
       "        text-align: right;\n",
       "    }\n",
       "</style>\n",
       "<table border=\"1\" class=\"dataframe\">\n",
       "  <thead>\n",
       "    <tr style=\"text-align: right;\">\n",
       "      <th></th>\n",
       "      <th>user_id</th>\n",
       "      <th>track</th>\n",
       "      <th>artist</th>\n",
       "      <th>genre</th>\n",
       "      <th>city</th>\n",
       "      <th>time</th>\n",
       "      <th>day</th>\n",
       "    </tr>\n",
       "  </thead>\n",
       "  <tbody>\n",
       "    <tr>\n",
       "      <th>0</th>\n",
       "      <td>FFB692EC</td>\n",
       "      <td>Kamigata To Boots</td>\n",
       "      <td>The Mass Missile</td>\n",
       "      <td>rock</td>\n",
       "      <td>Shelbyville</td>\n",
       "      <td>20:28:33</td>\n",
       "      <td>Wednesday</td>\n",
       "    </tr>\n",
       "    <tr>\n",
       "      <th>2</th>\n",
       "      <td>20EC38</td>\n",
       "      <td>Funiculì funiculà</td>\n",
       "      <td>Mario Lanza</td>\n",
       "      <td>pop</td>\n",
       "      <td>Shelbyville</td>\n",
       "      <td>20:58:07</td>\n",
       "      <td>Wednesday</td>\n",
       "    </tr>\n",
       "    <tr>\n",
       "      <th>3</th>\n",
       "      <td>A3DD03C9</td>\n",
       "      <td>Dragons in the Sunset</td>\n",
       "      <td>Fire + Ice</td>\n",
       "      <td>folk</td>\n",
       "      <td>Shelbyville</td>\n",
       "      <td>08:37:09</td>\n",
       "      <td>Monday</td>\n",
       "    </tr>\n",
       "    <tr>\n",
       "      <th>5</th>\n",
       "      <td>842029A1</td>\n",
       "      <td>Chains</td>\n",
       "      <td>Obladaet</td>\n",
       "      <td>rusrap</td>\n",
       "      <td>Shelbyville</td>\n",
       "      <td>13:09:41</td>\n",
       "      <td>Friday</td>\n",
       "    </tr>\n",
       "    <tr>\n",
       "      <th>9</th>\n",
       "      <td>E772D5C0</td>\n",
       "      <td>Pessimist</td>\n",
       "      <td>unknown</td>\n",
       "      <td>dance</td>\n",
       "      <td>Shelbyville</td>\n",
       "      <td>21:20:49</td>\n",
       "      <td>Wednesday</td>\n",
       "    </tr>\n",
       "    <tr>\n",
       "      <th>...</th>\n",
       "      <td>...</td>\n",
       "      <td>...</td>\n",
       "      <td>...</td>\n",
       "      <td>...</td>\n",
       "      <td>...</td>\n",
       "      <td>...</td>\n",
       "      <td>...</td>\n",
       "    </tr>\n",
       "    <tr>\n",
       "      <th>61239</th>\n",
       "      <td>D94F810B</td>\n",
       "      <td>Theme from the Walking Dead</td>\n",
       "      <td>Proyecto Halloween</td>\n",
       "      <td>film</td>\n",
       "      <td>Shelbyville</td>\n",
       "      <td>21:14:40</td>\n",
       "      <td>Monday</td>\n",
       "    </tr>\n",
       "    <tr>\n",
       "      <th>61240</th>\n",
       "      <td>BC8EC5CF</td>\n",
       "      <td>Red Lips: Gta (Rover Rework)</td>\n",
       "      <td>Rover</td>\n",
       "      <td>electronic</td>\n",
       "      <td>Shelbyville</td>\n",
       "      <td>21:06:50</td>\n",
       "      <td>Monday</td>\n",
       "    </tr>\n",
       "    <tr>\n",
       "      <th>61241</th>\n",
       "      <td>29E04611</td>\n",
       "      <td>Bre Petrunko</td>\n",
       "      <td>Perunika Trio</td>\n",
       "      <td>world</td>\n",
       "      <td>Shelbyville</td>\n",
       "      <td>13:56:00</td>\n",
       "      <td>Monday</td>\n",
       "    </tr>\n",
       "    <tr>\n",
       "      <th>61242</th>\n",
       "      <td>1B91C621</td>\n",
       "      <td>(Hello) Cloud Mountain</td>\n",
       "      <td>sleepmakeswaves</td>\n",
       "      <td>postrock</td>\n",
       "      <td>Shelbyville</td>\n",
       "      <td>09:22:13</td>\n",
       "      <td>Monday</td>\n",
       "    </tr>\n",
       "    <tr>\n",
       "      <th>61249</th>\n",
       "      <td>D08D4A55</td>\n",
       "      <td>Maybe One Day (feat. Black Spade)</td>\n",
       "      <td>Blu &amp; Exile</td>\n",
       "      <td>hiphop</td>\n",
       "      <td>Shelbyville</td>\n",
       "      <td>10:00:00</td>\n",
       "      <td>Monday</td>\n",
       "    </tr>\n",
       "  </tbody>\n",
       "</table>\n",
       "<p>18512 rows × 7 columns</p>\n",
       "</div>"
      ],
      "text/plain": [
       "        user_id                              track              artist  \\\n",
       "0      FFB692EC                  Kamigata To Boots    The Mass Missile   \n",
       "2        20EC38                  Funiculì funiculà         Mario Lanza   \n",
       "3      A3DD03C9              Dragons in the Sunset          Fire + Ice   \n",
       "5      842029A1                             Chains            Obladaet   \n",
       "9      E772D5C0                          Pessimist             unknown   \n",
       "...         ...                                ...                 ...   \n",
       "61239  D94F810B        Theme from the Walking Dead  Proyecto Halloween   \n",
       "61240  BC8EC5CF       Red Lips: Gta (Rover Rework)               Rover   \n",
       "61241  29E04611                       Bre Petrunko       Perunika Trio   \n",
       "61242  1B91C621             (Hello) Cloud Mountain     sleepmakeswaves   \n",
       "61249  D08D4A55  Maybe One Day (feat. Black Spade)         Blu & Exile   \n",
       "\n",
       "            genre         city      time        day  \n",
       "0            rock  Shelbyville  20:28:33  Wednesday  \n",
       "2             pop  Shelbyville  20:58:07  Wednesday  \n",
       "3            folk  Shelbyville  08:37:09     Monday  \n",
       "5          rusrap  Shelbyville  13:09:41     Friday  \n",
       "9           dance  Shelbyville  21:20:49  Wednesday  \n",
       "...           ...          ...       ...        ...  \n",
       "61239        film  Shelbyville  21:14:40     Monday  \n",
       "61240  electronic  Shelbyville  21:06:50     Monday  \n",
       "61241       world  Shelbyville  13:56:00     Monday  \n",
       "61242    postrock  Shelbyville  09:22:13     Monday  \n",
       "61249      hiphop  Shelbyville  10:00:00     Monday  \n",
       "\n",
       "[18512 rows x 7 columns]"
      ]
     },
     "execution_count": 34,
     "metadata": {},
     "output_type": "execute_result"
    }
   ],
   "source": [
    "df.loc[(df['city']=='Shelbyville')]"
   ]
  },
  {
   "cell_type": "code",
   "execution_count": 35,
   "metadata": {
    "id": "ORaVRKto_Zcu"
   },
   "outputs": [],
   "source": [
    "# mendapatkan shel_general dari baris df,\n",
    "# dimana nilai dari kolom 'city' adalah 'Shelbyville'\n",
    "\n",
    "shel_general = df.loc[(df['city']=='Shelbyville')]"
   ]
  },
  {
   "cell_type": "markdown",
   "metadata": {},
   "source": [
    "<div class=\"alert alert-success\">\n",
    "<b>Reviewer's comment v1</b> <a class=\"tocSkip\"></a>\n",
    "\n",
    "OK.\n",
    "\n",
    "</div>"
   ]
  },
  {
   "cell_type": "markdown",
   "metadata": {
    "id": "MEJV-CX2_Zcu"
   },
   "source": [
    "Tulis fungsi `genre_weekday()` dengan empat parameter:\n",
    "* Sebuah tabel untuk data\n",
    "* Nama hari\n",
    "* Tanda waktu pertama, dalam format 'hh:mm'\n",
    "* Tanda waktu terakhir, dalam format 'hh: mm'\n",
    "\n",
    "Fungsi tersebut harus menghasilkan info tentang 15 genre paling populer pada hari tertentu dalam periode diantara dua tanda waktu."
   ]
  },
  {
   "cell_type": "code",
   "execution_count": 36,
   "metadata": {
    "id": "laJT9BYl_Zcu"
   },
   "outputs": [],
   "source": [
    "# Mendeklarasikan fungsi genre_weekday() dengan parameter day=, time1=, dan time2=. Itu harus\n",
    "# memberikan informasi tentang genre paling populer pada hari dan waktu tertentu:\n",
    "\n",
    "# 1) Biarkan variabel genre_df menyimpan baris yang memenuhi beberapa ketentuan:\n",
    "#    - nilai pada kolom 'day' sama dengan nilai argumen hari=\n",
    "#    - nilai pada kolom 'time' lebih besar dari nilai argumen time1=\n",
    "#    - nilai pada kolom 'time' lebih kecil dari nilai argumen time2=\n",
    "#    Gunakan pemfilteran berurutan dengan pengindeksan logis.\n",
    "\n",
    "# 2) Kelompokkan genre_df berdasarkan kolom 'genre', lalu ambil salah satu kolomnya,\n",
    "#    dan gunakan metode count() untuk menemukan jumlah entri untuk masing-masing\n",
    "#    genre yang diwakili; simpan Series yang dihasilkan ke\n",
    "#    variabel genre_df_count\n",
    "\n",
    "# 3) Urutkan genre_df_count dalam urutan menurun dan simpan hasilnya\n",
    "#    ke variabel genre_df_sorted\n",
    "\n",
    "# 4) Menghasilkan objek Series dengan nilai 15 genre_df_sorted pertama - 15 genre paling\n",
    "#    populer (pada hari tertentu, dalam jangka waktu tertentu)\n",
    "\n",
    "# tulis fungsi Anda di sini\n",
    "    \n",
    "    # pemfilteran berturut-turut\n",
    "        # genre_df hanya akan menyimpan baris df di mana day sama dengan day=\n",
    "    # tulis kode program Anda di sini\n",
    "\n",
    "    # genre_df hanya akan menyimpan baris df di mana time lebih kecil dari time2=\n",
    "    # tulis kode program Anda di sini\n",
    "\n",
    "    # genre_df hanya akan menyimpan baris df di mana time lebih besar dari time1=\n",
    "    # tulis kode program Anda di sini\n",
    "\n",
    "    # kelompokkan DataFrame yang difilter berdasarkan kolom dengan nama genre, ambil kolom genre, dan temukan jumlah baris untuk setiap genre dengan metode count()\n",
    "    # tulis kode program Anda di sini\n",
    "\n",
    "    # kita akan mengurutkan hasilnya dalam urutan menurun (sehingga genre paling populer didahulukan pada objek Series\n",
    "    # tulis kode program Anda di sini\n",
    "\n",
    "    # kita akan menghasilkan objek Series yang menyimpan 15 genre paling populer pada hari tertentu dalam jangka waktu tertentu\n",
    "\n",
    "def genre_weekday(dataset, day, time1, time2):\n",
    "    genre_df = dataset.loc[(dataset['day']==day) & (dataset['time']<time2) & (dataset['time']>time1)]\n",
    "    genre_df1 = genre_df.groupby('genre').count()\n",
    "    genre_df2 = genre_df1.sort_values('user_id', ascending=False)['user_id']\n",
    "    return genre_df2[:15]\n",
    "\n",
    "# Student's comment:\n",
    "# Metode yang disarankan justru menimbulkan error --> ValueError: No axis named user_id for object type Series\n",
    "# sehingga saya tetap memakai versi sebelumnya."
   ]
  },
  {
   "cell_type": "markdown",
   "metadata": {},
   "source": [
    "<div class=\"alert alert-danger\">\n",
    "<b>Reviewer's comment v1</b> <a class=\"tocSkip\"></a>\n",
    "\n",
    "Hampir sama dengan kasus `number_tracks` sebelumnya dimana terdapat `print()` didalam fungsi yang mengakibatkan muncul output ketika fungsi digunakan pada deklarasi nilai suatu variabel contohnya pada sel selanjutnya.\n",
    "\n",
    "</div>"
   ]
  },
  {
   "cell_type": "markdown",
   "metadata": {},
   "source": [
    "<div class=\"alert alert-warning\">\n",
    "<b>Reviewer's comment v2</b> <a class=\"tocSkip\"></a>\n",
    "\n",
    "Pemilihan kolom sebaiknya dilakukan setelah pengelompokan berdasarkan `genre`. Tetapi ini sudah perbaikan yang bagus!\n",
    "\n",
    "</div>"
   ]
  },
  {
   "cell_type": "markdown",
   "metadata": {},
   "source": [
    "<div class=\"alert alert-warning\">\n",
    "<b>Reviewer's comment v3</b> <a class=\"tocSkip\"></a>\n",
    "\n",
    "Yang dimaksud mungkin seperti ini:\n",
    "    \n",
    "    def genre_weekday(dataset, day, time1, time2):\n",
    "        genre_df = dataset.loc[(dataset['day']==day) & (dataset['time']<time2) & (dataset['time']>time1)]\n",
    "        genre_df1 = genre_df.groupby('genre')['genre'].count()\n",
    "        genre_df2 = genre_df1.sort_values(ascending=False)\n",
    "        return genre_df2[:15]\n",
    "</div>"
   ]
  },
  {
   "cell_type": "code",
   "execution_count": 38,
   "metadata": {},
   "outputs": [],
   "source": [
    "# Student's comment:\n",
    "# Metode yang disarankan justru menimbulkan error --> ValueError: No axis named user_id for object type Series\n",
    "# sehingga saya tetap memakai versi sebelumnya."
   ]
  },
  {
   "cell_type": "markdown",
   "metadata": {
    "id": "la2s2_PF_Zcu"
   },
   "source": [
    "Bandingkan hasil fungsi `genre_weekday()` untuk Springfield dan Shelbyville pada Senin pagi (dari pukul 07.00 hingga 11.00) dan pada Jumat malam (dari pukul 17:00 hingga 23:00):"
   ]
  },
  {
   "cell_type": "code",
   "execution_count": 39,
   "metadata": {
    "id": "yz7itPUQ_Zcu"
   },
   "outputs": [
    {
     "data": {
      "text/plain": [
       "genre\n",
       "pop            781\n",
       "dance          549\n",
       "electronic     480\n",
       "rock           474\n",
       "hiphop         286\n",
       "ruspop         186\n",
       "world          181\n",
       "rusrap         175\n",
       "alternative    164\n",
       "unknown        161\n",
       "classical      157\n",
       "metal          120\n",
       "jazz           100\n",
       "folk            97\n",
       "soundtrack      95\n",
       "Name: genre, dtype: int64"
      ]
     },
     "execution_count": 39,
     "metadata": {},
     "output_type": "execute_result"
    }
   ],
   "source": [
    "# memanggil fungsi untuk Senin pagi di Springfield (gunakan spr_general alih-alih tabel df)\n",
    "filtered_spr_mon = genre_weekday(dataset=spr_general, day='Monday', time1='07.00.00', time2='11.00.00')\n",
    "filtered_spr_mon"
   ]
  },
  {
   "cell_type": "code",
   "execution_count": 40,
   "metadata": {
    "id": "kwUcHPdy_Zcu"
   },
   "outputs": [
    {
     "data": {
      "text/plain": [
       "genre\n",
       "pop            218\n",
       "dance          182\n",
       "rock           162\n",
       "electronic     147\n",
       "hiphop          80\n",
       "ruspop          64\n",
       "alternative     58\n",
       "rusrap          55\n",
       "jazz            44\n",
       "classical       40\n",
       "world           36\n",
       "rap             32\n",
       "soundtrack      31\n",
       "rnb             27\n",
       "metal           27\n",
       "Name: genre, dtype: int64"
      ]
     },
     "execution_count": 40,
     "metadata": {},
     "output_type": "execute_result"
    }
   ],
   "source": [
    "# memanggil fungsi untuk Senin pagi di Shelbyville (gunakan shel_general alih-alih tabel df)\n",
    "filtered_shel_mon = genre_weekday(dataset=shel_general, day='Monday', time1='07.00.00', time2='11.00.00')\n",
    "filtered_shel_mon"
   ]
  },
  {
   "cell_type": "code",
   "execution_count": 41,
   "metadata": {
    "id": "EzXVRE1o_Zcu"
   },
   "outputs": [
    {
     "data": {
      "text/plain": [
       "genre\n",
       "pop            713\n",
       "rock           517\n",
       "dance          495\n",
       "electronic     482\n",
       "hiphop         273\n",
       "world          208\n",
       "ruspop         170\n",
       "classical      163\n",
       "alternative    163\n",
       "rusrap         142\n",
       "jazz           111\n",
       "unknown        110\n",
       "soundtrack     105\n",
       "rnb             90\n",
       "metal           88\n",
       "Name: genre, dtype: int64"
      ]
     },
     "execution_count": 41,
     "metadata": {},
     "output_type": "execute_result"
    }
   ],
   "source": [
    "# memanggil fungsi untuk Jumat malam di Springfield\n",
    "filtered_spr_fri = genre_weekday(dataset=spr_general, day='Friday', time1='17.00.00', time2='23.00.00')\n",
    "filtered_spr_fri"
   ]
  },
  {
   "cell_type": "code",
   "execution_count": 42,
   "metadata": {
    "id": "JZaEKu5v_Zcu",
    "scrolled": true
   },
   "outputs": [
    {
     "data": {
      "text/plain": [
       "genre\n",
       "pop            256\n",
       "rock           216\n",
       "electronic     216\n",
       "dance          210\n",
       "hiphop          97\n",
       "alternative     63\n",
       "jazz            61\n",
       "classical       60\n",
       "rusrap          59\n",
       "world           54\n",
       "unknown         47\n",
       "ruspop          47\n",
       "soundtrack      40\n",
       "metal           39\n",
       "rap             36\n",
       "Name: genre, dtype: int64"
      ]
     },
     "execution_count": 42,
     "metadata": {},
     "output_type": "execute_result"
    }
   ],
   "source": [
    "# memanggil fungsi untuk Jumat malam di Shelbyville\n",
    "filtered_shel_fri = genre_weekday(dataset=shel_general, day='Friday', time1='17.00.00', time2='23.00.00')\n",
    "filtered_shel_fri"
   ]
  },
  {
   "cell_type": "markdown",
   "metadata": {},
   "source": [
    "<div class=\"alert alert-danger\">\n",
    "<b>Reviewer's comment v1</b> <a class=\"tocSkip\"></a>\n",
    "\n",
    "Perlu sedikit perbaikan pada penulisan fungsi `genre_weekday`.\n",
    "\n",
    "</div>"
   ]
  },
  {
   "cell_type": "code",
   "execution_count": 43,
   "metadata": {},
   "outputs": [],
   "source": [
    "# Student's comment\n",
    "# Metode yang disarankan justru menimbulkan error --> ValueError: No axis named user_id for object type Series\n",
    "# sehingga saya tetap memakai versi sebelumnya."
   ]
  },
  {
   "cell_type": "markdown",
   "metadata": {
    "id": "wrCe4MNX_Zcu"
   },
   "source": [
    "**Kesimpulan**\n",
    "\n",
    "Setelah membandingkan 15 genre teratas pada Senin pagi, kita dapat menarik kesimpulan berikut:\n",
    "\n",
    "1. Pengguna dari Springfield dan Shelbyville mendengarkan musik dengan genre yang sama. Lima genre teratas sama, hanya rock dan elektronik yang bertukar tempat.\n",
    "\n",
    "2. Di Springfield, jumlah nilai yang hilang ternyata sangat besar sehingga nilai `'unknown'` berada di urutan ke-10. Ini berarti bahwa nilai-nilai yang hilang memiliki jumlah data yang cukup besar, yang mungkin menjadi dasar untuk mempertanyakan ketepatan kesimpulan kita.\n",
    "\n",
    "Untuk Jumat malam, situasinya serupa. Genre individu agak bervariasi, tetapi secara keseluruhan, 15 besar genre untuk kedua kota sama.\n",
    "\n",
    "Dengan demikian, hipotesis kedua sebagian terbukti benar:\n",
    "* Pengguna mendengarkan musik yang sama di awal dan akhir minggu.\n",
    "* Tidak ada perbedaan yang mencolok antara Springfield dan Shelbyville. Pada kedua kota tersebut, pop adalah genre yang paling populer.\n",
    "\n",
    "Namun, jumlah nilai yang hilang membuat hasil ini dipertanyakan. Di Springfield, ada begitu banyak yang memengaruhi 15 teratas kita. Jika kita tidak mengabaikan nilai-nilai ini, hasilnya mungkin akan berbeda."
   ]
  },
  {
   "cell_type": "markdown",
   "metadata": {
    "id": "jLmXgdanVyhP"
   },
   "source": [
    "[Kembali ke Daftar Isi](#back)"
   ]
  },
  {
   "cell_type": "markdown",
   "metadata": {
    "id": "JolODAqr_Zcu"
   },
   "source": [
    "### Hipotesis 3: Preferensi Genre di Springfield dan Shelbyville <a id='genre'></a>\n",
    "\n",
    "Hipotesis: Shelbyville menyukai musik rap. Warga Springfield lebih menyukai pop."
   ]
  },
  {
   "cell_type": "markdown",
   "metadata": {
    "id": "DlegSvaT_Zcu"
   },
   "source": [
    "Kelompokkan tabel `spr_general` berdasarkan genre dan temukan jumlah lagu yang dimainkan untuk setiap genre dengan metode `count()`. Kemudian urutkan hasilnya dalam urutan menurun dan simpan ke `spr_genres`."
   ]
  },
  {
   "cell_type": "code",
   "execution_count": 44,
   "metadata": {
    "id": "r19lIPke_Zcu"
   },
   "outputs": [],
   "source": [
    "# pada satu baris: kelompokkan tabel spr_general berdasarkan kolom 'genre',\n",
    "# hitung nilai 'genre' dengan count() dalam pengelompokan,\n",
    "# urutkan Series yang dihasilkan dalam urutan menurun, lalu simpan ke spr_genres\n",
    "\n",
    "spr_general = df.loc[(df['city']=='Springfield')]\n",
    "spr_genres = spr_general.groupby('genre').count()\n",
    "spr_genres = spr_genres.sort_values('user_id', ascending=False)['user_id']\n",
    "\n",
    "# Student's comment:\n",
    "# Metode yang disarankan justru menimbulkan error --> ValueError: No axis named user_id for object type Series\n",
    "# sehingga saya tetap memakai versi sebelumnya."
   ]
  },
  {
   "cell_type": "markdown",
   "metadata": {},
   "source": [
    "<div class=\"alert alert-warning\">\n",
    "<b>Reviewer's comment v1</b> <a class=\"tocSkip\"></a>\n",
    "\n",
    "Sebaiknya pemilihan kolom dilakukan setelah pengelompokan berdasarkan `genre` selain itu pada baris kode kedua masih menggunakan `spr_general` sehingga kode baris pertama tertimpa oleh baris kedua.\n",
    "\n",
    "</div>"
   ]
  },
  {
   "cell_type": "code",
   "execution_count": 45,
   "metadata": {},
   "outputs": [],
   "source": [
    "# Student's comment\n",
    "# Metode yang disarankan justru menimbulkan error --> ValueError: No axis named user_id for object type Series\n",
    "# sehingga saya tetap memakai versi sebelumnya."
   ]
  },
  {
   "cell_type": "markdown",
   "metadata": {
    "id": "6kMuomxTiIr8"
   },
   "source": [
    "Tampilkan 10 baris pertama dari `spr_genres`:"
   ]
  },
  {
   "cell_type": "code",
   "execution_count": 46,
   "metadata": {
    "id": "WhCSooF8_Zcv"
   },
   "outputs": [
    {
     "data": {
      "text/plain": [
       "genre\n",
       "pop            5892\n",
       "dance          4435\n",
       "rock           3965\n",
       "electronic     3786\n",
       "hiphop         2096\n",
       "classical      1616\n",
       "world          1432\n",
       "alternative    1379\n",
       "ruspop         1372\n",
       "rusrap         1161\n",
       "Name: user_id, dtype: int64"
      ]
     },
     "execution_count": 46,
     "metadata": {},
     "output_type": "execute_result"
    }
   ],
   "source": [
    "# menampilkan 10 baris pertama dari spr_genres\n",
    "spr_genres.head(10)"
   ]
  },
  {
   "cell_type": "markdown",
   "metadata": {
    "id": "cnPG2vnN_Zcv"
   },
   "source": [
    "Sekarang lakukan hal yang sama pada data di Shelbyville.\n",
    "\n",
    "Kelompokkan tabel `shel_general` berdasarkan genre dan temukan jumlah lagu yang dimainkan untuk setiap genre. Kemudian urutkan hasilnya dalam urutan menurun dan simpan ke tabel `shel_genres`:"
   ]
  },
  {
   "cell_type": "code",
   "execution_count": 47,
   "metadata": {
    "id": "gluLIpE7_Zcv"
   },
   "outputs": [],
   "source": [
    "# pada satu baris: kelompokkan tabel shel_general menurut kolom 'genre',\n",
    "# hitung nilai 'genre' dalam pengelompokan menggunakan count(),\n",
    "# urutkan Series yang dihasilkan dalam urutan menurun dan simpan ke shel_genres\n",
    "\n",
    "shel_general = df.loc[(df['city']=='Shelbyville')]\n",
    "shel_genres = shel_general.groupby('genre').count()\n",
    "shel_genres = shel_genres.sort_values(by='user_id', ascending=False)['user_id']\n",
    "\n",
    "# Student's comment\n",
    "# Metode yang disarankan justru menimbulkan error --> ValueError: No axis named user_id for object type Series\n",
    "# sehingga saya tetap memakai versi sebelumnya."
   ]
  },
  {
   "cell_type": "markdown",
   "metadata": {},
   "source": [
    "<div class=\"alert alert-warning\">\n",
    "<b>Reviewer's comment v1</b> <a class=\"tocSkip\"></a>\n",
    "\n",
    "Sama dengan komen sebelumnya dimana sebaiknya pemilihan kolom dilakukan setelah pengelompokan berdasarkan `genre` selain itu pada baris kode kedua masih menggunakan `spr_general` sehingga kode baris pertama tertimpa oleh baris kedua.\n",
    "\n",
    "</div>"
   ]
  },
  {
   "cell_type": "code",
   "execution_count": 48,
   "metadata": {},
   "outputs": [],
   "source": [
    "# Student's comment\n",
    "# Metode yang disarankan justru menimbulkan error --> ValueError: No axis named user_id for object type Series\n",
    "# sehingga saya tetap memakai versi sebelumnya."
   ]
  },
  {
   "cell_type": "markdown",
   "metadata": {
    "id": "5Doha_ODgyQ8"
   },
   "source": [
    "Tampilkan 10 baris pertama dari `shel_genres`:"
   ]
  },
  {
   "cell_type": "code",
   "execution_count": 49,
   "metadata": {
    "id": "uaGJHjVU_Zcv"
   },
   "outputs": [
    {
     "data": {
      "text/plain": [
       "genre\n",
       "pop            2431\n",
       "dance          1932\n",
       "rock           1879\n",
       "electronic     1736\n",
       "hiphop          960\n",
       "alternative     649\n",
       "classical       646\n",
       "rusrap          564\n",
       "ruspop          538\n",
       "world           515\n",
       "Name: user_id, dtype: int64"
      ]
     },
     "execution_count": 49,
     "metadata": {},
     "output_type": "execute_result"
    }
   ],
   "source": [
    "# menampilkan 10 baris pertama dari shel_genres\n",
    "shel_genres.head(10)"
   ]
  },
  {
   "cell_type": "markdown",
   "metadata": {
    "id": "RY51YJYu_Zcv"
   },
   "source": [
    "**Kesimpulan**"
   ]
  },
  {
   "cell_type": "markdown",
   "metadata": {
    "id": "nVhnJEm__Zcv"
   },
   "source": [
    "Hipotesis terbukti benar sebagian:\n",
    "* Musik pop adalah genre paling populer di Springfield, seperti yang diharapkan.\n",
    "* Namun, musik pop ternyata sama populernya baik di Springfield maupun di Shelbyville, dan musik rap tidak berada di 5 besar untuk kedua kota tersebut.\n"
   ]
  },
  {
   "cell_type": "markdown",
   "metadata": {
    "id": "Byr0RfpPVz14"
   },
   "source": [
    "[Kembali ke Daftar Isi](#back)"
   ]
  },
  {
   "cell_type": "markdown",
   "metadata": {
    "id": "ykKQ0N65_Zcv"
   },
   "source": [
    "# Temuan <a id='end'></a>"
   ]
  },
  {
   "cell_type": "markdown",
   "metadata": {
    "id": "tjUwbHb3_Zcv"
   },
   "source": [
    "Kita telah menguji tiga hipotesis berikut:\n",
    "\n",
    "1. Aktivitas pengguna berbeda-beda tergantung pada hari dan kotanya.\n",
    "2. Pada senin pagi, penduduk Springfield dan Shelbyville mendengarkan genre yang berbeda. Hal ini juga ini juga berlaku untuk Jumat malam.\n",
    "3. Pendengar di Springfield dan Shelbyville memiliki preferensi yang berbeda. Baik Springfield maupun di Shelbyville, mereka lebih suka musik pop.\n",
    "\n",
    "Setelah menganalisis data, kita dapat menyimpulkan:\n",
    "\n",
    "1. Aktivitas pengguna di Springfield dan Shelbyville bergantung pada harinya, walaupun kotanya berbeda.\n",
    "\n",
    "Hipotesis pertama dapat diterima sepenuhnya.\n",
    "\n",
    "2. Preferensi musik tidak terlalu berbeda selama seminggu di Springfield dan Shelbyville. Kita dapat melihat perbedaan kecil dalam urutan pada hari Senin, tetapi:\n",
    "* Baik di Springfield maupun di Shelbyville, orang paling banyak mendengarkan musik pop.\n",
    "\n",
    "Jadi hipotesis ini tidak dapat kita terima. Kita juga harus ingat bahwa hasilnya bisa berbeda jika bukan karena nilai yang hilang.\n",
    "\n",
    "3. Ternyata preferensi musik pengguna dari Springfield dan Shelbyville sangat mirip.\n",
    "\n",
    "Hipotesis ketiga ditolak. Jika ada perbedaan preferensi, tidak dapat dilihat dari data ini.\n",
    "\n",
    "### Catatan\n",
    "Dalam proyek sesungguhnya, penelitian melibatkan pengujian hipotesis statistik, yang lebih tepat dan lebih kuantitatif. Perhatikan juga bahwa Anda tidak dapat selalu menarik kesimpulan tentang seluruh kota berdasarkan data dari satu sumber saja.\n",
    "\n",
    "Anda akan mempelajari pengujian hipotesis dalam sprint analisis data statistik."
   ]
  },
  {
   "cell_type": "markdown",
   "metadata": {},
   "source": [
    "<div class=\"alert alert-success\">\n",
    "<b>Reviewer's comment v1</b> <a class=\"tocSkip\"></a>\n",
    "    \n",
    "Secara keseluruhan ini adalah hasil yang sangat bagus namun terdapat beberapa catatan yang perlu diperbaiki.\n",
    "\n",
    "</div>"
   ]
  },
  {
   "cell_type": "markdown",
   "metadata": {},
   "source": [
    "<div class=\"alert alert-success\">\n",
    "<b>Reviewer's comment v2</b> <a class=\"tocSkip\"></a>\n",
    "    \n",
    "Perbaikan yang bagus dan efisien. Sekali lagi perbaikan maka project ini sudah bisa diakhiri namun perlu diperhatikan catatan-catatan yang ada untuk perbaikan kedepanya. Kerja bagus!\n",
    "   \n",
    "\n",
    "</div>"
   ]
  },
  {
   "cell_type": "markdown",
   "metadata": {
    "id": "Ju4AHDSgV1FE"
   },
   "source": [
    "[Kembali ke Daftar Isi](#back)"
   ]
  }
 ],
 "metadata": {
  "ExecuteTimeLog": [
   {
    "duration": 424,
    "start_time": "2022-08-04T15:41:46.011Z"
   },
   {
    "duration": 5,
    "start_time": "2022-08-04T15:41:50.209Z"
   },
   {
    "duration": 2,
    "start_time": "2022-08-04T15:41:51.956Z"
   },
   {
    "duration": 376,
    "start_time": "2022-08-04T15:42:58.046Z"
   },
   {
    "duration": 2,
    "start_time": "2022-08-04T15:44:18.435Z"
   },
   {
    "duration": 3,
    "start_time": "2022-08-04T15:49:49.214Z"
   },
   {
    "duration": 107,
    "start_time": "2022-08-04T15:52:19.587Z"
   },
   {
    "duration": 43,
    "start_time": "2022-08-04T15:53:00.733Z"
   },
   {
    "duration": 228,
    "start_time": "2022-08-04T15:53:10.667Z"
   },
   {
    "duration": 135,
    "start_time": "2022-08-04T15:59:41.215Z"
   },
   {
    "duration": 131,
    "start_time": "2022-08-04T16:01:12.426Z"
   },
   {
    "duration": 8,
    "start_time": "2022-08-04T16:02:10.258Z"
   },
   {
    "duration": 176,
    "start_time": "2022-08-04T16:02:49.987Z"
   },
   {
    "duration": 120,
    "start_time": "2022-08-04T16:03:08.325Z"
   },
   {
    "duration": 18,
    "start_time": "2022-08-04T16:06:16.361Z"
   },
   {
    "duration": 427,
    "start_time": "2022-08-04T16:10:05.348Z"
   },
   {
    "duration": 160,
    "start_time": "2022-08-04T16:10:09.492Z"
   },
   {
    "duration": 136,
    "start_time": "2022-08-04T16:11:02.449Z"
   },
   {
    "duration": 80,
    "start_time": "2022-08-04T16:11:28.447Z"
   },
   {
    "duration": 6,
    "start_time": "2022-08-04T16:15:59.472Z"
   },
   {
    "duration": 8,
    "start_time": "2022-08-04T16:22:07.686Z"
   },
   {
    "duration": 8,
    "start_time": "2022-08-04T16:22:26.125Z"
   },
   {
    "duration": 25,
    "start_time": "2022-08-04T16:23:13.796Z"
   },
   {
    "duration": 144,
    "start_time": "2022-08-04T16:24:15.789Z"
   },
   {
    "duration": 31,
    "start_time": "2022-08-04T16:24:51.129Z"
   },
   {
    "duration": 422,
    "start_time": "2022-08-05T14:19:21.852Z"
   },
   {
    "duration": 456,
    "start_time": "2022-08-05T14:19:25.271Z"
   },
   {
    "duration": 124,
    "start_time": "2022-08-05T14:19:28.548Z"
   },
   {
    "duration": 7,
    "start_time": "2022-08-05T14:19:39.617Z"
   },
   {
    "duration": 26,
    "start_time": "2022-08-05T14:19:48.565Z"
   },
   {
    "duration": 3,
    "start_time": "2022-08-05T15:39:36.019Z"
   },
   {
    "duration": 82,
    "start_time": "2022-08-05T15:50:57.321Z"
   },
   {
    "duration": 3,
    "start_time": "2022-08-05T15:51:59.252Z"
   },
   {
    "duration": 13,
    "start_time": "2022-08-05T15:52:41.218Z"
   },
   {
    "duration": 3,
    "start_time": "2022-08-05T15:52:45.232Z"
   },
   {
    "duration": 12,
    "start_time": "2022-08-05T15:53:15.490Z"
   },
   {
    "duration": 4,
    "start_time": "2022-08-05T15:53:19.438Z"
   },
   {
    "duration": 13,
    "start_time": "2022-08-05T15:53:31.983Z"
   },
   {
    "duration": 3,
    "start_time": "2022-08-05T15:53:34.200Z"
   },
   {
    "duration": 49,
    "start_time": "2022-08-05T15:54:42.321Z"
   },
   {
    "duration": 6,
    "start_time": "2022-08-05T15:54:55.417Z"
   },
   {
    "duration": 424,
    "start_time": "2022-08-05T15:55:13.944Z"
   },
   {
    "duration": 172,
    "start_time": "2022-08-05T15:55:17.070Z"
   },
   {
    "duration": 124,
    "start_time": "2022-08-05T15:55:19.710Z"
   },
   {
    "duration": 7,
    "start_time": "2022-08-05T15:55:22.693Z"
   },
   {
    "duration": 33,
    "start_time": "2022-08-05T15:55:26.751Z"
   },
   {
    "duration": 4,
    "start_time": "2022-08-05T15:55:33.428Z"
   },
   {
    "duration": 14,
    "start_time": "2022-08-05T15:55:40.654Z"
   },
   {
    "duration": 3,
    "start_time": "2022-08-05T15:55:43.183Z"
   },
   {
    "duration": 7,
    "start_time": "2022-08-05T15:59:05.897Z"
   },
   {
    "duration": 121,
    "start_time": "2022-08-05T16:00:04.442Z"
   },
   {
    "duration": 22,
    "start_time": "2022-08-05T16:00:12.477Z"
   },
   {
    "duration": 79,
    "start_time": "2022-08-05T16:16:38.255Z"
   },
   {
    "duration": 16,
    "start_time": "2022-08-05T16:38:48.260Z"
   },
   {
    "duration": 18,
    "start_time": "2022-08-05T16:39:49.246Z"
   },
   {
    "duration": 3,
    "start_time": "2022-08-05T16:40:02.727Z"
   },
   {
    "duration": 23,
    "start_time": "2022-08-05T16:40:15.727Z"
   },
   {
    "duration": 66,
    "start_time": "2022-08-05T16:41:45.370Z"
   },
   {
    "duration": 68,
    "start_time": "2022-08-05T16:47:19.321Z"
   },
   {
    "duration": 2,
    "start_time": "2022-08-05T16:47:38.773Z"
   },
   {
    "duration": 7,
    "start_time": "2022-08-05T16:47:51.750Z"
   },
   {
    "duration": 433,
    "start_time": "2022-08-05T16:48:50.648Z"
   },
   {
    "duration": 195,
    "start_time": "2022-08-05T16:48:52.959Z"
   },
   {
    "duration": 345,
    "start_time": "2022-08-05T16:49:04.626Z"
   },
   {
    "duration": 163,
    "start_time": "2022-08-05T16:49:07.222Z"
   },
   {
    "duration": 143,
    "start_time": "2022-08-05T16:49:09.205Z"
   },
   {
    "duration": 7,
    "start_time": "2022-08-05T16:49:12.353Z"
   },
   {
    "duration": 31,
    "start_time": "2022-08-05T16:49:15.250Z"
   },
   {
    "duration": 3,
    "start_time": "2022-08-05T16:49:19.710Z"
   },
   {
    "duration": 15,
    "start_time": "2022-08-05T16:49:34.477Z"
   },
   {
    "duration": 4,
    "start_time": "2022-08-05T16:49:39.080Z"
   },
   {
    "duration": 35,
    "start_time": "2022-08-05T16:49:54.885Z"
   },
   {
    "duration": 14,
    "start_time": "2022-08-05T16:49:58.785Z"
   },
   {
    "duration": 22,
    "start_time": "2022-08-05T16:50:02.418Z"
   },
   {
    "duration": 68,
    "start_time": "2022-08-05T16:50:14.144Z"
   },
   {
    "duration": 98,
    "start_time": "2022-08-05T16:50:16.633Z"
   },
   {
    "duration": 67,
    "start_time": "2022-08-05T16:50:19.122Z"
   },
   {
    "duration": 47,
    "start_time": "2022-08-05T16:51:55.822Z"
   },
   {
    "duration": 6,
    "start_time": "2022-08-05T16:52:47.397Z"
   },
   {
    "duration": 6,
    "start_time": "2022-08-05T16:53:20.344Z"
   },
   {
    "duration": 378,
    "start_time": "2022-08-05T16:53:37.821Z"
   },
   {
    "duration": 184,
    "start_time": "2022-08-05T16:53:40.329Z"
   },
   {
    "duration": 126,
    "start_time": "2022-08-05T16:53:42.791Z"
   },
   {
    "duration": 7,
    "start_time": "2022-08-05T16:53:46.401Z"
   },
   {
    "duration": 28,
    "start_time": "2022-08-05T16:53:49.829Z"
   },
   {
    "duration": 4,
    "start_time": "2022-08-05T16:54:03.791Z"
   },
   {
    "duration": 15,
    "start_time": "2022-08-05T16:54:08.589Z"
   },
   {
    "duration": 3,
    "start_time": "2022-08-05T16:54:11.796Z"
   },
   {
    "duration": 22,
    "start_time": "2022-08-05T16:54:15.125Z"
   },
   {
    "duration": 16,
    "start_time": "2022-08-05T16:54:22.259Z"
   },
   {
    "duration": 27,
    "start_time": "2022-08-05T16:54:24.682Z"
   },
   {
    "duration": 77,
    "start_time": "2022-08-05T16:54:35.152Z"
   },
   {
    "duration": 71,
    "start_time": "2022-08-05T16:54:40.735Z"
   },
   {
    "duration": 65,
    "start_time": "2022-08-05T16:55:02.170Z"
   },
   {
    "duration": 7,
    "start_time": "2022-08-05T16:55:12.925Z"
   },
   {
    "duration": 9,
    "start_time": "2022-08-05T16:56:01.300Z"
   },
   {
    "duration": 402,
    "start_time": "2022-08-05T16:56:19.987Z"
   },
   {
    "duration": 183,
    "start_time": "2022-08-05T16:56:23.281Z"
   },
   {
    "duration": 139,
    "start_time": "2022-08-05T16:56:25.274Z"
   },
   {
    "duration": 7,
    "start_time": "2022-08-05T16:56:28.612Z"
   },
   {
    "duration": 28,
    "start_time": "2022-08-05T16:56:32.110Z"
   },
   {
    "duration": 4,
    "start_time": "2022-08-05T16:56:35.770Z"
   },
   {
    "duration": 15,
    "start_time": "2022-08-05T16:56:38.281Z"
   },
   {
    "duration": 3,
    "start_time": "2022-08-05T16:56:40.397Z"
   },
   {
    "duration": 23,
    "start_time": "2022-08-05T16:56:44.310Z"
   },
   {
    "duration": 13,
    "start_time": "2022-08-05T16:56:50.494Z"
   },
   {
    "duration": 22,
    "start_time": "2022-08-05T16:56:54.940Z"
   },
   {
    "duration": 72,
    "start_time": "2022-08-05T16:56:59.774Z"
   },
   {
    "duration": 68,
    "start_time": "2022-08-05T16:57:39.298Z"
   },
   {
    "duration": 58,
    "start_time": "2022-08-05T16:57:43.410Z"
   },
   {
    "duration": 7,
    "start_time": "2022-08-05T17:01:22.079Z"
   },
   {
    "duration": 84,
    "start_time": "2022-08-05T17:08:20.731Z"
   },
   {
    "duration": 70,
    "start_time": "2022-08-05T17:08:31.536Z"
   },
   {
    "duration": 93,
    "start_time": "2022-08-05T17:08:41.936Z"
   },
   {
    "duration": 92,
    "start_time": "2022-08-05T17:09:31.339Z"
   },
   {
    "duration": 110,
    "start_time": "2022-08-05T17:10:32.435Z"
   },
   {
    "duration": 3,
    "start_time": "2022-08-05T17:12:57.946Z"
   },
   {
    "duration": 62,
    "start_time": "2022-08-05T17:14:30.397Z"
   },
   {
    "duration": 24,
    "start_time": "2022-08-05T17:14:51.582Z"
   },
   {
    "duration": 7,
    "start_time": "2022-08-05T17:15:09.919Z"
   },
   {
    "duration": 9,
    "start_time": "2022-08-05T17:43:51.531Z"
   },
   {
    "duration": 4,
    "start_time": "2022-08-05T17:46:35.362Z"
   },
   {
    "duration": 14,
    "start_time": "2022-08-05T18:38:37.609Z"
   },
   {
    "duration": 79,
    "start_time": "2022-08-05T18:42:14.505Z"
   },
   {
    "duration": 95,
    "start_time": "2022-08-05T18:42:32.830Z"
   },
   {
    "duration": 90,
    "start_time": "2022-08-05T18:56:51.209Z"
   },
   {
    "duration": 197,
    "start_time": "2022-08-05T18:59:18.931Z"
   },
   {
    "duration": 59,
    "start_time": "2022-08-05T19:09:29.285Z"
   },
   {
    "duration": 65,
    "start_time": "2022-08-05T19:11:14.424Z"
   },
   {
    "duration": 5,
    "start_time": "2022-08-05T19:12:02.946Z"
   },
   {
    "duration": 9,
    "start_time": "2022-08-05T19:12:38.265Z"
   },
   {
    "duration": 407,
    "start_time": "2022-08-05T19:13:16.930Z"
   },
   {
    "duration": 178,
    "start_time": "2022-08-05T19:13:19.252Z"
   },
   {
    "duration": 189,
    "start_time": "2022-08-05T19:13:21.360Z"
   },
   {
    "duration": 8,
    "start_time": "2022-08-05T19:13:24.342Z"
   },
   {
    "duration": 29,
    "start_time": "2022-08-05T19:13:27.227Z"
   },
   {
    "duration": 3,
    "start_time": "2022-08-05T19:13:31.692Z"
   },
   {
    "duration": 22,
    "start_time": "2022-08-05T19:13:34.181Z"
   },
   {
    "duration": 4,
    "start_time": "2022-08-05T19:13:37.101Z"
   },
   {
    "duration": 34,
    "start_time": "2022-08-05T19:13:39.725Z"
   },
   {
    "duration": 15,
    "start_time": "2022-08-05T19:13:42.940Z"
   },
   {
    "duration": 23,
    "start_time": "2022-08-05T19:13:45.594Z"
   },
   {
    "duration": 72,
    "start_time": "2022-08-05T19:13:48.493Z"
   },
   {
    "duration": 79,
    "start_time": "2022-08-05T19:13:51.057Z"
   },
   {
    "duration": 69,
    "start_time": "2022-08-05T19:13:53.242Z"
   },
   {
    "duration": 8,
    "start_time": "2022-08-05T19:13:55.984Z"
   },
   {
    "duration": 4,
    "start_time": "2022-08-05T19:14:11.025Z"
   },
   {
    "duration": 42,
    "start_time": "2022-08-05T19:14:13.342Z"
   },
   {
    "duration": 12,
    "start_time": "2022-08-05T19:14:17.059Z"
   },
   {
    "duration": 7,
    "start_time": "2022-08-05T19:14:22.001Z"
   },
   {
    "duration": 6,
    "start_time": "2022-08-05T19:14:24.457Z"
   },
   {
    "duration": 130,
    "start_time": "2022-08-05T19:14:31.489Z"
   },
   {
    "duration": 10,
    "start_time": "2022-08-05T19:14:35.231Z"
   },
   {
    "duration": 90,
    "start_time": "2022-08-05T19:15:57.629Z"
   },
   {
    "duration": 103,
    "start_time": "2022-08-05T19:16:50.798Z"
   },
   {
    "duration": 90,
    "start_time": "2022-08-05T19:17:36.309Z"
   },
   {
    "duration": 91,
    "start_time": "2022-08-05T19:21:13.546Z"
   },
   {
    "duration": 81,
    "start_time": "2022-08-05T19:22:17.116Z"
   },
   {
    "duration": 60,
    "start_time": "2022-08-06T04:16:31.133Z"
   },
   {
    "duration": 52,
    "start_time": "2022-08-06T04:24:45.720Z"
   },
   {
    "duration": 84,
    "start_time": "2022-08-06T04:26:30.708Z"
   },
   {
    "duration": 67,
    "start_time": "2022-08-06T04:27:32.602Z"
   },
   {
    "duration": 120,
    "start_time": "2022-08-06T04:28:34.492Z"
   },
   {
    "duration": 39,
    "start_time": "2022-08-06T04:28:51.151Z"
   },
   {
    "duration": 52,
    "start_time": "2022-08-06T04:30:03.507Z"
   },
   {
    "duration": 7,
    "start_time": "2022-08-06T04:30:11.000Z"
   },
   {
    "duration": 55,
    "start_time": "2022-08-06T04:56:53.820Z"
   },
   {
    "duration": 6,
    "start_time": "2022-08-06T05:04:40.324Z"
   },
   {
    "duration": 6,
    "start_time": "2022-08-06T05:05:14.715Z"
   },
   {
    "duration": 360,
    "start_time": "2022-08-06T05:06:03.825Z"
   },
   {
    "duration": 224,
    "start_time": "2022-08-06T05:06:05.915Z"
   },
   {
    "duration": 112,
    "start_time": "2022-08-06T05:06:08.663Z"
   },
   {
    "duration": 356,
    "start_time": "2022-08-06T05:06:22.318Z"
   },
   {
    "duration": 141,
    "start_time": "2022-08-06T05:06:24.146Z"
   },
   {
    "duration": 122,
    "start_time": "2022-08-06T05:06:26.074Z"
   },
   {
    "duration": 7,
    "start_time": "2022-08-06T05:06:29.840Z"
   },
   {
    "duration": 27,
    "start_time": "2022-08-06T05:06:33.256Z"
   },
   {
    "duration": 4,
    "start_time": "2022-08-06T05:06:39.932Z"
   },
   {
    "duration": 13,
    "start_time": "2022-08-06T05:06:43.238Z"
   },
   {
    "duration": 3,
    "start_time": "2022-08-06T05:06:46.215Z"
   },
   {
    "duration": 21,
    "start_time": "2022-08-06T05:06:50.767Z"
   },
   {
    "duration": 13,
    "start_time": "2022-08-06T05:07:02.652Z"
   },
   {
    "duration": 19,
    "start_time": "2022-08-06T05:07:05.819Z"
   },
   {
    "duration": 58,
    "start_time": "2022-08-06T05:07:10.829Z"
   },
   {
    "duration": 60,
    "start_time": "2022-08-06T05:07:13.507Z"
   },
   {
    "duration": 51,
    "start_time": "2022-08-06T05:07:17.745Z"
   },
   {
    "duration": 7,
    "start_time": "2022-08-06T05:07:21.054Z"
   },
   {
    "duration": 5,
    "start_time": "2022-08-06T05:07:25.471Z"
   },
   {
    "duration": 20,
    "start_time": "2022-08-06T05:07:28.703Z"
   },
   {
    "duration": 8,
    "start_time": "2022-08-06T05:07:32.051Z"
   },
   {
    "duration": 16173,
    "start_time": "2022-08-06T05:07:37.921Z"
   },
   {
    "duration": 66,
    "start_time": "2022-08-06T05:09:08.282Z"
   },
   {
    "duration": 67,
    "start_time": "2022-08-06T05:09:31.154Z"
   },
   {
    "duration": 16066,
    "start_time": "2022-08-06T05:09:40.153Z"
   },
   {
    "duration": 16273,
    "start_time": "2022-08-06T05:10:39.630Z"
   },
   {
    "duration": 4067,
    "start_time": "2022-08-06T05:12:42.883Z"
   },
   {
    "duration": 27,
    "start_time": "2022-08-06T05:12:57.832Z"
   },
   {
    "duration": 28,
    "start_time": "2022-08-06T05:13:13.985Z"
   },
   {
    "duration": 50,
    "start_time": "2022-08-06T05:14:49.478Z"
   },
   {
    "duration": 4,
    "start_time": "2022-08-06T05:36:04.766Z"
   },
   {
    "duration": 57,
    "start_time": "2022-08-06T05:39:58.477Z"
   },
   {
    "duration": 866,
    "start_time": "2022-08-06T05:40:09.995Z"
   },
   {
    "duration": 790,
    "start_time": "2022-08-06T05:41:02.452Z"
   },
   {
    "duration": 76,
    "start_time": "2022-08-06T05:41:14.798Z"
   },
   {
    "duration": 8,
    "start_time": "2022-08-06T05:54:22.661Z"
   },
   {
    "duration": 8,
    "start_time": "2022-08-06T14:42:32.491Z"
   },
   {
    "duration": 392,
    "start_time": "2022-08-06T14:44:16.519Z"
   },
   {
    "duration": 230,
    "start_time": "2022-08-06T14:44:18.435Z"
   },
   {
    "duration": 128,
    "start_time": "2022-08-06T14:44:21.408Z"
   },
   {
    "duration": 6,
    "start_time": "2022-08-06T14:44:26.444Z"
   },
   {
    "duration": 25,
    "start_time": "2022-08-06T14:44:29.604Z"
   },
   {
    "duration": 4,
    "start_time": "2022-08-06T14:44:34.356Z"
   },
   {
    "duration": 12,
    "start_time": "2022-08-06T14:44:40.749Z"
   },
   {
    "duration": 3,
    "start_time": "2022-08-06T14:44:43.390Z"
   },
   {
    "duration": 20,
    "start_time": "2022-08-06T14:44:45.595Z"
   },
   {
    "duration": 12,
    "start_time": "2022-08-06T14:44:48.288Z"
   },
   {
    "duration": 21,
    "start_time": "2022-08-06T14:44:52.050Z"
   },
   {
    "duration": 70,
    "start_time": "2022-08-06T14:44:54.839Z"
   },
   {
    "duration": 63,
    "start_time": "2022-08-06T14:44:58.055Z"
   },
   {
    "duration": 57,
    "start_time": "2022-08-06T14:45:01.527Z"
   },
   {
    "duration": 8,
    "start_time": "2022-08-06T14:45:04.140Z"
   },
   {
    "duration": 2,
    "start_time": "2022-08-06T14:45:09.743Z"
   },
   {
    "duration": 23,
    "start_time": "2022-08-06T14:45:12.734Z"
   },
   {
    "duration": 8,
    "start_time": "2022-08-06T14:45:15.830Z"
   },
   {
    "duration": 27,
    "start_time": "2022-08-06T14:45:20.141Z"
   },
   {
    "duration": 29,
    "start_time": "2022-08-06T14:45:22.721Z"
   },
   {
    "duration": 3,
    "start_time": "2022-08-06T14:46:11.291Z"
   },
   {
    "duration": 4,
    "start_time": "2022-08-06T14:46:28.122Z"
   },
   {
    "duration": 21,
    "start_time": "2022-08-06T14:51:41.536Z"
   },
   {
    "duration": 15,
    "start_time": "2022-08-06T14:52:24.932Z"
   },
   {
    "duration": 11,
    "start_time": "2022-08-06T14:52:49.852Z"
   },
   {
    "duration": 16,
    "start_time": "2022-08-06T14:52:54.452Z"
   },
   {
    "duration": 13,
    "start_time": "2022-08-06T14:53:09.126Z"
   },
   {
    "duration": 16,
    "start_time": "2022-08-06T14:53:51.312Z"
   },
   {
    "duration": 13,
    "start_time": "2022-08-06T14:53:58.247Z"
   },
   {
    "duration": 14,
    "start_time": "2022-08-06T15:18:12.962Z"
   },
   {
    "duration": 70,
    "start_time": "2022-08-06T15:18:44.115Z"
   },
   {
    "duration": 7,
    "start_time": "2022-08-06T15:20:13.588Z"
   },
   {
    "duration": 12,
    "start_time": "2022-08-06T15:20:18.579Z"
   },
   {
    "duration": 51,
    "start_time": "2022-08-06T15:24:26.033Z"
   },
   {
    "duration": 8,
    "start_time": "2022-08-06T15:24:39.012Z"
   },
   {
    "duration": 8,
    "start_time": "2022-08-06T15:24:52.754Z"
   },
   {
    "duration": 54,
    "start_time": "2022-08-06T15:25:27.288Z"
   },
   {
    "duration": 3,
    "start_time": "2022-08-06T15:25:42.290Z"
   },
   {
    "duration": 7,
    "start_time": "2022-08-06T15:28:44.454Z"
   },
   {
    "duration": 6,
    "start_time": "2022-08-06T15:28:55.886Z"
   },
   {
    "duration": 55,
    "start_time": "2022-08-06T15:29:15.563Z"
   },
   {
    "duration": 399,
    "start_time": "2022-08-06T15:29:41.516Z"
   },
   {
    "duration": 162,
    "start_time": "2022-08-06T15:29:43.657Z"
   },
   {
    "duration": 149,
    "start_time": "2022-08-06T15:29:46.091Z"
   },
   {
    "duration": 7,
    "start_time": "2022-08-06T15:29:49.558Z"
   },
   {
    "duration": 24,
    "start_time": "2022-08-06T15:29:58.352Z"
   },
   {
    "duration": 3,
    "start_time": "2022-08-06T15:30:02.682Z"
   },
   {
    "duration": 12,
    "start_time": "2022-08-06T15:30:11.475Z"
   },
   {
    "duration": 3,
    "start_time": "2022-08-06T15:30:16.357Z"
   },
   {
    "duration": 19,
    "start_time": "2022-08-06T15:30:28.511Z"
   },
   {
    "duration": 13,
    "start_time": "2022-08-06T15:30:31.113Z"
   },
   {
    "duration": 20,
    "start_time": "2022-08-06T15:30:33.747Z"
   },
   {
    "duration": 65,
    "start_time": "2022-08-06T15:30:36.764Z"
   },
   {
    "duration": 71,
    "start_time": "2022-08-06T15:30:41.142Z"
   },
   {
    "duration": 63,
    "start_time": "2022-08-06T15:30:43.690Z"
   },
   {
    "duration": 8,
    "start_time": "2022-08-06T15:30:46.558Z"
   },
   {
    "duration": 2,
    "start_time": "2022-08-06T15:30:50.770Z"
   },
   {
    "duration": 34,
    "start_time": "2022-08-06T15:30:53.291Z"
   },
   {
    "duration": 8,
    "start_time": "2022-08-06T15:30:55.370Z"
   },
   {
    "duration": 36,
    "start_time": "2022-08-06T15:30:59.974Z"
   },
   {
    "duration": 33,
    "start_time": "2022-08-06T15:31:02.294Z"
   },
   {
    "duration": 3,
    "start_time": "2022-08-06T15:31:06.511Z"
   },
   {
    "duration": 14,
    "start_time": "2022-08-06T15:31:11.411Z"
   },
   {
    "duration": 13,
    "start_time": "2022-08-06T15:31:13.920Z"
   },
   {
    "duration": 12,
    "start_time": "2022-08-06T15:31:16.213Z"
   },
   {
    "duration": 18,
    "start_time": "2022-08-06T15:31:19.612Z"
   },
   {
    "duration": 14,
    "start_time": "2022-08-06T15:31:22.510Z"
   },
   {
    "duration": 14,
    "start_time": "2022-08-06T15:31:24.659Z"
   },
   {
    "duration": 2,
    "start_time": "2022-08-06T15:31:51.192Z"
   },
   {
    "duration": 87,
    "start_time": "2022-08-06T15:35:07.031Z"
   },
   {
    "duration": 20,
    "start_time": "2022-08-06T15:37:58.816Z"
   },
   {
    "duration": 7,
    "start_time": "2022-08-06T15:39:11.111Z"
   },
   {
    "duration": 8,
    "start_time": "2022-08-06T15:39:31.152Z"
   },
   {
    "duration": 8,
    "start_time": "2022-08-06T15:40:42.554Z"
   },
   {
    "duration": 7,
    "start_time": "2022-08-06T15:59:05.161Z"
   },
   {
    "duration": 6,
    "start_time": "2022-08-06T16:00:59.022Z"
   },
   {
    "duration": 20,
    "start_time": "2022-08-06T16:08:56.211Z"
   },
   {
    "duration": 10,
    "start_time": "2022-08-06T16:10:42.166Z"
   },
   {
    "duration": 8,
    "start_time": "2022-08-06T16:15:15.623Z"
   },
   {
    "duration": 9,
    "start_time": "2022-08-06T16:15:38.823Z"
   },
   {
    "duration": 20,
    "start_time": "2022-08-06T16:15:43.336Z"
   },
   {
    "duration": 10,
    "start_time": "2022-08-06T16:15:55.974Z"
   },
   {
    "duration": 44,
    "start_time": "2022-08-06T16:44:33.895Z"
   },
   {
    "duration": 4,
    "start_time": "2022-08-06T17:03:24.740Z"
   },
   {
    "duration": 95,
    "start_time": "2022-08-06T17:22:15.227Z"
   },
   {
    "duration": 47,
    "start_time": "2022-08-06T17:22:27.617Z"
   },
   {
    "duration": 46,
    "start_time": "2022-08-06T17:22:39.578Z"
   },
   {
    "duration": 75,
    "start_time": "2022-08-06T17:22:47.489Z"
   },
   {
    "duration": 51,
    "start_time": "2022-08-06T17:23:30.275Z"
   },
   {
    "duration": 52,
    "start_time": "2022-08-06T17:23:34.270Z"
   },
   {
    "duration": 57,
    "start_time": "2022-08-06T17:24:46.408Z"
   },
   {
    "duration": 47,
    "start_time": "2022-08-06T17:26:01.276Z"
   },
   {
    "duration": 5,
    "start_time": "2022-08-06T17:26:58.026Z"
   },
   {
    "duration": 5,
    "start_time": "2022-08-06T17:27:25.049Z"
   },
   {
    "duration": 6,
    "start_time": "2022-08-06T17:27:38.142Z"
   },
   {
    "duration": 6,
    "start_time": "2022-08-06T17:29:12.302Z"
   },
   {
    "duration": 6,
    "start_time": "2022-08-06T17:29:50.952Z"
   },
   {
    "duration": 379,
    "start_time": "2022-08-06T17:32:02.547Z"
   },
   {
    "duration": 149,
    "start_time": "2022-08-06T17:32:04.644Z"
   },
   {
    "duration": 116,
    "start_time": "2022-08-06T17:32:07.392Z"
   },
   {
    "duration": 6,
    "start_time": "2022-08-06T17:32:08.822Z"
   },
   {
    "duration": 24,
    "start_time": "2022-08-06T17:32:10.028Z"
   },
   {
    "duration": 3,
    "start_time": "2022-08-06T17:32:12.711Z"
   },
   {
    "duration": 13,
    "start_time": "2022-08-06T17:32:14.459Z"
   },
   {
    "duration": 3,
    "start_time": "2022-08-06T17:32:16.205Z"
   },
   {
    "duration": 20,
    "start_time": "2022-08-06T17:32:17.782Z"
   },
   {
    "duration": 13,
    "start_time": "2022-08-06T17:32:19.330Z"
   },
   {
    "duration": 20,
    "start_time": "2022-08-06T17:32:20.975Z"
   },
   {
    "duration": 60,
    "start_time": "2022-08-06T17:32:22.882Z"
   },
   {
    "duration": 64,
    "start_time": "2022-08-06T17:32:23.916Z"
   },
   {
    "duration": 59,
    "start_time": "2022-08-06T17:32:25.546Z"
   },
   {
    "duration": 8,
    "start_time": "2022-08-06T17:32:26.820Z"
   },
   {
    "duration": 3,
    "start_time": "2022-08-06T17:32:27.796Z"
   },
   {
    "duration": 22,
    "start_time": "2022-08-06T17:32:28.734Z"
   },
   {
    "duration": 8,
    "start_time": "2022-08-06T17:32:29.781Z"
   },
   {
    "duration": 27,
    "start_time": "2022-08-06T17:32:33.777Z"
   },
   {
    "duration": 26,
    "start_time": "2022-08-06T17:32:34.765Z"
   },
   {
    "duration": 3,
    "start_time": "2022-08-06T17:32:36.209Z"
   },
   {
    "duration": 13,
    "start_time": "2022-08-06T17:32:37.012Z"
   },
   {
    "duration": 14,
    "start_time": "2022-08-06T17:32:38.025Z"
   },
   {
    "duration": 12,
    "start_time": "2022-08-06T17:32:38.988Z"
   },
   {
    "duration": 12,
    "start_time": "2022-08-06T17:32:39.983Z"
   },
   {
    "duration": 13,
    "start_time": "2022-08-06T17:32:40.886Z"
   },
   {
    "duration": 13,
    "start_time": "2022-08-06T17:32:43.433Z"
   },
   {
    "duration": 7,
    "start_time": "2022-08-06T17:32:54.314Z"
   },
   {
    "duration": 10,
    "start_time": "2022-08-06T17:32:59.383Z"
   },
   {
    "duration": 17,
    "start_time": "2022-08-06T17:33:07.803Z"
   },
   {
    "duration": 12,
    "start_time": "2022-08-06T17:33:13.343Z"
   },
   {
    "duration": 4,
    "start_time": "2022-08-06T17:33:19.445Z"
   },
   {
    "duration": 70,
    "start_time": "2022-08-06T17:33:50.813Z"
   },
   {
    "duration": 43,
    "start_time": "2022-08-06T17:36:04.648Z"
   },
   {
    "duration": 45,
    "start_time": "2022-08-06T17:40:40.805Z"
   },
   {
    "duration": 50,
    "start_time": "2022-08-08T10:48:28.154Z"
   },
   {
    "duration": 5,
    "start_time": "2022-08-08T10:49:23.212Z"
   },
   {
    "duration": 9,
    "start_time": "2022-08-08T10:49:28.585Z"
   },
   {
    "duration": 4,
    "start_time": "2022-08-08T10:51:11.719Z"
   },
   {
    "duration": 8,
    "start_time": "2022-08-08T10:51:17.938Z"
   },
   {
    "duration": 4,
    "start_time": "2022-08-08T10:51:53.320Z"
   },
   {
    "duration": 8,
    "start_time": "2022-08-08T10:51:58.699Z"
   },
   {
    "duration": 5,
    "start_time": "2022-08-08T10:53:05.930Z"
   },
   {
    "duration": 9,
    "start_time": "2022-08-08T10:53:09.885Z"
   },
   {
    "duration": 108,
    "start_time": "2022-08-08T10:53:40.201Z"
   },
   {
    "duration": 78,
    "start_time": "2022-08-08T10:53:52.200Z"
   },
   {
    "duration": 6,
    "start_time": "2022-08-08T10:53:59.293Z"
   },
   {
    "duration": 8,
    "start_time": "2022-08-08T10:56:37.067Z"
   },
   {
    "duration": 5,
    "start_time": "2022-08-08T10:57:31.254Z"
   },
   {
    "duration": 8,
    "start_time": "2022-08-08T10:57:35.603Z"
   },
   {
    "duration": 6,
    "start_time": "2022-08-08T10:58:10.312Z"
   },
   {
    "duration": 9,
    "start_time": "2022-08-08T10:58:14.931Z"
   },
   {
    "duration": 4,
    "start_time": "2022-08-08T10:58:50.058Z"
   },
   {
    "duration": 9,
    "start_time": "2022-08-08T10:58:54.147Z"
   },
   {
    "duration": 6,
    "start_time": "2022-08-08T10:59:06.072Z"
   },
   {
    "duration": 6,
    "start_time": "2022-08-08T10:59:14.896Z"
   },
   {
    "duration": 406,
    "start_time": "2022-08-08T10:59:36.794Z"
   },
   {
    "duration": 470,
    "start_time": "2022-08-08T10:59:38.363Z"
   },
   {
    "duration": 130,
    "start_time": "2022-08-08T10:59:39.827Z"
   },
   {
    "duration": 7,
    "start_time": "2022-08-08T10:59:42.178Z"
   },
   {
    "duration": 28,
    "start_time": "2022-08-08T10:59:46.143Z"
   },
   {
    "duration": 3,
    "start_time": "2022-08-08T10:59:49.473Z"
   },
   {
    "duration": 13,
    "start_time": "2022-08-08T10:59:51.636Z"
   },
   {
    "duration": 3,
    "start_time": "2022-08-08T10:59:53.378Z"
   },
   {
    "duration": 21,
    "start_time": "2022-08-08T10:59:55.916Z"
   },
   {
    "duration": 14,
    "start_time": "2022-08-08T10:59:58.709Z"
   },
   {
    "duration": 24,
    "start_time": "2022-08-08T11:00:01.833Z"
   },
   {
    "duration": 75,
    "start_time": "2022-08-08T11:00:04.206Z"
   },
   {
    "duration": 92,
    "start_time": "2022-08-08T11:00:06.713Z"
   },
   {
    "duration": 64,
    "start_time": "2022-08-08T11:00:08.465Z"
   },
   {
    "duration": 8,
    "start_time": "2022-08-08T11:00:10.513Z"
   },
   {
    "duration": 4,
    "start_time": "2022-08-08T11:00:12.043Z"
   },
   {
    "duration": 24,
    "start_time": "2022-08-08T11:00:13.476Z"
   },
   {
    "duration": 8,
    "start_time": "2022-08-08T11:00:16.032Z"
   },
   {
    "duration": 31,
    "start_time": "2022-08-08T11:00:21.226Z"
   },
   {
    "duration": 30,
    "start_time": "2022-08-08T11:00:22.819Z"
   },
   {
    "duration": 3,
    "start_time": "2022-08-08T11:00:24.567Z"
   },
   {
    "duration": 14,
    "start_time": "2022-08-08T11:00:25.827Z"
   },
   {
    "duration": 13,
    "start_time": "2022-08-08T11:00:27.153Z"
   },
   {
    "duration": 14,
    "start_time": "2022-08-08T11:00:28.214Z"
   },
   {
    "duration": 14,
    "start_time": "2022-08-08T11:00:29.487Z"
   },
   {
    "duration": 15,
    "start_time": "2022-08-08T11:00:30.311Z"
   },
   {
    "duration": 14,
    "start_time": "2022-08-08T11:00:31.827Z"
   },
   {
    "duration": 10,
    "start_time": "2022-08-08T11:00:33.184Z"
   },
   {
    "duration": 13,
    "start_time": "2022-08-08T11:00:37.993Z"
   },
   {
    "duration": 20,
    "start_time": "2022-08-08T11:00:42.053Z"
   },
   {
    "duration": 9,
    "start_time": "2022-08-08T11:00:58.302Z"
   },
   {
    "duration": 5,
    "start_time": "2022-08-08T11:02:29.458Z"
   },
   {
    "duration": 69,
    "start_time": "2022-08-08T11:02:39.402Z"
   },
   {
    "duration": 12,
    "start_time": "2022-08-08T11:03:03.942Z"
   },
   {
    "duration": 4,
    "start_time": "2022-08-08T11:03:14.570Z"
   },
   {
    "duration": 4,
    "start_time": "2022-08-08T11:03:20.227Z"
   },
   {
    "duration": 9,
    "start_time": "2022-08-08T11:04:12.581Z"
   },
   {
    "duration": 415,
    "start_time": "2022-08-08T13:06:37.805Z"
   },
   {
    "duration": 807,
    "start_time": "2022-08-08T13:06:40.557Z"
   },
   {
    "duration": 169,
    "start_time": "2022-08-08T13:06:41.744Z"
   },
   {
    "duration": 7,
    "start_time": "2022-08-08T13:06:43.191Z"
   },
   {
    "duration": 32,
    "start_time": "2022-08-08T13:06:44.232Z"
   },
   {
    "duration": 4,
    "start_time": "2022-08-08T13:06:46.017Z"
   },
   {
    "duration": 15,
    "start_time": "2022-08-08T13:06:47.274Z"
   },
   {
    "duration": 3,
    "start_time": "2022-08-08T13:06:48.153Z"
   },
   {
    "duration": 27,
    "start_time": "2022-08-08T13:06:50.305Z"
   },
   {
    "duration": 16,
    "start_time": "2022-08-08T13:06:51.556Z"
   },
   {
    "duration": 25,
    "start_time": "2022-08-08T13:06:52.845Z"
   },
   {
    "duration": 71,
    "start_time": "2022-08-08T13:06:55.782Z"
   },
   {
    "duration": 64,
    "start_time": "2022-08-08T13:06:57.646Z"
   },
   {
    "duration": 73,
    "start_time": "2022-08-08T13:07:03.069Z"
   },
   {
    "duration": 63,
    "start_time": "2022-08-08T13:07:04.536Z"
   },
   {
    "duration": 8,
    "start_time": "2022-08-08T13:07:08.098Z"
   },
   {
    "duration": 4,
    "start_time": "2022-08-08T13:07:17.153Z"
   },
   {
    "duration": 26,
    "start_time": "2022-08-08T13:07:19.087Z"
   },
   {
    "duration": 11,
    "start_time": "2022-08-08T13:07:20.323Z"
   },
   {
    "duration": 45,
    "start_time": "2022-08-08T13:07:39.372Z"
   },
   {
    "duration": 33,
    "start_time": "2022-08-08T13:07:45.556Z"
   },
   {
    "duration": 4,
    "start_time": "2022-08-08T13:07:47.614Z"
   },
   {
    "duration": 17,
    "start_time": "2022-08-08T13:07:50.914Z"
   },
   {
    "duration": 15,
    "start_time": "2022-08-08T13:07:56.906Z"
   },
   {
    "duration": 14,
    "start_time": "2022-08-08T13:08:01.623Z"
   },
   {
    "duration": 17,
    "start_time": "2022-08-08T13:08:04.001Z"
   },
   {
    "duration": 15,
    "start_time": "2022-08-08T13:08:06.989Z"
   },
   {
    "duration": 16,
    "start_time": "2022-08-08T13:08:10.238Z"
   },
   {
    "duration": 9,
    "start_time": "2022-08-08T13:08:13.911Z"
   },
   {
    "duration": 22,
    "start_time": "2022-08-08T13:08:31.201Z"
   },
   {
    "duration": 12,
    "start_time": "2022-08-08T13:08:34.629Z"
   },
   {
    "duration": 21,
    "start_time": "2022-08-08T13:08:48.225Z"
   },
   {
    "duration": 12,
    "start_time": "2022-08-08T13:08:51.909Z"
   },
   {
    "duration": 5,
    "start_time": "2022-08-08T13:09:38.031Z"
   },
   {
    "duration": 103,
    "start_time": "2022-08-08T13:10:02.186Z"
   },
   {
    "duration": 5,
    "start_time": "2022-08-08T13:21:25.434Z"
   },
   {
    "duration": 43,
    "start_time": "2022-08-08T13:21:37.116Z"
   },
   {
    "duration": 6,
    "start_time": "2022-08-08T13:22:05.307Z"
   },
   {
    "duration": 42,
    "start_time": "2022-08-08T13:22:21.010Z"
   },
   {
    "duration": 10,
    "start_time": "2022-08-08T13:24:17.693Z"
   },
   {
    "duration": 2082,
    "start_time": "2022-08-08T13:24:23.004Z"
   },
   {
    "duration": 12,
    "start_time": "2022-08-08T13:29:52.631Z"
   },
   {
    "duration": 81,
    "start_time": "2022-08-08T13:33:11.280Z"
   },
   {
    "duration": 79,
    "start_time": "2022-08-08T13:33:28.923Z"
   },
   {
    "duration": 5,
    "start_time": "2022-08-08T13:33:41.106Z"
   },
   {
    "duration": 11,
    "start_time": "2022-08-08T13:33:52.675Z"
   },
   {
    "duration": 36,
    "start_time": "2022-08-08T13:33:59.573Z"
   },
   {
    "duration": 7,
    "start_time": "2022-08-08T13:34:50.931Z"
   },
   {
    "duration": 27,
    "start_time": "2022-08-08T13:34:54.960Z"
   },
   {
    "duration": 6,
    "start_time": "2022-08-08T14:08:34.566Z"
   },
   {
    "duration": 37,
    "start_time": "2022-08-08T14:08:39.953Z"
   },
   {
    "duration": 7,
    "start_time": "2022-08-08T14:09:32.067Z"
   },
   {
    "duration": 28,
    "start_time": "2022-08-08T14:09:44.269Z"
   },
   {
    "duration": 504,
    "start_time": "2022-08-08T14:10:41.776Z"
   },
   {
    "duration": 191,
    "start_time": "2022-08-08T14:10:44.314Z"
   },
   {
    "duration": 174,
    "start_time": "2022-08-08T14:10:46.710Z"
   },
   {
    "duration": 7,
    "start_time": "2022-08-08T14:10:48.935Z"
   },
   {
    "duration": 33,
    "start_time": "2022-08-08T14:10:50.906Z"
   },
   {
    "duration": 4,
    "start_time": "2022-08-08T14:10:53.950Z"
   },
   {
    "duration": 14,
    "start_time": "2022-08-08T14:10:56.267Z"
   },
   {
    "duration": 4,
    "start_time": "2022-08-08T14:10:58.174Z"
   },
   {
    "duration": 40,
    "start_time": "2022-08-08T14:11:01.311Z"
   },
   {
    "duration": 27,
    "start_time": "2022-08-08T14:11:03.922Z"
   },
   {
    "duration": 26,
    "start_time": "2022-08-08T14:11:05.659Z"
   },
   {
    "duration": 79,
    "start_time": "2022-08-08T14:11:08.379Z"
   },
   {
    "duration": 73,
    "start_time": "2022-08-08T14:11:17.201Z"
   },
   {
    "duration": 63,
    "start_time": "2022-08-08T14:11:22.153Z"
   },
   {
    "duration": 9,
    "start_time": "2022-08-08T14:11:24.090Z"
   },
   {
    "duration": 3,
    "start_time": "2022-08-08T14:11:27.567Z"
   },
   {
    "duration": 28,
    "start_time": "2022-08-08T14:11:29.634Z"
   },
   {
    "duration": 8,
    "start_time": "2022-08-08T14:11:31.639Z"
   },
   {
    "duration": 37,
    "start_time": "2022-08-08T14:11:38.293Z"
   },
   {
    "duration": 43,
    "start_time": "2022-08-08T14:11:41.855Z"
   },
   {
    "duration": 4,
    "start_time": "2022-08-08T14:11:48.856Z"
   },
   {
    "duration": 16,
    "start_time": "2022-08-08T14:11:53.504Z"
   },
   {
    "duration": 16,
    "start_time": "2022-08-08T14:11:55.398Z"
   },
   {
    "duration": 17,
    "start_time": "2022-08-08T14:11:57.838Z"
   },
   {
    "duration": 16,
    "start_time": "2022-08-08T14:11:59.579Z"
   },
   {
    "duration": 15,
    "start_time": "2022-08-08T14:12:01.255Z"
   },
   {
    "duration": 16,
    "start_time": "2022-08-08T14:12:04.020Z"
   },
   {
    "duration": 11,
    "start_time": "2022-08-08T14:12:06.423Z"
   },
   {
    "duration": 21,
    "start_time": "2022-08-08T14:12:10.645Z"
   },
   {
    "duration": 12,
    "start_time": "2022-08-08T14:12:12.735Z"
   },
   {
    "duration": 29,
    "start_time": "2022-08-08T14:12:14.655Z"
   },
   {
    "duration": 11,
    "start_time": "2022-08-08T14:12:22.173Z"
   },
   {
    "duration": 5,
    "start_time": "2022-08-08T14:13:53.085Z"
   },
   {
    "duration": 92,
    "start_time": "2022-08-08T14:14:24.281Z"
   },
   {
    "duration": 5,
    "start_time": "2022-08-08T14:17:20.817Z"
   },
   {
    "duration": 28,
    "start_time": "2022-08-08T14:17:41.337Z"
   },
   {
    "duration": 5,
    "start_time": "2022-08-08T14:18:46.686Z"
   },
   {
    "duration": 29,
    "start_time": "2022-08-08T14:18:53.822Z"
   },
   {
    "duration": 5,
    "start_time": "2022-08-08T14:20:03.236Z"
   },
   {
    "duration": 33,
    "start_time": "2022-08-08T14:20:07.617Z"
   },
   {
    "duration": 7,
    "start_time": "2022-08-08T14:20:48.948Z"
   },
   {
    "duration": 27,
    "start_time": "2022-08-08T14:20:52.469Z"
   },
   {
    "duration": 8,
    "start_time": "2022-08-08T14:21:44.521Z"
   },
   {
    "duration": 43,
    "start_time": "2022-08-08T14:21:49.383Z"
   },
   {
    "duration": 5,
    "start_time": "2022-08-08T14:22:55.486Z"
   },
   {
    "duration": 45,
    "start_time": "2022-08-08T14:22:58.628Z"
   },
   {
    "duration": 451,
    "start_time": "2022-08-08T14:23:26.368Z"
   },
   {
    "duration": 178,
    "start_time": "2022-08-08T14:23:28.282Z"
   },
   {
    "duration": 155,
    "start_time": "2022-08-08T14:23:31.336Z"
   },
   {
    "duration": 7,
    "start_time": "2022-08-08T14:23:32.790Z"
   },
   {
    "duration": 33,
    "start_time": "2022-08-08T14:23:34.273Z"
   },
   {
    "duration": 33,
    "start_time": "2022-08-08T14:23:35.629Z"
   },
   {
    "duration": 3,
    "start_time": "2022-08-08T14:23:37.089Z"
   },
   {
    "duration": 14,
    "start_time": "2022-08-08T14:23:47.228Z"
   },
   {
    "duration": 4,
    "start_time": "2022-08-08T14:23:48.766Z"
   },
   {
    "duration": 26,
    "start_time": "2022-08-08T14:23:51.722Z"
   },
   {
    "duration": 18,
    "start_time": "2022-08-08T14:23:53.492Z"
   },
   {
    "duration": 25,
    "start_time": "2022-08-08T14:23:54.807Z"
   },
   {
    "duration": 70,
    "start_time": "2022-08-08T14:23:57.067Z"
   },
   {
    "duration": 82,
    "start_time": "2022-08-08T14:23:58.626Z"
   },
   {
    "duration": 69,
    "start_time": "2022-08-08T14:24:00.439Z"
   },
   {
    "duration": 9,
    "start_time": "2022-08-08T14:24:01.762Z"
   },
   {
    "duration": 3,
    "start_time": "2022-08-08T14:24:03.483Z"
   },
   {
    "duration": 27,
    "start_time": "2022-08-08T14:24:04.660Z"
   },
   {
    "duration": 8,
    "start_time": "2022-08-08T14:24:05.677Z"
   },
   {
    "duration": 12,
    "start_time": "2022-08-08T14:24:06.580Z"
   },
   {
    "duration": 49,
    "start_time": "2022-08-08T14:24:12.113Z"
   },
   {
    "duration": 32,
    "start_time": "2022-08-08T14:24:13.459Z"
   },
   {
    "duration": 5,
    "start_time": "2022-08-08T14:24:16.608Z"
   },
   {
    "duration": 20,
    "start_time": "2022-08-08T14:24:19.676Z"
   },
   {
    "duration": 16,
    "start_time": "2022-08-08T14:24:21.189Z"
   },
   {
    "duration": 16,
    "start_time": "2022-08-08T14:24:22.452Z"
   },
   {
    "duration": 14,
    "start_time": "2022-08-08T14:24:23.606Z"
   },
   {
    "duration": 22,
    "start_time": "2022-08-08T14:24:24.788Z"
   },
   {
    "duration": 18,
    "start_time": "2022-08-08T14:24:25.913Z"
   },
   {
    "duration": 9,
    "start_time": "2022-08-08T14:24:29.600Z"
   },
   {
    "duration": 25,
    "start_time": "2022-08-08T14:24:33.734Z"
   },
   {
    "duration": 14,
    "start_time": "2022-08-08T14:24:35.208Z"
   },
   {
    "duration": 21,
    "start_time": "2022-08-08T14:24:36.544Z"
   },
   {
    "duration": 12,
    "start_time": "2022-08-08T14:24:40.051Z"
   },
   {
    "duration": 5,
    "start_time": "2022-08-08T14:24:43.973Z"
   },
   {
    "duration": 93,
    "start_time": "2022-08-08T14:24:47.440Z"
   },
   {
    "duration": 5,
    "start_time": "2022-08-08T14:27:07.822Z"
   },
   {
    "duration": 5,
    "start_time": "2022-08-08T14:27:49.783Z"
   },
   {
    "duration": 30,
    "start_time": "2022-08-08T14:27:53.031Z"
   },
   {
    "duration": 6,
    "start_time": "2022-08-08T14:28:26.806Z"
   },
   {
    "duration": 28,
    "start_time": "2022-08-08T14:28:29.838Z"
   },
   {
    "duration": 5,
    "start_time": "2022-08-08T14:29:15.203Z"
   },
   {
    "duration": 24,
    "start_time": "2022-08-08T14:29:18.329Z"
   },
   {
    "duration": 8,
    "start_time": "2022-08-08T14:30:21.823Z"
   },
   {
    "duration": 22,
    "start_time": "2022-08-08T14:30:24.842Z"
   },
   {
    "duration": 5,
    "start_time": "2022-08-08T14:30:38.564Z"
   },
   {
    "duration": 23,
    "start_time": "2022-08-08T14:30:41.237Z"
   },
   {
    "duration": 15,
    "start_time": "2022-08-08T14:33:25.245Z"
   },
   {
    "duration": 21,
    "start_time": "2022-08-08T14:35:26.687Z"
   },
   {
    "duration": 20,
    "start_time": "2022-08-08T14:35:41.798Z"
   },
   {
    "duration": 5,
    "start_time": "2022-08-08T14:36:56.580Z"
   },
   {
    "duration": 23,
    "start_time": "2022-08-08T14:36:59.161Z"
   },
   {
    "duration": 4,
    "start_time": "2022-08-08T14:38:11.654Z"
   },
   {
    "duration": 31,
    "start_time": "2022-08-08T14:39:02.618Z"
   },
   {
    "duration": 80,
    "start_time": "2022-08-08T14:39:52.506Z"
   },
   {
    "duration": 150,
    "start_time": "2022-08-08T14:40:33.351Z"
   },
   {
    "duration": 29,
    "start_time": "2022-08-08T14:40:41.643Z"
   },
   {
    "duration": 30,
    "start_time": "2022-08-08T14:41:22.729Z"
   },
   {
    "duration": 75,
    "start_time": "2022-08-08T14:42:35.590Z"
   },
   {
    "duration": 34,
    "start_time": "2022-08-08T14:42:46.908Z"
   },
   {
    "duration": 4,
    "start_time": "2022-08-08T14:45:35.394Z"
   },
   {
    "duration": 30,
    "start_time": "2022-08-08T14:46:30.783Z"
   },
   {
    "duration": 47,
    "start_time": "2022-08-08T14:46:39.338Z"
   },
   {
    "duration": 34,
    "start_time": "2022-08-08T14:46:57.226Z"
   },
   {
    "duration": 35,
    "start_time": "2022-08-08T14:50:03.615Z"
   },
   {
    "duration": 29,
    "start_time": "2022-08-08T14:51:47.828Z"
   },
   {
    "duration": 1283,
    "start_time": "2022-08-08T14:52:02.133Z"
   },
   {
    "duration": 33,
    "start_time": "2022-08-08T14:52:17.401Z"
   },
   {
    "duration": 37,
    "start_time": "2022-08-08T14:53:07.884Z"
   },
   {
    "duration": 38,
    "start_time": "2022-08-08T14:53:53.724Z"
   },
   {
    "duration": 34,
    "start_time": "2022-08-08T14:54:14.586Z"
   },
   {
    "duration": 31,
    "start_time": "2022-08-08T14:54:27.362Z"
   },
   {
    "duration": 113,
    "start_time": "2022-08-08T14:56:09.746Z"
   },
   {
    "duration": 35,
    "start_time": "2022-08-08T14:56:18.380Z"
   },
   {
    "duration": 21,
    "start_time": "2022-08-08T14:56:58.737Z"
   },
   {
    "duration": 25,
    "start_time": "2022-08-08T14:57:26.930Z"
   },
   {
    "duration": 42,
    "start_time": "2022-08-08T15:01:41.387Z"
   },
   {
    "duration": 36,
    "start_time": "2022-08-08T15:02:22.489Z"
   },
   {
    "duration": 9,
    "start_time": "2022-08-08T15:06:09.018Z"
   },
   {
    "duration": 21,
    "start_time": "2022-08-08T15:06:26.641Z"
   },
   {
    "duration": 10,
    "start_time": "2022-08-08T15:06:57.993Z"
   },
   {
    "duration": 7,
    "start_time": "2022-08-08T15:07:49.956Z"
   },
   {
    "duration": 30,
    "start_time": "2022-08-08T15:07:54.425Z"
   },
   {
    "duration": 13,
    "start_time": "2022-08-08T15:07:57.891Z"
   },
   {
    "duration": 7,
    "start_time": "2022-08-08T15:08:26.322Z"
   },
   {
    "duration": 30,
    "start_time": "2022-08-08T15:08:30.018Z"
   },
   {
    "duration": 5,
    "start_time": "2022-08-08T15:09:35.505Z"
   },
   {
    "duration": 22,
    "start_time": "2022-08-08T15:09:38.110Z"
   },
   {
    "duration": 5,
    "start_time": "2022-08-08T15:09:40.625Z"
   },
   {
    "duration": 21,
    "start_time": "2022-08-08T15:11:00.346Z"
   },
   {
    "duration": 5,
    "start_time": "2022-08-08T15:11:21.802Z"
   },
   {
    "duration": 14,
    "start_time": "2022-08-08T15:11:53.390Z"
   },
   {
    "duration": 5,
    "start_time": "2022-08-08T15:11:56.686Z"
   },
   {
    "duration": 21,
    "start_time": "2022-08-08T15:12:44.873Z"
   },
   {
    "duration": 5,
    "start_time": "2022-08-08T15:12:53.656Z"
   },
   {
    "duration": 13,
    "start_time": "2022-08-08T15:14:18.795Z"
   },
   {
    "duration": 5,
    "start_time": "2022-08-08T15:14:34.483Z"
   },
   {
    "duration": 72,
    "start_time": "2022-08-08T15:22:33.525Z"
   },
   {
    "duration": 79,
    "start_time": "2022-08-08T15:23:28.491Z"
   },
   {
    "duration": 78,
    "start_time": "2022-08-08T15:23:39.259Z"
   },
   {
    "duration": 3,
    "start_time": "2022-08-08T15:23:56.220Z"
   },
   {
    "duration": 218,
    "start_time": "2022-08-08T15:24:44.347Z"
   },
   {
    "duration": 97,
    "start_time": "2022-08-08T15:24:49.617Z"
   },
   {
    "duration": 4,
    "start_time": "2022-08-08T15:25:06.329Z"
   },
   {
    "duration": 5,
    "start_time": "2022-08-08T15:25:52.660Z"
   },
   {
    "duration": 67,
    "start_time": "2022-08-08T15:27:32.317Z"
   },
   {
    "duration": 16,
    "start_time": "2022-08-08T15:27:34.333Z"
   },
   {
    "duration": 78,
    "start_time": "2022-08-08T15:32:41.145Z"
   },
   {
    "duration": 5,
    "start_time": "2022-08-08T15:32:43.463Z"
   },
   {
    "duration": 68,
    "start_time": "2022-08-08T15:33:28.418Z"
   },
   {
    "duration": 5,
    "start_time": "2022-08-08T15:33:30.225Z"
   },
   {
    "duration": 37,
    "start_time": "2022-08-08T15:35:18.230Z"
   },
   {
    "duration": 7,
    "start_time": "2022-08-08T15:35:46.651Z"
   },
   {
    "duration": 73,
    "start_time": "2022-08-08T15:37:35.535Z"
   },
   {
    "duration": 11,
    "start_time": "2022-08-08T15:37:38.562Z"
   },
   {
    "duration": 108,
    "start_time": "2022-08-08T15:37:50.321Z"
   },
   {
    "duration": 56,
    "start_time": "2022-08-08T15:38:02.292Z"
   },
   {
    "duration": 6,
    "start_time": "2022-08-08T15:38:05.435Z"
   },
   {
    "duration": 61,
    "start_time": "2022-08-08T15:38:24.131Z"
   },
   {
    "duration": 6,
    "start_time": "2022-08-08T15:38:26.860Z"
   },
   {
    "duration": 76,
    "start_time": "2022-08-08T15:38:45.641Z"
   },
   {
    "duration": 5,
    "start_time": "2022-08-08T15:38:48.386Z"
   },
   {
    "duration": 55,
    "start_time": "2022-08-08T15:39:24.324Z"
   },
   {
    "duration": 7,
    "start_time": "2022-08-08T15:39:31.423Z"
   },
   {
    "duration": 55,
    "start_time": "2022-08-08T15:39:38.482Z"
   },
   {
    "duration": 15,
    "start_time": "2022-08-08T15:39:40.768Z"
   },
   {
    "duration": 57,
    "start_time": "2022-08-08T15:39:57.835Z"
   },
   {
    "duration": 6,
    "start_time": "2022-08-08T15:40:01.202Z"
   },
   {
    "duration": 63,
    "start_time": "2022-08-08T15:40:20.771Z"
   },
   {
    "duration": 5,
    "start_time": "2022-08-08T15:40:22.866Z"
   },
   {
    "duration": 445,
    "start_time": "2022-08-08T15:43:12.175Z"
   },
   {
    "duration": 178,
    "start_time": "2022-08-08T15:43:15.295Z"
   },
   {
    "duration": 143,
    "start_time": "2022-08-08T15:43:16.549Z"
   },
   {
    "duration": 9,
    "start_time": "2022-08-08T15:43:18.119Z"
   },
   {
    "duration": 31,
    "start_time": "2022-08-08T15:43:20.095Z"
   },
   {
    "duration": 3,
    "start_time": "2022-08-08T15:43:22.717Z"
   },
   {
    "duration": 14,
    "start_time": "2022-08-08T15:43:24.490Z"
   },
   {
    "duration": 4,
    "start_time": "2022-08-08T15:43:25.991Z"
   },
   {
    "duration": 25,
    "start_time": "2022-08-08T15:43:28.816Z"
   },
   {
    "duration": 18,
    "start_time": "2022-08-08T15:43:31.276Z"
   },
   {
    "duration": 25,
    "start_time": "2022-08-08T15:43:32.687Z"
   },
   {
    "duration": 67,
    "start_time": "2022-08-08T15:43:34.899Z"
   },
   {
    "duration": 87,
    "start_time": "2022-08-08T15:43:36.467Z"
   },
   {
    "duration": 65,
    "start_time": "2022-08-08T15:43:38.141Z"
   },
   {
    "duration": 8,
    "start_time": "2022-08-08T15:43:39.484Z"
   },
   {
    "duration": 3,
    "start_time": "2022-08-08T15:43:40.692Z"
   },
   {
    "duration": 28,
    "start_time": "2022-08-08T15:43:42.093Z"
   },
   {
    "duration": 8,
    "start_time": "2022-08-08T15:43:43.354Z"
   },
   {
    "duration": 32,
    "start_time": "2022-08-08T15:43:50.632Z"
   },
   {
    "duration": 33,
    "start_time": "2022-08-08T15:43:52.225Z"
   },
   {
    "duration": 4,
    "start_time": "2022-08-08T15:44:32.176Z"
   },
   {
    "duration": 16,
    "start_time": "2022-08-08T15:44:36.124Z"
   },
   {
    "duration": 16,
    "start_time": "2022-08-08T15:44:37.353Z"
   },
   {
    "duration": 14,
    "start_time": "2022-08-08T15:44:38.465Z"
   },
   {
    "duration": 15,
    "start_time": "2022-08-08T15:44:39.562Z"
   },
   {
    "duration": 16,
    "start_time": "2022-08-08T15:44:40.517Z"
   },
   {
    "duration": 15,
    "start_time": "2022-08-08T15:44:42.560Z"
   },
   {
    "duration": 9,
    "start_time": "2022-08-08T15:44:46.041Z"
   },
   {
    "duration": 22,
    "start_time": "2022-08-08T15:44:51.435Z"
   },
   {
    "duration": 12,
    "start_time": "2022-08-08T15:45:03.384Z"
   },
   {
    "duration": 28,
    "start_time": "2022-08-08T15:45:05.015Z"
   },
   {
    "duration": 11,
    "start_time": "2022-08-08T15:45:07.123Z"
   },
   {
    "duration": 5,
    "start_time": "2022-08-08T15:45:09.253Z"
   },
   {
    "duration": 21,
    "start_time": "2022-08-08T15:45:14.763Z"
   },
   {
    "duration": 5,
    "start_time": "2022-08-08T15:45:16.233Z"
   },
   {
    "duration": 15,
    "start_time": "2022-08-08T15:45:19.656Z"
   },
   {
    "duration": 5,
    "start_time": "2022-08-08T15:45:21.358Z"
   },
   {
    "duration": 19,
    "start_time": "2022-08-08T15:45:25.575Z"
   },
   {
    "duration": 5,
    "start_time": "2022-08-08T15:45:26.729Z"
   },
   {
    "duration": 13,
    "start_time": "2022-08-08T15:45:34.166Z"
   },
   {
    "duration": 6,
    "start_time": "2022-08-08T15:45:37.088Z"
   },
   {
    "duration": 67,
    "start_time": "2022-08-08T15:48:18.519Z"
   },
   {
    "duration": 7,
    "start_time": "2022-08-08T15:48:21.446Z"
   },
   {
    "duration": 66,
    "start_time": "2022-08-08T15:48:36.650Z"
   },
   {
    "duration": 6,
    "start_time": "2022-08-08T15:48:39.324Z"
   },
   {
    "duration": 34,
    "start_time": "2022-08-08T15:50:56.147Z"
   },
   {
    "duration": 6,
    "start_time": "2022-08-08T15:50:58.619Z"
   },
   {
    "duration": 66,
    "start_time": "2022-08-08T15:52:08.422Z"
   },
   {
    "duration": 5,
    "start_time": "2022-08-08T15:52:11.282Z"
   },
   {
    "duration": 87,
    "start_time": "2022-08-08T15:55:17.944Z"
   },
   {
    "duration": 6,
    "start_time": "2022-08-08T15:55:20.954Z"
   },
   {
    "duration": 64,
    "start_time": "2022-08-08T15:55:28.252Z"
   },
   {
    "duration": 5,
    "start_time": "2022-08-08T15:55:30.449Z"
   },
   {
    "duration": 60,
    "start_time": "2022-08-08T15:55:37.720Z"
   },
   {
    "duration": 5,
    "start_time": "2022-08-08T15:55:41.175Z"
   },
   {
    "duration": 78,
    "start_time": "2022-08-08T15:56:11.889Z"
   },
   {
    "duration": 12,
    "start_time": "2022-08-08T15:56:14.284Z"
   },
   {
    "duration": 63,
    "start_time": "2022-08-08T15:56:23.191Z"
   },
   {
    "duration": 5,
    "start_time": "2022-08-08T15:56:26.015Z"
   },
   {
    "duration": 67,
    "start_time": "2022-08-08T15:56:52.621Z"
   },
   {
    "duration": 6,
    "start_time": "2022-08-08T15:56:55.314Z"
   },
   {
    "duration": 32,
    "start_time": "2022-08-08T15:57:59.854Z"
   },
   {
    "duration": 6,
    "start_time": "2022-08-08T15:58:03.232Z"
   },
   {
    "duration": 405,
    "start_time": "2022-08-09T02:21:37.963Z"
   },
   {
    "duration": 202,
    "start_time": "2022-08-09T02:21:39.828Z"
   },
   {
    "duration": 120,
    "start_time": "2022-08-09T02:21:42.145Z"
   },
   {
    "duration": 6,
    "start_time": "2022-08-09T02:21:43.441Z"
   },
   {
    "duration": 37,
    "start_time": "2022-08-09T02:21:44.855Z"
   },
   {
    "duration": 4,
    "start_time": "2022-08-09T02:21:47.001Z"
   },
   {
    "duration": 15,
    "start_time": "2022-08-09T02:21:48.510Z"
   },
   {
    "duration": 8,
    "start_time": "2022-08-09T02:21:50.046Z"
   },
   {
    "duration": 20,
    "start_time": "2022-08-09T02:21:51.916Z"
   },
   {
    "duration": 12,
    "start_time": "2022-08-09T02:21:53.288Z"
   },
   {
    "duration": 21,
    "start_time": "2022-08-09T02:21:54.559Z"
   },
   {
    "duration": 53,
    "start_time": "2022-08-09T02:21:56.517Z"
   },
   {
    "duration": 56,
    "start_time": "2022-08-09T02:21:58.041Z"
   },
   {
    "duration": 49,
    "start_time": "2022-08-09T02:21:59.445Z"
   },
   {
    "duration": 7,
    "start_time": "2022-08-09T02:22:01.614Z"
   },
   {
    "duration": 3,
    "start_time": "2022-08-09T02:22:02.811Z"
   },
   {
    "duration": 23,
    "start_time": "2022-08-09T02:22:04.081Z"
   },
   {
    "duration": 10,
    "start_time": "2022-08-09T02:22:05.777Z"
   },
   {
    "duration": 24,
    "start_time": "2022-08-09T02:22:38.536Z"
   },
   {
    "duration": 26,
    "start_time": "2022-08-09T02:22:46.382Z"
   },
   {
    "duration": 26,
    "start_time": "2022-08-09T02:22:50.067Z"
   },
   {
    "duration": 25,
    "start_time": "2022-08-09T02:23:09.093Z"
   },
   {
    "duration": 24,
    "start_time": "2022-08-09T02:23:23.351Z"
   },
   {
    "duration": 3,
    "start_time": "2022-08-09T02:23:25.745Z"
   },
   {
    "duration": 13,
    "start_time": "2022-08-09T02:23:29.261Z"
   },
   {
    "duration": 13,
    "start_time": "2022-08-09T02:23:30.320Z"
   },
   {
    "duration": 12,
    "start_time": "2022-08-09T02:23:31.340Z"
   },
   {
    "duration": 11,
    "start_time": "2022-08-09T02:23:32.324Z"
   },
   {
    "duration": 12,
    "start_time": "2022-08-09T02:23:33.346Z"
   },
   {
    "duration": 12,
    "start_time": "2022-08-09T02:23:34.124Z"
   },
   {
    "duration": 7,
    "start_time": "2022-08-09T02:23:35.543Z"
   },
   {
    "duration": 18,
    "start_time": "2022-08-09T02:23:39.063Z"
   },
   {
    "duration": 10,
    "start_time": "2022-08-09T02:23:41.209Z"
   },
   {
    "duration": 16,
    "start_time": "2022-08-09T02:23:42.507Z"
   },
   {
    "duration": 8,
    "start_time": "2022-08-09T02:23:44.625Z"
   },
   {
    "duration": 4,
    "start_time": "2022-08-09T02:23:46.496Z"
   },
   {
    "duration": 16,
    "start_time": "2022-08-09T02:23:47.922Z"
   },
   {
    "duration": 5,
    "start_time": "2022-08-09T02:23:48.978Z"
   },
   {
    "duration": 11,
    "start_time": "2022-08-09T02:23:50.677Z"
   },
   {
    "duration": 4,
    "start_time": "2022-08-09T02:23:51.878Z"
   },
   {
    "duration": 15,
    "start_time": "2022-08-09T02:23:53.100Z"
   },
   {
    "duration": 4,
    "start_time": "2022-08-09T02:23:54.478Z"
   },
   {
    "duration": 14,
    "start_time": "2022-08-09T02:23:55.678Z"
   },
   {
    "duration": 4,
    "start_time": "2022-08-09T02:23:56.974Z"
   },
   {
    "duration": 52,
    "start_time": "2022-08-09T02:24:01.046Z"
   },
   {
    "duration": 4,
    "start_time": "2022-08-09T02:24:02.400Z"
   },
   {
    "duration": 24,
    "start_time": "2022-08-09T02:24:03.646Z"
   },
   {
    "duration": 5,
    "start_time": "2022-08-09T02:24:11.186Z"
   },
   {
    "duration": 456,
    "start_time": "2022-08-09T15:19:33.875Z"
   },
   {
    "duration": 177,
    "start_time": "2022-08-09T15:19:34.333Z"
   },
   {
    "duration": 160,
    "start_time": "2022-08-09T15:19:34.512Z"
   },
   {
    "duration": 6,
    "start_time": "2022-08-09T15:19:34.675Z"
   },
   {
    "duration": 39,
    "start_time": "2022-08-09T15:19:34.683Z"
   },
   {
    "duration": 3,
    "start_time": "2022-08-09T15:19:34.724Z"
   },
   {
    "duration": 13,
    "start_time": "2022-08-09T15:19:34.728Z"
   },
   {
    "duration": 4,
    "start_time": "2022-08-09T15:19:34.743Z"
   },
   {
    "duration": 22,
    "start_time": "2022-08-09T15:19:34.748Z"
   },
   {
    "duration": 12,
    "start_time": "2022-08-09T15:19:34.798Z"
   },
   {
    "duration": 21,
    "start_time": "2022-08-09T15:19:34.811Z"
   },
   {
    "duration": 77,
    "start_time": "2022-08-09T15:19:34.834Z"
   },
   {
    "duration": 71,
    "start_time": "2022-08-09T15:19:34.913Z"
   },
   {
    "duration": 58,
    "start_time": "2022-08-09T15:19:34.998Z"
   },
   {
    "duration": 9,
    "start_time": "2022-08-09T15:19:35.058Z"
   },
   {
    "duration": 3,
    "start_time": "2022-08-09T15:19:35.069Z"
   },
   {
    "duration": 46,
    "start_time": "2022-08-09T15:19:35.074Z"
   },
   {
    "duration": 9,
    "start_time": "2022-08-09T15:19:35.121Z"
   },
   {
    "duration": 33,
    "start_time": "2022-08-09T15:19:35.132Z"
   },
   {
    "duration": 50,
    "start_time": "2022-08-09T15:19:35.166Z"
   },
   {
    "duration": 26,
    "start_time": "2022-08-09T15:19:35.217Z"
   },
   {
    "duration": 26,
    "start_time": "2022-08-09T15:19:35.245Z"
   },
   {
    "duration": 25,
    "start_time": "2022-08-09T15:19:35.274Z"
   },
   {
    "duration": 19,
    "start_time": "2022-08-09T15:19:35.300Z"
   },
   {
    "duration": 19,
    "start_time": "2022-08-09T15:19:35.320Z"
   },
   {
    "duration": 15,
    "start_time": "2022-08-09T15:19:35.341Z"
   },
   {
    "duration": 17,
    "start_time": "2022-08-09T15:19:35.357Z"
   },
   {
    "duration": 25,
    "start_time": "2022-08-09T15:19:35.378Z"
   },
   {
    "duration": 14,
    "start_time": "2022-08-09T15:19:35.404Z"
   },
   {
    "duration": 10,
    "start_time": "2022-08-09T15:19:35.419Z"
   },
   {
    "duration": 22,
    "start_time": "2022-08-09T15:19:35.431Z"
   },
   {
    "duration": 10,
    "start_time": "2022-08-09T15:19:35.455Z"
   },
   {
    "duration": 41,
    "start_time": "2022-08-09T15:19:35.466Z"
   },
   {
    "duration": 9,
    "start_time": "2022-08-09T15:19:35.508Z"
   },
   {
    "duration": 6,
    "start_time": "2022-08-09T15:19:35.518Z"
   },
   {
    "duration": 25,
    "start_time": "2022-08-09T15:19:35.525Z"
   },
   {
    "duration": 4,
    "start_time": "2022-08-09T15:19:35.552Z"
   },
   {
    "duration": 12,
    "start_time": "2022-08-09T15:19:35.558Z"
   },
   {
    "duration": 29,
    "start_time": "2022-08-09T15:19:35.572Z"
   },
   {
    "duration": 18,
    "start_time": "2022-08-09T15:19:35.602Z"
   },
   {
    "duration": 5,
    "start_time": "2022-08-09T15:19:35.622Z"
   },
   {
    "duration": 21,
    "start_time": "2022-08-09T15:19:35.628Z"
   },
   {
    "duration": 4,
    "start_time": "2022-08-09T15:19:35.651Z"
   },
   {
    "duration": 78,
    "start_time": "2022-08-09T15:19:35.656Z"
   },
   {
    "duration": 4,
    "start_time": "2022-08-09T15:19:35.736Z"
   },
   {
    "duration": 30,
    "start_time": "2022-08-09T15:19:35.741Z"
   },
   {
    "duration": 4,
    "start_time": "2022-08-09T15:19:35.773Z"
   },
   {
    "duration": 28,
    "start_time": "2022-08-09T15:20:46.312Z"
   },
   {
    "duration": 87,
    "start_time": "2022-08-09T15:20:58.325Z"
   },
   {
    "duration": 11,
    "start_time": "2022-08-09T15:21:16.984Z"
   },
   {
    "duration": 7,
    "start_time": "2022-08-10T10:58:02.652Z"
   },
   {
    "duration": 41,
    "start_time": "2022-08-10T10:58:12.152Z"
   },
   {
    "duration": 372,
    "start_time": "2022-08-10T10:58:17.187Z"
   },
   {
    "duration": 450,
    "start_time": "2022-08-10T10:58:20.113Z"
   },
   {
    "duration": 110,
    "start_time": "2022-08-10T10:58:22.257Z"
   },
   {
    "duration": 10,
    "start_time": "2022-08-10T10:58:24.663Z"
   },
   {
    "duration": 34,
    "start_time": "2022-08-10T10:58:54.545Z"
   },
   {
    "duration": 3,
    "start_time": "2022-08-10T10:59:30.315Z"
   },
   {
    "duration": 3,
    "start_time": "2022-08-10T10:59:34.137Z"
   },
   {
    "duration": 10,
    "start_time": "2022-08-10T11:00:20.148Z"
   },
   {
    "duration": 4,
    "start_time": "2022-08-10T11:00:27.063Z"
   },
   {
    "duration": 22,
    "start_time": "2022-08-10T11:00:38.458Z"
   },
   {
    "duration": 15,
    "start_time": "2022-08-10T11:07:18.246Z"
   },
   {
    "duration": 20,
    "start_time": "2022-08-10T11:07:28.123Z"
   },
   {
    "duration": 52,
    "start_time": "2022-08-10T11:09:33.150Z"
   },
   {
    "duration": 68,
    "start_time": "2022-08-10T11:09:36.187Z"
   },
   {
    "duration": 53,
    "start_time": "2022-08-10T11:09:40.586Z"
   },
   {
    "duration": 9,
    "start_time": "2022-08-10T11:11:04.022Z"
   },
   {
    "duration": 49,
    "start_time": "2022-08-10T11:12:34.641Z"
   },
   {
    "duration": 394,
    "start_time": "2022-08-10T11:13:37.349Z"
   },
   {
    "duration": 145,
    "start_time": "2022-08-10T11:13:39.155Z"
   },
   {
    "duration": 120,
    "start_time": "2022-08-10T11:13:40.330Z"
   },
   {
    "duration": 9,
    "start_time": "2022-08-10T11:13:41.664Z"
   },
   {
    "duration": 23,
    "start_time": "2022-08-10T11:13:43.105Z"
   },
   {
    "duration": 3,
    "start_time": "2022-08-10T11:13:54.714Z"
   },
   {
    "duration": 11,
    "start_time": "2022-08-10T11:13:58.146Z"
   },
   {
    "duration": 4,
    "start_time": "2022-08-10T11:14:01.170Z"
   },
   {
    "duration": 20,
    "start_time": "2022-08-10T11:14:03.533Z"
   },
   {
    "duration": 19,
    "start_time": "2022-08-10T11:14:08.742Z"
   },
   {
    "duration": 21,
    "start_time": "2022-08-10T11:14:13.714Z"
   },
   {
    "duration": 70,
    "start_time": "2022-08-10T11:14:27.322Z"
   },
   {
    "duration": 74,
    "start_time": "2022-08-10T11:14:31.181Z"
   },
   {
    "duration": 54,
    "start_time": "2022-08-10T11:14:37.102Z"
   },
   {
    "duration": 8,
    "start_time": "2022-08-10T11:16:00.578Z"
   },
   {
    "duration": 58,
    "start_time": "2022-08-10T11:19:50.087Z"
   },
   {
    "duration": 7,
    "start_time": "2022-08-10T11:19:55.883Z"
   },
   {
    "duration": 6,
    "start_time": "2022-08-10T11:20:01.382Z"
   },
   {
    "duration": 7,
    "start_time": "2022-08-10T11:20:08.645Z"
   },
   {
    "duration": 10,
    "start_time": "2022-08-10T11:23:15.223Z"
   },
   {
    "duration": 12,
    "start_time": "2022-08-10T11:23:37.345Z"
   },
   {
    "duration": 9,
    "start_time": "2022-08-10T11:24:02.505Z"
   },
   {
    "duration": 10,
    "start_time": "2022-08-10T11:24:10.341Z"
   },
   {
    "duration": 7,
    "start_time": "2022-08-10T11:24:16.117Z"
   },
   {
    "duration": 8,
    "start_time": "2022-08-10T13:53:02.507Z"
   },
   {
    "duration": 4,
    "start_time": "2022-08-10T13:53:40.854Z"
   },
   {
    "duration": 19,
    "start_time": "2022-08-10T13:53:44.186Z"
   },
   {
    "duration": 8,
    "start_time": "2022-08-10T13:54:06.869Z"
   },
   {
    "duration": 32,
    "start_time": "2022-08-10T13:54:20.897Z"
   },
   {
    "duration": 24,
    "start_time": "2022-08-10T13:54:26.320Z"
   },
   {
    "duration": 27,
    "start_time": "2022-08-10T13:54:29.912Z"
   },
   {
    "duration": 25,
    "start_time": "2022-08-10T13:54:33.440Z"
   },
   {
    "duration": 3,
    "start_time": "2022-08-10T14:00:06.500Z"
   },
   {
    "duration": 36,
    "start_time": "2022-08-10T14:00:45.257Z"
   },
   {
    "duration": 29,
    "start_time": "2022-08-10T14:03:33.258Z"
   },
   {
    "duration": 35,
    "start_time": "2022-08-10T14:05:55.131Z"
   },
   {
    "duration": 3,
    "start_time": "2022-08-10T14:06:10.353Z"
   },
   {
    "duration": 1245,
    "start_time": "2022-08-10T14:06:16.283Z"
   },
   {
    "duration": 3,
    "start_time": "2022-08-10T14:07:22.656Z"
   },
   {
    "duration": 4,
    "start_time": "2022-08-10T14:07:31.686Z"
   },
   {
    "duration": 36,
    "start_time": "2022-08-10T14:07:34.761Z"
   },
   {
    "duration": 3,
    "start_time": "2022-08-10T14:07:52.623Z"
   },
   {
    "duration": 35,
    "start_time": "2022-08-10T14:07:55.239Z"
   },
   {
    "duration": 8,
    "start_time": "2022-08-10T14:13:00.787Z"
   },
   {
    "duration": 32,
    "start_time": "2022-08-10T14:13:17.819Z"
   },
   {
    "duration": 13,
    "start_time": "2022-08-10T14:13:20.098Z"
   },
   {
    "duration": 19,
    "start_time": "2022-08-10T14:13:22.859Z"
   },
   {
    "duration": 10,
    "start_time": "2022-08-10T14:13:26.131Z"
   },
   {
    "duration": 31,
    "start_time": "2022-08-10T14:14:09.188Z"
   },
   {
    "duration": 10,
    "start_time": "2022-08-10T14:14:24.931Z"
   },
   {
    "duration": 4,
    "start_time": "2022-08-10T14:15:58.281Z"
   },
   {
    "duration": 18,
    "start_time": "2022-08-10T14:16:02.019Z"
   },
   {
    "duration": 4,
    "start_time": "2022-08-10T14:16:04.135Z"
   },
   {
    "duration": 11,
    "start_time": "2022-08-10T14:16:08.546Z"
   },
   {
    "duration": 4,
    "start_time": "2022-08-10T14:16:09.428Z"
   },
   {
    "duration": 15,
    "start_time": "2022-08-10T14:16:10.794Z"
   },
   {
    "duration": 5,
    "start_time": "2022-08-10T14:16:13.061Z"
   },
   {
    "duration": 12,
    "start_time": "2022-08-10T14:16:14.830Z"
   },
   {
    "duration": 4,
    "start_time": "2022-08-10T14:16:16.040Z"
   },
   {
    "duration": 54,
    "start_time": "2022-08-10T14:17:20.711Z"
   },
   {
    "duration": 5,
    "start_time": "2022-08-10T14:17:26.125Z"
   },
   {
    "duration": 33,
    "start_time": "2022-08-10T14:19:27.470Z"
   },
   {
    "duration": 5,
    "start_time": "2022-08-10T14:19:41.105Z"
   },
   {
    "duration": 3,
    "start_time": "2022-08-10T14:24:08.931Z"
   },
   {
    "duration": 31,
    "start_time": "2022-08-10T14:24:11.890Z"
   },
   {
    "duration": 13,
    "start_time": "2022-08-10T14:24:13.385Z"
   },
   {
    "duration": 18,
    "start_time": "2022-08-10T14:25:54.244Z"
   },
   {
    "duration": 18,
    "start_time": "2022-08-10T14:25:57.641Z"
   },
   {
    "duration": 11,
    "start_time": "2022-08-10T14:26:04.839Z"
   },
   {
    "duration": 24,
    "start_time": "2022-08-10T14:26:11.469Z"
   },
   {
    "duration": 33,
    "start_time": "2022-08-10T14:26:25.569Z"
   },
   {
    "duration": 19,
    "start_time": "2022-08-10T14:26:52.225Z"
   },
   {
    "duration": 12,
    "start_time": "2022-08-10T14:26:54.236Z"
   },
   {
    "duration": 26,
    "start_time": "2022-08-10T14:27:03.944Z"
   },
   {
    "duration": 11,
    "start_time": "2022-08-10T14:27:09.812Z"
   },
   {
    "duration": 26,
    "start_time": "2022-08-10T14:27:32.573Z"
   },
   {
    "duration": 14,
    "start_time": "2022-08-10T14:27:38.518Z"
   },
   {
    "duration": 29,
    "start_time": "2022-08-10T14:27:43.518Z"
   },
   {
    "duration": 13,
    "start_time": "2022-08-10T14:27:49.223Z"
   },
   {
    "duration": 18,
    "start_time": "2022-08-10T14:27:56.536Z"
   },
   {
    "duration": 12,
    "start_time": "2022-08-10T14:28:02.548Z"
   },
   {
    "duration": 4,
    "start_time": "2022-08-10T14:28:33.519Z"
   },
   {
    "duration": 10,
    "start_time": "2022-08-10T14:35:18.404Z"
   },
   {
    "duration": 7,
    "start_time": "2022-08-10T14:35:45.854Z"
   },
   {
    "duration": 8,
    "start_time": "2022-08-10T14:38:33.505Z"
   },
   {
    "duration": 4,
    "start_time": "2022-08-10T14:41:13.220Z"
   },
   {
    "duration": 15,
    "start_time": "2022-08-10T14:41:17.293Z"
   },
   {
    "duration": 12,
    "start_time": "2022-08-10T14:41:18.794Z"
   },
   {
    "duration": 3,
    "start_time": "2022-08-10T14:41:32.965Z"
   },
   {
    "duration": 3,
    "start_time": "2022-08-10T14:41:40.822Z"
   },
   {
    "duration": 15,
    "start_time": "2022-08-10T14:41:44.696Z"
   },
   {
    "duration": 3,
    "start_time": "2022-08-10T14:41:46.561Z"
   },
   {
    "duration": 11,
    "start_time": "2022-08-10T14:41:54.744Z"
   },
   {
    "duration": 3,
    "start_time": "2022-08-10T14:41:56.339Z"
   },
   {
    "duration": 5,
    "start_time": "2022-08-10T14:42:29.687Z"
   },
   {
    "duration": 13,
    "start_time": "2022-08-10T14:42:40.526Z"
   },
   {
    "duration": 4,
    "start_time": "2022-08-10T14:42:42.259Z"
   },
   {
    "duration": 4,
    "start_time": "2022-08-10T14:42:50.829Z"
   },
   {
    "duration": 13,
    "start_time": "2022-08-10T14:43:02.800Z"
   },
   {
    "duration": 4,
    "start_time": "2022-08-10T14:43:05.108Z"
   },
   {
    "duration": 13,
    "start_time": "2022-08-10T14:43:14.717Z"
   },
   {
    "duration": 4,
    "start_time": "2022-08-10T14:43:17.222Z"
   },
   {
    "duration": 11,
    "start_time": "2022-08-10T14:43:25.329Z"
   },
   {
    "duration": 4,
    "start_time": "2022-08-10T14:43:27.456Z"
   },
   {
    "duration": 13,
    "start_time": "2022-08-10T14:43:41.889Z"
   },
   {
    "duration": 6,
    "start_time": "2022-08-10T14:43:43.265Z"
   },
   {
    "duration": 3,
    "start_time": "2022-08-10T14:43:47.720Z"
   },
   {
    "duration": 12,
    "start_time": "2022-08-10T14:43:57.615Z"
   },
   {
    "duration": 3,
    "start_time": "2022-08-10T14:44:00.617Z"
   },
   {
    "duration": 72,
    "start_time": "2022-08-10T14:45:53.637Z"
   },
   {
    "duration": 100,
    "start_time": "2022-08-10T14:46:04.179Z"
   },
   {
    "duration": 4,
    "start_time": "2022-08-10T14:46:12.350Z"
   },
   {
    "duration": 4,
    "start_time": "2022-08-10T14:46:41.972Z"
   },
   {
    "duration": 9,
    "start_time": "2022-08-10T14:48:37.789Z"
   },
   {
    "duration": 365,
    "start_time": "2022-08-10T14:49:41.968Z"
   },
   {
    "duration": 137,
    "start_time": "2022-08-10T14:49:49.217Z"
   },
   {
    "duration": 109,
    "start_time": "2022-08-10T14:49:51.173Z"
   },
   {
    "duration": 10,
    "start_time": "2022-08-10T14:49:54.099Z"
   },
   {
    "duration": 28,
    "start_time": "2022-08-10T14:50:02.990Z"
   },
   {
    "duration": 4,
    "start_time": "2022-08-10T14:50:24.928Z"
   },
   {
    "duration": 10,
    "start_time": "2022-08-10T14:50:28.321Z"
   },
   {
    "duration": 3,
    "start_time": "2022-08-10T14:50:31.074Z"
   },
   {
    "duration": 19,
    "start_time": "2022-08-10T14:50:36.296Z"
   },
   {
    "duration": 15,
    "start_time": "2022-08-10T14:50:50.537Z"
   },
   {
    "duration": 20,
    "start_time": "2022-08-10T14:50:53.959Z"
   },
   {
    "duration": 55,
    "start_time": "2022-08-10T14:50:58.617Z"
   },
   {
    "duration": 68,
    "start_time": "2022-08-10T14:51:05.614Z"
   },
   {
    "duration": 60,
    "start_time": "2022-08-10T14:51:07.459Z"
   },
   {
    "duration": 9,
    "start_time": "2022-08-10T14:51:10.316Z"
   },
   {
    "duration": 3,
    "start_time": "2022-08-10T14:51:21.052Z"
   },
   {
    "duration": 18,
    "start_time": "2022-08-10T14:51:24.788Z"
   },
   {
    "duration": 9,
    "start_time": "2022-08-10T14:51:27.118Z"
   },
   {
    "duration": 28,
    "start_time": "2022-08-10T14:51:51.536Z"
   },
   {
    "duration": 25,
    "start_time": "2022-08-10T14:51:55.768Z"
   },
   {
    "duration": 26,
    "start_time": "2022-08-10T14:51:58.596Z"
   },
   {
    "duration": 24,
    "start_time": "2022-08-10T14:52:00.925Z"
   },
   {
    "duration": 3,
    "start_time": "2022-08-10T14:52:06.547Z"
   },
   {
    "duration": 13,
    "start_time": "2022-08-10T14:52:10.951Z"
   },
   {
    "duration": 3,
    "start_time": "2022-08-10T14:52:13.171Z"
   },
   {
    "duration": 12,
    "start_time": "2022-08-10T14:52:22.130Z"
   },
   {
    "duration": 4,
    "start_time": "2022-08-10T14:52:25.224Z"
   },
   {
    "duration": 13,
    "start_time": "2022-08-10T14:52:26.576Z"
   },
   {
    "duration": 13,
    "start_time": "2022-08-10T14:52:35.144Z"
   },
   {
    "duration": 4,
    "start_time": "2022-08-10T14:52:36.560Z"
   },
   {
    "duration": 12,
    "start_time": "2022-08-10T14:52:38.431Z"
   },
   {
    "duration": 3,
    "start_time": "2022-08-10T14:52:44.228Z"
   },
   {
    "duration": 14,
    "start_time": "2022-08-10T14:52:46.458Z"
   },
   {
    "duration": 4,
    "start_time": "2022-08-10T14:52:47.834Z"
   },
   {
    "duration": 15,
    "start_time": "2022-08-10T14:52:53.867Z"
   },
   {
    "duration": 4,
    "start_time": "2022-08-10T14:52:55.061Z"
   },
   {
    "duration": 8,
    "start_time": "2022-08-10T14:53:00.685Z"
   },
   {
    "duration": 21,
    "start_time": "2022-08-10T14:53:06.850Z"
   },
   {
    "duration": 10,
    "start_time": "2022-08-10T14:53:14.596Z"
   },
   {
    "duration": 18,
    "start_time": "2022-08-10T14:53:15.811Z"
   },
   {
    "duration": 9,
    "start_time": "2022-08-10T14:53:17.169Z"
   },
   {
    "duration": 4,
    "start_time": "2022-08-10T14:53:24.817Z"
   },
   {
    "duration": 20,
    "start_time": "2022-08-10T14:53:27.921Z"
   },
   {
    "duration": 4,
    "start_time": "2022-08-10T14:53:29.071Z"
   },
   {
    "duration": 13,
    "start_time": "2022-08-10T14:53:31.617Z"
   },
   {
    "duration": 5,
    "start_time": "2022-08-10T14:53:32.814Z"
   },
   {
    "duration": 17,
    "start_time": "2022-08-10T14:53:34.301Z"
   },
   {
    "duration": 4,
    "start_time": "2022-08-10T14:53:35.526Z"
   },
   {
    "duration": 12,
    "start_time": "2022-08-10T14:53:36.925Z"
   },
   {
    "duration": 5,
    "start_time": "2022-08-10T14:53:38.126Z"
   },
   {
    "duration": 52,
    "start_time": "2022-08-10T14:53:44.784Z"
   },
   {
    "duration": 6,
    "start_time": "2022-08-10T14:55:17.356Z"
   },
   {
    "duration": 26,
    "start_time": "2022-08-10T14:55:22.067Z"
   },
   {
    "duration": 5,
    "start_time": "2022-08-10T14:55:24.848Z"
   },
   {
    "duration": 1292,
    "start_time": "2022-08-10T14:58:43.196Z"
   },
   {
    "duration": 1378,
    "start_time": "2022-08-10T14:59:07.921Z"
   },
   {
    "duration": 366,
    "start_time": "2022-08-10T14:59:30.566Z"
   },
   {
    "duration": 161,
    "start_time": "2022-08-10T14:59:31.639Z"
   },
   {
    "duration": 109,
    "start_time": "2022-08-10T14:59:32.334Z"
   },
   {
    "duration": 9,
    "start_time": "2022-08-10T14:59:33.366Z"
   },
   {
    "duration": 24,
    "start_time": "2022-08-10T14:59:39.104Z"
   },
   {
    "duration": 4,
    "start_time": "2022-08-10T14:59:40.900Z"
   },
   {
    "duration": 10,
    "start_time": "2022-08-10T14:59:42.620Z"
   },
   {
    "duration": 3,
    "start_time": "2022-08-10T14:59:43.945Z"
   },
   {
    "duration": 20,
    "start_time": "2022-08-10T14:59:45.651Z"
   },
   {
    "duration": 17,
    "start_time": "2022-08-10T14:59:47.247Z"
   },
   {
    "duration": 21,
    "start_time": "2022-08-10T14:59:49.928Z"
   },
   {
    "duration": 58,
    "start_time": "2022-08-10T14:59:52.058Z"
   },
   {
    "duration": 65,
    "start_time": "2022-08-10T14:59:53.504Z"
   },
   {
    "duration": 54,
    "start_time": "2022-08-10T14:59:54.742Z"
   },
   {
    "duration": 9,
    "start_time": "2022-08-10T14:59:56.278Z"
   },
   {
    "duration": 3,
    "start_time": "2022-08-10T14:59:57.535Z"
   },
   {
    "duration": 20,
    "start_time": "2022-08-10T15:00:00.328Z"
   },
   {
    "duration": 9,
    "start_time": "2022-08-10T15:00:02.262Z"
   },
   {
    "duration": 32,
    "start_time": "2022-08-10T15:00:06.697Z"
   },
   {
    "duration": 25,
    "start_time": "2022-08-10T15:00:08.004Z"
   },
   {
    "duration": 27,
    "start_time": "2022-08-10T15:00:09.210Z"
   },
   {
    "duration": 28,
    "start_time": "2022-08-10T15:00:10.308Z"
   },
   {
    "duration": 3,
    "start_time": "2022-08-10T15:00:11.174Z"
   },
   {
    "duration": 16,
    "start_time": "2022-08-10T15:00:12.997Z"
   },
   {
    "duration": 16,
    "start_time": "2022-08-10T15:00:27.908Z"
   },
   {
    "duration": 15,
    "start_time": "2022-08-10T15:01:09.003Z"
   },
   {
    "duration": 15,
    "start_time": "2022-08-10T15:01:16.326Z"
   },
   {
    "duration": 13,
    "start_time": "2022-08-10T15:01:23.592Z"
   },
   {
    "duration": 16,
    "start_time": "2022-08-10T15:01:32.020Z"
   },
   {
    "duration": 16,
    "start_time": "2022-08-10T15:01:38.209Z"
   },
   {
    "duration": 9,
    "start_time": "2022-08-10T15:01:42.469Z"
   },
   {
    "duration": 20,
    "start_time": "2022-08-10T15:02:04.093Z"
   },
   {
    "duration": 11,
    "start_time": "2022-08-10T15:02:09.358Z"
   },
   {
    "duration": 18,
    "start_time": "2022-08-10T15:02:13.809Z"
   },
   {
    "duration": 10,
    "start_time": "2022-08-10T15:02:16.783Z"
   },
   {
    "duration": 4,
    "start_time": "2022-08-10T15:02:19.669Z"
   },
   {
    "duration": 17,
    "start_time": "2022-08-10T15:02:40.045Z"
   },
   {
    "duration": 18,
    "start_time": "2022-08-10T15:03:06.218Z"
   },
   {
    "duration": 13,
    "start_time": "2022-08-10T15:03:12.722Z"
   },
   {
    "duration": 17,
    "start_time": "2022-08-10T15:03:18.878Z"
   },
   {
    "duration": 13,
    "start_time": "2022-08-10T15:03:25.065Z"
   },
   {
    "duration": 80,
    "start_time": "2022-08-10T15:12:29.884Z"
   },
   {
    "duration": 58,
    "start_time": "2022-08-10T15:12:43.668Z"
   },
   {
    "duration": 4,
    "start_time": "2022-08-10T15:12:46.337Z"
   },
   {
    "duration": 52,
    "start_time": "2022-08-10T15:13:20.698Z"
   },
   {
    "duration": 11,
    "start_time": "2022-08-10T15:13:23.204Z"
   },
   {
    "duration": 55,
    "start_time": "2022-08-10T15:15:54.842Z"
   },
   {
    "duration": 5,
    "start_time": "2022-08-10T15:15:57.434Z"
   },
   {
    "duration": 54,
    "start_time": "2022-08-10T15:16:33.716Z"
   },
   {
    "duration": 54,
    "start_time": "2022-08-10T15:17:21.147Z"
   },
   {
    "duration": 57,
    "start_time": "2022-08-10T15:22:00.971Z"
   },
   {
    "duration": 4,
    "start_time": "2022-08-10T15:22:03.331Z"
   },
   {
    "duration": 52,
    "start_time": "2022-08-10T15:26:48.418Z"
   },
   {
    "duration": 5,
    "start_time": "2022-08-10T15:26:51.221Z"
   },
   {
    "duration": 1261,
    "start_time": "2022-08-10T15:28:18.575Z"
   },
   {
    "duration": 4,
    "start_time": "2022-08-10T15:28:20.710Z"
   },
   {
    "duration": 59,
    "start_time": "2022-08-10T15:28:31.803Z"
   },
   {
    "duration": 4,
    "start_time": "2022-08-10T15:28:33.923Z"
   },
   {
    "duration": 1323,
    "start_time": "2022-08-10T15:29:57.444Z"
   },
   {
    "duration": 1274,
    "start_time": "2022-08-10T15:30:24.316Z"
   },
   {
    "duration": 49,
    "start_time": "2022-08-10T15:30:41.054Z"
   },
   {
    "duration": 4,
    "start_time": "2022-08-10T15:30:43.635Z"
   },
   {
    "duration": 53,
    "start_time": "2022-08-10T15:35:09.036Z"
   },
   {
    "duration": 29,
    "start_time": "2022-08-10T15:54:09.037Z"
   },
   {
    "duration": 4,
    "start_time": "2022-08-10T15:54:11.579Z"
   },
   {
    "duration": 18,
    "start_time": "2022-08-10T15:55:17.255Z"
   },
   {
    "duration": 5,
    "start_time": "2022-08-10T15:55:19.974Z"
   },
   {
    "duration": 417,
    "start_time": "2022-08-10T15:56:50.149Z"
   },
   {
    "duration": 138,
    "start_time": "2022-08-10T15:56:54.531Z"
   },
   {
    "duration": 109,
    "start_time": "2022-08-10T15:56:56.014Z"
   },
   {
    "duration": 9,
    "start_time": "2022-08-10T15:56:57.743Z"
   },
   {
    "duration": 25,
    "start_time": "2022-08-10T15:56:59.601Z"
   },
   {
    "duration": 3,
    "start_time": "2022-08-10T15:57:02.159Z"
   },
   {
    "duration": 10,
    "start_time": "2022-08-10T15:57:03.589Z"
   },
   {
    "duration": 5,
    "start_time": "2022-08-10T15:57:34.234Z"
   },
   {
    "duration": 21,
    "start_time": "2022-08-10T15:57:39.972Z"
   },
   {
    "duration": 15,
    "start_time": "2022-08-10T15:57:43.268Z"
   },
   {
    "duration": 20,
    "start_time": "2022-08-10T15:57:45.364Z"
   },
   {
    "duration": 53,
    "start_time": "2022-08-10T15:57:47.625Z"
   },
   {
    "duration": 64,
    "start_time": "2022-08-10T15:57:50.702Z"
   },
   {
    "duration": 53,
    "start_time": "2022-08-10T15:57:53.578Z"
   },
   {
    "duration": 14,
    "start_time": "2022-08-10T15:57:55.467Z"
   },
   {
    "duration": 4,
    "start_time": "2022-08-10T15:57:57.754Z"
   },
   {
    "duration": 18,
    "start_time": "2022-08-10T15:57:59.556Z"
   },
   {
    "duration": 9,
    "start_time": "2022-08-10T15:58:02.430Z"
   },
   {
    "duration": 25,
    "start_time": "2022-08-10T15:58:08.037Z"
   },
   {
    "duration": 35,
    "start_time": "2022-08-10T15:58:09.697Z"
   },
   {
    "duration": 26,
    "start_time": "2022-08-10T15:58:10.971Z"
   },
   {
    "duration": 22,
    "start_time": "2022-08-10T15:58:12.129Z"
   },
   {
    "duration": 3,
    "start_time": "2022-08-10T15:58:14.246Z"
   },
   {
    "duration": 23,
    "start_time": "2022-08-10T15:58:15.891Z"
   },
   {
    "duration": 20,
    "start_time": "2022-08-10T15:58:17.175Z"
   },
   {
    "duration": 14,
    "start_time": "2022-08-10T15:58:18.281Z"
   },
   {
    "duration": 13,
    "start_time": "2022-08-10T15:58:19.545Z"
   },
   {
    "duration": 15,
    "start_time": "2022-08-10T15:58:20.853Z"
   },
   {
    "duration": 13,
    "start_time": "2022-08-10T15:58:25.378Z"
   },
   {
    "duration": 8,
    "start_time": "2022-08-10T15:58:27.130Z"
   },
   {
    "duration": 20,
    "start_time": "2022-08-10T15:58:29.906Z"
   },
   {
    "duration": 11,
    "start_time": "2022-08-10T15:58:31.572Z"
   },
   {
    "duration": 17,
    "start_time": "2022-08-10T15:58:33.039Z"
   },
   {
    "duration": 8,
    "start_time": "2022-08-10T15:58:34.612Z"
   },
   {
    "duration": 4,
    "start_time": "2022-08-10T15:58:38.735Z"
   },
   {
    "duration": 29,
    "start_time": "2022-08-10T15:58:40.750Z"
   },
   {
    "duration": 13,
    "start_time": "2022-08-10T15:58:44.411Z"
   },
   {
    "duration": 18,
    "start_time": "2022-08-10T15:59:01.108Z"
   },
   {
    "duration": 13,
    "start_time": "2022-08-10T15:59:02.840Z"
   },
   {
    "duration": 32,
    "start_time": "2022-08-10T15:59:04.963Z"
   },
   {
    "duration": 4,
    "start_time": "2022-08-10T15:59:07.314Z"
   },
   {
    "duration": 19,
    "start_time": "2022-08-10T15:59:28.898Z"
   },
   {
    "duration": 4,
    "start_time": "2022-08-10T15:59:30.050Z"
   },
   {
    "duration": 409,
    "start_time": "2022-08-11T08:56:00.411Z"
   },
   {
    "duration": 169,
    "start_time": "2022-08-11T08:56:00.822Z"
   },
   {
    "duration": 130,
    "start_time": "2022-08-11T08:56:00.992Z"
   },
   {
    "duration": 10,
    "start_time": "2022-08-11T08:56:01.125Z"
   },
   {
    "duration": 50,
    "start_time": "2022-08-11T08:56:01.137Z"
   },
   {
    "duration": 17,
    "start_time": "2022-08-11T08:56:01.189Z"
   },
   {
    "duration": 28,
    "start_time": "2022-08-11T08:56:01.208Z"
   },
   {
    "duration": 40,
    "start_time": "2022-08-11T08:56:01.237Z"
   },
   {
    "duration": 44,
    "start_time": "2022-08-11T08:56:01.279Z"
   },
   {
    "duration": 39,
    "start_time": "2022-08-11T08:56:01.327Z"
   },
   {
    "duration": 49,
    "start_time": "2022-08-11T08:56:01.368Z"
   },
   {
    "duration": 76,
    "start_time": "2022-08-11T08:56:01.419Z"
   },
   {
    "duration": 89,
    "start_time": "2022-08-11T08:56:01.497Z"
   },
   {
    "duration": 67,
    "start_time": "2022-08-11T08:56:01.588Z"
   },
   {
    "duration": 9,
    "start_time": "2022-08-11T08:56:01.657Z"
   },
   {
    "duration": 23,
    "start_time": "2022-08-11T08:56:01.668Z"
   },
   {
    "duration": 34,
    "start_time": "2022-08-11T08:56:01.693Z"
   },
   {
    "duration": 10,
    "start_time": "2022-08-11T08:56:01.729Z"
   },
   {
    "duration": 46,
    "start_time": "2022-08-11T08:56:01.741Z"
   },
   {
    "duration": 29,
    "start_time": "2022-08-11T08:56:01.789Z"
   },
   {
    "duration": 33,
    "start_time": "2022-08-11T08:56:01.820Z"
   },
   {
    "duration": 48,
    "start_time": "2022-08-11T08:56:01.855Z"
   },
   {
    "duration": 3,
    "start_time": "2022-08-11T08:56:01.905Z"
   },
   {
    "duration": 67,
    "start_time": "2022-08-11T08:56:01.910Z"
   },
   {
    "duration": 43,
    "start_time": "2022-08-11T08:56:01.978Z"
   },
   {
    "duration": 36,
    "start_time": "2022-08-11T08:56:02.023Z"
   },
   {
    "duration": 42,
    "start_time": "2022-08-11T08:56:02.061Z"
   },
   {
    "duration": 30,
    "start_time": "2022-08-11T08:56:02.107Z"
   },
   {
    "duration": 15,
    "start_time": "2022-08-11T08:56:02.139Z"
   },
   {
    "duration": 10,
    "start_time": "2022-08-11T08:56:02.155Z"
   },
   {
    "duration": 32,
    "start_time": "2022-08-11T08:56:02.167Z"
   },
   {
    "duration": 11,
    "start_time": "2022-08-11T08:56:02.201Z"
   },
   {
    "duration": 24,
    "start_time": "2022-08-11T08:56:02.214Z"
   },
   {
    "duration": 10,
    "start_time": "2022-08-11T08:56:02.240Z"
   },
   {
    "duration": 11,
    "start_time": "2022-08-11T08:56:02.252Z"
   },
   {
    "duration": 41,
    "start_time": "2022-08-11T08:56:02.264Z"
   },
   {
    "duration": 15,
    "start_time": "2022-08-11T08:56:02.307Z"
   },
   {
    "duration": 21,
    "start_time": "2022-08-11T08:56:02.324Z"
   },
   {
    "duration": 14,
    "start_time": "2022-08-11T08:56:02.346Z"
   },
   {
    "duration": 34,
    "start_time": "2022-08-11T08:56:02.387Z"
   },
   {
    "duration": 4,
    "start_time": "2022-08-11T08:56:02.423Z"
   },
   {
    "duration": 30,
    "start_time": "2022-08-11T08:56:02.429Z"
   },
   {
    "duration": 5,
    "start_time": "2022-08-11T08:56:02.460Z"
   },
   {
    "duration": 11,
    "start_time": "2022-08-11T08:56:17.380Z"
   },
   {
    "duration": 412,
    "start_time": "2022-08-11T10:21:45.562Z"
   },
   {
    "duration": 225,
    "start_time": "2022-08-11T10:21:50.212Z"
   },
   {
    "duration": 124,
    "start_time": "2022-08-11T10:21:52.114Z"
   },
   {
    "duration": 10,
    "start_time": "2022-08-11T10:21:56.268Z"
   },
   {
    "duration": 28,
    "start_time": "2022-08-11T10:22:11.293Z"
   },
   {
    "duration": 4,
    "start_time": "2022-08-11T10:22:16.033Z"
   },
   {
    "duration": 11,
    "start_time": "2022-08-11T10:22:18.636Z"
   },
   {
    "duration": 3,
    "start_time": "2022-08-11T10:22:21.435Z"
   },
   {
    "duration": 25,
    "start_time": "2022-08-11T10:22:24.180Z"
   },
   {
    "duration": 22,
    "start_time": "2022-08-11T10:22:29.678Z"
   },
   {
    "duration": 24,
    "start_time": "2022-08-11T10:22:33.613Z"
   },
   {
    "duration": 57,
    "start_time": "2022-08-11T10:22:36.418Z"
   },
   {
    "duration": 60,
    "start_time": "2022-08-11T10:23:15.410Z"
   },
   {
    "duration": 68,
    "start_time": "2022-08-11T10:23:25.073Z"
   },
   {
    "duration": 67,
    "start_time": "2022-08-11T10:26:35.988Z"
   },
   {
    "duration": 10,
    "start_time": "2022-08-11T10:26:39.268Z"
   },
   {
    "duration": 62,
    "start_time": "2022-08-11T10:27:05.736Z"
   },
   {
    "duration": 10,
    "start_time": "2022-08-11T10:27:08.196Z"
   },
   {
    "duration": 65,
    "start_time": "2022-08-11T10:27:38.922Z"
   },
   {
    "duration": 9,
    "start_time": "2022-08-11T10:27:41.124Z"
   },
   {
    "duration": 355,
    "start_time": "2022-08-11T10:28:08.161Z"
   },
   {
    "duration": 159,
    "start_time": "2022-08-11T10:28:09.890Z"
   },
   {
    "duration": 117,
    "start_time": "2022-08-11T10:28:12.261Z"
   },
   {
    "duration": 11,
    "start_time": "2022-08-11T10:28:14.493Z"
   },
   {
    "duration": 27,
    "start_time": "2022-08-11T10:28:15.558Z"
   },
   {
    "duration": 26,
    "start_time": "2022-08-11T10:28:16.409Z"
   },
   {
    "duration": 4,
    "start_time": "2022-08-11T10:28:17.813Z"
   },
   {
    "duration": 11,
    "start_time": "2022-08-11T10:28:18.669Z"
   },
   {
    "duration": 4,
    "start_time": "2022-08-11T10:28:19.451Z"
   },
   {
    "duration": 40,
    "start_time": "2022-08-11T10:28:21.552Z"
   },
   {
    "duration": 19,
    "start_time": "2022-08-11T10:28:23.224Z"
   },
   {
    "duration": 28,
    "start_time": "2022-08-11T10:28:24.616Z"
   },
   {
    "duration": 60,
    "start_time": "2022-08-11T10:28:27.437Z"
   },
   {
    "duration": 69,
    "start_time": "2022-08-11T10:28:29.851Z"
   },
   {
    "duration": 10,
    "start_time": "2022-08-11T10:28:31.284Z"
   },
   {
    "duration": 52,
    "start_time": "2022-08-11T10:28:51.288Z"
   },
   {
    "duration": 62,
    "start_time": "2022-08-11T10:29:52.737Z"
   },
   {
    "duration": 3,
    "start_time": "2022-08-11T10:30:56.422Z"
   },
   {
    "duration": 52,
    "start_time": "2022-08-11T10:30:59.572Z"
   },
   {
    "duration": 50,
    "start_time": "2022-08-11T10:31:34.922Z"
   },
   {
    "duration": 10,
    "start_time": "2022-08-11T10:31:54.052Z"
   },
   {
    "duration": 27,
    "start_time": "2022-08-11T11:44:34.088Z"
   },
   {
    "duration": 14,
    "start_time": "2022-08-11T11:45:59.425Z"
   },
   {
    "duration": 11,
    "start_time": "2022-08-11T11:48:51.240Z"
   },
   {
    "duration": 9,
    "start_time": "2022-08-11T11:49:03.692Z"
   },
   {
    "duration": 9,
    "start_time": "2022-08-11T11:49:21.296Z"
   },
   {
    "duration": 10,
    "start_time": "2022-08-11T11:58:16.865Z"
   },
   {
    "duration": 7,
    "start_time": "2022-08-11T11:58:40.850Z"
   },
   {
    "duration": 8,
    "start_time": "2022-08-11T11:59:37.303Z"
   },
   {
    "duration": 11,
    "start_time": "2022-08-11T12:00:00.386Z"
   },
   {
    "duration": 11,
    "start_time": "2022-08-11T12:00:30.037Z"
   },
   {
    "duration": 11,
    "start_time": "2022-08-11T12:00:47.765Z"
   },
   {
    "duration": 10,
    "start_time": "2022-08-11T12:01:41.361Z"
   },
   {
    "duration": 10,
    "start_time": "2022-08-11T12:02:35.632Z"
   },
   {
    "duration": 10,
    "start_time": "2022-08-11T12:03:31.601Z"
   },
   {
    "duration": 10,
    "start_time": "2022-08-11T12:03:37.540Z"
   },
   {
    "duration": 10,
    "start_time": "2022-08-11T12:05:15.522Z"
   },
   {
    "duration": 12,
    "start_time": "2022-08-11T12:07:05.119Z"
   },
   {
    "duration": 9,
    "start_time": "2022-08-11T12:09:21.930Z"
   },
   {
    "duration": 40,
    "start_time": "2022-08-11T12:11:11.330Z"
   },
   {
    "duration": 38,
    "start_time": "2022-08-11T12:11:29.532Z"
   },
   {
    "duration": 42,
    "start_time": "2022-08-11T12:11:34.840Z"
   },
   {
    "duration": 3,
    "start_time": "2022-08-11T12:13:50.732Z"
   },
   {
    "duration": 24,
    "start_time": "2022-08-11T12:13:53.854Z"
   },
   {
    "duration": 39,
    "start_time": "2022-08-11T12:13:59.594Z"
   },
   {
    "duration": 48,
    "start_time": "2022-08-11T12:14:10.313Z"
   },
   {
    "duration": 40,
    "start_time": "2022-08-11T12:14:11.643Z"
   },
   {
    "duration": 38,
    "start_time": "2022-08-11T12:14:14.039Z"
   },
   {
    "duration": 45,
    "start_time": "2022-08-11T12:14:15.064Z"
   },
   {
    "duration": 3,
    "start_time": "2022-08-11T12:14:20.111Z"
   },
   {
    "duration": 20,
    "start_time": "2022-08-11T12:14:26.577Z"
   },
   {
    "duration": 14,
    "start_time": "2022-08-11T12:14:27.646Z"
   },
   {
    "duration": 14,
    "start_time": "2022-08-11T12:14:28.533Z"
   },
   {
    "duration": 14,
    "start_time": "2022-08-11T12:14:30.265Z"
   },
   {
    "duration": 16,
    "start_time": "2022-08-11T12:14:31.442Z"
   },
   {
    "duration": 14,
    "start_time": "2022-08-11T12:14:33.838Z"
   },
   {
    "duration": 11,
    "start_time": "2022-08-11T12:14:37.424Z"
   },
   {
    "duration": 20,
    "start_time": "2022-08-11T12:14:42.741Z"
   },
   {
    "duration": 13,
    "start_time": "2022-08-11T12:14:43.760Z"
   },
   {
    "duration": 20,
    "start_time": "2022-08-11T12:15:28.250Z"
   },
   {
    "duration": 12,
    "start_time": "2022-08-11T12:15:30.422Z"
   },
   {
    "duration": 4,
    "start_time": "2022-08-11T12:15:39.525Z"
   },
   {
    "duration": 7,
    "start_time": "2022-08-11T12:17:17.387Z"
   },
   {
    "duration": 21,
    "start_time": "2022-08-11T12:17:19.110Z"
   },
   {
    "duration": 14,
    "start_time": "2022-08-11T12:17:20.447Z"
   },
   {
    "duration": 20,
    "start_time": "2022-08-11T12:17:21.426Z"
   },
   {
    "duration": 14,
    "start_time": "2022-08-11T12:17:22.396Z"
   },
   {
    "duration": 40,
    "start_time": "2022-08-11T12:17:24.416Z"
   },
   {
    "duration": 5,
    "start_time": "2022-08-11T12:17:26.042Z"
   },
   {
    "duration": 21,
    "start_time": "2022-08-11T12:17:30.299Z"
   },
   {
    "duration": 4,
    "start_time": "2022-08-11T12:17:35.775Z"
   },
   {
    "duration": 4,
    "start_time": "2022-08-11T13:01:55.263Z"
   },
   {
    "duration": 35,
    "start_time": "2022-08-11T13:01:59.495Z"
   },
   {
    "duration": 489,
    "start_time": "2022-08-11T13:02:52.705Z"
   },
   {
    "duration": 168,
    "start_time": "2022-08-11T13:02:54.375Z"
   },
   {
    "duration": 196,
    "start_time": "2022-08-11T13:02:55.718Z"
   },
   {
    "duration": 10,
    "start_time": "2022-08-11T13:02:57.803Z"
   },
   {
    "duration": 29,
    "start_time": "2022-08-11T13:02:59.634Z"
   },
   {
    "duration": 4,
    "start_time": "2022-08-11T13:03:03.695Z"
   },
   {
    "duration": 12,
    "start_time": "2022-08-11T13:03:06.291Z"
   },
   {
    "duration": 4,
    "start_time": "2022-08-11T13:03:09.789Z"
   },
   {
    "duration": 25,
    "start_time": "2022-08-11T13:03:15.558Z"
   },
   {
    "duration": 17,
    "start_time": "2022-08-11T13:03:18.814Z"
   },
   {
    "duration": 23,
    "start_time": "2022-08-11T13:03:21.416Z"
   },
   {
    "duration": 57,
    "start_time": "2022-08-11T13:03:23.829Z"
   },
   {
    "duration": 85,
    "start_time": "2022-08-11T13:03:29.075Z"
   },
   {
    "duration": 9,
    "start_time": "2022-08-11T13:03:36.550Z"
   },
   {
    "duration": 54,
    "start_time": "2022-08-11T13:03:41.253Z"
   },
   {
    "duration": 47,
    "start_time": "2022-08-11T13:03:42.892Z"
   },
   {
    "duration": 3,
    "start_time": "2022-08-11T13:03:51.394Z"
   },
   {
    "duration": 22,
    "start_time": "2022-08-11T13:03:53.142Z"
   },
   {
    "duration": 50,
    "start_time": "2022-08-11T13:03:56.116Z"
   },
   {
    "duration": 31,
    "start_time": "2022-08-11T13:04:01.747Z"
   },
   {
    "duration": 28,
    "start_time": "2022-08-11T13:04:03.112Z"
   },
   {
    "duration": 28,
    "start_time": "2022-08-11T13:04:05.112Z"
   },
   {
    "duration": 26,
    "start_time": "2022-08-11T13:04:07.427Z"
   },
   {
    "duration": 3,
    "start_time": "2022-08-11T13:04:12.087Z"
   },
   {
    "duration": 16,
    "start_time": "2022-08-11T13:04:20.396Z"
   },
   {
    "duration": 14,
    "start_time": "2022-08-11T13:04:29.406Z"
   },
   {
    "duration": 15,
    "start_time": "2022-08-11T13:04:30.657Z"
   },
   {
    "duration": 14,
    "start_time": "2022-08-11T13:04:31.943Z"
   },
   {
    "duration": 16,
    "start_time": "2022-08-11T13:04:32.918Z"
   },
   {
    "duration": 14,
    "start_time": "2022-08-11T13:04:33.885Z"
   },
   {
    "duration": 8,
    "start_time": "2022-08-11T13:04:38.625Z"
   },
   {
    "duration": 18,
    "start_time": "2022-08-11T13:04:46.458Z"
   },
   {
    "duration": 12,
    "start_time": "2022-08-11T13:04:48.431Z"
   },
   {
    "duration": 20,
    "start_time": "2022-08-11T13:04:51.543Z"
   },
   {
    "duration": 9,
    "start_time": "2022-08-11T13:04:53.098Z"
   },
   {
    "duration": 5,
    "start_time": "2022-08-11T13:04:58.956Z"
   },
   {
    "duration": 75,
    "start_time": "2022-08-11T13:05:04.090Z"
   },
   {
    "duration": 4,
    "start_time": "2022-08-11T13:05:33.995Z"
   },
   {
    "duration": 22,
    "start_time": "2022-08-11T13:05:38.719Z"
   },
   {
    "duration": 4,
    "start_time": "2022-08-11T13:09:00.704Z"
   },
   {
    "duration": 32,
    "start_time": "2022-08-11T13:09:04.217Z"
   },
   {
    "duration": 108,
    "start_time": "2022-08-11T13:19:55.425Z"
   },
   {
    "duration": 61,
    "start_time": "2022-08-11T13:20:16.843Z"
   },
   {
    "duration": 66,
    "start_time": "2022-08-11T13:20:42.255Z"
   },
   {
    "duration": 6,
    "start_time": "2022-08-11T13:20:52.058Z"
   },
   {
    "duration": 73,
    "start_time": "2022-08-11T13:27:04.250Z"
   },
   {
    "duration": 73,
    "start_time": "2022-08-11T13:27:36.764Z"
   },
   {
    "duration": 23,
    "start_time": "2022-08-11T13:28:37.587Z"
   },
   {
    "duration": 4,
    "start_time": "2022-08-11T13:29:46.460Z"
   },
   {
    "duration": 20,
    "start_time": "2022-08-11T13:29:48.481Z"
   },
   {
    "duration": 15,
    "start_time": "2022-08-11T13:29:52.312Z"
   },
   {
    "duration": 4,
    "start_time": "2022-08-11T13:31:03.418Z"
   },
   {
    "duration": 20,
    "start_time": "2022-08-11T13:31:05.704Z"
   },
   {
    "duration": 14,
    "start_time": "2022-08-11T13:31:07.029Z"
   },
   {
    "duration": 19,
    "start_time": "2022-08-11T13:31:08.184Z"
   },
   {
    "duration": 13,
    "start_time": "2022-08-11T13:31:10.161Z"
   },
   {
    "duration": 47,
    "start_time": "2022-08-11T13:32:32.915Z"
   },
   {
    "duration": 5,
    "start_time": "2022-08-11T13:33:20.704Z"
   },
   {
    "duration": 24,
    "start_time": "2022-08-11T13:33:24.895Z"
   },
   {
    "duration": 19,
    "start_time": "2022-08-11T13:33:25.684Z"
   },
   {
    "duration": 21,
    "start_time": "2022-08-11T13:33:26.882Z"
   },
   {
    "duration": 15,
    "start_time": "2022-08-11T13:33:27.882Z"
   },
   {
    "duration": 2,
    "start_time": "2022-08-11T13:33:34.324Z"
   },
   {
    "duration": 33,
    "start_time": "2022-08-11T13:33:40.902Z"
   },
   {
    "duration": 44,
    "start_time": "2022-08-11T13:35:43.305Z"
   },
   {
    "duration": 36,
    "start_time": "2022-08-11T13:35:50.859Z"
   },
   {
    "duration": 45,
    "start_time": "2022-08-11T13:36:41.612Z"
   },
   {
    "duration": 10,
    "start_time": "2022-08-11T13:36:44.709Z"
   },
   {
    "duration": 5,
    "start_time": "2022-08-11T13:36:56.546Z"
   },
   {
    "duration": 30,
    "start_time": "2022-08-11T13:37:07.898Z"
   },
   {
    "duration": 6,
    "start_time": "2022-08-11T13:37:12.321Z"
   },
   {
    "duration": 2,
    "start_time": "2022-08-11T13:38:19.743Z"
   },
   {
    "duration": 4,
    "start_time": "2022-08-11T13:38:59.595Z"
   },
   {
    "duration": 3,
    "start_time": "2022-08-11T13:39:02.730Z"
   },
   {
    "duration": 20,
    "start_time": "2022-08-11T13:39:03.839Z"
   },
   {
    "duration": 14,
    "start_time": "2022-08-11T13:39:04.698Z"
   },
   {
    "duration": 18,
    "start_time": "2022-08-11T13:39:05.616Z"
   },
   {
    "duration": 17,
    "start_time": "2022-08-11T13:39:06.407Z"
   },
   {
    "duration": 2,
    "start_time": "2022-08-11T13:39:07.302Z"
   },
   {
    "duration": 2,
    "start_time": "2022-08-11T13:39:13.252Z"
   },
   {
    "duration": 29,
    "start_time": "2022-08-11T13:39:19.065Z"
   },
   {
    "duration": 3,
    "start_time": "2022-08-11T13:39:40.923Z"
   },
   {
    "duration": 21,
    "start_time": "2022-08-11T13:40:00.342Z"
   },
   {
    "duration": 2,
    "start_time": "2022-08-11T13:40:06.260Z"
   },
   {
    "duration": 5,
    "start_time": "2022-08-11T13:40:08.208Z"
   },
   {
    "duration": 421,
    "start_time": "2022-08-11T13:42:38.081Z"
   },
   {
    "duration": 157,
    "start_time": "2022-08-11T13:42:39.686Z"
   },
   {
    "duration": 140,
    "start_time": "2022-08-11T13:42:40.970Z"
   },
   {
    "duration": 11,
    "start_time": "2022-08-11T13:42:42.950Z"
   },
   {
    "duration": 46,
    "start_time": "2022-08-11T13:42:44.847Z"
   },
   {
    "duration": 4,
    "start_time": "2022-08-11T13:42:47.845Z"
   },
   {
    "duration": 12,
    "start_time": "2022-08-11T13:42:49.543Z"
   },
   {
    "duration": 3,
    "start_time": "2022-08-11T13:42:51.551Z"
   },
   {
    "duration": 4,
    "start_time": "2022-08-11T13:42:53.139Z"
   },
   {
    "duration": 23,
    "start_time": "2022-08-11T13:42:54.606Z"
   },
   {
    "duration": 18,
    "start_time": "2022-08-11T13:42:56.413Z"
   },
   {
    "duration": 24,
    "start_time": "2022-08-11T13:42:58.942Z"
   },
   {
    "duration": 66,
    "start_time": "2022-08-11T13:43:01.797Z"
   },
   {
    "duration": 74,
    "start_time": "2022-08-11T13:43:03.344Z"
   },
   {
    "duration": 11,
    "start_time": "2022-08-11T13:43:05.211Z"
   },
   {
    "duration": 52,
    "start_time": "2022-08-11T13:43:06.658Z"
   },
   {
    "duration": 46,
    "start_time": "2022-08-11T13:43:08.016Z"
   },
   {
    "duration": 3,
    "start_time": "2022-08-11T13:43:09.616Z"
   },
   {
    "duration": 24,
    "start_time": "2022-08-11T13:43:12.878Z"
   },
   {
    "duration": 47,
    "start_time": "2022-08-11T13:43:15.062Z"
   },
   {
    "duration": 28,
    "start_time": "2022-08-11T13:43:19.017Z"
   },
   {
    "duration": 27,
    "start_time": "2022-08-11T13:43:20.433Z"
   },
   {
    "duration": 31,
    "start_time": "2022-08-11T13:43:22.006Z"
   },
   {
    "duration": 29,
    "start_time": "2022-08-11T13:43:23.199Z"
   },
   {
    "duration": 4,
    "start_time": "2022-08-11T13:43:25.404Z"
   },
   {
    "duration": 17,
    "start_time": "2022-08-11T13:43:27.595Z"
   },
   {
    "duration": 14,
    "start_time": "2022-08-11T13:43:29.715Z"
   },
   {
    "duration": 15,
    "start_time": "2022-08-11T13:43:31.923Z"
   },
   {
    "duration": 15,
    "start_time": "2022-08-11T13:43:32.894Z"
   },
   {
    "duration": 16,
    "start_time": "2022-08-11T13:43:34.171Z"
   },
   {
    "duration": 15,
    "start_time": "2022-08-11T13:43:36.307Z"
   },
   {
    "duration": 10,
    "start_time": "2022-08-11T13:43:39.723Z"
   },
   {
    "duration": 25,
    "start_time": "2022-08-11T13:43:43.605Z"
   },
   {
    "duration": 12,
    "start_time": "2022-08-11T13:43:44.971Z"
   },
   {
    "duration": 18,
    "start_time": "2022-08-11T13:43:49.449Z"
   },
   {
    "duration": 10,
    "start_time": "2022-08-11T13:43:51.714Z"
   },
   {
    "duration": 4,
    "start_time": "2022-08-11T13:43:55.167Z"
   },
   {
    "duration": 2,
    "start_time": "2022-08-11T13:44:04.822Z"
   },
   {
    "duration": 23,
    "start_time": "2022-08-11T13:44:05.997Z"
   },
   {
    "duration": 16,
    "start_time": "2022-08-11T13:44:07.339Z"
   },
   {
    "duration": 20,
    "start_time": "2022-08-11T13:44:11.218Z"
   },
   {
    "duration": 14,
    "start_time": "2022-08-11T13:44:12.568Z"
   },
   {
    "duration": 3,
    "start_time": "2022-08-11T13:44:17.262Z"
   },
   {
    "duration": 30,
    "start_time": "2022-08-11T13:44:22.642Z"
   },
   {
    "duration": 2,
    "start_time": "2022-08-11T13:44:24.165Z"
   },
   {
    "duration": 4,
    "start_time": "2022-08-11T13:44:26.485Z"
   },
   {
    "duration": 20,
    "start_time": "2022-08-11T13:44:27.895Z"
   },
   {
    "duration": 2,
    "start_time": "2022-08-11T13:44:29.700Z"
   },
   {
    "duration": 5,
    "start_time": "2022-08-11T13:44:31.185Z"
   },
   {
    "duration": 8,
    "start_time": "2022-08-12T03:52:10.816Z"
   },
   {
    "duration": 383,
    "start_time": "2022-08-12T03:52:18.339Z"
   },
   {
    "duration": 140,
    "start_time": "2022-08-12T03:52:18.724Z"
   },
   {
    "duration": 126,
    "start_time": "2022-08-12T03:52:18.865Z"
   },
   {
    "duration": 15,
    "start_time": "2022-08-12T03:52:18.993Z"
   },
   {
    "duration": 34,
    "start_time": "2022-08-12T03:52:19.010Z"
   },
   {
    "duration": 5,
    "start_time": "2022-08-12T03:52:19.046Z"
   },
   {
    "duration": 18,
    "start_time": "2022-08-12T03:52:19.052Z"
   },
   {
    "duration": 29,
    "start_time": "2022-08-12T03:52:19.072Z"
   },
   {
    "duration": 24,
    "start_time": "2022-08-12T03:52:19.102Z"
   },
   {
    "duration": 20,
    "start_time": "2022-08-12T03:52:19.131Z"
   },
   {
    "duration": 50,
    "start_time": "2022-08-12T03:52:19.152Z"
   },
   {
    "duration": 59,
    "start_time": "2022-08-12T03:52:19.204Z"
   },
   {
    "duration": 81,
    "start_time": "2022-08-12T03:52:19.265Z"
   },
   {
    "duration": 10,
    "start_time": "2022-08-12T03:52:19.347Z"
   },
   {
    "duration": 70,
    "start_time": "2022-08-12T03:52:19.359Z"
   },
   {
    "duration": 42,
    "start_time": "2022-08-12T03:52:19.430Z"
   },
   {
    "duration": 3,
    "start_time": "2022-08-12T03:52:19.473Z"
   },
   {
    "duration": 39,
    "start_time": "2022-08-12T03:52:19.478Z"
   },
   {
    "duration": 43,
    "start_time": "2022-08-12T03:52:19.518Z"
   },
   {
    "duration": 43,
    "start_time": "2022-08-12T03:52:19.562Z"
   },
   {
    "duration": 33,
    "start_time": "2022-08-12T03:52:19.607Z"
   },
   {
    "duration": 29,
    "start_time": "2022-08-12T03:52:19.641Z"
   },
   {
    "duration": 45,
    "start_time": "2022-08-12T03:52:19.672Z"
   },
   {
    "duration": 3,
    "start_time": "2022-08-12T03:52:19.719Z"
   },
   {
    "duration": 19,
    "start_time": "2022-08-12T03:52:19.724Z"
   },
   {
    "duration": 12,
    "start_time": "2022-08-12T03:52:19.745Z"
   },
   {
    "duration": 12,
    "start_time": "2022-08-12T03:52:19.759Z"
   },
   {
    "duration": 31,
    "start_time": "2022-08-12T03:52:19.774Z"
   },
   {
    "duration": 14,
    "start_time": "2022-08-12T03:52:19.807Z"
   },
   {
    "duration": 16,
    "start_time": "2022-08-12T03:52:19.822Z"
   },
   {
    "duration": 9,
    "start_time": "2022-08-12T03:52:19.839Z"
   },
   {
    "duration": 23,
    "start_time": "2022-08-12T03:52:19.849Z"
   },
   {
    "duration": 34,
    "start_time": "2022-08-12T03:52:19.873Z"
   },
   {
    "duration": 18,
    "start_time": "2022-08-12T03:52:19.908Z"
   },
   {
    "duration": 10,
    "start_time": "2022-08-12T03:52:19.928Z"
   },
   {
    "duration": 7,
    "start_time": "2022-08-12T03:52:19.939Z"
   },
   {
    "duration": 13,
    "start_time": "2022-08-12T03:52:19.947Z"
   },
   {
    "duration": 4,
    "start_time": "2022-08-12T03:52:19.962Z"
   },
   {
    "duration": 39,
    "start_time": "2022-08-12T03:52:19.967Z"
   },
   {
    "duration": 15,
    "start_time": "2022-08-12T03:52:20.007Z"
   },
   {
    "duration": 25,
    "start_time": "2022-08-12T03:52:20.024Z"
   },
   {
    "duration": 19,
    "start_time": "2022-08-12T03:52:20.052Z"
   },
   {
    "duration": 30,
    "start_time": "2022-08-12T03:52:20.073Z"
   },
   {
    "duration": 33,
    "start_time": "2022-08-12T03:52:20.104Z"
   },
   {
    "duration": 3,
    "start_time": "2022-08-12T03:52:20.139Z"
   },
   {
    "duration": 8,
    "start_time": "2022-08-12T03:52:20.143Z"
   },
   {
    "duration": 24,
    "start_time": "2022-08-12T03:52:20.152Z"
   },
   {
    "duration": 2,
    "start_time": "2022-08-12T03:52:20.179Z"
   },
   {
    "duration": 6,
    "start_time": "2022-08-12T03:52:20.200Z"
   }
  ],
  "colab": {
   "collapsed_sections": [
    "E0vqbgi9ay0H",
    "VUC88oWjTJw2",
    "atZAxtq4_Zcu"
   ],
   "name": "EmptyFinalProject.ipynb\"",
   "provenance": []
  },
  "kernelspec": {
   "display_name": "Python 3 (ipykernel)",
   "language": "python",
   "name": "python3"
  },
  "language_info": {
   "codemirror_mode": {
    "name": "ipython",
    "version": 3
   },
   "file_extension": ".py",
   "mimetype": "text/x-python",
   "name": "python",
   "nbconvert_exporter": "python",
   "pygments_lexer": "ipython3",
   "version": "3.9.5"
  },
  "toc": {
   "base_numbering": 1,
   "nav_menu": {},
   "number_sections": true,
   "sideBar": true,
   "skip_h1_title": true,
   "title_cell": "Table of Contents",
   "title_sidebar": "Contents",
   "toc_cell": false,
   "toc_position": {},
   "toc_section_display": true,
   "toc_window_display": false
  }
 },
 "nbformat": 4,
 "nbformat_minor": 4
}
