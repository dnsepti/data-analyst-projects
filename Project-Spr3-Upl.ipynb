{
  "cells": [
    {
      "cell_type": "markdown",
      "metadata": {
        "id": "CkQAGt2tUBq4"
      },
      "source": [
        "# Faktor Apakah yang Menjual Sebuah Mobil?\n",
        "\n",
        "Anda adalah seorang analis di Crankshaft List. Ratusan iklan kendaraan gratis ditayangkan di situs web Anda setiap hari. Anda perlu mempelajari kumpulan data selama beberapa tahun terakhir dan menentukan faktor-faktor yang memengaruhi harga sebuah kendaraan."
      ]
    },
    {
      "cell_type": "markdown",
      "metadata": {
        "id": "pufrXsggUBq4"
      },
      "source": [
        "Kami akan mempelajari kumpulan data selama beberapa tahun terakhir dan menentukan faktor-faktor yang memengaruhi harga sebuah kendaraan. Dimulai dari melakukan explorasi data, mengatasi nilai-nilai yang hilang, memeriksa dan memperbaiki tipe data yang tidak sesuai (jika ada), menghapus duplikat data (jika ada), memeriksa dan menangani outlier sampai dengan menganalisis data menggunakan histogram serta membuat kesimpulan akhir."
      ]
    },
    {
      "cell_type": "markdown",
      "metadata": {
        "id": "twPLIvuKUBq5"
      },
      "source": [
        "## Pra-pemrosesan"
      ]
    },
    {
      "cell_type": "code",
      "execution_count": 1,
      "metadata": {
        "id": "sRJ3SJYWUBq5"
      },
      "outputs": [],
      "source": [
        "# Muat semua library\n",
        "import pandas as pd\n",
        "import matplotlib.pyplot as plt\n",
        "import seaborn as sns"
      ]
    },
    {
      "cell_type": "markdown",
      "metadata": {
        "id": "oLCSH-MvUBq6"
      },
      "source": [
        "### Memuat Data"
      ]
    },
    {
      "cell_type": "code",
      "execution_count": 2,
      "metadata": {
        "id": "vrWOnKlEUBq6"
      },
      "outputs": [],
      "source": [
        "# Muat file data menjadi DataFrame\n",
        "\n",
        "data = pd.read_csv('vehicles_us.csv') "
      ]
    },
    {
      "cell_type": "markdown",
      "metadata": {
        "id": "5MT0FYv3UBq6"
      },
      "source": [
        "### Mengeksplorasi Data Awal"
      ]
    },
    {
      "cell_type": "markdown",
      "metadata": {
        "id": "gKvM_VnDUBq6"
      },
      "source": [
        "*Dataset* Anda berisi kolom-kolom berikut: \n",
        "\n",
        "\n",
        "- `price`\n",
        "- `model_year`\n",
        "- `model`\n",
        "- `condition`\n",
        "- `cylinders`\n",
        "- `fuel` — gas, disel, dan lain-lain.\n",
        "- `odometer` — jarak tempuh kendaraan saat iklan ditayangkan \n",
        "- `transmission`\n",
        "- `paint_color`\n",
        "- `is_4wd` — apakah kendaraan memiliki penggerak 4 roda (tipe Boolean)\n",
        "- `date_posted` — tanggal iklan ditayangkan\n",
        "- `days_listed` — jumlah hari iklan ditayangkan hingga dihapus"
      ]
    },
    {
      "cell_type": "code",
      "execution_count": 3,
      "metadata": {
        "scrolled": false,
        "colab": {
          "base_uri": "https://localhost:8080/"
        },
        "id": "Z1o45VUBUBq7",
        "outputId": "229be519-4525-4f14-c98c-f2eb1aee9fc6"
      },
      "outputs": [
        {
          "output_type": "stream",
          "name": "stdout",
          "text": [
            "<class 'pandas.core.frame.DataFrame'>\n",
            "RangeIndex: 51525 entries, 0 to 51524\n",
            "Data columns (total 13 columns):\n",
            " #   Column        Non-Null Count  Dtype  \n",
            "---  ------        --------------  -----  \n",
            " 0   price         51525 non-null  int64  \n",
            " 1   model_year    47906 non-null  float64\n",
            " 2   model         51525 non-null  object \n",
            " 3   condition     51525 non-null  object \n",
            " 4   cylinders     46265 non-null  float64\n",
            " 5   fuel          51525 non-null  object \n",
            " 6   odometer      43633 non-null  float64\n",
            " 7   transmission  51525 non-null  object \n",
            " 8   type          51525 non-null  object \n",
            " 9   paint_color   42258 non-null  object \n",
            " 10  is_4wd        25572 non-null  float64\n",
            " 11  date_posted   51525 non-null  object \n",
            " 12  days_listed   51525 non-null  int64  \n",
            "dtypes: float64(4), int64(2), object(7)\n",
            "memory usage: 5.1+ MB\n"
          ]
        }
      ],
      "source": [
        "# tampilkan informasi/rangkuman umum tentang DataFrame\n",
        "\n",
        "data.info()"
      ]
    },
    {
      "cell_type": "code",
      "execution_count": 4,
      "metadata": {
        "colab": {
          "base_uri": "https://localhost:8080/",
          "height": 300
        },
        "id": "JQXglzZjUBq7",
        "outputId": "3d0df9e4-ec68-4ceb-a540-bc8e82bbccf8"
      },
      "outputs": [
        {
          "output_type": "execute_result",
          "data": {
            "text/plain": [
              "               price    model_year     cylinders       odometer   is_4wd  \\\n",
              "count   51525.000000  47906.000000  46265.000000   43633.000000  25572.0   \n",
              "mean    12132.464920   2009.750470      6.125235  115553.461738      1.0   \n",
              "std     10040.803015      6.282065      1.660360   65094.611341      0.0   \n",
              "min         1.000000   1908.000000      3.000000       0.000000      1.0   \n",
              "25%      5000.000000   2006.000000      4.000000   70000.000000      1.0   \n",
              "50%      9000.000000   2011.000000      6.000000  113000.000000      1.0   \n",
              "75%     16839.000000   2014.000000      8.000000  155000.000000      1.0   \n",
              "max    375000.000000   2019.000000     12.000000  990000.000000      1.0   \n",
              "\n",
              "       days_listed  \n",
              "count  51525.00000  \n",
              "mean      39.55476  \n",
              "std       28.20427  \n",
              "min        0.00000  \n",
              "25%       19.00000  \n",
              "50%       33.00000  \n",
              "75%       53.00000  \n",
              "max      271.00000  "
            ],
            "text/html": [
              "\n",
              "  <div id=\"df-9d6d0bea-6ada-484d-a09d-db83de399841\">\n",
              "    <div class=\"colab-df-container\">\n",
              "      <div>\n",
              "<style scoped>\n",
              "    .dataframe tbody tr th:only-of-type {\n",
              "        vertical-align: middle;\n",
              "    }\n",
              "\n",
              "    .dataframe tbody tr th {\n",
              "        vertical-align: top;\n",
              "    }\n",
              "\n",
              "    .dataframe thead th {\n",
              "        text-align: right;\n",
              "    }\n",
              "</style>\n",
              "<table border=\"1\" class=\"dataframe\">\n",
              "  <thead>\n",
              "    <tr style=\"text-align: right;\">\n",
              "      <th></th>\n",
              "      <th>price</th>\n",
              "      <th>model_year</th>\n",
              "      <th>cylinders</th>\n",
              "      <th>odometer</th>\n",
              "      <th>is_4wd</th>\n",
              "      <th>days_listed</th>\n",
              "    </tr>\n",
              "  </thead>\n",
              "  <tbody>\n",
              "    <tr>\n",
              "      <th>count</th>\n",
              "      <td>51525.000000</td>\n",
              "      <td>47906.000000</td>\n",
              "      <td>46265.000000</td>\n",
              "      <td>43633.000000</td>\n",
              "      <td>25572.0</td>\n",
              "      <td>51525.00000</td>\n",
              "    </tr>\n",
              "    <tr>\n",
              "      <th>mean</th>\n",
              "      <td>12132.464920</td>\n",
              "      <td>2009.750470</td>\n",
              "      <td>6.125235</td>\n",
              "      <td>115553.461738</td>\n",
              "      <td>1.0</td>\n",
              "      <td>39.55476</td>\n",
              "    </tr>\n",
              "    <tr>\n",
              "      <th>std</th>\n",
              "      <td>10040.803015</td>\n",
              "      <td>6.282065</td>\n",
              "      <td>1.660360</td>\n",
              "      <td>65094.611341</td>\n",
              "      <td>0.0</td>\n",
              "      <td>28.20427</td>\n",
              "    </tr>\n",
              "    <tr>\n",
              "      <th>min</th>\n",
              "      <td>1.000000</td>\n",
              "      <td>1908.000000</td>\n",
              "      <td>3.000000</td>\n",
              "      <td>0.000000</td>\n",
              "      <td>1.0</td>\n",
              "      <td>0.00000</td>\n",
              "    </tr>\n",
              "    <tr>\n",
              "      <th>25%</th>\n",
              "      <td>5000.000000</td>\n",
              "      <td>2006.000000</td>\n",
              "      <td>4.000000</td>\n",
              "      <td>70000.000000</td>\n",
              "      <td>1.0</td>\n",
              "      <td>19.00000</td>\n",
              "    </tr>\n",
              "    <tr>\n",
              "      <th>50%</th>\n",
              "      <td>9000.000000</td>\n",
              "      <td>2011.000000</td>\n",
              "      <td>6.000000</td>\n",
              "      <td>113000.000000</td>\n",
              "      <td>1.0</td>\n",
              "      <td>33.00000</td>\n",
              "    </tr>\n",
              "    <tr>\n",
              "      <th>75%</th>\n",
              "      <td>16839.000000</td>\n",
              "      <td>2014.000000</td>\n",
              "      <td>8.000000</td>\n",
              "      <td>155000.000000</td>\n",
              "      <td>1.0</td>\n",
              "      <td>53.00000</td>\n",
              "    </tr>\n",
              "    <tr>\n",
              "      <th>max</th>\n",
              "      <td>375000.000000</td>\n",
              "      <td>2019.000000</td>\n",
              "      <td>12.000000</td>\n",
              "      <td>990000.000000</td>\n",
              "      <td>1.0</td>\n",
              "      <td>271.00000</td>\n",
              "    </tr>\n",
              "  </tbody>\n",
              "</table>\n",
              "</div>\n",
              "      <button class=\"colab-df-convert\" onclick=\"convertToInteractive('df-9d6d0bea-6ada-484d-a09d-db83de399841')\"\n",
              "              title=\"Convert this dataframe to an interactive table.\"\n",
              "              style=\"display:none;\">\n",
              "        \n",
              "  <svg xmlns=\"http://www.w3.org/2000/svg\" height=\"24px\"viewBox=\"0 0 24 24\"\n",
              "       width=\"24px\">\n",
              "    <path d=\"M0 0h24v24H0V0z\" fill=\"none\"/>\n",
              "    <path d=\"M18.56 5.44l.94 2.06.94-2.06 2.06-.94-2.06-.94-.94-2.06-.94 2.06-2.06.94zm-11 1L8.5 8.5l.94-2.06 2.06-.94-2.06-.94L8.5 2.5l-.94 2.06-2.06.94zm10 10l.94 2.06.94-2.06 2.06-.94-2.06-.94-.94-2.06-.94 2.06-2.06.94z\"/><path d=\"M17.41 7.96l-1.37-1.37c-.4-.4-.92-.59-1.43-.59-.52 0-1.04.2-1.43.59L10.3 9.45l-7.72 7.72c-.78.78-.78 2.05 0 2.83L4 21.41c.39.39.9.59 1.41.59.51 0 1.02-.2 1.41-.59l7.78-7.78 2.81-2.81c.8-.78.8-2.07 0-2.86zM5.41 20L4 18.59l7.72-7.72 1.47 1.35L5.41 20z\"/>\n",
              "  </svg>\n",
              "      </button>\n",
              "      \n",
              "  <style>\n",
              "    .colab-df-container {\n",
              "      display:flex;\n",
              "      flex-wrap:wrap;\n",
              "      gap: 12px;\n",
              "    }\n",
              "\n",
              "    .colab-df-convert {\n",
              "      background-color: #E8F0FE;\n",
              "      border: none;\n",
              "      border-radius: 50%;\n",
              "      cursor: pointer;\n",
              "      display: none;\n",
              "      fill: #1967D2;\n",
              "      height: 32px;\n",
              "      padding: 0 0 0 0;\n",
              "      width: 32px;\n",
              "    }\n",
              "\n",
              "    .colab-df-convert:hover {\n",
              "      background-color: #E2EBFA;\n",
              "      box-shadow: 0px 1px 2px rgba(60, 64, 67, 0.3), 0px 1px 3px 1px rgba(60, 64, 67, 0.15);\n",
              "      fill: #174EA6;\n",
              "    }\n",
              "\n",
              "    [theme=dark] .colab-df-convert {\n",
              "      background-color: #3B4455;\n",
              "      fill: #D2E3FC;\n",
              "    }\n",
              "\n",
              "    [theme=dark] .colab-df-convert:hover {\n",
              "      background-color: #434B5C;\n",
              "      box-shadow: 0px 1px 3px 1px rgba(0, 0, 0, 0.15);\n",
              "      filter: drop-shadow(0px 1px 2px rgba(0, 0, 0, 0.3));\n",
              "      fill: #FFFFFF;\n",
              "    }\n",
              "  </style>\n",
              "\n",
              "      <script>\n",
              "        const buttonEl =\n",
              "          document.querySelector('#df-9d6d0bea-6ada-484d-a09d-db83de399841 button.colab-df-convert');\n",
              "        buttonEl.style.display =\n",
              "          google.colab.kernel.accessAllowed ? 'block' : 'none';\n",
              "\n",
              "        async function convertToInteractive(key) {\n",
              "          const element = document.querySelector('#df-9d6d0bea-6ada-484d-a09d-db83de399841');\n",
              "          const dataTable =\n",
              "            await google.colab.kernel.invokeFunction('convertToInteractive',\n",
              "                                                     [key], {});\n",
              "          if (!dataTable) return;\n",
              "\n",
              "          const docLinkHtml = 'Like what you see? Visit the ' +\n",
              "            '<a target=\"_blank\" href=https://colab.research.google.com/notebooks/data_table.ipynb>data table notebook</a>'\n",
              "            + ' to learn more about interactive tables.';\n",
              "          element.innerHTML = '';\n",
              "          dataTable['output_type'] = 'display_data';\n",
              "          await google.colab.output.renderOutput(dataTable, element);\n",
              "          const docLink = document.createElement('div');\n",
              "          docLink.innerHTML = docLinkHtml;\n",
              "          element.appendChild(docLink);\n",
              "        }\n",
              "      </script>\n",
              "    </div>\n",
              "  </div>\n",
              "  "
            ]
          },
          "metadata": {},
          "execution_count": 4
        }
      ],
      "source": [
        "# tampilkan informasi/rangkuman umum tentang DataFrame\n",
        "\n",
        "data.describe()"
      ]
    },
    {
      "cell_type": "code",
      "execution_count": 5,
      "metadata": {
        "scrolled": false,
        "colab": {
          "base_uri": "https://localhost:8080/",
          "height": 644
        },
        "id": "zuQSbopsUBq8",
        "outputId": "27ac6ad2-cc87-4ffd-f0f6-a57c05c92236"
      },
      "outputs": [
        {
          "output_type": "execute_result",
          "data": {
            "text/plain": [
              "       price  model_year                     model  condition  cylinders  \\\n",
              "35840   4800      2007.0          volkswagen jetta  excellent        5.0   \n",
              "26789  26999      2018.0       chevrolet silverado   like new        8.0   \n",
              "28840  13990      2015.0              honda accord   like new        4.0   \n",
              "17353   4995      2014.0          volkswagen jetta       good        4.0   \n",
              "47431   8200      2002.0      ford f350 super duty       good        8.0   \n",
              "...      ...         ...                       ...        ...        ...   \n",
              "15349  13995      1998.0        chevrolet corvette       good        8.0   \n",
              "5666   20995      2014.0  chevrolet silverado 1500  excellent        8.0   \n",
              "7512   12995         NaN              ford mustang       good        6.0   \n",
              "23443  10500      2011.0                    bmw x5  excellent        6.0   \n",
              "35634   3900      2007.0               honda pilot       good        6.0   \n",
              "\n",
              "         fuel  odometer transmission         type paint_color  is_4wd  \\\n",
              "35840     gas  172800.0    automatic        sedan      silver     NaN   \n",
              "26789     gas    7701.0    automatic       pickup        grey     1.0   \n",
              "28840     gas   26400.0    automatic        sedan      silver     NaN   \n",
              "17353     gas       NaN    automatic        sedan         red     NaN   \n",
              "47431  diesel  200000.0    automatic       pickup         NaN     1.0   \n",
              "...       ...       ...          ...          ...         ...     ...   \n",
              "15349     gas   53462.0    automatic        coupe      silver     NaN   \n",
              "5666      gas  183255.0    automatic       pickup       white     1.0   \n",
              "7512      gas       NaN    automatic  convertible         NaN     NaN   \n",
              "23443  diesel     122.0    automatic          SUV         NaN     1.0   \n",
              "35634     gas  234013.0    automatic          SUV        grey     1.0   \n",
              "\n",
              "      date_posted  days_listed  \n",
              "35840  2018-07-05            9  \n",
              "26789  2018-10-06           37  \n",
              "28840  2018-12-02           34  \n",
              "17353  2018-05-05           44  \n",
              "47431  2018-12-15            1  \n",
              "...           ...          ...  \n",
              "15349  2018-11-07           52  \n",
              "5666   2019-01-07           11  \n",
              "7512   2018-10-08           57  \n",
              "23443  2018-07-25           27  \n",
              "35634  2018-08-15           33  \n",
              "\n",
              "[5152 rows x 13 columns]"
            ],
            "text/html": [
              "\n",
              "  <div id=\"df-0bc01d95-e10e-4c2f-bec8-71321ef722fd\">\n",
              "    <div class=\"colab-df-container\">\n",
              "      <div>\n",
              "<style scoped>\n",
              "    .dataframe tbody tr th:only-of-type {\n",
              "        vertical-align: middle;\n",
              "    }\n",
              "\n",
              "    .dataframe tbody tr th {\n",
              "        vertical-align: top;\n",
              "    }\n",
              "\n",
              "    .dataframe thead th {\n",
              "        text-align: right;\n",
              "    }\n",
              "</style>\n",
              "<table border=\"1\" class=\"dataframe\">\n",
              "  <thead>\n",
              "    <tr style=\"text-align: right;\">\n",
              "      <th></th>\n",
              "      <th>price</th>\n",
              "      <th>model_year</th>\n",
              "      <th>model</th>\n",
              "      <th>condition</th>\n",
              "      <th>cylinders</th>\n",
              "      <th>fuel</th>\n",
              "      <th>odometer</th>\n",
              "      <th>transmission</th>\n",
              "      <th>type</th>\n",
              "      <th>paint_color</th>\n",
              "      <th>is_4wd</th>\n",
              "      <th>date_posted</th>\n",
              "      <th>days_listed</th>\n",
              "    </tr>\n",
              "  </thead>\n",
              "  <tbody>\n",
              "    <tr>\n",
              "      <th>35840</th>\n",
              "      <td>4800</td>\n",
              "      <td>2007.0</td>\n",
              "      <td>volkswagen jetta</td>\n",
              "      <td>excellent</td>\n",
              "      <td>5.0</td>\n",
              "      <td>gas</td>\n",
              "      <td>172800.0</td>\n",
              "      <td>automatic</td>\n",
              "      <td>sedan</td>\n",
              "      <td>silver</td>\n",
              "      <td>NaN</td>\n",
              "      <td>2018-07-05</td>\n",
              "      <td>9</td>\n",
              "    </tr>\n",
              "    <tr>\n",
              "      <th>26789</th>\n",
              "      <td>26999</td>\n",
              "      <td>2018.0</td>\n",
              "      <td>chevrolet silverado</td>\n",
              "      <td>like new</td>\n",
              "      <td>8.0</td>\n",
              "      <td>gas</td>\n",
              "      <td>7701.0</td>\n",
              "      <td>automatic</td>\n",
              "      <td>pickup</td>\n",
              "      <td>grey</td>\n",
              "      <td>1.0</td>\n",
              "      <td>2018-10-06</td>\n",
              "      <td>37</td>\n",
              "    </tr>\n",
              "    <tr>\n",
              "      <th>28840</th>\n",
              "      <td>13990</td>\n",
              "      <td>2015.0</td>\n",
              "      <td>honda accord</td>\n",
              "      <td>like new</td>\n",
              "      <td>4.0</td>\n",
              "      <td>gas</td>\n",
              "      <td>26400.0</td>\n",
              "      <td>automatic</td>\n",
              "      <td>sedan</td>\n",
              "      <td>silver</td>\n",
              "      <td>NaN</td>\n",
              "      <td>2018-12-02</td>\n",
              "      <td>34</td>\n",
              "    </tr>\n",
              "    <tr>\n",
              "      <th>17353</th>\n",
              "      <td>4995</td>\n",
              "      <td>2014.0</td>\n",
              "      <td>volkswagen jetta</td>\n",
              "      <td>good</td>\n",
              "      <td>4.0</td>\n",
              "      <td>gas</td>\n",
              "      <td>NaN</td>\n",
              "      <td>automatic</td>\n",
              "      <td>sedan</td>\n",
              "      <td>red</td>\n",
              "      <td>NaN</td>\n",
              "      <td>2018-05-05</td>\n",
              "      <td>44</td>\n",
              "    </tr>\n",
              "    <tr>\n",
              "      <th>47431</th>\n",
              "      <td>8200</td>\n",
              "      <td>2002.0</td>\n",
              "      <td>ford f350 super duty</td>\n",
              "      <td>good</td>\n",
              "      <td>8.0</td>\n",
              "      <td>diesel</td>\n",
              "      <td>200000.0</td>\n",
              "      <td>automatic</td>\n",
              "      <td>pickup</td>\n",
              "      <td>NaN</td>\n",
              "      <td>1.0</td>\n",
              "      <td>2018-12-15</td>\n",
              "      <td>1</td>\n",
              "    </tr>\n",
              "    <tr>\n",
              "      <th>...</th>\n",
              "      <td>...</td>\n",
              "      <td>...</td>\n",
              "      <td>...</td>\n",
              "      <td>...</td>\n",
              "      <td>...</td>\n",
              "      <td>...</td>\n",
              "      <td>...</td>\n",
              "      <td>...</td>\n",
              "      <td>...</td>\n",
              "      <td>...</td>\n",
              "      <td>...</td>\n",
              "      <td>...</td>\n",
              "      <td>...</td>\n",
              "    </tr>\n",
              "    <tr>\n",
              "      <th>15349</th>\n",
              "      <td>13995</td>\n",
              "      <td>1998.0</td>\n",
              "      <td>chevrolet corvette</td>\n",
              "      <td>good</td>\n",
              "      <td>8.0</td>\n",
              "      <td>gas</td>\n",
              "      <td>53462.0</td>\n",
              "      <td>automatic</td>\n",
              "      <td>coupe</td>\n",
              "      <td>silver</td>\n",
              "      <td>NaN</td>\n",
              "      <td>2018-11-07</td>\n",
              "      <td>52</td>\n",
              "    </tr>\n",
              "    <tr>\n",
              "      <th>5666</th>\n",
              "      <td>20995</td>\n",
              "      <td>2014.0</td>\n",
              "      <td>chevrolet silverado 1500</td>\n",
              "      <td>excellent</td>\n",
              "      <td>8.0</td>\n",
              "      <td>gas</td>\n",
              "      <td>183255.0</td>\n",
              "      <td>automatic</td>\n",
              "      <td>pickup</td>\n",
              "      <td>white</td>\n",
              "      <td>1.0</td>\n",
              "      <td>2019-01-07</td>\n",
              "      <td>11</td>\n",
              "    </tr>\n",
              "    <tr>\n",
              "      <th>7512</th>\n",
              "      <td>12995</td>\n",
              "      <td>NaN</td>\n",
              "      <td>ford mustang</td>\n",
              "      <td>good</td>\n",
              "      <td>6.0</td>\n",
              "      <td>gas</td>\n",
              "      <td>NaN</td>\n",
              "      <td>automatic</td>\n",
              "      <td>convertible</td>\n",
              "      <td>NaN</td>\n",
              "      <td>NaN</td>\n",
              "      <td>2018-10-08</td>\n",
              "      <td>57</td>\n",
              "    </tr>\n",
              "    <tr>\n",
              "      <th>23443</th>\n",
              "      <td>10500</td>\n",
              "      <td>2011.0</td>\n",
              "      <td>bmw x5</td>\n",
              "      <td>excellent</td>\n",
              "      <td>6.0</td>\n",
              "      <td>diesel</td>\n",
              "      <td>122.0</td>\n",
              "      <td>automatic</td>\n",
              "      <td>SUV</td>\n",
              "      <td>NaN</td>\n",
              "      <td>1.0</td>\n",
              "      <td>2018-07-25</td>\n",
              "      <td>27</td>\n",
              "    </tr>\n",
              "    <tr>\n",
              "      <th>35634</th>\n",
              "      <td>3900</td>\n",
              "      <td>2007.0</td>\n",
              "      <td>honda pilot</td>\n",
              "      <td>good</td>\n",
              "      <td>6.0</td>\n",
              "      <td>gas</td>\n",
              "      <td>234013.0</td>\n",
              "      <td>automatic</td>\n",
              "      <td>SUV</td>\n",
              "      <td>grey</td>\n",
              "      <td>1.0</td>\n",
              "      <td>2018-08-15</td>\n",
              "      <td>33</td>\n",
              "    </tr>\n",
              "  </tbody>\n",
              "</table>\n",
              "<p>5152 rows × 13 columns</p>\n",
              "</div>\n",
              "      <button class=\"colab-df-convert\" onclick=\"convertToInteractive('df-0bc01d95-e10e-4c2f-bec8-71321ef722fd')\"\n",
              "              title=\"Convert this dataframe to an interactive table.\"\n",
              "              style=\"display:none;\">\n",
              "        \n",
              "  <svg xmlns=\"http://www.w3.org/2000/svg\" height=\"24px\"viewBox=\"0 0 24 24\"\n",
              "       width=\"24px\">\n",
              "    <path d=\"M0 0h24v24H0V0z\" fill=\"none\"/>\n",
              "    <path d=\"M18.56 5.44l.94 2.06.94-2.06 2.06-.94-2.06-.94-.94-2.06-.94 2.06-2.06.94zm-11 1L8.5 8.5l.94-2.06 2.06-.94-2.06-.94L8.5 2.5l-.94 2.06-2.06.94zm10 10l.94 2.06.94-2.06 2.06-.94-2.06-.94-.94-2.06-.94 2.06-2.06.94z\"/><path d=\"M17.41 7.96l-1.37-1.37c-.4-.4-.92-.59-1.43-.59-.52 0-1.04.2-1.43.59L10.3 9.45l-7.72 7.72c-.78.78-.78 2.05 0 2.83L4 21.41c.39.39.9.59 1.41.59.51 0 1.02-.2 1.41-.59l7.78-7.78 2.81-2.81c.8-.78.8-2.07 0-2.86zM5.41 20L4 18.59l7.72-7.72 1.47 1.35L5.41 20z\"/>\n",
              "  </svg>\n",
              "      </button>\n",
              "      \n",
              "  <style>\n",
              "    .colab-df-container {\n",
              "      display:flex;\n",
              "      flex-wrap:wrap;\n",
              "      gap: 12px;\n",
              "    }\n",
              "\n",
              "    .colab-df-convert {\n",
              "      background-color: #E8F0FE;\n",
              "      border: none;\n",
              "      border-radius: 50%;\n",
              "      cursor: pointer;\n",
              "      display: none;\n",
              "      fill: #1967D2;\n",
              "      height: 32px;\n",
              "      padding: 0 0 0 0;\n",
              "      width: 32px;\n",
              "    }\n",
              "\n",
              "    .colab-df-convert:hover {\n",
              "      background-color: #E2EBFA;\n",
              "      box-shadow: 0px 1px 2px rgba(60, 64, 67, 0.3), 0px 1px 3px 1px rgba(60, 64, 67, 0.15);\n",
              "      fill: #174EA6;\n",
              "    }\n",
              "\n",
              "    [theme=dark] .colab-df-convert {\n",
              "      background-color: #3B4455;\n",
              "      fill: #D2E3FC;\n",
              "    }\n",
              "\n",
              "    [theme=dark] .colab-df-convert:hover {\n",
              "      background-color: #434B5C;\n",
              "      box-shadow: 0px 1px 3px 1px rgba(0, 0, 0, 0.15);\n",
              "      filter: drop-shadow(0px 1px 2px rgba(0, 0, 0, 0.3));\n",
              "      fill: #FFFFFF;\n",
              "    }\n",
              "  </style>\n",
              "\n",
              "      <script>\n",
              "        const buttonEl =\n",
              "          document.querySelector('#df-0bc01d95-e10e-4c2f-bec8-71321ef722fd button.colab-df-convert');\n",
              "        buttonEl.style.display =\n",
              "          google.colab.kernel.accessAllowed ? 'block' : 'none';\n",
              "\n",
              "        async function convertToInteractive(key) {\n",
              "          const element = document.querySelector('#df-0bc01d95-e10e-4c2f-bec8-71321ef722fd');\n",
              "          const dataTable =\n",
              "            await google.colab.kernel.invokeFunction('convertToInteractive',\n",
              "                                                     [key], {});\n",
              "          if (!dataTable) return;\n",
              "\n",
              "          const docLinkHtml = 'Like what you see? Visit the ' +\n",
              "            '<a target=\"_blank\" href=https://colab.research.google.com/notebooks/data_table.ipynb>data table notebook</a>'\n",
              "            + ' to learn more about interactive tables.';\n",
              "          element.innerHTML = '';\n",
              "          dataTable['output_type'] = 'display_data';\n",
              "          await google.colab.output.renderOutput(dataTable, element);\n",
              "          const docLink = document.createElement('div');\n",
              "          docLink.innerHTML = docLinkHtml;\n",
              "          element.appendChild(docLink);\n",
              "        }\n",
              "      </script>\n",
              "    </div>\n",
              "  </div>\n",
              "  "
            ]
          },
          "metadata": {},
          "execution_count": 5
        }
      ],
      "source": [
        "# tampilkan sampel data\n",
        "data.sample(frac=0.1)"
      ]
    },
    {
      "cell_type": "markdown",
      "metadata": {
        "id": "SNrAJjP-UBq8"
      },
      "source": [
        "Dari informasi umum kita mengetahui bahwa:\n",
        "1. Mobil tertua yang diposting di web adalah tahun 1908 dan yang termuda adalah 2019.\n",
        "2. Terdapat missing value pada 5 kolom (model_year, cylinders, odometer, paint_color, & is_4wd) dengan persentase mulai dari 7% sampai dengan 50% terhadap keseluruhan data.\n",
        "3. Kolom date_posted tidak sesuai dengan yang seharusnya, karena menunjukkan waktu.\n",
        "4. Nilai mean, median, dan max pada kolom price terlalu jauh (variance 30%), mengindikasikan adanya data outlier, begitu pula dengan kolom days_listed.\n",
        "5. Kolom is_4wd merupakan nilai Boolean, kita perlu mengisi kolom yang hilang menjadi False, karena kita berasumsi bahwa yang tidak terisi merupakan kendaraan yang tidak memiliki penggerak 4 roda."
      ]
    },
    {
      "cell_type": "code",
      "execution_count": 6,
      "metadata": {
        "scrolled": false,
        "colab": {
          "base_uri": "https://localhost:8080/"
        },
        "id": "CvsVhMnQUBq8",
        "outputId": "45bde275-d15f-4ad1-a2f4-b37bfc2e3bfe"
      },
      "outputs": [
        {
          "output_type": "execute_result",
          "data": {
            "text/plain": [
              "price            0.000000\n",
              "model_year       7.023775\n",
              "model            0.000000\n",
              "condition        0.000000\n",
              "cylinders       10.208637\n",
              "fuel             0.000000\n",
              "odometer        15.316836\n",
              "transmission     0.000000\n",
              "type             0.000000\n",
              "paint_color     17.985444\n",
              "is_4wd          50.369723\n",
              "date_posted      0.000000\n",
              "days_listed      0.000000\n",
              "dtype: float64"
            ]
          },
          "metadata": {},
          "execution_count": 6
        }
      ],
      "source": [
        "# Distribusi masing-masing missing value terhadap keseluruhan data\n",
        "\n",
        "data.isna().sum() / len(data) * 100"
      ]
    },
    {
      "cell_type": "markdown",
      "metadata": {
        "id": "tIbc_Y2lUBq8"
      },
      "source": [
        "Terdapat kolom dengan tipe data yang tidak sesuai, yaitu date_posted yang seharusnya bertipe datetime."
      ]
    },
    {
      "cell_type": "code",
      "execution_count": 7,
      "metadata": {
        "colab": {
          "base_uri": "https://localhost:8080/"
        },
        "id": "0jp2lBsvUBq8",
        "outputId": "dc572e2f-f0e6-4729-d646-d30bcf30e068"
      },
      "outputs": [
        {
          "output_type": "execute_result",
          "data": {
            "text/plain": [
              "count          51525\n",
              "unique           354\n",
              "top       2019-03-17\n",
              "freq             186\n",
              "Name: date_posted, dtype: object"
            ]
          },
          "metadata": {},
          "execution_count": 7
        }
      ],
      "source": [
        "# melihat distribusi dan tipe data pada kolom date_posted\n",
        "\n",
        "data['date_posted'].describe()"
      ]
    },
    {
      "cell_type": "markdown",
      "metadata": {
        "id": "6p5W52qOUBq9"
      },
      "source": [
        "Terdapat nilai hilang pada 5 kolom, dimana kolom is_4wd yang paling banyak nilai hilangnya (50% dari keseluruhan data). Karena kolom is_4wd adalah tipe Boolean maka asumsinya nilai yang hilang adalah untuk nilai False."
      ]
    },
    {
      "cell_type": "code",
      "execution_count": 8,
      "metadata": {
        "colab": {
          "base_uri": "https://localhost:8080/"
        },
        "id": "h26SNbXUUBq9",
        "outputId": "7b608ea3-10cc-4b2c-a947-42a4e321bfb4"
      },
      "outputs": [
        {
          "output_type": "execute_result",
          "data": {
            "text/plain": [
              "price            0.000000\n",
              "model_year       7.023775\n",
              "model            0.000000\n",
              "condition        0.000000\n",
              "cylinders       10.208637\n",
              "fuel             0.000000\n",
              "odometer        15.316836\n",
              "transmission     0.000000\n",
              "type             0.000000\n",
              "paint_color     17.985444\n",
              "is_4wd          50.369723\n",
              "date_posted      0.000000\n",
              "days_listed      0.000000\n",
              "dtype: float64"
            ]
          },
          "metadata": {},
          "execution_count": 8
        }
      ],
      "source": [
        "# Persentase nilai hilang terhadap keseluruhan data\n",
        "\n",
        "data.isna().sum() / len(data) * 100"
      ]
    },
    {
      "cell_type": "markdown",
      "metadata": {
        "id": "B8_ACCCSUBq9"
      },
      "source": [
        "### Kesimpulan dan Langkah-Langkah Selanjutnya\n",
        "\n",
        "\n",
        "Sejauh ini data masih terlihat normal meskipun kita memiliki data mean, median, dan max yang variannya berjauhan, sehingga kita bisa mengira bahwa terdapat banyak outlier. Namun, mengingat ini adalah situs web yang dapat diakses umum oleh siapapun, sehingga dirasa hal ini wajar.\n",
        "Langkah-langkah selanjutnya untuk menangani data yang bermasalah, diantaranya:\n",
        "1. Kolom is_4wd bertipe Boolean sehingga untuk nilai yang hilang akan diganti dengan False (asumsi kita, nilai yang hilang adalah kendaraan tanpa penggerak 4 roda.\n",
        "2. Mengecek nilai yang hilang pada ke-empat kolom lainnya auntuk menentukan akan diganti dengan nilai apa (tergantung hasil pengecekan).  \n",
        "2. Kolom days_posted akan diganti menjadi tipe datetime.\n",
        "3. Condition akan ditambahkan kolom skala numerik untuk memudahkan analisis."
      ]
    },
    {
      "cell_type": "code",
      "execution_count": 9,
      "metadata": {
        "colab": {
          "base_uri": "https://localhost:8080/"
        },
        "id": "qMiMUe8QUBq9",
        "outputId": "56f8ad5a-1deb-4baa-acdc-8b35d4886255"
      },
      "outputs": [
        {
          "output_type": "stream",
          "name": "stdout",
          "text": [
            "<class 'pandas.core.frame.DataFrame'>\n",
            "RangeIndex: 51525 entries, 0 to 51524\n",
            "Data columns (total 13 columns):\n",
            " #   Column        Non-Null Count  Dtype  \n",
            "---  ------        --------------  -----  \n",
            " 0   price         51525 non-null  int64  \n",
            " 1   model_year    47906 non-null  float64\n",
            " 2   model         51525 non-null  object \n",
            " 3   condition     51525 non-null  object \n",
            " 4   cylinders     46265 non-null  float64\n",
            " 5   fuel          51525 non-null  object \n",
            " 6   odometer      43633 non-null  float64\n",
            " 7   transmission  51525 non-null  object \n",
            " 8   type          51525 non-null  object \n",
            " 9   paint_color   42258 non-null  object \n",
            " 10  is_4wd        25572 non-null  float64\n",
            " 11  date_posted   51525 non-null  object \n",
            " 12  days_listed   51525 non-null  int64  \n",
            "dtypes: float64(4), int64(2), object(7)\n",
            "memory usage: 5.1+ MB\n"
          ]
        }
      ],
      "source": [
        "# Melihat informasi umum pada dataset\n",
        "\n",
        "data.info()"
      ]
    },
    {
      "cell_type": "markdown",
      "metadata": {
        "id": "UxsA2zoGUBq9"
      },
      "source": [
        "## Mengatasi Nilai-Nilai yang Hilang (Jika Ada)"
      ]
    },
    {
      "cell_type": "code",
      "execution_count": 10,
      "metadata": {
        "scrolled": false,
        "colab": {
          "base_uri": "https://localhost:8080/",
          "height": 644
        },
        "id": "FwKbxd0yUBq9",
        "outputId": "43838d86-85c5-4981-ec41-bf5115f3822e"
      },
      "outputs": [
        {
          "output_type": "execute_result",
          "data": {
            "text/plain": [
              "       price  model_year           model  condition  cylinders fuel  odometer  \\\n",
              "0       9400      2011.0          bmw x5       good        6.0  gas  145000.0   \n",
              "1      25500         NaN      ford f-150       good        6.0  gas   88705.0   \n",
              "2       5500      2013.0  hyundai sonata   like new        4.0  gas  110000.0   \n",
              "3       1500      2003.0      ford f-150       fair        8.0  gas       NaN   \n",
              "4      14900      2017.0    chrysler 200  excellent        4.0  gas   80903.0   \n",
              "...      ...         ...             ...        ...        ...  ...       ...   \n",
              "51520   9249      2013.0   nissan maxima   like new        6.0  gas   88136.0   \n",
              "51521   2700      2002.0     honda civic    salvage        4.0  gas  181500.0   \n",
              "51522   3950      2009.0  hyundai sonata  excellent        4.0  gas  128000.0   \n",
              "51523   7455      2013.0  toyota corolla       good        4.0  gas  139573.0   \n",
              "51524   6300      2014.0   nissan altima       good        4.0  gas       NaN   \n",
              "\n",
              "      transmission    type paint_color  is_4wd date_posted  days_listed  \n",
              "0        automatic     SUV         NaN     1.0  2018-06-23           19  \n",
              "1        automatic  pickup       white     1.0  2018-10-19           50  \n",
              "2        automatic   sedan         red     NaN  2019-02-07           79  \n",
              "3        automatic  pickup         NaN     NaN  2019-03-22            9  \n",
              "4        automatic   sedan       black     NaN  2019-04-02           28  \n",
              "...            ...     ...         ...     ...         ...          ...  \n",
              "51520    automatic   sedan       black     NaN  2018-10-03           37  \n",
              "51521    automatic   sedan       white     NaN  2018-11-14           22  \n",
              "51522    automatic   sedan        blue     NaN  2018-11-15           32  \n",
              "51523    automatic   sedan       black     NaN  2018-07-02           71  \n",
              "51524    automatic   sedan         NaN     NaN  2018-06-05           10  \n",
              "\n",
              "[36673 rows x 13 columns]"
            ],
            "text/html": [
              "\n",
              "  <div id=\"df-02fe7a32-1932-4fc4-a067-ae17ad3cd882\">\n",
              "    <div class=\"colab-df-container\">\n",
              "      <div>\n",
              "<style scoped>\n",
              "    .dataframe tbody tr th:only-of-type {\n",
              "        vertical-align: middle;\n",
              "    }\n",
              "\n",
              "    .dataframe tbody tr th {\n",
              "        vertical-align: top;\n",
              "    }\n",
              "\n",
              "    .dataframe thead th {\n",
              "        text-align: right;\n",
              "    }\n",
              "</style>\n",
              "<table border=\"1\" class=\"dataframe\">\n",
              "  <thead>\n",
              "    <tr style=\"text-align: right;\">\n",
              "      <th></th>\n",
              "      <th>price</th>\n",
              "      <th>model_year</th>\n",
              "      <th>model</th>\n",
              "      <th>condition</th>\n",
              "      <th>cylinders</th>\n",
              "      <th>fuel</th>\n",
              "      <th>odometer</th>\n",
              "      <th>transmission</th>\n",
              "      <th>type</th>\n",
              "      <th>paint_color</th>\n",
              "      <th>is_4wd</th>\n",
              "      <th>date_posted</th>\n",
              "      <th>days_listed</th>\n",
              "    </tr>\n",
              "  </thead>\n",
              "  <tbody>\n",
              "    <tr>\n",
              "      <th>0</th>\n",
              "      <td>9400</td>\n",
              "      <td>2011.0</td>\n",
              "      <td>bmw x5</td>\n",
              "      <td>good</td>\n",
              "      <td>6.0</td>\n",
              "      <td>gas</td>\n",
              "      <td>145000.0</td>\n",
              "      <td>automatic</td>\n",
              "      <td>SUV</td>\n",
              "      <td>NaN</td>\n",
              "      <td>1.0</td>\n",
              "      <td>2018-06-23</td>\n",
              "      <td>19</td>\n",
              "    </tr>\n",
              "    <tr>\n",
              "      <th>1</th>\n",
              "      <td>25500</td>\n",
              "      <td>NaN</td>\n",
              "      <td>ford f-150</td>\n",
              "      <td>good</td>\n",
              "      <td>6.0</td>\n",
              "      <td>gas</td>\n",
              "      <td>88705.0</td>\n",
              "      <td>automatic</td>\n",
              "      <td>pickup</td>\n",
              "      <td>white</td>\n",
              "      <td>1.0</td>\n",
              "      <td>2018-10-19</td>\n",
              "      <td>50</td>\n",
              "    </tr>\n",
              "    <tr>\n",
              "      <th>2</th>\n",
              "      <td>5500</td>\n",
              "      <td>2013.0</td>\n",
              "      <td>hyundai sonata</td>\n",
              "      <td>like new</td>\n",
              "      <td>4.0</td>\n",
              "      <td>gas</td>\n",
              "      <td>110000.0</td>\n",
              "      <td>automatic</td>\n",
              "      <td>sedan</td>\n",
              "      <td>red</td>\n",
              "      <td>NaN</td>\n",
              "      <td>2019-02-07</td>\n",
              "      <td>79</td>\n",
              "    </tr>\n",
              "    <tr>\n",
              "      <th>3</th>\n",
              "      <td>1500</td>\n",
              "      <td>2003.0</td>\n",
              "      <td>ford f-150</td>\n",
              "      <td>fair</td>\n",
              "      <td>8.0</td>\n",
              "      <td>gas</td>\n",
              "      <td>NaN</td>\n",
              "      <td>automatic</td>\n",
              "      <td>pickup</td>\n",
              "      <td>NaN</td>\n",
              "      <td>NaN</td>\n",
              "      <td>2019-03-22</td>\n",
              "      <td>9</td>\n",
              "    </tr>\n",
              "    <tr>\n",
              "      <th>4</th>\n",
              "      <td>14900</td>\n",
              "      <td>2017.0</td>\n",
              "      <td>chrysler 200</td>\n",
              "      <td>excellent</td>\n",
              "      <td>4.0</td>\n",
              "      <td>gas</td>\n",
              "      <td>80903.0</td>\n",
              "      <td>automatic</td>\n",
              "      <td>sedan</td>\n",
              "      <td>black</td>\n",
              "      <td>NaN</td>\n",
              "      <td>2019-04-02</td>\n",
              "      <td>28</td>\n",
              "    </tr>\n",
              "    <tr>\n",
              "      <th>...</th>\n",
              "      <td>...</td>\n",
              "      <td>...</td>\n",
              "      <td>...</td>\n",
              "      <td>...</td>\n",
              "      <td>...</td>\n",
              "      <td>...</td>\n",
              "      <td>...</td>\n",
              "      <td>...</td>\n",
              "      <td>...</td>\n",
              "      <td>...</td>\n",
              "      <td>...</td>\n",
              "      <td>...</td>\n",
              "      <td>...</td>\n",
              "    </tr>\n",
              "    <tr>\n",
              "      <th>51520</th>\n",
              "      <td>9249</td>\n",
              "      <td>2013.0</td>\n",
              "      <td>nissan maxima</td>\n",
              "      <td>like new</td>\n",
              "      <td>6.0</td>\n",
              "      <td>gas</td>\n",
              "      <td>88136.0</td>\n",
              "      <td>automatic</td>\n",
              "      <td>sedan</td>\n",
              "      <td>black</td>\n",
              "      <td>NaN</td>\n",
              "      <td>2018-10-03</td>\n",
              "      <td>37</td>\n",
              "    </tr>\n",
              "    <tr>\n",
              "      <th>51521</th>\n",
              "      <td>2700</td>\n",
              "      <td>2002.0</td>\n",
              "      <td>honda civic</td>\n",
              "      <td>salvage</td>\n",
              "      <td>4.0</td>\n",
              "      <td>gas</td>\n",
              "      <td>181500.0</td>\n",
              "      <td>automatic</td>\n",
              "      <td>sedan</td>\n",
              "      <td>white</td>\n",
              "      <td>NaN</td>\n",
              "      <td>2018-11-14</td>\n",
              "      <td>22</td>\n",
              "    </tr>\n",
              "    <tr>\n",
              "      <th>51522</th>\n",
              "      <td>3950</td>\n",
              "      <td>2009.0</td>\n",
              "      <td>hyundai sonata</td>\n",
              "      <td>excellent</td>\n",
              "      <td>4.0</td>\n",
              "      <td>gas</td>\n",
              "      <td>128000.0</td>\n",
              "      <td>automatic</td>\n",
              "      <td>sedan</td>\n",
              "      <td>blue</td>\n",
              "      <td>NaN</td>\n",
              "      <td>2018-11-15</td>\n",
              "      <td>32</td>\n",
              "    </tr>\n",
              "    <tr>\n",
              "      <th>51523</th>\n",
              "      <td>7455</td>\n",
              "      <td>2013.0</td>\n",
              "      <td>toyota corolla</td>\n",
              "      <td>good</td>\n",
              "      <td>4.0</td>\n",
              "      <td>gas</td>\n",
              "      <td>139573.0</td>\n",
              "      <td>automatic</td>\n",
              "      <td>sedan</td>\n",
              "      <td>black</td>\n",
              "      <td>NaN</td>\n",
              "      <td>2018-07-02</td>\n",
              "      <td>71</td>\n",
              "    </tr>\n",
              "    <tr>\n",
              "      <th>51524</th>\n",
              "      <td>6300</td>\n",
              "      <td>2014.0</td>\n",
              "      <td>nissan altima</td>\n",
              "      <td>good</td>\n",
              "      <td>4.0</td>\n",
              "      <td>gas</td>\n",
              "      <td>NaN</td>\n",
              "      <td>automatic</td>\n",
              "      <td>sedan</td>\n",
              "      <td>NaN</td>\n",
              "      <td>NaN</td>\n",
              "      <td>2018-06-05</td>\n",
              "      <td>10</td>\n",
              "    </tr>\n",
              "  </tbody>\n",
              "</table>\n",
              "<p>36673 rows × 13 columns</p>\n",
              "</div>\n",
              "      <button class=\"colab-df-convert\" onclick=\"convertToInteractive('df-02fe7a32-1932-4fc4-a067-ae17ad3cd882')\"\n",
              "              title=\"Convert this dataframe to an interactive table.\"\n",
              "              style=\"display:none;\">\n",
              "        \n",
              "  <svg xmlns=\"http://www.w3.org/2000/svg\" height=\"24px\"viewBox=\"0 0 24 24\"\n",
              "       width=\"24px\">\n",
              "    <path d=\"M0 0h24v24H0V0z\" fill=\"none\"/>\n",
              "    <path d=\"M18.56 5.44l.94 2.06.94-2.06 2.06-.94-2.06-.94-.94-2.06-.94 2.06-2.06.94zm-11 1L8.5 8.5l.94-2.06 2.06-.94-2.06-.94L8.5 2.5l-.94 2.06-2.06.94zm10 10l.94 2.06.94-2.06 2.06-.94-2.06-.94-.94-2.06-.94 2.06-2.06.94z\"/><path d=\"M17.41 7.96l-1.37-1.37c-.4-.4-.92-.59-1.43-.59-.52 0-1.04.2-1.43.59L10.3 9.45l-7.72 7.72c-.78.78-.78 2.05 0 2.83L4 21.41c.39.39.9.59 1.41.59.51 0 1.02-.2 1.41-.59l7.78-7.78 2.81-2.81c.8-.78.8-2.07 0-2.86zM5.41 20L4 18.59l7.72-7.72 1.47 1.35L5.41 20z\"/>\n",
              "  </svg>\n",
              "      </button>\n",
              "      \n",
              "  <style>\n",
              "    .colab-df-container {\n",
              "      display:flex;\n",
              "      flex-wrap:wrap;\n",
              "      gap: 12px;\n",
              "    }\n",
              "\n",
              "    .colab-df-convert {\n",
              "      background-color: #E8F0FE;\n",
              "      border: none;\n",
              "      border-radius: 50%;\n",
              "      cursor: pointer;\n",
              "      display: none;\n",
              "      fill: #1967D2;\n",
              "      height: 32px;\n",
              "      padding: 0 0 0 0;\n",
              "      width: 32px;\n",
              "    }\n",
              "\n",
              "    .colab-df-convert:hover {\n",
              "      background-color: #E2EBFA;\n",
              "      box-shadow: 0px 1px 2px rgba(60, 64, 67, 0.3), 0px 1px 3px 1px rgba(60, 64, 67, 0.15);\n",
              "      fill: #174EA6;\n",
              "    }\n",
              "\n",
              "    [theme=dark] .colab-df-convert {\n",
              "      background-color: #3B4455;\n",
              "      fill: #D2E3FC;\n",
              "    }\n",
              "\n",
              "    [theme=dark] .colab-df-convert:hover {\n",
              "      background-color: #434B5C;\n",
              "      box-shadow: 0px 1px 3px 1px rgba(0, 0, 0, 0.15);\n",
              "      filter: drop-shadow(0px 1px 2px rgba(0, 0, 0, 0.3));\n",
              "      fill: #FFFFFF;\n",
              "    }\n",
              "  </style>\n",
              "\n",
              "      <script>\n",
              "        const buttonEl =\n",
              "          document.querySelector('#df-02fe7a32-1932-4fc4-a067-ae17ad3cd882 button.colab-df-convert');\n",
              "        buttonEl.style.display =\n",
              "          google.colab.kernel.accessAllowed ? 'block' : 'none';\n",
              "\n",
              "        async function convertToInteractive(key) {\n",
              "          const element = document.querySelector('#df-02fe7a32-1932-4fc4-a067-ae17ad3cd882');\n",
              "          const dataTable =\n",
              "            await google.colab.kernel.invokeFunction('convertToInteractive',\n",
              "                                                     [key], {});\n",
              "          if (!dataTable) return;\n",
              "\n",
              "          const docLinkHtml = 'Like what you see? Visit the ' +\n",
              "            '<a target=\"_blank\" href=https://colab.research.google.com/notebooks/data_table.ipynb>data table notebook</a>'\n",
              "            + ' to learn more about interactive tables.';\n",
              "          element.innerHTML = '';\n",
              "          dataTable['output_type'] = 'display_data';\n",
              "          await google.colab.output.renderOutput(dataTable, element);\n",
              "          const docLink = document.createElement('div');\n",
              "          docLink.innerHTML = docLinkHtml;\n",
              "          element.appendChild(docLink);\n",
              "        }\n",
              "      </script>\n",
              "    </div>\n",
              "  </div>\n",
              "  "
            ]
          },
          "metadata": {},
          "execution_count": 10
        }
      ],
      "source": [
        "# membuat tabel yang memiliki kolom-kolom dengan nilai-nilai yang hilang untuk disimpan disana\n",
        "# sehingga kita tetap memiliki dat tersebut, karena kita ingin mengganti nilai hilang pada data asli\n",
        "\n",
        "data_null = data.loc[(data['model_year'].isna()) | (data['cylinders'].isna()) |\n",
        "                     (data['odometer'].isna()) | (data['paint_color'].isna()) |\n",
        "                     (data['is_4wd'].isna())]\n",
        "data_null"
      ]
    },
    {
      "cell_type": "code",
      "execution_count": 11,
      "metadata": {
        "colab": {
          "base_uri": "https://localhost:8080/",
          "height": 713
        },
        "id": "EFhRmdk-UBq9",
        "outputId": "3ee507e3-1ad3-45e5-e102-e3f432d103ea"
      },
      "outputs": [
        {
          "output_type": "execute_result",
          "data": {
            "text/plain": [
              "       price  model_year                       model  condition  cylinders  \\\n",
              "1      25500         NaN                  ford f-150       good        6.0   \n",
              "20      6990         NaN             chevrolet tahoe  excellent        8.0   \n",
              "65     12800         NaN                  ford f-150  excellent        6.0   \n",
              "69      7800         NaN                  ford f-150   like new        8.0   \n",
              "72      3650         NaN              subaru impreza  excellent        NaN   \n",
              "...      ...         ...                         ...        ...        ...   \n",
              "51464   8890         NaN        ford f250 super duty       good        8.0   \n",
              "51465  34595         NaN                   gmc yukon  excellent        8.0   \n",
              "51487   1495         NaN                  ford f-150       fair        6.0   \n",
              "51488  21900         NaN  chevrolet silverado 3500hd  excellent        8.0   \n",
              "51508   4950         NaN     chrysler town & country  excellent        6.0   \n",
              "\n",
              "         fuel  odometer transmission      type paint_color  is_4wd  \\\n",
              "1         gas   88705.0    automatic    pickup       white     1.0   \n",
              "20        gas  147485.0    automatic       SUV      silver     1.0   \n",
              "65        gas  108500.0    automatic    pickup       white     NaN   \n",
              "69        gas   97510.0    automatic     truck       white     1.0   \n",
              "72        gas   74000.0    automatic     sedan        blue     1.0   \n",
              "...       ...       ...          ...       ...         ...     ...   \n",
              "51464     gas  135778.0    automatic     truck         red     1.0   \n",
              "51465     gas   86456.0    automatic       SUV      silver     1.0   \n",
              "51487     gas   15804.0       manual     truck       white     1.0   \n",
              "51488  diesel  203000.0    automatic     truck       white     1.0   \n",
              "51508     gas  150000.0    automatic  mini-van      silver     NaN   \n",
              "\n",
              "      date_posted  days_listed  \n",
              "1      2018-10-19           50  \n",
              "20     2018-08-05           28  \n",
              "65     2018-09-23           15  \n",
              "69     2019-02-20           39  \n",
              "72     2018-08-07           60  \n",
              "...           ...          ...  \n",
              "51464  2018-11-28           24  \n",
              "51465  2019-04-18           13  \n",
              "51487  2018-09-18           56  \n",
              "51488  2018-12-27           37  \n",
              "51508  2018-06-30           48  \n",
              "\n",
              "[3619 rows x 13 columns]"
            ],
            "text/html": [
              "\n",
              "  <div id=\"df-b103d534-5ce8-46f0-9256-79fadbca214b\">\n",
              "    <div class=\"colab-df-container\">\n",
              "      <div>\n",
              "<style scoped>\n",
              "    .dataframe tbody tr th:only-of-type {\n",
              "        vertical-align: middle;\n",
              "    }\n",
              "\n",
              "    .dataframe tbody tr th {\n",
              "        vertical-align: top;\n",
              "    }\n",
              "\n",
              "    .dataframe thead th {\n",
              "        text-align: right;\n",
              "    }\n",
              "</style>\n",
              "<table border=\"1\" class=\"dataframe\">\n",
              "  <thead>\n",
              "    <tr style=\"text-align: right;\">\n",
              "      <th></th>\n",
              "      <th>price</th>\n",
              "      <th>model_year</th>\n",
              "      <th>model</th>\n",
              "      <th>condition</th>\n",
              "      <th>cylinders</th>\n",
              "      <th>fuel</th>\n",
              "      <th>odometer</th>\n",
              "      <th>transmission</th>\n",
              "      <th>type</th>\n",
              "      <th>paint_color</th>\n",
              "      <th>is_4wd</th>\n",
              "      <th>date_posted</th>\n",
              "      <th>days_listed</th>\n",
              "    </tr>\n",
              "  </thead>\n",
              "  <tbody>\n",
              "    <tr>\n",
              "      <th>1</th>\n",
              "      <td>25500</td>\n",
              "      <td>NaN</td>\n",
              "      <td>ford f-150</td>\n",
              "      <td>good</td>\n",
              "      <td>6.0</td>\n",
              "      <td>gas</td>\n",
              "      <td>88705.0</td>\n",
              "      <td>automatic</td>\n",
              "      <td>pickup</td>\n",
              "      <td>white</td>\n",
              "      <td>1.0</td>\n",
              "      <td>2018-10-19</td>\n",
              "      <td>50</td>\n",
              "    </tr>\n",
              "    <tr>\n",
              "      <th>20</th>\n",
              "      <td>6990</td>\n",
              "      <td>NaN</td>\n",
              "      <td>chevrolet tahoe</td>\n",
              "      <td>excellent</td>\n",
              "      <td>8.0</td>\n",
              "      <td>gas</td>\n",
              "      <td>147485.0</td>\n",
              "      <td>automatic</td>\n",
              "      <td>SUV</td>\n",
              "      <td>silver</td>\n",
              "      <td>1.0</td>\n",
              "      <td>2018-08-05</td>\n",
              "      <td>28</td>\n",
              "    </tr>\n",
              "    <tr>\n",
              "      <th>65</th>\n",
              "      <td>12800</td>\n",
              "      <td>NaN</td>\n",
              "      <td>ford f-150</td>\n",
              "      <td>excellent</td>\n",
              "      <td>6.0</td>\n",
              "      <td>gas</td>\n",
              "      <td>108500.0</td>\n",
              "      <td>automatic</td>\n",
              "      <td>pickup</td>\n",
              "      <td>white</td>\n",
              "      <td>NaN</td>\n",
              "      <td>2018-09-23</td>\n",
              "      <td>15</td>\n",
              "    </tr>\n",
              "    <tr>\n",
              "      <th>69</th>\n",
              "      <td>7800</td>\n",
              "      <td>NaN</td>\n",
              "      <td>ford f-150</td>\n",
              "      <td>like new</td>\n",
              "      <td>8.0</td>\n",
              "      <td>gas</td>\n",
              "      <td>97510.0</td>\n",
              "      <td>automatic</td>\n",
              "      <td>truck</td>\n",
              "      <td>white</td>\n",
              "      <td>1.0</td>\n",
              "      <td>2019-02-20</td>\n",
              "      <td>39</td>\n",
              "    </tr>\n",
              "    <tr>\n",
              "      <th>72</th>\n",
              "      <td>3650</td>\n",
              "      <td>NaN</td>\n",
              "      <td>subaru impreza</td>\n",
              "      <td>excellent</td>\n",
              "      <td>NaN</td>\n",
              "      <td>gas</td>\n",
              "      <td>74000.0</td>\n",
              "      <td>automatic</td>\n",
              "      <td>sedan</td>\n",
              "      <td>blue</td>\n",
              "      <td>1.0</td>\n",
              "      <td>2018-08-07</td>\n",
              "      <td>60</td>\n",
              "    </tr>\n",
              "    <tr>\n",
              "      <th>...</th>\n",
              "      <td>...</td>\n",
              "      <td>...</td>\n",
              "      <td>...</td>\n",
              "      <td>...</td>\n",
              "      <td>...</td>\n",
              "      <td>...</td>\n",
              "      <td>...</td>\n",
              "      <td>...</td>\n",
              "      <td>...</td>\n",
              "      <td>...</td>\n",
              "      <td>...</td>\n",
              "      <td>...</td>\n",
              "      <td>...</td>\n",
              "    </tr>\n",
              "    <tr>\n",
              "      <th>51464</th>\n",
              "      <td>8890</td>\n",
              "      <td>NaN</td>\n",
              "      <td>ford f250 super duty</td>\n",
              "      <td>good</td>\n",
              "      <td>8.0</td>\n",
              "      <td>gas</td>\n",
              "      <td>135778.0</td>\n",
              "      <td>automatic</td>\n",
              "      <td>truck</td>\n",
              "      <td>red</td>\n",
              "      <td>1.0</td>\n",
              "      <td>2018-11-28</td>\n",
              "      <td>24</td>\n",
              "    </tr>\n",
              "    <tr>\n",
              "      <th>51465</th>\n",
              "      <td>34595</td>\n",
              "      <td>NaN</td>\n",
              "      <td>gmc yukon</td>\n",
              "      <td>excellent</td>\n",
              "      <td>8.0</td>\n",
              "      <td>gas</td>\n",
              "      <td>86456.0</td>\n",
              "      <td>automatic</td>\n",
              "      <td>SUV</td>\n",
              "      <td>silver</td>\n",
              "      <td>1.0</td>\n",
              "      <td>2019-04-18</td>\n",
              "      <td>13</td>\n",
              "    </tr>\n",
              "    <tr>\n",
              "      <th>51487</th>\n",
              "      <td>1495</td>\n",
              "      <td>NaN</td>\n",
              "      <td>ford f-150</td>\n",
              "      <td>fair</td>\n",
              "      <td>6.0</td>\n",
              "      <td>gas</td>\n",
              "      <td>15804.0</td>\n",
              "      <td>manual</td>\n",
              "      <td>truck</td>\n",
              "      <td>white</td>\n",
              "      <td>1.0</td>\n",
              "      <td>2018-09-18</td>\n",
              "      <td>56</td>\n",
              "    </tr>\n",
              "    <tr>\n",
              "      <th>51488</th>\n",
              "      <td>21900</td>\n",
              "      <td>NaN</td>\n",
              "      <td>chevrolet silverado 3500hd</td>\n",
              "      <td>excellent</td>\n",
              "      <td>8.0</td>\n",
              "      <td>diesel</td>\n",
              "      <td>203000.0</td>\n",
              "      <td>automatic</td>\n",
              "      <td>truck</td>\n",
              "      <td>white</td>\n",
              "      <td>1.0</td>\n",
              "      <td>2018-12-27</td>\n",
              "      <td>37</td>\n",
              "    </tr>\n",
              "    <tr>\n",
              "      <th>51508</th>\n",
              "      <td>4950</td>\n",
              "      <td>NaN</td>\n",
              "      <td>chrysler town &amp; country</td>\n",
              "      <td>excellent</td>\n",
              "      <td>6.0</td>\n",
              "      <td>gas</td>\n",
              "      <td>150000.0</td>\n",
              "      <td>automatic</td>\n",
              "      <td>mini-van</td>\n",
              "      <td>silver</td>\n",
              "      <td>NaN</td>\n",
              "      <td>2018-06-30</td>\n",
              "      <td>48</td>\n",
              "    </tr>\n",
              "  </tbody>\n",
              "</table>\n",
              "<p>3619 rows × 13 columns</p>\n",
              "</div>\n",
              "      <button class=\"colab-df-convert\" onclick=\"convertToInteractive('df-b103d534-5ce8-46f0-9256-79fadbca214b')\"\n",
              "              title=\"Convert this dataframe to an interactive table.\"\n",
              "              style=\"display:none;\">\n",
              "        \n",
              "  <svg xmlns=\"http://www.w3.org/2000/svg\" height=\"24px\"viewBox=\"0 0 24 24\"\n",
              "       width=\"24px\">\n",
              "    <path d=\"M0 0h24v24H0V0z\" fill=\"none\"/>\n",
              "    <path d=\"M18.56 5.44l.94 2.06.94-2.06 2.06-.94-2.06-.94-.94-2.06-.94 2.06-2.06.94zm-11 1L8.5 8.5l.94-2.06 2.06-.94-2.06-.94L8.5 2.5l-.94 2.06-2.06.94zm10 10l.94 2.06.94-2.06 2.06-.94-2.06-.94-.94-2.06-.94 2.06-2.06.94z\"/><path d=\"M17.41 7.96l-1.37-1.37c-.4-.4-.92-.59-1.43-.59-.52 0-1.04.2-1.43.59L10.3 9.45l-7.72 7.72c-.78.78-.78 2.05 0 2.83L4 21.41c.39.39.9.59 1.41.59.51 0 1.02-.2 1.41-.59l7.78-7.78 2.81-2.81c.8-.78.8-2.07 0-2.86zM5.41 20L4 18.59l7.72-7.72 1.47 1.35L5.41 20z\"/>\n",
              "  </svg>\n",
              "      </button>\n",
              "      \n",
              "  <style>\n",
              "    .colab-df-container {\n",
              "      display:flex;\n",
              "      flex-wrap:wrap;\n",
              "      gap: 12px;\n",
              "    }\n",
              "\n",
              "    .colab-df-convert {\n",
              "      background-color: #E8F0FE;\n",
              "      border: none;\n",
              "      border-radius: 50%;\n",
              "      cursor: pointer;\n",
              "      display: none;\n",
              "      fill: #1967D2;\n",
              "      height: 32px;\n",
              "      padding: 0 0 0 0;\n",
              "      width: 32px;\n",
              "    }\n",
              "\n",
              "    .colab-df-convert:hover {\n",
              "      background-color: #E2EBFA;\n",
              "      box-shadow: 0px 1px 2px rgba(60, 64, 67, 0.3), 0px 1px 3px 1px rgba(60, 64, 67, 0.15);\n",
              "      fill: #174EA6;\n",
              "    }\n",
              "\n",
              "    [theme=dark] .colab-df-convert {\n",
              "      background-color: #3B4455;\n",
              "      fill: #D2E3FC;\n",
              "    }\n",
              "\n",
              "    [theme=dark] .colab-df-convert:hover {\n",
              "      background-color: #434B5C;\n",
              "      box-shadow: 0px 1px 3px 1px rgba(0, 0, 0, 0.15);\n",
              "      filter: drop-shadow(0px 1px 2px rgba(0, 0, 0, 0.3));\n",
              "      fill: #FFFFFF;\n",
              "    }\n",
              "  </style>\n",
              "\n",
              "      <script>\n",
              "        const buttonEl =\n",
              "          document.querySelector('#df-b103d534-5ce8-46f0-9256-79fadbca214b button.colab-df-convert');\n",
              "        buttonEl.style.display =\n",
              "          google.colab.kernel.accessAllowed ? 'block' : 'none';\n",
              "\n",
              "        async function convertToInteractive(key) {\n",
              "          const element = document.querySelector('#df-b103d534-5ce8-46f0-9256-79fadbca214b');\n",
              "          const dataTable =\n",
              "            await google.colab.kernel.invokeFunction('convertToInteractive',\n",
              "                                                     [key], {});\n",
              "          if (!dataTable) return;\n",
              "\n",
              "          const docLinkHtml = 'Like what you see? Visit the ' +\n",
              "            '<a target=\"_blank\" href=https://colab.research.google.com/notebooks/data_table.ipynb>data table notebook</a>'\n",
              "            + ' to learn more about interactive tables.';\n",
              "          element.innerHTML = '';\n",
              "          dataTable['output_type'] = 'display_data';\n",
              "          await google.colab.output.renderOutput(dataTable, element);\n",
              "          const docLink = document.createElement('div');\n",
              "          docLink.innerHTML = docLinkHtml;\n",
              "          element.appendChild(docLink);\n",
              "        }\n",
              "      </script>\n",
              "    </div>\n",
              "  </div>\n",
              "  "
            ]
          },
          "metadata": {},
          "execution_count": 11
        }
      ],
      "source": [
        "# melihat bagaimana nilai yang hilang di kolom model_year\n",
        "data[data['model_year'].isna()]"
      ]
    },
    {
      "cell_type": "code",
      "execution_count": 12,
      "metadata": {
        "scrolled": true,
        "colab": {
          "base_uri": "https://localhost:8080/"
        },
        "id": "bXZkD_aZUBq-",
        "outputId": "b76224e3-eb8b-4d89-ae9c-66eebe25239c"
      },
      "outputs": [
        {
          "output_type": "execute_result",
          "data": {
            "text/plain": [
              "count    47906.000000\n",
              "mean      2009.750470\n",
              "std          6.282065\n",
              "min       1908.000000\n",
              "25%       2006.000000\n",
              "50%       2011.000000\n",
              "75%       2014.000000\n",
              "max       2019.000000\n",
              "Name: model_year, dtype: float64"
            ]
          },
          "metadata": {},
          "execution_count": 12
        }
      ],
      "source": [
        "# melihat informasi umum pada kolom model_year\n",
        "\n",
        "data['model_year'].describe()"
      ]
    },
    {
      "cell_type": "code",
      "execution_count": 13,
      "metadata": {
        "scrolled": false,
        "id": "sWRGh_KMUBq-"
      },
      "outputs": [],
      "source": [
        "# mengganti nilai yang hilang di kolom model_year dengan nilai median\n",
        "# karena ini adalah data umum dimana kendaraan tahun berapapun bisa di posting disini\n",
        "# untuk itu sebaiknya menggunakan nilai tengah\n",
        "\n",
        "data.loc[data['model_year'].isna(), 'model_year'] = data['model_year'].median()"
      ]
    },
    {
      "cell_type": "code",
      "execution_count": 14,
      "metadata": {
        "colab": {
          "base_uri": "https://localhost:8080/"
        },
        "id": "M0SK7Q-8UBq-",
        "outputId": "76eaf362-c8de-48c5-f5aa-c0279b5c8631"
      },
      "outputs": [
        {
          "output_type": "execute_result",
          "data": {
            "text/plain": [
              "0"
            ]
          },
          "metadata": {},
          "execution_count": 14
        }
      ],
      "source": [
        "# memeriksa kolom model_year apakah masih ada nilai yang hilang\n",
        "data['model_year'].isna().sum()"
      ]
    },
    {
      "cell_type": "code",
      "execution_count": 15,
      "metadata": {
        "colab": {
          "base_uri": "https://localhost:8080/"
        },
        "id": "0kD7qxErUBq-",
        "outputId": "a97b3cc7-8573-48cb-c83f-bec22b06f115"
      },
      "outputs": [
        {
          "output_type": "execute_result",
          "data": {
            "text/plain": [
              "count    46265.000000\n",
              "mean         6.125235\n",
              "std          1.660360\n",
              "min          3.000000\n",
              "25%          4.000000\n",
              "50%          6.000000\n",
              "75%          8.000000\n",
              "max         12.000000\n",
              "Name: cylinders, dtype: float64"
            ]
          },
          "metadata": {},
          "execution_count": 15
        }
      ],
      "source": [
        "# melihat informasi umum pada kolom cylinders\n",
        "\n",
        "data['cylinders'].describe()"
      ]
    },
    {
      "cell_type": "code",
      "execution_count": 16,
      "metadata": {
        "id": "D2an8cSPUBq-"
      },
      "outputs": [],
      "source": [
        "# mengganti nilai yang hilang di kolom cylinders dengan nilai median dengan alasan yang sama dengan model_year\n",
        "\n",
        "data.loc[data['cylinders'].isna(), 'cylinders'] = data['cylinders'].median()"
      ]
    },
    {
      "cell_type": "code",
      "execution_count": 17,
      "metadata": {
        "colab": {
          "base_uri": "https://localhost:8080/"
        },
        "id": "ExeAY6z6UBq-",
        "outputId": "42037b04-9315-4cec-8ff6-1c9787eadcca"
      },
      "outputs": [
        {
          "output_type": "execute_result",
          "data": {
            "text/plain": [
              "0"
            ]
          },
          "metadata": {},
          "execution_count": 17
        }
      ],
      "source": [
        "# memeriksa kembali kolom cylinders apakah masih ada nilai yang hilang\n",
        "data['cylinders'].isna().sum()"
      ]
    },
    {
      "cell_type": "code",
      "execution_count": 18,
      "metadata": {
        "scrolled": true,
        "colab": {
          "base_uri": "https://localhost:8080/"
        },
        "id": "IUotJT0RUBq-",
        "outputId": "9778c129-7d05-4955-c173-ed016de6ea09"
      },
      "outputs": [
        {
          "output_type": "execute_result",
          "data": {
            "text/plain": [
              "count     43633.000000\n",
              "mean     115553.461738\n",
              "std       65094.611341\n",
              "min           0.000000\n",
              "25%       70000.000000\n",
              "50%      113000.000000\n",
              "75%      155000.000000\n",
              "max      990000.000000\n",
              "Name: odometer, dtype: float64"
            ]
          },
          "metadata": {},
          "execution_count": 18
        }
      ],
      "source": [
        "# melihat informasi umum pada kolom odometer\n",
        "\n",
        "data['odometer'].describe()"
      ]
    },
    {
      "cell_type": "code",
      "execution_count": 19,
      "metadata": {
        "id": "KX9QQN8NUBq-"
      },
      "outputs": [],
      "source": [
        "# mengganti nilai yang hilang di kolom odometer dengan nilai median dengan alasan yang sama dengan model_year\n",
        "\n",
        "data.loc[data['odometer'].isna(), 'odometer'] = data['odometer'].median()"
      ]
    },
    {
      "cell_type": "code",
      "execution_count": 20,
      "metadata": {
        "scrolled": true,
        "colab": {
          "base_uri": "https://localhost:8080/"
        },
        "id": "LsBo5Ll4UBq-",
        "outputId": "96d24153-4b93-4871-ec5f-0696e1698140"
      },
      "outputs": [
        {
          "output_type": "execute_result",
          "data": {
            "text/plain": [
              "0"
            ]
          },
          "metadata": {},
          "execution_count": 20
        }
      ],
      "source": [
        "# memeriksa kolom odometer apakah masih ada nilai yang hilang\n",
        "data['odometer'].isna().sum()"
      ]
    },
    {
      "cell_type": "code",
      "execution_count": 21,
      "metadata": {
        "scrolled": false,
        "colab": {
          "base_uri": "https://localhost:8080/"
        },
        "id": "hFid07ECUBq-",
        "outputId": "7fc74e0a-e119-440e-f1a0-9ab9cf441be9"
      },
      "outputs": [
        {
          "output_type": "execute_result",
          "data": {
            "text/plain": [
              "white     10029\n",
              "black      7692\n",
              "silver     6244\n",
              "grey       5037\n",
              "blue       4475\n",
              "red        4421\n",
              "green      1396\n",
              "brown      1223\n",
              "custom     1153\n",
              "yellow      255\n",
              "orange      231\n",
              "purple      102\n",
              "Name: paint_color, dtype: int64"
            ]
          },
          "metadata": {},
          "execution_count": 21
        }
      ],
      "source": [
        "# melihat distribusi pada kolom paint_color\n",
        "\n",
        "data['paint_color'].value_counts()"
      ]
    },
    {
      "cell_type": "code",
      "execution_count": 22,
      "metadata": {
        "scrolled": true,
        "colab": {
          "base_uri": "https://localhost:8080/"
        },
        "id": "vIkDoCRaUBq-",
        "outputId": "719fa0f7-c8c8-4ba7-d6d1-59ed55ac15a9"
      },
      "outputs": [
        {
          "output_type": "execute_result",
          "data": {
            "text/plain": [
              "array([nan, 'white', 'red', 'black', 'blue', 'grey', 'silver', 'custom',\n",
              "       'orange', 'yellow', 'brown', 'green', 'purple'], dtype=object)"
            ]
          },
          "metadata": {},
          "execution_count": 22
        }
      ],
      "source": [
        "# memeriksa nilai unik pada kolom paint_color\n",
        "data['paint_color'].unique()"
      ]
    },
    {
      "cell_type": "code",
      "execution_count": 23,
      "metadata": {
        "colab": {
          "base_uri": "https://localhost:8080/"
        },
        "id": "R1DaK4HLUBq_",
        "outputId": "096839a7-a5e6-48ad-f506-416b3d5fda9f"
      },
      "outputs": [
        {
          "output_type": "execute_result",
          "data": {
            "text/plain": [
              "9267"
            ]
          },
          "metadata": {},
          "execution_count": 23
        }
      ],
      "source": [
        "# menghitung nilai hilang pada kolom paint_color\n",
        "\n",
        "data['paint_color'].isna().sum()"
      ]
    },
    {
      "cell_type": "code",
      "execution_count": 24,
      "metadata": {
        "id": "l_Pi7Lb6UBq_"
      },
      "outputs": [],
      "source": [
        "# mengganti nilai yang hilang di kolom paint_color dengan nilai others\n",
        "# kita berasumsi bahwa ada human error pada user yang memasang iklan di web (lupa / terlewat mengisi informasi warna)\n",
        "\n",
        "data['paint_color'] = data['paint_color'].fillna('others')"
      ]
    },
    {
      "cell_type": "code",
      "execution_count": 25,
      "metadata": {
        "scrolled": true,
        "colab": {
          "base_uri": "https://localhost:8080/"
        },
        "id": "YmJUW76YUBq_",
        "outputId": "fce04263-2b90-4991-972c-63475db9067d"
      },
      "outputs": [
        {
          "output_type": "execute_result",
          "data": {
            "text/plain": [
              "0"
            ]
          },
          "metadata": {},
          "execution_count": 25
        }
      ],
      "source": [
        "# memeriksa kembali kolom paint_color apakah masih ada nilai yang hilang\n",
        "data['paint_color'].isna().sum()"
      ]
    },
    {
      "cell_type": "code",
      "execution_count": 26,
      "metadata": {
        "scrolled": true,
        "colab": {
          "base_uri": "https://localhost:8080/"
        },
        "id": "9hTnjsdXUBq_",
        "outputId": "f6988e38-0947-42a6-cd91-4865fb3afcbc"
      },
      "outputs": [
        {
          "output_type": "execute_result",
          "data": {
            "text/plain": [
              "white     10029\n",
              "others     9267\n",
              "black      7692\n",
              "silver     6244\n",
              "grey       5037\n",
              "blue       4475\n",
              "red        4421\n",
              "green      1396\n",
              "brown      1223\n",
              "custom     1153\n",
              "yellow      255\n",
              "orange      231\n",
              "purple      102\n",
              "Name: paint_color, dtype: int64"
            ]
          },
          "metadata": {},
          "execution_count": 26
        }
      ],
      "source": [
        "# melihat kembali distribusi pada kolom paint_color\n",
        "\n",
        "data['paint_color'].value_counts()"
      ]
    },
    {
      "cell_type": "code",
      "execution_count": 27,
      "metadata": {
        "scrolled": true,
        "colab": {
          "base_uri": "https://localhost:8080/"
        },
        "id": "Se2IAQyIUBq_",
        "outputId": "218b1e50-fd87-4c61-e5b4-8b65d0ee8311"
      },
      "outputs": [
        {
          "output_type": "execute_result",
          "data": {
            "text/plain": [
              "array(['others', 'white', 'red', 'black', 'blue', 'grey', 'silver',\n",
              "       'custom', 'orange', 'yellow', 'brown', 'green', 'purple'],\n",
              "      dtype=object)"
            ]
          },
          "metadata": {},
          "execution_count": 27
        }
      ],
      "source": [
        "# memeriksa kembali nilai unik pada kolom paint_color\n",
        "data['paint_color'].unique()"
      ]
    },
    {
      "cell_type": "code",
      "execution_count": 28,
      "metadata": {
        "colab": {
          "base_uri": "https://localhost:8080/"
        },
        "id": "G6iucUyCUBq_",
        "outputId": "b30e3338-fdbc-49d0-cd8a-3df4342cb372"
      },
      "outputs": [
        {
          "output_type": "execute_result",
          "data": {
            "text/plain": [
              "25953"
            ]
          },
          "metadata": {},
          "execution_count": 28
        }
      ],
      "source": [
        "# memeriksa nilai yang hilang pada kolom is_4wd\n",
        "\n",
        "data['is_4wd'].isna().sum()"
      ]
    },
    {
      "cell_type": "code",
      "execution_count": 29,
      "metadata": {
        "id": "IJQDLzglUBq_"
      },
      "outputs": [],
      "source": [
        "# mengganti nilai yang hilang pada kolom is_4wd\n",
        "\n",
        "data['is_4wd'] = data['is_4wd'].fillna(0)"
      ]
    },
    {
      "cell_type": "code",
      "execution_count": 30,
      "metadata": {
        "colab": {
          "base_uri": "https://localhost:8080/"
        },
        "id": "Sw-jYXDFUBq_",
        "outputId": "3c5f51f9-b9fa-4e7b-f609-2dbff2e1e921"
      },
      "outputs": [
        {
          "output_type": "execute_result",
          "data": {
            "text/plain": [
              "0"
            ]
          },
          "metadata": {},
          "execution_count": 30
        }
      ],
      "source": [
        "# memeriksa kembali kolom cylinders apakah masih ada nilai yang hilang\n",
        "\n",
        "data['is_4wd'].isna().sum()"
      ]
    },
    {
      "cell_type": "code",
      "execution_count": 31,
      "metadata": {
        "scrolled": true,
        "colab": {
          "base_uri": "https://localhost:8080/"
        },
        "id": "QwL0FBDaUBq_",
        "outputId": "dc61104e-8799-4ee1-a8c0-426107c81e82"
      },
      "outputs": [
        {
          "output_type": "execute_result",
          "data": {
            "text/plain": [
              "0.0    25953\n",
              "1.0    25572\n",
              "Name: is_4wd, dtype: int64"
            ]
          },
          "metadata": {},
          "execution_count": 31
        }
      ],
      "source": [
        "# memeriksa kolom is_4wd setelah diganti nilai hilangnya\n",
        "\n",
        "data['is_4wd'].value_counts()"
      ]
    },
    {
      "cell_type": "code",
      "execution_count": 32,
      "metadata": {
        "scrolled": true,
        "colab": {
          "base_uri": "https://localhost:8080/"
        },
        "id": "InS5yk3QUBq_",
        "outputId": "a4f89160-405d-46ac-84a5-227ab9b2d6a5"
      },
      "outputs": [
        {
          "output_type": "stream",
          "name": "stdout",
          "text": [
            "<class 'pandas.core.frame.DataFrame'>\n",
            "RangeIndex: 51525 entries, 0 to 51524\n",
            "Data columns (total 13 columns):\n",
            " #   Column        Non-Null Count  Dtype  \n",
            "---  ------        --------------  -----  \n",
            " 0   price         51525 non-null  int64  \n",
            " 1   model_year    51525 non-null  float64\n",
            " 2   model         51525 non-null  object \n",
            " 3   condition     51525 non-null  object \n",
            " 4   cylinders     51525 non-null  float64\n",
            " 5   fuel          51525 non-null  object \n",
            " 6   odometer      51525 non-null  float64\n",
            " 7   transmission  51525 non-null  object \n",
            " 8   type          51525 non-null  object \n",
            " 9   paint_color   51525 non-null  object \n",
            " 10  is_4wd        51525 non-null  float64\n",
            " 11  date_posted   51525 non-null  object \n",
            " 12  days_listed   51525 non-null  int64  \n",
            "dtypes: float64(4), int64(2), object(7)\n",
            "memory usage: 5.1+ MB\n"
          ]
        }
      ],
      "source": [
        "# memeriksa kembali data kita apakah sudah lengkap semua / tidak ada lagi nilai hilang\n",
        "\n",
        "data.info()"
      ]
    },
    {
      "cell_type": "code",
      "execution_count": 33,
      "metadata": {
        "colab": {
          "base_uri": "https://localhost:8080/"
        },
        "id": "KM4FyrRIUBq_",
        "outputId": "b81285f0-8bb5-41a9-b446-5067d0e12733"
      },
      "outputs": [
        {
          "output_type": "execute_result",
          "data": {
            "text/plain": [
              "0"
            ]
          },
          "metadata": {},
          "execution_count": 33
        }
      ],
      "source": [
        "# memeriksa apakah ada data duplikat\n",
        "\n",
        "data.duplicated().sum()"
      ]
    },
    {
      "cell_type": "markdown",
      "metadata": {
        "id": "DkvclojzUBrA"
      },
      "source": [
        "## Memperbaiki Tipe Data"
      ]
    },
    {
      "cell_type": "markdown",
      "metadata": {
        "id": "PSbs8MrTUBrB"
      },
      "source": [
        "Karena data kita sekarang kurang lebih telah lengkap, maka selanjutnya kita akan memperbaiki tipe dataa untuk kolom yang tidak sesuai."
      ]
    },
    {
      "cell_type": "code",
      "execution_count": 34,
      "metadata": {
        "id": "CRoDtMP_UBrB"
      },
      "outputs": [],
      "source": [
        "# mengubah tipe data kolom cylinders\n",
        "data['cylinders'] = data['cylinders'].astype(int)"
      ]
    },
    {
      "cell_type": "code",
      "execution_count": 35,
      "metadata": {
        "id": "QAAq1vIJUBrB"
      },
      "outputs": [],
      "source": [
        "# memperbaiki tipe data di kolom date_posted menjadi karena kolom itu menunjukkan waktu\n",
        "\n",
        "data['date_posted'] = pd.to_datetime(data['date_posted'], format='%Y-%m-%d')\n"
      ]
    },
    {
      "cell_type": "code",
      "execution_count": 36,
      "metadata": {
        "id": "ku6hXXEiUBrB"
      },
      "outputs": [],
      "source": [
        "# mengubah tipe kolom days_listed ke datetime untuk digunakan untuk membuat kolom tanggal terakhir iklan ditayangkan\n",
        "\n",
        "data['days_listed'] = pd.to_timedelta(data['days_listed'], unit='D')"
      ]
    },
    {
      "cell_type": "code",
      "execution_count": 37,
      "metadata": {
        "colab": {
          "base_uri": "https://localhost:8080/"
        },
        "id": "0VRz-FsKUBrB",
        "outputId": "587f37dd-3a3e-41da-9869-48d1c3d612ee"
      },
      "outputs": [
        {
          "output_type": "stream",
          "name": "stdout",
          "text": [
            "<class 'pandas.core.frame.DataFrame'>\n",
            "RangeIndex: 51525 entries, 0 to 51524\n",
            "Data columns (total 13 columns):\n",
            " #   Column        Non-Null Count  Dtype          \n",
            "---  ------        --------------  -----          \n",
            " 0   price         51525 non-null  int64          \n",
            " 1   model_year    51525 non-null  float64        \n",
            " 2   model         51525 non-null  object         \n",
            " 3   condition     51525 non-null  object         \n",
            " 4   cylinders     51525 non-null  int64          \n",
            " 5   fuel          51525 non-null  object         \n",
            " 6   odometer      51525 non-null  float64        \n",
            " 7   transmission  51525 non-null  object         \n",
            " 8   type          51525 non-null  object         \n",
            " 9   paint_color   51525 non-null  object         \n",
            " 10  is_4wd        51525 non-null  float64        \n",
            " 11  date_posted   51525 non-null  datetime64[ns] \n",
            " 12  days_listed   51525 non-null  timedelta64[ns]\n",
            "dtypes: datetime64[ns](1), float64(3), int64(2), object(6), timedelta64[ns](1)\n",
            "memory usage: 5.1+ MB\n"
          ]
        }
      ],
      "source": [
        "# memeriksa kolom-kolom yang telah diperbaiki\n",
        "\n",
        "data.info()"
      ]
    },
    {
      "cell_type": "code",
      "execution_count": 38,
      "metadata": {
        "colab": {
          "base_uri": "https://localhost:8080/",
          "height": 583
        },
        "id": "gZmQRJovUBrB",
        "outputId": "63b98510-397d-4236-dc2f-dd534d8f3357"
      },
      "outputs": [
        {
          "output_type": "execute_result",
          "data": {
            "text/plain": [
              "   price  model_year           model  condition  cylinders fuel  odometer  \\\n",
              "0   9400      2011.0          bmw x5       good          6  gas  145000.0   \n",
              "1  25500      2011.0      ford f-150       good          6  gas   88705.0   \n",
              "2   5500      2013.0  hyundai sonata   like new          4  gas  110000.0   \n",
              "3   1500      2003.0      ford f-150       fair          8  gas  113000.0   \n",
              "4  14900      2017.0    chrysler 200  excellent          4  gas   80903.0   \n",
              "5  14990      2014.0    chrysler 300  excellent          6  gas   57954.0   \n",
              "6  12990      2015.0    toyota camry  excellent          4  gas   79212.0   \n",
              "7  15990      2013.0     honda pilot  excellent          6  gas  109473.0   \n",
              "8  11500      2012.0     kia sorento  excellent          4  gas  104174.0   \n",
              "9   9200      2008.0     honda pilot  excellent          6  gas  147191.0   \n",
              "\n",
              "  transmission    type paint_color  is_4wd date_posted days_listed  \n",
              "0    automatic     SUV      others     1.0  2018-06-23     19 days  \n",
              "1    automatic  pickup       white     1.0  2018-10-19     50 days  \n",
              "2    automatic   sedan         red     0.0  2019-02-07     79 days  \n",
              "3    automatic  pickup      others     0.0  2019-03-22      9 days  \n",
              "4    automatic   sedan       black     0.0  2019-04-02     28 days  \n",
              "5    automatic   sedan       black     1.0  2018-06-20     15 days  \n",
              "6    automatic   sedan       white     0.0  2018-12-27     73 days  \n",
              "7    automatic     SUV       black     1.0  2019-01-07     68 days  \n",
              "8    automatic     SUV      others     1.0  2018-07-16     19 days  \n",
              "9    automatic     SUV        blue     1.0  2019-02-15     17 days  "
            ],
            "text/html": [
              "\n",
              "  <div id=\"df-4e9cf259-22fa-4564-98b2-7573ba1bf1a2\">\n",
              "    <div class=\"colab-df-container\">\n",
              "      <div>\n",
              "<style scoped>\n",
              "    .dataframe tbody tr th:only-of-type {\n",
              "        vertical-align: middle;\n",
              "    }\n",
              "\n",
              "    .dataframe tbody tr th {\n",
              "        vertical-align: top;\n",
              "    }\n",
              "\n",
              "    .dataframe thead th {\n",
              "        text-align: right;\n",
              "    }\n",
              "</style>\n",
              "<table border=\"1\" class=\"dataframe\">\n",
              "  <thead>\n",
              "    <tr style=\"text-align: right;\">\n",
              "      <th></th>\n",
              "      <th>price</th>\n",
              "      <th>model_year</th>\n",
              "      <th>model</th>\n",
              "      <th>condition</th>\n",
              "      <th>cylinders</th>\n",
              "      <th>fuel</th>\n",
              "      <th>odometer</th>\n",
              "      <th>transmission</th>\n",
              "      <th>type</th>\n",
              "      <th>paint_color</th>\n",
              "      <th>is_4wd</th>\n",
              "      <th>date_posted</th>\n",
              "      <th>days_listed</th>\n",
              "    </tr>\n",
              "  </thead>\n",
              "  <tbody>\n",
              "    <tr>\n",
              "      <th>0</th>\n",
              "      <td>9400</td>\n",
              "      <td>2011.0</td>\n",
              "      <td>bmw x5</td>\n",
              "      <td>good</td>\n",
              "      <td>6</td>\n",
              "      <td>gas</td>\n",
              "      <td>145000.0</td>\n",
              "      <td>automatic</td>\n",
              "      <td>SUV</td>\n",
              "      <td>others</td>\n",
              "      <td>1.0</td>\n",
              "      <td>2018-06-23</td>\n",
              "      <td>19 days</td>\n",
              "    </tr>\n",
              "    <tr>\n",
              "      <th>1</th>\n",
              "      <td>25500</td>\n",
              "      <td>2011.0</td>\n",
              "      <td>ford f-150</td>\n",
              "      <td>good</td>\n",
              "      <td>6</td>\n",
              "      <td>gas</td>\n",
              "      <td>88705.0</td>\n",
              "      <td>automatic</td>\n",
              "      <td>pickup</td>\n",
              "      <td>white</td>\n",
              "      <td>1.0</td>\n",
              "      <td>2018-10-19</td>\n",
              "      <td>50 days</td>\n",
              "    </tr>\n",
              "    <tr>\n",
              "      <th>2</th>\n",
              "      <td>5500</td>\n",
              "      <td>2013.0</td>\n",
              "      <td>hyundai sonata</td>\n",
              "      <td>like new</td>\n",
              "      <td>4</td>\n",
              "      <td>gas</td>\n",
              "      <td>110000.0</td>\n",
              "      <td>automatic</td>\n",
              "      <td>sedan</td>\n",
              "      <td>red</td>\n",
              "      <td>0.0</td>\n",
              "      <td>2019-02-07</td>\n",
              "      <td>79 days</td>\n",
              "    </tr>\n",
              "    <tr>\n",
              "      <th>3</th>\n",
              "      <td>1500</td>\n",
              "      <td>2003.0</td>\n",
              "      <td>ford f-150</td>\n",
              "      <td>fair</td>\n",
              "      <td>8</td>\n",
              "      <td>gas</td>\n",
              "      <td>113000.0</td>\n",
              "      <td>automatic</td>\n",
              "      <td>pickup</td>\n",
              "      <td>others</td>\n",
              "      <td>0.0</td>\n",
              "      <td>2019-03-22</td>\n",
              "      <td>9 days</td>\n",
              "    </tr>\n",
              "    <tr>\n",
              "      <th>4</th>\n",
              "      <td>14900</td>\n",
              "      <td>2017.0</td>\n",
              "      <td>chrysler 200</td>\n",
              "      <td>excellent</td>\n",
              "      <td>4</td>\n",
              "      <td>gas</td>\n",
              "      <td>80903.0</td>\n",
              "      <td>automatic</td>\n",
              "      <td>sedan</td>\n",
              "      <td>black</td>\n",
              "      <td>0.0</td>\n",
              "      <td>2019-04-02</td>\n",
              "      <td>28 days</td>\n",
              "    </tr>\n",
              "    <tr>\n",
              "      <th>5</th>\n",
              "      <td>14990</td>\n",
              "      <td>2014.0</td>\n",
              "      <td>chrysler 300</td>\n",
              "      <td>excellent</td>\n",
              "      <td>6</td>\n",
              "      <td>gas</td>\n",
              "      <td>57954.0</td>\n",
              "      <td>automatic</td>\n",
              "      <td>sedan</td>\n",
              "      <td>black</td>\n",
              "      <td>1.0</td>\n",
              "      <td>2018-06-20</td>\n",
              "      <td>15 days</td>\n",
              "    </tr>\n",
              "    <tr>\n",
              "      <th>6</th>\n",
              "      <td>12990</td>\n",
              "      <td>2015.0</td>\n",
              "      <td>toyota camry</td>\n",
              "      <td>excellent</td>\n",
              "      <td>4</td>\n",
              "      <td>gas</td>\n",
              "      <td>79212.0</td>\n",
              "      <td>automatic</td>\n",
              "      <td>sedan</td>\n",
              "      <td>white</td>\n",
              "      <td>0.0</td>\n",
              "      <td>2018-12-27</td>\n",
              "      <td>73 days</td>\n",
              "    </tr>\n",
              "    <tr>\n",
              "      <th>7</th>\n",
              "      <td>15990</td>\n",
              "      <td>2013.0</td>\n",
              "      <td>honda pilot</td>\n",
              "      <td>excellent</td>\n",
              "      <td>6</td>\n",
              "      <td>gas</td>\n",
              "      <td>109473.0</td>\n",
              "      <td>automatic</td>\n",
              "      <td>SUV</td>\n",
              "      <td>black</td>\n",
              "      <td>1.0</td>\n",
              "      <td>2019-01-07</td>\n",
              "      <td>68 days</td>\n",
              "    </tr>\n",
              "    <tr>\n",
              "      <th>8</th>\n",
              "      <td>11500</td>\n",
              "      <td>2012.0</td>\n",
              "      <td>kia sorento</td>\n",
              "      <td>excellent</td>\n",
              "      <td>4</td>\n",
              "      <td>gas</td>\n",
              "      <td>104174.0</td>\n",
              "      <td>automatic</td>\n",
              "      <td>SUV</td>\n",
              "      <td>others</td>\n",
              "      <td>1.0</td>\n",
              "      <td>2018-07-16</td>\n",
              "      <td>19 days</td>\n",
              "    </tr>\n",
              "    <tr>\n",
              "      <th>9</th>\n",
              "      <td>9200</td>\n",
              "      <td>2008.0</td>\n",
              "      <td>honda pilot</td>\n",
              "      <td>excellent</td>\n",
              "      <td>6</td>\n",
              "      <td>gas</td>\n",
              "      <td>147191.0</td>\n",
              "      <td>automatic</td>\n",
              "      <td>SUV</td>\n",
              "      <td>blue</td>\n",
              "      <td>1.0</td>\n",
              "      <td>2019-02-15</td>\n",
              "      <td>17 days</td>\n",
              "    </tr>\n",
              "  </tbody>\n",
              "</table>\n",
              "</div>\n",
              "      <button class=\"colab-df-convert\" onclick=\"convertToInteractive('df-4e9cf259-22fa-4564-98b2-7573ba1bf1a2')\"\n",
              "              title=\"Convert this dataframe to an interactive table.\"\n",
              "              style=\"display:none;\">\n",
              "        \n",
              "  <svg xmlns=\"http://www.w3.org/2000/svg\" height=\"24px\"viewBox=\"0 0 24 24\"\n",
              "       width=\"24px\">\n",
              "    <path d=\"M0 0h24v24H0V0z\" fill=\"none\"/>\n",
              "    <path d=\"M18.56 5.44l.94 2.06.94-2.06 2.06-.94-2.06-.94-.94-2.06-.94 2.06-2.06.94zm-11 1L8.5 8.5l.94-2.06 2.06-.94-2.06-.94L8.5 2.5l-.94 2.06-2.06.94zm10 10l.94 2.06.94-2.06 2.06-.94-2.06-.94-.94-2.06-.94 2.06-2.06.94z\"/><path d=\"M17.41 7.96l-1.37-1.37c-.4-.4-.92-.59-1.43-.59-.52 0-1.04.2-1.43.59L10.3 9.45l-7.72 7.72c-.78.78-.78 2.05 0 2.83L4 21.41c.39.39.9.59 1.41.59.51 0 1.02-.2 1.41-.59l7.78-7.78 2.81-2.81c.8-.78.8-2.07 0-2.86zM5.41 20L4 18.59l7.72-7.72 1.47 1.35L5.41 20z\"/>\n",
              "  </svg>\n",
              "      </button>\n",
              "      \n",
              "  <style>\n",
              "    .colab-df-container {\n",
              "      display:flex;\n",
              "      flex-wrap:wrap;\n",
              "      gap: 12px;\n",
              "    }\n",
              "\n",
              "    .colab-df-convert {\n",
              "      background-color: #E8F0FE;\n",
              "      border: none;\n",
              "      border-radius: 50%;\n",
              "      cursor: pointer;\n",
              "      display: none;\n",
              "      fill: #1967D2;\n",
              "      height: 32px;\n",
              "      padding: 0 0 0 0;\n",
              "      width: 32px;\n",
              "    }\n",
              "\n",
              "    .colab-df-convert:hover {\n",
              "      background-color: #E2EBFA;\n",
              "      box-shadow: 0px 1px 2px rgba(60, 64, 67, 0.3), 0px 1px 3px 1px rgba(60, 64, 67, 0.15);\n",
              "      fill: #174EA6;\n",
              "    }\n",
              "\n",
              "    [theme=dark] .colab-df-convert {\n",
              "      background-color: #3B4455;\n",
              "      fill: #D2E3FC;\n",
              "    }\n",
              "\n",
              "    [theme=dark] .colab-df-convert:hover {\n",
              "      background-color: #434B5C;\n",
              "      box-shadow: 0px 1px 3px 1px rgba(0, 0, 0, 0.15);\n",
              "      filter: drop-shadow(0px 1px 2px rgba(0, 0, 0, 0.3));\n",
              "      fill: #FFFFFF;\n",
              "    }\n",
              "  </style>\n",
              "\n",
              "      <script>\n",
              "        const buttonEl =\n",
              "          document.querySelector('#df-4e9cf259-22fa-4564-98b2-7573ba1bf1a2 button.colab-df-convert');\n",
              "        buttonEl.style.display =\n",
              "          google.colab.kernel.accessAllowed ? 'block' : 'none';\n",
              "\n",
              "        async function convertToInteractive(key) {\n",
              "          const element = document.querySelector('#df-4e9cf259-22fa-4564-98b2-7573ba1bf1a2');\n",
              "          const dataTable =\n",
              "            await google.colab.kernel.invokeFunction('convertToInteractive',\n",
              "                                                     [key], {});\n",
              "          if (!dataTable) return;\n",
              "\n",
              "          const docLinkHtml = 'Like what you see? Visit the ' +\n",
              "            '<a target=\"_blank\" href=https://colab.research.google.com/notebooks/data_table.ipynb>data table notebook</a>'\n",
              "            + ' to learn more about interactive tables.';\n",
              "          element.innerHTML = '';\n",
              "          dataTable['output_type'] = 'display_data';\n",
              "          await google.colab.output.renderOutput(dataTable, element);\n",
              "          const docLink = document.createElement('div');\n",
              "          docLink.innerHTML = docLinkHtml;\n",
              "          element.appendChild(docLink);\n",
              "        }\n",
              "      </script>\n",
              "    </div>\n",
              "  </div>\n",
              "  "
            ]
          },
          "metadata": {},
          "execution_count": 38
        }
      ],
      "source": [
        "# melihat kolom-kolom yang telah diperbaiki\n",
        "\n",
        "data.head(10)"
      ]
    },
    {
      "cell_type": "markdown",
      "metadata": {
        "id": "o2vD92OPUBrB"
      },
      "source": [
        "## Memperbaiki Kualitas Data"
      ]
    },
    {
      "cell_type": "code",
      "execution_count": 39,
      "metadata": {
        "id": "aj4shkBpUBrB"
      },
      "outputs": [],
      "source": [
        "# Tambahkan nilai waktu dan tanggal pada saat iklan ditayangkan: hari, bulan, dan tahun\n",
        "# Days legend: 0=senin, 1=selasa, 2=rabu, 3=kamis, 4=jumat, 5=sabtu, 6=minggu\n",
        "\n",
        "data['days_posted'] = data['date_posted'].dt.dayofweek\n",
        "data['months_posted'] = data['date_posted'].dt.month\n",
        "data['years_posted'] = data['date_posted'].dt.year\n"
      ]
    },
    {
      "cell_type": "code",
      "execution_count": 40,
      "metadata": {
        "id": "VO4vj-WnUBrB"
      },
      "outputs": [],
      "source": [
        "# Menambahkan kolom tanggal terakhir iklan ditayangkan\n",
        "\n",
        "data['last_posted'] = data['date_posted'] + data['days_listed']\n"
      ]
    },
    {
      "cell_type": "code",
      "execution_count": 41,
      "metadata": {
        "scrolled": false,
        "colab": {
          "base_uri": "https://localhost:8080/",
          "height": 340
        },
        "id": "_mgn3SodUBrB",
        "outputId": "29851fc6-7ce3-46f3-8dc4-fcea18ce0743"
      },
      "outputs": [
        {
          "output_type": "execute_result",
          "data": {
            "text/plain": [
              "   price  model_year           model  condition  cylinders fuel  odometer  \\\n",
              "0   9400      2011.0          bmw x5       good          6  gas  145000.0   \n",
              "1  25500      2011.0      ford f-150       good          6  gas   88705.0   \n",
              "2   5500      2013.0  hyundai sonata   like new          4  gas  110000.0   \n",
              "3   1500      2003.0      ford f-150       fair          8  gas  113000.0   \n",
              "4  14900      2017.0    chrysler 200  excellent          4  gas   80903.0   \n",
              "\n",
              "  transmission    type paint_color  is_4wd date_posted days_listed  \\\n",
              "0    automatic     SUV      others     1.0  2018-06-23     19 days   \n",
              "1    automatic  pickup       white     1.0  2018-10-19     50 days   \n",
              "2    automatic   sedan         red     0.0  2019-02-07     79 days   \n",
              "3    automatic  pickup      others     0.0  2019-03-22      9 days   \n",
              "4    automatic   sedan       black     0.0  2019-04-02     28 days   \n",
              "\n",
              "   days_posted  months_posted  years_posted last_posted  \n",
              "0            5              6          2018  2018-07-12  \n",
              "1            4             10          2018  2018-12-08  \n",
              "2            3              2          2019  2019-04-27  \n",
              "3            4              3          2019  2019-03-31  \n",
              "4            1              4          2019  2019-04-30  "
            ],
            "text/html": [
              "\n",
              "  <div id=\"df-2f3554c1-1ab3-4ad4-ab04-6740c8ae7688\">\n",
              "    <div class=\"colab-df-container\">\n",
              "      <div>\n",
              "<style scoped>\n",
              "    .dataframe tbody tr th:only-of-type {\n",
              "        vertical-align: middle;\n",
              "    }\n",
              "\n",
              "    .dataframe tbody tr th {\n",
              "        vertical-align: top;\n",
              "    }\n",
              "\n",
              "    .dataframe thead th {\n",
              "        text-align: right;\n",
              "    }\n",
              "</style>\n",
              "<table border=\"1\" class=\"dataframe\">\n",
              "  <thead>\n",
              "    <tr style=\"text-align: right;\">\n",
              "      <th></th>\n",
              "      <th>price</th>\n",
              "      <th>model_year</th>\n",
              "      <th>model</th>\n",
              "      <th>condition</th>\n",
              "      <th>cylinders</th>\n",
              "      <th>fuel</th>\n",
              "      <th>odometer</th>\n",
              "      <th>transmission</th>\n",
              "      <th>type</th>\n",
              "      <th>paint_color</th>\n",
              "      <th>is_4wd</th>\n",
              "      <th>date_posted</th>\n",
              "      <th>days_listed</th>\n",
              "      <th>days_posted</th>\n",
              "      <th>months_posted</th>\n",
              "      <th>years_posted</th>\n",
              "      <th>last_posted</th>\n",
              "    </tr>\n",
              "  </thead>\n",
              "  <tbody>\n",
              "    <tr>\n",
              "      <th>0</th>\n",
              "      <td>9400</td>\n",
              "      <td>2011.0</td>\n",
              "      <td>bmw x5</td>\n",
              "      <td>good</td>\n",
              "      <td>6</td>\n",
              "      <td>gas</td>\n",
              "      <td>145000.0</td>\n",
              "      <td>automatic</td>\n",
              "      <td>SUV</td>\n",
              "      <td>others</td>\n",
              "      <td>1.0</td>\n",
              "      <td>2018-06-23</td>\n",
              "      <td>19 days</td>\n",
              "      <td>5</td>\n",
              "      <td>6</td>\n",
              "      <td>2018</td>\n",
              "      <td>2018-07-12</td>\n",
              "    </tr>\n",
              "    <tr>\n",
              "      <th>1</th>\n",
              "      <td>25500</td>\n",
              "      <td>2011.0</td>\n",
              "      <td>ford f-150</td>\n",
              "      <td>good</td>\n",
              "      <td>6</td>\n",
              "      <td>gas</td>\n",
              "      <td>88705.0</td>\n",
              "      <td>automatic</td>\n",
              "      <td>pickup</td>\n",
              "      <td>white</td>\n",
              "      <td>1.0</td>\n",
              "      <td>2018-10-19</td>\n",
              "      <td>50 days</td>\n",
              "      <td>4</td>\n",
              "      <td>10</td>\n",
              "      <td>2018</td>\n",
              "      <td>2018-12-08</td>\n",
              "    </tr>\n",
              "    <tr>\n",
              "      <th>2</th>\n",
              "      <td>5500</td>\n",
              "      <td>2013.0</td>\n",
              "      <td>hyundai sonata</td>\n",
              "      <td>like new</td>\n",
              "      <td>4</td>\n",
              "      <td>gas</td>\n",
              "      <td>110000.0</td>\n",
              "      <td>automatic</td>\n",
              "      <td>sedan</td>\n",
              "      <td>red</td>\n",
              "      <td>0.0</td>\n",
              "      <td>2019-02-07</td>\n",
              "      <td>79 days</td>\n",
              "      <td>3</td>\n",
              "      <td>2</td>\n",
              "      <td>2019</td>\n",
              "      <td>2019-04-27</td>\n",
              "    </tr>\n",
              "    <tr>\n",
              "      <th>3</th>\n",
              "      <td>1500</td>\n",
              "      <td>2003.0</td>\n",
              "      <td>ford f-150</td>\n",
              "      <td>fair</td>\n",
              "      <td>8</td>\n",
              "      <td>gas</td>\n",
              "      <td>113000.0</td>\n",
              "      <td>automatic</td>\n",
              "      <td>pickup</td>\n",
              "      <td>others</td>\n",
              "      <td>0.0</td>\n",
              "      <td>2019-03-22</td>\n",
              "      <td>9 days</td>\n",
              "      <td>4</td>\n",
              "      <td>3</td>\n",
              "      <td>2019</td>\n",
              "      <td>2019-03-31</td>\n",
              "    </tr>\n",
              "    <tr>\n",
              "      <th>4</th>\n",
              "      <td>14900</td>\n",
              "      <td>2017.0</td>\n",
              "      <td>chrysler 200</td>\n",
              "      <td>excellent</td>\n",
              "      <td>4</td>\n",
              "      <td>gas</td>\n",
              "      <td>80903.0</td>\n",
              "      <td>automatic</td>\n",
              "      <td>sedan</td>\n",
              "      <td>black</td>\n",
              "      <td>0.0</td>\n",
              "      <td>2019-04-02</td>\n",
              "      <td>28 days</td>\n",
              "      <td>1</td>\n",
              "      <td>4</td>\n",
              "      <td>2019</td>\n",
              "      <td>2019-04-30</td>\n",
              "    </tr>\n",
              "  </tbody>\n",
              "</table>\n",
              "</div>\n",
              "      <button class=\"colab-df-convert\" onclick=\"convertToInteractive('df-2f3554c1-1ab3-4ad4-ab04-6740c8ae7688')\"\n",
              "              title=\"Convert this dataframe to an interactive table.\"\n",
              "              style=\"display:none;\">\n",
              "        \n",
              "  <svg xmlns=\"http://www.w3.org/2000/svg\" height=\"24px\"viewBox=\"0 0 24 24\"\n",
              "       width=\"24px\">\n",
              "    <path d=\"M0 0h24v24H0V0z\" fill=\"none\"/>\n",
              "    <path d=\"M18.56 5.44l.94 2.06.94-2.06 2.06-.94-2.06-.94-.94-2.06-.94 2.06-2.06.94zm-11 1L8.5 8.5l.94-2.06 2.06-.94-2.06-.94L8.5 2.5l-.94 2.06-2.06.94zm10 10l.94 2.06.94-2.06 2.06-.94-2.06-.94-.94-2.06-.94 2.06-2.06.94z\"/><path d=\"M17.41 7.96l-1.37-1.37c-.4-.4-.92-.59-1.43-.59-.52 0-1.04.2-1.43.59L10.3 9.45l-7.72 7.72c-.78.78-.78 2.05 0 2.83L4 21.41c.39.39.9.59 1.41.59.51 0 1.02-.2 1.41-.59l7.78-7.78 2.81-2.81c.8-.78.8-2.07 0-2.86zM5.41 20L4 18.59l7.72-7.72 1.47 1.35L5.41 20z\"/>\n",
              "  </svg>\n",
              "      </button>\n",
              "      \n",
              "  <style>\n",
              "    .colab-df-container {\n",
              "      display:flex;\n",
              "      flex-wrap:wrap;\n",
              "      gap: 12px;\n",
              "    }\n",
              "\n",
              "    .colab-df-convert {\n",
              "      background-color: #E8F0FE;\n",
              "      border: none;\n",
              "      border-radius: 50%;\n",
              "      cursor: pointer;\n",
              "      display: none;\n",
              "      fill: #1967D2;\n",
              "      height: 32px;\n",
              "      padding: 0 0 0 0;\n",
              "      width: 32px;\n",
              "    }\n",
              "\n",
              "    .colab-df-convert:hover {\n",
              "      background-color: #E2EBFA;\n",
              "      box-shadow: 0px 1px 2px rgba(60, 64, 67, 0.3), 0px 1px 3px 1px rgba(60, 64, 67, 0.15);\n",
              "      fill: #174EA6;\n",
              "    }\n",
              "\n",
              "    [theme=dark] .colab-df-convert {\n",
              "      background-color: #3B4455;\n",
              "      fill: #D2E3FC;\n",
              "    }\n",
              "\n",
              "    [theme=dark] .colab-df-convert:hover {\n",
              "      background-color: #434B5C;\n",
              "      box-shadow: 0px 1px 3px 1px rgba(0, 0, 0, 0.15);\n",
              "      filter: drop-shadow(0px 1px 2px rgba(0, 0, 0, 0.3));\n",
              "      fill: #FFFFFF;\n",
              "    }\n",
              "  </style>\n",
              "\n",
              "      <script>\n",
              "        const buttonEl =\n",
              "          document.querySelector('#df-2f3554c1-1ab3-4ad4-ab04-6740c8ae7688 button.colab-df-convert');\n",
              "        buttonEl.style.display =\n",
              "          google.colab.kernel.accessAllowed ? 'block' : 'none';\n",
              "\n",
              "        async function convertToInteractive(key) {\n",
              "          const element = document.querySelector('#df-2f3554c1-1ab3-4ad4-ab04-6740c8ae7688');\n",
              "          const dataTable =\n",
              "            await google.colab.kernel.invokeFunction('convertToInteractive',\n",
              "                                                     [key], {});\n",
              "          if (!dataTable) return;\n",
              "\n",
              "          const docLinkHtml = 'Like what you see? Visit the ' +\n",
              "            '<a target=\"_blank\" href=https://colab.research.google.com/notebooks/data_table.ipynb>data table notebook</a>'\n",
              "            + ' to learn more about interactive tables.';\n",
              "          element.innerHTML = '';\n",
              "          dataTable['output_type'] = 'display_data';\n",
              "          await google.colab.output.renderOutput(dataTable, element);\n",
              "          const docLink = document.createElement('div');\n",
              "          docLink.innerHTML = docLinkHtml;\n",
              "          element.appendChild(docLink);\n",
              "        }\n",
              "      </script>\n",
              "    </div>\n",
              "  </div>\n",
              "  "
            ]
          },
          "metadata": {},
          "execution_count": 41
        }
      ],
      "source": [
        "# memeriksa kolom baru yang telah dibuat\n",
        "\n",
        "data.head()"
      ]
    },
    {
      "cell_type": "code",
      "execution_count": 42,
      "metadata": {
        "id": "vn6JlUcHUBrB"
      },
      "outputs": [],
      "source": [
        "# Tambahkan usia kendaraan saat iklan ditayangkan\n",
        "\n",
        "data['car_age'] = data['years_posted'] - data['model_year']"
      ]
    },
    {
      "cell_type": "code",
      "execution_count": 43,
      "metadata": {
        "scrolled": true,
        "colab": {
          "base_uri": "https://localhost:8080/"
        },
        "id": "izI3r-H-UBrC",
        "outputId": "aba66205-c426-4b58-d1a1-6256e6f25217"
      },
      "outputs": [
        {
          "output_type": "execute_result",
          "data": {
            "text/plain": [
              "[0.0,\n",
              " 1.0,\n",
              " 2.0,\n",
              " 3.0,\n",
              " 4.0,\n",
              " 5.0,\n",
              " 6.0,\n",
              " 7.0,\n",
              " 8.0,\n",
              " 9.0,\n",
              " 10.0,\n",
              " 11.0,\n",
              " 12.0,\n",
              " 13.0,\n",
              " 14.0,\n",
              " 15.0,\n",
              " 16.0,\n",
              " 17.0,\n",
              " 18.0,\n",
              " 19.0,\n",
              " 20.0,\n",
              " 21.0,\n",
              " 22.0,\n",
              " 23.0,\n",
              " 24.0,\n",
              " 25.0,\n",
              " 26.0,\n",
              " 27.0,\n",
              " 28.0,\n",
              " 29.0,\n",
              " 30.0,\n",
              " 31.0,\n",
              " 32.0,\n",
              " 33.0,\n",
              " 34.0,\n",
              " 35.0,\n",
              " 36.0,\n",
              " 37.0,\n",
              " 38.0,\n",
              " 39.0,\n",
              " 40.0,\n",
              " 41.0,\n",
              " 42.0,\n",
              " 43.0,\n",
              " 44.0,\n",
              " 45.0,\n",
              " 46.0,\n",
              " 47.0,\n",
              " 48.0,\n",
              " 49.0,\n",
              " 50.0,\n",
              " 51.0,\n",
              " 52.0,\n",
              " 53.0,\n",
              " 54.0,\n",
              " 55.0,\n",
              " 56.0,\n",
              " 57.0,\n",
              " 58.0,\n",
              " 59.0,\n",
              " 60.0,\n",
              " 63.0,\n",
              " 65.0,\n",
              " 69.0,\n",
              " 71.0,\n",
              " 82.0,\n",
              " 89.0,\n",
              " 110.0]"
            ]
          },
          "metadata": {},
          "execution_count": 43
        }
      ],
      "source": [
        "# Memeriksa nilai unik car_age\n",
        "\n",
        "sorted(data['car_age'].unique())"
      ]
    },
    {
      "cell_type": "code",
      "execution_count": 44,
      "metadata": {
        "scrolled": false,
        "colab": {
          "base_uri": "https://localhost:8080/",
          "height": 748
        },
        "id": "DNAuG1ZyUBrC",
        "outputId": "ee1f0207-e64f-450c-86d0-e10eff80cdae"
      },
      "outputs": [
        {
          "output_type": "execute_result",
          "data": {
            "text/plain": [
              "       price  model_year                        model  condition  cylinders  \\\n",
              "19     13990      2018.0              hyundai elantra  excellent          4   \n",
              "71     23300      2018.0  nissan frontier crew cab sv       good          6   \n",
              "78     23800      2019.0  nissan frontier crew cab sv       good          6   \n",
              "99     39950      2018.0          chevrolet silverado  excellent          8   \n",
              "106    21500      2019.0  nissan frontier crew cab sv       good          6   \n",
              "...      ...         ...                          ...        ...        ...   \n",
              "51376  27890      2018.0                     ram 1500  excellent          8   \n",
              "51442  28990      2018.0                    ford f150  excellent          6   \n",
              "51446  15999      2018.0             chevrolet malibu  excellent          4   \n",
              "51447  33990      2019.0                     ram 1500  excellent          8   \n",
              "51504  20481      2018.0                 toyota camry   like new          4   \n",
              "\n",
              "      fuel  odometer transmission    type paint_color  is_4wd date_posted  \\\n",
              "19     gas   31932.0    automatic   sedan         red     0.0  2018-08-25   \n",
              "71     gas   27493.0        other  pickup      others     1.0  2018-10-13   \n",
              "78     gas   10899.0        other  pickup      silver     1.0  2019-02-28   \n",
              "99     gas   18500.0    automatic   truck      others     1.0  2018-08-05   \n",
              "106    gas   16168.0        other  pickup       white     0.0  2019-03-29   \n",
              "...    ...       ...          ...     ...         ...     ...         ...   \n",
              "51376  gas    9446.0    automatic   truck      others     1.0  2018-05-06   \n",
              "51442  gas   10152.0    automatic   truck       white     1.0  2018-06-13   \n",
              "51446  gas   50502.0    automatic   sedan       black     0.0  2018-07-28   \n",
              "51447  gas    9000.0    automatic   truck       white     1.0  2019-01-25   \n",
              "51504  gas   38590.0    automatic   sedan      silver     0.0  2018-12-06   \n",
              "\n",
              "      days_listed  days_posted  months_posted  years_posted last_posted  \\\n",
              "19        27 days            5              8          2018  2018-09-21   \n",
              "71        36 days            5             10          2018  2018-11-18   \n",
              "78        30 days            3              2          2019  2019-03-30   \n",
              "99        16 days            6              8          2018  2018-08-21   \n",
              "106       70 days            4              3          2019  2019-06-07   \n",
              "...           ...          ...            ...           ...         ...   \n",
              "51376     39 days            6              5          2018  2018-06-14   \n",
              "51442     47 days            2              6          2018  2018-07-30   \n",
              "51446      8 days            5              7          2018  2018-08-05   \n",
              "51447     36 days            4              1          2019  2019-03-02   \n",
              "51504      4 days            3             12          2018  2018-12-10   \n",
              "\n",
              "       car_age  \n",
              "19         0.0  \n",
              "71         0.0  \n",
              "78         0.0  \n",
              "99         0.0  \n",
              "106        0.0  \n",
              "...        ...  \n",
              "51376      0.0  \n",
              "51442      0.0  \n",
              "51446      0.0  \n",
              "51447      0.0  \n",
              "51504      0.0  \n",
              "\n",
              "[2128 rows x 18 columns]"
            ],
            "text/html": [
              "\n",
              "  <div id=\"df-bc0bf6f7-2055-4004-8d23-6cc257fa4764\">\n",
              "    <div class=\"colab-df-container\">\n",
              "      <div>\n",
              "<style scoped>\n",
              "    .dataframe tbody tr th:only-of-type {\n",
              "        vertical-align: middle;\n",
              "    }\n",
              "\n",
              "    .dataframe tbody tr th {\n",
              "        vertical-align: top;\n",
              "    }\n",
              "\n",
              "    .dataframe thead th {\n",
              "        text-align: right;\n",
              "    }\n",
              "</style>\n",
              "<table border=\"1\" class=\"dataframe\">\n",
              "  <thead>\n",
              "    <tr style=\"text-align: right;\">\n",
              "      <th></th>\n",
              "      <th>price</th>\n",
              "      <th>model_year</th>\n",
              "      <th>model</th>\n",
              "      <th>condition</th>\n",
              "      <th>cylinders</th>\n",
              "      <th>fuel</th>\n",
              "      <th>odometer</th>\n",
              "      <th>transmission</th>\n",
              "      <th>type</th>\n",
              "      <th>paint_color</th>\n",
              "      <th>is_4wd</th>\n",
              "      <th>date_posted</th>\n",
              "      <th>days_listed</th>\n",
              "      <th>days_posted</th>\n",
              "      <th>months_posted</th>\n",
              "      <th>years_posted</th>\n",
              "      <th>last_posted</th>\n",
              "      <th>car_age</th>\n",
              "    </tr>\n",
              "  </thead>\n",
              "  <tbody>\n",
              "    <tr>\n",
              "      <th>19</th>\n",
              "      <td>13990</td>\n",
              "      <td>2018.0</td>\n",
              "      <td>hyundai elantra</td>\n",
              "      <td>excellent</td>\n",
              "      <td>4</td>\n",
              "      <td>gas</td>\n",
              "      <td>31932.0</td>\n",
              "      <td>automatic</td>\n",
              "      <td>sedan</td>\n",
              "      <td>red</td>\n",
              "      <td>0.0</td>\n",
              "      <td>2018-08-25</td>\n",
              "      <td>27 days</td>\n",
              "      <td>5</td>\n",
              "      <td>8</td>\n",
              "      <td>2018</td>\n",
              "      <td>2018-09-21</td>\n",
              "      <td>0.0</td>\n",
              "    </tr>\n",
              "    <tr>\n",
              "      <th>71</th>\n",
              "      <td>23300</td>\n",
              "      <td>2018.0</td>\n",
              "      <td>nissan frontier crew cab sv</td>\n",
              "      <td>good</td>\n",
              "      <td>6</td>\n",
              "      <td>gas</td>\n",
              "      <td>27493.0</td>\n",
              "      <td>other</td>\n",
              "      <td>pickup</td>\n",
              "      <td>others</td>\n",
              "      <td>1.0</td>\n",
              "      <td>2018-10-13</td>\n",
              "      <td>36 days</td>\n",
              "      <td>5</td>\n",
              "      <td>10</td>\n",
              "      <td>2018</td>\n",
              "      <td>2018-11-18</td>\n",
              "      <td>0.0</td>\n",
              "    </tr>\n",
              "    <tr>\n",
              "      <th>78</th>\n",
              "      <td>23800</td>\n",
              "      <td>2019.0</td>\n",
              "      <td>nissan frontier crew cab sv</td>\n",
              "      <td>good</td>\n",
              "      <td>6</td>\n",
              "      <td>gas</td>\n",
              "      <td>10899.0</td>\n",
              "      <td>other</td>\n",
              "      <td>pickup</td>\n",
              "      <td>silver</td>\n",
              "      <td>1.0</td>\n",
              "      <td>2019-02-28</td>\n",
              "      <td>30 days</td>\n",
              "      <td>3</td>\n",
              "      <td>2</td>\n",
              "      <td>2019</td>\n",
              "      <td>2019-03-30</td>\n",
              "      <td>0.0</td>\n",
              "    </tr>\n",
              "    <tr>\n",
              "      <th>99</th>\n",
              "      <td>39950</td>\n",
              "      <td>2018.0</td>\n",
              "      <td>chevrolet silverado</td>\n",
              "      <td>excellent</td>\n",
              "      <td>8</td>\n",
              "      <td>gas</td>\n",
              "      <td>18500.0</td>\n",
              "      <td>automatic</td>\n",
              "      <td>truck</td>\n",
              "      <td>others</td>\n",
              "      <td>1.0</td>\n",
              "      <td>2018-08-05</td>\n",
              "      <td>16 days</td>\n",
              "      <td>6</td>\n",
              "      <td>8</td>\n",
              "      <td>2018</td>\n",
              "      <td>2018-08-21</td>\n",
              "      <td>0.0</td>\n",
              "    </tr>\n",
              "    <tr>\n",
              "      <th>106</th>\n",
              "      <td>21500</td>\n",
              "      <td>2019.0</td>\n",
              "      <td>nissan frontier crew cab sv</td>\n",
              "      <td>good</td>\n",
              "      <td>6</td>\n",
              "      <td>gas</td>\n",
              "      <td>16168.0</td>\n",
              "      <td>other</td>\n",
              "      <td>pickup</td>\n",
              "      <td>white</td>\n",
              "      <td>0.0</td>\n",
              "      <td>2019-03-29</td>\n",
              "      <td>70 days</td>\n",
              "      <td>4</td>\n",
              "      <td>3</td>\n",
              "      <td>2019</td>\n",
              "      <td>2019-06-07</td>\n",
              "      <td>0.0</td>\n",
              "    </tr>\n",
              "    <tr>\n",
              "      <th>...</th>\n",
              "      <td>...</td>\n",
              "      <td>...</td>\n",
              "      <td>...</td>\n",
              "      <td>...</td>\n",
              "      <td>...</td>\n",
              "      <td>...</td>\n",
              "      <td>...</td>\n",
              "      <td>...</td>\n",
              "      <td>...</td>\n",
              "      <td>...</td>\n",
              "      <td>...</td>\n",
              "      <td>...</td>\n",
              "      <td>...</td>\n",
              "      <td>...</td>\n",
              "      <td>...</td>\n",
              "      <td>...</td>\n",
              "      <td>...</td>\n",
              "      <td>...</td>\n",
              "    </tr>\n",
              "    <tr>\n",
              "      <th>51376</th>\n",
              "      <td>27890</td>\n",
              "      <td>2018.0</td>\n",
              "      <td>ram 1500</td>\n",
              "      <td>excellent</td>\n",
              "      <td>8</td>\n",
              "      <td>gas</td>\n",
              "      <td>9446.0</td>\n",
              "      <td>automatic</td>\n",
              "      <td>truck</td>\n",
              "      <td>others</td>\n",
              "      <td>1.0</td>\n",
              "      <td>2018-05-06</td>\n",
              "      <td>39 days</td>\n",
              "      <td>6</td>\n",
              "      <td>5</td>\n",
              "      <td>2018</td>\n",
              "      <td>2018-06-14</td>\n",
              "      <td>0.0</td>\n",
              "    </tr>\n",
              "    <tr>\n",
              "      <th>51442</th>\n",
              "      <td>28990</td>\n",
              "      <td>2018.0</td>\n",
              "      <td>ford f150</td>\n",
              "      <td>excellent</td>\n",
              "      <td>6</td>\n",
              "      <td>gas</td>\n",
              "      <td>10152.0</td>\n",
              "      <td>automatic</td>\n",
              "      <td>truck</td>\n",
              "      <td>white</td>\n",
              "      <td>1.0</td>\n",
              "      <td>2018-06-13</td>\n",
              "      <td>47 days</td>\n",
              "      <td>2</td>\n",
              "      <td>6</td>\n",
              "      <td>2018</td>\n",
              "      <td>2018-07-30</td>\n",
              "      <td>0.0</td>\n",
              "    </tr>\n",
              "    <tr>\n",
              "      <th>51446</th>\n",
              "      <td>15999</td>\n",
              "      <td>2018.0</td>\n",
              "      <td>chevrolet malibu</td>\n",
              "      <td>excellent</td>\n",
              "      <td>4</td>\n",
              "      <td>gas</td>\n",
              "      <td>50502.0</td>\n",
              "      <td>automatic</td>\n",
              "      <td>sedan</td>\n",
              "      <td>black</td>\n",
              "      <td>0.0</td>\n",
              "      <td>2018-07-28</td>\n",
              "      <td>8 days</td>\n",
              "      <td>5</td>\n",
              "      <td>7</td>\n",
              "      <td>2018</td>\n",
              "      <td>2018-08-05</td>\n",
              "      <td>0.0</td>\n",
              "    </tr>\n",
              "    <tr>\n",
              "      <th>51447</th>\n",
              "      <td>33990</td>\n",
              "      <td>2019.0</td>\n",
              "      <td>ram 1500</td>\n",
              "      <td>excellent</td>\n",
              "      <td>8</td>\n",
              "      <td>gas</td>\n",
              "      <td>9000.0</td>\n",
              "      <td>automatic</td>\n",
              "      <td>truck</td>\n",
              "      <td>white</td>\n",
              "      <td>1.0</td>\n",
              "      <td>2019-01-25</td>\n",
              "      <td>36 days</td>\n",
              "      <td>4</td>\n",
              "      <td>1</td>\n",
              "      <td>2019</td>\n",
              "      <td>2019-03-02</td>\n",
              "      <td>0.0</td>\n",
              "    </tr>\n",
              "    <tr>\n",
              "      <th>51504</th>\n",
              "      <td>20481</td>\n",
              "      <td>2018.0</td>\n",
              "      <td>toyota camry</td>\n",
              "      <td>like new</td>\n",
              "      <td>4</td>\n",
              "      <td>gas</td>\n",
              "      <td>38590.0</td>\n",
              "      <td>automatic</td>\n",
              "      <td>sedan</td>\n",
              "      <td>silver</td>\n",
              "      <td>0.0</td>\n",
              "      <td>2018-12-06</td>\n",
              "      <td>4 days</td>\n",
              "      <td>3</td>\n",
              "      <td>12</td>\n",
              "      <td>2018</td>\n",
              "      <td>2018-12-10</td>\n",
              "      <td>0.0</td>\n",
              "    </tr>\n",
              "  </tbody>\n",
              "</table>\n",
              "<p>2128 rows × 18 columns</p>\n",
              "</div>\n",
              "      <button class=\"colab-df-convert\" onclick=\"convertToInteractive('df-bc0bf6f7-2055-4004-8d23-6cc257fa4764')\"\n",
              "              title=\"Convert this dataframe to an interactive table.\"\n",
              "              style=\"display:none;\">\n",
              "        \n",
              "  <svg xmlns=\"http://www.w3.org/2000/svg\" height=\"24px\"viewBox=\"0 0 24 24\"\n",
              "       width=\"24px\">\n",
              "    <path d=\"M0 0h24v24H0V0z\" fill=\"none\"/>\n",
              "    <path d=\"M18.56 5.44l.94 2.06.94-2.06 2.06-.94-2.06-.94-.94-2.06-.94 2.06-2.06.94zm-11 1L8.5 8.5l.94-2.06 2.06-.94-2.06-.94L8.5 2.5l-.94 2.06-2.06.94zm10 10l.94 2.06.94-2.06 2.06-.94-2.06-.94-.94-2.06-.94 2.06-2.06.94z\"/><path d=\"M17.41 7.96l-1.37-1.37c-.4-.4-.92-.59-1.43-.59-.52 0-1.04.2-1.43.59L10.3 9.45l-7.72 7.72c-.78.78-.78 2.05 0 2.83L4 21.41c.39.39.9.59 1.41.59.51 0 1.02-.2 1.41-.59l7.78-7.78 2.81-2.81c.8-.78.8-2.07 0-2.86zM5.41 20L4 18.59l7.72-7.72 1.47 1.35L5.41 20z\"/>\n",
              "  </svg>\n",
              "      </button>\n",
              "      \n",
              "  <style>\n",
              "    .colab-df-container {\n",
              "      display:flex;\n",
              "      flex-wrap:wrap;\n",
              "      gap: 12px;\n",
              "    }\n",
              "\n",
              "    .colab-df-convert {\n",
              "      background-color: #E8F0FE;\n",
              "      border: none;\n",
              "      border-radius: 50%;\n",
              "      cursor: pointer;\n",
              "      display: none;\n",
              "      fill: #1967D2;\n",
              "      height: 32px;\n",
              "      padding: 0 0 0 0;\n",
              "      width: 32px;\n",
              "    }\n",
              "\n",
              "    .colab-df-convert:hover {\n",
              "      background-color: #E2EBFA;\n",
              "      box-shadow: 0px 1px 2px rgba(60, 64, 67, 0.3), 0px 1px 3px 1px rgba(60, 64, 67, 0.15);\n",
              "      fill: #174EA6;\n",
              "    }\n",
              "\n",
              "    [theme=dark] .colab-df-convert {\n",
              "      background-color: #3B4455;\n",
              "      fill: #D2E3FC;\n",
              "    }\n",
              "\n",
              "    [theme=dark] .colab-df-convert:hover {\n",
              "      background-color: #434B5C;\n",
              "      box-shadow: 0px 1px 3px 1px rgba(0, 0, 0, 0.15);\n",
              "      filter: drop-shadow(0px 1px 2px rgba(0, 0, 0, 0.3));\n",
              "      fill: #FFFFFF;\n",
              "    }\n",
              "  </style>\n",
              "\n",
              "      <script>\n",
              "        const buttonEl =\n",
              "          document.querySelector('#df-bc0bf6f7-2055-4004-8d23-6cc257fa4764 button.colab-df-convert');\n",
              "        buttonEl.style.display =\n",
              "          google.colab.kernel.accessAllowed ? 'block' : 'none';\n",
              "\n",
              "        async function convertToInteractive(key) {\n",
              "          const element = document.querySelector('#df-bc0bf6f7-2055-4004-8d23-6cc257fa4764');\n",
              "          const dataTable =\n",
              "            await google.colab.kernel.invokeFunction('convertToInteractive',\n",
              "                                                     [key], {});\n",
              "          if (!dataTable) return;\n",
              "\n",
              "          const docLinkHtml = 'Like what you see? Visit the ' +\n",
              "            '<a target=\"_blank\" href=https://colab.research.google.com/notebooks/data_table.ipynb>data table notebook</a>'\n",
              "            + ' to learn more about interactive tables.';\n",
              "          element.innerHTML = '';\n",
              "          dataTable['output_type'] = 'display_data';\n",
              "          await google.colab.output.renderOutput(dataTable, element);\n",
              "          const docLink = document.createElement('div');\n",
              "          docLink.innerHTML = docLinkHtml;\n",
              "          element.appendChild(docLink);\n",
              "        }\n",
              "      </script>\n",
              "    </div>\n",
              "  </div>\n",
              "  "
            ]
          },
          "metadata": {},
          "execution_count": 44
        }
      ],
      "source": [
        "# Menyimpan ke tabel baru sementara untuk data yang car_age nya bernilai 0\n",
        "\n",
        "temp = data[(data['car_age'] == 0)]\n",
        "temp"
      ]
    },
    {
      "cell_type": "code",
      "execution_count": 45,
      "metadata": {
        "colab": {
          "base_uri": "https://localhost:8080/"
        },
        "id": "o4SKM5Q2UBrC",
        "outputId": "91293f89-2188-4611-fd79-eb8ffa54a530"
      },
      "outputs": [
        {
          "output_type": "execute_result",
          "data": {
            "text/plain": [
              "excellent    995\n",
              "like new     536\n",
              "good         517\n",
              "new           74\n",
              "salvage        4\n",
              "fair           2\n",
              "Name: condition, dtype: int64"
            ]
          },
          "metadata": {},
          "execution_count": 45
        }
      ],
      "source": [
        "# Melihat distribusi car_age = 0 terhadap kolom condition di tabel sementara\n",
        "\n",
        "temp['condition'].value_counts()"
      ]
    },
    {
      "cell_type": "code",
      "execution_count": 46,
      "metadata": {
        "id": "TukNTauVUBrC"
      },
      "outputs": [],
      "source": [
        "# Pada cell sebelumnya, terlihat bahwa car_age = 0 terjadi di semua kondisi kendaraan\n",
        "# Untuk memudahkan analisis, kpada data asli kami akan mengatasinya dengan cara:\n",
        "# Mengganti 0 menjadi 1 jika kolom condition tidak sama dengan new --> asumsinya memang menjual mobil baru yang belum pernah dipakai\n",
        "\n",
        "data.loc[(data['car_age'] == 0) & (data['condition'] != 'new'), 'car_age'] = 1\n"
      ]
    },
    {
      "cell_type": "code",
      "execution_count": 47,
      "metadata": {
        "scrolled": false,
        "colab": {
          "base_uri": "https://localhost:8080/",
          "height": 627
        },
        "id": "hFE4JRoKUBrC",
        "outputId": "23282b6e-ab69-4424-d67c-09f3c5cb34be"
      },
      "outputs": [
        {
          "output_type": "execute_result",
          "data": {
            "text/plain": [
              "       price  model_year                model condition  cylinders    fuel  \\\n",
              "663    30000      2018.0    toyota highlander       new          6     gas   \n",
              "833    44505      2019.0        dodge charger       new          8     gas   \n",
              "901    23000      2018.0          honda civic       new          4     gas   \n",
              "3342   26000      2018.0   chevrolet colorado       new          6     gas   \n",
              "4062   37490      2018.0    gmc sierra 2500hd       new          8     gas   \n",
              "...      ...         ...                  ...       ...        ...     ...   \n",
              "44304  20000      2018.0          ford fusion       new          4     gas   \n",
              "48229  19950      2018.0             ram 1500       new          6     gas   \n",
              "50077  19000      2018.0          honda civic       new          4     gas   \n",
              "50113  66000      2018.0           ford f-250       new          8  diesel   \n",
              "51324  18995      2018.0  dodge grand caravan       new          6     gas   \n",
              "\n",
              "       odometer transmission       type paint_color  is_4wd date_posted  \\\n",
              "663      6893.0    automatic        SUV       white     0.0  2018-07-14   \n",
              "833       202.0    automatic      sedan       black     0.0  2019-02-06   \n",
              "901     13800.0    automatic  hatchback      others     0.0  2018-08-18   \n",
              "3342     2800.0    automatic     pickup        grey     1.0  2018-10-30   \n",
              "4062       23.0    automatic     pickup       black     1.0  2018-10-14   \n",
              "...         ...          ...        ...         ...     ...         ...   \n",
              "44304   20000.0    automatic      sedan      silver     0.0  2018-09-06   \n",
              "48229      82.0    automatic      truck       white     0.0  2018-09-27   \n",
              "50077   12632.0    automatic      sedan      others     0.0  2018-10-04   \n",
              "50113   22000.0    automatic      truck       white     1.0  2018-07-19   \n",
              "51324  113000.0    automatic   mini-van        grey     0.0  2018-06-20   \n",
              "\n",
              "      days_listed  days_posted  months_posted  years_posted last_posted  \\\n",
              "663       24 days            5              7          2018  2018-08-07   \n",
              "833       44 days            2              2          2019  2019-03-22   \n",
              "901       25 days            5              8          2018  2018-09-12   \n",
              "3342      51 days            1             10          2018  2018-12-20   \n",
              "4062      20 days            6             10          2018  2018-11-03   \n",
              "...           ...          ...            ...           ...         ...   \n",
              "44304      2 days            3              9          2018  2018-09-08   \n",
              "48229     36 days            3              9          2018  2018-11-02   \n",
              "50077     15 days            3             10          2018  2018-10-19   \n",
              "50113      4 days            3              7          2018  2018-07-23   \n",
              "51324     60 days            2              6          2018  2018-08-19   \n",
              "\n",
              "       car_age  \n",
              "663        0.0  \n",
              "833        0.0  \n",
              "901        0.0  \n",
              "3342       0.0  \n",
              "4062       0.0  \n",
              "...        ...  \n",
              "44304      0.0  \n",
              "48229      0.0  \n",
              "50077      0.0  \n",
              "50113      0.0  \n",
              "51324      0.0  \n",
              "\n",
              "[74 rows x 18 columns]"
            ],
            "text/html": [
              "\n",
              "  <div id=\"df-12ecf9ff-92e9-4496-b79b-1b5ed09109c1\">\n",
              "    <div class=\"colab-df-container\">\n",
              "      <div>\n",
              "<style scoped>\n",
              "    .dataframe tbody tr th:only-of-type {\n",
              "        vertical-align: middle;\n",
              "    }\n",
              "\n",
              "    .dataframe tbody tr th {\n",
              "        vertical-align: top;\n",
              "    }\n",
              "\n",
              "    .dataframe thead th {\n",
              "        text-align: right;\n",
              "    }\n",
              "</style>\n",
              "<table border=\"1\" class=\"dataframe\">\n",
              "  <thead>\n",
              "    <tr style=\"text-align: right;\">\n",
              "      <th></th>\n",
              "      <th>price</th>\n",
              "      <th>model_year</th>\n",
              "      <th>model</th>\n",
              "      <th>condition</th>\n",
              "      <th>cylinders</th>\n",
              "      <th>fuel</th>\n",
              "      <th>odometer</th>\n",
              "      <th>transmission</th>\n",
              "      <th>type</th>\n",
              "      <th>paint_color</th>\n",
              "      <th>is_4wd</th>\n",
              "      <th>date_posted</th>\n",
              "      <th>days_listed</th>\n",
              "      <th>days_posted</th>\n",
              "      <th>months_posted</th>\n",
              "      <th>years_posted</th>\n",
              "      <th>last_posted</th>\n",
              "      <th>car_age</th>\n",
              "    </tr>\n",
              "  </thead>\n",
              "  <tbody>\n",
              "    <tr>\n",
              "      <th>663</th>\n",
              "      <td>30000</td>\n",
              "      <td>2018.0</td>\n",
              "      <td>toyota highlander</td>\n",
              "      <td>new</td>\n",
              "      <td>6</td>\n",
              "      <td>gas</td>\n",
              "      <td>6893.0</td>\n",
              "      <td>automatic</td>\n",
              "      <td>SUV</td>\n",
              "      <td>white</td>\n",
              "      <td>0.0</td>\n",
              "      <td>2018-07-14</td>\n",
              "      <td>24 days</td>\n",
              "      <td>5</td>\n",
              "      <td>7</td>\n",
              "      <td>2018</td>\n",
              "      <td>2018-08-07</td>\n",
              "      <td>0.0</td>\n",
              "    </tr>\n",
              "    <tr>\n",
              "      <th>833</th>\n",
              "      <td>44505</td>\n",
              "      <td>2019.0</td>\n",
              "      <td>dodge charger</td>\n",
              "      <td>new</td>\n",
              "      <td>8</td>\n",
              "      <td>gas</td>\n",
              "      <td>202.0</td>\n",
              "      <td>automatic</td>\n",
              "      <td>sedan</td>\n",
              "      <td>black</td>\n",
              "      <td>0.0</td>\n",
              "      <td>2019-02-06</td>\n",
              "      <td>44 days</td>\n",
              "      <td>2</td>\n",
              "      <td>2</td>\n",
              "      <td>2019</td>\n",
              "      <td>2019-03-22</td>\n",
              "      <td>0.0</td>\n",
              "    </tr>\n",
              "    <tr>\n",
              "      <th>901</th>\n",
              "      <td>23000</td>\n",
              "      <td>2018.0</td>\n",
              "      <td>honda civic</td>\n",
              "      <td>new</td>\n",
              "      <td>4</td>\n",
              "      <td>gas</td>\n",
              "      <td>13800.0</td>\n",
              "      <td>automatic</td>\n",
              "      <td>hatchback</td>\n",
              "      <td>others</td>\n",
              "      <td>0.0</td>\n",
              "      <td>2018-08-18</td>\n",
              "      <td>25 days</td>\n",
              "      <td>5</td>\n",
              "      <td>8</td>\n",
              "      <td>2018</td>\n",
              "      <td>2018-09-12</td>\n",
              "      <td>0.0</td>\n",
              "    </tr>\n",
              "    <tr>\n",
              "      <th>3342</th>\n",
              "      <td>26000</td>\n",
              "      <td>2018.0</td>\n",
              "      <td>chevrolet colorado</td>\n",
              "      <td>new</td>\n",
              "      <td>6</td>\n",
              "      <td>gas</td>\n",
              "      <td>2800.0</td>\n",
              "      <td>automatic</td>\n",
              "      <td>pickup</td>\n",
              "      <td>grey</td>\n",
              "      <td>1.0</td>\n",
              "      <td>2018-10-30</td>\n",
              "      <td>51 days</td>\n",
              "      <td>1</td>\n",
              "      <td>10</td>\n",
              "      <td>2018</td>\n",
              "      <td>2018-12-20</td>\n",
              "      <td>0.0</td>\n",
              "    </tr>\n",
              "    <tr>\n",
              "      <th>4062</th>\n",
              "      <td>37490</td>\n",
              "      <td>2018.0</td>\n",
              "      <td>gmc sierra 2500hd</td>\n",
              "      <td>new</td>\n",
              "      <td>8</td>\n",
              "      <td>gas</td>\n",
              "      <td>23.0</td>\n",
              "      <td>automatic</td>\n",
              "      <td>pickup</td>\n",
              "      <td>black</td>\n",
              "      <td>1.0</td>\n",
              "      <td>2018-10-14</td>\n",
              "      <td>20 days</td>\n",
              "      <td>6</td>\n",
              "      <td>10</td>\n",
              "      <td>2018</td>\n",
              "      <td>2018-11-03</td>\n",
              "      <td>0.0</td>\n",
              "    </tr>\n",
              "    <tr>\n",
              "      <th>...</th>\n",
              "      <td>...</td>\n",
              "      <td>...</td>\n",
              "      <td>...</td>\n",
              "      <td>...</td>\n",
              "      <td>...</td>\n",
              "      <td>...</td>\n",
              "      <td>...</td>\n",
              "      <td>...</td>\n",
              "      <td>...</td>\n",
              "      <td>...</td>\n",
              "      <td>...</td>\n",
              "      <td>...</td>\n",
              "      <td>...</td>\n",
              "      <td>...</td>\n",
              "      <td>...</td>\n",
              "      <td>...</td>\n",
              "      <td>...</td>\n",
              "      <td>...</td>\n",
              "    </tr>\n",
              "    <tr>\n",
              "      <th>44304</th>\n",
              "      <td>20000</td>\n",
              "      <td>2018.0</td>\n",
              "      <td>ford fusion</td>\n",
              "      <td>new</td>\n",
              "      <td>4</td>\n",
              "      <td>gas</td>\n",
              "      <td>20000.0</td>\n",
              "      <td>automatic</td>\n",
              "      <td>sedan</td>\n",
              "      <td>silver</td>\n",
              "      <td>0.0</td>\n",
              "      <td>2018-09-06</td>\n",
              "      <td>2 days</td>\n",
              "      <td>3</td>\n",
              "      <td>9</td>\n",
              "      <td>2018</td>\n",
              "      <td>2018-09-08</td>\n",
              "      <td>0.0</td>\n",
              "    </tr>\n",
              "    <tr>\n",
              "      <th>48229</th>\n",
              "      <td>19950</td>\n",
              "      <td>2018.0</td>\n",
              "      <td>ram 1500</td>\n",
              "      <td>new</td>\n",
              "      <td>6</td>\n",
              "      <td>gas</td>\n",
              "      <td>82.0</td>\n",
              "      <td>automatic</td>\n",
              "      <td>truck</td>\n",
              "      <td>white</td>\n",
              "      <td>0.0</td>\n",
              "      <td>2018-09-27</td>\n",
              "      <td>36 days</td>\n",
              "      <td>3</td>\n",
              "      <td>9</td>\n",
              "      <td>2018</td>\n",
              "      <td>2018-11-02</td>\n",
              "      <td>0.0</td>\n",
              "    </tr>\n",
              "    <tr>\n",
              "      <th>50077</th>\n",
              "      <td>19000</td>\n",
              "      <td>2018.0</td>\n",
              "      <td>honda civic</td>\n",
              "      <td>new</td>\n",
              "      <td>4</td>\n",
              "      <td>gas</td>\n",
              "      <td>12632.0</td>\n",
              "      <td>automatic</td>\n",
              "      <td>sedan</td>\n",
              "      <td>others</td>\n",
              "      <td>0.0</td>\n",
              "      <td>2018-10-04</td>\n",
              "      <td>15 days</td>\n",
              "      <td>3</td>\n",
              "      <td>10</td>\n",
              "      <td>2018</td>\n",
              "      <td>2018-10-19</td>\n",
              "      <td>0.0</td>\n",
              "    </tr>\n",
              "    <tr>\n",
              "      <th>50113</th>\n",
              "      <td>66000</td>\n",
              "      <td>2018.0</td>\n",
              "      <td>ford f-250</td>\n",
              "      <td>new</td>\n",
              "      <td>8</td>\n",
              "      <td>diesel</td>\n",
              "      <td>22000.0</td>\n",
              "      <td>automatic</td>\n",
              "      <td>truck</td>\n",
              "      <td>white</td>\n",
              "      <td>1.0</td>\n",
              "      <td>2018-07-19</td>\n",
              "      <td>4 days</td>\n",
              "      <td>3</td>\n",
              "      <td>7</td>\n",
              "      <td>2018</td>\n",
              "      <td>2018-07-23</td>\n",
              "      <td>0.0</td>\n",
              "    </tr>\n",
              "    <tr>\n",
              "      <th>51324</th>\n",
              "      <td>18995</td>\n",
              "      <td>2018.0</td>\n",
              "      <td>dodge grand caravan</td>\n",
              "      <td>new</td>\n",
              "      <td>6</td>\n",
              "      <td>gas</td>\n",
              "      <td>113000.0</td>\n",
              "      <td>automatic</td>\n",
              "      <td>mini-van</td>\n",
              "      <td>grey</td>\n",
              "      <td>0.0</td>\n",
              "      <td>2018-06-20</td>\n",
              "      <td>60 days</td>\n",
              "      <td>2</td>\n",
              "      <td>6</td>\n",
              "      <td>2018</td>\n",
              "      <td>2018-08-19</td>\n",
              "      <td>0.0</td>\n",
              "    </tr>\n",
              "  </tbody>\n",
              "</table>\n",
              "<p>74 rows × 18 columns</p>\n",
              "</div>\n",
              "      <button class=\"colab-df-convert\" onclick=\"convertToInteractive('df-12ecf9ff-92e9-4496-b79b-1b5ed09109c1')\"\n",
              "              title=\"Convert this dataframe to an interactive table.\"\n",
              "              style=\"display:none;\">\n",
              "        \n",
              "  <svg xmlns=\"http://www.w3.org/2000/svg\" height=\"24px\"viewBox=\"0 0 24 24\"\n",
              "       width=\"24px\">\n",
              "    <path d=\"M0 0h24v24H0V0z\" fill=\"none\"/>\n",
              "    <path d=\"M18.56 5.44l.94 2.06.94-2.06 2.06-.94-2.06-.94-.94-2.06-.94 2.06-2.06.94zm-11 1L8.5 8.5l.94-2.06 2.06-.94-2.06-.94L8.5 2.5l-.94 2.06-2.06.94zm10 10l.94 2.06.94-2.06 2.06-.94-2.06-.94-.94-2.06-.94 2.06-2.06.94z\"/><path d=\"M17.41 7.96l-1.37-1.37c-.4-.4-.92-.59-1.43-.59-.52 0-1.04.2-1.43.59L10.3 9.45l-7.72 7.72c-.78.78-.78 2.05 0 2.83L4 21.41c.39.39.9.59 1.41.59.51 0 1.02-.2 1.41-.59l7.78-7.78 2.81-2.81c.8-.78.8-2.07 0-2.86zM5.41 20L4 18.59l7.72-7.72 1.47 1.35L5.41 20z\"/>\n",
              "  </svg>\n",
              "      </button>\n",
              "      \n",
              "  <style>\n",
              "    .colab-df-container {\n",
              "      display:flex;\n",
              "      flex-wrap:wrap;\n",
              "      gap: 12px;\n",
              "    }\n",
              "\n",
              "    .colab-df-convert {\n",
              "      background-color: #E8F0FE;\n",
              "      border: none;\n",
              "      border-radius: 50%;\n",
              "      cursor: pointer;\n",
              "      display: none;\n",
              "      fill: #1967D2;\n",
              "      height: 32px;\n",
              "      padding: 0 0 0 0;\n",
              "      width: 32px;\n",
              "    }\n",
              "\n",
              "    .colab-df-convert:hover {\n",
              "      background-color: #E2EBFA;\n",
              "      box-shadow: 0px 1px 2px rgba(60, 64, 67, 0.3), 0px 1px 3px 1px rgba(60, 64, 67, 0.15);\n",
              "      fill: #174EA6;\n",
              "    }\n",
              "\n",
              "    [theme=dark] .colab-df-convert {\n",
              "      background-color: #3B4455;\n",
              "      fill: #D2E3FC;\n",
              "    }\n",
              "\n",
              "    [theme=dark] .colab-df-convert:hover {\n",
              "      background-color: #434B5C;\n",
              "      box-shadow: 0px 1px 3px 1px rgba(0, 0, 0, 0.15);\n",
              "      filter: drop-shadow(0px 1px 2px rgba(0, 0, 0, 0.3));\n",
              "      fill: #FFFFFF;\n",
              "    }\n",
              "  </style>\n",
              "\n",
              "      <script>\n",
              "        const buttonEl =\n",
              "          document.querySelector('#df-12ecf9ff-92e9-4496-b79b-1b5ed09109c1 button.colab-df-convert');\n",
              "        buttonEl.style.display =\n",
              "          google.colab.kernel.accessAllowed ? 'block' : 'none';\n",
              "\n",
              "        async function convertToInteractive(key) {\n",
              "          const element = document.querySelector('#df-12ecf9ff-92e9-4496-b79b-1b5ed09109c1');\n",
              "          const dataTable =\n",
              "            await google.colab.kernel.invokeFunction('convertToInteractive',\n",
              "                                                     [key], {});\n",
              "          if (!dataTable) return;\n",
              "\n",
              "          const docLinkHtml = 'Like what you see? Visit the ' +\n",
              "            '<a target=\"_blank\" href=https://colab.research.google.com/notebooks/data_table.ipynb>data table notebook</a>'\n",
              "            + ' to learn more about interactive tables.';\n",
              "          element.innerHTML = '';\n",
              "          dataTable['output_type'] = 'display_data';\n",
              "          await google.colab.output.renderOutput(dataTable, element);\n",
              "          const docLink = document.createElement('div');\n",
              "          docLink.innerHTML = docLinkHtml;\n",
              "          element.appendChild(docLink);\n",
              "        }\n",
              "      </script>\n",
              "    </div>\n",
              "  </div>\n",
              "  "
            ]
          },
          "metadata": {},
          "execution_count": 47
        }
      ],
      "source": [
        "# Memeriksa kembali distribusi car_age yang bernilai 0 dengan menyimpannya ke tabel sementara\n",
        "# Pada hasil dibawah terlihat ada 74 rows, sehingga sudah cocok dengan data condition new pada 2 cells sebelum ini\n",
        "\n",
        "temp2 = data[(data['car_age'] == 0)]\n",
        "temp2"
      ]
    },
    {
      "cell_type": "code",
      "execution_count": 48,
      "metadata": {
        "scrolled": true,
        "colab": {
          "base_uri": "https://localhost:8080/",
          "height": 1000
        },
        "id": "iJrZozBjUBrC",
        "outputId": "5a859b16-eef5-4fbc-d8ab-dfe9609f7387"
      },
      "outputs": [
        {
          "output_type": "execute_result",
          "data": {
            "text/plain": [
              "    price  model_year                     model  condition  cylinders fuel  \\\n",
              "0    9400      2011.0                    bmw x5       good          6  gas   \n",
              "1   25500      2011.0                ford f-150       good          6  gas   \n",
              "2    5500      2013.0            hyundai sonata   like new          4  gas   \n",
              "3    1500      2003.0                ford f-150       fair          8  gas   \n",
              "4   14900      2017.0              chrysler 200  excellent          4  gas   \n",
              "5   14990      2014.0              chrysler 300  excellent          6  gas   \n",
              "6   12990      2015.0              toyota camry  excellent          4  gas   \n",
              "7   15990      2013.0               honda pilot  excellent          6  gas   \n",
              "8   11500      2012.0               kia sorento  excellent          4  gas   \n",
              "9    9200      2008.0               honda pilot  excellent          6  gas   \n",
              "10  19500      2011.0  chevrolet silverado 1500  excellent          8  gas   \n",
              "11   8990      2012.0              honda accord  excellent          4  gas   \n",
              "12  18990      2012.0                  ram 1500  excellent          8  gas   \n",
              "13  16500      2018.0            hyundai sonata  excellent          4  gas   \n",
              "14  12990      2009.0                 gmc yukon  excellent          8  gas   \n",
              "15  17990      2013.0                  ram 1500  excellent          8  gas   \n",
              "16  14990      2010.0                  ram 1500  excellent          8  gas   \n",
              "17  13990      2014.0             jeep cherokee  excellent          6  gas   \n",
              "18  12500      2013.0        chevrolet traverse  excellent          6  gas   \n",
              "19  13990      2018.0           hyundai elantra  excellent          4  gas   \n",
              "\n",
              "    odometer transmission    type paint_color  is_4wd date_posted days_listed  \\\n",
              "0   145000.0    automatic     SUV      others     1.0  2018-06-23     19 days   \n",
              "1    88705.0    automatic  pickup       white     1.0  2018-10-19     50 days   \n",
              "2   110000.0    automatic   sedan         red     0.0  2019-02-07     79 days   \n",
              "3   113000.0    automatic  pickup      others     0.0  2019-03-22      9 days   \n",
              "4    80903.0    automatic   sedan       black     0.0  2019-04-02     28 days   \n",
              "5    57954.0    automatic   sedan       black     1.0  2018-06-20     15 days   \n",
              "6    79212.0    automatic   sedan       white     0.0  2018-12-27     73 days   \n",
              "7   109473.0    automatic     SUV       black     1.0  2019-01-07     68 days   \n",
              "8   104174.0    automatic     SUV      others     1.0  2018-07-16     19 days   \n",
              "9   147191.0    automatic     SUV        blue     1.0  2019-02-15     17 days   \n",
              "10  128413.0    automatic  pickup       black     1.0  2018-09-17     38 days   \n",
              "11  111142.0    automatic   sedan        grey     0.0  2019-03-28     29 days   \n",
              "12  140742.0    automatic  pickup      others     1.0  2019-04-02     37 days   \n",
              "13   22104.0    automatic   sedan      silver     0.0  2019-01-14     29 days   \n",
              "14  132285.0    automatic     SUV       black     1.0  2019-01-31     24 days   \n",
              "15  113000.0    automatic  pickup         red     1.0  2018-05-15    111 days   \n",
              "16  130725.0    automatic  pickup         red     1.0  2018-12-30     13 days   \n",
              "17  100669.0    automatic     SUV         red     1.0  2018-08-16     25 days   \n",
              "18  128325.0    automatic     SUV       white     1.0  2019-04-09     13 days   \n",
              "19   31932.0    automatic   sedan         red     0.0  2018-08-25     27 days   \n",
              "\n",
              "    days_posted  months_posted  years_posted last_posted  car_age  \n",
              "0             5              6          2018  2018-07-12      7.0  \n",
              "1             4             10          2018  2018-12-08      7.0  \n",
              "2             3              2          2019  2019-04-27      6.0  \n",
              "3             4              3          2019  2019-03-31     16.0  \n",
              "4             1              4          2019  2019-04-30      2.0  \n",
              "5             2              6          2018  2018-07-05      4.0  \n",
              "6             3             12          2018  2019-03-10      3.0  \n",
              "7             0              1          2019  2019-03-16      6.0  \n",
              "8             0              7          2018  2018-08-04      6.0  \n",
              "9             4              2          2019  2019-03-04     11.0  \n",
              "10            0              9          2018  2018-10-25      7.0  \n",
              "11            3              3          2019  2019-04-26      7.0  \n",
              "12            1              4          2019  2019-05-09      7.0  \n",
              "13            0              1          2019  2019-02-12      1.0  \n",
              "14            3              1          2019  2019-02-24     10.0  \n",
              "15            1              5          2018  2018-09-03      5.0  \n",
              "16            6             12          2018  2019-01-12      8.0  \n",
              "17            3              8          2018  2018-09-10      4.0  \n",
              "18            1              4          2019  2019-04-22      6.0  \n",
              "19            5              8          2018  2018-09-21      1.0  "
            ],
            "text/html": [
              "\n",
              "  <div id=\"df-c30441ad-b448-44b3-9038-1105f8385014\">\n",
              "    <div class=\"colab-df-container\">\n",
              "      <div>\n",
              "<style scoped>\n",
              "    .dataframe tbody tr th:only-of-type {\n",
              "        vertical-align: middle;\n",
              "    }\n",
              "\n",
              "    .dataframe tbody tr th {\n",
              "        vertical-align: top;\n",
              "    }\n",
              "\n",
              "    .dataframe thead th {\n",
              "        text-align: right;\n",
              "    }\n",
              "</style>\n",
              "<table border=\"1\" class=\"dataframe\">\n",
              "  <thead>\n",
              "    <tr style=\"text-align: right;\">\n",
              "      <th></th>\n",
              "      <th>price</th>\n",
              "      <th>model_year</th>\n",
              "      <th>model</th>\n",
              "      <th>condition</th>\n",
              "      <th>cylinders</th>\n",
              "      <th>fuel</th>\n",
              "      <th>odometer</th>\n",
              "      <th>transmission</th>\n",
              "      <th>type</th>\n",
              "      <th>paint_color</th>\n",
              "      <th>is_4wd</th>\n",
              "      <th>date_posted</th>\n",
              "      <th>days_listed</th>\n",
              "      <th>days_posted</th>\n",
              "      <th>months_posted</th>\n",
              "      <th>years_posted</th>\n",
              "      <th>last_posted</th>\n",
              "      <th>car_age</th>\n",
              "    </tr>\n",
              "  </thead>\n",
              "  <tbody>\n",
              "    <tr>\n",
              "      <th>0</th>\n",
              "      <td>9400</td>\n",
              "      <td>2011.0</td>\n",
              "      <td>bmw x5</td>\n",
              "      <td>good</td>\n",
              "      <td>6</td>\n",
              "      <td>gas</td>\n",
              "      <td>145000.0</td>\n",
              "      <td>automatic</td>\n",
              "      <td>SUV</td>\n",
              "      <td>others</td>\n",
              "      <td>1.0</td>\n",
              "      <td>2018-06-23</td>\n",
              "      <td>19 days</td>\n",
              "      <td>5</td>\n",
              "      <td>6</td>\n",
              "      <td>2018</td>\n",
              "      <td>2018-07-12</td>\n",
              "      <td>7.0</td>\n",
              "    </tr>\n",
              "    <tr>\n",
              "      <th>1</th>\n",
              "      <td>25500</td>\n",
              "      <td>2011.0</td>\n",
              "      <td>ford f-150</td>\n",
              "      <td>good</td>\n",
              "      <td>6</td>\n",
              "      <td>gas</td>\n",
              "      <td>88705.0</td>\n",
              "      <td>automatic</td>\n",
              "      <td>pickup</td>\n",
              "      <td>white</td>\n",
              "      <td>1.0</td>\n",
              "      <td>2018-10-19</td>\n",
              "      <td>50 days</td>\n",
              "      <td>4</td>\n",
              "      <td>10</td>\n",
              "      <td>2018</td>\n",
              "      <td>2018-12-08</td>\n",
              "      <td>7.0</td>\n",
              "    </tr>\n",
              "    <tr>\n",
              "      <th>2</th>\n",
              "      <td>5500</td>\n",
              "      <td>2013.0</td>\n",
              "      <td>hyundai sonata</td>\n",
              "      <td>like new</td>\n",
              "      <td>4</td>\n",
              "      <td>gas</td>\n",
              "      <td>110000.0</td>\n",
              "      <td>automatic</td>\n",
              "      <td>sedan</td>\n",
              "      <td>red</td>\n",
              "      <td>0.0</td>\n",
              "      <td>2019-02-07</td>\n",
              "      <td>79 days</td>\n",
              "      <td>3</td>\n",
              "      <td>2</td>\n",
              "      <td>2019</td>\n",
              "      <td>2019-04-27</td>\n",
              "      <td>6.0</td>\n",
              "    </tr>\n",
              "    <tr>\n",
              "      <th>3</th>\n",
              "      <td>1500</td>\n",
              "      <td>2003.0</td>\n",
              "      <td>ford f-150</td>\n",
              "      <td>fair</td>\n",
              "      <td>8</td>\n",
              "      <td>gas</td>\n",
              "      <td>113000.0</td>\n",
              "      <td>automatic</td>\n",
              "      <td>pickup</td>\n",
              "      <td>others</td>\n",
              "      <td>0.0</td>\n",
              "      <td>2019-03-22</td>\n",
              "      <td>9 days</td>\n",
              "      <td>4</td>\n",
              "      <td>3</td>\n",
              "      <td>2019</td>\n",
              "      <td>2019-03-31</td>\n",
              "      <td>16.0</td>\n",
              "    </tr>\n",
              "    <tr>\n",
              "      <th>4</th>\n",
              "      <td>14900</td>\n",
              "      <td>2017.0</td>\n",
              "      <td>chrysler 200</td>\n",
              "      <td>excellent</td>\n",
              "      <td>4</td>\n",
              "      <td>gas</td>\n",
              "      <td>80903.0</td>\n",
              "      <td>automatic</td>\n",
              "      <td>sedan</td>\n",
              "      <td>black</td>\n",
              "      <td>0.0</td>\n",
              "      <td>2019-04-02</td>\n",
              "      <td>28 days</td>\n",
              "      <td>1</td>\n",
              "      <td>4</td>\n",
              "      <td>2019</td>\n",
              "      <td>2019-04-30</td>\n",
              "      <td>2.0</td>\n",
              "    </tr>\n",
              "    <tr>\n",
              "      <th>5</th>\n",
              "      <td>14990</td>\n",
              "      <td>2014.0</td>\n",
              "      <td>chrysler 300</td>\n",
              "      <td>excellent</td>\n",
              "      <td>6</td>\n",
              "      <td>gas</td>\n",
              "      <td>57954.0</td>\n",
              "      <td>automatic</td>\n",
              "      <td>sedan</td>\n",
              "      <td>black</td>\n",
              "      <td>1.0</td>\n",
              "      <td>2018-06-20</td>\n",
              "      <td>15 days</td>\n",
              "      <td>2</td>\n",
              "      <td>6</td>\n",
              "      <td>2018</td>\n",
              "      <td>2018-07-05</td>\n",
              "      <td>4.0</td>\n",
              "    </tr>\n",
              "    <tr>\n",
              "      <th>6</th>\n",
              "      <td>12990</td>\n",
              "      <td>2015.0</td>\n",
              "      <td>toyota camry</td>\n",
              "      <td>excellent</td>\n",
              "      <td>4</td>\n",
              "      <td>gas</td>\n",
              "      <td>79212.0</td>\n",
              "      <td>automatic</td>\n",
              "      <td>sedan</td>\n",
              "      <td>white</td>\n",
              "      <td>0.0</td>\n",
              "      <td>2018-12-27</td>\n",
              "      <td>73 days</td>\n",
              "      <td>3</td>\n",
              "      <td>12</td>\n",
              "      <td>2018</td>\n",
              "      <td>2019-03-10</td>\n",
              "      <td>3.0</td>\n",
              "    </tr>\n",
              "    <tr>\n",
              "      <th>7</th>\n",
              "      <td>15990</td>\n",
              "      <td>2013.0</td>\n",
              "      <td>honda pilot</td>\n",
              "      <td>excellent</td>\n",
              "      <td>6</td>\n",
              "      <td>gas</td>\n",
              "      <td>109473.0</td>\n",
              "      <td>automatic</td>\n",
              "      <td>SUV</td>\n",
              "      <td>black</td>\n",
              "      <td>1.0</td>\n",
              "      <td>2019-01-07</td>\n",
              "      <td>68 days</td>\n",
              "      <td>0</td>\n",
              "      <td>1</td>\n",
              "      <td>2019</td>\n",
              "      <td>2019-03-16</td>\n",
              "      <td>6.0</td>\n",
              "    </tr>\n",
              "    <tr>\n",
              "      <th>8</th>\n",
              "      <td>11500</td>\n",
              "      <td>2012.0</td>\n",
              "      <td>kia sorento</td>\n",
              "      <td>excellent</td>\n",
              "      <td>4</td>\n",
              "      <td>gas</td>\n",
              "      <td>104174.0</td>\n",
              "      <td>automatic</td>\n",
              "      <td>SUV</td>\n",
              "      <td>others</td>\n",
              "      <td>1.0</td>\n",
              "      <td>2018-07-16</td>\n",
              "      <td>19 days</td>\n",
              "      <td>0</td>\n",
              "      <td>7</td>\n",
              "      <td>2018</td>\n",
              "      <td>2018-08-04</td>\n",
              "      <td>6.0</td>\n",
              "    </tr>\n",
              "    <tr>\n",
              "      <th>9</th>\n",
              "      <td>9200</td>\n",
              "      <td>2008.0</td>\n",
              "      <td>honda pilot</td>\n",
              "      <td>excellent</td>\n",
              "      <td>6</td>\n",
              "      <td>gas</td>\n",
              "      <td>147191.0</td>\n",
              "      <td>automatic</td>\n",
              "      <td>SUV</td>\n",
              "      <td>blue</td>\n",
              "      <td>1.0</td>\n",
              "      <td>2019-02-15</td>\n",
              "      <td>17 days</td>\n",
              "      <td>4</td>\n",
              "      <td>2</td>\n",
              "      <td>2019</td>\n",
              "      <td>2019-03-04</td>\n",
              "      <td>11.0</td>\n",
              "    </tr>\n",
              "    <tr>\n",
              "      <th>10</th>\n",
              "      <td>19500</td>\n",
              "      <td>2011.0</td>\n",
              "      <td>chevrolet silverado 1500</td>\n",
              "      <td>excellent</td>\n",
              "      <td>8</td>\n",
              "      <td>gas</td>\n",
              "      <td>128413.0</td>\n",
              "      <td>automatic</td>\n",
              "      <td>pickup</td>\n",
              "      <td>black</td>\n",
              "      <td>1.0</td>\n",
              "      <td>2018-09-17</td>\n",
              "      <td>38 days</td>\n",
              "      <td>0</td>\n",
              "      <td>9</td>\n",
              "      <td>2018</td>\n",
              "      <td>2018-10-25</td>\n",
              "      <td>7.0</td>\n",
              "    </tr>\n",
              "    <tr>\n",
              "      <th>11</th>\n",
              "      <td>8990</td>\n",
              "      <td>2012.0</td>\n",
              "      <td>honda accord</td>\n",
              "      <td>excellent</td>\n",
              "      <td>4</td>\n",
              "      <td>gas</td>\n",
              "      <td>111142.0</td>\n",
              "      <td>automatic</td>\n",
              "      <td>sedan</td>\n",
              "      <td>grey</td>\n",
              "      <td>0.0</td>\n",
              "      <td>2019-03-28</td>\n",
              "      <td>29 days</td>\n",
              "      <td>3</td>\n",
              "      <td>3</td>\n",
              "      <td>2019</td>\n",
              "      <td>2019-04-26</td>\n",
              "      <td>7.0</td>\n",
              "    </tr>\n",
              "    <tr>\n",
              "      <th>12</th>\n",
              "      <td>18990</td>\n",
              "      <td>2012.0</td>\n",
              "      <td>ram 1500</td>\n",
              "      <td>excellent</td>\n",
              "      <td>8</td>\n",
              "      <td>gas</td>\n",
              "      <td>140742.0</td>\n",
              "      <td>automatic</td>\n",
              "      <td>pickup</td>\n",
              "      <td>others</td>\n",
              "      <td>1.0</td>\n",
              "      <td>2019-04-02</td>\n",
              "      <td>37 days</td>\n",
              "      <td>1</td>\n",
              "      <td>4</td>\n",
              "      <td>2019</td>\n",
              "      <td>2019-05-09</td>\n",
              "      <td>7.0</td>\n",
              "    </tr>\n",
              "    <tr>\n",
              "      <th>13</th>\n",
              "      <td>16500</td>\n",
              "      <td>2018.0</td>\n",
              "      <td>hyundai sonata</td>\n",
              "      <td>excellent</td>\n",
              "      <td>4</td>\n",
              "      <td>gas</td>\n",
              "      <td>22104.0</td>\n",
              "      <td>automatic</td>\n",
              "      <td>sedan</td>\n",
              "      <td>silver</td>\n",
              "      <td>0.0</td>\n",
              "      <td>2019-01-14</td>\n",
              "      <td>29 days</td>\n",
              "      <td>0</td>\n",
              "      <td>1</td>\n",
              "      <td>2019</td>\n",
              "      <td>2019-02-12</td>\n",
              "      <td>1.0</td>\n",
              "    </tr>\n",
              "    <tr>\n",
              "      <th>14</th>\n",
              "      <td>12990</td>\n",
              "      <td>2009.0</td>\n",
              "      <td>gmc yukon</td>\n",
              "      <td>excellent</td>\n",
              "      <td>8</td>\n",
              "      <td>gas</td>\n",
              "      <td>132285.0</td>\n",
              "      <td>automatic</td>\n",
              "      <td>SUV</td>\n",
              "      <td>black</td>\n",
              "      <td>1.0</td>\n",
              "      <td>2019-01-31</td>\n",
              "      <td>24 days</td>\n",
              "      <td>3</td>\n",
              "      <td>1</td>\n",
              "      <td>2019</td>\n",
              "      <td>2019-02-24</td>\n",
              "      <td>10.0</td>\n",
              "    </tr>\n",
              "    <tr>\n",
              "      <th>15</th>\n",
              "      <td>17990</td>\n",
              "      <td>2013.0</td>\n",
              "      <td>ram 1500</td>\n",
              "      <td>excellent</td>\n",
              "      <td>8</td>\n",
              "      <td>gas</td>\n",
              "      <td>113000.0</td>\n",
              "      <td>automatic</td>\n",
              "      <td>pickup</td>\n",
              "      <td>red</td>\n",
              "      <td>1.0</td>\n",
              "      <td>2018-05-15</td>\n",
              "      <td>111 days</td>\n",
              "      <td>1</td>\n",
              "      <td>5</td>\n",
              "      <td>2018</td>\n",
              "      <td>2018-09-03</td>\n",
              "      <td>5.0</td>\n",
              "    </tr>\n",
              "    <tr>\n",
              "      <th>16</th>\n",
              "      <td>14990</td>\n",
              "      <td>2010.0</td>\n",
              "      <td>ram 1500</td>\n",
              "      <td>excellent</td>\n",
              "      <td>8</td>\n",
              "      <td>gas</td>\n",
              "      <td>130725.0</td>\n",
              "      <td>automatic</td>\n",
              "      <td>pickup</td>\n",
              "      <td>red</td>\n",
              "      <td>1.0</td>\n",
              "      <td>2018-12-30</td>\n",
              "      <td>13 days</td>\n",
              "      <td>6</td>\n",
              "      <td>12</td>\n",
              "      <td>2018</td>\n",
              "      <td>2019-01-12</td>\n",
              "      <td>8.0</td>\n",
              "    </tr>\n",
              "    <tr>\n",
              "      <th>17</th>\n",
              "      <td>13990</td>\n",
              "      <td>2014.0</td>\n",
              "      <td>jeep cherokee</td>\n",
              "      <td>excellent</td>\n",
              "      <td>6</td>\n",
              "      <td>gas</td>\n",
              "      <td>100669.0</td>\n",
              "      <td>automatic</td>\n",
              "      <td>SUV</td>\n",
              "      <td>red</td>\n",
              "      <td>1.0</td>\n",
              "      <td>2018-08-16</td>\n",
              "      <td>25 days</td>\n",
              "      <td>3</td>\n",
              "      <td>8</td>\n",
              "      <td>2018</td>\n",
              "      <td>2018-09-10</td>\n",
              "      <td>4.0</td>\n",
              "    </tr>\n",
              "    <tr>\n",
              "      <th>18</th>\n",
              "      <td>12500</td>\n",
              "      <td>2013.0</td>\n",
              "      <td>chevrolet traverse</td>\n",
              "      <td>excellent</td>\n",
              "      <td>6</td>\n",
              "      <td>gas</td>\n",
              "      <td>128325.0</td>\n",
              "      <td>automatic</td>\n",
              "      <td>SUV</td>\n",
              "      <td>white</td>\n",
              "      <td>1.0</td>\n",
              "      <td>2019-04-09</td>\n",
              "      <td>13 days</td>\n",
              "      <td>1</td>\n",
              "      <td>4</td>\n",
              "      <td>2019</td>\n",
              "      <td>2019-04-22</td>\n",
              "      <td>6.0</td>\n",
              "    </tr>\n",
              "    <tr>\n",
              "      <th>19</th>\n",
              "      <td>13990</td>\n",
              "      <td>2018.0</td>\n",
              "      <td>hyundai elantra</td>\n",
              "      <td>excellent</td>\n",
              "      <td>4</td>\n",
              "      <td>gas</td>\n",
              "      <td>31932.0</td>\n",
              "      <td>automatic</td>\n",
              "      <td>sedan</td>\n",
              "      <td>red</td>\n",
              "      <td>0.0</td>\n",
              "      <td>2018-08-25</td>\n",
              "      <td>27 days</td>\n",
              "      <td>5</td>\n",
              "      <td>8</td>\n",
              "      <td>2018</td>\n",
              "      <td>2018-09-21</td>\n",
              "      <td>1.0</td>\n",
              "    </tr>\n",
              "  </tbody>\n",
              "</table>\n",
              "</div>\n",
              "      <button class=\"colab-df-convert\" onclick=\"convertToInteractive('df-c30441ad-b448-44b3-9038-1105f8385014')\"\n",
              "              title=\"Convert this dataframe to an interactive table.\"\n",
              "              style=\"display:none;\">\n",
              "        \n",
              "  <svg xmlns=\"http://www.w3.org/2000/svg\" height=\"24px\"viewBox=\"0 0 24 24\"\n",
              "       width=\"24px\">\n",
              "    <path d=\"M0 0h24v24H0V0z\" fill=\"none\"/>\n",
              "    <path d=\"M18.56 5.44l.94 2.06.94-2.06 2.06-.94-2.06-.94-.94-2.06-.94 2.06-2.06.94zm-11 1L8.5 8.5l.94-2.06 2.06-.94-2.06-.94L8.5 2.5l-.94 2.06-2.06.94zm10 10l.94 2.06.94-2.06 2.06-.94-2.06-.94-.94-2.06-.94 2.06-2.06.94z\"/><path d=\"M17.41 7.96l-1.37-1.37c-.4-.4-.92-.59-1.43-.59-.52 0-1.04.2-1.43.59L10.3 9.45l-7.72 7.72c-.78.78-.78 2.05 0 2.83L4 21.41c.39.39.9.59 1.41.59.51 0 1.02-.2 1.41-.59l7.78-7.78 2.81-2.81c.8-.78.8-2.07 0-2.86zM5.41 20L4 18.59l7.72-7.72 1.47 1.35L5.41 20z\"/>\n",
              "  </svg>\n",
              "      </button>\n",
              "      \n",
              "  <style>\n",
              "    .colab-df-container {\n",
              "      display:flex;\n",
              "      flex-wrap:wrap;\n",
              "      gap: 12px;\n",
              "    }\n",
              "\n",
              "    .colab-df-convert {\n",
              "      background-color: #E8F0FE;\n",
              "      border: none;\n",
              "      border-radius: 50%;\n",
              "      cursor: pointer;\n",
              "      display: none;\n",
              "      fill: #1967D2;\n",
              "      height: 32px;\n",
              "      padding: 0 0 0 0;\n",
              "      width: 32px;\n",
              "    }\n",
              "\n",
              "    .colab-df-convert:hover {\n",
              "      background-color: #E2EBFA;\n",
              "      box-shadow: 0px 1px 2px rgba(60, 64, 67, 0.3), 0px 1px 3px 1px rgba(60, 64, 67, 0.15);\n",
              "      fill: #174EA6;\n",
              "    }\n",
              "\n",
              "    [theme=dark] .colab-df-convert {\n",
              "      background-color: #3B4455;\n",
              "      fill: #D2E3FC;\n",
              "    }\n",
              "\n",
              "    [theme=dark] .colab-df-convert:hover {\n",
              "      background-color: #434B5C;\n",
              "      box-shadow: 0px 1px 3px 1px rgba(0, 0, 0, 0.15);\n",
              "      filter: drop-shadow(0px 1px 2px rgba(0, 0, 0, 0.3));\n",
              "      fill: #FFFFFF;\n",
              "    }\n",
              "  </style>\n",
              "\n",
              "      <script>\n",
              "        const buttonEl =\n",
              "          document.querySelector('#df-c30441ad-b448-44b3-9038-1105f8385014 button.colab-df-convert');\n",
              "        buttonEl.style.display =\n",
              "          google.colab.kernel.accessAllowed ? 'block' : 'none';\n",
              "\n",
              "        async function convertToInteractive(key) {\n",
              "          const element = document.querySelector('#df-c30441ad-b448-44b3-9038-1105f8385014');\n",
              "          const dataTable =\n",
              "            await google.colab.kernel.invokeFunction('convertToInteractive',\n",
              "                                                     [key], {});\n",
              "          if (!dataTable) return;\n",
              "\n",
              "          const docLinkHtml = 'Like what you see? Visit the ' +\n",
              "            '<a target=\"_blank\" href=https://colab.research.google.com/notebooks/data_table.ipynb>data table notebook</a>'\n",
              "            + ' to learn more about interactive tables.';\n",
              "          element.innerHTML = '';\n",
              "          dataTable['output_type'] = 'display_data';\n",
              "          await google.colab.output.renderOutput(dataTable, element);\n",
              "          const docLink = document.createElement('div');\n",
              "          docLink.innerHTML = docLinkHtml;\n",
              "          element.appendChild(docLink);\n",
              "        }\n",
              "      </script>\n",
              "    </div>\n",
              "  </div>\n",
              "  "
            ]
          },
          "metadata": {},
          "execution_count": 48
        }
      ],
      "source": [
        "# Memeriksa kembali data asli\n",
        "\n",
        "data.head(20)"
      ]
    },
    {
      "cell_type": "code",
      "execution_count": 49,
      "metadata": {
        "id": "BKlfFvvbUBrC"
      },
      "outputs": [],
      "source": [
        "# Tambahkan jarak tempuh rata-rata kendaraan per tahun\n",
        "# Mengatasi kolom car_age = 0 dengan mengisi kolom avg_milleage = 0\n",
        "# Karena kita asumsikan kendaraan baru belum pernah dipakai (odometer nya masih nol)\n",
        "\n",
        "data['avg_mileage'] = data['odometer'] / data['car_age']\n",
        "data.loc[data['car_age'] == 0, 'avg_mileage'] = 0\n"
      ]
    },
    {
      "cell_type": "code",
      "execution_count": 50,
      "metadata": {
        "scrolled": true,
        "colab": {
          "base_uri": "https://localhost:8080/"
        },
        "id": "s1TpSZQjUBrC",
        "outputId": "c5c3b19f-29aa-4eec-9489-318dbc597ac1"
      },
      "outputs": [
        {
          "output_type": "execute_result",
          "data": {
            "text/plain": [
              "count     51525.000000\n",
              "mean      19104.626006\n",
              "std       16826.205674\n",
              "min           0.000000\n",
              "25%       10352.941176\n",
              "50%       15151.400000\n",
              "75%       22201.800000\n",
              "max      373200.000000\n",
              "Name: avg_mileage, dtype: float64"
            ]
          },
          "metadata": {},
          "execution_count": 50
        }
      ],
      "source": [
        "# Melihat informasi umum pada kolom jarak avg_mileage\n",
        "# Min = 0 berasal dari mobil baru yang diposting\n",
        "\n",
        "data['avg_mileage'].describe()"
      ]
    },
    {
      "cell_type": "code",
      "execution_count": 51,
      "metadata": {
        "scrolled": true,
        "colab": {
          "base_uri": "https://localhost:8080/",
          "height": 1000
        },
        "id": "_JKoJC4oUBrC",
        "outputId": "169aa994-576f-4eae-9b65-25b1a035bf84"
      },
      "outputs": [
        {
          "output_type": "execute_result",
          "data": {
            "text/plain": [
              "    price  model_year                     model  condition  cylinders fuel  \\\n",
              "0    9400      2011.0                    bmw x5       good          6  gas   \n",
              "1   25500      2011.0                ford f-150       good          6  gas   \n",
              "2    5500      2013.0            hyundai sonata   like new          4  gas   \n",
              "3    1500      2003.0                ford f-150       fair          8  gas   \n",
              "4   14900      2017.0              chrysler 200  excellent          4  gas   \n",
              "5   14990      2014.0              chrysler 300  excellent          6  gas   \n",
              "6   12990      2015.0              toyota camry  excellent          4  gas   \n",
              "7   15990      2013.0               honda pilot  excellent          6  gas   \n",
              "8   11500      2012.0               kia sorento  excellent          4  gas   \n",
              "9    9200      2008.0               honda pilot  excellent          6  gas   \n",
              "10  19500      2011.0  chevrolet silverado 1500  excellent          8  gas   \n",
              "11   8990      2012.0              honda accord  excellent          4  gas   \n",
              "12  18990      2012.0                  ram 1500  excellent          8  gas   \n",
              "13  16500      2018.0            hyundai sonata  excellent          4  gas   \n",
              "14  12990      2009.0                 gmc yukon  excellent          8  gas   \n",
              "15  17990      2013.0                  ram 1500  excellent          8  gas   \n",
              "16  14990      2010.0                  ram 1500  excellent          8  gas   \n",
              "17  13990      2014.0             jeep cherokee  excellent          6  gas   \n",
              "18  12500      2013.0        chevrolet traverse  excellent          6  gas   \n",
              "19  13990      2018.0           hyundai elantra  excellent          4  gas   \n",
              "\n",
              "    odometer transmission    type paint_color  is_4wd date_posted days_listed  \\\n",
              "0   145000.0    automatic     SUV      others     1.0  2018-06-23     19 days   \n",
              "1    88705.0    automatic  pickup       white     1.0  2018-10-19     50 days   \n",
              "2   110000.0    automatic   sedan         red     0.0  2019-02-07     79 days   \n",
              "3   113000.0    automatic  pickup      others     0.0  2019-03-22      9 days   \n",
              "4    80903.0    automatic   sedan       black     0.0  2019-04-02     28 days   \n",
              "5    57954.0    automatic   sedan       black     1.0  2018-06-20     15 days   \n",
              "6    79212.0    automatic   sedan       white     0.0  2018-12-27     73 days   \n",
              "7   109473.0    automatic     SUV       black     1.0  2019-01-07     68 days   \n",
              "8   104174.0    automatic     SUV      others     1.0  2018-07-16     19 days   \n",
              "9   147191.0    automatic     SUV        blue     1.0  2019-02-15     17 days   \n",
              "10  128413.0    automatic  pickup       black     1.0  2018-09-17     38 days   \n",
              "11  111142.0    automatic   sedan        grey     0.0  2019-03-28     29 days   \n",
              "12  140742.0    automatic  pickup      others     1.0  2019-04-02     37 days   \n",
              "13   22104.0    automatic   sedan      silver     0.0  2019-01-14     29 days   \n",
              "14  132285.0    automatic     SUV       black     1.0  2019-01-31     24 days   \n",
              "15  113000.0    automatic  pickup         red     1.0  2018-05-15    111 days   \n",
              "16  130725.0    automatic  pickup         red     1.0  2018-12-30     13 days   \n",
              "17  100669.0    automatic     SUV         red     1.0  2018-08-16     25 days   \n",
              "18  128325.0    automatic     SUV       white     1.0  2019-04-09     13 days   \n",
              "19   31932.0    automatic   sedan         red     0.0  2018-08-25     27 days   \n",
              "\n",
              "    days_posted  months_posted  years_posted last_posted  car_age  \\\n",
              "0             5              6          2018  2018-07-12      7.0   \n",
              "1             4             10          2018  2018-12-08      7.0   \n",
              "2             3              2          2019  2019-04-27      6.0   \n",
              "3             4              3          2019  2019-03-31     16.0   \n",
              "4             1              4          2019  2019-04-30      2.0   \n",
              "5             2              6          2018  2018-07-05      4.0   \n",
              "6             3             12          2018  2019-03-10      3.0   \n",
              "7             0              1          2019  2019-03-16      6.0   \n",
              "8             0              7          2018  2018-08-04      6.0   \n",
              "9             4              2          2019  2019-03-04     11.0   \n",
              "10            0              9          2018  2018-10-25      7.0   \n",
              "11            3              3          2019  2019-04-26      7.0   \n",
              "12            1              4          2019  2019-05-09      7.0   \n",
              "13            0              1          2019  2019-02-12      1.0   \n",
              "14            3              1          2019  2019-02-24     10.0   \n",
              "15            1              5          2018  2018-09-03      5.0   \n",
              "16            6             12          2018  2019-01-12      8.0   \n",
              "17            3              8          2018  2018-09-10      4.0   \n",
              "18            1              4          2019  2019-04-22      6.0   \n",
              "19            5              8          2018  2018-09-21      1.0   \n",
              "\n",
              "     avg_mileage  \n",
              "0   20714.285714  \n",
              "1   12672.142857  \n",
              "2   18333.333333  \n",
              "3    7062.500000  \n",
              "4   40451.500000  \n",
              "5   14488.500000  \n",
              "6   26404.000000  \n",
              "7   18245.500000  \n",
              "8   17362.333333  \n",
              "9   13381.000000  \n",
              "10  18344.714286  \n",
              "11  15877.428571  \n",
              "12  20106.000000  \n",
              "13  22104.000000  \n",
              "14  13228.500000  \n",
              "15  22600.000000  \n",
              "16  16340.625000  \n",
              "17  25167.250000  \n",
              "18  21387.500000  \n",
              "19  31932.000000  "
            ],
            "text/html": [
              "\n",
              "  <div id=\"df-e3bb414b-f5c8-40bf-b93c-8389f3b40ce7\">\n",
              "    <div class=\"colab-df-container\">\n",
              "      <div>\n",
              "<style scoped>\n",
              "    .dataframe tbody tr th:only-of-type {\n",
              "        vertical-align: middle;\n",
              "    }\n",
              "\n",
              "    .dataframe tbody tr th {\n",
              "        vertical-align: top;\n",
              "    }\n",
              "\n",
              "    .dataframe thead th {\n",
              "        text-align: right;\n",
              "    }\n",
              "</style>\n",
              "<table border=\"1\" class=\"dataframe\">\n",
              "  <thead>\n",
              "    <tr style=\"text-align: right;\">\n",
              "      <th></th>\n",
              "      <th>price</th>\n",
              "      <th>model_year</th>\n",
              "      <th>model</th>\n",
              "      <th>condition</th>\n",
              "      <th>cylinders</th>\n",
              "      <th>fuel</th>\n",
              "      <th>odometer</th>\n",
              "      <th>transmission</th>\n",
              "      <th>type</th>\n",
              "      <th>paint_color</th>\n",
              "      <th>is_4wd</th>\n",
              "      <th>date_posted</th>\n",
              "      <th>days_listed</th>\n",
              "      <th>days_posted</th>\n",
              "      <th>months_posted</th>\n",
              "      <th>years_posted</th>\n",
              "      <th>last_posted</th>\n",
              "      <th>car_age</th>\n",
              "      <th>avg_mileage</th>\n",
              "    </tr>\n",
              "  </thead>\n",
              "  <tbody>\n",
              "    <tr>\n",
              "      <th>0</th>\n",
              "      <td>9400</td>\n",
              "      <td>2011.0</td>\n",
              "      <td>bmw x5</td>\n",
              "      <td>good</td>\n",
              "      <td>6</td>\n",
              "      <td>gas</td>\n",
              "      <td>145000.0</td>\n",
              "      <td>automatic</td>\n",
              "      <td>SUV</td>\n",
              "      <td>others</td>\n",
              "      <td>1.0</td>\n",
              "      <td>2018-06-23</td>\n",
              "      <td>19 days</td>\n",
              "      <td>5</td>\n",
              "      <td>6</td>\n",
              "      <td>2018</td>\n",
              "      <td>2018-07-12</td>\n",
              "      <td>7.0</td>\n",
              "      <td>20714.285714</td>\n",
              "    </tr>\n",
              "    <tr>\n",
              "      <th>1</th>\n",
              "      <td>25500</td>\n",
              "      <td>2011.0</td>\n",
              "      <td>ford f-150</td>\n",
              "      <td>good</td>\n",
              "      <td>6</td>\n",
              "      <td>gas</td>\n",
              "      <td>88705.0</td>\n",
              "      <td>automatic</td>\n",
              "      <td>pickup</td>\n",
              "      <td>white</td>\n",
              "      <td>1.0</td>\n",
              "      <td>2018-10-19</td>\n",
              "      <td>50 days</td>\n",
              "      <td>4</td>\n",
              "      <td>10</td>\n",
              "      <td>2018</td>\n",
              "      <td>2018-12-08</td>\n",
              "      <td>7.0</td>\n",
              "      <td>12672.142857</td>\n",
              "    </tr>\n",
              "    <tr>\n",
              "      <th>2</th>\n",
              "      <td>5500</td>\n",
              "      <td>2013.0</td>\n",
              "      <td>hyundai sonata</td>\n",
              "      <td>like new</td>\n",
              "      <td>4</td>\n",
              "      <td>gas</td>\n",
              "      <td>110000.0</td>\n",
              "      <td>automatic</td>\n",
              "      <td>sedan</td>\n",
              "      <td>red</td>\n",
              "      <td>0.0</td>\n",
              "      <td>2019-02-07</td>\n",
              "      <td>79 days</td>\n",
              "      <td>3</td>\n",
              "      <td>2</td>\n",
              "      <td>2019</td>\n",
              "      <td>2019-04-27</td>\n",
              "      <td>6.0</td>\n",
              "      <td>18333.333333</td>\n",
              "    </tr>\n",
              "    <tr>\n",
              "      <th>3</th>\n",
              "      <td>1500</td>\n",
              "      <td>2003.0</td>\n",
              "      <td>ford f-150</td>\n",
              "      <td>fair</td>\n",
              "      <td>8</td>\n",
              "      <td>gas</td>\n",
              "      <td>113000.0</td>\n",
              "      <td>automatic</td>\n",
              "      <td>pickup</td>\n",
              "      <td>others</td>\n",
              "      <td>0.0</td>\n",
              "      <td>2019-03-22</td>\n",
              "      <td>9 days</td>\n",
              "      <td>4</td>\n",
              "      <td>3</td>\n",
              "      <td>2019</td>\n",
              "      <td>2019-03-31</td>\n",
              "      <td>16.0</td>\n",
              "      <td>7062.500000</td>\n",
              "    </tr>\n",
              "    <tr>\n",
              "      <th>4</th>\n",
              "      <td>14900</td>\n",
              "      <td>2017.0</td>\n",
              "      <td>chrysler 200</td>\n",
              "      <td>excellent</td>\n",
              "      <td>4</td>\n",
              "      <td>gas</td>\n",
              "      <td>80903.0</td>\n",
              "      <td>automatic</td>\n",
              "      <td>sedan</td>\n",
              "      <td>black</td>\n",
              "      <td>0.0</td>\n",
              "      <td>2019-04-02</td>\n",
              "      <td>28 days</td>\n",
              "      <td>1</td>\n",
              "      <td>4</td>\n",
              "      <td>2019</td>\n",
              "      <td>2019-04-30</td>\n",
              "      <td>2.0</td>\n",
              "      <td>40451.500000</td>\n",
              "    </tr>\n",
              "    <tr>\n",
              "      <th>5</th>\n",
              "      <td>14990</td>\n",
              "      <td>2014.0</td>\n",
              "      <td>chrysler 300</td>\n",
              "      <td>excellent</td>\n",
              "      <td>6</td>\n",
              "      <td>gas</td>\n",
              "      <td>57954.0</td>\n",
              "      <td>automatic</td>\n",
              "      <td>sedan</td>\n",
              "      <td>black</td>\n",
              "      <td>1.0</td>\n",
              "      <td>2018-06-20</td>\n",
              "      <td>15 days</td>\n",
              "      <td>2</td>\n",
              "      <td>6</td>\n",
              "      <td>2018</td>\n",
              "      <td>2018-07-05</td>\n",
              "      <td>4.0</td>\n",
              "      <td>14488.500000</td>\n",
              "    </tr>\n",
              "    <tr>\n",
              "      <th>6</th>\n",
              "      <td>12990</td>\n",
              "      <td>2015.0</td>\n",
              "      <td>toyota camry</td>\n",
              "      <td>excellent</td>\n",
              "      <td>4</td>\n",
              "      <td>gas</td>\n",
              "      <td>79212.0</td>\n",
              "      <td>automatic</td>\n",
              "      <td>sedan</td>\n",
              "      <td>white</td>\n",
              "      <td>0.0</td>\n",
              "      <td>2018-12-27</td>\n",
              "      <td>73 days</td>\n",
              "      <td>3</td>\n",
              "      <td>12</td>\n",
              "      <td>2018</td>\n",
              "      <td>2019-03-10</td>\n",
              "      <td>3.0</td>\n",
              "      <td>26404.000000</td>\n",
              "    </tr>\n",
              "    <tr>\n",
              "      <th>7</th>\n",
              "      <td>15990</td>\n",
              "      <td>2013.0</td>\n",
              "      <td>honda pilot</td>\n",
              "      <td>excellent</td>\n",
              "      <td>6</td>\n",
              "      <td>gas</td>\n",
              "      <td>109473.0</td>\n",
              "      <td>automatic</td>\n",
              "      <td>SUV</td>\n",
              "      <td>black</td>\n",
              "      <td>1.0</td>\n",
              "      <td>2019-01-07</td>\n",
              "      <td>68 days</td>\n",
              "      <td>0</td>\n",
              "      <td>1</td>\n",
              "      <td>2019</td>\n",
              "      <td>2019-03-16</td>\n",
              "      <td>6.0</td>\n",
              "      <td>18245.500000</td>\n",
              "    </tr>\n",
              "    <tr>\n",
              "      <th>8</th>\n",
              "      <td>11500</td>\n",
              "      <td>2012.0</td>\n",
              "      <td>kia sorento</td>\n",
              "      <td>excellent</td>\n",
              "      <td>4</td>\n",
              "      <td>gas</td>\n",
              "      <td>104174.0</td>\n",
              "      <td>automatic</td>\n",
              "      <td>SUV</td>\n",
              "      <td>others</td>\n",
              "      <td>1.0</td>\n",
              "      <td>2018-07-16</td>\n",
              "      <td>19 days</td>\n",
              "      <td>0</td>\n",
              "      <td>7</td>\n",
              "      <td>2018</td>\n",
              "      <td>2018-08-04</td>\n",
              "      <td>6.0</td>\n",
              "      <td>17362.333333</td>\n",
              "    </tr>\n",
              "    <tr>\n",
              "      <th>9</th>\n",
              "      <td>9200</td>\n",
              "      <td>2008.0</td>\n",
              "      <td>honda pilot</td>\n",
              "      <td>excellent</td>\n",
              "      <td>6</td>\n",
              "      <td>gas</td>\n",
              "      <td>147191.0</td>\n",
              "      <td>automatic</td>\n",
              "      <td>SUV</td>\n",
              "      <td>blue</td>\n",
              "      <td>1.0</td>\n",
              "      <td>2019-02-15</td>\n",
              "      <td>17 days</td>\n",
              "      <td>4</td>\n",
              "      <td>2</td>\n",
              "      <td>2019</td>\n",
              "      <td>2019-03-04</td>\n",
              "      <td>11.0</td>\n",
              "      <td>13381.000000</td>\n",
              "    </tr>\n",
              "    <tr>\n",
              "      <th>10</th>\n",
              "      <td>19500</td>\n",
              "      <td>2011.0</td>\n",
              "      <td>chevrolet silverado 1500</td>\n",
              "      <td>excellent</td>\n",
              "      <td>8</td>\n",
              "      <td>gas</td>\n",
              "      <td>128413.0</td>\n",
              "      <td>automatic</td>\n",
              "      <td>pickup</td>\n",
              "      <td>black</td>\n",
              "      <td>1.0</td>\n",
              "      <td>2018-09-17</td>\n",
              "      <td>38 days</td>\n",
              "      <td>0</td>\n",
              "      <td>9</td>\n",
              "      <td>2018</td>\n",
              "      <td>2018-10-25</td>\n",
              "      <td>7.0</td>\n",
              "      <td>18344.714286</td>\n",
              "    </tr>\n",
              "    <tr>\n",
              "      <th>11</th>\n",
              "      <td>8990</td>\n",
              "      <td>2012.0</td>\n",
              "      <td>honda accord</td>\n",
              "      <td>excellent</td>\n",
              "      <td>4</td>\n",
              "      <td>gas</td>\n",
              "      <td>111142.0</td>\n",
              "      <td>automatic</td>\n",
              "      <td>sedan</td>\n",
              "      <td>grey</td>\n",
              "      <td>0.0</td>\n",
              "      <td>2019-03-28</td>\n",
              "      <td>29 days</td>\n",
              "      <td>3</td>\n",
              "      <td>3</td>\n",
              "      <td>2019</td>\n",
              "      <td>2019-04-26</td>\n",
              "      <td>7.0</td>\n",
              "      <td>15877.428571</td>\n",
              "    </tr>\n",
              "    <tr>\n",
              "      <th>12</th>\n",
              "      <td>18990</td>\n",
              "      <td>2012.0</td>\n",
              "      <td>ram 1500</td>\n",
              "      <td>excellent</td>\n",
              "      <td>8</td>\n",
              "      <td>gas</td>\n",
              "      <td>140742.0</td>\n",
              "      <td>automatic</td>\n",
              "      <td>pickup</td>\n",
              "      <td>others</td>\n",
              "      <td>1.0</td>\n",
              "      <td>2019-04-02</td>\n",
              "      <td>37 days</td>\n",
              "      <td>1</td>\n",
              "      <td>4</td>\n",
              "      <td>2019</td>\n",
              "      <td>2019-05-09</td>\n",
              "      <td>7.0</td>\n",
              "      <td>20106.000000</td>\n",
              "    </tr>\n",
              "    <tr>\n",
              "      <th>13</th>\n",
              "      <td>16500</td>\n",
              "      <td>2018.0</td>\n",
              "      <td>hyundai sonata</td>\n",
              "      <td>excellent</td>\n",
              "      <td>4</td>\n",
              "      <td>gas</td>\n",
              "      <td>22104.0</td>\n",
              "      <td>automatic</td>\n",
              "      <td>sedan</td>\n",
              "      <td>silver</td>\n",
              "      <td>0.0</td>\n",
              "      <td>2019-01-14</td>\n",
              "      <td>29 days</td>\n",
              "      <td>0</td>\n",
              "      <td>1</td>\n",
              "      <td>2019</td>\n",
              "      <td>2019-02-12</td>\n",
              "      <td>1.0</td>\n",
              "      <td>22104.000000</td>\n",
              "    </tr>\n",
              "    <tr>\n",
              "      <th>14</th>\n",
              "      <td>12990</td>\n",
              "      <td>2009.0</td>\n",
              "      <td>gmc yukon</td>\n",
              "      <td>excellent</td>\n",
              "      <td>8</td>\n",
              "      <td>gas</td>\n",
              "      <td>132285.0</td>\n",
              "      <td>automatic</td>\n",
              "      <td>SUV</td>\n",
              "      <td>black</td>\n",
              "      <td>1.0</td>\n",
              "      <td>2019-01-31</td>\n",
              "      <td>24 days</td>\n",
              "      <td>3</td>\n",
              "      <td>1</td>\n",
              "      <td>2019</td>\n",
              "      <td>2019-02-24</td>\n",
              "      <td>10.0</td>\n",
              "      <td>13228.500000</td>\n",
              "    </tr>\n",
              "    <tr>\n",
              "      <th>15</th>\n",
              "      <td>17990</td>\n",
              "      <td>2013.0</td>\n",
              "      <td>ram 1500</td>\n",
              "      <td>excellent</td>\n",
              "      <td>8</td>\n",
              "      <td>gas</td>\n",
              "      <td>113000.0</td>\n",
              "      <td>automatic</td>\n",
              "      <td>pickup</td>\n",
              "      <td>red</td>\n",
              "      <td>1.0</td>\n",
              "      <td>2018-05-15</td>\n",
              "      <td>111 days</td>\n",
              "      <td>1</td>\n",
              "      <td>5</td>\n",
              "      <td>2018</td>\n",
              "      <td>2018-09-03</td>\n",
              "      <td>5.0</td>\n",
              "      <td>22600.000000</td>\n",
              "    </tr>\n",
              "    <tr>\n",
              "      <th>16</th>\n",
              "      <td>14990</td>\n",
              "      <td>2010.0</td>\n",
              "      <td>ram 1500</td>\n",
              "      <td>excellent</td>\n",
              "      <td>8</td>\n",
              "      <td>gas</td>\n",
              "      <td>130725.0</td>\n",
              "      <td>automatic</td>\n",
              "      <td>pickup</td>\n",
              "      <td>red</td>\n",
              "      <td>1.0</td>\n",
              "      <td>2018-12-30</td>\n",
              "      <td>13 days</td>\n",
              "      <td>6</td>\n",
              "      <td>12</td>\n",
              "      <td>2018</td>\n",
              "      <td>2019-01-12</td>\n",
              "      <td>8.0</td>\n",
              "      <td>16340.625000</td>\n",
              "    </tr>\n",
              "    <tr>\n",
              "      <th>17</th>\n",
              "      <td>13990</td>\n",
              "      <td>2014.0</td>\n",
              "      <td>jeep cherokee</td>\n",
              "      <td>excellent</td>\n",
              "      <td>6</td>\n",
              "      <td>gas</td>\n",
              "      <td>100669.0</td>\n",
              "      <td>automatic</td>\n",
              "      <td>SUV</td>\n",
              "      <td>red</td>\n",
              "      <td>1.0</td>\n",
              "      <td>2018-08-16</td>\n",
              "      <td>25 days</td>\n",
              "      <td>3</td>\n",
              "      <td>8</td>\n",
              "      <td>2018</td>\n",
              "      <td>2018-09-10</td>\n",
              "      <td>4.0</td>\n",
              "      <td>25167.250000</td>\n",
              "    </tr>\n",
              "    <tr>\n",
              "      <th>18</th>\n",
              "      <td>12500</td>\n",
              "      <td>2013.0</td>\n",
              "      <td>chevrolet traverse</td>\n",
              "      <td>excellent</td>\n",
              "      <td>6</td>\n",
              "      <td>gas</td>\n",
              "      <td>128325.0</td>\n",
              "      <td>automatic</td>\n",
              "      <td>SUV</td>\n",
              "      <td>white</td>\n",
              "      <td>1.0</td>\n",
              "      <td>2019-04-09</td>\n",
              "      <td>13 days</td>\n",
              "      <td>1</td>\n",
              "      <td>4</td>\n",
              "      <td>2019</td>\n",
              "      <td>2019-04-22</td>\n",
              "      <td>6.0</td>\n",
              "      <td>21387.500000</td>\n",
              "    </tr>\n",
              "    <tr>\n",
              "      <th>19</th>\n",
              "      <td>13990</td>\n",
              "      <td>2018.0</td>\n",
              "      <td>hyundai elantra</td>\n",
              "      <td>excellent</td>\n",
              "      <td>4</td>\n",
              "      <td>gas</td>\n",
              "      <td>31932.0</td>\n",
              "      <td>automatic</td>\n",
              "      <td>sedan</td>\n",
              "      <td>red</td>\n",
              "      <td>0.0</td>\n",
              "      <td>2018-08-25</td>\n",
              "      <td>27 days</td>\n",
              "      <td>5</td>\n",
              "      <td>8</td>\n",
              "      <td>2018</td>\n",
              "      <td>2018-09-21</td>\n",
              "      <td>1.0</td>\n",
              "      <td>31932.000000</td>\n",
              "    </tr>\n",
              "  </tbody>\n",
              "</table>\n",
              "</div>\n",
              "      <button class=\"colab-df-convert\" onclick=\"convertToInteractive('df-e3bb414b-f5c8-40bf-b93c-8389f3b40ce7')\"\n",
              "              title=\"Convert this dataframe to an interactive table.\"\n",
              "              style=\"display:none;\">\n",
              "        \n",
              "  <svg xmlns=\"http://www.w3.org/2000/svg\" height=\"24px\"viewBox=\"0 0 24 24\"\n",
              "       width=\"24px\">\n",
              "    <path d=\"M0 0h24v24H0V0z\" fill=\"none\"/>\n",
              "    <path d=\"M18.56 5.44l.94 2.06.94-2.06 2.06-.94-2.06-.94-.94-2.06-.94 2.06-2.06.94zm-11 1L8.5 8.5l.94-2.06 2.06-.94-2.06-.94L8.5 2.5l-.94 2.06-2.06.94zm10 10l.94 2.06.94-2.06 2.06-.94-2.06-.94-.94-2.06-.94 2.06-2.06.94z\"/><path d=\"M17.41 7.96l-1.37-1.37c-.4-.4-.92-.59-1.43-.59-.52 0-1.04.2-1.43.59L10.3 9.45l-7.72 7.72c-.78.78-.78 2.05 0 2.83L4 21.41c.39.39.9.59 1.41.59.51 0 1.02-.2 1.41-.59l7.78-7.78 2.81-2.81c.8-.78.8-2.07 0-2.86zM5.41 20L4 18.59l7.72-7.72 1.47 1.35L5.41 20z\"/>\n",
              "  </svg>\n",
              "      </button>\n",
              "      \n",
              "  <style>\n",
              "    .colab-df-container {\n",
              "      display:flex;\n",
              "      flex-wrap:wrap;\n",
              "      gap: 12px;\n",
              "    }\n",
              "\n",
              "    .colab-df-convert {\n",
              "      background-color: #E8F0FE;\n",
              "      border: none;\n",
              "      border-radius: 50%;\n",
              "      cursor: pointer;\n",
              "      display: none;\n",
              "      fill: #1967D2;\n",
              "      height: 32px;\n",
              "      padding: 0 0 0 0;\n",
              "      width: 32px;\n",
              "    }\n",
              "\n",
              "    .colab-df-convert:hover {\n",
              "      background-color: #E2EBFA;\n",
              "      box-shadow: 0px 1px 2px rgba(60, 64, 67, 0.3), 0px 1px 3px 1px rgba(60, 64, 67, 0.15);\n",
              "      fill: #174EA6;\n",
              "    }\n",
              "\n",
              "    [theme=dark] .colab-df-convert {\n",
              "      background-color: #3B4455;\n",
              "      fill: #D2E3FC;\n",
              "    }\n",
              "\n",
              "    [theme=dark] .colab-df-convert:hover {\n",
              "      background-color: #434B5C;\n",
              "      box-shadow: 0px 1px 3px 1px rgba(0, 0, 0, 0.15);\n",
              "      filter: drop-shadow(0px 1px 2px rgba(0, 0, 0, 0.3));\n",
              "      fill: #FFFFFF;\n",
              "    }\n",
              "  </style>\n",
              "\n",
              "      <script>\n",
              "        const buttonEl =\n",
              "          document.querySelector('#df-e3bb414b-f5c8-40bf-b93c-8389f3b40ce7 button.colab-df-convert');\n",
              "        buttonEl.style.display =\n",
              "          google.colab.kernel.accessAllowed ? 'block' : 'none';\n",
              "\n",
              "        async function convertToInteractive(key) {\n",
              "          const element = document.querySelector('#df-e3bb414b-f5c8-40bf-b93c-8389f3b40ce7');\n",
              "          const dataTable =\n",
              "            await google.colab.kernel.invokeFunction('convertToInteractive',\n",
              "                                                     [key], {});\n",
              "          if (!dataTable) return;\n",
              "\n",
              "          const docLinkHtml = 'Like what you see? Visit the ' +\n",
              "            '<a target=\"_blank\" href=https://colab.research.google.com/notebooks/data_table.ipynb>data table notebook</a>'\n",
              "            + ' to learn more about interactive tables.';\n",
              "          element.innerHTML = '';\n",
              "          dataTable['output_type'] = 'display_data';\n",
              "          await google.colab.output.renderOutput(dataTable, element);\n",
              "          const docLink = document.createElement('div');\n",
              "          docLink.innerHTML = docLinkHtml;\n",
              "          element.appendChild(docLink);\n",
              "        }\n",
              "      </script>\n",
              "    </div>\n",
              "  </div>\n",
              "  "
            ]
          },
          "metadata": {},
          "execution_count": 51
        }
      ],
      "source": [
        "# Memeriksa kolom baru\n",
        "\n",
        "data.head(20)"
      ]
    },
    {
      "cell_type": "code",
      "execution_count": 52,
      "metadata": {
        "colab": {
          "base_uri": "https://localhost:8080/"
        },
        "id": "NvJWYjDlUBrC",
        "outputId": "2a4b0827-e5aa-4689-b66a-ec0f5345a24f"
      },
      "outputs": [
        {
          "output_type": "execute_result",
          "data": {
            "text/plain": [
              "array(['good', 'like new', 'fair', 'excellent', 'salvage', 'new'],\n",
              "      dtype=object)"
            ]
          },
          "metadata": {},
          "execution_count": 52
        }
      ],
      "source": [
        "# Mungkin membantu untuk mengganti nilai pada kolom 'condition' dengan sesuatu yang dapat dimanipulasi dengan lebih mudah\n",
        "# Memeriksa nilai unik pada kolom condition\n",
        "\n",
        "data['condition'].unique()\n"
      ]
    },
    {
      "cell_type": "code",
      "execution_count": 53,
      "metadata": {
        "id": "nPhryTD0UBrC"
      },
      "outputs": [],
      "source": [
        "# membuat fungi untuk skala condition\n",
        "\n",
        "condition_category = data['condition']\n",
        "\n",
        "def condition_scale (condition_category):\n",
        "    if condition_category == 'new':\n",
        "        return 5\n",
        "    if condition_category == 'like new':\n",
        "        return 4\n",
        "    if condition_category == 'excellent':\n",
        "        return 3\n",
        "    if condition_category == 'good':\n",
        "        return 2\n",
        "    if condition_category == 'fair':\n",
        "        return 1\n",
        "    else:\n",
        "        return 0\n"
      ]
    },
    {
      "cell_type": "code",
      "execution_count": 54,
      "metadata": {
        "id": "Z_zlktR-UBrC"
      },
      "outputs": [],
      "source": [
        "# menambahkan condition_category ke kolom baru untuk skala condition\n",
        "\n",
        "data['condition_scale'] = data['condition'].apply(condition_scale)"
      ]
    },
    {
      "cell_type": "code",
      "execution_count": 55,
      "metadata": {
        "colab": {
          "base_uri": "https://localhost:8080/",
          "height": 340
        },
        "id": "xkXznAJ9UBrC",
        "outputId": "488ba952-40ba-4577-c266-5764a1854647"
      },
      "outputs": [
        {
          "output_type": "execute_result",
          "data": {
            "text/plain": [
              "   price  model_year           model  condition  cylinders fuel  odometer  \\\n",
              "0   9400      2011.0          bmw x5       good          6  gas  145000.0   \n",
              "1  25500      2011.0      ford f-150       good          6  gas   88705.0   \n",
              "2   5500      2013.0  hyundai sonata   like new          4  gas  110000.0   \n",
              "3   1500      2003.0      ford f-150       fair          8  gas  113000.0   \n",
              "4  14900      2017.0    chrysler 200  excellent          4  gas   80903.0   \n",
              "\n",
              "  transmission    type paint_color  is_4wd date_posted days_listed  \\\n",
              "0    automatic     SUV      others     1.0  2018-06-23     19 days   \n",
              "1    automatic  pickup       white     1.0  2018-10-19     50 days   \n",
              "2    automatic   sedan         red     0.0  2019-02-07     79 days   \n",
              "3    automatic  pickup      others     0.0  2019-03-22      9 days   \n",
              "4    automatic   sedan       black     0.0  2019-04-02     28 days   \n",
              "\n",
              "   days_posted  months_posted  years_posted last_posted  car_age  \\\n",
              "0            5              6          2018  2018-07-12      7.0   \n",
              "1            4             10          2018  2018-12-08      7.0   \n",
              "2            3              2          2019  2019-04-27      6.0   \n",
              "3            4              3          2019  2019-03-31     16.0   \n",
              "4            1              4          2019  2019-04-30      2.0   \n",
              "\n",
              "    avg_mileage  condition_scale  \n",
              "0  20714.285714                2  \n",
              "1  12672.142857                2  \n",
              "2  18333.333333                4  \n",
              "3   7062.500000                1  \n",
              "4  40451.500000                3  "
            ],
            "text/html": [
              "\n",
              "  <div id=\"df-7663c59c-63d1-4e59-8d88-7dc2102bf8be\">\n",
              "    <div class=\"colab-df-container\">\n",
              "      <div>\n",
              "<style scoped>\n",
              "    .dataframe tbody tr th:only-of-type {\n",
              "        vertical-align: middle;\n",
              "    }\n",
              "\n",
              "    .dataframe tbody tr th {\n",
              "        vertical-align: top;\n",
              "    }\n",
              "\n",
              "    .dataframe thead th {\n",
              "        text-align: right;\n",
              "    }\n",
              "</style>\n",
              "<table border=\"1\" class=\"dataframe\">\n",
              "  <thead>\n",
              "    <tr style=\"text-align: right;\">\n",
              "      <th></th>\n",
              "      <th>price</th>\n",
              "      <th>model_year</th>\n",
              "      <th>model</th>\n",
              "      <th>condition</th>\n",
              "      <th>cylinders</th>\n",
              "      <th>fuel</th>\n",
              "      <th>odometer</th>\n",
              "      <th>transmission</th>\n",
              "      <th>type</th>\n",
              "      <th>paint_color</th>\n",
              "      <th>is_4wd</th>\n",
              "      <th>date_posted</th>\n",
              "      <th>days_listed</th>\n",
              "      <th>days_posted</th>\n",
              "      <th>months_posted</th>\n",
              "      <th>years_posted</th>\n",
              "      <th>last_posted</th>\n",
              "      <th>car_age</th>\n",
              "      <th>avg_mileage</th>\n",
              "      <th>condition_scale</th>\n",
              "    </tr>\n",
              "  </thead>\n",
              "  <tbody>\n",
              "    <tr>\n",
              "      <th>0</th>\n",
              "      <td>9400</td>\n",
              "      <td>2011.0</td>\n",
              "      <td>bmw x5</td>\n",
              "      <td>good</td>\n",
              "      <td>6</td>\n",
              "      <td>gas</td>\n",
              "      <td>145000.0</td>\n",
              "      <td>automatic</td>\n",
              "      <td>SUV</td>\n",
              "      <td>others</td>\n",
              "      <td>1.0</td>\n",
              "      <td>2018-06-23</td>\n",
              "      <td>19 days</td>\n",
              "      <td>5</td>\n",
              "      <td>6</td>\n",
              "      <td>2018</td>\n",
              "      <td>2018-07-12</td>\n",
              "      <td>7.0</td>\n",
              "      <td>20714.285714</td>\n",
              "      <td>2</td>\n",
              "    </tr>\n",
              "    <tr>\n",
              "      <th>1</th>\n",
              "      <td>25500</td>\n",
              "      <td>2011.0</td>\n",
              "      <td>ford f-150</td>\n",
              "      <td>good</td>\n",
              "      <td>6</td>\n",
              "      <td>gas</td>\n",
              "      <td>88705.0</td>\n",
              "      <td>automatic</td>\n",
              "      <td>pickup</td>\n",
              "      <td>white</td>\n",
              "      <td>1.0</td>\n",
              "      <td>2018-10-19</td>\n",
              "      <td>50 days</td>\n",
              "      <td>4</td>\n",
              "      <td>10</td>\n",
              "      <td>2018</td>\n",
              "      <td>2018-12-08</td>\n",
              "      <td>7.0</td>\n",
              "      <td>12672.142857</td>\n",
              "      <td>2</td>\n",
              "    </tr>\n",
              "    <tr>\n",
              "      <th>2</th>\n",
              "      <td>5500</td>\n",
              "      <td>2013.0</td>\n",
              "      <td>hyundai sonata</td>\n",
              "      <td>like new</td>\n",
              "      <td>4</td>\n",
              "      <td>gas</td>\n",
              "      <td>110000.0</td>\n",
              "      <td>automatic</td>\n",
              "      <td>sedan</td>\n",
              "      <td>red</td>\n",
              "      <td>0.0</td>\n",
              "      <td>2019-02-07</td>\n",
              "      <td>79 days</td>\n",
              "      <td>3</td>\n",
              "      <td>2</td>\n",
              "      <td>2019</td>\n",
              "      <td>2019-04-27</td>\n",
              "      <td>6.0</td>\n",
              "      <td>18333.333333</td>\n",
              "      <td>4</td>\n",
              "    </tr>\n",
              "    <tr>\n",
              "      <th>3</th>\n",
              "      <td>1500</td>\n",
              "      <td>2003.0</td>\n",
              "      <td>ford f-150</td>\n",
              "      <td>fair</td>\n",
              "      <td>8</td>\n",
              "      <td>gas</td>\n",
              "      <td>113000.0</td>\n",
              "      <td>automatic</td>\n",
              "      <td>pickup</td>\n",
              "      <td>others</td>\n",
              "      <td>0.0</td>\n",
              "      <td>2019-03-22</td>\n",
              "      <td>9 days</td>\n",
              "      <td>4</td>\n",
              "      <td>3</td>\n",
              "      <td>2019</td>\n",
              "      <td>2019-03-31</td>\n",
              "      <td>16.0</td>\n",
              "      <td>7062.500000</td>\n",
              "      <td>1</td>\n",
              "    </tr>\n",
              "    <tr>\n",
              "      <th>4</th>\n",
              "      <td>14900</td>\n",
              "      <td>2017.0</td>\n",
              "      <td>chrysler 200</td>\n",
              "      <td>excellent</td>\n",
              "      <td>4</td>\n",
              "      <td>gas</td>\n",
              "      <td>80903.0</td>\n",
              "      <td>automatic</td>\n",
              "      <td>sedan</td>\n",
              "      <td>black</td>\n",
              "      <td>0.0</td>\n",
              "      <td>2019-04-02</td>\n",
              "      <td>28 days</td>\n",
              "      <td>1</td>\n",
              "      <td>4</td>\n",
              "      <td>2019</td>\n",
              "      <td>2019-04-30</td>\n",
              "      <td>2.0</td>\n",
              "      <td>40451.500000</td>\n",
              "      <td>3</td>\n",
              "    </tr>\n",
              "  </tbody>\n",
              "</table>\n",
              "</div>\n",
              "      <button class=\"colab-df-convert\" onclick=\"convertToInteractive('df-7663c59c-63d1-4e59-8d88-7dc2102bf8be')\"\n",
              "              title=\"Convert this dataframe to an interactive table.\"\n",
              "              style=\"display:none;\">\n",
              "        \n",
              "  <svg xmlns=\"http://www.w3.org/2000/svg\" height=\"24px\"viewBox=\"0 0 24 24\"\n",
              "       width=\"24px\">\n",
              "    <path d=\"M0 0h24v24H0V0z\" fill=\"none\"/>\n",
              "    <path d=\"M18.56 5.44l.94 2.06.94-2.06 2.06-.94-2.06-.94-.94-2.06-.94 2.06-2.06.94zm-11 1L8.5 8.5l.94-2.06 2.06-.94-2.06-.94L8.5 2.5l-.94 2.06-2.06.94zm10 10l.94 2.06.94-2.06 2.06-.94-2.06-.94-.94-2.06-.94 2.06-2.06.94z\"/><path d=\"M17.41 7.96l-1.37-1.37c-.4-.4-.92-.59-1.43-.59-.52 0-1.04.2-1.43.59L10.3 9.45l-7.72 7.72c-.78.78-.78 2.05 0 2.83L4 21.41c.39.39.9.59 1.41.59.51 0 1.02-.2 1.41-.59l7.78-7.78 2.81-2.81c.8-.78.8-2.07 0-2.86zM5.41 20L4 18.59l7.72-7.72 1.47 1.35L5.41 20z\"/>\n",
              "  </svg>\n",
              "      </button>\n",
              "      \n",
              "  <style>\n",
              "    .colab-df-container {\n",
              "      display:flex;\n",
              "      flex-wrap:wrap;\n",
              "      gap: 12px;\n",
              "    }\n",
              "\n",
              "    .colab-df-convert {\n",
              "      background-color: #E8F0FE;\n",
              "      border: none;\n",
              "      border-radius: 50%;\n",
              "      cursor: pointer;\n",
              "      display: none;\n",
              "      fill: #1967D2;\n",
              "      height: 32px;\n",
              "      padding: 0 0 0 0;\n",
              "      width: 32px;\n",
              "    }\n",
              "\n",
              "    .colab-df-convert:hover {\n",
              "      background-color: #E2EBFA;\n",
              "      box-shadow: 0px 1px 2px rgba(60, 64, 67, 0.3), 0px 1px 3px 1px rgba(60, 64, 67, 0.15);\n",
              "      fill: #174EA6;\n",
              "    }\n",
              "\n",
              "    [theme=dark] .colab-df-convert {\n",
              "      background-color: #3B4455;\n",
              "      fill: #D2E3FC;\n",
              "    }\n",
              "\n",
              "    [theme=dark] .colab-df-convert:hover {\n",
              "      background-color: #434B5C;\n",
              "      box-shadow: 0px 1px 3px 1px rgba(0, 0, 0, 0.15);\n",
              "      filter: drop-shadow(0px 1px 2px rgba(0, 0, 0, 0.3));\n",
              "      fill: #FFFFFF;\n",
              "    }\n",
              "  </style>\n",
              "\n",
              "      <script>\n",
              "        const buttonEl =\n",
              "          document.querySelector('#df-7663c59c-63d1-4e59-8d88-7dc2102bf8be button.colab-df-convert');\n",
              "        buttonEl.style.display =\n",
              "          google.colab.kernel.accessAllowed ? 'block' : 'none';\n",
              "\n",
              "        async function convertToInteractive(key) {\n",
              "          const element = document.querySelector('#df-7663c59c-63d1-4e59-8d88-7dc2102bf8be');\n",
              "          const dataTable =\n",
              "            await google.colab.kernel.invokeFunction('convertToInteractive',\n",
              "                                                     [key], {});\n",
              "          if (!dataTable) return;\n",
              "\n",
              "          const docLinkHtml = 'Like what you see? Visit the ' +\n",
              "            '<a target=\"_blank\" href=https://colab.research.google.com/notebooks/data_table.ipynb>data table notebook</a>'\n",
              "            + ' to learn more about interactive tables.';\n",
              "          element.innerHTML = '';\n",
              "          dataTable['output_type'] = 'display_data';\n",
              "          await google.colab.output.renderOutput(dataTable, element);\n",
              "          const docLink = document.createElement('div');\n",
              "          docLink.innerHTML = docLinkHtml;\n",
              "          element.appendChild(docLink);\n",
              "        }\n",
              "      </script>\n",
              "    </div>\n",
              "  </div>\n",
              "  "
            ]
          },
          "metadata": {},
          "execution_count": 55
        }
      ],
      "source": [
        "# memeriksa kolom baru condition_scale\n",
        "\n",
        "data.head()"
      ]
    },
    {
      "cell_type": "markdown",
      "metadata": {
        "id": "c8QikKAYUBrD"
      },
      "source": [
        "## Memeriksa Data yang Sudah Bersih"
      ]
    },
    {
      "cell_type": "markdown",
      "metadata": {
        "id": "vLqsY3QQUBrD"
      },
      "source": [
        "Mengingat data kita sudah siap untuk dianalisis, mari kita lihat datanya lagi."
      ]
    },
    {
      "cell_type": "code",
      "execution_count": 56,
      "metadata": {
        "scrolled": false,
        "colab": {
          "base_uri": "https://localhost:8080/"
        },
        "id": "2J5mtzgDUBrD",
        "outputId": "19bf98fa-5b01-4e0b-9cc7-6b1b0298cc14"
      },
      "outputs": [
        {
          "output_type": "stream",
          "name": "stdout",
          "text": [
            "<class 'pandas.core.frame.DataFrame'>\n",
            "RangeIndex: 51525 entries, 0 to 51524\n",
            "Data columns (total 20 columns):\n",
            " #   Column           Non-Null Count  Dtype          \n",
            "---  ------           --------------  -----          \n",
            " 0   price            51525 non-null  int64          \n",
            " 1   model_year       51525 non-null  float64        \n",
            " 2   model            51525 non-null  object         \n",
            " 3   condition        51525 non-null  object         \n",
            " 4   cylinders        51525 non-null  int64          \n",
            " 5   fuel             51525 non-null  object         \n",
            " 6   odometer         51525 non-null  float64        \n",
            " 7   transmission     51525 non-null  object         \n",
            " 8   type             51525 non-null  object         \n",
            " 9   paint_color      51525 non-null  object         \n",
            " 10  is_4wd           51525 non-null  float64        \n",
            " 11  date_posted      51525 non-null  datetime64[ns] \n",
            " 12  days_listed      51525 non-null  timedelta64[ns]\n",
            " 13  days_posted      51525 non-null  int64          \n",
            " 14  months_posted    51525 non-null  int64          \n",
            " 15  years_posted     51525 non-null  int64          \n",
            " 16  last_posted      51525 non-null  datetime64[ns] \n",
            " 17  car_age          51525 non-null  float64        \n",
            " 18  avg_mileage      51525 non-null  float64        \n",
            " 19  condition_scale  51525 non-null  int64          \n",
            "dtypes: datetime64[ns](2), float64(5), int64(6), object(6), timedelta64[ns](1)\n",
            "memory usage: 7.9+ MB\n"
          ]
        }
      ],
      "source": [
        "# tampilkan informasi/rangkuman umum tentang DataFrame\n",
        "\n",
        "data.info()"
      ]
    },
    {
      "cell_type": "code",
      "execution_count": 57,
      "metadata": {
        "colab": {
          "base_uri": "https://localhost:8080/",
          "height": 399
        },
        "id": "Rp1l_D98UBrD",
        "outputId": "0698b447-821f-4cd7-e32b-57a38de20e49"
      },
      "outputs": [
        {
          "output_type": "execute_result",
          "data": {
            "text/plain": [
              "               price    model_year     cylinders       odometer        is_4wd  \\\n",
              "count   51525.000000  51525.000000  51525.000000   51525.000000  51525.000000   \n",
              "mean    12132.464920   2009.838234      6.112450  115162.352179      0.496303   \n",
              "std     10040.803015      6.065836      1.573784   59909.264385      0.499991   \n",
              "min         1.000000   1908.000000      3.000000       0.000000      0.000000   \n",
              "25%      5000.000000   2007.000000      4.000000   79181.000000      0.000000   \n",
              "50%      9000.000000   2011.000000      6.000000  113000.000000      0.000000   \n",
              "75%     16839.000000   2014.000000      8.000000  146541.000000      1.000000   \n",
              "max    375000.000000   2019.000000     12.000000  990000.000000      1.000000   \n",
              "\n",
              "                      days_listed   days_posted  months_posted  years_posted  \\\n",
              "count                       51525  51525.000000   51525.000000  51525.000000   \n",
              "mean   39 days 13:18:51.248908297      3.005434       6.628491   2018.307462   \n",
              "std    28 days 04:54:08.916817944      1.997759       3.474134      0.461447   \n",
              "min               0 days 00:00:00      0.000000       1.000000   2018.000000   \n",
              "25%              19 days 00:00:00      1.000000       3.000000   2018.000000   \n",
              "50%              33 days 00:00:00      3.000000       7.000000   2018.000000   \n",
              "75%              53 days 00:00:00      5.000000      10.000000   2019.000000   \n",
              "max             271 days 00:00:00      6.000000      12.000000   2019.000000   \n",
              "\n",
              "            car_age    avg_mileage  condition_scale  \n",
              "count  51525.000000   51525.000000     51525.000000  \n",
              "mean       8.509093   19104.626006         2.637535  \n",
              "std        6.027160   16826.205674         0.712447  \n",
              "min        0.000000       0.000000         0.000000  \n",
              "25%        4.000000   10352.941176         2.000000  \n",
              "50%        7.000000   15151.400000         3.000000  \n",
              "75%       12.000000   22201.800000         3.000000  \n",
              "max      110.000000  373200.000000         5.000000  "
            ],
            "text/html": [
              "\n",
              "  <div id=\"df-9ab900f5-1b7b-4d02-aaf7-865910ced5bb\">\n",
              "    <div class=\"colab-df-container\">\n",
              "      <div>\n",
              "<style scoped>\n",
              "    .dataframe tbody tr th:only-of-type {\n",
              "        vertical-align: middle;\n",
              "    }\n",
              "\n",
              "    .dataframe tbody tr th {\n",
              "        vertical-align: top;\n",
              "    }\n",
              "\n",
              "    .dataframe thead th {\n",
              "        text-align: right;\n",
              "    }\n",
              "</style>\n",
              "<table border=\"1\" class=\"dataframe\">\n",
              "  <thead>\n",
              "    <tr style=\"text-align: right;\">\n",
              "      <th></th>\n",
              "      <th>price</th>\n",
              "      <th>model_year</th>\n",
              "      <th>cylinders</th>\n",
              "      <th>odometer</th>\n",
              "      <th>is_4wd</th>\n",
              "      <th>days_listed</th>\n",
              "      <th>days_posted</th>\n",
              "      <th>months_posted</th>\n",
              "      <th>years_posted</th>\n",
              "      <th>car_age</th>\n",
              "      <th>avg_mileage</th>\n",
              "      <th>condition_scale</th>\n",
              "    </tr>\n",
              "  </thead>\n",
              "  <tbody>\n",
              "    <tr>\n",
              "      <th>count</th>\n",
              "      <td>51525.000000</td>\n",
              "      <td>51525.000000</td>\n",
              "      <td>51525.000000</td>\n",
              "      <td>51525.000000</td>\n",
              "      <td>51525.000000</td>\n",
              "      <td>51525</td>\n",
              "      <td>51525.000000</td>\n",
              "      <td>51525.000000</td>\n",
              "      <td>51525.000000</td>\n",
              "      <td>51525.000000</td>\n",
              "      <td>51525.000000</td>\n",
              "      <td>51525.000000</td>\n",
              "    </tr>\n",
              "    <tr>\n",
              "      <th>mean</th>\n",
              "      <td>12132.464920</td>\n",
              "      <td>2009.838234</td>\n",
              "      <td>6.112450</td>\n",
              "      <td>115162.352179</td>\n",
              "      <td>0.496303</td>\n",
              "      <td>39 days 13:18:51.248908297</td>\n",
              "      <td>3.005434</td>\n",
              "      <td>6.628491</td>\n",
              "      <td>2018.307462</td>\n",
              "      <td>8.509093</td>\n",
              "      <td>19104.626006</td>\n",
              "      <td>2.637535</td>\n",
              "    </tr>\n",
              "    <tr>\n",
              "      <th>std</th>\n",
              "      <td>10040.803015</td>\n",
              "      <td>6.065836</td>\n",
              "      <td>1.573784</td>\n",
              "      <td>59909.264385</td>\n",
              "      <td>0.499991</td>\n",
              "      <td>28 days 04:54:08.916817944</td>\n",
              "      <td>1.997759</td>\n",
              "      <td>3.474134</td>\n",
              "      <td>0.461447</td>\n",
              "      <td>6.027160</td>\n",
              "      <td>16826.205674</td>\n",
              "      <td>0.712447</td>\n",
              "    </tr>\n",
              "    <tr>\n",
              "      <th>min</th>\n",
              "      <td>1.000000</td>\n",
              "      <td>1908.000000</td>\n",
              "      <td>3.000000</td>\n",
              "      <td>0.000000</td>\n",
              "      <td>0.000000</td>\n",
              "      <td>0 days 00:00:00</td>\n",
              "      <td>0.000000</td>\n",
              "      <td>1.000000</td>\n",
              "      <td>2018.000000</td>\n",
              "      <td>0.000000</td>\n",
              "      <td>0.000000</td>\n",
              "      <td>0.000000</td>\n",
              "    </tr>\n",
              "    <tr>\n",
              "      <th>25%</th>\n",
              "      <td>5000.000000</td>\n",
              "      <td>2007.000000</td>\n",
              "      <td>4.000000</td>\n",
              "      <td>79181.000000</td>\n",
              "      <td>0.000000</td>\n",
              "      <td>19 days 00:00:00</td>\n",
              "      <td>1.000000</td>\n",
              "      <td>3.000000</td>\n",
              "      <td>2018.000000</td>\n",
              "      <td>4.000000</td>\n",
              "      <td>10352.941176</td>\n",
              "      <td>2.000000</td>\n",
              "    </tr>\n",
              "    <tr>\n",
              "      <th>50%</th>\n",
              "      <td>9000.000000</td>\n",
              "      <td>2011.000000</td>\n",
              "      <td>6.000000</td>\n",
              "      <td>113000.000000</td>\n",
              "      <td>0.000000</td>\n",
              "      <td>33 days 00:00:00</td>\n",
              "      <td>3.000000</td>\n",
              "      <td>7.000000</td>\n",
              "      <td>2018.000000</td>\n",
              "      <td>7.000000</td>\n",
              "      <td>15151.400000</td>\n",
              "      <td>3.000000</td>\n",
              "    </tr>\n",
              "    <tr>\n",
              "      <th>75%</th>\n",
              "      <td>16839.000000</td>\n",
              "      <td>2014.000000</td>\n",
              "      <td>8.000000</td>\n",
              "      <td>146541.000000</td>\n",
              "      <td>1.000000</td>\n",
              "      <td>53 days 00:00:00</td>\n",
              "      <td>5.000000</td>\n",
              "      <td>10.000000</td>\n",
              "      <td>2019.000000</td>\n",
              "      <td>12.000000</td>\n",
              "      <td>22201.800000</td>\n",
              "      <td>3.000000</td>\n",
              "    </tr>\n",
              "    <tr>\n",
              "      <th>max</th>\n",
              "      <td>375000.000000</td>\n",
              "      <td>2019.000000</td>\n",
              "      <td>12.000000</td>\n",
              "      <td>990000.000000</td>\n",
              "      <td>1.000000</td>\n",
              "      <td>271 days 00:00:00</td>\n",
              "      <td>6.000000</td>\n",
              "      <td>12.000000</td>\n",
              "      <td>2019.000000</td>\n",
              "      <td>110.000000</td>\n",
              "      <td>373200.000000</td>\n",
              "      <td>5.000000</td>\n",
              "    </tr>\n",
              "  </tbody>\n",
              "</table>\n",
              "</div>\n",
              "      <button class=\"colab-df-convert\" onclick=\"convertToInteractive('df-9ab900f5-1b7b-4d02-aaf7-865910ced5bb')\"\n",
              "              title=\"Convert this dataframe to an interactive table.\"\n",
              "              style=\"display:none;\">\n",
              "        \n",
              "  <svg xmlns=\"http://www.w3.org/2000/svg\" height=\"24px\"viewBox=\"0 0 24 24\"\n",
              "       width=\"24px\">\n",
              "    <path d=\"M0 0h24v24H0V0z\" fill=\"none\"/>\n",
              "    <path d=\"M18.56 5.44l.94 2.06.94-2.06 2.06-.94-2.06-.94-.94-2.06-.94 2.06-2.06.94zm-11 1L8.5 8.5l.94-2.06 2.06-.94-2.06-.94L8.5 2.5l-.94 2.06-2.06.94zm10 10l.94 2.06.94-2.06 2.06-.94-2.06-.94-.94-2.06-.94 2.06-2.06.94z\"/><path d=\"M17.41 7.96l-1.37-1.37c-.4-.4-.92-.59-1.43-.59-.52 0-1.04.2-1.43.59L10.3 9.45l-7.72 7.72c-.78.78-.78 2.05 0 2.83L4 21.41c.39.39.9.59 1.41.59.51 0 1.02-.2 1.41-.59l7.78-7.78 2.81-2.81c.8-.78.8-2.07 0-2.86zM5.41 20L4 18.59l7.72-7.72 1.47 1.35L5.41 20z\"/>\n",
              "  </svg>\n",
              "      </button>\n",
              "      \n",
              "  <style>\n",
              "    .colab-df-container {\n",
              "      display:flex;\n",
              "      flex-wrap:wrap;\n",
              "      gap: 12px;\n",
              "    }\n",
              "\n",
              "    .colab-df-convert {\n",
              "      background-color: #E8F0FE;\n",
              "      border: none;\n",
              "      border-radius: 50%;\n",
              "      cursor: pointer;\n",
              "      display: none;\n",
              "      fill: #1967D2;\n",
              "      height: 32px;\n",
              "      padding: 0 0 0 0;\n",
              "      width: 32px;\n",
              "    }\n",
              "\n",
              "    .colab-df-convert:hover {\n",
              "      background-color: #E2EBFA;\n",
              "      box-shadow: 0px 1px 2px rgba(60, 64, 67, 0.3), 0px 1px 3px 1px rgba(60, 64, 67, 0.15);\n",
              "      fill: #174EA6;\n",
              "    }\n",
              "\n",
              "    [theme=dark] .colab-df-convert {\n",
              "      background-color: #3B4455;\n",
              "      fill: #D2E3FC;\n",
              "    }\n",
              "\n",
              "    [theme=dark] .colab-df-convert:hover {\n",
              "      background-color: #434B5C;\n",
              "      box-shadow: 0px 1px 3px 1px rgba(0, 0, 0, 0.15);\n",
              "      filter: drop-shadow(0px 1px 2px rgba(0, 0, 0, 0.3));\n",
              "      fill: #FFFFFF;\n",
              "    }\n",
              "  </style>\n",
              "\n",
              "      <script>\n",
              "        const buttonEl =\n",
              "          document.querySelector('#df-9ab900f5-1b7b-4d02-aaf7-865910ced5bb button.colab-df-convert');\n",
              "        buttonEl.style.display =\n",
              "          google.colab.kernel.accessAllowed ? 'block' : 'none';\n",
              "\n",
              "        async function convertToInteractive(key) {\n",
              "          const element = document.querySelector('#df-9ab900f5-1b7b-4d02-aaf7-865910ced5bb');\n",
              "          const dataTable =\n",
              "            await google.colab.kernel.invokeFunction('convertToInteractive',\n",
              "                                                     [key], {});\n",
              "          if (!dataTable) return;\n",
              "\n",
              "          const docLinkHtml = 'Like what you see? Visit the ' +\n",
              "            '<a target=\"_blank\" href=https://colab.research.google.com/notebooks/data_table.ipynb>data table notebook</a>'\n",
              "            + ' to learn more about interactive tables.';\n",
              "          element.innerHTML = '';\n",
              "          dataTable['output_type'] = 'display_data';\n",
              "          await google.colab.output.renderOutput(dataTable, element);\n",
              "          const docLink = document.createElement('div');\n",
              "          docLink.innerHTML = docLinkHtml;\n",
              "          element.appendChild(docLink);\n",
              "        }\n",
              "      </script>\n",
              "    </div>\n",
              "  </div>\n",
              "  "
            ]
          },
          "metadata": {},
          "execution_count": 57
        }
      ],
      "source": [
        "# tampilkan informasi/rangkuman umum tentang DataFrame\n",
        "\n",
        "data.describe()"
      ]
    },
    {
      "cell_type": "code",
      "execution_count": 58,
      "metadata": {
        "colab": {
          "base_uri": "https://localhost:8080/",
          "height": 661
        },
        "id": "f_HkJxm9UBrD",
        "outputId": "9886d050-1e48-470d-c59b-f4d3646e38ec"
      },
      "outputs": [
        {
          "output_type": "execute_result",
          "data": {
            "text/plain": [
              "       price  model_year                       model  condition  cylinders  \\\n",
              "45907  11950      2011.0  jeep grand cherokee laredo  excellent          6   \n",
              "2819   17995      2008.0  chevrolet silverado 2500hd  excellent          8   \n",
              "15770   4250      2007.0               nissan altima  excellent          4   \n",
              "17730  10900      2007.0                  ford f-250  excellent          8   \n",
              "43425  16995      2013.0           gmc sierra 2500hd  excellent          8   \n",
              "...      ...         ...                         ...        ...        ...   \n",
              "34694  11899      2011.0           toyota highlander  excellent          6   \n",
              "7413    4995      2009.0                  ford focus       good          6   \n",
              "21852   3200      2009.0                  ford f-150       good          6   \n",
              "27669  28990      2011.0               ford f-350 sd       good          8   \n",
              "20994  18990      2015.0               ford f-250 sd       good          8   \n",
              "\n",
              "         fuel  odometer transmission    type paint_color  is_4wd date_posted  \\\n",
              "45907     gas  126337.0    automatic     SUV       black     1.0  2018-08-06   \n",
              "2819      gas   62736.0    automatic   truck      custom     1.0  2018-07-27   \n",
              "15770     gas   92000.0    automatic   sedan      others     0.0  2018-08-23   \n",
              "17730  diesel  180000.0    automatic   truck       white     1.0  2019-02-21   \n",
              "43425     gas  113000.0    automatic   truck      others     1.0  2019-04-11   \n",
              "...       ...       ...          ...     ...         ...     ...         ...   \n",
              "34694     gas  166852.0    automatic     SUV      silver     1.0  2018-10-13   \n",
              "7413      gas   93415.0    automatic   sedan        grey     0.0  2019-04-18   \n",
              "21852     gas  113000.0    automatic  pickup         red     0.0  2018-11-18   \n",
              "27669  diesel  112150.0    automatic   truck       white     1.0  2019-01-04   \n",
              "20994     gas  113000.0    automatic   truck        blue     1.0  2018-11-19   \n",
              "\n",
              "      days_listed  days_posted  months_posted  years_posted last_posted  \\\n",
              "45907     23 days            0              8          2018  2018-08-29   \n",
              "2819      36 days            4              7          2018  2018-09-01   \n",
              "15770     12 days            3              8          2018  2018-09-04   \n",
              "17730     35 days            3              2          2019  2019-03-28   \n",
              "43425     27 days            3              4          2019  2019-05-08   \n",
              "...           ...          ...            ...           ...         ...   \n",
              "34694      9 days            5             10          2018  2018-10-22   \n",
              "7413      59 days            3              4          2019  2019-06-16   \n",
              "21852     57 days            6             11          2018  2019-01-14   \n",
              "27669     17 days            4              1          2019  2019-01-21   \n",
              "20994     34 days            0             11          2018  2018-12-23   \n",
              "\n",
              "       car_age   avg_mileage  condition_scale  \n",
              "45907      7.0  18048.142857                3  \n",
              "2819      10.0   6273.600000                3  \n",
              "15770     11.0   8363.636364                3  \n",
              "17730     12.0  15000.000000                3  \n",
              "43425      6.0  18833.333333                3  \n",
              "...        ...           ...              ...  \n",
              "34694      7.0  23836.000000                3  \n",
              "7413      10.0   9341.500000                2  \n",
              "21852      9.0  12555.555556                2  \n",
              "27669      8.0  14018.750000                2  \n",
              "20994      3.0  37666.666667                2  \n",
              "\n",
              "[5152 rows x 20 columns]"
            ],
            "text/html": [
              "\n",
              "  <div id=\"df-c83c9b87-0b73-4130-851e-23e11ac99afa\">\n",
              "    <div class=\"colab-df-container\">\n",
              "      <div>\n",
              "<style scoped>\n",
              "    .dataframe tbody tr th:only-of-type {\n",
              "        vertical-align: middle;\n",
              "    }\n",
              "\n",
              "    .dataframe tbody tr th {\n",
              "        vertical-align: top;\n",
              "    }\n",
              "\n",
              "    .dataframe thead th {\n",
              "        text-align: right;\n",
              "    }\n",
              "</style>\n",
              "<table border=\"1\" class=\"dataframe\">\n",
              "  <thead>\n",
              "    <tr style=\"text-align: right;\">\n",
              "      <th></th>\n",
              "      <th>price</th>\n",
              "      <th>model_year</th>\n",
              "      <th>model</th>\n",
              "      <th>condition</th>\n",
              "      <th>cylinders</th>\n",
              "      <th>fuel</th>\n",
              "      <th>odometer</th>\n",
              "      <th>transmission</th>\n",
              "      <th>type</th>\n",
              "      <th>paint_color</th>\n",
              "      <th>is_4wd</th>\n",
              "      <th>date_posted</th>\n",
              "      <th>days_listed</th>\n",
              "      <th>days_posted</th>\n",
              "      <th>months_posted</th>\n",
              "      <th>years_posted</th>\n",
              "      <th>last_posted</th>\n",
              "      <th>car_age</th>\n",
              "      <th>avg_mileage</th>\n",
              "      <th>condition_scale</th>\n",
              "    </tr>\n",
              "  </thead>\n",
              "  <tbody>\n",
              "    <tr>\n",
              "      <th>45907</th>\n",
              "      <td>11950</td>\n",
              "      <td>2011.0</td>\n",
              "      <td>jeep grand cherokee laredo</td>\n",
              "      <td>excellent</td>\n",
              "      <td>6</td>\n",
              "      <td>gas</td>\n",
              "      <td>126337.0</td>\n",
              "      <td>automatic</td>\n",
              "      <td>SUV</td>\n",
              "      <td>black</td>\n",
              "      <td>1.0</td>\n",
              "      <td>2018-08-06</td>\n",
              "      <td>23 days</td>\n",
              "      <td>0</td>\n",
              "      <td>8</td>\n",
              "      <td>2018</td>\n",
              "      <td>2018-08-29</td>\n",
              "      <td>7.0</td>\n",
              "      <td>18048.142857</td>\n",
              "      <td>3</td>\n",
              "    </tr>\n",
              "    <tr>\n",
              "      <th>2819</th>\n",
              "      <td>17995</td>\n",
              "      <td>2008.0</td>\n",
              "      <td>chevrolet silverado 2500hd</td>\n",
              "      <td>excellent</td>\n",
              "      <td>8</td>\n",
              "      <td>gas</td>\n",
              "      <td>62736.0</td>\n",
              "      <td>automatic</td>\n",
              "      <td>truck</td>\n",
              "      <td>custom</td>\n",
              "      <td>1.0</td>\n",
              "      <td>2018-07-27</td>\n",
              "      <td>36 days</td>\n",
              "      <td>4</td>\n",
              "      <td>7</td>\n",
              "      <td>2018</td>\n",
              "      <td>2018-09-01</td>\n",
              "      <td>10.0</td>\n",
              "      <td>6273.600000</td>\n",
              "      <td>3</td>\n",
              "    </tr>\n",
              "    <tr>\n",
              "      <th>15770</th>\n",
              "      <td>4250</td>\n",
              "      <td>2007.0</td>\n",
              "      <td>nissan altima</td>\n",
              "      <td>excellent</td>\n",
              "      <td>4</td>\n",
              "      <td>gas</td>\n",
              "      <td>92000.0</td>\n",
              "      <td>automatic</td>\n",
              "      <td>sedan</td>\n",
              "      <td>others</td>\n",
              "      <td>0.0</td>\n",
              "      <td>2018-08-23</td>\n",
              "      <td>12 days</td>\n",
              "      <td>3</td>\n",
              "      <td>8</td>\n",
              "      <td>2018</td>\n",
              "      <td>2018-09-04</td>\n",
              "      <td>11.0</td>\n",
              "      <td>8363.636364</td>\n",
              "      <td>3</td>\n",
              "    </tr>\n",
              "    <tr>\n",
              "      <th>17730</th>\n",
              "      <td>10900</td>\n",
              "      <td>2007.0</td>\n",
              "      <td>ford f-250</td>\n",
              "      <td>excellent</td>\n",
              "      <td>8</td>\n",
              "      <td>diesel</td>\n",
              "      <td>180000.0</td>\n",
              "      <td>automatic</td>\n",
              "      <td>truck</td>\n",
              "      <td>white</td>\n",
              "      <td>1.0</td>\n",
              "      <td>2019-02-21</td>\n",
              "      <td>35 days</td>\n",
              "      <td>3</td>\n",
              "      <td>2</td>\n",
              "      <td>2019</td>\n",
              "      <td>2019-03-28</td>\n",
              "      <td>12.0</td>\n",
              "      <td>15000.000000</td>\n",
              "      <td>3</td>\n",
              "    </tr>\n",
              "    <tr>\n",
              "      <th>43425</th>\n",
              "      <td>16995</td>\n",
              "      <td>2013.0</td>\n",
              "      <td>gmc sierra 2500hd</td>\n",
              "      <td>excellent</td>\n",
              "      <td>8</td>\n",
              "      <td>gas</td>\n",
              "      <td>113000.0</td>\n",
              "      <td>automatic</td>\n",
              "      <td>truck</td>\n",
              "      <td>others</td>\n",
              "      <td>1.0</td>\n",
              "      <td>2019-04-11</td>\n",
              "      <td>27 days</td>\n",
              "      <td>3</td>\n",
              "      <td>4</td>\n",
              "      <td>2019</td>\n",
              "      <td>2019-05-08</td>\n",
              "      <td>6.0</td>\n",
              "      <td>18833.333333</td>\n",
              "      <td>3</td>\n",
              "    </tr>\n",
              "    <tr>\n",
              "      <th>...</th>\n",
              "      <td>...</td>\n",
              "      <td>...</td>\n",
              "      <td>...</td>\n",
              "      <td>...</td>\n",
              "      <td>...</td>\n",
              "      <td>...</td>\n",
              "      <td>...</td>\n",
              "      <td>...</td>\n",
              "      <td>...</td>\n",
              "      <td>...</td>\n",
              "      <td>...</td>\n",
              "      <td>...</td>\n",
              "      <td>...</td>\n",
              "      <td>...</td>\n",
              "      <td>...</td>\n",
              "      <td>...</td>\n",
              "      <td>...</td>\n",
              "      <td>...</td>\n",
              "      <td>...</td>\n",
              "      <td>...</td>\n",
              "    </tr>\n",
              "    <tr>\n",
              "      <th>34694</th>\n",
              "      <td>11899</td>\n",
              "      <td>2011.0</td>\n",
              "      <td>toyota highlander</td>\n",
              "      <td>excellent</td>\n",
              "      <td>6</td>\n",
              "      <td>gas</td>\n",
              "      <td>166852.0</td>\n",
              "      <td>automatic</td>\n",
              "      <td>SUV</td>\n",
              "      <td>silver</td>\n",
              "      <td>1.0</td>\n",
              "      <td>2018-10-13</td>\n",
              "      <td>9 days</td>\n",
              "      <td>5</td>\n",
              "      <td>10</td>\n",
              "      <td>2018</td>\n",
              "      <td>2018-10-22</td>\n",
              "      <td>7.0</td>\n",
              "      <td>23836.000000</td>\n",
              "      <td>3</td>\n",
              "    </tr>\n",
              "    <tr>\n",
              "      <th>7413</th>\n",
              "      <td>4995</td>\n",
              "      <td>2009.0</td>\n",
              "      <td>ford focus</td>\n",
              "      <td>good</td>\n",
              "      <td>6</td>\n",
              "      <td>gas</td>\n",
              "      <td>93415.0</td>\n",
              "      <td>automatic</td>\n",
              "      <td>sedan</td>\n",
              "      <td>grey</td>\n",
              "      <td>0.0</td>\n",
              "      <td>2019-04-18</td>\n",
              "      <td>59 days</td>\n",
              "      <td>3</td>\n",
              "      <td>4</td>\n",
              "      <td>2019</td>\n",
              "      <td>2019-06-16</td>\n",
              "      <td>10.0</td>\n",
              "      <td>9341.500000</td>\n",
              "      <td>2</td>\n",
              "    </tr>\n",
              "    <tr>\n",
              "      <th>21852</th>\n",
              "      <td>3200</td>\n",
              "      <td>2009.0</td>\n",
              "      <td>ford f-150</td>\n",
              "      <td>good</td>\n",
              "      <td>6</td>\n",
              "      <td>gas</td>\n",
              "      <td>113000.0</td>\n",
              "      <td>automatic</td>\n",
              "      <td>pickup</td>\n",
              "      <td>red</td>\n",
              "      <td>0.0</td>\n",
              "      <td>2018-11-18</td>\n",
              "      <td>57 days</td>\n",
              "      <td>6</td>\n",
              "      <td>11</td>\n",
              "      <td>2018</td>\n",
              "      <td>2019-01-14</td>\n",
              "      <td>9.0</td>\n",
              "      <td>12555.555556</td>\n",
              "      <td>2</td>\n",
              "    </tr>\n",
              "    <tr>\n",
              "      <th>27669</th>\n",
              "      <td>28990</td>\n",
              "      <td>2011.0</td>\n",
              "      <td>ford f-350 sd</td>\n",
              "      <td>good</td>\n",
              "      <td>8</td>\n",
              "      <td>diesel</td>\n",
              "      <td>112150.0</td>\n",
              "      <td>automatic</td>\n",
              "      <td>truck</td>\n",
              "      <td>white</td>\n",
              "      <td>1.0</td>\n",
              "      <td>2019-01-04</td>\n",
              "      <td>17 days</td>\n",
              "      <td>4</td>\n",
              "      <td>1</td>\n",
              "      <td>2019</td>\n",
              "      <td>2019-01-21</td>\n",
              "      <td>8.0</td>\n",
              "      <td>14018.750000</td>\n",
              "      <td>2</td>\n",
              "    </tr>\n",
              "    <tr>\n",
              "      <th>20994</th>\n",
              "      <td>18990</td>\n",
              "      <td>2015.0</td>\n",
              "      <td>ford f-250 sd</td>\n",
              "      <td>good</td>\n",
              "      <td>8</td>\n",
              "      <td>gas</td>\n",
              "      <td>113000.0</td>\n",
              "      <td>automatic</td>\n",
              "      <td>truck</td>\n",
              "      <td>blue</td>\n",
              "      <td>1.0</td>\n",
              "      <td>2018-11-19</td>\n",
              "      <td>34 days</td>\n",
              "      <td>0</td>\n",
              "      <td>11</td>\n",
              "      <td>2018</td>\n",
              "      <td>2018-12-23</td>\n",
              "      <td>3.0</td>\n",
              "      <td>37666.666667</td>\n",
              "      <td>2</td>\n",
              "    </tr>\n",
              "  </tbody>\n",
              "</table>\n",
              "<p>5152 rows × 20 columns</p>\n",
              "</div>\n",
              "      <button class=\"colab-df-convert\" onclick=\"convertToInteractive('df-c83c9b87-0b73-4130-851e-23e11ac99afa')\"\n",
              "              title=\"Convert this dataframe to an interactive table.\"\n",
              "              style=\"display:none;\">\n",
              "        \n",
              "  <svg xmlns=\"http://www.w3.org/2000/svg\" height=\"24px\"viewBox=\"0 0 24 24\"\n",
              "       width=\"24px\">\n",
              "    <path d=\"M0 0h24v24H0V0z\" fill=\"none\"/>\n",
              "    <path d=\"M18.56 5.44l.94 2.06.94-2.06 2.06-.94-2.06-.94-.94-2.06-.94 2.06-2.06.94zm-11 1L8.5 8.5l.94-2.06 2.06-.94-2.06-.94L8.5 2.5l-.94 2.06-2.06.94zm10 10l.94 2.06.94-2.06 2.06-.94-2.06-.94-.94-2.06-.94 2.06-2.06.94z\"/><path d=\"M17.41 7.96l-1.37-1.37c-.4-.4-.92-.59-1.43-.59-.52 0-1.04.2-1.43.59L10.3 9.45l-7.72 7.72c-.78.78-.78 2.05 0 2.83L4 21.41c.39.39.9.59 1.41.59.51 0 1.02-.2 1.41-.59l7.78-7.78 2.81-2.81c.8-.78.8-2.07 0-2.86zM5.41 20L4 18.59l7.72-7.72 1.47 1.35L5.41 20z\"/>\n",
              "  </svg>\n",
              "      </button>\n",
              "      \n",
              "  <style>\n",
              "    .colab-df-container {\n",
              "      display:flex;\n",
              "      flex-wrap:wrap;\n",
              "      gap: 12px;\n",
              "    }\n",
              "\n",
              "    .colab-df-convert {\n",
              "      background-color: #E8F0FE;\n",
              "      border: none;\n",
              "      border-radius: 50%;\n",
              "      cursor: pointer;\n",
              "      display: none;\n",
              "      fill: #1967D2;\n",
              "      height: 32px;\n",
              "      padding: 0 0 0 0;\n",
              "      width: 32px;\n",
              "    }\n",
              "\n",
              "    .colab-df-convert:hover {\n",
              "      background-color: #E2EBFA;\n",
              "      box-shadow: 0px 1px 2px rgba(60, 64, 67, 0.3), 0px 1px 3px 1px rgba(60, 64, 67, 0.15);\n",
              "      fill: #174EA6;\n",
              "    }\n",
              "\n",
              "    [theme=dark] .colab-df-convert {\n",
              "      background-color: #3B4455;\n",
              "      fill: #D2E3FC;\n",
              "    }\n",
              "\n",
              "    [theme=dark] .colab-df-convert:hover {\n",
              "      background-color: #434B5C;\n",
              "      box-shadow: 0px 1px 3px 1px rgba(0, 0, 0, 0.15);\n",
              "      filter: drop-shadow(0px 1px 2px rgba(0, 0, 0, 0.3));\n",
              "      fill: #FFFFFF;\n",
              "    }\n",
              "  </style>\n",
              "\n",
              "      <script>\n",
              "        const buttonEl =\n",
              "          document.querySelector('#df-c83c9b87-0b73-4130-851e-23e11ac99afa button.colab-df-convert');\n",
              "        buttonEl.style.display =\n",
              "          google.colab.kernel.accessAllowed ? 'block' : 'none';\n",
              "\n",
              "        async function convertToInteractive(key) {\n",
              "          const element = document.querySelector('#df-c83c9b87-0b73-4130-851e-23e11ac99afa');\n",
              "          const dataTable =\n",
              "            await google.colab.kernel.invokeFunction('convertToInteractive',\n",
              "                                                     [key], {});\n",
              "          if (!dataTable) return;\n",
              "\n",
              "          const docLinkHtml = 'Like what you see? Visit the ' +\n",
              "            '<a target=\"_blank\" href=https://colab.research.google.com/notebooks/data_table.ipynb>data table notebook</a>'\n",
              "            + ' to learn more about interactive tables.';\n",
              "          element.innerHTML = '';\n",
              "          dataTable['output_type'] = 'display_data';\n",
              "          await google.colab.output.renderOutput(dataTable, element);\n",
              "          const docLink = document.createElement('div');\n",
              "          docLink.innerHTML = docLinkHtml;\n",
              "          element.appendChild(docLink);\n",
              "        }\n",
              "      </script>\n",
              "    </div>\n",
              "  </div>\n",
              "  "
            ]
          },
          "metadata": {},
          "execution_count": 58
        }
      ],
      "source": [
        "# tampilkan sampel data\n",
        "\n",
        "data.sample(frac=0.1)"
      ]
    },
    {
      "cell_type": "markdown",
      "metadata": {
        "id": "3FpzAoF8UBrD"
      },
      "source": [
        "## Mempelajari Parameter Inti\n",
        "\n",
        "Parameternya adalah:\n",
        "- Harga\n",
        "- Usia kendaraan ketika iklan ditayangkan\n",
        "- Jarak tempuh\n",
        "- Jumlah silinder\n",
        "- Kondisi"
      ]
    },
    {
      "cell_type": "code",
      "execution_count": 59,
      "metadata": {
        "scrolled": false,
        "colab": {
          "base_uri": "https://localhost:8080/",
          "height": 406
        },
        "id": "qbO85kh_UBrD",
        "outputId": "17174a2e-83ac-494e-8016-f2509fddf19f"
      },
      "outputs": [
        {
          "output_type": "execute_result",
          "data": {
            "text/plain": [
              "Text(0.5, 0, 'price')"
            ]
          },
          "metadata": {},
          "execution_count": 59
        },
        {
          "output_type": "display_data",
          "data": {
            "text/plain": [
              "<Figure size 720x432 with 1 Axes>"
            ],
            "image/png": "[encoded data removed]"
          },
          "metadata": {
            "needs_background": "light"
          }
        }
      ],
      "source": [
        "# Melihat histogram dari kolom price\n",
        "\n",
        "data['price'].hist(bins=50, figsize=(10,6))\n",
        "plt.xlabel('price')"
      ]
    },
    {
      "cell_type": "code",
      "execution_count": 60,
      "metadata": {
        "scrolled": false,
        "colab": {
          "base_uri": "https://localhost:8080/",
          "height": 404
        },
        "id": "UMiBdZwKUBrD",
        "outputId": "d45d2771-213b-4507-bba3-6653665d38f1"
      },
      "outputs": [
        {
          "output_type": "display_data",
          "data": {
            "text/plain": [
              "<Figure size 1080x432 with 1 Axes>"
            ],
            "image/png": "[encoded data removed]"
          },
          "metadata": {
            "needs_background": "light"
          }
        }
      ],
      "source": [
        "# Membuat boxplot untuk melihat outlier dari kolom price\n",
        "\n",
        "plt.figure(figsize=(15, 6))\n",
        "sns.boxplot(data=data, x='price')\n",
        "plt.title('boxplot untuk harga kendaraan')\n",
        "plt.show()"
      ]
    },
    {
      "cell_type": "markdown",
      "metadata": {
        "id": "hyzclbdcUBrD"
      },
      "source": [
        "Dilihat dari histogram diatas dan diyakinkan lagi dengan boxplot, memang benar bahwa kolom price memiliki outlier sampai angka lebih dari 350000. Hal ini terjadi mungkin karena harga kendaraan yang bervariasi yang diiklankan di website, dimana user bebas memasang iklan dengan harga berapapun."
      ]
    },
    {
      "cell_type": "code",
      "execution_count": 61,
      "metadata": {
        "scrolled": false,
        "colab": {
          "base_uri": "https://localhost:8080/",
          "height": 406
        },
        "id": "2aVJzyCfUBrD",
        "outputId": "86427f34-145c-46aa-ab4e-89977e1487c1"
      },
      "outputs": [
        {
          "output_type": "execute_result",
          "data": {
            "text/plain": [
              "Text(0.5, 0, 'car_age')"
            ]
          },
          "metadata": {},
          "execution_count": 61
        },
        {
          "output_type": "display_data",
          "data": {
            "text/plain": [
              "<Figure size 720x432 with 1 Axes>"
            ],
            "image/png": "[encoded data removed]"
          },
          "metadata": {
            "needs_background": "light"
          }
        }
      ],
      "source": [
        "# Melihat histogram dari kolom usia kendaraan ketika iklan ditayangkan\n",
        "\n",
        "data['car_age'].hist(bins=50, figsize=(10,6))\n",
        "plt.xlabel('car_age')"
      ]
    },
    {
      "cell_type": "code",
      "execution_count": 62,
      "metadata": {
        "scrolled": false,
        "colab": {
          "base_uri": "https://localhost:8080/",
          "height": 404
        },
        "id": "Rhbg2XNZUBrD",
        "outputId": "c36d60c2-55ba-47d0-e5f0-b0f6584fb013"
      },
      "outputs": [
        {
          "output_type": "display_data",
          "data": {
            "text/plain": [
              "<Figure size 1080x432 with 1 Axes>"
            ],
            "image/png": "[encoded data removed]"
          },
          "metadata": {
            "needs_background": "light"
          }
        }
      ],
      "source": [
        "# Membuat boxplot untuk melihat outlier dari kolom usia kendaraan ketika iklan ditayangkan\n",
        "\n",
        "plt.figure(figsize=(15, 6))\n",
        "sns.boxplot(data=data, x='car_age')\n",
        "plt.title('boxplot untuk usia kendaraan')\n",
        "plt.show()"
      ]
    },
    {
      "cell_type": "markdown",
      "metadata": {
        "id": "SrfWLHnHUBrE"
      },
      "source": [
        "Selanjutnya, dari histogram diatas dan diyakinkan lagi dengan boxplot, kolom usia kendaraan juga terlihat memiliki outlier sampai angka lebih dari 100 tahun. Hal ini bisa saja terjadi karena jenis kendaraan yang diiklankan di website bervariasi, sehingga tidak menutup kemungkinan adanya kendaraan yang lebih dari 100 tahun, mungkin saja itu kendaraan legenda warisan dari kakek neneknya :)"
      ]
    },
    {
      "cell_type": "code",
      "execution_count": 63,
      "metadata": {
        "colab": {
          "base_uri": "https://localhost:8080/",
          "height": 406
        },
        "id": "ZG7FRi9HUBrE",
        "outputId": "d413b979-b85c-4e97-d61a-280d31c1c2e5"
      },
      "outputs": [
        {
          "output_type": "execute_result",
          "data": {
            "text/plain": [
              "Text(0.5, 0, 'odometer')"
            ]
          },
          "metadata": {},
          "execution_count": 63
        },
        {
          "output_type": "display_data",
          "data": {
            "text/plain": [
              "<Figure size 720x432 with 1 Axes>"
            ],
            "image/png": "[encoded data removed]"
          },
          "metadata": {
            "needs_background": "light"
          }
        }
      ],
      "source": [
        "# Melihat histogram dari kolom jarak tempuh\n",
        "\n",
        "data['odometer'].hist(bins=100, figsize=(10,6))\n",
        "plt.xlabel('odometer')"
      ]
    },
    {
      "cell_type": "code",
      "execution_count": 64,
      "metadata": {
        "scrolled": false,
        "colab": {
          "base_uri": "https://localhost:8080/",
          "height": 404
        },
        "id": "tKXgyv77UBrE",
        "outputId": "dca0e0fb-49e1-477f-ac01-df84e2d43af4"
      },
      "outputs": [
        {
          "output_type": "display_data",
          "data": {
            "text/plain": [
              "<Figure size 1080x432 with 1 Axes>"
            ],
            "image/png": "[encoded data removed]"
          },
          "metadata": {
            "needs_background": "light"
          }
        }
      ],
      "source": [
        "# Membuat boxplot untuk melihat outlier dari kolom jarak tempuh kendaraan\n",
        "\n",
        "plt.figure(figsize=(15, 6))\n",
        "sns.boxplot(data=data, x='odometer')\n",
        "plt.title('boxplot untuk jarak tempuh')\n",
        "plt.show()"
      ]
    },
    {
      "cell_type": "markdown",
      "metadata": {
        "id": "RmQNhPUiUBrE"
      },
      "source": [
        "Selanjutnya, sama halnya seperti 2 parameter sebelumnya, kolom odomoter juga terlihat memiliki outlier. Asumsi kita hal ini terjadi karena jenis kendaraan yang diiklankan di website bervariasi, dimana semakin lama umur kendaraan maka biasanya odometernya juga sudah tinggi."
      ]
    },
    {
      "cell_type": "code",
      "execution_count": 65,
      "metadata": {
        "scrolled": false,
        "colab": {
          "base_uri": "https://localhost:8080/",
          "height": 406
        },
        "id": "bsxwN4bvUBrE",
        "outputId": "269a202c-e084-4fc9-a063-7443fcca55c9"
      },
      "outputs": [
        {
          "output_type": "execute_result",
          "data": {
            "text/plain": [
              "Text(0.5, 0, 'cylinders')"
            ]
          },
          "metadata": {},
          "execution_count": 65
        },
        {
          "output_type": "display_data",
          "data": {
            "text/plain": [
              "<Figure size 720x432 with 1 Axes>"
            ],
            "image/png": "[encoded data removed]"
          },
          "metadata": {
            "needs_background": "light"
          }
        }
      ],
      "source": [
        "# Melihat histogram dari kolom jumlah silinder\n",
        "\n",
        "data['cylinders'].hist(bins=50, figsize=(10,6))\n",
        "plt.xlabel('cylinders')"
      ]
    },
    {
      "cell_type": "code",
      "execution_count": 66,
      "metadata": {
        "scrolled": false,
        "colab": {
          "base_uri": "https://localhost:8080/",
          "height": 404
        },
        "id": "JdFTL_FqUBrE",
        "outputId": "f8802ba6-c1eb-41b5-b04d-d95ae1481280"
      },
      "outputs": [
        {
          "output_type": "display_data",
          "data": {
            "text/plain": [
              "<Figure size 864x432 with 1 Axes>"
            ],
            "image/png": "[encoded data removed]"
          },
          "metadata": {
            "needs_background": "light"
          }
        }
      ],
      "source": [
        "# Membuat boxplot untuk melihat outlier dari kolom jumlah silinder\n",
        "\n",
        "plt.figure(figsize=(12, 6))\n",
        "sns.boxplot(data=data, x='cylinders')\n",
        "plt.title('boxplot untuk jumlah silinder')\n",
        "plt.show()"
      ]
    },
    {
      "cell_type": "markdown",
      "metadata": {
        "id": "2IUrUVkwUBrE"
      },
      "source": [
        "Dari boxplot diatas, terlihat jelas bahwa kolom silinder tidak memiliki outlier. Hal ini karena kendaraan yang diiklankan informasinya sudah sesuai, yaitu kendaraan biasanya bermesin 3 sampai dengan 12 silinder (pencarian di Google mengatakan jumlah silinder kendaraan terbanyak adalah 16)."
      ]
    },
    {
      "cell_type": "code",
      "execution_count": 67,
      "metadata": {
        "scrolled": false,
        "colab": {
          "base_uri": "https://localhost:8080/",
          "height": 407
        },
        "id": "G_CIEVs2UBrE",
        "outputId": "4637d70c-8010-4124-e24f-c8d2bdff5f32"
      },
      "outputs": [
        {
          "output_type": "execute_result",
          "data": {
            "text/plain": [
              "Text(0.5, 0, 'condition_scale')"
            ]
          },
          "metadata": {},
          "execution_count": 67
        },
        {
          "output_type": "display_data",
          "data": {
            "text/plain": [
              "<Figure size 576x432 with 1 Axes>"
            ],
            "image/png": "[encoded data removed]"
          },
          "metadata": {
            "needs_background": "light"
          }
        }
      ],
      "source": [
        "# Melihat histogram dari kondisi kendaraan dari skalanya\n",
        "\n",
        "data['condition_scale'].hist(bins=50, figsize=(8, 6))\n",
        "plt.xlabel('condition_scale')"
      ]
    },
    {
      "cell_type": "code",
      "execution_count": 68,
      "metadata": {
        "scrolled": false,
        "colab": {
          "base_uri": "https://localhost:8080/",
          "height": 405
        },
        "id": "-0gr1RPlUBrE",
        "outputId": "78e46a7a-1f45-4ff3-fab0-2ddf9af54cfb"
      },
      "outputs": [
        {
          "output_type": "display_data",
          "data": {
            "text/plain": [
              "<Figure size 864x432 with 1 Axes>"
            ],
            "image/png": "[encoded data removed]"
          },
          "metadata": {
            "needs_background": "light"
          }
        }
      ],
      "source": [
        "# Membuat boxplot untuk melihat outlier di kolom kondisi kendaraan dari skalanya\n",
        "\n",
        "plt.figure(figsize=(12, 6))\n",
        "sns.boxplot(data=data, x='condition_scale')\n",
        "plt.title('boxplot untuk kondisi kendaraan')\n",
        "plt.show()"
      ]
    },
    {
      "cell_type": "markdown",
      "metadata": {
        "id": "FMwhjt57UBrE"
      },
      "source": [
        "Dari boxplot diatas, kolom kondisi kendaraan tidak memiliki outlier. Karena kita sudah tahu bahwa skala kondisi kendaraan adalah 1 sampai dengan 5 dengan masing-masing keterangan:\n",
        "new = 5\n",
        "like new = 4\n",
        "excellent = 3\n",
        "good = 2\n",
        "fair = 1\n",
        "salvage = 0"
      ]
    },
    {
      "cell_type": "markdown",
      "metadata": {
        "id": "po9EL9IJUBrE"
      },
      "source": [
        "## Mempelajari dan Menangani Outlier\n",
        "\n",
        "Dengan hasil di atas, ditemukan bahwa kolom price, car_age, dan odometer mengandung outlier. akan membuat beberapa DataFrame terpisah tanpa *outlier* tersebut. Sebelumnya, kita akan mengidentifikasinya dengan menentukan batas bawah/atas untuk rentang nilai normal."
      ]
    },
    {
      "cell_type": "code",
      "execution_count": 69,
      "metadata": {
        "id": "oBNM5xqiUBrE"
      },
      "outputs": [],
      "source": [
        "# hitung Q1 dan Q3 kolom price\n",
        "Q1 = data['price'].quantile(.25)\n",
        "Q3 = data['price'].quantile(.75)\n",
        "\n",
        "# hitung IQR\n",
        "IQR = Q3-Q1\n",
        "\n",
        "# hitung batas atas dan batas bawah untuk mendeteksi outlier\n",
        "outlier_lower_bound_price = Q1 - 1.5*IQR\n",
        "outlier_upper_bound_price = Q3 + 1.5*IQR"
      ]
    },
    {
      "cell_type": "code",
      "execution_count": 70,
      "metadata": {
        "scrolled": true,
        "colab": {
          "base_uri": "https://localhost:8080/"
        },
        "id": "h0fHMs3EUBrE",
        "outputId": "893b2245-fb9d-4bb2-9a64-23e48a6fbd7e"
      },
      "outputs": [
        {
          "output_type": "stream",
          "name": "stdout",
          "text": [
            "Batas bawah kolom price: -12758.5\n",
            "Batas atas kolom price: 34597.5\n"
          ]
        }
      ],
      "source": [
        "# menampilkan batas bawah dan batas atas kolom price\n",
        "\n",
        "print('Batas bawah kolom price:', outlier_lower_bound_price)\n",
        "print('Batas atas kolom price:', outlier_upper_bound_price)"
      ]
    },
    {
      "cell_type": "code",
      "execution_count": 71,
      "metadata": {
        "id": "mKlxtFoYUBrF"
      },
      "outputs": [],
      "source": [
        "# hitung Q1 dan Q3 kolom car_age\n",
        "Q1 = data['car_age'].quantile(.25)\n",
        "Q3 = data['car_age'].quantile(.75)\n",
        "\n",
        "# hitung IQR\n",
        "IQR = Q3-Q1\n",
        "\n",
        "# hitung batas atas dan batas bawah untuk mendeteksi outlier\n",
        "outlier_lower_bound_car_age = Q1 - 1.5*IQR\n",
        "outlier_upper_bound_car_age = Q3 + 1.5*IQR"
      ]
    },
    {
      "cell_type": "code",
      "execution_count": 72,
      "metadata": {
        "colab": {
          "base_uri": "https://localhost:8080/"
        },
        "id": "7PT1IK_3UBrF",
        "outputId": "6dc10b39-2234-43b4-d847-08f7846a9e60"
      },
      "outputs": [
        {
          "output_type": "stream",
          "name": "stdout",
          "text": [
            "Batas bawah kolom usia kendaraan: -8.0\n",
            "Batas atas kolom usia kendaraan: 24.0\n"
          ]
        }
      ],
      "source": [
        "# menampilkan batas bawah dan batas atas kolom price\n",
        "\n",
        "print('Batas bawah kolom usia kendaraan:', outlier_lower_bound_car_age)\n",
        "print('Batas atas kolom usia kendaraan:', outlier_upper_bound_car_age)"
      ]
    },
    {
      "cell_type": "code",
      "execution_count": 73,
      "metadata": {
        "id": "_0632FeCUBrF"
      },
      "outputs": [],
      "source": [
        "# hitung Q1 dan Q3 kolom odometer\n",
        "Q1 = data['odometer'].quantile(.25)\n",
        "Q3 = data['odometer'].quantile(.75)\n",
        "\n",
        "# hitung IQR\n",
        "IQR = Q3-Q1\n",
        "\n",
        "# hitung batas atas dan batas bawah untuk mendeteksi outlier\n",
        "outlier_lower_bound_odometer = Q1 - 1.5*IQR\n",
        "outlier_upper_bound_odometer = Q3 + 1.5*IQR"
      ]
    },
    {
      "cell_type": "code",
      "execution_count": 74,
      "metadata": {
        "colab": {
          "base_uri": "https://localhost:8080/"
        },
        "id": "0ivdL3ncUBrF",
        "outputId": "0b4ae483-2933-4e27-91ae-4d9fccdfde58"
      },
      "outputs": [
        {
          "output_type": "stream",
          "name": "stdout",
          "text": [
            "Batas bawah kolom odomter: -21859.0\n",
            "Batas atas kolom odomter: 247581.0\n"
          ]
        }
      ],
      "source": [
        "# menampilkan batas bawah dan batas atas kolom price\n",
        "\n",
        "print('Batas bawah kolom odomter:', outlier_lower_bound_odometer)\n",
        "print('Batas atas kolom odomter:', outlier_upper_bound_odometer)"
      ]
    },
    {
      "cell_type": "code",
      "execution_count": 75,
      "metadata": {
        "id": "YUU0rUaLUBrF"
      },
      "outputs": [],
      "source": [
        "# membuat fungsi untuk mengeluarkan outlier\n",
        "\n",
        "def remove_outlier(dataset, col):\n",
        "    Q1 = dataset[col].quantile(.25)\n",
        "    Q3 = dataset[col].quantile(.75)\n",
        "    IQR = Q3-Q1\n",
        "    data_non_outlier = dataset[~((dataset[col] < (Q1 - 1.5*IQR)) | (dataset[col] > (Q1 + 1.5*IQR)))]\n",
        "    return data_non_outlier"
      ]
    },
    {
      "cell_type": "code",
      "execution_count": 76,
      "metadata": {
        "id": "B_RCMD3hUBrF"
      },
      "outputs": [],
      "source": [
        "# Simpan data tanpa outlier dalam DataFrame yang terpisah\n",
        "# Kolom kondisi silinder & kendaraan tidak ada outlier sehingga tidak dibuatkan DataFrame tanpa outlier\n",
        "\n",
        "filter_for_price = remove_outlier(dataset=data, col='price')\n",
        "filter_for_car_age = remove_outlier(dataset=data, col='car_age')\n",
        "filter_for_odometer = remove_outlier(dataset=data, col='odometer')\n"
      ]
    },
    {
      "cell_type": "markdown",
      "metadata": {
        "id": "jYsnqSYlUBrF"
      },
      "source": [
        "## Mempelajari Parameter Inti Tanpa Outlier"
      ]
    },
    {
      "cell_type": "code",
      "execution_count": 77,
      "metadata": {
        "scrolled": false,
        "colab": {
          "base_uri": "https://localhost:8080/",
          "height": 404
        },
        "id": "rvNN1a_lUBrF",
        "outputId": "bca1289d-6b49-46fc-f2f2-d66582f3bfd2"
      },
      "outputs": [
        {
          "output_type": "display_data",
          "data": {
            "text/plain": [
              "<Figure size 1080x432 with 1 Axes>"
            ],
            "image/png": "[encoded data removed]"
          },
          "metadata": {
            "needs_background": "light"
          }
        }
      ],
      "source": [
        "# Membuat boxplot untuk melihat kolom price dengan outlier\n",
        "\n",
        "plt.figure(figsize=(15, 6))\n",
        "sns.boxplot(data=data, x='price')\n",
        "plt.title('boxplot untuk harga kendaraan dengan outlier')\n",
        "plt.show()"
      ]
    },
    {
      "cell_type": "code",
      "execution_count": 78,
      "metadata": {
        "scrolled": false,
        "colab": {
          "base_uri": "https://localhost:8080/",
          "height": 404
        },
        "id": "Y6ujt7IXUBrF",
        "outputId": "46170688-fd6c-47c2-8734-4e86adc25317"
      },
      "outputs": [
        {
          "output_type": "display_data",
          "data": {
            "text/plain": [
              "<Figure size 1080x432 with 1 Axes>"
            ],
            "image/png": "[encoded data removed]"
          },
          "metadata": {
            "needs_background": "light"
          }
        }
      ],
      "source": [
        "# Membuat boxplot untuk melihat kolom price tanpa data outlier\n",
        "\n",
        "plt.figure(figsize=(15, 6))\n",
        "sns.boxplot(data=filter_for_price, x='price')\n",
        "plt.title('boxplot untuk harga kendaraan tanpa outlier')\n",
        "plt.show()"
      ]
    },
    {
      "cell_type": "markdown",
      "metadata": {
        "id": "uFFAqp_2UBrF"
      },
      "source": [
        "Diatas ini adalah perbandingan boxplot paremeter inti dengan outlier dan tanpa outlier. \n",
        "Setelah dibersihkan outliernya, boxplot kedua untuk harga kendaraan berada dikisaran harga 0 sampai dengan 20000an dengan mediannya di angka +- 80000."
      ]
    },
    {
      "cell_type": "code",
      "execution_count": 79,
      "metadata": {
        "colab": {
          "base_uri": "https://localhost:8080/",
          "height": 404
        },
        "id": "PCtkIRHFUBrF",
        "outputId": "d27be1ce-1fa3-4932-fe69-1eaafefd9844"
      },
      "outputs": [
        {
          "output_type": "display_data",
          "data": {
            "text/plain": [
              "<Figure size 1080x432 with 1 Axes>"
            ],
            "image/png": "[encoded data removed]"
          },
          "metadata": {
            "needs_background": "light"
          }
        }
      ],
      "source": [
        "# Membuat boxplot untuk melihat outlier dari kolom usia kendaraan ketika iklan ditayangkan\n",
        "\n",
        "plt.figure(figsize=(15, 6))\n",
        "sns.boxplot(data=data, x='car_age')\n",
        "plt.title('boxplot untuk usia kendaraan')\n",
        "plt.show()"
      ]
    },
    {
      "cell_type": "code",
      "execution_count": 80,
      "metadata": {
        "colab": {
          "base_uri": "https://localhost:8080/",
          "height": 404
        },
        "id": "ARUn4EFIUBrF",
        "outputId": "fd9a7023-0bc8-4697-b503-b1b6d868e21d"
      },
      "outputs": [
        {
          "output_type": "display_data",
          "data": {
            "text/plain": [
              "<Figure size 1080x432 with 1 Axes>"
            ],
            "image/png": "[encoded data removed]"
          },
          "metadata": {
            "needs_background": "light"
          }
        }
      ],
      "source": [
        "# Membuat boxplot untuk melihat kolom usia kendaraan ketika iklan ditayangkan tanpa data outlier\n",
        "\n",
        "plt.figure(figsize=(15, 6))\n",
        "sns.boxplot(data=filter_for_car_age, x='car_age')\n",
        "plt.title('boxplot untuk usia kendaraan ketika iklan ditayangkan tanpa outlier')\n",
        "plt.show()"
      ]
    },
    {
      "cell_type": "markdown",
      "metadata": {
        "id": "JB9VDDv_UBrF"
      },
      "source": [
        "Diatas ini adalah perbandingan boxplot paremeter inti dengan outlier dan tanpa outlier untuk usia kendaraan ketika iklan ditayangkan. \n",
        "Setelah dibersihkan outliernya, boxplot kedua berada dikisaran harga 0 sampai dengan 16 tahun dengan mediannya di angka +- 7 tahun."
      ]
    },
    {
      "cell_type": "code",
      "execution_count": 81,
      "metadata": {
        "colab": {
          "base_uri": "https://localhost:8080/",
          "height": 404
        },
        "id": "hkX8BNa_UBrG",
        "outputId": "c84483b0-7f64-4423-9e4e-714a8c3334c2"
      },
      "outputs": [
        {
          "output_type": "display_data",
          "data": {
            "text/plain": [
              "<Figure size 1080x432 with 1 Axes>"
            ],
            "image/png": "[encoded data removed]"
          },
          "metadata": {
            "needs_background": "light"
          }
        }
      ],
      "source": [
        "# Membuat boxplot untuk melihat outlier dari kolom jarak tempuh kendaraan\n",
        "\n",
        "plt.figure(figsize=(15, 6))\n",
        "sns.boxplot(data=data, x='odometer')\n",
        "plt.title('boxplot untuk jarak tempuh')\n",
        "plt.show()"
      ]
    },
    {
      "cell_type": "code",
      "execution_count": 82,
      "metadata": {
        "scrolled": false,
        "colab": {
          "base_uri": "https://localhost:8080/",
          "height": 404
        },
        "id": "DyxhsbV4UBrG",
        "outputId": "378ae0c5-ceb7-4ea3-c584-34dc12e08301"
      },
      "outputs": [
        {
          "output_type": "display_data",
          "data": {
            "text/plain": [
              "<Figure size 1080x432 with 1 Axes>"
            ],
            "image/png": "[encoded data removed]"
          },
          "metadata": {
            "needs_background": "light"
          }
        }
      ],
      "source": [
        "# Membuat boxplot untuk melihat kolom jarak tempuh tanpa outlier tanpa data outlier\n",
        "\n",
        "plt.figure(figsize=(15, 6))\n",
        "sns.boxplot(data=filter_for_odometer, x='odometer')\n",
        "plt.title('boxplot untuk kolom jarak tempuh tanpa outlier')\n",
        "plt.show()"
      ]
    },
    {
      "cell_type": "markdown",
      "metadata": {
        "id": "9GiApF8NUBrG"
      },
      "source": [
        "Diatas ini adalah perbandingan boxplot paremeter inti dengan outlier dan tanpa outlier untuk jarak tempuh kendaraan.\n",
        "Setelah dibersihkan outliernya, boxplot kedua berada dikisaran 0 sampai dengan +- 175000 dengan mediannya di angka +- 110000."
      ]
    },
    {
      "cell_type": "markdown",
      "metadata": {
        "id": "Gxhu_5oGUBrG"
      },
      "source": [
        "## Masa Berlaku Iklan\n",
        "Dari data dibawah ini terlihat bahwa:\n",
        "1. Rata-rata iklan ditayangkan adalah 39 hari dan mediannya 33 hari.\n",
        "2. Umumnya, sebuah iklah ditayangkan selama 28 hari, terlihat dari juga histogram diatas dan nilai penyebaran / standar deviasi.\n",
        "3. Selanjutnya, waktu tercepat iklan dihapus adalah 19 hari, sementara terlamanya sampai 271 hari "
      ]
    },
    {
      "cell_type": "code",
      "execution_count": 83,
      "metadata": {
        "id": "h5pMGenTUBrG"
      },
      "outputs": [],
      "source": [
        "# Mengembalikan days_listed ke integer agar bisa dilihat dengan histogram\n",
        "\n",
        "data['days_listed'] = data['days_listed'].dt.days.astype(int)"
      ]
    },
    {
      "cell_type": "code",
      "execution_count": 84,
      "metadata": {
        "colab": {
          "base_uri": "https://localhost:8080/",
          "height": 392
        },
        "id": "Nwy8lzdhUBrG",
        "outputId": "4f9b3821-cdb8-4260-f6cf-6305e8040be0"
      },
      "outputs": [
        {
          "output_type": "execute_result",
          "data": {
            "text/plain": [
              "<matplotlib.axes._subplots.AxesSubplot at 0x7f0203586eb0>"
            ]
          },
          "metadata": {},
          "execution_count": 84
        },
        {
          "output_type": "display_data",
          "data": {
            "text/plain": [
              "<Figure size 864x432 with 1 Axes>"
            ],
            "image/png": "[encoded data removed]"
          },
          "metadata": {
            "needs_background": "light"
          }
        }
      ],
      "source": [
        "# Membuat histogram untuk kolom days_listed\n",
        "\n",
        "data['days_listed'].hist(bins=10, figsize=(12,6))"
      ]
    },
    {
      "cell_type": "code",
      "execution_count": 85,
      "metadata": {
        "colab": {
          "base_uri": "https://localhost:8080/"
        },
        "id": "6HGXWIJsUBrG",
        "outputId": "f98218dd-eb06-4504-fc32-92516aefa790"
      },
      "outputs": [
        {
          "output_type": "execute_result",
          "data": {
            "text/plain": [
              "count    51525.00000\n",
              "mean        39.55476\n",
              "std         28.20427\n",
              "min          0.00000\n",
              "25%         19.00000\n",
              "50%         33.00000\n",
              "75%         53.00000\n",
              "max        271.00000\n",
              "Name: days_listed, dtype: float64"
            ]
          },
          "metadata": {},
          "execution_count": 85
        }
      ],
      "source": [
        "# Melihat distribusi pada kolom days_listed\n",
        "\n",
        "data['days_listed'].describe()"
      ]
    },
    {
      "cell_type": "markdown",
      "metadata": {
        "id": "qCMC7A-CUBrH"
      },
      "source": [
        "## Harga Rata-Rata Setiap Jenis Kendaraan"
      ]
    },
    {
      "cell_type": "markdown",
      "metadata": {
        "id": "8ETeMEIMUBrH"
      },
      "source": [
        "Berdasarkan hasil analisis dibawah ini, kendaraan dengan jenis SUV dan truck menduduki peringkat dua besar sebagai iklan yang paling banyak dipasang di web. Namun hal itu tidak selalu berpengaruh terhadap rata-rata harga kendaraan. Kita bisa melihatnya dimana harga rata-rata SUV tidak masuk dalam lima besar tertinggi (hanya sekitar 11000), sementara truck masih menduduki peringkat kedua dengan nilai rata-rata harga di sekitar 16000."
      ]
    },
    {
      "cell_type": "code",
      "execution_count": 86,
      "metadata": {
        "scrolled": false,
        "colab": {
          "base_uri": "https://localhost:8080/",
          "height": 452
        },
        "id": "qik3BcDDUBrH",
        "outputId": "1e282f27-d04b-4a97-fddb-e122bda7ae20"
      },
      "outputs": [
        {
          "output_type": "execute_result",
          "data": {
            "text/plain": [
              "Text(0, 0.5, 'average price per type')"
            ]
          },
          "metadata": {},
          "execution_count": 86
        },
        {
          "output_type": "display_data",
          "data": {
            "text/plain": [
              "<Figure size 864x432 with 1 Axes>"
            ],
            "image/png": "[encoded data removed]"
          },
          "metadata": {
            "needs_background": "light"
          }
        }
      ],
      "source": [
        "# Membuat histogram jumlah iklan dengan harga rata-rata per jenis kendaraan\n",
        "\n",
        "avg_price_per_type = data.pivot_table(index='type', values='price')\n",
        "avg_price_per_type.plot(kind='bar', grid=True, figsize=(12,6))\n",
        "plt.ylabel('average price per type')"
      ]
    },
    {
      "cell_type": "code",
      "execution_count": 87,
      "metadata": {
        "scrolled": true,
        "colab": {
          "base_uri": "https://localhost:8080/"
        },
        "id": "k7VLHifWUBrH",
        "outputId": "a97361a1-9891-4206-f918-b1ee8ad65556"
      },
      "outputs": [
        {
          "output_type": "execute_result",
          "data": {
            "text/plain": [
              "SUV            12405\n",
              "truck          12353\n",
              "sedan          12154\n",
              "pickup          6988\n",
              "coupe           2303\n",
              "wagon           1541\n",
              "mini-van        1161\n",
              "hatchback       1047\n",
              "van              633\n",
              "convertible      446\n",
              "other            256\n",
              "offroad          214\n",
              "bus               24\n",
              "Name: type, dtype: int64"
            ]
          },
          "metadata": {},
          "execution_count": 87
        }
      ],
      "source": [
        "# Melihat distribusi iklan berdasarkan kolom jenis kendaraan\n",
        "\n",
        "data['type'].value_counts()"
      ]
    },
    {
      "cell_type": "markdown",
      "metadata": {
        "id": "-bFrZ8lvUBrI"
      },
      "source": [
        "## Faktor Harga"
      ]
    },
    {
      "cell_type": "markdown",
      "metadata": {
        "id": "GOP2QWlrUBrI"
      },
      "source": [
        "Berdasarkan analisis dibawah ini terkait hubungan harga kendaraan dengan usia kendaraan, jarak tempuh, kondisi, tipe transmisi, dan warnanya, adalah sebagai berikut:\n",
        "1. Usia kendaraan berpengaruh positif medium terhadap harga kendaraan (corr = 0.50)\n",
        "2. Jarak tempuh kendaraan berpengaruh negatif medium terhadap harga kendaraan (corr = -0.48)\n",
        "3. Sementara, kondisi kendaraan berpengaruh negatif medium terhadap harga (corr = -0.41)\n",
        "4. Selanjutnya, jenis transmisi automatic menjadi jenis kendaraan yang paling mahal harganya (melihat dari banyaknya outlier). Maka, kita asumsikan bahwa jika memilih kendaraan automatic akan semakin mahal harganya dibandingkan jenis transmisi lainnya. \n",
        "5. Terakhir, berdasarkan warna, kendaraan dengan warna kuning memiliki batas atas (Q3) harga tertinggi diantara warna lainnya, namun warna putih, hitam, dan silver memiliki data outlier terbanyak. Ini mungkin berhubungan dengan kendaraan yang paling banyak diiklankan adalah ketiga warna tersebut. Jadi, mungkin saja warna kuning menjadi lebih mahal harganya karena dibuat spesifik untuk orang-orang yang menyukainya."
      ]
    },
    {
      "cell_type": "code",
      "execution_count": 88,
      "metadata": {
        "scrolled": false,
        "colab": {
          "base_uri": "https://localhost:8080/",
          "height": 175
        },
        "id": "YzgQED6ZUBrI",
        "outputId": "28f3e0b9-0c64-46e5-8fff-2d06d0985322"
      },
      "outputs": [
        {
          "output_type": "execute_result",
          "data": {
            "text/plain": [
              "                 avg_mileage   car_age  condition_scale     price\n",
              "avg_mileage         1.000000 -0.872705         0.218219 -0.485121\n",
              "car_age            -0.872705  1.000000         0.103774  0.501799\n",
              "condition_scale     0.218219  0.103774         1.000000 -0.417862\n",
              "price              -0.485121  0.501799        -0.417862  1.000000"
            ],
            "text/html": [
              "\n",
              "  <div id=\"df-ac1e390c-5c40-4724-9e06-1603bdccc9b0\">\n",
              "    <div class=\"colab-df-container\">\n",
              "      <div>\n",
              "<style scoped>\n",
              "    .dataframe tbody tr th:only-of-type {\n",
              "        vertical-align: middle;\n",
              "    }\n",
              "\n",
              "    .dataframe tbody tr th {\n",
              "        vertical-align: top;\n",
              "    }\n",
              "\n",
              "    .dataframe thead th {\n",
              "        text-align: right;\n",
              "    }\n",
              "</style>\n",
              "<table border=\"1\" class=\"dataframe\">\n",
              "  <thead>\n",
              "    <tr style=\"text-align: right;\">\n",
              "      <th></th>\n",
              "      <th>avg_mileage</th>\n",
              "      <th>car_age</th>\n",
              "      <th>condition_scale</th>\n",
              "      <th>price</th>\n",
              "    </tr>\n",
              "  </thead>\n",
              "  <tbody>\n",
              "    <tr>\n",
              "      <th>avg_mileage</th>\n",
              "      <td>1.000000</td>\n",
              "      <td>-0.872705</td>\n",
              "      <td>0.218219</td>\n",
              "      <td>-0.485121</td>\n",
              "    </tr>\n",
              "    <tr>\n",
              "      <th>car_age</th>\n",
              "      <td>-0.872705</td>\n",
              "      <td>1.000000</td>\n",
              "      <td>0.103774</td>\n",
              "      <td>0.501799</td>\n",
              "    </tr>\n",
              "    <tr>\n",
              "      <th>condition_scale</th>\n",
              "      <td>0.218219</td>\n",
              "      <td>0.103774</td>\n",
              "      <td>1.000000</td>\n",
              "      <td>-0.417862</td>\n",
              "    </tr>\n",
              "    <tr>\n",
              "      <th>price</th>\n",
              "      <td>-0.485121</td>\n",
              "      <td>0.501799</td>\n",
              "      <td>-0.417862</td>\n",
              "      <td>1.000000</td>\n",
              "    </tr>\n",
              "  </tbody>\n",
              "</table>\n",
              "</div>\n",
              "      <button class=\"colab-df-convert\" onclick=\"convertToInteractive('df-ac1e390c-5c40-4724-9e06-1603bdccc9b0')\"\n",
              "              title=\"Convert this dataframe to an interactive table.\"\n",
              "              style=\"display:none;\">\n",
              "        \n",
              "  <svg xmlns=\"http://www.w3.org/2000/svg\" height=\"24px\"viewBox=\"0 0 24 24\"\n",
              "       width=\"24px\">\n",
              "    <path d=\"M0 0h24v24H0V0z\" fill=\"none\"/>\n",
              "    <path d=\"M18.56 5.44l.94 2.06.94-2.06 2.06-.94-2.06-.94-.94-2.06-.94 2.06-2.06.94zm-11 1L8.5 8.5l.94-2.06 2.06-.94-2.06-.94L8.5 2.5l-.94 2.06-2.06.94zm10 10l.94 2.06.94-2.06 2.06-.94-2.06-.94-.94-2.06-.94 2.06-2.06.94z\"/><path d=\"M17.41 7.96l-1.37-1.37c-.4-.4-.92-.59-1.43-.59-.52 0-1.04.2-1.43.59L10.3 9.45l-7.72 7.72c-.78.78-.78 2.05 0 2.83L4 21.41c.39.39.9.59 1.41.59.51 0 1.02-.2 1.41-.59l7.78-7.78 2.81-2.81c.8-.78.8-2.07 0-2.86zM5.41 20L4 18.59l7.72-7.72 1.47 1.35L5.41 20z\"/>\n",
              "  </svg>\n",
              "      </button>\n",
              "      \n",
              "  <style>\n",
              "    .colab-df-container {\n",
              "      display:flex;\n",
              "      flex-wrap:wrap;\n",
              "      gap: 12px;\n",
              "    }\n",
              "\n",
              "    .colab-df-convert {\n",
              "      background-color: #E8F0FE;\n",
              "      border: none;\n",
              "      border-radius: 50%;\n",
              "      cursor: pointer;\n",
              "      display: none;\n",
              "      fill: #1967D2;\n",
              "      height: 32px;\n",
              "      padding: 0 0 0 0;\n",
              "      width: 32px;\n",
              "    }\n",
              "\n",
              "    .colab-df-convert:hover {\n",
              "      background-color: #E2EBFA;\n",
              "      box-shadow: 0px 1px 2px rgba(60, 64, 67, 0.3), 0px 1px 3px 1px rgba(60, 64, 67, 0.15);\n",
              "      fill: #174EA6;\n",
              "    }\n",
              "\n",
              "    [theme=dark] .colab-df-convert {\n",
              "      background-color: #3B4455;\n",
              "      fill: #D2E3FC;\n",
              "    }\n",
              "\n",
              "    [theme=dark] .colab-df-convert:hover {\n",
              "      background-color: #434B5C;\n",
              "      box-shadow: 0px 1px 3px 1px rgba(0, 0, 0, 0.15);\n",
              "      filter: drop-shadow(0px 1px 2px rgba(0, 0, 0, 0.3));\n",
              "      fill: #FFFFFF;\n",
              "    }\n",
              "  </style>\n",
              "\n",
              "      <script>\n",
              "        const buttonEl =\n",
              "          document.querySelector('#df-ac1e390c-5c40-4724-9e06-1603bdccc9b0 button.colab-df-convert');\n",
              "        buttonEl.style.display =\n",
              "          google.colab.kernel.accessAllowed ? 'block' : 'none';\n",
              "\n",
              "        async function convertToInteractive(key) {\n",
              "          const element = document.querySelector('#df-ac1e390c-5c40-4724-9e06-1603bdccc9b0');\n",
              "          const dataTable =\n",
              "            await google.colab.kernel.invokeFunction('convertToInteractive',\n",
              "                                                     [key], {});\n",
              "          if (!dataTable) return;\n",
              "\n",
              "          const docLinkHtml = 'Like what you see? Visit the ' +\n",
              "            '<a target=\"_blank\" href=https://colab.research.google.com/notebooks/data_table.ipynb>data table notebook</a>'\n",
              "            + ' to learn more about interactive tables.';\n",
              "          element.innerHTML = '';\n",
              "          dataTable['output_type'] = 'display_data';\n",
              "          await google.colab.output.renderOutput(dataTable, element);\n",
              "          const docLink = document.createElement('div');\n",
              "          docLink.innerHTML = docLinkHtml;\n",
              "          element.appendChild(docLink);\n",
              "        }\n",
              "      </script>\n",
              "    </div>\n",
              "  </div>\n",
              "  "
            ]
          },
          "metadata": {},
          "execution_count": 88
        }
      ],
      "source": [
        "# Menghitung korelasi antara harga dengan variabel numerik (usia, jarak tempuh, kondisi)\n",
        "\n",
        "numeric_variable = data.pivot_table(\n",
        "    index='type', values=['price', 'car_age', 'avg_mileage', 'condition_scale']\n",
        ")\n",
        "numeric_corr = numeric_variable.corr()\n",
        "numeric_corr"
      ]
    },
    {
      "cell_type": "code",
      "execution_count": 89,
      "metadata": {
        "colab": {
          "base_uri": "https://localhost:8080/",
          "height": 1000
        },
        "id": "8c51uzuBUBrI",
        "outputId": "b362af67-610d-4850-be0f-c634e168366a"
      },
      "outputs": [
        {
          "output_type": "execute_result",
          "data": {
            "text/plain": [
              "array([[<matplotlib.axes._subplots.AxesSubplot object at 0x7f0202a43c40>,\n",
              "        <matplotlib.axes._subplots.AxesSubplot object at 0x7f0202d47f70>,\n",
              "        <matplotlib.axes._subplots.AxesSubplot object at 0x7f0202d02f10>,\n",
              "        <matplotlib.axes._subplots.AxesSubplot object at 0x7f0202d58670>],\n",
              "       [<matplotlib.axes._subplots.AxesSubplot object at 0x7f02034c3d60>,\n",
              "        <matplotlib.axes._subplots.AxesSubplot object at 0x7f0202e3f4f0>,\n",
              "        <matplotlib.axes._subplots.AxesSubplot object at 0x7f0202e332e0>,\n",
              "        <matplotlib.axes._subplots.AxesSubplot object at 0x7f02028d0e50>],\n",
              "       [<matplotlib.axes._subplots.AxesSubplot object at 0x7f0202846490>,\n",
              "        <matplotlib.axes._subplots.AxesSubplot object at 0x7f02027f1bb0>,\n",
              "        <matplotlib.axes._subplots.AxesSubplot object at 0x7f02027a9310>,\n",
              "        <matplotlib.axes._subplots.AxesSubplot object at 0x7f02027d2a30>],\n",
              "       [<matplotlib.axes._subplots.AxesSubplot object at 0x7f020278a190>,\n",
              "        <matplotlib.axes._subplots.AxesSubplot object at 0x7f02027328b0>,\n",
              "        <matplotlib.axes._subplots.AxesSubplot object at 0x7f02026e0fd0>,\n",
              "        <matplotlib.axes._subplots.AxesSubplot object at 0x7f0202716730>]],\n",
              "      dtype=object)"
            ]
          },
          "metadata": {},
          "execution_count": 89
        },
        {
          "output_type": "display_data",
          "data": {
            "text/plain": [
              "<Figure size 864x864 with 16 Axes>"
            ],
            "image/png": "[encoded data removed]"
          },
          "metadata": {
            "needs_background": "light"
          }
        }
      ],
      "source": [
        "# Membuat matrix scatter plot untuk melihat korelasi antara harga dengan variabel kategorik - jenis transmisi\n",
        "\n",
        "pd.plotting.scatter_matrix(numeric_variable, figsize=(12, 12))\n"
      ]
    },
    {
      "cell_type": "code",
      "execution_count": 90,
      "metadata": {
        "colab": {
          "base_uri": "https://localhost:8080/"
        },
        "id": "HbaVvvhHUBrI",
        "outputId": "f6595f04-ffe5-4f72-fc10-4095a0d13e49"
      },
      "outputs": [
        {
          "output_type": "execute_result",
          "data": {
            "text/plain": [
              "automatic    46902\n",
              "manual        2829\n",
              "other         1794\n",
              "Name: transmission, dtype: int64"
            ]
          },
          "metadata": {},
          "execution_count": 90
        }
      ],
      "source": [
        "# Melihat distribusi iklan berdasarkan jenis transmisi - untuk memastikan kategorinya memiliki setidaknya 50 iklan\n",
        "\n",
        "data['transmission'].value_counts()"
      ]
    },
    {
      "cell_type": "code",
      "execution_count": 91,
      "metadata": {
        "scrolled": false,
        "colab": {
          "base_uri": "https://localhost:8080/",
          "height": 458
        },
        "id": "yrfe_H5UUBrI",
        "outputId": "fe5a710b-373e-4398-c652-da3275dbc289"
      },
      "outputs": [
        {
          "output_type": "display_data",
          "data": {
            "text/plain": [
              "<Figure size 864x504 with 1 Axes>"
            ],
            "image/png": "[encoded data removed]"
          },
          "metadata": {
            "needs_background": "light"
          }
        }
      ],
      "source": [
        "# Membuat boxplot untuk melihat korelasi antara harga dengan variabel kategorik - jenis transmisi\n",
        "\n",
        "plt.figure(figsize=(12, 7))\n",
        "sns.boxplot(data=data, x='price', y='transmission')\n",
        "plt.title('correlation between price and transmission')\n",
        "plt.xlim(-0, 100000)\n",
        "plt.show()\n"
      ]
    },
    {
      "cell_type": "code",
      "execution_count": 92,
      "metadata": {
        "colab": {
          "base_uri": "https://localhost:8080/"
        },
        "id": "dIOFJZg_UBrI",
        "outputId": "41b2e5f4-dd53-4312-8df7-5509a061eac8"
      },
      "outputs": [
        {
          "output_type": "execute_result",
          "data": {
            "text/plain": [
              "white     10029\n",
              "others     9267\n",
              "black      7692\n",
              "silver     6244\n",
              "grey       5037\n",
              "blue       4475\n",
              "red        4421\n",
              "green      1396\n",
              "brown      1223\n",
              "custom     1153\n",
              "yellow      255\n",
              "orange      231\n",
              "purple      102\n",
              "Name: paint_color, dtype: int64"
            ]
          },
          "metadata": {},
          "execution_count": 92
        }
      ],
      "source": [
        "# Melihat distribusi iklan berdasarkan warna - untuk memastikan kategorinya memiliki setidaknya 50 iklan\n",
        "\n",
        "data['paint_color'].value_counts()"
      ]
    },
    {
      "cell_type": "code",
      "execution_count": 93,
      "metadata": {
        "scrolled": false,
        "colab": {
          "base_uri": "https://localhost:8080/",
          "height": 567
        },
        "id": "nNuHPEpGUBrI",
        "outputId": "0db12cf9-6739-4ddf-ce03-8392dd96627b"
      },
      "outputs": [
        {
          "output_type": "display_data",
          "data": {
            "text/plain": [
              "<Figure size 1080x648 with 1 Axes>"
            ],
            "image/png": "[encoded data removed]"
          },
          "metadata": {
            "needs_background": "light"
          }
        }
      ],
      "source": [
        "# Membuat boxplot untuk melihat korelasi antara harga dengan variabel kategorik - warna\n",
        "\n",
        "plt.figure(figsize=(15, 9))\n",
        "sns.boxplot(data=data, x='price', y='paint_color')\n",
        "plt.title('correlation between price and paint_color')\n",
        "plt.xlim(-0, 100000)\n",
        "plt.show()\n"
      ]
    },
    {
      "cell_type": "markdown",
      "metadata": {
        "id": "syTXDOALUBrI"
      },
      "source": [
        "## Kesimpulan Umum\n",
        "\n",
        "1. Data terlihat normal meskipun memiliki data mean, median, dan max yang variannya berjauhan, sehingga kita bisa memperkirakan bahwa terdapat banyak outlier. Namun, mengingat ini adalah situs web yang dapat diakses umum oleh siapapun, sehingga dirasa hal ini wajar. \n",
        "2. Untuk menangani data yang bermasalah, dilakukan hal-hal sebagai berikut:\n",
        "    - Kolom is_4wd bertipe Boolean sehingga untuk nilai yang hilang diganti dengan False (asumsi kita, nilai yang hilang adalah kendaraan tanpa penggerak 4 roda.\n",
        "    - Mengecek nilai yang hilang pada kolom model_year, cylinders dan odometer diganti dengan nilai median karena nilai mean dan median yang berjauhan, sehingga lebih baik mengambil nilai median. Sementara, paint_color diganti dengan kategori others.\n",
        "    - Tipe kolom days_posted diganti menjadi tipe datetime.\n",
        "3. Tidak ada data duplikat.\n",
        "4. Menambahkan kolom baru skala numerik untuk memudahkan analisis.\n",
        "5. Komparasi antara data asli dengan data tanpa outlier atas parameter intinya (price, car_age, odometer) memiliki perbedaan yang signifikan.\n",
        "6. Terakhir, analisis faktor yang mempengaruhi harga, ditemukan bahwa:\n",
        "    - Usia kendaraan berpengaruh positif medium terhadap harga kendaraan\n",
        "    - Jarak tempuh & kondisi kendaraan berpengaruh negatif medium terhadap harga kendaraan\n",
        "    - Selanjutnya, jenis transmisi automatic menjadi jenis kendaraan yang paling mahal harganya (melihat dari banyaknya outlier). Maka, kita asumsikan bahwa jika memilih kendaraan automatic akan semakin mahal harganya dibandingkan jenis transmisi lainnya.\n",
        "    - Terakhir, berdasarkan warna, kendaraan dengan warna kuning memiliki batas atas (Q3) harga tertinggi diantara warna lainnya, namun warna putih, hitam, dan silver memiliki data outlier terbanyak. Ini mungkin berhubungan dengan kendaraan yang paling banyak diiklankan adalah ketiga warna tersebut. Jadi, mungkin saja warna kuning menjadi lebih mahal harganya karena dibuat spesifik untuk orang-orang yang menyukainya."
      ]
    }
  ],
  "metadata": {
    "ExecuteTimeLog": [
      {
        "duration": 828,
        "start_time": "2021-11-16T09:21:11.304Z"
      },
      {
        "duration": 893,
        "start_time": "2021-11-16T09:21:17.728Z"
      },
      {
        "duration": 1150,
        "start_time": "2021-11-16T09:21:29.568Z"
      },
      {
        "duration": 3,
        "start_time": "2021-11-16T09:24:14.495Z"
      },
      {
        "duration": 120,
        "start_time": "2021-11-16T09:24:46.630Z"
      },
      {
        "duration": 3,
        "start_time": "2021-11-16T09:28:27.882Z"
      },
      {
        "duration": 4,
        "start_time": "2021-11-16T09:29:54.281Z"
      },
      {
        "duration": 3,
        "start_time": "2021-11-16T09:30:45.936Z"
      },
      {
        "duration": 4,
        "start_time": "2021-11-16T09:31:06.300Z"
      },
      {
        "duration": 113,
        "start_time": "2021-11-16T09:31:37.208Z"
      },
      {
        "duration": 143,
        "start_time": "2021-11-16T09:31:48.656Z"
      },
      {
        "duration": 98,
        "start_time": "2021-11-16T09:31:55.678Z"
      },
      {
        "duration": 3,
        "start_time": "2021-11-16T09:32:08.535Z"
      },
      {
        "duration": 111,
        "start_time": "2021-11-16T09:32:10.120Z"
      },
      {
        "duration": 3,
        "start_time": "2021-11-16T09:32:15.732Z"
      },
      {
        "duration": 4,
        "start_time": "2021-11-16T09:32:29.423Z"
      },
      {
        "duration": 3,
        "start_time": "2021-11-16T10:03:03.074Z"
      },
      {
        "duration": 3,
        "start_time": "2021-11-16T10:10:01.288Z"
      },
      {
        "duration": 3,
        "start_time": "2021-11-16T10:10:46.923Z"
      },
      {
        "duration": 121,
        "start_time": "2021-11-16T10:37:46.494Z"
      },
      {
        "duration": 125,
        "start_time": "2021-11-16T10:38:20.632Z"
      },
      {
        "duration": 112,
        "start_time": "2021-11-16T10:46:53.001Z"
      },
      {
        "duration": 110,
        "start_time": "2021-11-16T10:48:25.775Z"
      },
      {
        "duration": 3,
        "start_time": "2021-11-16T10:50:18.720Z"
      },
      {
        "duration": 4,
        "start_time": "2021-11-16T10:50:37.649Z"
      },
      {
        "duration": 2,
        "start_time": "2021-11-16T10:50:51.884Z"
      },
      {
        "duration": 3,
        "start_time": "2021-11-16T10:51:56.237Z"
      },
      {
        "duration": 101,
        "start_time": "2021-11-16T10:53:13.791Z"
      },
      {
        "duration": 3,
        "start_time": "2021-11-16T10:55:59.186Z"
      },
      {
        "duration": 3,
        "start_time": "2021-11-16T10:56:10.751Z"
      },
      {
        "duration": 3,
        "start_time": "2021-11-16T10:56:49.038Z"
      },
      {
        "duration": 3,
        "start_time": "2021-11-16T10:56:49.174Z"
      },
      {
        "duration": 4,
        "start_time": "2021-11-16T10:56:49.414Z"
      },
      {
        "duration": 3,
        "start_time": "2021-11-16T10:56:49.680Z"
      },
      {
        "duration": 3,
        "start_time": "2021-11-16T10:56:50.370Z"
      },
      {
        "duration": 114,
        "start_time": "2021-11-16T10:59:34.518Z"
      },
      {
        "duration": 3,
        "start_time": "2021-11-16T11:01:41.201Z"
      },
      {
        "duration": 116,
        "start_time": "2021-11-16T11:01:48.754Z"
      },
      {
        "duration": 3,
        "start_time": "2021-11-16T11:02:16.685Z"
      },
      {
        "duration": 3,
        "start_time": "2021-11-16T11:02:19.479Z"
      },
      {
        "duration": 3,
        "start_time": "2021-11-16T11:02:47.067Z"
      },
      {
        "duration": 3,
        "start_time": "2021-11-16T11:02:49.353Z"
      },
      {
        "duration": 3,
        "start_time": "2021-11-16T11:03:07.835Z"
      },
      {
        "duration": 3,
        "start_time": "2021-11-16T11:03:07.953Z"
      },
      {
        "duration": 112,
        "start_time": "2021-11-16T11:07:52.072Z"
      },
      {
        "duration": 187,
        "start_time": "2021-11-16T11:09:23.468Z"
      },
      {
        "duration": 4,
        "start_time": "2021-11-16T11:10:01.455Z"
      },
      {
        "duration": 3,
        "start_time": "2021-11-16T11:10:05.069Z"
      },
      {
        "duration": 4,
        "start_time": "2021-11-16T11:10:13.376Z"
      },
      {
        "duration": 3,
        "start_time": "2021-11-16T11:10:14.434Z"
      },
      {
        "duration": 3,
        "start_time": "2021-11-16T11:10:22.853Z"
      },
      {
        "duration": 4,
        "start_time": "2021-11-16T11:27:29.279Z"
      },
      {
        "duration": 4,
        "start_time": "2021-11-16T11:29:08.919Z"
      },
      {
        "duration": 118,
        "start_time": "2021-11-16T11:29:46.703Z"
      },
      {
        "duration": 437,
        "start_time": "2021-11-16T11:36:02.181Z"
      },
      {
        "duration": 157,
        "start_time": "2021-11-16T11:36:14.388Z"
      },
      {
        "duration": 207,
        "start_time": "2021-11-16T11:47:15.898Z"
      },
      {
        "duration": 3,
        "start_time": "2021-11-16T11:53:52.092Z"
      },
      {
        "duration": 3,
        "start_time": "2021-11-16T11:53:52.236Z"
      },
      {
        "duration": 3,
        "start_time": "2021-11-16T11:59:12.005Z"
      },
      {
        "duration": 112,
        "start_time": "2021-11-16T12:00:33.446Z"
      },
      {
        "duration": 3,
        "start_time": "2021-11-16T12:02:14.453Z"
      },
      {
        "duration": 3,
        "start_time": "2021-11-16T12:02:39.512Z"
      },
      {
        "duration": 106,
        "start_time": "2021-11-16T12:03:03.460Z"
      }
    ],
    "kernelspec": {
      "display_name": "Python 3 (ipykernel)",
      "language": "python",
      "name": "python3"
    },
    "language_info": {
      "codemirror_mode": {
        "name": "ipython",
        "version": 3
      },
      "file_extension": ".py",
      "mimetype": "text/x-python",
      "name": "python",
      "nbconvert_exporter": "python",
      "pygments_lexer": "ipython3",
      "version": "3.9.5"
    },
    "toc": {
      "base_numbering": 1,
      "nav_menu": {},
      "number_sections": true,
      "sideBar": true,
      "skip_h1_title": false,
      "title_cell": "Table of Contents",
      "title_sidebar": "Contents",
      "toc_cell": false,
      "toc_position": {
        "height": "calc(100% - 180px)",
        "left": "10px",
        "top": "150px",
        "width": "300px"
      },
      "toc_section_display": true,
      "toc_window_display": true
    },
    "colab": {
      "provenance": []
    }
  },
  "nbformat": 4,
  "nbformat_minor": 0
}