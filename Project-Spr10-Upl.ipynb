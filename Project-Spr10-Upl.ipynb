{
  "cells": [
    {
      "cell_type": "markdown",
      "metadata": {
        "id": "gxXM0oTEv85H"
      },
      "source": [
        "# User Behavior Analysis of the Food Company Application\n",
        "# Contents <a id='back'></a>\n",
        "\n",
        "1. Introduction\n",
        "    \n",
        "    \n",
        "2. Data Pra-processing\n",
        "    * Loading Data\n",
        "    * Preliminary Exploratory Data\n",
        "    * Fixing Column Names\n",
        "    * Checking Data Quality\n",
        "    * Checking Missing Values\n",
        "    * Checking Data Duplicate\n",
        "    * Initial Conclusion\n",
        "   \n",
        "\n",
        "3. Data Preparation\n",
        "    * ICE framework\n",
        "    * RICE framework\n",
        "\n",
        "\n",
        "4. Data Analysis\n",
        "    * Analysis of result of A/B Testing\n",
        "\n",
        "\n",
        "5. Overall Conclusion"
      ]
    },
    {
      "cell_type": "markdown",
      "metadata": {
        "id": "m6QqNpX5v85I"
      },
      "source": [
        "## Introduction\n",
        "\n",
        "We work at a startup that sells food products and we need to investigate user behavior analysis of the Food Company app with event-based analytical. What we do are:\n",
        "1. Study the sales funnel.\n",
        "2. Study the results of the experiment of an A/A/B test. \n",
        "    - The users are split into three groups: two control groups get the old fonts and one test group gets the new ones\n"
      ]
    },
    {
      "cell_type": "markdown",
      "metadata": {
        "id": "5BhHWVUrv85I"
      },
      "source": [
        "## Data Pra-processing <a id='intro'></a>\n",
        "### Loading Data"
      ]
    },
    {
      "cell_type": "code",
      "execution_count": 1,
      "metadata": {
        "id": "R4B1390Uv85I"
      },
      "outputs": [],
      "source": [
        "# Load the required libraries\n",
        "\n",
        "import pandas as pd\n",
        "import numpy as np\n",
        "\n",
        "import matplotlib.pyplot as plt\n",
        "import seaborn as sns\n",
        "\n",
        "from plotly import graph_objects as go\n",
        "from scipy import stats\n",
        "import math\n",
        "\n",
        "import warnings\n",
        "warnings.filterwarnings('ignore')"
      ]
    },
    {
      "cell_type": "code",
      "execution_count": 2,
      "metadata": {
        "id": "sq5GOyLvv85J"
      },
      "outputs": [],
      "source": [
        "# Loading data files into DataFrames\n",
        "# Optimize the data for analysis purposes, type column object converted into category\n",
        "\n",
        "df = pd.read_csv('logs_exp_us.csv', sep='\\t', dtype={'EventName': 'category'})"
      ]
    },
    {
      "cell_type": "markdown",
      "metadata": {
        "id": "gzQMuuDxv85J"
      },
      "source": [
        "**Description of the data**\n",
        "\n",
        "File path: *`/datasets/logs_exp_us.csv`*.\n",
        "\n",
        "Each log entry is a user action or an event.\n",
        "\n",
        "- *`EventName`* — event name\n",
        "- *`DeviceIDHash`* — unique user identifier\n",
        "- *`EventTimestamp`* — event time\n",
        "- *`ExpId`* — experiment number: 246 and 247 are the control groups, 248 is the test group\n"
      ]
    },
    {
      "cell_type": "markdown",
      "metadata": {
        "id": "4gVq-hJEv85J"
      },
      "source": [
        "**Conclusions**\n",
        "\n",
        "Each row in the table is a log entry of user action or an event. The columns describe the event itself: EventName, DeviceIDHash, EventTimestamp. While column of ExpId is the code of experiment number: 246 and 247 are the control groups, 248 is the test group.\n",
        "\n",
        "It is clear that the data we have is sufficient for us to conduct event-based analytical related to user behavior for the company's app.\n",
        "\n",
        "To continue the analysis, we need to do data pre-processing first."
      ]
    },
    {
      "cell_type": "markdown",
      "metadata": {
        "id": "aLNLKB8Gv85J"
      },
      "source": [
        "### Preliminary Exploratory Data"
      ]
    },
    {
      "cell_type": "code",
      "execution_count": 3,
      "metadata": {
        "colab": {
          "base_uri": "https://localhost:8080/"
        },
        "id": "_GZrRsKMv85J",
        "outputId": "9044161f-8074-490f-b811-80701d22ccba"
      },
      "outputs": [
        {
          "output_type": "execute_result",
          "data": {
            "text/plain": [
              "(96712, 4)"
            ]
          },
          "metadata": {},
          "execution_count": 3
        }
      ],
      "source": [
        "# Show the shape of DataFrame\n",
        "\n",
        "df.shape"
      ]
    },
    {
      "cell_type": "code",
      "execution_count": 4,
      "metadata": {
        "colab": {
          "base_uri": "https://localhost:8080/"
        },
        "id": "rR_8LEOwv85K",
        "outputId": "6ab2b146-bee5-4c11-d77e-5ca58301ef2c"
      },
      "outputs": [
        {
          "output_type": "stream",
          "name": "stdout",
          "text": [
            "<class 'pandas.core.frame.DataFrame'>\n",
            "RangeIndex: 96712 entries, 0 to 96711\n",
            "Data columns (total 4 columns):\n",
            " #   Column          Non-Null Count  Dtype   \n",
            "---  ------          --------------  -----   \n",
            " 0   EventName       96712 non-null  category\n",
            " 1   DeviceIDHash    96712 non-null  int64   \n",
            " 2   EventTimestamp  96711 non-null  float64 \n",
            " 3   ExpId           96711 non-null  float64 \n",
            "dtypes: category(1), float64(2), int64(1)\n",
            "memory usage: 2.3 MB\n"
          ]
        }
      ],
      "source": [
        "# Show the info of DataFrame\n",
        "\n",
        "df.info()"
      ]
    },
    {
      "cell_type": "code",
      "execution_count": 5,
      "metadata": {
        "colab": {
          "base_uri": "https://localhost:8080/",
          "height": 300
        },
        "id": "jtQ_2wpXv85K",
        "outputId": "e66177a7-950f-45b8-d3a0-3710e00eaf47"
      },
      "outputs": [
        {
          "output_type": "execute_result",
          "data": {
            "text/plain": [
              "       DeviceIDHash  EventTimestamp         ExpId\n",
              "count  9.671200e+04    9.671100e+04  96711.000000\n",
              "mean   4.688650e+18    1.564729e+09    247.039964\n",
              "std    2.636513e+18    7.387800e+04      0.819374\n",
              "min    4.325878e+14    1.564030e+09    246.000000\n",
              "25%    2.458858e+18    1.564670e+09    246.000000\n",
              "50%    4.680603e+18    1.564735e+09    247.000000\n",
              "75%    6.932517e+18    1.564777e+09    248.000000\n",
              "max    9.222603e+18    1.564844e+09    248.000000"
            ],
            "text/html": [
              "\n",
              "  <div id=\"df-ad2b53ac-c24e-461e-a30b-8eccb1e97cb1\">\n",
              "    <div class=\"colab-df-container\">\n",
              "      <div>\n",
              "<style scoped>\n",
              "    .dataframe tbody tr th:only-of-type {\n",
              "        vertical-align: middle;\n",
              "    }\n",
              "\n",
              "    .dataframe tbody tr th {\n",
              "        vertical-align: top;\n",
              "    }\n",
              "\n",
              "    .dataframe thead th {\n",
              "        text-align: right;\n",
              "    }\n",
              "</style>\n",
              "<table border=\"1\" class=\"dataframe\">\n",
              "  <thead>\n",
              "    <tr style=\"text-align: right;\">\n",
              "      <th></th>\n",
              "      <th>DeviceIDHash</th>\n",
              "      <th>EventTimestamp</th>\n",
              "      <th>ExpId</th>\n",
              "    </tr>\n",
              "  </thead>\n",
              "  <tbody>\n",
              "    <tr>\n",
              "      <th>count</th>\n",
              "      <td>9.671200e+04</td>\n",
              "      <td>9.671100e+04</td>\n",
              "      <td>96711.000000</td>\n",
              "    </tr>\n",
              "    <tr>\n",
              "      <th>mean</th>\n",
              "      <td>4.688650e+18</td>\n",
              "      <td>1.564729e+09</td>\n",
              "      <td>247.039964</td>\n",
              "    </tr>\n",
              "    <tr>\n",
              "      <th>std</th>\n",
              "      <td>2.636513e+18</td>\n",
              "      <td>7.387800e+04</td>\n",
              "      <td>0.819374</td>\n",
              "    </tr>\n",
              "    <tr>\n",
              "      <th>min</th>\n",
              "      <td>4.325878e+14</td>\n",
              "      <td>1.564030e+09</td>\n",
              "      <td>246.000000</td>\n",
              "    </tr>\n",
              "    <tr>\n",
              "      <th>25%</th>\n",
              "      <td>2.458858e+18</td>\n",
              "      <td>1.564670e+09</td>\n",
              "      <td>246.000000</td>\n",
              "    </tr>\n",
              "    <tr>\n",
              "      <th>50%</th>\n",
              "      <td>4.680603e+18</td>\n",
              "      <td>1.564735e+09</td>\n",
              "      <td>247.000000</td>\n",
              "    </tr>\n",
              "    <tr>\n",
              "      <th>75%</th>\n",
              "      <td>6.932517e+18</td>\n",
              "      <td>1.564777e+09</td>\n",
              "      <td>248.000000</td>\n",
              "    </tr>\n",
              "    <tr>\n",
              "      <th>max</th>\n",
              "      <td>9.222603e+18</td>\n",
              "      <td>1.564844e+09</td>\n",
              "      <td>248.000000</td>\n",
              "    </tr>\n",
              "  </tbody>\n",
              "</table>\n",
              "</div>\n",
              "      <button class=\"colab-df-convert\" onclick=\"convertToInteractive('df-ad2b53ac-c24e-461e-a30b-8eccb1e97cb1')\"\n",
              "              title=\"Convert this dataframe to an interactive table.\"\n",
              "              style=\"display:none;\">\n",
              "        \n",
              "  <svg xmlns=\"http://www.w3.org/2000/svg\" height=\"24px\"viewBox=\"0 0 24 24\"\n",
              "       width=\"24px\">\n",
              "    <path d=\"M0 0h24v24H0V0z\" fill=\"none\"/>\n",
              "    <path d=\"M18.56 5.44l.94 2.06.94-2.06 2.06-.94-2.06-.94-.94-2.06-.94 2.06-2.06.94zm-11 1L8.5 8.5l.94-2.06 2.06-.94-2.06-.94L8.5 2.5l-.94 2.06-2.06.94zm10 10l.94 2.06.94-2.06 2.06-.94-2.06-.94-.94-2.06-.94 2.06-2.06.94z\"/><path d=\"M17.41 7.96l-1.37-1.37c-.4-.4-.92-.59-1.43-.59-.52 0-1.04.2-1.43.59L10.3 9.45l-7.72 7.72c-.78.78-.78 2.05 0 2.83L4 21.41c.39.39.9.59 1.41.59.51 0 1.02-.2 1.41-.59l7.78-7.78 2.81-2.81c.8-.78.8-2.07 0-2.86zM5.41 20L4 18.59l7.72-7.72 1.47 1.35L5.41 20z\"/>\n",
              "  </svg>\n",
              "      </button>\n",
              "      \n",
              "  <style>\n",
              "    .colab-df-container {\n",
              "      display:flex;\n",
              "      flex-wrap:wrap;\n",
              "      gap: 12px;\n",
              "    }\n",
              "\n",
              "    .colab-df-convert {\n",
              "      background-color: #E8F0FE;\n",
              "      border: none;\n",
              "      border-radius: 50%;\n",
              "      cursor: pointer;\n",
              "      display: none;\n",
              "      fill: #1967D2;\n",
              "      height: 32px;\n",
              "      padding: 0 0 0 0;\n",
              "      width: 32px;\n",
              "    }\n",
              "\n",
              "    .colab-df-convert:hover {\n",
              "      background-color: #E2EBFA;\n",
              "      box-shadow: 0px 1px 2px rgba(60, 64, 67, 0.3), 0px 1px 3px 1px rgba(60, 64, 67, 0.15);\n",
              "      fill: #174EA6;\n",
              "    }\n",
              "\n",
              "    [theme=dark] .colab-df-convert {\n",
              "      background-color: #3B4455;\n",
              "      fill: #D2E3FC;\n",
              "    }\n",
              "\n",
              "    [theme=dark] .colab-df-convert:hover {\n",
              "      background-color: #434B5C;\n",
              "      box-shadow: 0px 1px 3px 1px rgba(0, 0, 0, 0.15);\n",
              "      filter: drop-shadow(0px 1px 2px rgba(0, 0, 0, 0.3));\n",
              "      fill: #FFFFFF;\n",
              "    }\n",
              "  </style>\n",
              "\n",
              "      <script>\n",
              "        const buttonEl =\n",
              "          document.querySelector('#df-ad2b53ac-c24e-461e-a30b-8eccb1e97cb1 button.colab-df-convert');\n",
              "        buttonEl.style.display =\n",
              "          google.colab.kernel.accessAllowed ? 'block' : 'none';\n",
              "\n",
              "        async function convertToInteractive(key) {\n",
              "          const element = document.querySelector('#df-ad2b53ac-c24e-461e-a30b-8eccb1e97cb1');\n",
              "          const dataTable =\n",
              "            await google.colab.kernel.invokeFunction('convertToInteractive',\n",
              "                                                     [key], {});\n",
              "          if (!dataTable) return;\n",
              "\n",
              "          const docLinkHtml = 'Like what you see? Visit the ' +\n",
              "            '<a target=\"_blank\" href=https://colab.research.google.com/notebooks/data_table.ipynb>data table notebook</a>'\n",
              "            + ' to learn more about interactive tables.';\n",
              "          element.innerHTML = '';\n",
              "          dataTable['output_type'] = 'display_data';\n",
              "          await google.colab.output.renderOutput(dataTable, element);\n",
              "          const docLink = document.createElement('div');\n",
              "          docLink.innerHTML = docLinkHtml;\n",
              "          element.appendChild(docLink);\n",
              "        }\n",
              "      </script>\n",
              "    </div>\n",
              "  </div>\n",
              "  "
            ]
          },
          "metadata": {},
          "execution_count": 5
        }
      ],
      "source": [
        "# Show the data distribution of DataFrame\n",
        "\n",
        "df.describe()"
      ]
    },
    {
      "cell_type": "markdown",
      "metadata": {
        "id": "5t4hOaqOv85K"
      },
      "source": [
        "### Fixing Column Names"
      ]
    },
    {
      "cell_type": "code",
      "execution_count": 6,
      "metadata": {
        "id": "rmvnprJ5v85K"
      },
      "outputs": [],
      "source": [
        "# Change all column names to lower case and snake_case\n",
        "\n",
        "df.columns = ['event_name', 'device_id_hash', 'event_timestamp', 'exp_id']"
      ]
    },
    {
      "cell_type": "code",
      "execution_count": 7,
      "metadata": {
        "colab": {
          "base_uri": "https://localhost:8080/",
          "height": 206
        },
        "id": "ZkSg1RGbv85K",
        "outputId": "69389b11-bc1b-4712-f918-fd30bd50d9fb"
      },
      "outputs": [
        {
          "output_type": "execute_result",
          "data": {
            "text/plain": [
              "                event_name       device_id_hash  event_timestamp  exp_id\n",
              "0         MainScreenAppear  4575588528974610257     1.564030e+09   246.0\n",
              "1         MainScreenAppear  7416695313311560658     1.564053e+09   246.0\n",
              "2  PaymentScreenSuccessful  3518123091307005509     1.564054e+09   248.0\n",
              "3         CartScreenAppear  3518123091307005509     1.564054e+09   248.0\n",
              "4  PaymentScreenSuccessful  6217807653094995999     1.564055e+09   248.0"
            ],
            "text/html": [
              "\n",
              "  <div id=\"df-4fa3465a-3b2a-4c08-966a-4132ee5b295f\">\n",
              "    <div class=\"colab-df-container\">\n",
              "      <div>\n",
              "<style scoped>\n",
              "    .dataframe tbody tr th:only-of-type {\n",
              "        vertical-align: middle;\n",
              "    }\n",
              "\n",
              "    .dataframe tbody tr th {\n",
              "        vertical-align: top;\n",
              "    }\n",
              "\n",
              "    .dataframe thead th {\n",
              "        text-align: right;\n",
              "    }\n",
              "</style>\n",
              "<table border=\"1\" class=\"dataframe\">\n",
              "  <thead>\n",
              "    <tr style=\"text-align: right;\">\n",
              "      <th></th>\n",
              "      <th>event_name</th>\n",
              "      <th>device_id_hash</th>\n",
              "      <th>event_timestamp</th>\n",
              "      <th>exp_id</th>\n",
              "    </tr>\n",
              "  </thead>\n",
              "  <tbody>\n",
              "    <tr>\n",
              "      <th>0</th>\n",
              "      <td>MainScreenAppear</td>\n",
              "      <td>4575588528974610257</td>\n",
              "      <td>1.564030e+09</td>\n",
              "      <td>246.0</td>\n",
              "    </tr>\n",
              "    <tr>\n",
              "      <th>1</th>\n",
              "      <td>MainScreenAppear</td>\n",
              "      <td>7416695313311560658</td>\n",
              "      <td>1.564053e+09</td>\n",
              "      <td>246.0</td>\n",
              "    </tr>\n",
              "    <tr>\n",
              "      <th>2</th>\n",
              "      <td>PaymentScreenSuccessful</td>\n",
              "      <td>3518123091307005509</td>\n",
              "      <td>1.564054e+09</td>\n",
              "      <td>248.0</td>\n",
              "    </tr>\n",
              "    <tr>\n",
              "      <th>3</th>\n",
              "      <td>CartScreenAppear</td>\n",
              "      <td>3518123091307005509</td>\n",
              "      <td>1.564054e+09</td>\n",
              "      <td>248.0</td>\n",
              "    </tr>\n",
              "    <tr>\n",
              "      <th>4</th>\n",
              "      <td>PaymentScreenSuccessful</td>\n",
              "      <td>6217807653094995999</td>\n",
              "      <td>1.564055e+09</td>\n",
              "      <td>248.0</td>\n",
              "    </tr>\n",
              "  </tbody>\n",
              "</table>\n",
              "</div>\n",
              "      <button class=\"colab-df-convert\" onclick=\"convertToInteractive('df-4fa3465a-3b2a-4c08-966a-4132ee5b295f')\"\n",
              "              title=\"Convert this dataframe to an interactive table.\"\n",
              "              style=\"display:none;\">\n",
              "        \n",
              "  <svg xmlns=\"http://www.w3.org/2000/svg\" height=\"24px\"viewBox=\"0 0 24 24\"\n",
              "       width=\"24px\">\n",
              "    <path d=\"M0 0h24v24H0V0z\" fill=\"none\"/>\n",
              "    <path d=\"M18.56 5.44l.94 2.06.94-2.06 2.06-.94-2.06-.94-.94-2.06-.94 2.06-2.06.94zm-11 1L8.5 8.5l.94-2.06 2.06-.94-2.06-.94L8.5 2.5l-.94 2.06-2.06.94zm10 10l.94 2.06.94-2.06 2.06-.94-2.06-.94-.94-2.06-.94 2.06-2.06.94z\"/><path d=\"M17.41 7.96l-1.37-1.37c-.4-.4-.92-.59-1.43-.59-.52 0-1.04.2-1.43.59L10.3 9.45l-7.72 7.72c-.78.78-.78 2.05 0 2.83L4 21.41c.39.39.9.59 1.41.59.51 0 1.02-.2 1.41-.59l7.78-7.78 2.81-2.81c.8-.78.8-2.07 0-2.86zM5.41 20L4 18.59l7.72-7.72 1.47 1.35L5.41 20z\"/>\n",
              "  </svg>\n",
              "      </button>\n",
              "      \n",
              "  <style>\n",
              "    .colab-df-container {\n",
              "      display:flex;\n",
              "      flex-wrap:wrap;\n",
              "      gap: 12px;\n",
              "    }\n",
              "\n",
              "    .colab-df-convert {\n",
              "      background-color: #E8F0FE;\n",
              "      border: none;\n",
              "      border-radius: 50%;\n",
              "      cursor: pointer;\n",
              "      display: none;\n",
              "      fill: #1967D2;\n",
              "      height: 32px;\n",
              "      padding: 0 0 0 0;\n",
              "      width: 32px;\n",
              "    }\n",
              "\n",
              "    .colab-df-convert:hover {\n",
              "      background-color: #E2EBFA;\n",
              "      box-shadow: 0px 1px 2px rgba(60, 64, 67, 0.3), 0px 1px 3px 1px rgba(60, 64, 67, 0.15);\n",
              "      fill: #174EA6;\n",
              "    }\n",
              "\n",
              "    [theme=dark] .colab-df-convert {\n",
              "      background-color: #3B4455;\n",
              "      fill: #D2E3FC;\n",
              "    }\n",
              "\n",
              "    [theme=dark] .colab-df-convert:hover {\n",
              "      background-color: #434B5C;\n",
              "      box-shadow: 0px 1px 3px 1px rgba(0, 0, 0, 0.15);\n",
              "      filter: drop-shadow(0px 1px 2px rgba(0, 0, 0, 0.3));\n",
              "      fill: #FFFFFF;\n",
              "    }\n",
              "  </style>\n",
              "\n",
              "      <script>\n",
              "        const buttonEl =\n",
              "          document.querySelector('#df-4fa3465a-3b2a-4c08-966a-4132ee5b295f button.colab-df-convert');\n",
              "        buttonEl.style.display =\n",
              "          google.colab.kernel.accessAllowed ? 'block' : 'none';\n",
              "\n",
              "        async function convertToInteractive(key) {\n",
              "          const element = document.querySelector('#df-4fa3465a-3b2a-4c08-966a-4132ee5b295f');\n",
              "          const dataTable =\n",
              "            await google.colab.kernel.invokeFunction('convertToInteractive',\n",
              "                                                     [key], {});\n",
              "          if (!dataTable) return;\n",
              "\n",
              "          const docLinkHtml = 'Like what you see? Visit the ' +\n",
              "            '<a target=\"_blank\" href=https://colab.research.google.com/notebooks/data_table.ipynb>data table notebook</a>'\n",
              "            + ' to learn more about interactive tables.';\n",
              "          element.innerHTML = '';\n",
              "          dataTable['output_type'] = 'display_data';\n",
              "          await google.colab.output.renderOutput(dataTable, element);\n",
              "          const docLink = document.createElement('div');\n",
              "          docLink.innerHTML = docLinkHtml;\n",
              "          element.appendChild(docLink);\n",
              "        }\n",
              "      </script>\n",
              "    </div>\n",
              "  </div>\n",
              "  "
            ]
          },
          "metadata": {},
          "execution_count": 7
        }
      ],
      "source": [
        "# Look back into the table after fixing the column names\n",
        "\n",
        "df.head()"
      ]
    },
    {
      "cell_type": "markdown",
      "metadata": {
        "id": "l5PmvMaqv85K"
      },
      "source": [
        "### Conversion Data Type"
      ]
    },
    {
      "cell_type": "code",
      "execution_count": 8,
      "metadata": {
        "id": "IHsvaQDbv85L"
      },
      "outputs": [],
      "source": [
        "# Conversion the data type of columns event_timestamp to datetime with new column\n",
        "\n",
        "df['date_time'] = pd.to_datetime(df['event_timestamp'], unit='s')"
      ]
    },
    {
      "cell_type": "code",
      "execution_count": 9,
      "metadata": {
        "colab": {
          "base_uri": "https://localhost:8080/"
        },
        "id": "CI3JpwUUv85L",
        "outputId": "559de43e-7a1f-4171-8d13-927814354261"
      },
      "outputs": [
        {
          "output_type": "execute_result",
          "data": {
            "text/plain": [
              "event_name               category\n",
              "device_id_hash              int64\n",
              "event_timestamp           float64\n",
              "exp_id                    float64\n",
              "date_time          datetime64[ns]\n",
              "dtype: object"
            ]
          },
          "metadata": {},
          "execution_count": 9
        }
      ],
      "source": [
        "# Check our data again after changing the data type\n",
        "\n",
        "df.dtypes"
      ]
    },
    {
      "cell_type": "markdown",
      "metadata": {
        "id": "TQcAWnNZv85L"
      },
      "source": [
        "### Checking Data Quality"
      ]
    },
    {
      "cell_type": "code",
      "execution_count": 10,
      "metadata": {
        "colab": {
          "base_uri": "https://localhost:8080/"
        },
        "id": "4zXvSmGiv85L",
        "outputId": "5f13f963-f545-4d67-974b-cbf3bad15230"
      },
      "outputs": [
        {
          "output_type": "execute_result",
          "data": {
            "text/plain": [
              "MainScreenAppear           46445\n",
              "OffersScreenAppear         18785\n",
              "CartScreenAppear           17355\n",
              "PaymentScreenSuccessful    13587\n",
              "Tutorial                     540\n",
              "Name: event_name, dtype: int64"
            ]
          },
          "metadata": {},
          "execution_count": 10
        }
      ],
      "source": [
        "# Check the data quality of the event_name column\n",
        "\n",
        "df['event_name'].value_counts()"
      ]
    },
    {
      "cell_type": "code",
      "execution_count": 11,
      "metadata": {
        "colab": {
          "base_uri": "https://localhost:8080/"
        },
        "id": "eGl5RO-6v85L",
        "outputId": "f3095906-438b-4dc2-b61d-1a074cba63e7"
      },
      "outputs": [
        {
          "output_type": "execute_result",
          "data": {
            "text/plain": [
              "6304868067479728361    2271\n",
              "4623191541214045580    1713\n",
              "197027893265565660     1122\n",
              "7738058666231999878     742\n",
              "6932517045703054087     688\n",
              "                       ... \n",
              "5674515761085325853       1\n",
              "8341943701026669290       1\n",
              "7399061063341528729       1\n",
              "2606689079105970779       1\n",
              "432587791671081           1\n",
              "Name: device_id_hash, Length: 5965, dtype: int64"
            ]
          },
          "metadata": {},
          "execution_count": 11
        }
      ],
      "source": [
        "# Check the data quality of the device_id_hash column\n",
        "\n",
        "df['device_id_hash'].value_counts()"
      ]
    },
    {
      "cell_type": "code",
      "execution_count": 12,
      "metadata": {
        "colab": {
          "base_uri": "https://localhost:8080/"
        },
        "id": "tRzlgr6rv85L",
        "outputId": "5184b904-116e-40a9-fd13-e05b57500c6e"
      },
      "outputs": [
        {
          "output_type": "execute_result",
          "data": {
            "text/plain": [
              "1.564670e+09    9\n",
              "1.564671e+09    7\n",
              "1.564658e+09    7\n",
              "1.564753e+09    7\n",
              "1.564665e+09    7\n",
              "               ..\n",
              "1.564693e+09    1\n",
              "1.564693e+09    1\n",
              "1.564693e+09    1\n",
              "1.564693e+09    1\n",
              "1.564844e+09    1\n",
              "Name: event_timestamp, Length: 70538, dtype: int64"
            ]
          },
          "metadata": {},
          "execution_count": 12
        }
      ],
      "source": [
        "# Check the data quality of the event_timestamp column\n",
        "\n",
        "df['event_timestamp'].value_counts()"
      ]
    },
    {
      "cell_type": "code",
      "execution_count": 13,
      "metadata": {
        "colab": {
          "base_uri": "https://localhost:8080/"
        },
        "id": "DwPsq0mAv85L",
        "outputId": "d469b950-aaa1-4419-a602-1ac6aa50c8d6"
      },
      "outputs": [
        {
          "output_type": "execute_result",
          "data": {
            "text/plain": [
              "248.0    34474\n",
              "247.0    31628\n",
              "246.0    30609\n",
              "Name: exp_id, dtype: int64"
            ]
          },
          "metadata": {},
          "execution_count": 13
        }
      ],
      "source": [
        "# Check the data quality of the exp_id column\n",
        "\n",
        "df['exp_id'].value_counts()"
      ]
    },
    {
      "cell_type": "markdown",
      "metadata": {
        "id": "g11LBWMSv85L"
      },
      "source": [
        "### Checking Missing Values"
      ]
    },
    {
      "cell_type": "code",
      "execution_count": 14,
      "metadata": {
        "colab": {
          "base_uri": "https://localhost:8080/"
        },
        "id": "Q8kWcF8sv85L",
        "outputId": "db38915c-8cb9-4d75-e5d6-0801720a8696"
      },
      "outputs": [
        {
          "output_type": "execute_result",
          "data": {
            "text/plain": [
              "event_name         0\n",
              "device_id_hash     0\n",
              "event_timestamp    1\n",
              "exp_id             1\n",
              "date_time          1\n",
              "dtype: int64"
            ]
          },
          "metadata": {},
          "execution_count": 14
        }
      ],
      "source": [
        "# Check missing values\n",
        "\n",
        "df.isna().sum()"
      ]
    },
    {
      "cell_type": "markdown",
      "metadata": {
        "id": "NixuN5_zv85L"
      },
      "source": [
        "### Checking Duplicate Data\n"
      ]
    },
    {
      "cell_type": "code",
      "execution_count": 15,
      "metadata": {
        "colab": {
          "base_uri": "https://localhost:8080/"
        },
        "id": "VwVl1GPSv85L",
        "outputId": "119c116f-a0c3-479e-9006-d064bb9b32bf"
      },
      "outputs": [
        {
          "output_type": "execute_result",
          "data": {
            "text/plain": [
              "175"
            ]
          },
          "metadata": {},
          "execution_count": 15
        }
      ],
      "source": [
        "# Checks for duplicate data\n",
        "\n",
        "df.duplicated().sum()"
      ]
    },
    {
      "cell_type": "code",
      "execution_count": 16,
      "metadata": {
        "id": "AHmyTR6nv85M"
      },
      "outputs": [],
      "source": [
        "# Remove duplicate data\n",
        "\n",
        "df = df.drop_duplicates().reset_index(drop=True)"
      ]
    },
    {
      "cell_type": "code",
      "execution_count": 17,
      "metadata": {
        "colab": {
          "base_uri": "https://localhost:8080/"
        },
        "id": "_BKx9vmuv85M",
        "outputId": "0ca4e4db-4204-4267-abec-b327d88c5d28"
      },
      "outputs": [
        {
          "output_type": "execute_result",
          "data": {
            "text/plain": [
              "0"
            ]
          },
          "metadata": {},
          "execution_count": 17
        }
      ],
      "source": [
        "# Checks again after remove duplicate data\n",
        "\n",
        "df.duplicated().sum()"
      ]
    },
    {
      "cell_type": "markdown",
      "metadata": {
        "id": "3HlK7tmov85M"
      },
      "source": [
        "### Initial Conclusion\n",
        "\n",
        "* Our datasets amounted **244126** rows and **4** columns.\n",
        "* We change all column names to lower case and snake_case to make analysis easier.\n",
        "* The *`event_timestamp`* column is changed to datetime type from int64 type, because the column contains date and time.\n",
        "* There is no missing values.\n",
        "* There is duplicate data of 413 rows and we remove them."
      ]
    },
    {
      "cell_type": "markdown",
      "metadata": {
        "id": "sm3ReyPjv85M"
      },
      "source": [
        "## Data Preparation"
      ]
    },
    {
      "cell_type": "markdown",
      "metadata": {
        "id": "1X1pey-mv85M"
      },
      "source": [
        "We have to a separate column for date_time."
      ]
    },
    {
      "cell_type": "code",
      "execution_count": 18,
      "metadata": {
        "id": "ToRVMjkyv85M"
      },
      "outputs": [],
      "source": [
        "# Add a date and time column and a separate column for dates\n",
        "\n",
        "df['date'] = df['date_time'].dt.date"
      ]
    },
    {
      "cell_type": "code",
      "execution_count": 19,
      "metadata": {
        "scrolled": true,
        "id": "hsHXOF7Nv85M"
      },
      "outputs": [],
      "source": [
        "# Conversion the data type of column date to datetime\n",
        "\n",
        "df['date'] = pd.to_datetime(df['date'])"
      ]
    },
    {
      "cell_type": "code",
      "execution_count": 20,
      "metadata": {
        "colab": {
          "base_uri": "https://localhost:8080/",
          "height": 206
        },
        "id": "ZMtXnRMmv85M",
        "outputId": "6ae7ddb4-3611-464e-e9c4-73ea7eafcb49"
      },
      "outputs": [
        {
          "output_type": "execute_result",
          "data": {
            "text/plain": [
              "                event_name       device_id_hash  event_timestamp  exp_id  \\\n",
              "0         MainScreenAppear  4575588528974610257     1.564030e+09   246.0   \n",
              "1         MainScreenAppear  7416695313311560658     1.564053e+09   246.0   \n",
              "2  PaymentScreenSuccessful  3518123091307005509     1.564054e+09   248.0   \n",
              "3         CartScreenAppear  3518123091307005509     1.564054e+09   248.0   \n",
              "4  PaymentScreenSuccessful  6217807653094995999     1.564055e+09   248.0   \n",
              "\n",
              "            date_time       date  \n",
              "0 2019-07-25 04:43:36 2019-07-25  \n",
              "1 2019-07-25 11:11:42 2019-07-25  \n",
              "2 2019-07-25 11:28:47 2019-07-25  \n",
              "3 2019-07-25 11:28:47 2019-07-25  \n",
              "4 2019-07-25 11:48:42 2019-07-25  "
            ],
            "text/html": [
              "\n",
              "  <div id=\"df-e85a719a-6b97-4959-90b7-dc6fa1d6a5c8\">\n",
              "    <div class=\"colab-df-container\">\n",
              "      <div>\n",
              "<style scoped>\n",
              "    .dataframe tbody tr th:only-of-type {\n",
              "        vertical-align: middle;\n",
              "    }\n",
              "\n",
              "    .dataframe tbody tr th {\n",
              "        vertical-align: top;\n",
              "    }\n",
              "\n",
              "    .dataframe thead th {\n",
              "        text-align: right;\n",
              "    }\n",
              "</style>\n",
              "<table border=\"1\" class=\"dataframe\">\n",
              "  <thead>\n",
              "    <tr style=\"text-align: right;\">\n",
              "      <th></th>\n",
              "      <th>event_name</th>\n",
              "      <th>device_id_hash</th>\n",
              "      <th>event_timestamp</th>\n",
              "      <th>exp_id</th>\n",
              "      <th>date_time</th>\n",
              "      <th>date</th>\n",
              "    </tr>\n",
              "  </thead>\n",
              "  <tbody>\n",
              "    <tr>\n",
              "      <th>0</th>\n",
              "      <td>MainScreenAppear</td>\n",
              "      <td>4575588528974610257</td>\n",
              "      <td>1.564030e+09</td>\n",
              "      <td>246.0</td>\n",
              "      <td>2019-07-25 04:43:36</td>\n",
              "      <td>2019-07-25</td>\n",
              "    </tr>\n",
              "    <tr>\n",
              "      <th>1</th>\n",
              "      <td>MainScreenAppear</td>\n",
              "      <td>7416695313311560658</td>\n",
              "      <td>1.564053e+09</td>\n",
              "      <td>246.0</td>\n",
              "      <td>2019-07-25 11:11:42</td>\n",
              "      <td>2019-07-25</td>\n",
              "    </tr>\n",
              "    <tr>\n",
              "      <th>2</th>\n",
              "      <td>PaymentScreenSuccessful</td>\n",
              "      <td>3518123091307005509</td>\n",
              "      <td>1.564054e+09</td>\n",
              "      <td>248.0</td>\n",
              "      <td>2019-07-25 11:28:47</td>\n",
              "      <td>2019-07-25</td>\n",
              "    </tr>\n",
              "    <tr>\n",
              "      <th>3</th>\n",
              "      <td>CartScreenAppear</td>\n",
              "      <td>3518123091307005509</td>\n",
              "      <td>1.564054e+09</td>\n",
              "      <td>248.0</td>\n",
              "      <td>2019-07-25 11:28:47</td>\n",
              "      <td>2019-07-25</td>\n",
              "    </tr>\n",
              "    <tr>\n",
              "      <th>4</th>\n",
              "      <td>PaymentScreenSuccessful</td>\n",
              "      <td>6217807653094995999</td>\n",
              "      <td>1.564055e+09</td>\n",
              "      <td>248.0</td>\n",
              "      <td>2019-07-25 11:48:42</td>\n",
              "      <td>2019-07-25</td>\n",
              "    </tr>\n",
              "  </tbody>\n",
              "</table>\n",
              "</div>\n",
              "      <button class=\"colab-df-convert\" onclick=\"convertToInteractive('df-e85a719a-6b97-4959-90b7-dc6fa1d6a5c8')\"\n",
              "              title=\"Convert this dataframe to an interactive table.\"\n",
              "              style=\"display:none;\">\n",
              "        \n",
              "  <svg xmlns=\"http://www.w3.org/2000/svg\" height=\"24px\"viewBox=\"0 0 24 24\"\n",
              "       width=\"24px\">\n",
              "    <path d=\"M0 0h24v24H0V0z\" fill=\"none\"/>\n",
              "    <path d=\"M18.56 5.44l.94 2.06.94-2.06 2.06-.94-2.06-.94-.94-2.06-.94 2.06-2.06.94zm-11 1L8.5 8.5l.94-2.06 2.06-.94-2.06-.94L8.5 2.5l-.94 2.06-2.06.94zm10 10l.94 2.06.94-2.06 2.06-.94-2.06-.94-.94-2.06-.94 2.06-2.06.94z\"/><path d=\"M17.41 7.96l-1.37-1.37c-.4-.4-.92-.59-1.43-.59-.52 0-1.04.2-1.43.59L10.3 9.45l-7.72 7.72c-.78.78-.78 2.05 0 2.83L4 21.41c.39.39.9.59 1.41.59.51 0 1.02-.2 1.41-.59l7.78-7.78 2.81-2.81c.8-.78.8-2.07 0-2.86zM5.41 20L4 18.59l7.72-7.72 1.47 1.35L5.41 20z\"/>\n",
              "  </svg>\n",
              "      </button>\n",
              "      \n",
              "  <style>\n",
              "    .colab-df-container {\n",
              "      display:flex;\n",
              "      flex-wrap:wrap;\n",
              "      gap: 12px;\n",
              "    }\n",
              "\n",
              "    .colab-df-convert {\n",
              "      background-color: #E8F0FE;\n",
              "      border: none;\n",
              "      border-radius: 50%;\n",
              "      cursor: pointer;\n",
              "      display: none;\n",
              "      fill: #1967D2;\n",
              "      height: 32px;\n",
              "      padding: 0 0 0 0;\n",
              "      width: 32px;\n",
              "    }\n",
              "\n",
              "    .colab-df-convert:hover {\n",
              "      background-color: #E2EBFA;\n",
              "      box-shadow: 0px 1px 2px rgba(60, 64, 67, 0.3), 0px 1px 3px 1px rgba(60, 64, 67, 0.15);\n",
              "      fill: #174EA6;\n",
              "    }\n",
              "\n",
              "    [theme=dark] .colab-df-convert {\n",
              "      background-color: #3B4455;\n",
              "      fill: #D2E3FC;\n",
              "    }\n",
              "\n",
              "    [theme=dark] .colab-df-convert:hover {\n",
              "      background-color: #434B5C;\n",
              "      box-shadow: 0px 1px 3px 1px rgba(0, 0, 0, 0.15);\n",
              "      filter: drop-shadow(0px 1px 2px rgba(0, 0, 0, 0.3));\n",
              "      fill: #FFFFFF;\n",
              "    }\n",
              "  </style>\n",
              "\n",
              "      <script>\n",
              "        const buttonEl =\n",
              "          document.querySelector('#df-e85a719a-6b97-4959-90b7-dc6fa1d6a5c8 button.colab-df-convert');\n",
              "        buttonEl.style.display =\n",
              "          google.colab.kernel.accessAllowed ? 'block' : 'none';\n",
              "\n",
              "        async function convertToInteractive(key) {\n",
              "          const element = document.querySelector('#df-e85a719a-6b97-4959-90b7-dc6fa1d6a5c8');\n",
              "          const dataTable =\n",
              "            await google.colab.kernel.invokeFunction('convertToInteractive',\n",
              "                                                     [key], {});\n",
              "          if (!dataTable) return;\n",
              "\n",
              "          const docLinkHtml = 'Like what you see? Visit the ' +\n",
              "            '<a target=\"_blank\" href=https://colab.research.google.com/notebooks/data_table.ipynb>data table notebook</a>'\n",
              "            + ' to learn more about interactive tables.';\n",
              "          element.innerHTML = '';\n",
              "          dataTable['output_type'] = 'display_data';\n",
              "          await google.colab.output.renderOutput(dataTable, element);\n",
              "          const docLink = document.createElement('div');\n",
              "          docLink.innerHTML = docLinkHtml;\n",
              "          element.appendChild(docLink);\n",
              "        }\n",
              "      </script>\n",
              "    </div>\n",
              "  </div>\n",
              "  "
            ]
          },
          "metadata": {},
          "execution_count": 20
        }
      ],
      "source": [
        "# Look again at the table after adding the new column\n",
        "\n",
        "df.head()"
      ]
    },
    {
      "cell_type": "code",
      "execution_count": 21,
      "metadata": {
        "colab": {
          "base_uri": "https://localhost:8080/"
        },
        "id": "WWcO8dNmv85M",
        "outputId": "779a53ff-7740-4528-a4c9-32ff55de3f55"
      },
      "outputs": [
        {
          "output_type": "execute_result",
          "data": {
            "text/plain": [
              "event_name               category\n",
              "device_id_hash              int64\n",
              "event_timestamp           float64\n",
              "exp_id                    float64\n",
              "date_time          datetime64[ns]\n",
              "date               datetime64[ns]\n",
              "dtype: object"
            ]
          },
          "metadata": {},
          "execution_count": 21
        }
      ],
      "source": [
        "# Look data types of df\n",
        "\n",
        "df.dtypes"
      ]
    },
    {
      "cell_type": "markdown",
      "metadata": {
        "id": "rxCraC1Av85M"
      },
      "source": [
        "## Data Analysis"
      ]
    },
    {
      "cell_type": "markdown",
      "metadata": {
        "id": "1xqJSRjxv85M"
      },
      "source": [
        "### How many events are in the logs?"
      ]
    },
    {
      "cell_type": "code",
      "execution_count": 22,
      "metadata": {
        "colab": {
          "base_uri": "https://localhost:8080/"
        },
        "id": "oe49eOLdv85M",
        "outputId": "ceae0e5e-5236-4a36-dab4-44bd66c25e5d"
      },
      "outputs": [
        {
          "output_type": "stream",
          "name": "stdout",
          "text": [
            "There are 96537 events are in the logs\n"
          ]
        }
      ],
      "source": [
        "# Calculate how many events are in the logs\n",
        "\n",
        "total_events = len(df)\n",
        "print(f'There are {total_events} events are in the logs')"
      ]
    },
    {
      "cell_type": "markdown",
      "metadata": {
        "id": "uQE3L-3xv85M"
      },
      "source": [
        "**Findings:**\n",
        "\n",
        "- There are 243713 events in the logs."
      ]
    },
    {
      "cell_type": "markdown",
      "metadata": {
        "id": "vCoY4Fjlv85N"
      },
      "source": [
        "### How many users are in the logs?"
      ]
    },
    {
      "cell_type": "code",
      "execution_count": 23,
      "metadata": {
        "colab": {
          "base_uri": "https://localhost:8080/",
          "height": 206
        },
        "id": "ZzfxQaOnv85N",
        "outputId": "651015a0-dfd7-4d9c-b245-aebf7cffd24c"
      },
      "outputs": [
        {
          "output_type": "execute_result",
          "data": {
            "text/plain": [
              "                event_name       device_id_hash  event_timestamp  exp_id  \\\n",
              "0         MainScreenAppear  4575588528974610257     1.564030e+09   246.0   \n",
              "1         MainScreenAppear  7416695313311560658     1.564053e+09   246.0   \n",
              "2  PaymentScreenSuccessful  3518123091307005509     1.564054e+09   248.0   \n",
              "3         CartScreenAppear  3518123091307005509     1.564054e+09   248.0   \n",
              "4  PaymentScreenSuccessful  6217807653094995999     1.564055e+09   248.0   \n",
              "\n",
              "            date_time       date  \n",
              "0 2019-07-25 04:43:36 2019-07-25  \n",
              "1 2019-07-25 11:11:42 2019-07-25  \n",
              "2 2019-07-25 11:28:47 2019-07-25  \n",
              "3 2019-07-25 11:28:47 2019-07-25  \n",
              "4 2019-07-25 11:48:42 2019-07-25  "
            ],
            "text/html": [
              "\n",
              "  <div id=\"df-330d4f6d-40db-4c2d-90cf-57fe38ea93d5\">\n",
              "    <div class=\"colab-df-container\">\n",
              "      <div>\n",
              "<style scoped>\n",
              "    .dataframe tbody tr th:only-of-type {\n",
              "        vertical-align: middle;\n",
              "    }\n",
              "\n",
              "    .dataframe tbody tr th {\n",
              "        vertical-align: top;\n",
              "    }\n",
              "\n",
              "    .dataframe thead th {\n",
              "        text-align: right;\n",
              "    }\n",
              "</style>\n",
              "<table border=\"1\" class=\"dataframe\">\n",
              "  <thead>\n",
              "    <tr style=\"text-align: right;\">\n",
              "      <th></th>\n",
              "      <th>event_name</th>\n",
              "      <th>device_id_hash</th>\n",
              "      <th>event_timestamp</th>\n",
              "      <th>exp_id</th>\n",
              "      <th>date_time</th>\n",
              "      <th>date</th>\n",
              "    </tr>\n",
              "  </thead>\n",
              "  <tbody>\n",
              "    <tr>\n",
              "      <th>0</th>\n",
              "      <td>MainScreenAppear</td>\n",
              "      <td>4575588528974610257</td>\n",
              "      <td>1.564030e+09</td>\n",
              "      <td>246.0</td>\n",
              "      <td>2019-07-25 04:43:36</td>\n",
              "      <td>2019-07-25</td>\n",
              "    </tr>\n",
              "    <tr>\n",
              "      <th>1</th>\n",
              "      <td>MainScreenAppear</td>\n",
              "      <td>7416695313311560658</td>\n",
              "      <td>1.564053e+09</td>\n",
              "      <td>246.0</td>\n",
              "      <td>2019-07-25 11:11:42</td>\n",
              "      <td>2019-07-25</td>\n",
              "    </tr>\n",
              "    <tr>\n",
              "      <th>2</th>\n",
              "      <td>PaymentScreenSuccessful</td>\n",
              "      <td>3518123091307005509</td>\n",
              "      <td>1.564054e+09</td>\n",
              "      <td>248.0</td>\n",
              "      <td>2019-07-25 11:28:47</td>\n",
              "      <td>2019-07-25</td>\n",
              "    </tr>\n",
              "    <tr>\n",
              "      <th>3</th>\n",
              "      <td>CartScreenAppear</td>\n",
              "      <td>3518123091307005509</td>\n",
              "      <td>1.564054e+09</td>\n",
              "      <td>248.0</td>\n",
              "      <td>2019-07-25 11:28:47</td>\n",
              "      <td>2019-07-25</td>\n",
              "    </tr>\n",
              "    <tr>\n",
              "      <th>4</th>\n",
              "      <td>PaymentScreenSuccessful</td>\n",
              "      <td>6217807653094995999</td>\n",
              "      <td>1.564055e+09</td>\n",
              "      <td>248.0</td>\n",
              "      <td>2019-07-25 11:48:42</td>\n",
              "      <td>2019-07-25</td>\n",
              "    </tr>\n",
              "  </tbody>\n",
              "</table>\n",
              "</div>\n",
              "      <button class=\"colab-df-convert\" onclick=\"convertToInteractive('df-330d4f6d-40db-4c2d-90cf-57fe38ea93d5')\"\n",
              "              title=\"Convert this dataframe to an interactive table.\"\n",
              "              style=\"display:none;\">\n",
              "        \n",
              "  <svg xmlns=\"http://www.w3.org/2000/svg\" height=\"24px\"viewBox=\"0 0 24 24\"\n",
              "       width=\"24px\">\n",
              "    <path d=\"M0 0h24v24H0V0z\" fill=\"none\"/>\n",
              "    <path d=\"M18.56 5.44l.94 2.06.94-2.06 2.06-.94-2.06-.94-.94-2.06-.94 2.06-2.06.94zm-11 1L8.5 8.5l.94-2.06 2.06-.94-2.06-.94L8.5 2.5l-.94 2.06-2.06.94zm10 10l.94 2.06.94-2.06 2.06-.94-2.06-.94-.94-2.06-.94 2.06-2.06.94z\"/><path d=\"M17.41 7.96l-1.37-1.37c-.4-.4-.92-.59-1.43-.59-.52 0-1.04.2-1.43.59L10.3 9.45l-7.72 7.72c-.78.78-.78 2.05 0 2.83L4 21.41c.39.39.9.59 1.41.59.51 0 1.02-.2 1.41-.59l7.78-7.78 2.81-2.81c.8-.78.8-2.07 0-2.86zM5.41 20L4 18.59l7.72-7.72 1.47 1.35L5.41 20z\"/>\n",
              "  </svg>\n",
              "      </button>\n",
              "      \n",
              "  <style>\n",
              "    .colab-df-container {\n",
              "      display:flex;\n",
              "      flex-wrap:wrap;\n",
              "      gap: 12px;\n",
              "    }\n",
              "\n",
              "    .colab-df-convert {\n",
              "      background-color: #E8F0FE;\n",
              "      border: none;\n",
              "      border-radius: 50%;\n",
              "      cursor: pointer;\n",
              "      display: none;\n",
              "      fill: #1967D2;\n",
              "      height: 32px;\n",
              "      padding: 0 0 0 0;\n",
              "      width: 32px;\n",
              "    }\n",
              "\n",
              "    .colab-df-convert:hover {\n",
              "      background-color: #E2EBFA;\n",
              "      box-shadow: 0px 1px 2px rgba(60, 64, 67, 0.3), 0px 1px 3px 1px rgba(60, 64, 67, 0.15);\n",
              "      fill: #174EA6;\n",
              "    }\n",
              "\n",
              "    [theme=dark] .colab-df-convert {\n",
              "      background-color: #3B4455;\n",
              "      fill: #D2E3FC;\n",
              "    }\n",
              "\n",
              "    [theme=dark] .colab-df-convert:hover {\n",
              "      background-color: #434B5C;\n",
              "      box-shadow: 0px 1px 3px 1px rgba(0, 0, 0, 0.15);\n",
              "      filter: drop-shadow(0px 1px 2px rgba(0, 0, 0, 0.3));\n",
              "      fill: #FFFFFF;\n",
              "    }\n",
              "  </style>\n",
              "\n",
              "      <script>\n",
              "        const buttonEl =\n",
              "          document.querySelector('#df-330d4f6d-40db-4c2d-90cf-57fe38ea93d5 button.colab-df-convert');\n",
              "        buttonEl.style.display =\n",
              "          google.colab.kernel.accessAllowed ? 'block' : 'none';\n",
              "\n",
              "        async function convertToInteractive(key) {\n",
              "          const element = document.querySelector('#df-330d4f6d-40db-4c2d-90cf-57fe38ea93d5');\n",
              "          const dataTable =\n",
              "            await google.colab.kernel.invokeFunction('convertToInteractive',\n",
              "                                                     [key], {});\n",
              "          if (!dataTable) return;\n",
              "\n",
              "          const docLinkHtml = 'Like what you see? Visit the ' +\n",
              "            '<a target=\"_blank\" href=https://colab.research.google.com/notebooks/data_table.ipynb>data table notebook</a>'\n",
              "            + ' to learn more about interactive tables.';\n",
              "          element.innerHTML = '';\n",
              "          dataTable['output_type'] = 'display_data';\n",
              "          await google.colab.output.renderOutput(dataTable, element);\n",
              "          const docLink = document.createElement('div');\n",
              "          docLink.innerHTML = docLinkHtml;\n",
              "          element.appendChild(docLink);\n",
              "        }\n",
              "      </script>\n",
              "    </div>\n",
              "  </div>\n",
              "  "
            ]
          },
          "metadata": {},
          "execution_count": 23
        }
      ],
      "source": [
        "# Look again to the table\n",
        "\n",
        "df.head()"
      ]
    },
    {
      "cell_type": "code",
      "execution_count": 24,
      "metadata": {
        "colab": {
          "base_uri": "https://localhost:8080/"
        },
        "id": "zY0xhG_iv85N",
        "outputId": "a4147b15-fc27-4038-ad80-92257a53d0c4"
      },
      "outputs": [
        {
          "output_type": "stream",
          "name": "stdout",
          "text": [
            "There are 5965 users are in the logs\n"
          ]
        }
      ],
      "source": [
        "# Calculate the device_id_hash column to get the number of users in the logs\n",
        "\n",
        "total_users = len(df['device_id_hash'].unique())\n",
        "print(f'There are {total_users} users are in the logs')"
      ]
    },
    {
      "cell_type": "markdown",
      "metadata": {
        "id": "YGPCx3h3v85N"
      },
      "source": [
        "**Findings:**\n",
        "\n",
        "- There are 7551 users in the logs."
      ]
    },
    {
      "cell_type": "markdown",
      "metadata": {
        "id": "FdgCz3H5v85N"
      },
      "source": [
        "### What's the average number of events per user?"
      ]
    },
    {
      "cell_type": "code",
      "execution_count": 25,
      "metadata": {
        "colab": {
          "base_uri": "https://localhost:8080/"
        },
        "id": "5YsPMYTgv85N",
        "outputId": "fa1ac14f-9fd7-42a3-e843-574d816b7e0d"
      },
      "outputs": [
        {
          "output_type": "stream",
          "name": "stdout",
          "text": [
            "The average number of events per user is 16.0 users\n"
          ]
        }
      ],
      "source": [
        "# Calculate the average number of events per user\n",
        "\n",
        "avg_events = total_events / total_users\n",
        "print(f'The average number of events per user is {round(avg_events, 0)} users')"
      ]
    },
    {
      "cell_type": "markdown",
      "metadata": {
        "id": "Fzps5zMwv85N"
      },
      "source": [
        "**Findings:**\n",
        "\n",
        "- The average number of events per user is 32 users."
      ]
    },
    {
      "cell_type": "markdown",
      "metadata": {
        "id": "PtdZsjVvv85N"
      },
      "source": [
        "### What period of time does the data cover? "
      ]
    },
    {
      "cell_type": "markdown",
      "metadata": {
        "id": "l62ESiFOv85N"
      },
      "source": [
        "- Find the maximum and the minimum date.\n",
        "- Plot a histogram by date and time. \n",
        "- Can you be sure that you have equally complete data for the entire period? Older events could end up in some users' logs for technical reasons, and this could skew the overall picture. \n",
        "- Find the moment at which the data starts to be complete and ignore the earlier section. \n",
        "- What period does the data actually represent?"
      ]
    },
    {
      "cell_type": "code",
      "execution_count": 26,
      "metadata": {
        "colab": {
          "base_uri": "https://localhost:8080/",
          "height": 206
        },
        "id": "5gfTOl2jv85N",
        "outputId": "5252ef77-3843-446c-fbd4-d66b6236d043"
      },
      "outputs": [
        {
          "output_type": "execute_result",
          "data": {
            "text/plain": [
              "                event_name       device_id_hash  event_timestamp  exp_id  \\\n",
              "0         MainScreenAppear  4575588528974610257     1.564030e+09   246.0   \n",
              "1         MainScreenAppear  7416695313311560658     1.564053e+09   246.0   \n",
              "2  PaymentScreenSuccessful  3518123091307005509     1.564054e+09   248.0   \n",
              "3         CartScreenAppear  3518123091307005509     1.564054e+09   248.0   \n",
              "4  PaymentScreenSuccessful  6217807653094995999     1.564055e+09   248.0   \n",
              "\n",
              "            date_time       date  \n",
              "0 2019-07-25 04:43:36 2019-07-25  \n",
              "1 2019-07-25 11:11:42 2019-07-25  \n",
              "2 2019-07-25 11:28:47 2019-07-25  \n",
              "3 2019-07-25 11:28:47 2019-07-25  \n",
              "4 2019-07-25 11:48:42 2019-07-25  "
            ],
            "text/html": [
              "\n",
              "  <div id=\"df-d131fc21-7ee9-4d44-bc00-caf850fdba61\">\n",
              "    <div class=\"colab-df-container\">\n",
              "      <div>\n",
              "<style scoped>\n",
              "    .dataframe tbody tr th:only-of-type {\n",
              "        vertical-align: middle;\n",
              "    }\n",
              "\n",
              "    .dataframe tbody tr th {\n",
              "        vertical-align: top;\n",
              "    }\n",
              "\n",
              "    .dataframe thead th {\n",
              "        text-align: right;\n",
              "    }\n",
              "</style>\n",
              "<table border=\"1\" class=\"dataframe\">\n",
              "  <thead>\n",
              "    <tr style=\"text-align: right;\">\n",
              "      <th></th>\n",
              "      <th>event_name</th>\n",
              "      <th>device_id_hash</th>\n",
              "      <th>event_timestamp</th>\n",
              "      <th>exp_id</th>\n",
              "      <th>date_time</th>\n",
              "      <th>date</th>\n",
              "    </tr>\n",
              "  </thead>\n",
              "  <tbody>\n",
              "    <tr>\n",
              "      <th>0</th>\n",
              "      <td>MainScreenAppear</td>\n",
              "      <td>4575588528974610257</td>\n",
              "      <td>1.564030e+09</td>\n",
              "      <td>246.0</td>\n",
              "      <td>2019-07-25 04:43:36</td>\n",
              "      <td>2019-07-25</td>\n",
              "    </tr>\n",
              "    <tr>\n",
              "      <th>1</th>\n",
              "      <td>MainScreenAppear</td>\n",
              "      <td>7416695313311560658</td>\n",
              "      <td>1.564053e+09</td>\n",
              "      <td>246.0</td>\n",
              "      <td>2019-07-25 11:11:42</td>\n",
              "      <td>2019-07-25</td>\n",
              "    </tr>\n",
              "    <tr>\n",
              "      <th>2</th>\n",
              "      <td>PaymentScreenSuccessful</td>\n",
              "      <td>3518123091307005509</td>\n",
              "      <td>1.564054e+09</td>\n",
              "      <td>248.0</td>\n",
              "      <td>2019-07-25 11:28:47</td>\n",
              "      <td>2019-07-25</td>\n",
              "    </tr>\n",
              "    <tr>\n",
              "      <th>3</th>\n",
              "      <td>CartScreenAppear</td>\n",
              "      <td>3518123091307005509</td>\n",
              "      <td>1.564054e+09</td>\n",
              "      <td>248.0</td>\n",
              "      <td>2019-07-25 11:28:47</td>\n",
              "      <td>2019-07-25</td>\n",
              "    </tr>\n",
              "    <tr>\n",
              "      <th>4</th>\n",
              "      <td>PaymentScreenSuccessful</td>\n",
              "      <td>6217807653094995999</td>\n",
              "      <td>1.564055e+09</td>\n",
              "      <td>248.0</td>\n",
              "      <td>2019-07-25 11:48:42</td>\n",
              "      <td>2019-07-25</td>\n",
              "    </tr>\n",
              "  </tbody>\n",
              "</table>\n",
              "</div>\n",
              "      <button class=\"colab-df-convert\" onclick=\"convertToInteractive('df-d131fc21-7ee9-4d44-bc00-caf850fdba61')\"\n",
              "              title=\"Convert this dataframe to an interactive table.\"\n",
              "              style=\"display:none;\">\n",
              "        \n",
              "  <svg xmlns=\"http://www.w3.org/2000/svg\" height=\"24px\"viewBox=\"0 0 24 24\"\n",
              "       width=\"24px\">\n",
              "    <path d=\"M0 0h24v24H0V0z\" fill=\"none\"/>\n",
              "    <path d=\"M18.56 5.44l.94 2.06.94-2.06 2.06-.94-2.06-.94-.94-2.06-.94 2.06-2.06.94zm-11 1L8.5 8.5l.94-2.06 2.06-.94-2.06-.94L8.5 2.5l-.94 2.06-2.06.94zm10 10l.94 2.06.94-2.06 2.06-.94-2.06-.94-.94-2.06-.94 2.06-2.06.94z\"/><path d=\"M17.41 7.96l-1.37-1.37c-.4-.4-.92-.59-1.43-.59-.52 0-1.04.2-1.43.59L10.3 9.45l-7.72 7.72c-.78.78-.78 2.05 0 2.83L4 21.41c.39.39.9.59 1.41.59.51 0 1.02-.2 1.41-.59l7.78-7.78 2.81-2.81c.8-.78.8-2.07 0-2.86zM5.41 20L4 18.59l7.72-7.72 1.47 1.35L5.41 20z\"/>\n",
              "  </svg>\n",
              "      </button>\n",
              "      \n",
              "  <style>\n",
              "    .colab-df-container {\n",
              "      display:flex;\n",
              "      flex-wrap:wrap;\n",
              "      gap: 12px;\n",
              "    }\n",
              "\n",
              "    .colab-df-convert {\n",
              "      background-color: #E8F0FE;\n",
              "      border: none;\n",
              "      border-radius: 50%;\n",
              "      cursor: pointer;\n",
              "      display: none;\n",
              "      fill: #1967D2;\n",
              "      height: 32px;\n",
              "      padding: 0 0 0 0;\n",
              "      width: 32px;\n",
              "    }\n",
              "\n",
              "    .colab-df-convert:hover {\n",
              "      background-color: #E2EBFA;\n",
              "      box-shadow: 0px 1px 2px rgba(60, 64, 67, 0.3), 0px 1px 3px 1px rgba(60, 64, 67, 0.15);\n",
              "      fill: #174EA6;\n",
              "    }\n",
              "\n",
              "    [theme=dark] .colab-df-convert {\n",
              "      background-color: #3B4455;\n",
              "      fill: #D2E3FC;\n",
              "    }\n",
              "\n",
              "    [theme=dark] .colab-df-convert:hover {\n",
              "      background-color: #434B5C;\n",
              "      box-shadow: 0px 1px 3px 1px rgba(0, 0, 0, 0.15);\n",
              "      filter: drop-shadow(0px 1px 2px rgba(0, 0, 0, 0.3));\n",
              "      fill: #FFFFFF;\n",
              "    }\n",
              "  </style>\n",
              "\n",
              "      <script>\n",
              "        const buttonEl =\n",
              "          document.querySelector('#df-d131fc21-7ee9-4d44-bc00-caf850fdba61 button.colab-df-convert');\n",
              "        buttonEl.style.display =\n",
              "          google.colab.kernel.accessAllowed ? 'block' : 'none';\n",
              "\n",
              "        async function convertToInteractive(key) {\n",
              "          const element = document.querySelector('#df-d131fc21-7ee9-4d44-bc00-caf850fdba61');\n",
              "          const dataTable =\n",
              "            await google.colab.kernel.invokeFunction('convertToInteractive',\n",
              "                                                     [key], {});\n",
              "          if (!dataTable) return;\n",
              "\n",
              "          const docLinkHtml = 'Like what you see? Visit the ' +\n",
              "            '<a target=\"_blank\" href=https://colab.research.google.com/notebooks/data_table.ipynb>data table notebook</a>'\n",
              "            + ' to learn more about interactive tables.';\n",
              "          element.innerHTML = '';\n",
              "          dataTable['output_type'] = 'display_data';\n",
              "          await google.colab.output.renderOutput(dataTable, element);\n",
              "          const docLink = document.createElement('div');\n",
              "          docLink.innerHTML = docLinkHtml;\n",
              "          element.appendChild(docLink);\n",
              "        }\n",
              "      </script>\n",
              "    </div>\n",
              "  </div>\n",
              "  "
            ]
          },
          "metadata": {},
          "execution_count": 26
        }
      ],
      "source": [
        "# Look again to the table df\n",
        "\n",
        "df.head()"
      ]
    },
    {
      "cell_type": "code",
      "execution_count": 27,
      "metadata": {
        "colab": {
          "base_uri": "https://localhost:8080/"
        },
        "id": "qvdMwypMv85N",
        "outputId": "98234bf7-06f1-4f86-dc93-a70be48beb3a"
      },
      "outputs": [
        {
          "output_type": "stream",
          "name": "stdout",
          "text": [
            "The first date is 2019-07-25 04:43:36 and the last date is 2019-08-03 14:58:44\n"
          ]
        }
      ],
      "source": [
        "# Find the maximum and the minimum date\n",
        "\n",
        "min = df['date_time'].min()\n",
        "max = df['date_time'].max()\n",
        "\n",
        "print(f'The first date is {min} and the last date is {max}')"
      ]
    },
    {
      "cell_type": "code",
      "execution_count": 28,
      "metadata": {
        "colab": {
          "base_uri": "https://localhost:8080/",
          "height": 374
        },
        "id": "FZav0FRVv85N",
        "outputId": "f658c15b-b58f-4fa0-8032-f500016e9031"
      },
      "outputs": [
        {
          "output_type": "display_data",
          "data": {
            "text/plain": [
              "<Figure size 1080x360 with 1 Axes>"
            ],
            "image/png": "[encoded data removed]"
          },
          "metadata": {
            "needs_background": "light"
          }
        }
      ],
      "source": [
        "# Visualization\n",
        "\n",
        "df['date_time'].hist(bins=100, figsize=(15,5))\n",
        "plt.xticks(rotation = 45);\n",
        "plt.title('Visualization of date and time of logs using histogram');"
      ]
    },
    {
      "cell_type": "code",
      "execution_count": 29,
      "metadata": {
        "colab": {
          "base_uri": "https://localhost:8080/",
          "height": 394
        },
        "id": "kcksXnoMv85N",
        "outputId": "77a9f26f-1131-4ed4-b57a-235b4e46a652"
      },
      "outputs": [
        {
          "output_type": "execute_result",
          "data": {
            "text/plain": [
              "            device_id_hash\n",
              "date                      \n",
              "2019-07-25               9\n",
              "2019-07-26              31\n",
              "2019-07-27              55\n",
              "2019-07-28             105\n",
              "2019-07-29             184\n",
              "2019-07-30             412\n",
              "2019-07-31            2030\n",
              "2019-08-01           36141\n",
              "2019-08-02           35554\n",
              "2019-08-03           22015"
            ],
            "text/html": [
              "\n",
              "  <div id=\"df-6ff07ab0-8bc0-4c70-bedc-76ded6b49782\">\n",
              "    <div class=\"colab-df-container\">\n",
              "      <div>\n",
              "<style scoped>\n",
              "    .dataframe tbody tr th:only-of-type {\n",
              "        vertical-align: middle;\n",
              "    }\n",
              "\n",
              "    .dataframe tbody tr th {\n",
              "        vertical-align: top;\n",
              "    }\n",
              "\n",
              "    .dataframe thead th {\n",
              "        text-align: right;\n",
              "    }\n",
              "</style>\n",
              "<table border=\"1\" class=\"dataframe\">\n",
              "  <thead>\n",
              "    <tr style=\"text-align: right;\">\n",
              "      <th></th>\n",
              "      <th>device_id_hash</th>\n",
              "    </tr>\n",
              "    <tr>\n",
              "      <th>date</th>\n",
              "      <th></th>\n",
              "    </tr>\n",
              "  </thead>\n",
              "  <tbody>\n",
              "    <tr>\n",
              "      <th>2019-07-25</th>\n",
              "      <td>9</td>\n",
              "    </tr>\n",
              "    <tr>\n",
              "      <th>2019-07-26</th>\n",
              "      <td>31</td>\n",
              "    </tr>\n",
              "    <tr>\n",
              "      <th>2019-07-27</th>\n",
              "      <td>55</td>\n",
              "    </tr>\n",
              "    <tr>\n",
              "      <th>2019-07-28</th>\n",
              "      <td>105</td>\n",
              "    </tr>\n",
              "    <tr>\n",
              "      <th>2019-07-29</th>\n",
              "      <td>184</td>\n",
              "    </tr>\n",
              "    <tr>\n",
              "      <th>2019-07-30</th>\n",
              "      <td>412</td>\n",
              "    </tr>\n",
              "    <tr>\n",
              "      <th>2019-07-31</th>\n",
              "      <td>2030</td>\n",
              "    </tr>\n",
              "    <tr>\n",
              "      <th>2019-08-01</th>\n",
              "      <td>36141</td>\n",
              "    </tr>\n",
              "    <tr>\n",
              "      <th>2019-08-02</th>\n",
              "      <td>35554</td>\n",
              "    </tr>\n",
              "    <tr>\n",
              "      <th>2019-08-03</th>\n",
              "      <td>22015</td>\n",
              "    </tr>\n",
              "  </tbody>\n",
              "</table>\n",
              "</div>\n",
              "      <button class=\"colab-df-convert\" onclick=\"convertToInteractive('df-6ff07ab0-8bc0-4c70-bedc-76ded6b49782')\"\n",
              "              title=\"Convert this dataframe to an interactive table.\"\n",
              "              style=\"display:none;\">\n",
              "        \n",
              "  <svg xmlns=\"http://www.w3.org/2000/svg\" height=\"24px\"viewBox=\"0 0 24 24\"\n",
              "       width=\"24px\">\n",
              "    <path d=\"M0 0h24v24H0V0z\" fill=\"none\"/>\n",
              "    <path d=\"M18.56 5.44l.94 2.06.94-2.06 2.06-.94-2.06-.94-.94-2.06-.94 2.06-2.06.94zm-11 1L8.5 8.5l.94-2.06 2.06-.94-2.06-.94L8.5 2.5l-.94 2.06-2.06.94zm10 10l.94 2.06.94-2.06 2.06-.94-2.06-.94-.94-2.06-.94 2.06-2.06.94z\"/><path d=\"M17.41 7.96l-1.37-1.37c-.4-.4-.92-.59-1.43-.59-.52 0-1.04.2-1.43.59L10.3 9.45l-7.72 7.72c-.78.78-.78 2.05 0 2.83L4 21.41c.39.39.9.59 1.41.59.51 0 1.02-.2 1.41-.59l7.78-7.78 2.81-2.81c.8-.78.8-2.07 0-2.86zM5.41 20L4 18.59l7.72-7.72 1.47 1.35L5.41 20z\"/>\n",
              "  </svg>\n",
              "      </button>\n",
              "      \n",
              "  <style>\n",
              "    .colab-df-container {\n",
              "      display:flex;\n",
              "      flex-wrap:wrap;\n",
              "      gap: 12px;\n",
              "    }\n",
              "\n",
              "    .colab-df-convert {\n",
              "      background-color: #E8F0FE;\n",
              "      border: none;\n",
              "      border-radius: 50%;\n",
              "      cursor: pointer;\n",
              "      display: none;\n",
              "      fill: #1967D2;\n",
              "      height: 32px;\n",
              "      padding: 0 0 0 0;\n",
              "      width: 32px;\n",
              "    }\n",
              "\n",
              "    .colab-df-convert:hover {\n",
              "      background-color: #E2EBFA;\n",
              "      box-shadow: 0px 1px 2px rgba(60, 64, 67, 0.3), 0px 1px 3px 1px rgba(60, 64, 67, 0.15);\n",
              "      fill: #174EA6;\n",
              "    }\n",
              "\n",
              "    [theme=dark] .colab-df-convert {\n",
              "      background-color: #3B4455;\n",
              "      fill: #D2E3FC;\n",
              "    }\n",
              "\n",
              "    [theme=dark] .colab-df-convert:hover {\n",
              "      background-color: #434B5C;\n",
              "      box-shadow: 0px 1px 3px 1px rgba(0, 0, 0, 0.15);\n",
              "      filter: drop-shadow(0px 1px 2px rgba(0, 0, 0, 0.3));\n",
              "      fill: #FFFFFF;\n",
              "    }\n",
              "  </style>\n",
              "\n",
              "      <script>\n",
              "        const buttonEl =\n",
              "          document.querySelector('#df-6ff07ab0-8bc0-4c70-bedc-76ded6b49782 button.colab-df-convert');\n",
              "        buttonEl.style.display =\n",
              "          google.colab.kernel.accessAllowed ? 'block' : 'none';\n",
              "\n",
              "        async function convertToInteractive(key) {\n",
              "          const element = document.querySelector('#df-6ff07ab0-8bc0-4c70-bedc-76ded6b49782');\n",
              "          const dataTable =\n",
              "            await google.colab.kernel.invokeFunction('convertToInteractive',\n",
              "                                                     [key], {});\n",
              "          if (!dataTable) return;\n",
              "\n",
              "          const docLinkHtml = 'Like what you see? Visit the ' +\n",
              "            '<a target=\"_blank\" href=https://colab.research.google.com/notebooks/data_table.ipynb>data table notebook</a>'\n",
              "            + ' to learn more about interactive tables.';\n",
              "          element.innerHTML = '';\n",
              "          dataTable['output_type'] = 'display_data';\n",
              "          await google.colab.output.renderOutput(dataTable, element);\n",
              "          const docLink = document.createElement('div');\n",
              "          docLink.innerHTML = docLinkHtml;\n",
              "          element.appendChild(docLink);\n",
              "        }\n",
              "      </script>\n",
              "    </div>\n",
              "  </div>\n",
              "  "
            ]
          },
          "metadata": {},
          "execution_count": 29
        }
      ],
      "source": [
        "# See the distribution date and time\n",
        "\n",
        "date_dist = df.pivot_table(index='date', values='device_id_hash', aggfunc='count')\n",
        "date_dist"
      ]
    },
    {
      "cell_type": "code",
      "execution_count": 30,
      "metadata": {
        "colab": {
          "base_uri": "https://localhost:8080/",
          "height": 373
        },
        "id": "Pt49g1pdv85O",
        "outputId": "f01a4404-1a96-4789-cb45-691873e20e04"
      },
      "outputs": [
        {
          "output_type": "display_data",
          "data": {
            "text/plain": [
              "<Figure size 648x360 with 1 Axes>"
            ],
            "image/png": "[encoded data removed]"
          },
          "metadata": {
            "needs_background": "light"
          }
        }
      ],
      "source": [
        "# Visualization\n",
        "\n",
        "date_dist.plot(style='o-', grid=True, figsize=(9, 5))\n",
        "plt.title('Visualization of date and time of logs using plot');"
      ]
    },
    {
      "cell_type": "code",
      "execution_count": 31,
      "metadata": {
        "scrolled": true,
        "id": "UpkRoCTQv85O"
      },
      "outputs": [],
      "source": [
        "# Exclude the older data between 25-31 July 2019\n",
        "\n",
        "df_filt = df.query('date > \"2019-07-31\"')"
      ]
    },
    {
      "cell_type": "code",
      "execution_count": 32,
      "metadata": {
        "colab": {
          "base_uri": "https://localhost:8080/",
          "height": 424
        },
        "id": "WWoWO_X9v85O",
        "outputId": "ce8ae69c-e2bf-40d1-fa67-904a3c6a50b8"
      },
      "outputs": [
        {
          "output_type": "execute_result",
          "data": {
            "text/plain": [
              "                    event_name       device_id_hash  event_timestamp  exp_id  \\\n",
              "2826                  Tutorial  3737462046622621720     1.564618e+09   246.0   \n",
              "2827          MainScreenAppear  3737462046622621720     1.564618e+09   246.0   \n",
              "2828          MainScreenAppear  3737462046622621720     1.564618e+09   246.0   \n",
              "2829        OffersScreenAppear  3737462046622621720     1.564618e+09   246.0   \n",
              "2830          MainScreenAppear  1433840883824088890     1.564618e+09   247.0   \n",
              "...                        ...                  ...              ...     ...   \n",
              "96531  PaymentScreenSuccessful  6528995264794298001     1.564844e+09   246.0   \n",
              "96532         CartScreenAppear  6528995264794298001     1.564844e+09   246.0   \n",
              "96533         CartScreenAppear  7086945417901847497     1.564844e+09   246.0   \n",
              "96534  PaymentScreenSuccessful  7086945417901847497     1.564844e+09   246.0   \n",
              "96535         MainScreenAppear  4325877916710814063     1.564844e+09   246.0   \n",
              "\n",
              "                date_time       date  \n",
              "2826  2019-08-01 00:07:28 2019-08-01  \n",
              "2827  2019-08-01 00:08:00 2019-08-01  \n",
              "2828  2019-08-01 00:08:55 2019-08-01  \n",
              "2829  2019-08-01 00:08:58 2019-08-01  \n",
              "2830  2019-08-01 00:08:59 2019-08-01  \n",
              "...                   ...        ...  \n",
              "96531 2019-08-03 14:58:32 2019-08-03  \n",
              "96532 2019-08-03 14:58:33 2019-08-03  \n",
              "96533 2019-08-03 14:58:38 2019-08-03  \n",
              "96534 2019-08-03 14:58:38 2019-08-03  \n",
              "96535 2019-08-03 14:58:44 2019-08-03  \n",
              "\n",
              "[93710 rows x 6 columns]"
            ],
            "text/html": [
              "\n",
              "  <div id=\"df-cf1f2492-30e3-47f8-9999-1bf0b97b0fbf\">\n",
              "    <div class=\"colab-df-container\">\n",
              "      <div>\n",
              "<style scoped>\n",
              "    .dataframe tbody tr th:only-of-type {\n",
              "        vertical-align: middle;\n",
              "    }\n",
              "\n",
              "    .dataframe tbody tr th {\n",
              "        vertical-align: top;\n",
              "    }\n",
              "\n",
              "    .dataframe thead th {\n",
              "        text-align: right;\n",
              "    }\n",
              "</style>\n",
              "<table border=\"1\" class=\"dataframe\">\n",
              "  <thead>\n",
              "    <tr style=\"text-align: right;\">\n",
              "      <th></th>\n",
              "      <th>event_name</th>\n",
              "      <th>device_id_hash</th>\n",
              "      <th>event_timestamp</th>\n",
              "      <th>exp_id</th>\n",
              "      <th>date_time</th>\n",
              "      <th>date</th>\n",
              "    </tr>\n",
              "  </thead>\n",
              "  <tbody>\n",
              "    <tr>\n",
              "      <th>2826</th>\n",
              "      <td>Tutorial</td>\n",
              "      <td>3737462046622621720</td>\n",
              "      <td>1.564618e+09</td>\n",
              "      <td>246.0</td>\n",
              "      <td>2019-08-01 00:07:28</td>\n",
              "      <td>2019-08-01</td>\n",
              "    </tr>\n",
              "    <tr>\n",
              "      <th>2827</th>\n",
              "      <td>MainScreenAppear</td>\n",
              "      <td>3737462046622621720</td>\n",
              "      <td>1.564618e+09</td>\n",
              "      <td>246.0</td>\n",
              "      <td>2019-08-01 00:08:00</td>\n",
              "      <td>2019-08-01</td>\n",
              "    </tr>\n",
              "    <tr>\n",
              "      <th>2828</th>\n",
              "      <td>MainScreenAppear</td>\n",
              "      <td>3737462046622621720</td>\n",
              "      <td>1.564618e+09</td>\n",
              "      <td>246.0</td>\n",
              "      <td>2019-08-01 00:08:55</td>\n",
              "      <td>2019-08-01</td>\n",
              "    </tr>\n",
              "    <tr>\n",
              "      <th>2829</th>\n",
              "      <td>OffersScreenAppear</td>\n",
              "      <td>3737462046622621720</td>\n",
              "      <td>1.564618e+09</td>\n",
              "      <td>246.0</td>\n",
              "      <td>2019-08-01 00:08:58</td>\n",
              "      <td>2019-08-01</td>\n",
              "    </tr>\n",
              "    <tr>\n",
              "      <th>2830</th>\n",
              "      <td>MainScreenAppear</td>\n",
              "      <td>1433840883824088890</td>\n",
              "      <td>1.564618e+09</td>\n",
              "      <td>247.0</td>\n",
              "      <td>2019-08-01 00:08:59</td>\n",
              "      <td>2019-08-01</td>\n",
              "    </tr>\n",
              "    <tr>\n",
              "      <th>...</th>\n",
              "      <td>...</td>\n",
              "      <td>...</td>\n",
              "      <td>...</td>\n",
              "      <td>...</td>\n",
              "      <td>...</td>\n",
              "      <td>...</td>\n",
              "    </tr>\n",
              "    <tr>\n",
              "      <th>96531</th>\n",
              "      <td>PaymentScreenSuccessful</td>\n",
              "      <td>6528995264794298001</td>\n",
              "      <td>1.564844e+09</td>\n",
              "      <td>246.0</td>\n",
              "      <td>2019-08-03 14:58:32</td>\n",
              "      <td>2019-08-03</td>\n",
              "    </tr>\n",
              "    <tr>\n",
              "      <th>96532</th>\n",
              "      <td>CartScreenAppear</td>\n",
              "      <td>6528995264794298001</td>\n",
              "      <td>1.564844e+09</td>\n",
              "      <td>246.0</td>\n",
              "      <td>2019-08-03 14:58:33</td>\n",
              "      <td>2019-08-03</td>\n",
              "    </tr>\n",
              "    <tr>\n",
              "      <th>96533</th>\n",
              "      <td>CartScreenAppear</td>\n",
              "      <td>7086945417901847497</td>\n",
              "      <td>1.564844e+09</td>\n",
              "      <td>246.0</td>\n",
              "      <td>2019-08-03 14:58:38</td>\n",
              "      <td>2019-08-03</td>\n",
              "    </tr>\n",
              "    <tr>\n",
              "      <th>96534</th>\n",
              "      <td>PaymentScreenSuccessful</td>\n",
              "      <td>7086945417901847497</td>\n",
              "      <td>1.564844e+09</td>\n",
              "      <td>246.0</td>\n",
              "      <td>2019-08-03 14:58:38</td>\n",
              "      <td>2019-08-03</td>\n",
              "    </tr>\n",
              "    <tr>\n",
              "      <th>96535</th>\n",
              "      <td>MainScreenAppear</td>\n",
              "      <td>4325877916710814063</td>\n",
              "      <td>1.564844e+09</td>\n",
              "      <td>246.0</td>\n",
              "      <td>2019-08-03 14:58:44</td>\n",
              "      <td>2019-08-03</td>\n",
              "    </tr>\n",
              "  </tbody>\n",
              "</table>\n",
              "<p>93710 rows × 6 columns</p>\n",
              "</div>\n",
              "      <button class=\"colab-df-convert\" onclick=\"convertToInteractive('df-cf1f2492-30e3-47f8-9999-1bf0b97b0fbf')\"\n",
              "              title=\"Convert this dataframe to an interactive table.\"\n",
              "              style=\"display:none;\">\n",
              "        \n",
              "  <svg xmlns=\"http://www.w3.org/2000/svg\" height=\"24px\"viewBox=\"0 0 24 24\"\n",
              "       width=\"24px\">\n",
              "    <path d=\"M0 0h24v24H0V0z\" fill=\"none\"/>\n",
              "    <path d=\"M18.56 5.44l.94 2.06.94-2.06 2.06-.94-2.06-.94-.94-2.06-.94 2.06-2.06.94zm-11 1L8.5 8.5l.94-2.06 2.06-.94-2.06-.94L8.5 2.5l-.94 2.06-2.06.94zm10 10l.94 2.06.94-2.06 2.06-.94-2.06-.94-.94-2.06-.94 2.06-2.06.94z\"/><path d=\"M17.41 7.96l-1.37-1.37c-.4-.4-.92-.59-1.43-.59-.52 0-1.04.2-1.43.59L10.3 9.45l-7.72 7.72c-.78.78-.78 2.05 0 2.83L4 21.41c.39.39.9.59 1.41.59.51 0 1.02-.2 1.41-.59l7.78-7.78 2.81-2.81c.8-.78.8-2.07 0-2.86zM5.41 20L4 18.59l7.72-7.72 1.47 1.35L5.41 20z\"/>\n",
              "  </svg>\n",
              "      </button>\n",
              "      \n",
              "  <style>\n",
              "    .colab-df-container {\n",
              "      display:flex;\n",
              "      flex-wrap:wrap;\n",
              "      gap: 12px;\n",
              "    }\n",
              "\n",
              "    .colab-df-convert {\n",
              "      background-color: #E8F0FE;\n",
              "      border: none;\n",
              "      border-radius: 50%;\n",
              "      cursor: pointer;\n",
              "      display: none;\n",
              "      fill: #1967D2;\n",
              "      height: 32px;\n",
              "      padding: 0 0 0 0;\n",
              "      width: 32px;\n",
              "    }\n",
              "\n",
              "    .colab-df-convert:hover {\n",
              "      background-color: #E2EBFA;\n",
              "      box-shadow: 0px 1px 2px rgba(60, 64, 67, 0.3), 0px 1px 3px 1px rgba(60, 64, 67, 0.15);\n",
              "      fill: #174EA6;\n",
              "    }\n",
              "\n",
              "    [theme=dark] .colab-df-convert {\n",
              "      background-color: #3B4455;\n",
              "      fill: #D2E3FC;\n",
              "    }\n",
              "\n",
              "    [theme=dark] .colab-df-convert:hover {\n",
              "      background-color: #434B5C;\n",
              "      box-shadow: 0px 1px 3px 1px rgba(0, 0, 0, 0.15);\n",
              "      filter: drop-shadow(0px 1px 2px rgba(0, 0, 0, 0.3));\n",
              "      fill: #FFFFFF;\n",
              "    }\n",
              "  </style>\n",
              "\n",
              "      <script>\n",
              "        const buttonEl =\n",
              "          document.querySelector('#df-cf1f2492-30e3-47f8-9999-1bf0b97b0fbf button.colab-df-convert');\n",
              "        buttonEl.style.display =\n",
              "          google.colab.kernel.accessAllowed ? 'block' : 'none';\n",
              "\n",
              "        async function convertToInteractive(key) {\n",
              "          const element = document.querySelector('#df-cf1f2492-30e3-47f8-9999-1bf0b97b0fbf');\n",
              "          const dataTable =\n",
              "            await google.colab.kernel.invokeFunction('convertToInteractive',\n",
              "                                                     [key], {});\n",
              "          if (!dataTable) return;\n",
              "\n",
              "          const docLinkHtml = 'Like what you see? Visit the ' +\n",
              "            '<a target=\"_blank\" href=https://colab.research.google.com/notebooks/data_table.ipynb>data table notebook</a>'\n",
              "            + ' to learn more about interactive tables.';\n",
              "          element.innerHTML = '';\n",
              "          dataTable['output_type'] = 'display_data';\n",
              "          await google.colab.output.renderOutput(dataTable, element);\n",
              "          const docLink = document.createElement('div');\n",
              "          docLink.innerHTML = docLinkHtml;\n",
              "          element.appendChild(docLink);\n",
              "        }\n",
              "      </script>\n",
              "    </div>\n",
              "  </div>\n",
              "  "
            ]
          },
          "metadata": {},
          "execution_count": 32
        }
      ],
      "source": [
        "# See the table\n",
        "\n",
        "df_filt"
      ]
    },
    {
      "cell_type": "code",
      "execution_count": 33,
      "metadata": {
        "colab": {
          "base_uri": "https://localhost:8080/",
          "height": 364
        },
        "id": "w8Q2mmTxv85O",
        "outputId": "394fb2c6-e308-4d7d-b3c4-4bdc02ffb86a"
      },
      "outputs": [
        {
          "output_type": "display_data",
          "data": {
            "text/plain": [
              "<Figure size 1080x360 with 1 Axes>"
            ],
            "image/png": "[encoded data removed]"
          },
          "metadata": {
            "needs_background": "light"
          }
        }
      ],
      "source": [
        "# Visualization\n",
        "\n",
        "df_filt['date_time'].hist(bins=100, figsize=(15,5))\n",
        "plt.xticks(rotation = 45);\n",
        "plt.title('Visualization of date and time of logs after excluding the older data');"
      ]
    },
    {
      "cell_type": "markdown",
      "metadata": {
        "id": "qxaeV18dv85O"
      },
      "source": [
        "**Findings:**\n",
        "- Data covers the time period between 25 July 2019 through 7 Aug 2019.\n",
        "- Only data starting 1 August 2019 contains > 3000 rows and is consistent to the last day.\n",
        "\n",
        "**Insights:**\n",
        "- Older events could end up in some users' logs for technical reasons, and this could skew the overall picture.\n",
        "- We can say that August 1, 2019 is the time when the data begins to be complete and actually represents the entire data.\n",
        "\n",
        "**Recommendations:**\n",
        "- It is better to exclude the older data between 25-31 July 2019 like we have been done."
      ]
    },
    {
      "cell_type": "markdown",
      "metadata": {
        "id": "bnDouhO4v85O"
      },
      "source": [
        "### Did you lose many events and users when excluding the older data?"
      ]
    },
    {
      "cell_type": "code",
      "execution_count": 34,
      "metadata": {
        "colab": {
          "base_uri": "https://localhost:8080/"
        },
        "id": "pX7o2thdv85O",
        "outputId": "60478abc-4f94-4ab3-be29-b37b3aa8dc5d"
      },
      "outputs": [
        {
          "output_type": "stream",
          "name": "stdout",
          "text": [
            "There are 93710 events are in the logs\n",
            "There are 5764 users are in the logs\n",
            "The average number of events per user is 16.0 users\n"
          ]
        }
      ],
      "source": [
        "# See the total events and users on the table of df_filt\n",
        "\n",
        "total_events_filt = len(df_filt)\n",
        "total_users_filt = len(df_filt['device_id_hash'].unique())\n",
        "avg_events_filt = total_events / total_users\n",
        "\n",
        "print(f'There are {total_events_filt} events are in the logs')\n",
        "print(f'There are {total_users_filt} users are in the logs')\n",
        "print(f'The average number of events per user is {round(avg_events_filt, 0)} users')"
      ]
    },
    {
      "cell_type": "code",
      "execution_count": 35,
      "metadata": {
        "colab": {
          "base_uri": "https://localhost:8080/"
        },
        "id": "pttUtZF0v85O",
        "outputId": "db60f85d-7661-4418-e92c-4bf69ead2b54"
      },
      "outputs": [
        {
          "output_type": "stream",
          "name": "stdout",
          "text": [
            "The percentage of lose events and users are 2.93% and 3.37% respectively\n"
          ]
        }
      ],
      "source": [
        "# Calculate the difference of events and users on the table of df and df_filt\n",
        "\n",
        "diff_events = (total_events - total_events_filt) / total_events * 100\n",
        "diff_users = (total_users - total_users_filt) / total_users * 100\n",
        "\n",
        "print(f'The percentage of lose events and users are {round(diff_events,2)}% and {round(diff_users,2)}% respectively')"
      ]
    },
    {
      "cell_type": "markdown",
      "metadata": {
        "id": "ytaFuV10v85O"
      },
      "source": [
        "**Findings:**\n",
        "- The percentage of lose events and users are 1.16% and 0.23% respectively.\n",
        "\n",
        "**Insights:**\n",
        "- The number of events and users we lose when excluding the older data is not material."
      ]
    },
    {
      "cell_type": "markdown",
      "metadata": {
        "id": "lj_Ypx48v85O"
      },
      "source": [
        "### Make sure you have users from all three experimental groups.\n"
      ]
    },
    {
      "cell_type": "code",
      "execution_count": 36,
      "metadata": {
        "colab": {
          "base_uri": "https://localhost:8080/"
        },
        "id": "aoYOl7rRv85O",
        "outputId": "a580fce4-e29e-4efc-f828-2805e3cf56ad"
      },
      "outputs": [
        {
          "output_type": "execute_result",
          "data": {
            "text/plain": [
              "248.0    33386\n",
              "247.0    30638\n",
              "246.0    29686\n",
              "Name: exp_id, dtype: int64"
            ]
          },
          "metadata": {},
          "execution_count": 36
        }
      ],
      "source": [
        "# Check the exp_id column on the table of df_filt\n",
        "\n",
        "df_filt['exp_id'].value_counts()"
      ]
    },
    {
      "cell_type": "markdown",
      "metadata": {
        "id": "9rYQJO2Pv85O"
      },
      "source": [
        "**Findings:**\n",
        "- We have users from all three experimental groups for A/A/B Testing, which are:\n",
        "    - 79302 of the control group A with number of *`exp_id`* of 246\n",
        "    - 77022 of the control group A with number of *`exp_id`* of 247\n",
        "    - 84563 of the testing group B with number of *`exp_id`* of 248"
      ]
    },
    {
      "cell_type": "markdown",
      "metadata": {
        "id": "3L51Rkolv85O"
      },
      "source": [
        "### Conlusion of Data Analysis"
      ]
    },
    {
      "cell_type": "markdown",
      "metadata": {
        "id": "PpKedqWPv85O"
      },
      "source": [
        "\n",
        "- There are 243713 events and 7551 users in the logs.\n",
        "- The average number of events per user is 32 users.\n",
        "- Data covers the time period between 25 July 2019 through 7 Aug 2019.\n",
        "- Only data starting 1 August 2019 contains > 3000 rows and is consistent to the last day. We can say that August 1, 2019 is the time when the data begins to be complete and actually represents the entire data, then we exclude the older data between 25-31 July 2019. \n",
        "- After excluding old data, the lost event and user percentages are 1.16% and 0.23%, respectively, which are immaterial.\n",
        "- We have users from all three experimental groups for A/A/B Testing, which are:\n",
        "    - 79302 of the control group A with number of *`exp_id`* of 246\n",
        "    - 77022 of the control group A with number of *`exp_id`* of 247\n",
        "    - 84563 of the testing group B with number of *`exp_id`* of 248"
      ]
    },
    {
      "cell_type": "markdown",
      "metadata": {
        "id": "05iiW3rXv85P"
      },
      "source": [
        "## Event Funnel Analysis"
      ]
    },
    {
      "cell_type": "markdown",
      "metadata": {
        "id": "w-zYcN6-v85P"
      },
      "source": [
        "### See what events are in the logs and their frequency of occurrence"
      ]
    },
    {
      "cell_type": "code",
      "execution_count": 37,
      "metadata": {
        "scrolled": true,
        "colab": {
          "base_uri": "https://localhost:8080/",
          "height": 238
        },
        "id": "Ia4BDKJFv85P",
        "outputId": "24574801-d981-48dc-9bc7-5e93e44aa2b7"
      },
      "outputs": [
        {
          "output_type": "execute_result",
          "data": {
            "text/plain": [
              "                         total_logs\n",
              "event_name                         \n",
              "MainScreenAppear              44633\n",
              "OffersScreenAppear            18304\n",
              "CartScreenAppear              16965\n",
              "PaymentScreenSuccessful       13309\n",
              "Tutorial                        499"
            ],
            "text/html": [
              "\n",
              "  <div id=\"df-abbf8e0a-8e71-4078-842b-31d16b88252d\">\n",
              "    <div class=\"colab-df-container\">\n",
              "      <div>\n",
              "<style scoped>\n",
              "    .dataframe tbody tr th:only-of-type {\n",
              "        vertical-align: middle;\n",
              "    }\n",
              "\n",
              "    .dataframe tbody tr th {\n",
              "        vertical-align: top;\n",
              "    }\n",
              "\n",
              "    .dataframe thead th {\n",
              "        text-align: right;\n",
              "    }\n",
              "</style>\n",
              "<table border=\"1\" class=\"dataframe\">\n",
              "  <thead>\n",
              "    <tr style=\"text-align: right;\">\n",
              "      <th></th>\n",
              "      <th>total_logs</th>\n",
              "    </tr>\n",
              "    <tr>\n",
              "      <th>event_name</th>\n",
              "      <th></th>\n",
              "    </tr>\n",
              "  </thead>\n",
              "  <tbody>\n",
              "    <tr>\n",
              "      <th>MainScreenAppear</th>\n",
              "      <td>44633</td>\n",
              "    </tr>\n",
              "    <tr>\n",
              "      <th>OffersScreenAppear</th>\n",
              "      <td>18304</td>\n",
              "    </tr>\n",
              "    <tr>\n",
              "      <th>CartScreenAppear</th>\n",
              "      <td>16965</td>\n",
              "    </tr>\n",
              "    <tr>\n",
              "      <th>PaymentScreenSuccessful</th>\n",
              "      <td>13309</td>\n",
              "    </tr>\n",
              "    <tr>\n",
              "      <th>Tutorial</th>\n",
              "      <td>499</td>\n",
              "    </tr>\n",
              "  </tbody>\n",
              "</table>\n",
              "</div>\n",
              "      <button class=\"colab-df-convert\" onclick=\"convertToInteractive('df-abbf8e0a-8e71-4078-842b-31d16b88252d')\"\n",
              "              title=\"Convert this dataframe to an interactive table.\"\n",
              "              style=\"display:none;\">\n",
              "        \n",
              "  <svg xmlns=\"http://www.w3.org/2000/svg\" height=\"24px\"viewBox=\"0 0 24 24\"\n",
              "       width=\"24px\">\n",
              "    <path d=\"M0 0h24v24H0V0z\" fill=\"none\"/>\n",
              "    <path d=\"M18.56 5.44l.94 2.06.94-2.06 2.06-.94-2.06-.94-.94-2.06-.94 2.06-2.06.94zm-11 1L8.5 8.5l.94-2.06 2.06-.94-2.06-.94L8.5 2.5l-.94 2.06-2.06.94zm10 10l.94 2.06.94-2.06 2.06-.94-2.06-.94-.94-2.06-.94 2.06-2.06.94z\"/><path d=\"M17.41 7.96l-1.37-1.37c-.4-.4-.92-.59-1.43-.59-.52 0-1.04.2-1.43.59L10.3 9.45l-7.72 7.72c-.78.78-.78 2.05 0 2.83L4 21.41c.39.39.9.59 1.41.59.51 0 1.02-.2 1.41-.59l7.78-7.78 2.81-2.81c.8-.78.8-2.07 0-2.86zM5.41 20L4 18.59l7.72-7.72 1.47 1.35L5.41 20z\"/>\n",
              "  </svg>\n",
              "      </button>\n",
              "      \n",
              "  <style>\n",
              "    .colab-df-container {\n",
              "      display:flex;\n",
              "      flex-wrap:wrap;\n",
              "      gap: 12px;\n",
              "    }\n",
              "\n",
              "    .colab-df-convert {\n",
              "      background-color: #E8F0FE;\n",
              "      border: none;\n",
              "      border-radius: 50%;\n",
              "      cursor: pointer;\n",
              "      display: none;\n",
              "      fill: #1967D2;\n",
              "      height: 32px;\n",
              "      padding: 0 0 0 0;\n",
              "      width: 32px;\n",
              "    }\n",
              "\n",
              "    .colab-df-convert:hover {\n",
              "      background-color: #E2EBFA;\n",
              "      box-shadow: 0px 1px 2px rgba(60, 64, 67, 0.3), 0px 1px 3px 1px rgba(60, 64, 67, 0.15);\n",
              "      fill: #174EA6;\n",
              "    }\n",
              "\n",
              "    [theme=dark] .colab-df-convert {\n",
              "      background-color: #3B4455;\n",
              "      fill: #D2E3FC;\n",
              "    }\n",
              "\n",
              "    [theme=dark] .colab-df-convert:hover {\n",
              "      background-color: #434B5C;\n",
              "      box-shadow: 0px 1px 3px 1px rgba(0, 0, 0, 0.15);\n",
              "      filter: drop-shadow(0px 1px 2px rgba(0, 0, 0, 0.3));\n",
              "      fill: #FFFFFF;\n",
              "    }\n",
              "  </style>\n",
              "\n",
              "      <script>\n",
              "        const buttonEl =\n",
              "          document.querySelector('#df-abbf8e0a-8e71-4078-842b-31d16b88252d button.colab-df-convert');\n",
              "        buttonEl.style.display =\n",
              "          google.colab.kernel.accessAllowed ? 'block' : 'none';\n",
              "\n",
              "        async function convertToInteractive(key) {\n",
              "          const element = document.querySelector('#df-abbf8e0a-8e71-4078-842b-31d16b88252d');\n",
              "          const dataTable =\n",
              "            await google.colab.kernel.invokeFunction('convertToInteractive',\n",
              "                                                     [key], {});\n",
              "          if (!dataTable) return;\n",
              "\n",
              "          const docLinkHtml = 'Like what you see? Visit the ' +\n",
              "            '<a target=\"_blank\" href=https://colab.research.google.com/notebooks/data_table.ipynb>data table notebook</a>'\n",
              "            + ' to learn more about interactive tables.';\n",
              "          element.innerHTML = '';\n",
              "          dataTable['output_type'] = 'display_data';\n",
              "          await google.colab.output.renderOutput(dataTable, element);\n",
              "          const docLink = document.createElement('div');\n",
              "          docLink.innerHTML = docLinkHtml;\n",
              "          element.appendChild(docLink);\n",
              "        }\n",
              "      </script>\n",
              "    </div>\n",
              "  </div>\n",
              "  "
            ]
          },
          "metadata": {},
          "execution_count": 37
        }
      ],
      "source": [
        "# Calculate how many events in the logs\n",
        "\n",
        "events_filt = df_filt.groupby(df_filt['event_name']\n",
        "                        ).count().sort_values(by='device_id_hash', ascending=False)\n",
        "events_filt.drop(['event_timestamp', 'exp_id', 'date_time', 'date'], axis=1, inplace=True)\n",
        "events_filt.columns = ['total_logs']\n",
        "events_filt"
      ]
    },
    {
      "cell_type": "markdown",
      "metadata": {
        "id": "RoncJQYsv85P"
      },
      "source": [
        "**Findings:**\n",
        "\n",
        "We have five events in the logs, which are:\n",
        "1. Main Screen Appear of 119101 logs\n",
        "2. Offers Screen Appear of 46808 logs\n",
        "3. Cart Screen Appear of 42668 logs\n",
        "4. Payment Screen Successful of 34118 logs\n",
        "5. Tutorial of 1018 logs"
      ]
    },
    {
      "cell_type": "markdown",
      "metadata": {
        "id": "_HtRsue6v85P"
      },
      "source": [
        "### The number of users who performed each of these actions"
      ]
    },
    {
      "cell_type": "code",
      "execution_count": 38,
      "metadata": {
        "colab": {
          "base_uri": "https://localhost:8080/",
          "height": 238
        },
        "id": "XgHKAHLcv85P",
        "outputId": "d7748fa1-2d6d-436b-c315-8e53b64868c5"
      },
      "outputs": [
        {
          "output_type": "execute_result",
          "data": {
            "text/plain": [
              "                         device_id_hash\n",
              "event_name                             \n",
              "MainScreenAppear                   5601\n",
              "OffersScreenAppear                 3298\n",
              "CartScreenAppear                   2657\n",
              "PaymentScreenSuccessful            2486\n",
              "Tutorial                            399"
            ],
            "text/html": [
              "\n",
              "  <div id=\"df-6e04d0d4-82a2-458b-972f-e4dcf4ac6c06\">\n",
              "    <div class=\"colab-df-container\">\n",
              "      <div>\n",
              "<style scoped>\n",
              "    .dataframe tbody tr th:only-of-type {\n",
              "        vertical-align: middle;\n",
              "    }\n",
              "\n",
              "    .dataframe tbody tr th {\n",
              "        vertical-align: top;\n",
              "    }\n",
              "\n",
              "    .dataframe thead th {\n",
              "        text-align: right;\n",
              "    }\n",
              "</style>\n",
              "<table border=\"1\" class=\"dataframe\">\n",
              "  <thead>\n",
              "    <tr style=\"text-align: right;\">\n",
              "      <th></th>\n",
              "      <th>device_id_hash</th>\n",
              "    </tr>\n",
              "    <tr>\n",
              "      <th>event_name</th>\n",
              "      <th></th>\n",
              "    </tr>\n",
              "  </thead>\n",
              "  <tbody>\n",
              "    <tr>\n",
              "      <th>MainScreenAppear</th>\n",
              "      <td>5601</td>\n",
              "    </tr>\n",
              "    <tr>\n",
              "      <th>OffersScreenAppear</th>\n",
              "      <td>3298</td>\n",
              "    </tr>\n",
              "    <tr>\n",
              "      <th>CartScreenAppear</th>\n",
              "      <td>2657</td>\n",
              "    </tr>\n",
              "    <tr>\n",
              "      <th>PaymentScreenSuccessful</th>\n",
              "      <td>2486</td>\n",
              "    </tr>\n",
              "    <tr>\n",
              "      <th>Tutorial</th>\n",
              "      <td>399</td>\n",
              "    </tr>\n",
              "  </tbody>\n",
              "</table>\n",
              "</div>\n",
              "      <button class=\"colab-df-convert\" onclick=\"convertToInteractive('df-6e04d0d4-82a2-458b-972f-e4dcf4ac6c06')\"\n",
              "              title=\"Convert this dataframe to an interactive table.\"\n",
              "              style=\"display:none;\">\n",
              "        \n",
              "  <svg xmlns=\"http://www.w3.org/2000/svg\" height=\"24px\"viewBox=\"0 0 24 24\"\n",
              "       width=\"24px\">\n",
              "    <path d=\"M0 0h24v24H0V0z\" fill=\"none\"/>\n",
              "    <path d=\"M18.56 5.44l.94 2.06.94-2.06 2.06-.94-2.06-.94-.94-2.06-.94 2.06-2.06.94zm-11 1L8.5 8.5l.94-2.06 2.06-.94-2.06-.94L8.5 2.5l-.94 2.06-2.06.94zm10 10l.94 2.06.94-2.06 2.06-.94-2.06-.94-.94-2.06-.94 2.06-2.06.94z\"/><path d=\"M17.41 7.96l-1.37-1.37c-.4-.4-.92-.59-1.43-.59-.52 0-1.04.2-1.43.59L10.3 9.45l-7.72 7.72c-.78.78-.78 2.05 0 2.83L4 21.41c.39.39.9.59 1.41.59.51 0 1.02-.2 1.41-.59l7.78-7.78 2.81-2.81c.8-.78.8-2.07 0-2.86zM5.41 20L4 18.59l7.72-7.72 1.47 1.35L5.41 20z\"/>\n",
              "  </svg>\n",
              "      </button>\n",
              "      \n",
              "  <style>\n",
              "    .colab-df-container {\n",
              "      display:flex;\n",
              "      flex-wrap:wrap;\n",
              "      gap: 12px;\n",
              "    }\n",
              "\n",
              "    .colab-df-convert {\n",
              "      background-color: #E8F0FE;\n",
              "      border: none;\n",
              "      border-radius: 50%;\n",
              "      cursor: pointer;\n",
              "      display: none;\n",
              "      fill: #1967D2;\n",
              "      height: 32px;\n",
              "      padding: 0 0 0 0;\n",
              "      width: 32px;\n",
              "    }\n",
              "\n",
              "    .colab-df-convert:hover {\n",
              "      background-color: #E2EBFA;\n",
              "      box-shadow: 0px 1px 2px rgba(60, 64, 67, 0.3), 0px 1px 3px 1px rgba(60, 64, 67, 0.15);\n",
              "      fill: #174EA6;\n",
              "    }\n",
              "\n",
              "    [theme=dark] .colab-df-convert {\n",
              "      background-color: #3B4455;\n",
              "      fill: #D2E3FC;\n",
              "    }\n",
              "\n",
              "    [theme=dark] .colab-df-convert:hover {\n",
              "      background-color: #434B5C;\n",
              "      box-shadow: 0px 1px 3px 1px rgba(0, 0, 0, 0.15);\n",
              "      filter: drop-shadow(0px 1px 2px rgba(0, 0, 0, 0.3));\n",
              "      fill: #FFFFFF;\n",
              "    }\n",
              "  </style>\n",
              "\n",
              "      <script>\n",
              "        const buttonEl =\n",
              "          document.querySelector('#df-6e04d0d4-82a2-458b-972f-e4dcf4ac6c06 button.colab-df-convert');\n",
              "        buttonEl.style.display =\n",
              "          google.colab.kernel.accessAllowed ? 'block' : 'none';\n",
              "\n",
              "        async function convertToInteractive(key) {\n",
              "          const element = document.querySelector('#df-6e04d0d4-82a2-458b-972f-e4dcf4ac6c06');\n",
              "          const dataTable =\n",
              "            await google.colab.kernel.invokeFunction('convertToInteractive',\n",
              "                                                     [key], {});\n",
              "          if (!dataTable) return;\n",
              "\n",
              "          const docLinkHtml = 'Like what you see? Visit the ' +\n",
              "            '<a target=\"_blank\" href=https://colab.research.google.com/notebooks/data_table.ipynb>data table notebook</a>'\n",
              "            + ' to learn more about interactive tables.';\n",
              "          element.innerHTML = '';\n",
              "          dataTable['output_type'] = 'display_data';\n",
              "          await google.colab.output.renderOutput(dataTable, element);\n",
              "          const docLink = document.createElement('div');\n",
              "          docLink.innerHTML = docLinkHtml;\n",
              "          element.appendChild(docLink);\n",
              "        }\n",
              "      </script>\n",
              "    </div>\n",
              "  </div>\n",
              "  "
            ]
          },
          "metadata": {},
          "execution_count": 38
        }
      ],
      "source": [
        "# # Calculate how many users in the logs in each events\n",
        "\n",
        "users_per_event = df_filt.pivot_table(\n",
        "    index='event_name', values='device_id_hash', aggfunc='nunique').sort_values(by='device_id_hash', ascending=False)\n",
        "users_per_event"
      ]
    },
    {
      "cell_type": "code",
      "execution_count": 39,
      "metadata": {
        "colab": {
          "base_uri": "https://localhost:8080/"
        },
        "id": "Qqb0N0_xv85P",
        "outputId": "4b573fbc-3f79-4bfc-cb7e-e79cc47f39db"
      },
      "outputs": [
        {
          "output_type": "stream",
          "name": "stdout",
          "text": [
            "There are 5764 users are in the logs\n"
          ]
        }
      ],
      "source": [
        "# See the total users on the table of df_filt\n",
        "\n",
        "total_users_filt = len(df_filt['device_id_hash'].unique())\n",
        " \n",
        "print(f'There are {total_users_filt} users are in the logs')"
      ]
    },
    {
      "cell_type": "code",
      "execution_count": 40,
      "metadata": {
        "scrolled": true,
        "colab": {
          "base_uri": "https://localhost:8080/",
          "height": 238
        },
        "id": "HlsP9Ckev85P",
        "outputId": "c8ddfaf5-d2f5-4f19-c75c-cd5d0fff60c7"
      },
      "outputs": [
        {
          "output_type": "execute_result",
          "data": {
            "text/plain": [
              "                         device_id_hash\n",
              "event_name                             \n",
              "MainScreenAppear                   0.97\n",
              "OffersScreenAppear                 0.57\n",
              "CartScreenAppear                   0.46\n",
              "PaymentScreenSuccessful            0.43\n",
              "Tutorial                           0.07"
            ],
            "text/html": [
              "\n",
              "  <div id=\"df-46e67359-71bf-4a05-b5b6-bd6c1c818aff\">\n",
              "    <div class=\"colab-df-container\">\n",
              "      <div>\n",
              "<style scoped>\n",
              "    .dataframe tbody tr th:only-of-type {\n",
              "        vertical-align: middle;\n",
              "    }\n",
              "\n",
              "    .dataframe tbody tr th {\n",
              "        vertical-align: top;\n",
              "    }\n",
              "\n",
              "    .dataframe thead th {\n",
              "        text-align: right;\n",
              "    }\n",
              "</style>\n",
              "<table border=\"1\" class=\"dataframe\">\n",
              "  <thead>\n",
              "    <tr style=\"text-align: right;\">\n",
              "      <th></th>\n",
              "      <th>device_id_hash</th>\n",
              "    </tr>\n",
              "    <tr>\n",
              "      <th>event_name</th>\n",
              "      <th></th>\n",
              "    </tr>\n",
              "  </thead>\n",
              "  <tbody>\n",
              "    <tr>\n",
              "      <th>MainScreenAppear</th>\n",
              "      <td>0.97</td>\n",
              "    </tr>\n",
              "    <tr>\n",
              "      <th>OffersScreenAppear</th>\n",
              "      <td>0.57</td>\n",
              "    </tr>\n",
              "    <tr>\n",
              "      <th>CartScreenAppear</th>\n",
              "      <td>0.46</td>\n",
              "    </tr>\n",
              "    <tr>\n",
              "      <th>PaymentScreenSuccessful</th>\n",
              "      <td>0.43</td>\n",
              "    </tr>\n",
              "    <tr>\n",
              "      <th>Tutorial</th>\n",
              "      <td>0.07</td>\n",
              "    </tr>\n",
              "  </tbody>\n",
              "</table>\n",
              "</div>\n",
              "      <button class=\"colab-df-convert\" onclick=\"convertToInteractive('df-46e67359-71bf-4a05-b5b6-bd6c1c818aff')\"\n",
              "              title=\"Convert this dataframe to an interactive table.\"\n",
              "              style=\"display:none;\">\n",
              "        \n",
              "  <svg xmlns=\"http://www.w3.org/2000/svg\" height=\"24px\"viewBox=\"0 0 24 24\"\n",
              "       width=\"24px\">\n",
              "    <path d=\"M0 0h24v24H0V0z\" fill=\"none\"/>\n",
              "    <path d=\"M18.56 5.44l.94 2.06.94-2.06 2.06-.94-2.06-.94-.94-2.06-.94 2.06-2.06.94zm-11 1L8.5 8.5l.94-2.06 2.06-.94-2.06-.94L8.5 2.5l-.94 2.06-2.06.94zm10 10l.94 2.06.94-2.06 2.06-.94-2.06-.94-.94-2.06-.94 2.06-2.06.94z\"/><path d=\"M17.41 7.96l-1.37-1.37c-.4-.4-.92-.59-1.43-.59-.52 0-1.04.2-1.43.59L10.3 9.45l-7.72 7.72c-.78.78-.78 2.05 0 2.83L4 21.41c.39.39.9.59 1.41.59.51 0 1.02-.2 1.41-.59l7.78-7.78 2.81-2.81c.8-.78.8-2.07 0-2.86zM5.41 20L4 18.59l7.72-7.72 1.47 1.35L5.41 20z\"/>\n",
              "  </svg>\n",
              "      </button>\n",
              "      \n",
              "  <style>\n",
              "    .colab-df-container {\n",
              "      display:flex;\n",
              "      flex-wrap:wrap;\n",
              "      gap: 12px;\n",
              "    }\n",
              "\n",
              "    .colab-df-convert {\n",
              "      background-color: #E8F0FE;\n",
              "      border: none;\n",
              "      border-radius: 50%;\n",
              "      cursor: pointer;\n",
              "      display: none;\n",
              "      fill: #1967D2;\n",
              "      height: 32px;\n",
              "      padding: 0 0 0 0;\n",
              "      width: 32px;\n",
              "    }\n",
              "\n",
              "    .colab-df-convert:hover {\n",
              "      background-color: #E2EBFA;\n",
              "      box-shadow: 0px 1px 2px rgba(60, 64, 67, 0.3), 0px 1px 3px 1px rgba(60, 64, 67, 0.15);\n",
              "      fill: #174EA6;\n",
              "    }\n",
              "\n",
              "    [theme=dark] .colab-df-convert {\n",
              "      background-color: #3B4455;\n",
              "      fill: #D2E3FC;\n",
              "    }\n",
              "\n",
              "    [theme=dark] .colab-df-convert:hover {\n",
              "      background-color: #434B5C;\n",
              "      box-shadow: 0px 1px 3px 1px rgba(0, 0, 0, 0.15);\n",
              "      filter: drop-shadow(0px 1px 2px rgba(0, 0, 0, 0.3));\n",
              "      fill: #FFFFFF;\n",
              "    }\n",
              "  </style>\n",
              "\n",
              "      <script>\n",
              "        const buttonEl =\n",
              "          document.querySelector('#df-46e67359-71bf-4a05-b5b6-bd6c1c818aff button.colab-df-convert');\n",
              "        buttonEl.style.display =\n",
              "          google.colab.kernel.accessAllowed ? 'block' : 'none';\n",
              "\n",
              "        async function convertToInteractive(key) {\n",
              "          const element = document.querySelector('#df-46e67359-71bf-4a05-b5b6-bd6c1c818aff');\n",
              "          const dataTable =\n",
              "            await google.colab.kernel.invokeFunction('convertToInteractive',\n",
              "                                                     [key], {});\n",
              "          if (!dataTable) return;\n",
              "\n",
              "          const docLinkHtml = 'Like what you see? Visit the ' +\n",
              "            '<a target=\"_blank\" href=https://colab.research.google.com/notebooks/data_table.ipynb>data table notebook</a>'\n",
              "            + ' to learn more about interactive tables.';\n",
              "          element.innerHTML = '';\n",
              "          dataTable['output_type'] = 'display_data';\n",
              "          await google.colab.output.renderOutput(dataTable, element);\n",
              "          const docLink = document.createElement('div');\n",
              "          docLink.innerHTML = docLinkHtml;\n",
              "          element.appendChild(docLink);\n",
              "        }\n",
              "      </script>\n",
              "    </div>\n",
              "  </div>\n",
              "  "
            ]
          },
          "metadata": {},
          "execution_count": 40
        }
      ],
      "source": [
        "# Calculate the proportion of users who performed the action\n",
        "\n",
        "round((users_per_event / total_users_filt), 2)"
      ]
    },
    {
      "cell_type": "markdown",
      "metadata": {
        "id": "Yr4ExYQQv85P"
      },
      "source": [
        "**Findings:**\n",
        "\n",
        "We have 7543 users in the logs, with the detail of actions they have performed are:\n",
        "1. 0.98% of users in the logs has performed on event of Main Screen Appear.\n",
        "2. 0.61% of users in the logs has performed on event of Offers Screen Appear.\n",
        "3. 0.50% of users in the logs has performed on event of Cart Screen Appear.\n",
        "4. 0.47% of users in the logs has performed on event of Payment Screen Successful.\n",
        "5. 0.11% of users in the logs has performed on event of Tutorial."
      ]
    },
    {
      "cell_type": "markdown",
      "metadata": {
        "id": "UTeS0Kq_v85P"
      },
      "source": [
        "### In what order do you think the actions took place. \n",
        "- Are all of them part of a single sequence? You don't need to take them into account when calculating the funnel."
      ]
    },
    {
      "cell_type": "code",
      "execution_count": 41,
      "metadata": {
        "colab": {
          "base_uri": "https://localhost:8080/",
          "height": 238
        },
        "id": "sYATuNsav85P",
        "outputId": "ffff29c1-6a5e-4b12-f2a0-0bdbd5e0112e"
      },
      "outputs": [
        {
          "output_type": "execute_result",
          "data": {
            "text/plain": [
              "                         device_id_hash\n",
              "event_name                             \n",
              "MainScreenAppear                   5601\n",
              "OffersScreenAppear                 3298\n",
              "CartScreenAppear                   2657\n",
              "PaymentScreenSuccessful            2486\n",
              "Tutorial                            399"
            ],
            "text/html": [
              "\n",
              "  <div id=\"df-30c1fdcd-0066-4bba-a90a-81c3dfe82f4c\">\n",
              "    <div class=\"colab-df-container\">\n",
              "      <div>\n",
              "<style scoped>\n",
              "    .dataframe tbody tr th:only-of-type {\n",
              "        vertical-align: middle;\n",
              "    }\n",
              "\n",
              "    .dataframe tbody tr th {\n",
              "        vertical-align: top;\n",
              "    }\n",
              "\n",
              "    .dataframe thead th {\n",
              "        text-align: right;\n",
              "    }\n",
              "</style>\n",
              "<table border=\"1\" class=\"dataframe\">\n",
              "  <thead>\n",
              "    <tr style=\"text-align: right;\">\n",
              "      <th></th>\n",
              "      <th>device_id_hash</th>\n",
              "    </tr>\n",
              "    <tr>\n",
              "      <th>event_name</th>\n",
              "      <th></th>\n",
              "    </tr>\n",
              "  </thead>\n",
              "  <tbody>\n",
              "    <tr>\n",
              "      <th>MainScreenAppear</th>\n",
              "      <td>5601</td>\n",
              "    </tr>\n",
              "    <tr>\n",
              "      <th>OffersScreenAppear</th>\n",
              "      <td>3298</td>\n",
              "    </tr>\n",
              "    <tr>\n",
              "      <th>CartScreenAppear</th>\n",
              "      <td>2657</td>\n",
              "    </tr>\n",
              "    <tr>\n",
              "      <th>PaymentScreenSuccessful</th>\n",
              "      <td>2486</td>\n",
              "    </tr>\n",
              "    <tr>\n",
              "      <th>Tutorial</th>\n",
              "      <td>399</td>\n",
              "    </tr>\n",
              "  </tbody>\n",
              "</table>\n",
              "</div>\n",
              "      <button class=\"colab-df-convert\" onclick=\"convertToInteractive('df-30c1fdcd-0066-4bba-a90a-81c3dfe82f4c')\"\n",
              "              title=\"Convert this dataframe to an interactive table.\"\n",
              "              style=\"display:none;\">\n",
              "        \n",
              "  <svg xmlns=\"http://www.w3.org/2000/svg\" height=\"24px\"viewBox=\"0 0 24 24\"\n",
              "       width=\"24px\">\n",
              "    <path d=\"M0 0h24v24H0V0z\" fill=\"none\"/>\n",
              "    <path d=\"M18.56 5.44l.94 2.06.94-2.06 2.06-.94-2.06-.94-.94-2.06-.94 2.06-2.06.94zm-11 1L8.5 8.5l.94-2.06 2.06-.94-2.06-.94L8.5 2.5l-.94 2.06-2.06.94zm10 10l.94 2.06.94-2.06 2.06-.94-2.06-.94-.94-2.06-.94 2.06-2.06.94z\"/><path d=\"M17.41 7.96l-1.37-1.37c-.4-.4-.92-.59-1.43-.59-.52 0-1.04.2-1.43.59L10.3 9.45l-7.72 7.72c-.78.78-.78 2.05 0 2.83L4 21.41c.39.39.9.59 1.41.59.51 0 1.02-.2 1.41-.59l7.78-7.78 2.81-2.81c.8-.78.8-2.07 0-2.86zM5.41 20L4 18.59l7.72-7.72 1.47 1.35L5.41 20z\"/>\n",
              "  </svg>\n",
              "      </button>\n",
              "      \n",
              "  <style>\n",
              "    .colab-df-container {\n",
              "      display:flex;\n",
              "      flex-wrap:wrap;\n",
              "      gap: 12px;\n",
              "    }\n",
              "\n",
              "    .colab-df-convert {\n",
              "      background-color: #E8F0FE;\n",
              "      border: none;\n",
              "      border-radius: 50%;\n",
              "      cursor: pointer;\n",
              "      display: none;\n",
              "      fill: #1967D2;\n",
              "      height: 32px;\n",
              "      padding: 0 0 0 0;\n",
              "      width: 32px;\n",
              "    }\n",
              "\n",
              "    .colab-df-convert:hover {\n",
              "      background-color: #E2EBFA;\n",
              "      box-shadow: 0px 1px 2px rgba(60, 64, 67, 0.3), 0px 1px 3px 1px rgba(60, 64, 67, 0.15);\n",
              "      fill: #174EA6;\n",
              "    }\n",
              "\n",
              "    [theme=dark] .colab-df-convert {\n",
              "      background-color: #3B4455;\n",
              "      fill: #D2E3FC;\n",
              "    }\n",
              "\n",
              "    [theme=dark] .colab-df-convert:hover {\n",
              "      background-color: #434B5C;\n",
              "      box-shadow: 0px 1px 3px 1px rgba(0, 0, 0, 0.15);\n",
              "      filter: drop-shadow(0px 1px 2px rgba(0, 0, 0, 0.3));\n",
              "      fill: #FFFFFF;\n",
              "    }\n",
              "  </style>\n",
              "\n",
              "      <script>\n",
              "        const buttonEl =\n",
              "          document.querySelector('#df-30c1fdcd-0066-4bba-a90a-81c3dfe82f4c button.colab-df-convert');\n",
              "        buttonEl.style.display =\n",
              "          google.colab.kernel.accessAllowed ? 'block' : 'none';\n",
              "\n",
              "        async function convertToInteractive(key) {\n",
              "          const element = document.querySelector('#df-30c1fdcd-0066-4bba-a90a-81c3dfe82f4c');\n",
              "          const dataTable =\n",
              "            await google.colab.kernel.invokeFunction('convertToInteractive',\n",
              "                                                     [key], {});\n",
              "          if (!dataTable) return;\n",
              "\n",
              "          const docLinkHtml = 'Like what you see? Visit the ' +\n",
              "            '<a target=\"_blank\" href=https://colab.research.google.com/notebooks/data_table.ipynb>data table notebook</a>'\n",
              "            + ' to learn more about interactive tables.';\n",
              "          element.innerHTML = '';\n",
              "          dataTable['output_type'] = 'display_data';\n",
              "          await google.colab.output.renderOutput(dataTable, element);\n",
              "          const docLink = document.createElement('div');\n",
              "          docLink.innerHTML = docLinkHtml;\n",
              "          element.appendChild(docLink);\n",
              "        }\n",
              "      </script>\n",
              "    </div>\n",
              "  </div>\n",
              "  "
            ]
          },
          "metadata": {},
          "execution_count": 41
        }
      ],
      "source": [
        "# Look again to the table of users_per_event\n",
        "\n",
        "users_per_event"
      ]
    },
    {
      "cell_type": "markdown",
      "metadata": {
        "id": "2Fo7EOmDv85P"
      },
      "source": [
        "**Insights:**\n",
        "- Of the 5 events in the log, in our opinion the sequence of events starts from the Main Screen event when the user first visits the application, followed by clicking the Offers Screen menu, then clicking Cart Screen, and finally Payment Screen Successful to complete the order. Meanwhile, Tutorial events are unrelated to the sequence of events.\n",
        "\n",
        "**Recommendations:**\n",
        "- We will exclude Tutorials for further analysis."
      ]
    },
    {
      "cell_type": "markdown",
      "metadata": {
        "id": "yVadd5HIv85P"
      },
      "source": [
        "### Use the event funnel to find the percentage of users that proceed from each stage to the next. \n",
        "- For instance, for the sequence of events A → B → C, calculate the ratio of users at stage B to the number of users at stage A and the ratio of users at stage C to the number at stage B."
      ]
    },
    {
      "cell_type": "code",
      "execution_count": 42,
      "metadata": {
        "colab": {
          "base_uri": "https://localhost:8080/",
          "height": 206
        },
        "id": "kAr7hPqPv85Q",
        "outputId": "e1724efa-beeb-42a5-a893-faa9c7055e41"
      },
      "outputs": [
        {
          "output_type": "execute_result",
          "data": {
            "text/plain": [
              "                         device_id_hash\n",
              "event_name                             \n",
              "MainScreenAppear                   5601\n",
              "OffersScreenAppear                 3298\n",
              "CartScreenAppear                   2657\n",
              "PaymentScreenSuccessful            2486"
            ],
            "text/html": [
              "\n",
              "  <div id=\"df-b58ff7fe-8315-4b61-802d-7dd971eb7e34\">\n",
              "    <div class=\"colab-df-container\">\n",
              "      <div>\n",
              "<style scoped>\n",
              "    .dataframe tbody tr th:only-of-type {\n",
              "        vertical-align: middle;\n",
              "    }\n",
              "\n",
              "    .dataframe tbody tr th {\n",
              "        vertical-align: top;\n",
              "    }\n",
              "\n",
              "    .dataframe thead th {\n",
              "        text-align: right;\n",
              "    }\n",
              "</style>\n",
              "<table border=\"1\" class=\"dataframe\">\n",
              "  <thead>\n",
              "    <tr style=\"text-align: right;\">\n",
              "      <th></th>\n",
              "      <th>device_id_hash</th>\n",
              "    </tr>\n",
              "    <tr>\n",
              "      <th>event_name</th>\n",
              "      <th></th>\n",
              "    </tr>\n",
              "  </thead>\n",
              "  <tbody>\n",
              "    <tr>\n",
              "      <th>MainScreenAppear</th>\n",
              "      <td>5601</td>\n",
              "    </tr>\n",
              "    <tr>\n",
              "      <th>OffersScreenAppear</th>\n",
              "      <td>3298</td>\n",
              "    </tr>\n",
              "    <tr>\n",
              "      <th>CartScreenAppear</th>\n",
              "      <td>2657</td>\n",
              "    </tr>\n",
              "    <tr>\n",
              "      <th>PaymentScreenSuccessful</th>\n",
              "      <td>2486</td>\n",
              "    </tr>\n",
              "  </tbody>\n",
              "</table>\n",
              "</div>\n",
              "      <button class=\"colab-df-convert\" onclick=\"convertToInteractive('df-b58ff7fe-8315-4b61-802d-7dd971eb7e34')\"\n",
              "              title=\"Convert this dataframe to an interactive table.\"\n",
              "              style=\"display:none;\">\n",
              "        \n",
              "  <svg xmlns=\"http://www.w3.org/2000/svg\" height=\"24px\"viewBox=\"0 0 24 24\"\n",
              "       width=\"24px\">\n",
              "    <path d=\"M0 0h24v24H0V0z\" fill=\"none\"/>\n",
              "    <path d=\"M18.56 5.44l.94 2.06.94-2.06 2.06-.94-2.06-.94-.94-2.06-.94 2.06-2.06.94zm-11 1L8.5 8.5l.94-2.06 2.06-.94-2.06-.94L8.5 2.5l-.94 2.06-2.06.94zm10 10l.94 2.06.94-2.06 2.06-.94-2.06-.94-.94-2.06-.94 2.06-2.06.94z\"/><path d=\"M17.41 7.96l-1.37-1.37c-.4-.4-.92-.59-1.43-.59-.52 0-1.04.2-1.43.59L10.3 9.45l-7.72 7.72c-.78.78-.78 2.05 0 2.83L4 21.41c.39.39.9.59 1.41.59.51 0 1.02-.2 1.41-.59l7.78-7.78 2.81-2.81c.8-.78.8-2.07 0-2.86zM5.41 20L4 18.59l7.72-7.72 1.47 1.35L5.41 20z\"/>\n",
              "  </svg>\n",
              "      </button>\n",
              "      \n",
              "  <style>\n",
              "    .colab-df-container {\n",
              "      display:flex;\n",
              "      flex-wrap:wrap;\n",
              "      gap: 12px;\n",
              "    }\n",
              "\n",
              "    .colab-df-convert {\n",
              "      background-color: #E8F0FE;\n",
              "      border: none;\n",
              "      border-radius: 50%;\n",
              "      cursor: pointer;\n",
              "      display: none;\n",
              "      fill: #1967D2;\n",
              "      height: 32px;\n",
              "      padding: 0 0 0 0;\n",
              "      width: 32px;\n",
              "    }\n",
              "\n",
              "    .colab-df-convert:hover {\n",
              "      background-color: #E2EBFA;\n",
              "      box-shadow: 0px 1px 2px rgba(60, 64, 67, 0.3), 0px 1px 3px 1px rgba(60, 64, 67, 0.15);\n",
              "      fill: #174EA6;\n",
              "    }\n",
              "\n",
              "    [theme=dark] .colab-df-convert {\n",
              "      background-color: #3B4455;\n",
              "      fill: #D2E3FC;\n",
              "    }\n",
              "\n",
              "    [theme=dark] .colab-df-convert:hover {\n",
              "      background-color: #434B5C;\n",
              "      box-shadow: 0px 1px 3px 1px rgba(0, 0, 0, 0.15);\n",
              "      filter: drop-shadow(0px 1px 2px rgba(0, 0, 0, 0.3));\n",
              "      fill: #FFFFFF;\n",
              "    }\n",
              "  </style>\n",
              "\n",
              "      <script>\n",
              "        const buttonEl =\n",
              "          document.querySelector('#df-b58ff7fe-8315-4b61-802d-7dd971eb7e34 button.colab-df-convert');\n",
              "        buttonEl.style.display =\n",
              "          google.colab.kernel.accessAllowed ? 'block' : 'none';\n",
              "\n",
              "        async function convertToInteractive(key) {\n",
              "          const element = document.querySelector('#df-b58ff7fe-8315-4b61-802d-7dd971eb7e34');\n",
              "          const dataTable =\n",
              "            await google.colab.kernel.invokeFunction('convertToInteractive',\n",
              "                                                     [key], {});\n",
              "          if (!dataTable) return;\n",
              "\n",
              "          const docLinkHtml = 'Like what you see? Visit the ' +\n",
              "            '<a target=\"_blank\" href=https://colab.research.google.com/notebooks/data_table.ipynb>data table notebook</a>'\n",
              "            + ' to learn more about interactive tables.';\n",
              "          element.innerHTML = '';\n",
              "          dataTable['output_type'] = 'display_data';\n",
              "          await google.colab.output.renderOutput(dataTable, element);\n",
              "          const docLink = document.createElement('div');\n",
              "          docLink.innerHTML = docLinkHtml;\n",
              "          element.appendChild(docLink);\n",
              "        }\n",
              "      </script>\n",
              "    </div>\n",
              "  </div>\n",
              "  "
            ]
          },
          "metadata": {},
          "execution_count": 42
        }
      ],
      "source": [
        "# Exclude Tutorials event from the users_per_event\n",
        "\n",
        "user_funnel = users_per_event[:-1]\n",
        "user_funnel"
      ]
    },
    {
      "cell_type": "code",
      "execution_count": 43,
      "metadata": {
        "scrolled": false,
        "colab": {
          "base_uri": "https://localhost:8080/",
          "height": 542
        },
        "id": "UiFkL08-v85Q",
        "outputId": "2658aca6-5e68-419a-c060-22744daf81ae"
      },
      "outputs": [
        {
          "output_type": "display_data",
          "data": {
            "text/html": [
              "<html>\n",
              "<head><meta charset=\"utf-8\" /></head>\n",
              "<body>\n",
              "    <div>            <script src=\"https://cdnjs.cloudflare.com/ajax/libs/mathjax/2.7.5/MathJax.js?config=TeX-AMS-MML_SVG\"></script><script type=\"text/javascript\">if (window.MathJax) {MathJax.Hub.Config({SVG: {font: \"STIX-Web\"}});}</script>                <script type=\"text/javascript\">window.PlotlyConfig = {MathJaxConfig: 'local'};</script>\n",
              "        <script src=\"https://cdn.plot.ly/plotly-2.8.3.min.js\"></script>                <div id=\"557c32b4-973c-4bc9-a964-6387881c4b3c\" class=\"plotly-graph-div\" style=\"height:525px; width:100%;\"></div>            <script type=\"text/javascript\">                                    window.PLOTLYENV=window.PLOTLYENV || {};                                    if (document.getElementById(\"557c32b4-973c-4bc9-a964-6387881c4b3c\")) {                    Plotly.newPlot(                        \"557c32b4-973c-4bc9-a964-6387881c4b3c\",                        [{\"x\":[5601,3298,2657,2486],\"y\":[\"MainScreenAppear\",\"OffersScreenAppear\",\"CartScreenAppear\",\"PaymentScreenSuccessful\"],\"type\":\"funnel\"}],                        {\"template\":{\"data\":{\"bar\":[{\"error_x\":{\"color\":\"#2a3f5f\"},\"error_y\":{\"color\":\"#2a3f5f\"},\"marker\":{\"line\":{\"color\":\"#E5ECF6\",\"width\":0.5},\"pattern\":{\"fillmode\":\"overlay\",\"size\":10,\"solidity\":0.2}},\"type\":\"bar\"}],\"barpolar\":[{\"marker\":{\"line\":{\"color\":\"#E5ECF6\",\"width\":0.5},\"pattern\":{\"fillmode\":\"overlay\",\"size\":10,\"solidity\":0.2}},\"type\":\"barpolar\"}],\"carpet\":[{\"aaxis\":{\"endlinecolor\":\"#2a3f5f\",\"gridcolor\":\"white\",\"linecolor\":\"white\",\"minorgridcolor\":\"white\",\"startlinecolor\":\"#2a3f5f\"},\"baxis\":{\"endlinecolor\":\"#2a3f5f\",\"gridcolor\":\"white\",\"linecolor\":\"white\",\"minorgridcolor\":\"white\",\"startlinecolor\":\"#2a3f5f\"},\"type\":\"carpet\"}],\"choropleth\":[{\"colorbar\":{\"outlinewidth\":0,\"ticks\":\"\"},\"type\":\"choropleth\"}],\"contour\":[{\"colorbar\":{\"outlinewidth\":0,\"ticks\":\"\"},\"colorscale\":[[0.0,\"#0d0887\"],[0.1111111111111111,\"#46039f\"],[0.2222222222222222,\"#7201a8\"],[0.3333333333333333,\"#9c179e\"],[0.4444444444444444,\"#bd3786\"],[0.5555555555555556,\"#d8576b\"],[0.6666666666666666,\"#ed7953\"],[0.7777777777777778,\"#fb9f3a\"],[0.8888888888888888,\"#fdca26\"],[1.0,\"#f0f921\"]],\"type\":\"contour\"}],\"contourcarpet\":[{\"colorbar\":{\"outlinewidth\":0,\"ticks\":\"\"},\"type\":\"contourcarpet\"}],\"heatmap\":[{\"colorbar\":{\"outlinewidth\":0,\"ticks\":\"\"},\"colorscale\":[[0.0,\"#0d0887\"],[0.1111111111111111,\"#46039f\"],[0.2222222222222222,\"#7201a8\"],[0.3333333333333333,\"#9c179e\"],[0.4444444444444444,\"#bd3786\"],[0.5555555555555556,\"#d8576b\"],[0.6666666666666666,\"#ed7953\"],[0.7777777777777778,\"#fb9f3a\"],[0.8888888888888888,\"#fdca26\"],[1.0,\"#f0f921\"]],\"type\":\"heatmap\"}],\"heatmapgl\":[{\"colorbar\":{\"outlinewidth\":0,\"ticks\":\"\"},\"colorscale\":[[0.0,\"#0d0887\"],[0.1111111111111111,\"#46039f\"],[0.2222222222222222,\"#7201a8\"],[0.3333333333333333,\"#9c179e\"],[0.4444444444444444,\"#bd3786\"],[0.5555555555555556,\"#d8576b\"],[0.6666666666666666,\"#ed7953\"],[0.7777777777777778,\"#fb9f3a\"],[0.8888888888888888,\"#fdca26\"],[1.0,\"#f0f921\"]],\"type\":\"heatmapgl\"}],\"histogram\":[{\"marker\":{\"pattern\":{\"fillmode\":\"overlay\",\"size\":10,\"solidity\":0.2}},\"type\":\"histogram\"}],\"histogram2d\":[{\"colorbar\":{\"outlinewidth\":0,\"ticks\":\"\"},\"colorscale\":[[0.0,\"#0d0887\"],[0.1111111111111111,\"#46039f\"],[0.2222222222222222,\"#7201a8\"],[0.3333333333333333,\"#9c179e\"],[0.4444444444444444,\"#bd3786\"],[0.5555555555555556,\"#d8576b\"],[0.6666666666666666,\"#ed7953\"],[0.7777777777777778,\"#fb9f3a\"],[0.8888888888888888,\"#fdca26\"],[1.0,\"#f0f921\"]],\"type\":\"histogram2d\"}],\"histogram2dcontour\":[{\"colorbar\":{\"outlinewidth\":0,\"ticks\":\"\"},\"colorscale\":[[0.0,\"#0d0887\"],[0.1111111111111111,\"#46039f\"],[0.2222222222222222,\"#7201a8\"],[0.3333333333333333,\"#9c179e\"],[0.4444444444444444,\"#bd3786\"],[0.5555555555555556,\"#d8576b\"],[0.6666666666666666,\"#ed7953\"],[0.7777777777777778,\"#fb9f3a\"],[0.8888888888888888,\"#fdca26\"],[1.0,\"#f0f921\"]],\"type\":\"histogram2dcontour\"}],\"mesh3d\":[{\"colorbar\":{\"outlinewidth\":0,\"ticks\":\"\"},\"type\":\"mesh3d\"}],\"parcoords\":[{\"line\":{\"colorbar\":{\"outlinewidth\":0,\"ticks\":\"\"}},\"type\":\"parcoords\"}],\"pie\":[{\"automargin\":true,\"type\":\"pie\"}],\"scatter\":[{\"marker\":{\"colorbar\":{\"outlinewidth\":0,\"ticks\":\"\"}},\"type\":\"scatter\"}],\"scatter3d\":[{\"line\":{\"colorbar\":{\"outlinewidth\":0,\"ticks\":\"\"}},\"marker\":{\"colorbar\":{\"outlinewidth\":0,\"ticks\":\"\"}},\"type\":\"scatter3d\"}],\"scattercarpet\":[{\"marker\":{\"colorbar\":{\"outlinewidth\":0,\"ticks\":\"\"}},\"type\":\"scattercarpet\"}],\"scattergeo\":[{\"marker\":{\"colorbar\":{\"outlinewidth\":0,\"ticks\":\"\"}},\"type\":\"scattergeo\"}],\"scattergl\":[{\"marker\":{\"colorbar\":{\"outlinewidth\":0,\"ticks\":\"\"}},\"type\":\"scattergl\"}],\"scattermapbox\":[{\"marker\":{\"colorbar\":{\"outlinewidth\":0,\"ticks\":\"\"}},\"type\":\"scattermapbox\"}],\"scatterpolar\":[{\"marker\":{\"colorbar\":{\"outlinewidth\":0,\"ticks\":\"\"}},\"type\":\"scatterpolar\"}],\"scatterpolargl\":[{\"marker\":{\"colorbar\":{\"outlinewidth\":0,\"ticks\":\"\"}},\"type\":\"scatterpolargl\"}],\"scatterternary\":[{\"marker\":{\"colorbar\":{\"outlinewidth\":0,\"ticks\":\"\"}},\"type\":\"scatterternary\"}],\"surface\":[{\"colorbar\":{\"outlinewidth\":0,\"ticks\":\"\"},\"colorscale\":[[0.0,\"#0d0887\"],[0.1111111111111111,\"#46039f\"],[0.2222222222222222,\"#7201a8\"],[0.3333333333333333,\"#9c179e\"],[0.4444444444444444,\"#bd3786\"],[0.5555555555555556,\"#d8576b\"],[0.6666666666666666,\"#ed7953\"],[0.7777777777777778,\"#fb9f3a\"],[0.8888888888888888,\"#fdca26\"],[1.0,\"#f0f921\"]],\"type\":\"surface\"}],\"table\":[{\"cells\":{\"fill\":{\"color\":\"#EBF0F8\"},\"line\":{\"color\":\"white\"}},\"header\":{\"fill\":{\"color\":\"#C8D4E3\"},\"line\":{\"color\":\"white\"}},\"type\":\"table\"}]},\"layout\":{\"annotationdefaults\":{\"arrowcolor\":\"#2a3f5f\",\"arrowhead\":0,\"arrowwidth\":1},\"autotypenumbers\":\"strict\",\"coloraxis\":{\"colorbar\":{\"outlinewidth\":0,\"ticks\":\"\"}},\"colorscale\":{\"diverging\":[[0,\"#8e0152\"],[0.1,\"#c51b7d\"],[0.2,\"#de77ae\"],[0.3,\"#f1b6da\"],[0.4,\"#fde0ef\"],[0.5,\"#f7f7f7\"],[0.6,\"#e6f5d0\"],[0.7,\"#b8e186\"],[0.8,\"#7fbc41\"],[0.9,\"#4d9221\"],[1,\"#276419\"]],\"sequential\":[[0.0,\"#0d0887\"],[0.1111111111111111,\"#46039f\"],[0.2222222222222222,\"#7201a8\"],[0.3333333333333333,\"#9c179e\"],[0.4444444444444444,\"#bd3786\"],[0.5555555555555556,\"#d8576b\"],[0.6666666666666666,\"#ed7953\"],[0.7777777777777778,\"#fb9f3a\"],[0.8888888888888888,\"#fdca26\"],[1.0,\"#f0f921\"]],\"sequentialminus\":[[0.0,\"#0d0887\"],[0.1111111111111111,\"#46039f\"],[0.2222222222222222,\"#7201a8\"],[0.3333333333333333,\"#9c179e\"],[0.4444444444444444,\"#bd3786\"],[0.5555555555555556,\"#d8576b\"],[0.6666666666666666,\"#ed7953\"],[0.7777777777777778,\"#fb9f3a\"],[0.8888888888888888,\"#fdca26\"],[1.0,\"#f0f921\"]]},\"colorway\":[\"#636efa\",\"#EF553B\",\"#00cc96\",\"#ab63fa\",\"#FFA15A\",\"#19d3f3\",\"#FF6692\",\"#B6E880\",\"#FF97FF\",\"#FECB52\"],\"font\":{\"color\":\"#2a3f5f\"},\"geo\":{\"bgcolor\":\"white\",\"lakecolor\":\"white\",\"landcolor\":\"#E5ECF6\",\"showlakes\":true,\"showland\":true,\"subunitcolor\":\"white\"},\"hoverlabel\":{\"align\":\"left\"},\"hovermode\":\"closest\",\"mapbox\":{\"style\":\"light\"},\"paper_bgcolor\":\"white\",\"plot_bgcolor\":\"#E5ECF6\",\"polar\":{\"angularaxis\":{\"gridcolor\":\"white\",\"linecolor\":\"white\",\"ticks\":\"\"},\"bgcolor\":\"#E5ECF6\",\"radialaxis\":{\"gridcolor\":\"white\",\"linecolor\":\"white\",\"ticks\":\"\"}},\"scene\":{\"xaxis\":{\"backgroundcolor\":\"#E5ECF6\",\"gridcolor\":\"white\",\"gridwidth\":2,\"linecolor\":\"white\",\"showbackground\":true,\"ticks\":\"\",\"zerolinecolor\":\"white\"},\"yaxis\":{\"backgroundcolor\":\"#E5ECF6\",\"gridcolor\":\"white\",\"gridwidth\":2,\"linecolor\":\"white\",\"showbackground\":true,\"ticks\":\"\",\"zerolinecolor\":\"white\"},\"zaxis\":{\"backgroundcolor\":\"#E5ECF6\",\"gridcolor\":\"white\",\"gridwidth\":2,\"linecolor\":\"white\",\"showbackground\":true,\"ticks\":\"\",\"zerolinecolor\":\"white\"}},\"shapedefaults\":{\"line\":{\"color\":\"#2a3f5f\"}},\"ternary\":{\"aaxis\":{\"gridcolor\":\"white\",\"linecolor\":\"white\",\"ticks\":\"\"},\"baxis\":{\"gridcolor\":\"white\",\"linecolor\":\"white\",\"ticks\":\"\"},\"bgcolor\":\"#E5ECF6\",\"caxis\":{\"gridcolor\":\"white\",\"linecolor\":\"white\",\"ticks\":\"\"}},\"title\":{\"x\":0.05},\"xaxis\":{\"automargin\":true,\"gridcolor\":\"white\",\"linecolor\":\"white\",\"ticks\":\"\",\"title\":{\"standoff\":15},\"zerolinecolor\":\"white\",\"zerolinewidth\":2},\"yaxis\":{\"automargin\":true,\"gridcolor\":\"white\",\"linecolor\":\"white\",\"ticks\":\"\",\"title\":{\"standoff\":15},\"zerolinecolor\":\"white\",\"zerolinewidth\":2}}}},                        {\"responsive\": true}                    ).then(function(){\n",
              "                            \n",
              "var gd = document.getElementById('557c32b4-973c-4bc9-a964-6387881c4b3c');\n",
              "var x = new MutationObserver(function (mutations, observer) {{\n",
              "        var display = window.getComputedStyle(gd).display;\n",
              "        if (!display || display === 'none') {{\n",
              "            console.log([gd, 'removed!']);\n",
              "            Plotly.purge(gd);\n",
              "            observer.disconnect();\n",
              "        }}\n",
              "}});\n",
              "\n",
              "// Listen for the removal of the full notebook cells\n",
              "var notebookContainer = gd.closest('#notebook-container');\n",
              "if (notebookContainer) {{\n",
              "    x.observe(notebookContainer, {childList: true});\n",
              "}}\n",
              "\n",
              "// Listen for the clearing of the current output cell\n",
              "var outputEl = gd.closest('.output');\n",
              "if (outputEl) {{\n",
              "    x.observe(outputEl, {childList: true});\n",
              "}}\n",
              "\n",
              "                        })                };                            </script>        </div>\n",
              "</body>\n",
              "</html>"
            ]
          },
          "metadata": {}
        }
      ],
      "source": [
        "# Visualization of funnel\n",
        "\n",
        "user_funnel_vis = user_funnel.reset_index() #for visualization needs\n",
        "fig = go.Figure(go.Funnel(\n",
        "    y = user_funnel_vis['event_name'],\n",
        "    x = user_funnel_vis['device_id_hash']\n",
        "    ))\n",
        "fig.show()"
      ]
    },
    {
      "cell_type": "markdown",
      "metadata": {
        "id": "mLIGOMK8v85Q"
      },
      "source": [
        "Before we calculate the ratio of users that proceed from each stage to the next, firstly we change positions of the total logs."
      ]
    },
    {
      "cell_type": "code",
      "execution_count": 44,
      "metadata": {
        "colab": {
          "base_uri": "https://localhost:8080/",
          "height": 206
        },
        "id": "jJQy1tUzv85Q",
        "outputId": "951d08bd-93c3-47cc-8280-0c8c38c60363"
      },
      "outputs": [
        {
          "output_type": "execute_result",
          "data": {
            "text/plain": [
              "                         device_id_hash\n",
              "event_name                             \n",
              "MainScreenAppear                    NaN\n",
              "OffersScreenAppear               5601.0\n",
              "CartScreenAppear                 3298.0\n",
              "PaymentScreenSuccessful          2657.0"
            ],
            "text/html": [
              "\n",
              "  <div id=\"df-428280e5-7244-42f5-aab2-97ca5947cbf5\">\n",
              "    <div class=\"colab-df-container\">\n",
              "      <div>\n",
              "<style scoped>\n",
              "    .dataframe tbody tr th:only-of-type {\n",
              "        vertical-align: middle;\n",
              "    }\n",
              "\n",
              "    .dataframe tbody tr th {\n",
              "        vertical-align: top;\n",
              "    }\n",
              "\n",
              "    .dataframe thead th {\n",
              "        text-align: right;\n",
              "    }\n",
              "</style>\n",
              "<table border=\"1\" class=\"dataframe\">\n",
              "  <thead>\n",
              "    <tr style=\"text-align: right;\">\n",
              "      <th></th>\n",
              "      <th>device_id_hash</th>\n",
              "    </tr>\n",
              "    <tr>\n",
              "      <th>event_name</th>\n",
              "      <th></th>\n",
              "    </tr>\n",
              "  </thead>\n",
              "  <tbody>\n",
              "    <tr>\n",
              "      <th>MainScreenAppear</th>\n",
              "      <td>NaN</td>\n",
              "    </tr>\n",
              "    <tr>\n",
              "      <th>OffersScreenAppear</th>\n",
              "      <td>5601.0</td>\n",
              "    </tr>\n",
              "    <tr>\n",
              "      <th>CartScreenAppear</th>\n",
              "      <td>3298.0</td>\n",
              "    </tr>\n",
              "    <tr>\n",
              "      <th>PaymentScreenSuccessful</th>\n",
              "      <td>2657.0</td>\n",
              "    </tr>\n",
              "  </tbody>\n",
              "</table>\n",
              "</div>\n",
              "      <button class=\"colab-df-convert\" onclick=\"convertToInteractive('df-428280e5-7244-42f5-aab2-97ca5947cbf5')\"\n",
              "              title=\"Convert this dataframe to an interactive table.\"\n",
              "              style=\"display:none;\">\n",
              "        \n",
              "  <svg xmlns=\"http://www.w3.org/2000/svg\" height=\"24px\"viewBox=\"0 0 24 24\"\n",
              "       width=\"24px\">\n",
              "    <path d=\"M0 0h24v24H0V0z\" fill=\"none\"/>\n",
              "    <path d=\"M18.56 5.44l.94 2.06.94-2.06 2.06-.94-2.06-.94-.94-2.06-.94 2.06-2.06.94zm-11 1L8.5 8.5l.94-2.06 2.06-.94-2.06-.94L8.5 2.5l-.94 2.06-2.06.94zm10 10l.94 2.06.94-2.06 2.06-.94-2.06-.94-.94-2.06-.94 2.06-2.06.94z\"/><path d=\"M17.41 7.96l-1.37-1.37c-.4-.4-.92-.59-1.43-.59-.52 0-1.04.2-1.43.59L10.3 9.45l-7.72 7.72c-.78.78-.78 2.05 0 2.83L4 21.41c.39.39.9.59 1.41.59.51 0 1.02-.2 1.41-.59l7.78-7.78 2.81-2.81c.8-.78.8-2.07 0-2.86zM5.41 20L4 18.59l7.72-7.72 1.47 1.35L5.41 20z\"/>\n",
              "  </svg>\n",
              "      </button>\n",
              "      \n",
              "  <style>\n",
              "    .colab-df-container {\n",
              "      display:flex;\n",
              "      flex-wrap:wrap;\n",
              "      gap: 12px;\n",
              "    }\n",
              "\n",
              "    .colab-df-convert {\n",
              "      background-color: #E8F0FE;\n",
              "      border: none;\n",
              "      border-radius: 50%;\n",
              "      cursor: pointer;\n",
              "      display: none;\n",
              "      fill: #1967D2;\n",
              "      height: 32px;\n",
              "      padding: 0 0 0 0;\n",
              "      width: 32px;\n",
              "    }\n",
              "\n",
              "    .colab-df-convert:hover {\n",
              "      background-color: #E2EBFA;\n",
              "      box-shadow: 0px 1px 2px rgba(60, 64, 67, 0.3), 0px 1px 3px 1px rgba(60, 64, 67, 0.15);\n",
              "      fill: #174EA6;\n",
              "    }\n",
              "\n",
              "    [theme=dark] .colab-df-convert {\n",
              "      background-color: #3B4455;\n",
              "      fill: #D2E3FC;\n",
              "    }\n",
              "\n",
              "    [theme=dark] .colab-df-convert:hover {\n",
              "      background-color: #434B5C;\n",
              "      box-shadow: 0px 1px 3px 1px rgba(0, 0, 0, 0.15);\n",
              "      filter: drop-shadow(0px 1px 2px rgba(0, 0, 0, 0.3));\n",
              "      fill: #FFFFFF;\n",
              "    }\n",
              "  </style>\n",
              "\n",
              "      <script>\n",
              "        const buttonEl =\n",
              "          document.querySelector('#df-428280e5-7244-42f5-aab2-97ca5947cbf5 button.colab-df-convert');\n",
              "        buttonEl.style.display =\n",
              "          google.colab.kernel.accessAllowed ? 'block' : 'none';\n",
              "\n",
              "        async function convertToInteractive(key) {\n",
              "          const element = document.querySelector('#df-428280e5-7244-42f5-aab2-97ca5947cbf5');\n",
              "          const dataTable =\n",
              "            await google.colab.kernel.invokeFunction('convertToInteractive',\n",
              "                                                     [key], {});\n",
              "          if (!dataTable) return;\n",
              "\n",
              "          const docLinkHtml = 'Like what you see? Visit the ' +\n",
              "            '<a target=\"_blank\" href=https://colab.research.google.com/notebooks/data_table.ipynb>data table notebook</a>'\n",
              "            + ' to learn more about interactive tables.';\n",
              "          element.innerHTML = '';\n",
              "          dataTable['output_type'] = 'display_data';\n",
              "          await google.colab.output.renderOutput(dataTable, element);\n",
              "          const docLink = document.createElement('div');\n",
              "          docLink.innerHTML = docLinkHtml;\n",
              "          element.appendChild(docLink);\n",
              "        }\n",
              "      </script>\n",
              "    </div>\n",
              "  </div>\n",
              "  "
            ]
          },
          "metadata": {},
          "execution_count": 44
        }
      ],
      "source": [
        "# We change positions of the total logs\n",
        "\n",
        "user_funnel.shift()"
      ]
    },
    {
      "cell_type": "code",
      "execution_count": 45,
      "metadata": {
        "colab": {
          "base_uri": "https://localhost:8080/",
          "height": 206
        },
        "id": "8kNbwL6yv85Q",
        "outputId": "2c48cdea-7621-4ea1-f1fb-1c7da9fdc37f"
      },
      "outputs": [
        {
          "output_type": "execute_result",
          "data": {
            "text/plain": [
              "                         device_id_hash\n",
              "event_name                             \n",
              "MainScreenAppear                   1.00\n",
              "OffersScreenAppear                 0.59\n",
              "CartScreenAppear                   0.81\n",
              "PaymentScreenSuccessful            0.94"
            ],
            "text/html": [
              "\n",
              "  <div id=\"df-d7776739-47b3-4dea-892e-495b89625a20\">\n",
              "    <div class=\"colab-df-container\">\n",
              "      <div>\n",
              "<style scoped>\n",
              "    .dataframe tbody tr th:only-of-type {\n",
              "        vertical-align: middle;\n",
              "    }\n",
              "\n",
              "    .dataframe tbody tr th {\n",
              "        vertical-align: top;\n",
              "    }\n",
              "\n",
              "    .dataframe thead th {\n",
              "        text-align: right;\n",
              "    }\n",
              "</style>\n",
              "<table border=\"1\" class=\"dataframe\">\n",
              "  <thead>\n",
              "    <tr style=\"text-align: right;\">\n",
              "      <th></th>\n",
              "      <th>device_id_hash</th>\n",
              "    </tr>\n",
              "    <tr>\n",
              "      <th>event_name</th>\n",
              "      <th></th>\n",
              "    </tr>\n",
              "  </thead>\n",
              "  <tbody>\n",
              "    <tr>\n",
              "      <th>MainScreenAppear</th>\n",
              "      <td>1.00</td>\n",
              "    </tr>\n",
              "    <tr>\n",
              "      <th>OffersScreenAppear</th>\n",
              "      <td>0.59</td>\n",
              "    </tr>\n",
              "    <tr>\n",
              "      <th>CartScreenAppear</th>\n",
              "      <td>0.81</td>\n",
              "    </tr>\n",
              "    <tr>\n",
              "      <th>PaymentScreenSuccessful</th>\n",
              "      <td>0.94</td>\n",
              "    </tr>\n",
              "  </tbody>\n",
              "</table>\n",
              "</div>\n",
              "      <button class=\"colab-df-convert\" onclick=\"convertToInteractive('df-d7776739-47b3-4dea-892e-495b89625a20')\"\n",
              "              title=\"Convert this dataframe to an interactive table.\"\n",
              "              style=\"display:none;\">\n",
              "        \n",
              "  <svg xmlns=\"http://www.w3.org/2000/svg\" height=\"24px\"viewBox=\"0 0 24 24\"\n",
              "       width=\"24px\">\n",
              "    <path d=\"M0 0h24v24H0V0z\" fill=\"none\"/>\n",
              "    <path d=\"M18.56 5.44l.94 2.06.94-2.06 2.06-.94-2.06-.94-.94-2.06-.94 2.06-2.06.94zm-11 1L8.5 8.5l.94-2.06 2.06-.94-2.06-.94L8.5 2.5l-.94 2.06-2.06.94zm10 10l.94 2.06.94-2.06 2.06-.94-2.06-.94-.94-2.06-.94 2.06-2.06.94z\"/><path d=\"M17.41 7.96l-1.37-1.37c-.4-.4-.92-.59-1.43-.59-.52 0-1.04.2-1.43.59L10.3 9.45l-7.72 7.72c-.78.78-.78 2.05 0 2.83L4 21.41c.39.39.9.59 1.41.59.51 0 1.02-.2 1.41-.59l7.78-7.78 2.81-2.81c.8-.78.8-2.07 0-2.86zM5.41 20L4 18.59l7.72-7.72 1.47 1.35L5.41 20z\"/>\n",
              "  </svg>\n",
              "      </button>\n",
              "      \n",
              "  <style>\n",
              "    .colab-df-container {\n",
              "      display:flex;\n",
              "      flex-wrap:wrap;\n",
              "      gap: 12px;\n",
              "    }\n",
              "\n",
              "    .colab-df-convert {\n",
              "      background-color: #E8F0FE;\n",
              "      border: none;\n",
              "      border-radius: 50%;\n",
              "      cursor: pointer;\n",
              "      display: none;\n",
              "      fill: #1967D2;\n",
              "      height: 32px;\n",
              "      padding: 0 0 0 0;\n",
              "      width: 32px;\n",
              "    }\n",
              "\n",
              "    .colab-df-convert:hover {\n",
              "      background-color: #E2EBFA;\n",
              "      box-shadow: 0px 1px 2px rgba(60, 64, 67, 0.3), 0px 1px 3px 1px rgba(60, 64, 67, 0.15);\n",
              "      fill: #174EA6;\n",
              "    }\n",
              "\n",
              "    [theme=dark] .colab-df-convert {\n",
              "      background-color: #3B4455;\n",
              "      fill: #D2E3FC;\n",
              "    }\n",
              "\n",
              "    [theme=dark] .colab-df-convert:hover {\n",
              "      background-color: #434B5C;\n",
              "      box-shadow: 0px 1px 3px 1px rgba(0, 0, 0, 0.15);\n",
              "      filter: drop-shadow(0px 1px 2px rgba(0, 0, 0, 0.3));\n",
              "      fill: #FFFFFF;\n",
              "    }\n",
              "  </style>\n",
              "\n",
              "      <script>\n",
              "        const buttonEl =\n",
              "          document.querySelector('#df-d7776739-47b3-4dea-892e-495b89625a20 button.colab-df-convert');\n",
              "        buttonEl.style.display =\n",
              "          google.colab.kernel.accessAllowed ? 'block' : 'none';\n",
              "\n",
              "        async function convertToInteractive(key) {\n",
              "          const element = document.querySelector('#df-d7776739-47b3-4dea-892e-495b89625a20');\n",
              "          const dataTable =\n",
              "            await google.colab.kernel.invokeFunction('convertToInteractive',\n",
              "                                                     [key], {});\n",
              "          if (!dataTable) return;\n",
              "\n",
              "          const docLinkHtml = 'Like what you see? Visit the ' +\n",
              "            '<a target=\"_blank\" href=https://colab.research.google.com/notebooks/data_table.ipynb>data table notebook</a>'\n",
              "            + ' to learn more about interactive tables.';\n",
              "          element.innerHTML = '';\n",
              "          dataTable['output_type'] = 'display_data';\n",
              "          await google.colab.output.renderOutput(dataTable, element);\n",
              "          const docLink = document.createElement('div');\n",
              "          docLink.innerHTML = docLinkHtml;\n",
              "          element.appendChild(docLink);\n",
              "        }\n",
              "      </script>\n",
              "    </div>\n",
              "  </div>\n",
              "  "
            ]
          },
          "metadata": {},
          "execution_count": 45
        }
      ],
      "source": [
        "# Calculates the ratio of sequence users from the first event to the next event to the last\n",
        "\n",
        "ratio = round((user_funnel / user_funnel.shift()).fillna(1), 2)\n",
        "ratio"
      ]
    },
    {
      "cell_type": "markdown",
      "metadata": {
        "id": "ozsO3ZE4v85Q"
      },
      "source": [
        "**Findings:**\n",
        "- The ratio of users to clicking the Offers Screen is 62% once they are on the Home Screen.\n",
        "- The ratio of users to adding products to the Cart Screen is 81% after they click on the Offer Screen.\n",
        "- The ratio of users to complete payments is 95% of users who add products to Cart."
      ]
    },
    {
      "cell_type": "markdown",
      "metadata": {
        "id": "MB6ARdeKv85Q"
      },
      "source": [
        "### At what stage do you lose the most users?"
      ]
    },
    {
      "cell_type": "code",
      "execution_count": 46,
      "metadata": {
        "colab": {
          "base_uri": "https://localhost:8080/",
          "height": 206
        },
        "id": "yq_Qk3yNv85Q",
        "outputId": "a3dc16ac-313f-4d11-faa1-6e9ab74d2619"
      },
      "outputs": [
        {
          "output_type": "execute_result",
          "data": {
            "text/plain": [
              "                         device_id_hash\n",
              "event_name                             \n",
              "MainScreenAppear                   1.00\n",
              "OffersScreenAppear                 0.59\n",
              "CartScreenAppear                   0.81\n",
              "PaymentScreenSuccessful            0.94"
            ],
            "text/html": [
              "\n",
              "  <div id=\"df-288a5d4a-ba0a-4c8b-86c9-4a1dd7fe44ed\">\n",
              "    <div class=\"colab-df-container\">\n",
              "      <div>\n",
              "<style scoped>\n",
              "    .dataframe tbody tr th:only-of-type {\n",
              "        vertical-align: middle;\n",
              "    }\n",
              "\n",
              "    .dataframe tbody tr th {\n",
              "        vertical-align: top;\n",
              "    }\n",
              "\n",
              "    .dataframe thead th {\n",
              "        text-align: right;\n",
              "    }\n",
              "</style>\n",
              "<table border=\"1\" class=\"dataframe\">\n",
              "  <thead>\n",
              "    <tr style=\"text-align: right;\">\n",
              "      <th></th>\n",
              "      <th>device_id_hash</th>\n",
              "    </tr>\n",
              "    <tr>\n",
              "      <th>event_name</th>\n",
              "      <th></th>\n",
              "    </tr>\n",
              "  </thead>\n",
              "  <tbody>\n",
              "    <tr>\n",
              "      <th>MainScreenAppear</th>\n",
              "      <td>1.00</td>\n",
              "    </tr>\n",
              "    <tr>\n",
              "      <th>OffersScreenAppear</th>\n",
              "      <td>0.59</td>\n",
              "    </tr>\n",
              "    <tr>\n",
              "      <th>CartScreenAppear</th>\n",
              "      <td>0.81</td>\n",
              "    </tr>\n",
              "    <tr>\n",
              "      <th>PaymentScreenSuccessful</th>\n",
              "      <td>0.94</td>\n",
              "    </tr>\n",
              "  </tbody>\n",
              "</table>\n",
              "</div>\n",
              "      <button class=\"colab-df-convert\" onclick=\"convertToInteractive('df-288a5d4a-ba0a-4c8b-86c9-4a1dd7fe44ed')\"\n",
              "              title=\"Convert this dataframe to an interactive table.\"\n",
              "              style=\"display:none;\">\n",
              "        \n",
              "  <svg xmlns=\"http://www.w3.org/2000/svg\" height=\"24px\"viewBox=\"0 0 24 24\"\n",
              "       width=\"24px\">\n",
              "    <path d=\"M0 0h24v24H0V0z\" fill=\"none\"/>\n",
              "    <path d=\"M18.56 5.44l.94 2.06.94-2.06 2.06-.94-2.06-.94-.94-2.06-.94 2.06-2.06.94zm-11 1L8.5 8.5l.94-2.06 2.06-.94-2.06-.94L8.5 2.5l-.94 2.06-2.06.94zm10 10l.94 2.06.94-2.06 2.06-.94-2.06-.94-.94-2.06-.94 2.06-2.06.94z\"/><path d=\"M17.41 7.96l-1.37-1.37c-.4-.4-.92-.59-1.43-.59-.52 0-1.04.2-1.43.59L10.3 9.45l-7.72 7.72c-.78.78-.78 2.05 0 2.83L4 21.41c.39.39.9.59 1.41.59.51 0 1.02-.2 1.41-.59l7.78-7.78 2.81-2.81c.8-.78.8-2.07 0-2.86zM5.41 20L4 18.59l7.72-7.72 1.47 1.35L5.41 20z\"/>\n",
              "  </svg>\n",
              "      </button>\n",
              "      \n",
              "  <style>\n",
              "    .colab-df-container {\n",
              "      display:flex;\n",
              "      flex-wrap:wrap;\n",
              "      gap: 12px;\n",
              "    }\n",
              "\n",
              "    .colab-df-convert {\n",
              "      background-color: #E8F0FE;\n",
              "      border: none;\n",
              "      border-radius: 50%;\n",
              "      cursor: pointer;\n",
              "      display: none;\n",
              "      fill: #1967D2;\n",
              "      height: 32px;\n",
              "      padding: 0 0 0 0;\n",
              "      width: 32px;\n",
              "    }\n",
              "\n",
              "    .colab-df-convert:hover {\n",
              "      background-color: #E2EBFA;\n",
              "      box-shadow: 0px 1px 2px rgba(60, 64, 67, 0.3), 0px 1px 3px 1px rgba(60, 64, 67, 0.15);\n",
              "      fill: #174EA6;\n",
              "    }\n",
              "\n",
              "    [theme=dark] .colab-df-convert {\n",
              "      background-color: #3B4455;\n",
              "      fill: #D2E3FC;\n",
              "    }\n",
              "\n",
              "    [theme=dark] .colab-df-convert:hover {\n",
              "      background-color: #434B5C;\n",
              "      box-shadow: 0px 1px 3px 1px rgba(0, 0, 0, 0.15);\n",
              "      filter: drop-shadow(0px 1px 2px rgba(0, 0, 0, 0.3));\n",
              "      fill: #FFFFFF;\n",
              "    }\n",
              "  </style>\n",
              "\n",
              "      <script>\n",
              "        const buttonEl =\n",
              "          document.querySelector('#df-288a5d4a-ba0a-4c8b-86c9-4a1dd7fe44ed button.colab-df-convert');\n",
              "        buttonEl.style.display =\n",
              "          google.colab.kernel.accessAllowed ? 'block' : 'none';\n",
              "\n",
              "        async function convertToInteractive(key) {\n",
              "          const element = document.querySelector('#df-288a5d4a-ba0a-4c8b-86c9-4a1dd7fe44ed');\n",
              "          const dataTable =\n",
              "            await google.colab.kernel.invokeFunction('convertToInteractive',\n",
              "                                                     [key], {});\n",
              "          if (!dataTable) return;\n",
              "\n",
              "          const docLinkHtml = 'Like what you see? Visit the ' +\n",
              "            '<a target=\"_blank\" href=https://colab.research.google.com/notebooks/data_table.ipynb>data table notebook</a>'\n",
              "            + ' to learn more about interactive tables.';\n",
              "          element.innerHTML = '';\n",
              "          dataTable['output_type'] = 'display_data';\n",
              "          await google.colab.output.renderOutput(dataTable, element);\n",
              "          const docLink = document.createElement('div');\n",
              "          docLink.innerHTML = docLinkHtml;\n",
              "          element.appendChild(docLink);\n",
              "        }\n",
              "      </script>\n",
              "    </div>\n",
              "  </div>\n",
              "  "
            ]
          },
          "metadata": {},
          "execution_count": 46
        }
      ],
      "source": [
        "# Look again to the table of ratio\n",
        "\n",
        "ratio"
      ]
    },
    {
      "cell_type": "markdown",
      "metadata": {
        "id": "fI3AKzgNv85Q"
      },
      "source": [
        "**Insight:**\n",
        "- We lost most of our users at the Offers Screen stage of 48%, i.e. only 62% of users clicked on Offers from their first Home Screen."
      ]
    },
    {
      "cell_type": "markdown",
      "metadata": {
        "id": "x1oQIwlAv85Q"
      },
      "source": [
        "### What percentage of users make the entire journey from their first event to payment?"
      ]
    },
    {
      "cell_type": "code",
      "execution_count": 47,
      "metadata": {
        "colab": {
          "base_uri": "https://localhost:8080/",
          "height": 238
        },
        "id": "yKb-AHPUv85Q",
        "outputId": "9cac45e5-ddd5-4b25-f7bb-34c96e6da5a6"
      },
      "outputs": [
        {
          "output_type": "execute_result",
          "data": {
            "text/plain": [
              "                         device_id_hash\n",
              "event_name                             \n",
              "MainScreenAppear                   5601\n",
              "OffersScreenAppear                 3298\n",
              "CartScreenAppear                   2657\n",
              "PaymentScreenSuccessful            2486\n",
              "Tutorial                            399"
            ],
            "text/html": [
              "\n",
              "  <div id=\"df-71373a16-a004-4e3a-a5b5-7c36e2d11532\">\n",
              "    <div class=\"colab-df-container\">\n",
              "      <div>\n",
              "<style scoped>\n",
              "    .dataframe tbody tr th:only-of-type {\n",
              "        vertical-align: middle;\n",
              "    }\n",
              "\n",
              "    .dataframe tbody tr th {\n",
              "        vertical-align: top;\n",
              "    }\n",
              "\n",
              "    .dataframe thead th {\n",
              "        text-align: right;\n",
              "    }\n",
              "</style>\n",
              "<table border=\"1\" class=\"dataframe\">\n",
              "  <thead>\n",
              "    <tr style=\"text-align: right;\">\n",
              "      <th></th>\n",
              "      <th>device_id_hash</th>\n",
              "    </tr>\n",
              "    <tr>\n",
              "      <th>event_name</th>\n",
              "      <th></th>\n",
              "    </tr>\n",
              "  </thead>\n",
              "  <tbody>\n",
              "    <tr>\n",
              "      <th>MainScreenAppear</th>\n",
              "      <td>5601</td>\n",
              "    </tr>\n",
              "    <tr>\n",
              "      <th>OffersScreenAppear</th>\n",
              "      <td>3298</td>\n",
              "    </tr>\n",
              "    <tr>\n",
              "      <th>CartScreenAppear</th>\n",
              "      <td>2657</td>\n",
              "    </tr>\n",
              "    <tr>\n",
              "      <th>PaymentScreenSuccessful</th>\n",
              "      <td>2486</td>\n",
              "    </tr>\n",
              "    <tr>\n",
              "      <th>Tutorial</th>\n",
              "      <td>399</td>\n",
              "    </tr>\n",
              "  </tbody>\n",
              "</table>\n",
              "</div>\n",
              "      <button class=\"colab-df-convert\" onclick=\"convertToInteractive('df-71373a16-a004-4e3a-a5b5-7c36e2d11532')\"\n",
              "              title=\"Convert this dataframe to an interactive table.\"\n",
              "              style=\"display:none;\">\n",
              "        \n",
              "  <svg xmlns=\"http://www.w3.org/2000/svg\" height=\"24px\"viewBox=\"0 0 24 24\"\n",
              "       width=\"24px\">\n",
              "    <path d=\"M0 0h24v24H0V0z\" fill=\"none\"/>\n",
              "    <path d=\"M18.56 5.44l.94 2.06.94-2.06 2.06-.94-2.06-.94-.94-2.06-.94 2.06-2.06.94zm-11 1L8.5 8.5l.94-2.06 2.06-.94-2.06-.94L8.5 2.5l-.94 2.06-2.06.94zm10 10l.94 2.06.94-2.06 2.06-.94-2.06-.94-.94-2.06-.94 2.06-2.06.94z\"/><path d=\"M17.41 7.96l-1.37-1.37c-.4-.4-.92-.59-1.43-.59-.52 0-1.04.2-1.43.59L10.3 9.45l-7.72 7.72c-.78.78-.78 2.05 0 2.83L4 21.41c.39.39.9.59 1.41.59.51 0 1.02-.2 1.41-.59l7.78-7.78 2.81-2.81c.8-.78.8-2.07 0-2.86zM5.41 20L4 18.59l7.72-7.72 1.47 1.35L5.41 20z\"/>\n",
              "  </svg>\n",
              "      </button>\n",
              "      \n",
              "  <style>\n",
              "    .colab-df-container {\n",
              "      display:flex;\n",
              "      flex-wrap:wrap;\n",
              "      gap: 12px;\n",
              "    }\n",
              "\n",
              "    .colab-df-convert {\n",
              "      background-color: #E8F0FE;\n",
              "      border: none;\n",
              "      border-radius: 50%;\n",
              "      cursor: pointer;\n",
              "      display: none;\n",
              "      fill: #1967D2;\n",
              "      height: 32px;\n",
              "      padding: 0 0 0 0;\n",
              "      width: 32px;\n",
              "    }\n",
              "\n",
              "    .colab-df-convert:hover {\n",
              "      background-color: #E2EBFA;\n",
              "      box-shadow: 0px 1px 2px rgba(60, 64, 67, 0.3), 0px 1px 3px 1px rgba(60, 64, 67, 0.15);\n",
              "      fill: #174EA6;\n",
              "    }\n",
              "\n",
              "    [theme=dark] .colab-df-convert {\n",
              "      background-color: #3B4455;\n",
              "      fill: #D2E3FC;\n",
              "    }\n",
              "\n",
              "    [theme=dark] .colab-df-convert:hover {\n",
              "      background-color: #434B5C;\n",
              "      box-shadow: 0px 1px 3px 1px rgba(0, 0, 0, 0.15);\n",
              "      filter: drop-shadow(0px 1px 2px rgba(0, 0, 0, 0.3));\n",
              "      fill: #FFFFFF;\n",
              "    }\n",
              "  </style>\n",
              "\n",
              "      <script>\n",
              "        const buttonEl =\n",
              "          document.querySelector('#df-71373a16-a004-4e3a-a5b5-7c36e2d11532 button.colab-df-convert');\n",
              "        buttonEl.style.display =\n",
              "          google.colab.kernel.accessAllowed ? 'block' : 'none';\n",
              "\n",
              "        async function convertToInteractive(key) {\n",
              "          const element = document.querySelector('#df-71373a16-a004-4e3a-a5b5-7c36e2d11532');\n",
              "          const dataTable =\n",
              "            await google.colab.kernel.invokeFunction('convertToInteractive',\n",
              "                                                     [key], {});\n",
              "          if (!dataTable) return;\n",
              "\n",
              "          const docLinkHtml = 'Like what you see? Visit the ' +\n",
              "            '<a target=\"_blank\" href=https://colab.research.google.com/notebooks/data_table.ipynb>data table notebook</a>'\n",
              "            + ' to learn more about interactive tables.';\n",
              "          element.innerHTML = '';\n",
              "          dataTable['output_type'] = 'display_data';\n",
              "          await google.colab.output.renderOutput(dataTable, element);\n",
              "          const docLink = document.createElement('div');\n",
              "          docLink.innerHTML = docLinkHtml;\n",
              "          element.appendChild(docLink);\n",
              "        }\n",
              "      </script>\n",
              "    </div>\n",
              "  </div>\n",
              "  "
            ]
          },
          "metadata": {},
          "execution_count": 47
        }
      ],
      "source": [
        "# Look again to the table of users_per_event\n",
        "\n",
        "users_per_event"
      ]
    },
    {
      "cell_type": "code",
      "execution_count": 48,
      "metadata": {
        "scrolled": true,
        "colab": {
          "base_uri": "https://localhost:8080/"
        },
        "id": "j_NCkgZqv85Q",
        "outputId": "5a4a1ad2-c9fd-4b2c-9be7-bba68bb4b7df"
      },
      "outputs": [
        {
          "output_type": "stream",
          "name": "stdout",
          "text": [
            "The percentage of users who make the entire journey from the first event to the checkout stage is 44.38%\n"
          ]
        }
      ],
      "source": [
        "# Calculate the percentage of users make the entire journey from their first event to payment\n",
        "\n",
        "percent = ((users_per_event.loc['PaymentScreenSuccessful'] / users_per_event.loc['MainScreenAppear']\n",
        "           )['device_id_hash']) * 100\n",
        "\n",
        "print(f'The percentage of users who make the entire journey from the first event to the checkout stage is \\\n",
        "{round(percent, 2)}%')"
      ]
    },
    {
      "cell_type": "markdown",
      "metadata": {
        "id": "S3YdfTe5v85Q"
      },
      "source": [
        "**Findings:**\n",
        "- The percentage of users who make the entire journey from the first event to the checkout stage is 47.7%.\n",
        "\n",
        "**Insights:**\n",
        "- We cannot assume that 47.7% is good or not because there is no data comparison from other months."
      ]
    },
    {
      "cell_type": "markdown",
      "metadata": {
        "id": "Crj-DEjsv85R"
      },
      "source": [
        "### Conclusion of Event Funnel Analysis"
      ]
    },
    {
      "cell_type": "markdown",
      "metadata": {
        "id": "4FYMOHFNv85R"
      },
      "source": [
        "- We have five events in the logs, which are:\n",
        "    1. Main Screen Appear of 119101 logs\n",
        "    2. Offers Screen Appear of 46808 logs\n",
        "    3. Cart Screen Appear of 42668 logs\n",
        "    4. Payment Screen Successful of 34118 logs\n",
        "    5. Tutorial of 1018 logs\n",
        "    \n",
        "    \n",
        "- We have 7543 users in the logs, with the detail of actions they have performed are:\n",
        "    1. 0.98% of users in the logs has performed on event of Main Screen Appear.\n",
        "    2. 0.61% of users in the logs has performed on event of Offers Screen Appear.\n",
        "    3. 0.50% of users in the logs has performed on event of Cart Screen Appear.\n",
        "    4. 0.47% of users in the logs has performed on event of Payment Screen Successful.\n",
        "    5. 0.11% of users in the logs has performed on event of Tutorial. \n",
        "\n",
        "\n",
        "- Of the 5 events in the log, in our opinion the sequence of events starts from the Main Screen event when the user first visits the application, followed by clicking the Offers Screen menu, then clicking Cart Screen, and finally Payment Screen Successful to complete the order. Meanwhile, Tutorial events are unrelated to the sequence of events. \n",
        "- Then, we exclude Tutorials for further analysis.\n",
        "\n",
        "\n",
        "- The ratio of users to clicking the Offers Screen is 62% once they are on the Home Screen.\n",
        "- The ratio of users to adding products to the Cart Screen is 81% after they click on the Offer Screen.\n",
        "- The ratio of users to complete payments is 95% of users who add products to Cart.\n",
        "- We lost most of our users at the Offers Screen stage of 48%, i.e. only 62% of users clicked on Offers from their first Home Screen.\n",
        "\n",
        "\n",
        "- The percentage of users who make the entire journey from the first event to the checkout stage is 47.7%. We cannot assume that is good or not because there is no data comparison from other months."
      ]
    },
    {
      "cell_type": "markdown",
      "metadata": {
        "id": "qy1yUX-jv85R"
      },
      "source": [
        "## Analysis of Experimental Results"
      ]
    },
    {
      "cell_type": "markdown",
      "metadata": {
        "id": "eN9HcLN4v85R"
      },
      "source": [
        "### How many users are there in each group?"
      ]
    },
    {
      "cell_type": "code",
      "execution_count": 49,
      "metadata": {
        "colab": {
          "base_uri": "https://localhost:8080/",
          "height": 206
        },
        "id": "RSbAVdxBv85R",
        "outputId": "cfcfccd8-84e1-4658-9687-47e3d6368c96"
      },
      "outputs": [
        {
          "output_type": "execute_result",
          "data": {
            "text/plain": [
              "              event_name       device_id_hash  event_timestamp  exp_id  \\\n",
              "2826            Tutorial  3737462046622621720     1.564618e+09   246.0   \n",
              "2827    MainScreenAppear  3737462046622621720     1.564618e+09   246.0   \n",
              "2828    MainScreenAppear  3737462046622621720     1.564618e+09   246.0   \n",
              "2829  OffersScreenAppear  3737462046622621720     1.564618e+09   246.0   \n",
              "2830    MainScreenAppear  1433840883824088890     1.564618e+09   247.0   \n",
              "\n",
              "               date_time       date  \n",
              "2826 2019-08-01 00:07:28 2019-08-01  \n",
              "2827 2019-08-01 00:08:00 2019-08-01  \n",
              "2828 2019-08-01 00:08:55 2019-08-01  \n",
              "2829 2019-08-01 00:08:58 2019-08-01  \n",
              "2830 2019-08-01 00:08:59 2019-08-01  "
            ],
            "text/html": [
              "\n",
              "  <div id=\"df-ff3095b8-e44f-4aea-90c3-7671a3c020b3\">\n",
              "    <div class=\"colab-df-container\">\n",
              "      <div>\n",
              "<style scoped>\n",
              "    .dataframe tbody tr th:only-of-type {\n",
              "        vertical-align: middle;\n",
              "    }\n",
              "\n",
              "    .dataframe tbody tr th {\n",
              "        vertical-align: top;\n",
              "    }\n",
              "\n",
              "    .dataframe thead th {\n",
              "        text-align: right;\n",
              "    }\n",
              "</style>\n",
              "<table border=\"1\" class=\"dataframe\">\n",
              "  <thead>\n",
              "    <tr style=\"text-align: right;\">\n",
              "      <th></th>\n",
              "      <th>event_name</th>\n",
              "      <th>device_id_hash</th>\n",
              "      <th>event_timestamp</th>\n",
              "      <th>exp_id</th>\n",
              "      <th>date_time</th>\n",
              "      <th>date</th>\n",
              "    </tr>\n",
              "  </thead>\n",
              "  <tbody>\n",
              "    <tr>\n",
              "      <th>2826</th>\n",
              "      <td>Tutorial</td>\n",
              "      <td>3737462046622621720</td>\n",
              "      <td>1.564618e+09</td>\n",
              "      <td>246.0</td>\n",
              "      <td>2019-08-01 00:07:28</td>\n",
              "      <td>2019-08-01</td>\n",
              "    </tr>\n",
              "    <tr>\n",
              "      <th>2827</th>\n",
              "      <td>MainScreenAppear</td>\n",
              "      <td>3737462046622621720</td>\n",
              "      <td>1.564618e+09</td>\n",
              "      <td>246.0</td>\n",
              "      <td>2019-08-01 00:08:00</td>\n",
              "      <td>2019-08-01</td>\n",
              "    </tr>\n",
              "    <tr>\n",
              "      <th>2828</th>\n",
              "      <td>MainScreenAppear</td>\n",
              "      <td>3737462046622621720</td>\n",
              "      <td>1.564618e+09</td>\n",
              "      <td>246.0</td>\n",
              "      <td>2019-08-01 00:08:55</td>\n",
              "      <td>2019-08-01</td>\n",
              "    </tr>\n",
              "    <tr>\n",
              "      <th>2829</th>\n",
              "      <td>OffersScreenAppear</td>\n",
              "      <td>3737462046622621720</td>\n",
              "      <td>1.564618e+09</td>\n",
              "      <td>246.0</td>\n",
              "      <td>2019-08-01 00:08:58</td>\n",
              "      <td>2019-08-01</td>\n",
              "    </tr>\n",
              "    <tr>\n",
              "      <th>2830</th>\n",
              "      <td>MainScreenAppear</td>\n",
              "      <td>1433840883824088890</td>\n",
              "      <td>1.564618e+09</td>\n",
              "      <td>247.0</td>\n",
              "      <td>2019-08-01 00:08:59</td>\n",
              "      <td>2019-08-01</td>\n",
              "    </tr>\n",
              "  </tbody>\n",
              "</table>\n",
              "</div>\n",
              "      <button class=\"colab-df-convert\" onclick=\"convertToInteractive('df-ff3095b8-e44f-4aea-90c3-7671a3c020b3')\"\n",
              "              title=\"Convert this dataframe to an interactive table.\"\n",
              "              style=\"display:none;\">\n",
              "        \n",
              "  <svg xmlns=\"http://www.w3.org/2000/svg\" height=\"24px\"viewBox=\"0 0 24 24\"\n",
              "       width=\"24px\">\n",
              "    <path d=\"M0 0h24v24H0V0z\" fill=\"none\"/>\n",
              "    <path d=\"M18.56 5.44l.94 2.06.94-2.06 2.06-.94-2.06-.94-.94-2.06-.94 2.06-2.06.94zm-11 1L8.5 8.5l.94-2.06 2.06-.94-2.06-.94L8.5 2.5l-.94 2.06-2.06.94zm10 10l.94 2.06.94-2.06 2.06-.94-2.06-.94-.94-2.06-.94 2.06-2.06.94z\"/><path d=\"M17.41 7.96l-1.37-1.37c-.4-.4-.92-.59-1.43-.59-.52 0-1.04.2-1.43.59L10.3 9.45l-7.72 7.72c-.78.78-.78 2.05 0 2.83L4 21.41c.39.39.9.59 1.41.59.51 0 1.02-.2 1.41-.59l7.78-7.78 2.81-2.81c.8-.78.8-2.07 0-2.86zM5.41 20L4 18.59l7.72-7.72 1.47 1.35L5.41 20z\"/>\n",
              "  </svg>\n",
              "      </button>\n",
              "      \n",
              "  <style>\n",
              "    .colab-df-container {\n",
              "      display:flex;\n",
              "      flex-wrap:wrap;\n",
              "      gap: 12px;\n",
              "    }\n",
              "\n",
              "    .colab-df-convert {\n",
              "      background-color: #E8F0FE;\n",
              "      border: none;\n",
              "      border-radius: 50%;\n",
              "      cursor: pointer;\n",
              "      display: none;\n",
              "      fill: #1967D2;\n",
              "      height: 32px;\n",
              "      padding: 0 0 0 0;\n",
              "      width: 32px;\n",
              "    }\n",
              "\n",
              "    .colab-df-convert:hover {\n",
              "      background-color: #E2EBFA;\n",
              "      box-shadow: 0px 1px 2px rgba(60, 64, 67, 0.3), 0px 1px 3px 1px rgba(60, 64, 67, 0.15);\n",
              "      fill: #174EA6;\n",
              "    }\n",
              "\n",
              "    [theme=dark] .colab-df-convert {\n",
              "      background-color: #3B4455;\n",
              "      fill: #D2E3FC;\n",
              "    }\n",
              "\n",
              "    [theme=dark] .colab-df-convert:hover {\n",
              "      background-color: #434B5C;\n",
              "      box-shadow: 0px 1px 3px 1px rgba(0, 0, 0, 0.15);\n",
              "      filter: drop-shadow(0px 1px 2px rgba(0, 0, 0, 0.3));\n",
              "      fill: #FFFFFF;\n",
              "    }\n",
              "  </style>\n",
              "\n",
              "      <script>\n",
              "        const buttonEl =\n",
              "          document.querySelector('#df-ff3095b8-e44f-4aea-90c3-7671a3c020b3 button.colab-df-convert');\n",
              "        buttonEl.style.display =\n",
              "          google.colab.kernel.accessAllowed ? 'block' : 'none';\n",
              "\n",
              "        async function convertToInteractive(key) {\n",
              "          const element = document.querySelector('#df-ff3095b8-e44f-4aea-90c3-7671a3c020b3');\n",
              "          const dataTable =\n",
              "            await google.colab.kernel.invokeFunction('convertToInteractive',\n",
              "                                                     [key], {});\n",
              "          if (!dataTable) return;\n",
              "\n",
              "          const docLinkHtml = 'Like what you see? Visit the ' +\n",
              "            '<a target=\"_blank\" href=https://colab.research.google.com/notebooks/data_table.ipynb>data table notebook</a>'\n",
              "            + ' to learn more about interactive tables.';\n",
              "          element.innerHTML = '';\n",
              "          dataTable['output_type'] = 'display_data';\n",
              "          await google.colab.output.renderOutput(dataTable, element);\n",
              "          const docLink = document.createElement('div');\n",
              "          docLink.innerHTML = docLinkHtml;\n",
              "          element.appendChild(docLink);\n",
              "        }\n",
              "      </script>\n",
              "    </div>\n",
              "  </div>\n",
              "  "
            ]
          },
          "metadata": {},
          "execution_count": 49
        }
      ],
      "source": [
        "# Look again to the table of df_filt\n",
        "\n",
        "df_filt.head()"
      ]
    },
    {
      "cell_type": "code",
      "execution_count": 50,
      "metadata": {
        "colab": {
          "base_uri": "https://localhost:8080/",
          "height": 175
        },
        "id": "7gycYI5qv85R",
        "outputId": "a5f968a0-6439-46e5-cf5b-25c4548f57cf"
      },
      "outputs": [
        {
          "output_type": "execute_result",
          "data": {
            "text/plain": [
              "        device_id_hash\n",
              "exp_id                \n",
              "246.0             1894\n",
              "247.0             1951\n",
              "248.0             1919"
            ],
            "text/html": [
              "\n",
              "  <div id=\"df-eccd422c-b6fb-4b24-8cdc-81ba6eb9f95f\">\n",
              "    <div class=\"colab-df-container\">\n",
              "      <div>\n",
              "<style scoped>\n",
              "    .dataframe tbody tr th:only-of-type {\n",
              "        vertical-align: middle;\n",
              "    }\n",
              "\n",
              "    .dataframe tbody tr th {\n",
              "        vertical-align: top;\n",
              "    }\n",
              "\n",
              "    .dataframe thead th {\n",
              "        text-align: right;\n",
              "    }\n",
              "</style>\n",
              "<table border=\"1\" class=\"dataframe\">\n",
              "  <thead>\n",
              "    <tr style=\"text-align: right;\">\n",
              "      <th></th>\n",
              "      <th>device_id_hash</th>\n",
              "    </tr>\n",
              "    <tr>\n",
              "      <th>exp_id</th>\n",
              "      <th></th>\n",
              "    </tr>\n",
              "  </thead>\n",
              "  <tbody>\n",
              "    <tr>\n",
              "      <th>246.0</th>\n",
              "      <td>1894</td>\n",
              "    </tr>\n",
              "    <tr>\n",
              "      <th>247.0</th>\n",
              "      <td>1951</td>\n",
              "    </tr>\n",
              "    <tr>\n",
              "      <th>248.0</th>\n",
              "      <td>1919</td>\n",
              "    </tr>\n",
              "  </tbody>\n",
              "</table>\n",
              "</div>\n",
              "      <button class=\"colab-df-convert\" onclick=\"convertToInteractive('df-eccd422c-b6fb-4b24-8cdc-81ba6eb9f95f')\"\n",
              "              title=\"Convert this dataframe to an interactive table.\"\n",
              "              style=\"display:none;\">\n",
              "        \n",
              "  <svg xmlns=\"http://www.w3.org/2000/svg\" height=\"24px\"viewBox=\"0 0 24 24\"\n",
              "       width=\"24px\">\n",
              "    <path d=\"M0 0h24v24H0V0z\" fill=\"none\"/>\n",
              "    <path d=\"M18.56 5.44l.94 2.06.94-2.06 2.06-.94-2.06-.94-.94-2.06-.94 2.06-2.06.94zm-11 1L8.5 8.5l.94-2.06 2.06-.94-2.06-.94L8.5 2.5l-.94 2.06-2.06.94zm10 10l.94 2.06.94-2.06 2.06-.94-2.06-.94-.94-2.06-.94 2.06-2.06.94z\"/><path d=\"M17.41 7.96l-1.37-1.37c-.4-.4-.92-.59-1.43-.59-.52 0-1.04.2-1.43.59L10.3 9.45l-7.72 7.72c-.78.78-.78 2.05 0 2.83L4 21.41c.39.39.9.59 1.41.59.51 0 1.02-.2 1.41-.59l7.78-7.78 2.81-2.81c.8-.78.8-2.07 0-2.86zM5.41 20L4 18.59l7.72-7.72 1.47 1.35L5.41 20z\"/>\n",
              "  </svg>\n",
              "      </button>\n",
              "      \n",
              "  <style>\n",
              "    .colab-df-container {\n",
              "      display:flex;\n",
              "      flex-wrap:wrap;\n",
              "      gap: 12px;\n",
              "    }\n",
              "\n",
              "    .colab-df-convert {\n",
              "      background-color: #E8F0FE;\n",
              "      border: none;\n",
              "      border-radius: 50%;\n",
              "      cursor: pointer;\n",
              "      display: none;\n",
              "      fill: #1967D2;\n",
              "      height: 32px;\n",
              "      padding: 0 0 0 0;\n",
              "      width: 32px;\n",
              "    }\n",
              "\n",
              "    .colab-df-convert:hover {\n",
              "      background-color: #E2EBFA;\n",
              "      box-shadow: 0px 1px 2px rgba(60, 64, 67, 0.3), 0px 1px 3px 1px rgba(60, 64, 67, 0.15);\n",
              "      fill: #174EA6;\n",
              "    }\n",
              "\n",
              "    [theme=dark] .colab-df-convert {\n",
              "      background-color: #3B4455;\n",
              "      fill: #D2E3FC;\n",
              "    }\n",
              "\n",
              "    [theme=dark] .colab-df-convert:hover {\n",
              "      background-color: #434B5C;\n",
              "      box-shadow: 0px 1px 3px 1px rgba(0, 0, 0, 0.15);\n",
              "      filter: drop-shadow(0px 1px 2px rgba(0, 0, 0, 0.3));\n",
              "      fill: #FFFFFF;\n",
              "    }\n",
              "  </style>\n",
              "\n",
              "      <script>\n",
              "        const buttonEl =\n",
              "          document.querySelector('#df-eccd422c-b6fb-4b24-8cdc-81ba6eb9f95f button.colab-df-convert');\n",
              "        buttonEl.style.display =\n",
              "          google.colab.kernel.accessAllowed ? 'block' : 'none';\n",
              "\n",
              "        async function convertToInteractive(key) {\n",
              "          const element = document.querySelector('#df-eccd422c-b6fb-4b24-8cdc-81ba6eb9f95f');\n",
              "          const dataTable =\n",
              "            await google.colab.kernel.invokeFunction('convertToInteractive',\n",
              "                                                     [key], {});\n",
              "          if (!dataTable) return;\n",
              "\n",
              "          const docLinkHtml = 'Like what you see? Visit the ' +\n",
              "            '<a target=\"_blank\" href=https://colab.research.google.com/notebooks/data_table.ipynb>data table notebook</a>'\n",
              "            + ' to learn more about interactive tables.';\n",
              "          element.innerHTML = '';\n",
              "          dataTable['output_type'] = 'display_data';\n",
              "          await google.colab.output.renderOutput(dataTable, element);\n",
              "          const docLink = document.createElement('div');\n",
              "          docLink.innerHTML = docLinkHtml;\n",
              "          element.appendChild(docLink);\n",
              "        }\n",
              "      </script>\n",
              "    </div>\n",
              "  </div>\n",
              "  "
            ]
          },
          "metadata": {},
          "execution_count": 50
        }
      ],
      "source": [
        "# Grouping unique users of each group\n",
        "\n",
        "user_per_group = df_filt.pivot_table(index='exp_id', values='device_id_hash', aggfunc='nunique')\n",
        "user_per_group"
      ]
    },
    {
      "cell_type": "markdown",
      "metadata": {
        "id": "4V_8mMrXv85R"
      },
      "source": [
        "**Findings:**\n",
        "- There are 2484 users in group 246, 2513 users in group 247 and 2537 users in group 248."
      ]
    },
    {
      "cell_type": "markdown",
      "metadata": {
        "id": "y5WmEBWAv85R"
      },
      "source": [
        "### We have two control groups in A/A testing, where we check our mechanics and calculations. \n",
        "- See if there is a statistically significant difference between samples 246 and 247."
      ]
    },
    {
      "cell_type": "markdown",
      "metadata": {
        "id": "Hh-pvRncv85R"
      },
      "source": [
        "**Formulation of Hypothesis testing**\n",
        "\n",
        "- The significance level / \"alpha\" value to be used = 0.01\n",
        "- We will use the Z-Test Statistics approach.\n",
        "- Ho = The proportion between group samples was statistically the same (=)\n",
        "- H1 = the proportion between group samples was statistically significant not the same (/=)"
      ]
    },
    {
      "cell_type": "code",
      "execution_count": 51,
      "metadata": {
        "id": "p_N2bpY2v85R"
      },
      "outputs": [],
      "source": [
        "# Define a formula for check a statistically significant difference between group samples\n",
        "\n",
        "def check_hypothesis(successes1, successes2, trials1, trials2, alpha=0.01):\n",
        "    # proportion of successes in the first group:\n",
        "    p1 = successes1/trials1\n",
        "\n",
        "    # proportion of successes in the second group:\n",
        "    p2 = successes2/trials2\n",
        "\n",
        "    # proportion of successes in the combined dataset:\n",
        "    p_combined = (successes1 + successes2) / (trials1 + trials2)\n",
        "\n",
        "    # difference in proportions in datasets\n",
        "    difference = p1 - p2\n",
        "\n",
        "    # calculate statistics in standard deviations of the standard normal distribution\n",
        "    z_value = difference / math.sqrt(p_combined * (1 - p_combined) * (1/trials1 + 1/trials2))\n",
        "\n",
        "    # set standard normal distribution (mean 0, standard deviation 1)\n",
        "    distr = stats.norm(0, 1)\n",
        "\n",
        "    # calculate statistics in standard deviations of the standard normal distribution\n",
        "    z_value = difference / math.sqrt(p_combined * (1 - p_combined) * (1/trials1 + 1/trials2))\n",
        "\n",
        "\n",
        "    p_value = (1 - distr.cdf(abs(z_value))) * 2\n",
        "\n",
        "    print('p-value: ', p_value)\n",
        "\n",
        "    if (p_value < alpha):\n",
        "        print(\"Reject the null hypothesis: there is a significant difference between the shares\")\n",
        "    else:\n",
        "        print(\"Failed to reject the null hypothesis, there is no reason to consider the shares different\")"
      ]
    },
    {
      "cell_type": "markdown",
      "metadata": {
        "id": "n2tsdVvRv85R"
      },
      "source": [
        "**Insights:**\n",
        "- To answer this question, we will examine statistically significant differences between sample groups in the following question."
      ]
    },
    {
      "cell_type": "markdown",
      "metadata": {
        "id": "yyl4R-7zv85R"
      },
      "source": [
        "### Select the most popular events. \n",
        "- In each control group, find the number of users who performed the action. Find the percentage. \n",
        "- Check whether the differences between groups are statistically significant. \n",
        "- Repeat this procedure for all other events (it will save time if you can create a custom function to perform this test).\n",
        "- Can you confirm if the groups are properly split?"
      ]
    },
    {
      "cell_type": "code",
      "execution_count": 52,
      "metadata": {
        "colab": {
          "base_uri": "https://localhost:8080/",
          "height": 206
        },
        "id": "iFM3Ggs1v85R",
        "outputId": "5bc9f0da-8498-4ce0-84a2-675b3722d871"
      },
      "outputs": [
        {
          "output_type": "execute_result",
          "data": {
            "text/plain": [
              "              event_name       device_id_hash  event_timestamp  exp_id  \\\n",
              "2826            Tutorial  3737462046622621720     1.564618e+09   246.0   \n",
              "2827    MainScreenAppear  3737462046622621720     1.564618e+09   246.0   \n",
              "2828    MainScreenAppear  3737462046622621720     1.564618e+09   246.0   \n",
              "2829  OffersScreenAppear  3737462046622621720     1.564618e+09   246.0   \n",
              "2830    MainScreenAppear  1433840883824088890     1.564618e+09   247.0   \n",
              "\n",
              "               date_time       date  \n",
              "2826 2019-08-01 00:07:28 2019-08-01  \n",
              "2827 2019-08-01 00:08:00 2019-08-01  \n",
              "2828 2019-08-01 00:08:55 2019-08-01  \n",
              "2829 2019-08-01 00:08:58 2019-08-01  \n",
              "2830 2019-08-01 00:08:59 2019-08-01  "
            ],
            "text/html": [
              "\n",
              "  <div id=\"df-c75d3f2a-ef8d-4a90-aee3-18436109e809\">\n",
              "    <div class=\"colab-df-container\">\n",
              "      <div>\n",
              "<style scoped>\n",
              "    .dataframe tbody tr th:only-of-type {\n",
              "        vertical-align: middle;\n",
              "    }\n",
              "\n",
              "    .dataframe tbody tr th {\n",
              "        vertical-align: top;\n",
              "    }\n",
              "\n",
              "    .dataframe thead th {\n",
              "        text-align: right;\n",
              "    }\n",
              "</style>\n",
              "<table border=\"1\" class=\"dataframe\">\n",
              "  <thead>\n",
              "    <tr style=\"text-align: right;\">\n",
              "      <th></th>\n",
              "      <th>event_name</th>\n",
              "      <th>device_id_hash</th>\n",
              "      <th>event_timestamp</th>\n",
              "      <th>exp_id</th>\n",
              "      <th>date_time</th>\n",
              "      <th>date</th>\n",
              "    </tr>\n",
              "  </thead>\n",
              "  <tbody>\n",
              "    <tr>\n",
              "      <th>2826</th>\n",
              "      <td>Tutorial</td>\n",
              "      <td>3737462046622621720</td>\n",
              "      <td>1.564618e+09</td>\n",
              "      <td>246.0</td>\n",
              "      <td>2019-08-01 00:07:28</td>\n",
              "      <td>2019-08-01</td>\n",
              "    </tr>\n",
              "    <tr>\n",
              "      <th>2827</th>\n",
              "      <td>MainScreenAppear</td>\n",
              "      <td>3737462046622621720</td>\n",
              "      <td>1.564618e+09</td>\n",
              "      <td>246.0</td>\n",
              "      <td>2019-08-01 00:08:00</td>\n",
              "      <td>2019-08-01</td>\n",
              "    </tr>\n",
              "    <tr>\n",
              "      <th>2828</th>\n",
              "      <td>MainScreenAppear</td>\n",
              "      <td>3737462046622621720</td>\n",
              "      <td>1.564618e+09</td>\n",
              "      <td>246.0</td>\n",
              "      <td>2019-08-01 00:08:55</td>\n",
              "      <td>2019-08-01</td>\n",
              "    </tr>\n",
              "    <tr>\n",
              "      <th>2829</th>\n",
              "      <td>OffersScreenAppear</td>\n",
              "      <td>3737462046622621720</td>\n",
              "      <td>1.564618e+09</td>\n",
              "      <td>246.0</td>\n",
              "      <td>2019-08-01 00:08:58</td>\n",
              "      <td>2019-08-01</td>\n",
              "    </tr>\n",
              "    <tr>\n",
              "      <th>2830</th>\n",
              "      <td>MainScreenAppear</td>\n",
              "      <td>1433840883824088890</td>\n",
              "      <td>1.564618e+09</td>\n",
              "      <td>247.0</td>\n",
              "      <td>2019-08-01 00:08:59</td>\n",
              "      <td>2019-08-01</td>\n",
              "    </tr>\n",
              "  </tbody>\n",
              "</table>\n",
              "</div>\n",
              "      <button class=\"colab-df-convert\" onclick=\"convertToInteractive('df-c75d3f2a-ef8d-4a90-aee3-18436109e809')\"\n",
              "              title=\"Convert this dataframe to an interactive table.\"\n",
              "              style=\"display:none;\">\n",
              "        \n",
              "  <svg xmlns=\"http://www.w3.org/2000/svg\" height=\"24px\"viewBox=\"0 0 24 24\"\n",
              "       width=\"24px\">\n",
              "    <path d=\"M0 0h24v24H0V0z\" fill=\"none\"/>\n",
              "    <path d=\"M18.56 5.44l.94 2.06.94-2.06 2.06-.94-2.06-.94-.94-2.06-.94 2.06-2.06.94zm-11 1L8.5 8.5l.94-2.06 2.06-.94-2.06-.94L8.5 2.5l-.94 2.06-2.06.94zm10 10l.94 2.06.94-2.06 2.06-.94-2.06-.94-.94-2.06-.94 2.06-2.06.94z\"/><path d=\"M17.41 7.96l-1.37-1.37c-.4-.4-.92-.59-1.43-.59-.52 0-1.04.2-1.43.59L10.3 9.45l-7.72 7.72c-.78.78-.78 2.05 0 2.83L4 21.41c.39.39.9.59 1.41.59.51 0 1.02-.2 1.41-.59l7.78-7.78 2.81-2.81c.8-.78.8-2.07 0-2.86zM5.41 20L4 18.59l7.72-7.72 1.47 1.35L5.41 20z\"/>\n",
              "  </svg>\n",
              "      </button>\n",
              "      \n",
              "  <style>\n",
              "    .colab-df-container {\n",
              "      display:flex;\n",
              "      flex-wrap:wrap;\n",
              "      gap: 12px;\n",
              "    }\n",
              "\n",
              "    .colab-df-convert {\n",
              "      background-color: #E8F0FE;\n",
              "      border: none;\n",
              "      border-radius: 50%;\n",
              "      cursor: pointer;\n",
              "      display: none;\n",
              "      fill: #1967D2;\n",
              "      height: 32px;\n",
              "      padding: 0 0 0 0;\n",
              "      width: 32px;\n",
              "    }\n",
              "\n",
              "    .colab-df-convert:hover {\n",
              "      background-color: #E2EBFA;\n",
              "      box-shadow: 0px 1px 2px rgba(60, 64, 67, 0.3), 0px 1px 3px 1px rgba(60, 64, 67, 0.15);\n",
              "      fill: #174EA6;\n",
              "    }\n",
              "\n",
              "    [theme=dark] .colab-df-convert {\n",
              "      background-color: #3B4455;\n",
              "      fill: #D2E3FC;\n",
              "    }\n",
              "\n",
              "    [theme=dark] .colab-df-convert:hover {\n",
              "      background-color: #434B5C;\n",
              "      box-shadow: 0px 1px 3px 1px rgba(0, 0, 0, 0.15);\n",
              "      filter: drop-shadow(0px 1px 2px rgba(0, 0, 0, 0.3));\n",
              "      fill: #FFFFFF;\n",
              "    }\n",
              "  </style>\n",
              "\n",
              "      <script>\n",
              "        const buttonEl =\n",
              "          document.querySelector('#df-c75d3f2a-ef8d-4a90-aee3-18436109e809 button.colab-df-convert');\n",
              "        buttonEl.style.display =\n",
              "          google.colab.kernel.accessAllowed ? 'block' : 'none';\n",
              "\n",
              "        async function convertToInteractive(key) {\n",
              "          const element = document.querySelector('#df-c75d3f2a-ef8d-4a90-aee3-18436109e809');\n",
              "          const dataTable =\n",
              "            await google.colab.kernel.invokeFunction('convertToInteractive',\n",
              "                                                     [key], {});\n",
              "          if (!dataTable) return;\n",
              "\n",
              "          const docLinkHtml = 'Like what you see? Visit the ' +\n",
              "            '<a target=\"_blank\" href=https://colab.research.google.com/notebooks/data_table.ipynb>data table notebook</a>'\n",
              "            + ' to learn more about interactive tables.';\n",
              "          element.innerHTML = '';\n",
              "          dataTable['output_type'] = 'display_data';\n",
              "          await google.colab.output.renderOutput(dataTable, element);\n",
              "          const docLink = document.createElement('div');\n",
              "          docLink.innerHTML = docLinkHtml;\n",
              "          element.appendChild(docLink);\n",
              "        }\n",
              "      </script>\n",
              "    </div>\n",
              "  </div>\n",
              "  "
            ]
          },
          "metadata": {},
          "execution_count": 52
        }
      ],
      "source": [
        "# Look again to the table of df_filt\n",
        "\n",
        "df_filt.head()"
      ]
    },
    {
      "cell_type": "code",
      "execution_count": 53,
      "metadata": {
        "colab": {
          "base_uri": "https://localhost:8080/",
          "height": 238
        },
        "id": "-vTRxUEPv85R",
        "outputId": "8d093bf5-fe89-4f3e-8fbf-4e2129aec61a"
      },
      "outputs": [
        {
          "output_type": "execute_result",
          "data": {
            "text/plain": [
              "exp_id                   246.0  247.0  248.0\n",
              "event_name                                  \n",
              "CartScreenAppear           891    885    881\n",
              "MainScreenAppear          1842   1889   1870\n",
              "OffersScreenAppear        1099   1102   1097\n",
              "PaymentScreenSuccessful    845    813    828\n",
              "Tutorial                   133    140    126"
            ],
            "text/html": [
              "\n",
              "  <div id=\"df-5973c03d-ef94-404a-a15e-2cb1e7dbd70f\">\n",
              "    <div class=\"colab-df-container\">\n",
              "      <div>\n",
              "<style scoped>\n",
              "    .dataframe tbody tr th:only-of-type {\n",
              "        vertical-align: middle;\n",
              "    }\n",
              "\n",
              "    .dataframe tbody tr th {\n",
              "        vertical-align: top;\n",
              "    }\n",
              "\n",
              "    .dataframe thead th {\n",
              "        text-align: right;\n",
              "    }\n",
              "</style>\n",
              "<table border=\"1\" class=\"dataframe\">\n",
              "  <thead>\n",
              "    <tr style=\"text-align: right;\">\n",
              "      <th>exp_id</th>\n",
              "      <th>246.0</th>\n",
              "      <th>247.0</th>\n",
              "      <th>248.0</th>\n",
              "    </tr>\n",
              "    <tr>\n",
              "      <th>event_name</th>\n",
              "      <th></th>\n",
              "      <th></th>\n",
              "      <th></th>\n",
              "    </tr>\n",
              "  </thead>\n",
              "  <tbody>\n",
              "    <tr>\n",
              "      <th>CartScreenAppear</th>\n",
              "      <td>891</td>\n",
              "      <td>885</td>\n",
              "      <td>881</td>\n",
              "    </tr>\n",
              "    <tr>\n",
              "      <th>MainScreenAppear</th>\n",
              "      <td>1842</td>\n",
              "      <td>1889</td>\n",
              "      <td>1870</td>\n",
              "    </tr>\n",
              "    <tr>\n",
              "      <th>OffersScreenAppear</th>\n",
              "      <td>1099</td>\n",
              "      <td>1102</td>\n",
              "      <td>1097</td>\n",
              "    </tr>\n",
              "    <tr>\n",
              "      <th>PaymentScreenSuccessful</th>\n",
              "      <td>845</td>\n",
              "      <td>813</td>\n",
              "      <td>828</td>\n",
              "    </tr>\n",
              "    <tr>\n",
              "      <th>Tutorial</th>\n",
              "      <td>133</td>\n",
              "      <td>140</td>\n",
              "      <td>126</td>\n",
              "    </tr>\n",
              "  </tbody>\n",
              "</table>\n",
              "</div>\n",
              "      <button class=\"colab-df-convert\" onclick=\"convertToInteractive('df-5973c03d-ef94-404a-a15e-2cb1e7dbd70f')\"\n",
              "              title=\"Convert this dataframe to an interactive table.\"\n",
              "              style=\"display:none;\">\n",
              "        \n",
              "  <svg xmlns=\"http://www.w3.org/2000/svg\" height=\"24px\"viewBox=\"0 0 24 24\"\n",
              "       width=\"24px\">\n",
              "    <path d=\"M0 0h24v24H0V0z\" fill=\"none\"/>\n",
              "    <path d=\"M18.56 5.44l.94 2.06.94-2.06 2.06-.94-2.06-.94-.94-2.06-.94 2.06-2.06.94zm-11 1L8.5 8.5l.94-2.06 2.06-.94-2.06-.94L8.5 2.5l-.94 2.06-2.06.94zm10 10l.94 2.06.94-2.06 2.06-.94-2.06-.94-.94-2.06-.94 2.06-2.06.94z\"/><path d=\"M17.41 7.96l-1.37-1.37c-.4-.4-.92-.59-1.43-.59-.52 0-1.04.2-1.43.59L10.3 9.45l-7.72 7.72c-.78.78-.78 2.05 0 2.83L4 21.41c.39.39.9.59 1.41.59.51 0 1.02-.2 1.41-.59l7.78-7.78 2.81-2.81c.8-.78.8-2.07 0-2.86zM5.41 20L4 18.59l7.72-7.72 1.47 1.35L5.41 20z\"/>\n",
              "  </svg>\n",
              "      </button>\n",
              "      \n",
              "  <style>\n",
              "    .colab-df-container {\n",
              "      display:flex;\n",
              "      flex-wrap:wrap;\n",
              "      gap: 12px;\n",
              "    }\n",
              "\n",
              "    .colab-df-convert {\n",
              "      background-color: #E8F0FE;\n",
              "      border: none;\n",
              "      border-radius: 50%;\n",
              "      cursor: pointer;\n",
              "      display: none;\n",
              "      fill: #1967D2;\n",
              "      height: 32px;\n",
              "      padding: 0 0 0 0;\n",
              "      width: 32px;\n",
              "    }\n",
              "\n",
              "    .colab-df-convert:hover {\n",
              "      background-color: #E2EBFA;\n",
              "      box-shadow: 0px 1px 2px rgba(60, 64, 67, 0.3), 0px 1px 3px 1px rgba(60, 64, 67, 0.15);\n",
              "      fill: #174EA6;\n",
              "    }\n",
              "\n",
              "    [theme=dark] .colab-df-convert {\n",
              "      background-color: #3B4455;\n",
              "      fill: #D2E3FC;\n",
              "    }\n",
              "\n",
              "    [theme=dark] .colab-df-convert:hover {\n",
              "      background-color: #434B5C;\n",
              "      box-shadow: 0px 1px 3px 1px rgba(0, 0, 0, 0.15);\n",
              "      filter: drop-shadow(0px 1px 2px rgba(0, 0, 0, 0.3));\n",
              "      fill: #FFFFFF;\n",
              "    }\n",
              "  </style>\n",
              "\n",
              "      <script>\n",
              "        const buttonEl =\n",
              "          document.querySelector('#df-5973c03d-ef94-404a-a15e-2cb1e7dbd70f button.colab-df-convert');\n",
              "        buttonEl.style.display =\n",
              "          google.colab.kernel.accessAllowed ? 'block' : 'none';\n",
              "\n",
              "        async function convertToInteractive(key) {\n",
              "          const element = document.querySelector('#df-5973c03d-ef94-404a-a15e-2cb1e7dbd70f');\n",
              "          const dataTable =\n",
              "            await google.colab.kernel.invokeFunction('convertToInteractive',\n",
              "                                                     [key], {});\n",
              "          if (!dataTable) return;\n",
              "\n",
              "          const docLinkHtml = 'Like what you see? Visit the ' +\n",
              "            '<a target=\"_blank\" href=https://colab.research.google.com/notebooks/data_table.ipynb>data table notebook</a>'\n",
              "            + ' to learn more about interactive tables.';\n",
              "          element.innerHTML = '';\n",
              "          dataTable['output_type'] = 'display_data';\n",
              "          await google.colab.output.renderOutput(dataTable, element);\n",
              "          const docLink = document.createElement('div');\n",
              "          docLink.innerHTML = docLinkHtml;\n",
              "          element.appendChild(docLink);\n",
              "        }\n",
              "      </script>\n",
              "    </div>\n",
              "  </div>\n",
              "  "
            ]
          },
          "metadata": {},
          "execution_count": 53
        }
      ],
      "source": [
        "# Grouping unique users of each events per group\n",
        "\n",
        "user_events_per_group = df_filt.pivot_table(index='event_name',\n",
        "                                            values='device_id_hash', \n",
        "                                            columns='exp_id', \n",
        "                                            aggfunc='nunique')\n",
        "user_events_per_group"
      ]
    },
    {
      "cell_type": "code",
      "execution_count": 54,
      "metadata": {
        "scrolled": false,
        "colab": {
          "base_uri": "https://localhost:8080/"
        },
        "id": "pK7tGmzKv85S",
        "outputId": "c59b3a75-adba-447b-ba75-de680e1fc7ce"
      },
      "outputs": [
        {
          "output_type": "stream",
          "name": "stdout",
          "text": [
            "p-value:  [0.42941573]\n",
            "Failed to reject the null hypothesis, there is no reason to consider the shares different\n"
          ]
        }
      ],
      "source": [
        "# Statistic test of samples 246 and 247\n",
        "\n",
        "check_hypothesis(user_events_per_group.loc['MainScreenAppear', 246],\n",
        "                 user_events_per_group.loc['MainScreenAppear', 247],\n",
        "                 user_per_group.loc[246],\n",
        "                 user_per_group.loc[247],\n",
        "                )"
      ]
    },
    {
      "cell_type": "markdown",
      "metadata": {
        "id": "pwu4lxnmv85S"
      },
      "source": [
        "**Findings:**\n",
        "- Based on hypothesis testing above, there is no statistically significant difference between samples 246 and 247."
      ]
    },
    {
      "cell_type": "code",
      "execution_count": 55,
      "metadata": {
        "id": "KJl7kT1hv85S"
      },
      "outputs": [],
      "source": [
        "# Define a formula for check a statistically significant difference between event of each group samples\n",
        "\n",
        "def check_event_hypothesis(user_events_per_group, user_per_group, event_name, exp1, exp2):\n",
        "    frac1 = user_events_per_group.loc[event_name, exp1] / user_per_group.loc[exp1]\n",
        "    frac2 = user_events_per_group.loc[event_name, exp2] / user_per_group.loc[exp2]\n",
        "    print (f'{frac1} event {event_name} group {exp1}')\n",
        "    print (f'{frac2} event {event_name} group {exp2}')\n",
        "    check_hypothesis(user_events_per_group.loc[event_name, exp1],\n",
        "                     user_events_per_group.loc[event_name, exp2],\n",
        "                     user_per_group.loc[exp1],\n",
        "                     user_per_group.loc[exp2],\n",
        "                    )"
      ]
    },
    {
      "cell_type": "code",
      "execution_count": 56,
      "metadata": {
        "scrolled": false,
        "colab": {
          "base_uri": "https://localhost:8080/"
        },
        "id": "xepuDa-qv85S",
        "outputId": "afed2c6f-9165-4b7f-d01c-c14737678ec9"
      },
      "outputs": [
        {
          "output_type": "stream",
          "name": "stdout",
          "text": [
            "device_id_hash    0.470433\n",
            "Name: 246.0, dtype: float64 event CartScreenAppear group 246\n",
            "device_id_hash    0.453614\n",
            "Name: 247.0, dtype: float64 event CartScreenAppear group 247\n",
            "p-value:  [0.29562302]\n",
            "Failed to reject the null hypothesis, there is no reason to consider the shares different\n",
            "\n",
            "device_id_hash    0.972545\n",
            "Name: 246.0, dtype: float64 event MainScreenAppear group 246\n",
            "device_id_hash    0.968221\n",
            "Name: 247.0, dtype: float64 event MainScreenAppear group 247\n",
            "p-value:  [0.42941573]\n",
            "Failed to reject the null hypothesis, there is no reason to consider the shares different\n",
            "\n",
            "device_id_hash    0.580253\n",
            "Name: 246.0, dtype: float64 event OffersScreenAppear group 246\n",
            "device_id_hash    0.564839\n",
            "Name: 247.0, dtype: float64 event OffersScreenAppear group 247\n",
            "p-value:  [0.33407857]\n",
            "Failed to reject the null hypothesis, there is no reason to consider the shares different\n",
            "\n",
            "device_id_hash    0.446146\n",
            "Name: 246.0, dtype: float64 event PaymentScreenSuccessful group 246\n",
            "device_id_hash    0.416709\n",
            "Name: 247.0, dtype: float64 event PaymentScreenSuccessful group 247\n",
            "p-value:  [0.06538561]\n",
            "Failed to reject the null hypothesis, there is no reason to consider the shares different\n",
            "\n",
            "device_id_hash    0.070222\n",
            "Name: 246.0, dtype: float64 event Tutorial group 246\n",
            "device_id_hash    0.071758\n",
            "Name: 247.0, dtype: float64 event Tutorial group 247\n",
            "p-value:  [0.85288127]\n",
            "Failed to reject the null hypothesis, there is no reason to consider the shares different\n",
            "\n"
          ]
        }
      ],
      "source": [
        "# Calculate a statistically significant difference between event of each group samples of Testing Group\n",
        "# Testing Group are no. 246 and 247\n",
        "\n",
        "for event_name in user_events_per_group.index:\n",
        "    check_event_hypothesis(user_events_per_group, user_per_group,\n",
        "                           event_name, 246, 247)\n",
        "    print()"
      ]
    },
    {
      "cell_type": "markdown",
      "metadata": {
        "id": "spG3m8jYv85S"
      },
      "source": [
        "**Conclusion:**\n",
        "- Based on hypothesis testing above, there is no statistically significant difference between samples 246 and 247."
      ]
    },
    {
      "cell_type": "markdown",
      "metadata": {
        "id": "GR9vigGUv85S"
      },
      "source": [
        "### Do the same for the group of users who are shown the new font version . Compare the results with each control group for each event separately. Compare the results with the combined results for the control group. What conclusions can you draw from the experiment?"
      ]
    },
    {
      "cell_type": "code",
      "execution_count": 57,
      "metadata": {
        "colab": {
          "base_uri": "https://localhost:8080/"
        },
        "id": "tmz9EIXvv85S",
        "outputId": "74ef98df-7a28-41e8-fac0-fd63394639f1"
      },
      "outputs": [
        {
          "output_type": "stream",
          "name": "stdout",
          "text": [
            "device_id_hash    0.470433\n",
            "Name: 246.0, dtype: float64 event CartScreenAppear group 246\n",
            "device_id_hash    0.459093\n",
            "Name: 248.0, dtype: float64 event CartScreenAppear group 248\n",
            "p-value:  [0.48270864]\n",
            "Failed to reject the null hypothesis, there is no reason to consider the shares different\n",
            "\n",
            "device_id_hash    0.972545\n",
            "Name: 246.0, dtype: float64 event MainScreenAppear group 246\n",
            "device_id_hash    0.974466\n",
            "Name: 248.0, dtype: float64 event MainScreenAppear group 248\n",
            "p-value:  [0.71187764]\n",
            "Failed to reject the null hypothesis, there is no reason to consider the shares different\n",
            "\n",
            "device_id_hash    0.580253\n",
            "Name: 246.0, dtype: float64 event OffersScreenAppear group 246\n",
            "device_id_hash    0.571652\n",
            "Name: 248.0, dtype: float64 event OffersScreenAppear group 248\n",
            "p-value:  [0.59101891]\n",
            "Failed to reject the null hypothesis, there is no reason to consider the shares different\n",
            "\n",
            "device_id_hash    0.446146\n",
            "Name: 246.0, dtype: float64 event PaymentScreenSuccessful group 246\n",
            "device_id_hash    0.431475\n",
            "Name: 248.0, dtype: float64 event PaymentScreenSuccessful group 248\n",
            "p-value:  [0.36135878]\n",
            "Failed to reject the null hypothesis, there is no reason to consider the shares different\n",
            "\n",
            "device_id_hash    0.070222\n",
            "Name: 246.0, dtype: float64 event Tutorial group 246\n",
            "device_id_hash    0.065659\n",
            "Name: 248.0, dtype: float64 event Tutorial group 248\n",
            "p-value:  [0.57559165]\n",
            "Failed to reject the null hypothesis, there is no reason to consider the shares different\n",
            "\n"
          ]
        }
      ],
      "source": [
        "# Calculate a statistically significant difference between event of group samples 246 vs. 248\n",
        "# Control Group of 246 vs. Testing Group of 248 \n",
        "\n",
        "for event_name in user_events_per_group.index:\n",
        "    check_event_hypothesis(user_events_per_group, user_per_group,\n",
        "                           event_name, 246, 248)\n",
        "    print()"
      ]
    },
    {
      "cell_type": "code",
      "execution_count": 58,
      "metadata": {
        "colab": {
          "base_uri": "https://localhost:8080/"
        },
        "id": "4UePCQ9Yv85S",
        "outputId": "6f33f03c-c3bf-414a-f961-df02266596d4"
      },
      "outputs": [
        {
          "output_type": "stream",
          "name": "stdout",
          "text": [
            "device_id_hash    0.453614\n",
            "Name: 247.0, dtype: float64 event CartScreenAppear group 247\n",
            "device_id_hash    0.459093\n",
            "Name: 248.0, dtype: float64 event CartScreenAppear group 248\n",
            "p-value:  [0.73220997]\n",
            "Failed to reject the null hypothesis, there is no reason to consider the shares different\n",
            "\n",
            "device_id_hash    0.968221\n",
            "Name: 247.0, dtype: float64 event MainScreenAppear group 247\n",
            "device_id_hash    0.974466\n",
            "Name: 248.0, dtype: float64 event MainScreenAppear group 248\n",
            "p-value:  [0.24457102]\n",
            "Failed to reject the null hypothesis, there is no reason to consider the shares different\n",
            "\n",
            "device_id_hash    0.564839\n",
            "Name: 247.0, dtype: float64 event OffersScreenAppear group 247\n",
            "device_id_hash    0.571652\n",
            "Name: 248.0, dtype: float64 event OffersScreenAppear group 248\n",
            "p-value:  [0.6687672]\n",
            "Failed to reject the null hypothesis, there is no reason to consider the shares different\n",
            "\n",
            "device_id_hash    0.416709\n",
            "Name: 247.0, dtype: float64 event PaymentScreenSuccessful group 247\n",
            "device_id_hash    0.431475\n",
            "Name: 248.0, dtype: float64 event PaymentScreenSuccessful group 248\n",
            "p-value:  [0.35273365]\n",
            "Failed to reject the null hypothesis, there is no reason to consider the shares different\n",
            "\n",
            "device_id_hash    0.071758\n",
            "Name: 247.0, dtype: float64 event Tutorial group 247\n",
            "device_id_hash    0.065659\n",
            "Name: 248.0, dtype: float64 event Tutorial group 248\n",
            "p-value:  [0.45338275]\n",
            "Failed to reject the null hypothesis, there is no reason to consider the shares different\n",
            "\n"
          ]
        }
      ],
      "source": [
        "# Calculate a statistically significant difference between event of group samples 247 vs. 248\n",
        "# Control Group of 247 vs. Testing Group of 248 \n",
        "\n",
        "for event_name in user_events_per_group.index:\n",
        "    check_event_hypothesis(user_events_per_group, user_per_group,\n",
        "                           event_name, 247, 248)\n",
        "    print()"
      ]
    },
    {
      "cell_type": "markdown",
      "metadata": {
        "id": "AulqZ4eIv85S"
      },
      "source": [
        "**Conclusion:**\n",
        "- Based on hypothesis testing above, there is no statistically significant difference between Control Group of 246 vs. Testing Group of 248 and Control Group of 247 vs. Testing Group of 248."
      ]
    },
    {
      "cell_type": "markdown",
      "metadata": {
        "id": "Rz87jg8mv85S"
      },
      "source": [
        "### What level of significance did you set to test the statistical hypothesis mentioned above? \n",
        "- Count how many statistical hypothesis tests you have done.\n",
        "- At a statistical significance level of 0.1, one in 10 results could be wrong.\n",
        "- What level of significance should be set? If you want to change it, just rerun the previous step and check your conclusions."
      ]
    },
    {
      "cell_type": "markdown",
      "metadata": {
        "id": "XEXSwnn9v85S"
      },
      "source": [
        "**Summary:**\n",
        "- The significance level / \"alpha\" value did we set to test the statistical hypothesis mentioned above is 0.01.\n",
        "- The statistical hypothesis tests we have done are 3 tests, which are:\n",
        "    1. The two control groups in A/A testing, no. 246 vs. 247\n",
        "    2. The control group A no. 246 vs. the testing group no. 248\n",
        "    3. The control group A no. 247 vs. the testing group no. 248"
      ]
    },
    {
      "cell_type": "markdown",
      "metadata": {
        "id": "hxdszSQqv85S"
      },
      "source": [
        "#### What level of significance should be set? If you want to change it, just rerun the previous step and check your conclusions."
      ]
    },
    {
      "cell_type": "markdown",
      "metadata": {
        "id": "AZ-IIEnXv85S"
      },
      "source": [
        "We will change the significance level / \"alpha\" value to test the statistical hypothesis by 0.05 and rerun the previous step and check our conclusions."
      ]
    },
    {
      "cell_type": "markdown",
      "metadata": {
        "id": "qX58kTJCv85S"
      },
      "source": [
        "**Formulation of Hypothesis testing**\n",
        "\n",
        "- The significance level / \"alpha\" value to be used = 0.05\n",
        "- We will use the Z-Test Statistics approach.\n",
        "- Ho = The proportion between group samples was statistically the same (=)\n",
        "- H1 = the proportion between group samples was statistically significant not the same (/=)"
      ]
    },
    {
      "cell_type": "code",
      "execution_count": 59,
      "metadata": {
        "id": "fvNaGoLiv85S"
      },
      "outputs": [],
      "source": [
        "# Define a formula for check a statistically significant difference between group samples\n",
        "\n",
        "def check_hypothesis2(successes1, successes2, trials1, trials2, alpha=0.05):\n",
        "    # proportion of successes in the first group:\n",
        "    p1 = successes1/trials1\n",
        "\n",
        "    # proportion of successes in the second group:\n",
        "    p2 = successes2/trials2\n",
        "\n",
        "    # proportion of successes in the combined dataset:\n",
        "    p_combined = (successes1 + successes2) / (trials1 + trials2)\n",
        "\n",
        "    # difference in proportions in datasets\n",
        "    difference = p1 - p2\n",
        "\n",
        "    # calculate statistics in standard deviations of the standard normal distribution\n",
        "    z_value = difference / math.sqrt(p_combined * (1 - p_combined) * (1/trials1 + 1/trials2))\n",
        "\n",
        "    # set standard normal distribution (mean 0, standard deviation 1)\n",
        "    distr = stats.norm(0, 1)\n",
        "\n",
        "    # calculate statistics in standard deviations of the standard normal distribution\n",
        "    z_value = difference / math.sqrt(p_combined * (1 - p_combined) * (1/trials1 + 1/trials2))\n",
        "\n",
        "\n",
        "    p_value = (1 - distr.cdf(abs(z_value))) * 2\n",
        "\n",
        "    print('p-value: ', p_value)\n",
        "\n",
        "    if (p_value < alpha):\n",
        "        print(\"Reject the null hypothesis: there is a significant difference between the shares\")\n",
        "    else:\n",
        "        print(\"Failed to reject the null hypothesis, there is no reason to consider the shares different\")"
      ]
    },
    {
      "cell_type": "code",
      "execution_count": 60,
      "metadata": {
        "colab": {
          "base_uri": "https://localhost:8080/"
        },
        "id": "7cADjW9Uv85T",
        "outputId": "7926ee78-83c3-46f1-ff5c-bf9cb8d100ed"
      },
      "outputs": [
        {
          "output_type": "stream",
          "name": "stdout",
          "text": [
            "p-value:  [0.42941573]\n",
            "Failed to reject the null hypothesis, there is no reason to consider the shares different\n"
          ]
        }
      ],
      "source": [
        "# Statistic test of samples 246 and 247\n",
        "\n",
        "check_hypothesis2(user_events_per_group.loc['MainScreenAppear', 246],\n",
        "                 user_events_per_group.loc['MainScreenAppear', 247],\n",
        "                 user_per_group.loc[246],\n",
        "                 user_per_group.loc[247],\n",
        "                )"
      ]
    },
    {
      "cell_type": "code",
      "execution_count": 61,
      "metadata": {
        "id": "GvvKNjXqv85T"
      },
      "outputs": [],
      "source": [
        "# Define a formula for check a statistically significant difference between event of each group samples\n",
        "\n",
        "def check_event_hypothesis2(user_events_per_group, user_per_group, event_name, exp1, exp2):\n",
        "    frac1 = user_events_per_group.loc[event_name, exp1] / user_per_group.loc[exp1]\n",
        "    frac2 = user_events_per_group.loc[event_name, exp2] / user_per_group.loc[exp2]\n",
        "    print (f'{frac1} event {event_name} group {exp1}')\n",
        "    print (f'{frac2} event {event_name} group {exp2}')\n",
        "    check_hypothesis(user_events_per_group.loc[event_name, exp1],\n",
        "                     user_events_per_group.loc[event_name, exp2],\n",
        "                     user_per_group.loc[exp1],\n",
        "                     user_per_group.loc[exp2],\n",
        "                    )"
      ]
    },
    {
      "cell_type": "code",
      "execution_count": 62,
      "metadata": {
        "colab": {
          "base_uri": "https://localhost:8080/"
        },
        "id": "zRyU0pdwv85T",
        "outputId": "6f7de8fb-67d8-4074-d67d-883f8776c4cc"
      },
      "outputs": [
        {
          "output_type": "stream",
          "name": "stdout",
          "text": [
            "device_id_hash    0.470433\n",
            "Name: 246.0, dtype: float64 event CartScreenAppear group 246\n",
            "device_id_hash    0.453614\n",
            "Name: 247.0, dtype: float64 event CartScreenAppear group 247\n",
            "p-value:  [0.29562302]\n",
            "Failed to reject the null hypothesis, there is no reason to consider the shares different\n",
            "\n",
            "device_id_hash    0.972545\n",
            "Name: 246.0, dtype: float64 event MainScreenAppear group 246\n",
            "device_id_hash    0.968221\n",
            "Name: 247.0, dtype: float64 event MainScreenAppear group 247\n",
            "p-value:  [0.42941573]\n",
            "Failed to reject the null hypothesis, there is no reason to consider the shares different\n",
            "\n",
            "device_id_hash    0.580253\n",
            "Name: 246.0, dtype: float64 event OffersScreenAppear group 246\n",
            "device_id_hash    0.564839\n",
            "Name: 247.0, dtype: float64 event OffersScreenAppear group 247\n",
            "p-value:  [0.33407857]\n",
            "Failed to reject the null hypothesis, there is no reason to consider the shares different\n",
            "\n",
            "device_id_hash    0.446146\n",
            "Name: 246.0, dtype: float64 event PaymentScreenSuccessful group 246\n",
            "device_id_hash    0.416709\n",
            "Name: 247.0, dtype: float64 event PaymentScreenSuccessful group 247\n",
            "p-value:  [0.06538561]\n",
            "Failed to reject the null hypothesis, there is no reason to consider the shares different\n",
            "\n",
            "device_id_hash    0.070222\n",
            "Name: 246.0, dtype: float64 event Tutorial group 246\n",
            "device_id_hash    0.071758\n",
            "Name: 247.0, dtype: float64 event Tutorial group 247\n",
            "p-value:  [0.85288127]\n",
            "Failed to reject the null hypothesis, there is no reason to consider the shares different\n",
            "\n"
          ]
        }
      ],
      "source": [
        "# Calculate a statistically significant difference between event of each group samples of Testing Group\n",
        "# Testing Group are no. 246 and 247\n",
        "\n",
        "for event_name in user_events_per_group.index:\n",
        "    check_event_hypothesis2(user_events_per_group, user_per_group,\n",
        "                           event_name, 246, 247)\n",
        "    print()"
      ]
    },
    {
      "cell_type": "code",
      "execution_count": 63,
      "metadata": {
        "colab": {
          "base_uri": "https://localhost:8080/"
        },
        "id": "qiLmeJrCv85T",
        "outputId": "88e2afcb-f7e3-4a9b-c22d-99502e644d6d"
      },
      "outputs": [
        {
          "output_type": "stream",
          "name": "stdout",
          "text": [
            "device_id_hash    0.470433\n",
            "Name: 246.0, dtype: float64 event CartScreenAppear group 246\n",
            "device_id_hash    0.459093\n",
            "Name: 248.0, dtype: float64 event CartScreenAppear group 248\n",
            "p-value:  [0.48270864]\n",
            "Failed to reject the null hypothesis, there is no reason to consider the shares different\n",
            "\n",
            "device_id_hash    0.972545\n",
            "Name: 246.0, dtype: float64 event MainScreenAppear group 246\n",
            "device_id_hash    0.974466\n",
            "Name: 248.0, dtype: float64 event MainScreenAppear group 248\n",
            "p-value:  [0.71187764]\n",
            "Failed to reject the null hypothesis, there is no reason to consider the shares different\n",
            "\n",
            "device_id_hash    0.580253\n",
            "Name: 246.0, dtype: float64 event OffersScreenAppear group 246\n",
            "device_id_hash    0.571652\n",
            "Name: 248.0, dtype: float64 event OffersScreenAppear group 248\n",
            "p-value:  [0.59101891]\n",
            "Failed to reject the null hypothesis, there is no reason to consider the shares different\n",
            "\n",
            "device_id_hash    0.446146\n",
            "Name: 246.0, dtype: float64 event PaymentScreenSuccessful group 246\n",
            "device_id_hash    0.431475\n",
            "Name: 248.0, dtype: float64 event PaymentScreenSuccessful group 248\n",
            "p-value:  [0.36135878]\n",
            "Failed to reject the null hypothesis, there is no reason to consider the shares different\n",
            "\n",
            "device_id_hash    0.070222\n",
            "Name: 246.0, dtype: float64 event Tutorial group 246\n",
            "device_id_hash    0.065659\n",
            "Name: 248.0, dtype: float64 event Tutorial group 248\n",
            "p-value:  [0.57559165]\n",
            "Failed to reject the null hypothesis, there is no reason to consider the shares different\n",
            "\n"
          ]
        }
      ],
      "source": [
        "# Calculate a statistically significant difference between event of group samples 246 vs. 248\n",
        "# Control Group of 246 vs. Testing Group of 248 \n",
        "\n",
        "for event_name in user_events_per_group.index:\n",
        "    check_event_hypothesis2(user_events_per_group, user_per_group,\n",
        "                           event_name, 246, 248)\n",
        "    print()"
      ]
    },
    {
      "cell_type": "code",
      "execution_count": 64,
      "metadata": {
        "colab": {
          "base_uri": "https://localhost:8080/"
        },
        "id": "249kz66av85T",
        "outputId": "a90ba5b1-de99-4168-b244-342bd94da90a"
      },
      "outputs": [
        {
          "output_type": "stream",
          "name": "stdout",
          "text": [
            "device_id_hash    0.453614\n",
            "Name: 247.0, dtype: float64 event CartScreenAppear group 247\n",
            "device_id_hash    0.459093\n",
            "Name: 248.0, dtype: float64 event CartScreenAppear group 248\n",
            "p-value:  [0.73220997]\n",
            "Failed to reject the null hypothesis, there is no reason to consider the shares different\n",
            "\n",
            "device_id_hash    0.968221\n",
            "Name: 247.0, dtype: float64 event MainScreenAppear group 247\n",
            "device_id_hash    0.974466\n",
            "Name: 248.0, dtype: float64 event MainScreenAppear group 248\n",
            "p-value:  [0.24457102]\n",
            "Failed to reject the null hypothesis, there is no reason to consider the shares different\n",
            "\n",
            "device_id_hash    0.564839\n",
            "Name: 247.0, dtype: float64 event OffersScreenAppear group 247\n",
            "device_id_hash    0.571652\n",
            "Name: 248.0, dtype: float64 event OffersScreenAppear group 248\n",
            "p-value:  [0.6687672]\n",
            "Failed to reject the null hypothesis, there is no reason to consider the shares different\n",
            "\n",
            "device_id_hash    0.416709\n",
            "Name: 247.0, dtype: float64 event PaymentScreenSuccessful group 247\n",
            "device_id_hash    0.431475\n",
            "Name: 248.0, dtype: float64 event PaymentScreenSuccessful group 248\n",
            "p-value:  [0.35273365]\n",
            "Failed to reject the null hypothesis, there is no reason to consider the shares different\n",
            "\n",
            "device_id_hash    0.071758\n",
            "Name: 247.0, dtype: float64 event Tutorial group 247\n",
            "device_id_hash    0.065659\n",
            "Name: 248.0, dtype: float64 event Tutorial group 248\n",
            "p-value:  [0.45338275]\n",
            "Failed to reject the null hypothesis, there is no reason to consider the shares different\n",
            "\n"
          ]
        }
      ],
      "source": [
        "# Calculate a statistically significant difference between event of group samples 247 vs. 248\n",
        "# Control Group of 247 vs. Testing Group of 248 \n",
        "\n",
        "for event_name in user_events_per_group.index:\n",
        "    check_event_hypothesis2(user_events_per_group, user_per_group,\n",
        "                           event_name, 247, 248)\n",
        "    print()"
      ]
    },
    {
      "cell_type": "markdown",
      "metadata": {
        "id": "i4VJNS6Vv85T"
      },
      "source": [
        "**Conclusion:**\n",
        "- After change the significance level / \"alpha\" value to test the statistical hypothesis by 0.05 and rerun the previous step, based on hypothesis testing above, there is no statistically significant difference between Control Group of 246 vs. Testing Group of 248 and Control Group of 247 vs. Testing Group of 248.\n",
        "- There was no statistically significant difference in our data whether we tested it using a significance level/alpha value of 0.01 or 0.05."
      ]
    },
    {
      "cell_type": "markdown",
      "metadata": {
        "id": "O2YdojV4v85T"
      },
      "source": [
        "### Conclusion of Analysis of Experimental Results"
      ]
    },
    {
      "cell_type": "markdown",
      "metadata": {
        "id": "_k4mjCmmv85T"
      },
      "source": [
        "- There are 2484 users in group 246, 2513 users in group 247 and 2537 users in group 248.\n",
        "- On the hypothesis testing:\n",
        "    1. Firstly, we set the test of statistical significance level hypothesis/alpha value is 0.01.\n",
        "    2. Secondly, we re run the testing with the test of statistical significance level hypothesis/alpha value is 0.05.\n",
        "    3. The statistical hypothesis tests we have done are 3 tests times 2 (alpha value 0.01 and 0.05), which are:\n",
        "        - The two control groups in A/A testing, no. 246 vs. 247\n",
        "        - The control group A no. 246 vs. the testing group no. 248\n",
        "        - The control group A no. 247 vs. the testing group no. 248\n",
        "    4. The results of the two tests were that there was no statistically significant difference between the Control Group 246 vs. Testing Group 248 and the Control Group 247 vs. Testing Group 248.\n",
        "    5. Means, there was no statistically significant difference in our data whether we tested it using a significance level/alpha value of 0.01 or 0.05."
      ]
    },
    {
      "cell_type": "markdown",
      "metadata": {
        "id": "EAr7F1gxv85T"
      },
      "source": [
        "## Overall Conlusion"
      ]
    },
    {
      "cell_type": "markdown",
      "metadata": {
        "id": "TVrsSQ2Tv85T"
      },
      "source": [
        "**In the Data Pra-processing Section:**\n",
        "* Our datasets amounted **244126** rows and **4** columns.\n",
        "* We change all column names to lower case and snake_case to make analysis easier.\n",
        "* The *`event_timestamp`* column is changed to datetime type from int64 type, because the column contains date and time.\n",
        "* There is no missing values.\n",
        "* There is duplicate data of 413 rows and we remove them.\n",
        "\n",
        "\n",
        "**In the Data Analysis Section:**\n",
        "- There are 243713 events and 7551 users in the logs.\n",
        "- The average number of events per user is 32 users.\n",
        "- Data covers the time period between 25 July 2019 through 7 Aug 2019.\n",
        "- Only data starting 1 August 2019 contains > 3000 rows and is consistent to the last day. We can say that August 1, 2019 is the time when the data begins to be complete and actually represents the entire data, then we exclude the older data between 25-31 July 2019. \n",
        "- After excluding old data, the lost event and user percentages are 1.16% and 0.23%, respectively, which are immaterial.\n",
        "- We have users from all three experimental groups for A/A/B Testing, which are:\n",
        "    - 79302 of the control group A with number of *`exp_id`* of 246\n",
        "    - 77022 of the control group A with number of *`exp_id`* of 247\n",
        "    - 84563 of the testing group B with number of *`exp_id`* of 248\n",
        "\n",
        "\n",
        "**In the Event Funnel Analysis Section:**\n",
        "- We have five events in the logs, which are:\n",
        "    1. Main Screen Appear of 119101 logs\n",
        "    2. Offers Screen Appear of 46808 logs\n",
        "    3. Cart Screen Appear of 42668 logs\n",
        "    4. Payment Screen Successful of 34118 logs\n",
        "    5. Tutorial of 1018 logs\n",
        "    \n",
        "    \n",
        "- We have 7543 users in the logs, with the detail of actions they have performed are:\n",
        "    1. 0.98% of users in the logs has performed on event of Main Screen Appear.\n",
        "    2. 0.61% of users in the logs has performed on event of Offers Screen Appear.\n",
        "    3. 0.50% of users in the logs has performed on event of Cart Screen Appear.\n",
        "    4. 0.47% of users in the logs has performed on event of Payment Screen Successful.\n",
        "    5. 0.11% of users in the logs has performed on event of Tutorial. \n",
        "\n",
        "\n",
        "- Of the 5 events in the log, in our opinion the sequence of events starts from the Main Screen event when the user first visits the application, followed by clicking the Offers Screen menu, then clicking Cart Screen, and finally Payment Screen Successful to complete the order. Meanwhile, Tutorial events are unrelated to the sequence of events. \n",
        "- Then, we exclude Tutorials for further analysis.\n",
        "\n",
        "\n",
        "- The ratio of users to clicking the Offers Screen is 62% once they are on the Home Screen.\n",
        "- The ratio of users to adding products to the Cart Screen is 81% after they click on the Offer Screen.\n",
        "- The ratio of users to complete payments is 95% of users who add products to Cart.\n",
        "- We lost most of our users at the Offers Screen stage of 48%, i.e. only 62% of users clicked on Offers from their first Home Screen.\n",
        "\n",
        "\n",
        "- The percentage of users who make the entire journey from the first event to the checkout stage is 47.7%. We cannot assume that is good or not because there is no data comparison from other months.\n",
        "\n",
        "\n",
        "**In the Analysis of Experimental Results Section:**\n",
        "- There are 2484 users in group 246, 2513 users in group 247 and 2537 users in group 248.\n",
        "- On the hypothesis testing:\n",
        "    1. Firstly, we set the test of statistical significance level hypothesis/alpha value is 0.01.\n",
        "    2. Secondly, we re run the testing with the test of statistical significance level hypothesis/alpha value is 0.05.\n",
        "    3. The statistical hypothesis tests we have done are 3 tests times 2 (alpha value 0.01 and 0.05), which are:\n",
        "        - The two control groups in A/A testing, no. 246 vs. 247\n",
        "        - The control group A no. 246 vs. the testing group no. 248\n",
        "        - The control group A no. 247 vs. the testing group no. 248\n",
        "    4. The results of the two tests were that there was no statistically significant difference between the Control Group 246 vs. Testing Group 248 and the Control Group 247 vs. Testing Group 248.\n",
        "    5. Means, there was no statistically significant difference in our data whether we tested it using a significance level/alpha value of 0.01 or 0.05."
      ]
    },
    {
      "cell_type": "code",
      "execution_count": 64,
      "metadata": {
        "id": "enV6WpONv85T"
      },
      "outputs": [],
      "source": []
    }
  ],
  "metadata": {
    "kernelspec": {
      "display_name": "Python 3 (ipykernel)",
      "language": "python",
      "name": "python3"
    },
    "language_info": {
      "codemirror_mode": {
        "name": "ipython",
        "version": 3
      },
      "file_extension": ".py",
      "mimetype": "text/x-python",
      "name": "python",
      "nbconvert_exporter": "python",
      "pygments_lexer": "ipython3",
      "version": "3.9.5"
    },
    "toc": {
      "base_numbering": 1,
      "nav_menu": {},
      "number_sections": true,
      "sideBar": true,
      "skip_h1_title": true,
      "title_cell": "Table of Contents",
      "title_sidebar": "Contents",
      "toc_cell": false,
      "toc_position": {},
      "toc_section_display": true,
      "toc_window_display": true
    },
    "colab": {
      "provenance": [],
      "toc_visible": true
    }
  },
  "nbformat": 4,
  "nbformat_minor": 0
}