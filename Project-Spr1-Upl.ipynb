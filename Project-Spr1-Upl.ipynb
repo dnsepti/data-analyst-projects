{
  "nbformat": 4,
  "nbformat_minor": 0,
  "metadata": {
    "colab": {
      "provenance": [],
      "toc_visible": true
    },
    "kernelspec": {
      "name": "python3",
      "display_name": "Python 3"
    },
    "language_info": {
      "name": "python"
    }
  },
  "cells": [
    {
      "cell_type": "markdown",
      "source": [
        "# Konten\n",
        "\n",
        "### Pendahuluan\n",
        "\n",
        "## Tahap 1. Ikhtisar Data\n",
        "- Kesimpulan\n",
        "\n",
        "## Tahap 2. Pra-pemrosesan Data\n",
        "- 2.1 Gaya penulisan judul\n",
        "- 2.2 Nilai-nilai yang hilang\n",
        "- 2.3 Duplikat\n",
        "- 2.4 Kesimpulan\n",
        "\n",
        "## Tahap 3. Menguji Hipotesis\n",
        "- 3.1 Hipotesis 1: aktivitas pengguna di dua kota\n",
        "- 3.2 Hipotesis 2: preferensi musik pada hari Senin dan Jumat\n",
        "- 3.3 Hipotesis 3: preferensi genre di kota Springfield dan Shelbyville\n",
        "\n",
        "## Temuan"
      ],
      "metadata": {
        "id": "kCIi3fNaU0MN"
      }
    },
    {
      "cell_type": "markdown",
      "source": [
        "# Pendahuluan\n",
        "\n",
        "Kita akan membandingkan preferensi musik kota Springfield dan Shelbyville. Kita akan mempelajari data Y.Music yang sebenarnya untuk menguji hipotesis di bawah ini dan membandingkan perilaku pengguna di kedua kota ini.\n",
        "\n",
        "**Tujuan:**\n",
        "Menguji tiga hipotesis:\n",
        "\n",
        "1. Aktivitas pengguna berbeda-beda tergantung pada hari dan kotanya.\n",
        "2. Pada senin pagi, penduduk Springfield dan Shelbyville mendengarkan genre yang berbeda. Hal ini juga ini juga berlaku untuk Jumat malam.\n",
        "3. Pendengar di Springfield dan Shelbyville memiliki preferensi yang berbeda. Di Springfield, mereka lebih suka musik pop, sementara Shelbyville, musik rap memiliki lebih banyak penggemar.\n",
        "\n",
        "**Tahapan:**\n",
        "Data tentang perilaku pengguna disimpan dalam berkas `/datasets/music_project_en.csv`. \n",
        "\n",
        "Pertama, Kita akan mengevaluasi kualitas data dan melihat apakah masalahnya signifikan. Kemudian, selama pra-pemrosesan data, Kita akan mencoba memperhitungkan masalah yang paling serius.\n",
        "\n",
        "Proyek ini akan terdiri dari tiga tahap:\n",
        "\n",
        "1. Ikhtisar Data\n",
        "2. Pra-pemrosesan Data\n",
        "3. Menguji Hipotesis"
      ],
      "metadata": {
        "id": "qn83athYVL0W"
      }
    },
    {
      "cell_type": "markdown",
      "source": [
        "# Tahap 1: Ikhtisar Data"
      ],
      "metadata": {
        "id": "xWdPxlCSVSDx"
      }
    },
    {
      "cell_type": "code",
      "source": [
        "#mengimpor data\n",
        "import pandas as pd"
      ],
      "metadata": {
        "id": "UXgjRAdxUB_h"
      },
      "execution_count": null,
      "outputs": []
    },
    {
      "cell_type": "code",
      "source": [
        "# membaca berkas dan menyimpannya ke df\n",
        "df = pd.read_csv('music_project_en.csv')"
      ],
      "metadata": {
        "id": "n_mpoyTuUac0"
      },
      "execution_count": null,
      "outputs": []
    },
    {
      "cell_type": "code",
      "source": [
        "# memperoleh informasi umum tentang data di df\n",
        "df.describe()"
      ],
      "metadata": {
        "colab": {
          "base_uri": "https://localhost:8080/",
          "height": 175
        },
        "id": "bY4ExDaDVBe-",
        "outputId": "06996979-18a2-43f0-fe1f-0523a119ff4f"
      },
      "execution_count": null,
      "outputs": [
        {
          "output_type": "execute_result",
          "data": {
            "text/plain": [
              "          userID  Track     artist  genre       City        time     Day\n",
              "count      65079  63736      57512  63881        65079     65079   65079\n",
              "unique     41748  39666      37806    268            2     20392       3\n",
              "top     A8AE9169  Brand  Kartvelli    pop  Springfield  08:14:07  Friday\n",
              "freq          76    136        136   8850        45360        14   23149"
            ],
            "text/html": [
              "\n",
              "  <div id=\"df-ac2ef8d5-d6f1-46fe-9e86-52c45cbf8833\">\n",
              "    <div class=\"colab-df-container\">\n",
              "      <div>\n",
              "<style scoped>\n",
              "    .dataframe tbody tr th:only-of-type {\n",
              "        vertical-align: middle;\n",
              "    }\n",
              "\n",
              "    .dataframe tbody tr th {\n",
              "        vertical-align: top;\n",
              "    }\n",
              "\n",
              "    .dataframe thead th {\n",
              "        text-align: right;\n",
              "    }\n",
              "</style>\n",
              "<table border=\"1\" class=\"dataframe\">\n",
              "  <thead>\n",
              "    <tr style=\"text-align: right;\">\n",
              "      <th></th>\n",
              "      <th>userID</th>\n",
              "      <th>Track</th>\n",
              "      <th>artist</th>\n",
              "      <th>genre</th>\n",
              "      <th>City</th>\n",
              "      <th>time</th>\n",
              "      <th>Day</th>\n",
              "    </tr>\n",
              "  </thead>\n",
              "  <tbody>\n",
              "    <tr>\n",
              "      <th>count</th>\n",
              "      <td>65079</td>\n",
              "      <td>63736</td>\n",
              "      <td>57512</td>\n",
              "      <td>63881</td>\n",
              "      <td>65079</td>\n",
              "      <td>65079</td>\n",
              "      <td>65079</td>\n",
              "    </tr>\n",
              "    <tr>\n",
              "      <th>unique</th>\n",
              "      <td>41748</td>\n",
              "      <td>39666</td>\n",
              "      <td>37806</td>\n",
              "      <td>268</td>\n",
              "      <td>2</td>\n",
              "      <td>20392</td>\n",
              "      <td>3</td>\n",
              "    </tr>\n",
              "    <tr>\n",
              "      <th>top</th>\n",
              "      <td>A8AE9169</td>\n",
              "      <td>Brand</td>\n",
              "      <td>Kartvelli</td>\n",
              "      <td>pop</td>\n",
              "      <td>Springfield</td>\n",
              "      <td>08:14:07</td>\n",
              "      <td>Friday</td>\n",
              "    </tr>\n",
              "    <tr>\n",
              "      <th>freq</th>\n",
              "      <td>76</td>\n",
              "      <td>136</td>\n",
              "      <td>136</td>\n",
              "      <td>8850</td>\n",
              "      <td>45360</td>\n",
              "      <td>14</td>\n",
              "      <td>23149</td>\n",
              "    </tr>\n",
              "  </tbody>\n",
              "</table>\n",
              "</div>\n",
              "      <button class=\"colab-df-convert\" onclick=\"convertToInteractive('df-ac2ef8d5-d6f1-46fe-9e86-52c45cbf8833')\"\n",
              "              title=\"Convert this dataframe to an interactive table.\"\n",
              "              style=\"display:none;\">\n",
              "        \n",
              "  <svg xmlns=\"http://www.w3.org/2000/svg\" height=\"24px\"viewBox=\"0 0 24 24\"\n",
              "       width=\"24px\">\n",
              "    <path d=\"M0 0h24v24H0V0z\" fill=\"none\"/>\n",
              "    <path d=\"M18.56 5.44l.94 2.06.94-2.06 2.06-.94-2.06-.94-.94-2.06-.94 2.06-2.06.94zm-11 1L8.5 8.5l.94-2.06 2.06-.94-2.06-.94L8.5 2.5l-.94 2.06-2.06.94zm10 10l.94 2.06.94-2.06 2.06-.94-2.06-.94-.94-2.06-.94 2.06-2.06.94z\"/><path d=\"M17.41 7.96l-1.37-1.37c-.4-.4-.92-.59-1.43-.59-.52 0-1.04.2-1.43.59L10.3 9.45l-7.72 7.72c-.78.78-.78 2.05 0 2.83L4 21.41c.39.39.9.59 1.41.59.51 0 1.02-.2 1.41-.59l7.78-7.78 2.81-2.81c.8-.78.8-2.07 0-2.86zM5.41 20L4 18.59l7.72-7.72 1.47 1.35L5.41 20z\"/>\n",
              "  </svg>\n",
              "      </button>\n",
              "      \n",
              "  <style>\n",
              "    .colab-df-container {\n",
              "      display:flex;\n",
              "      flex-wrap:wrap;\n",
              "      gap: 12px;\n",
              "    }\n",
              "\n",
              "    .colab-df-convert {\n",
              "      background-color: #E8F0FE;\n",
              "      border: none;\n",
              "      border-radius: 50%;\n",
              "      cursor: pointer;\n",
              "      display: none;\n",
              "      fill: #1967D2;\n",
              "      height: 32px;\n",
              "      padding: 0 0 0 0;\n",
              "      width: 32px;\n",
              "    }\n",
              "\n",
              "    .colab-df-convert:hover {\n",
              "      background-color: #E2EBFA;\n",
              "      box-shadow: 0px 1px 2px rgba(60, 64, 67, 0.3), 0px 1px 3px 1px rgba(60, 64, 67, 0.15);\n",
              "      fill: #174EA6;\n",
              "    }\n",
              "\n",
              "    [theme=dark] .colab-df-convert {\n",
              "      background-color: #3B4455;\n",
              "      fill: #D2E3FC;\n",
              "    }\n",
              "\n",
              "    [theme=dark] .colab-df-convert:hover {\n",
              "      background-color: #434B5C;\n",
              "      box-shadow: 0px 1px 3px 1px rgba(0, 0, 0, 0.15);\n",
              "      filter: drop-shadow(0px 1px 2px rgba(0, 0, 0, 0.3));\n",
              "      fill: #FFFFFF;\n",
              "    }\n",
              "  </style>\n",
              "\n",
              "      <script>\n",
              "        const buttonEl =\n",
              "          document.querySelector('#df-ac2ef8d5-d6f1-46fe-9e86-52c45cbf8833 button.colab-df-convert');\n",
              "        buttonEl.style.display =\n",
              "          google.colab.kernel.accessAllowed ? 'block' : 'none';\n",
              "\n",
              "        async function convertToInteractive(key) {\n",
              "          const element = document.querySelector('#df-ac2ef8d5-d6f1-46fe-9e86-52c45cbf8833');\n",
              "          const dataTable =\n",
              "            await google.colab.kernel.invokeFunction('convertToInteractive',\n",
              "                                                     [key], {});\n",
              "          if (!dataTable) return;\n",
              "\n",
              "          const docLinkHtml = 'Like what you see? Visit the ' +\n",
              "            '<a target=\"_blank\" href=https://colab.research.google.com/notebooks/data_table.ipynb>data table notebook</a>'\n",
              "            + ' to learn more about interactive tables.';\n",
              "          element.innerHTML = '';\n",
              "          dataTable['output_type'] = 'display_data';\n",
              "          await google.colab.output.renderOutput(dataTable, element);\n",
              "          const docLink = document.createElement('div');\n",
              "          docLink.innerHTML = docLinkHtml;\n",
              "          element.appendChild(docLink);\n",
              "        }\n",
              "      </script>\n",
              "    </div>\n",
              "  </div>\n",
              "  "
            ]
          },
          "metadata": {},
          "execution_count": 3
        }
      ]
    },
    {
      "cell_type": "code",
      "source": [
        "# Tampilkan 10 baris tabel pertama\n",
        "df.head(10)"
      ],
      "metadata": {
        "colab": {
          "base_uri": "https://localhost:8080/",
          "height": 363
        },
        "id": "moEiiuybVz9M",
        "outputId": "6d4c86f6-eb33-4ed9-8afc-078eb81559e9"
      },
      "execution_count": null,
      "outputs": [
        {
          "output_type": "execute_result",
          "data": {
            "text/plain": [
              "     userID                        Track            artist   genre  \\\n",
              "0  FFB692EC            Kamigata To Boots  The Mass Missile    rock   \n",
              "1  55204538  Delayed Because of Accident  Andreas Rönnberg    rock   \n",
              "2    20EC38            Funiculì funiculà       Mario Lanza     pop   \n",
              "3  A3DD03C9        Dragons in the Sunset        Fire + Ice    folk   \n",
              "4  E2DC1FAE                  Soul People        Space Echo   dance   \n",
              "5  842029A1                       Chains          Obladaet  rusrap   \n",
              "6  4CB90AA5                         True      Roman Messer   dance   \n",
              "7  F03E1C1F             Feeling This Way   Polina Griffith   dance   \n",
              "8  8FA1D3BE                     L’estate       Julia Dalia  ruspop   \n",
              "9  E772D5C0                    Pessimist               NaN   dance   \n",
              "\n",
              "        City        time        Day  \n",
              "0  Shelbyville  20:28:33  Wednesday  \n",
              "1  Springfield  14:07:09     Friday  \n",
              "2  Shelbyville  20:58:07  Wednesday  \n",
              "3  Shelbyville  08:37:09     Monday  \n",
              "4  Springfield  08:34:34     Monday  \n",
              "5  Shelbyville  13:09:41     Friday  \n",
              "6  Springfield  13:00:07  Wednesday  \n",
              "7  Springfield  20:47:49  Wednesday  \n",
              "8  Springfield  09:17:40     Friday  \n",
              "9  Shelbyville  21:20:49  Wednesday  "
            ],
            "text/html": [
              "\n",
              "  <div id=\"df-172e1bae-cb78-4a41-b19c-b1b944fb7bbc\">\n",
              "    <div class=\"colab-df-container\">\n",
              "      <div>\n",
              "<style scoped>\n",
              "    .dataframe tbody tr th:only-of-type {\n",
              "        vertical-align: middle;\n",
              "    }\n",
              "\n",
              "    .dataframe tbody tr th {\n",
              "        vertical-align: top;\n",
              "    }\n",
              "\n",
              "    .dataframe thead th {\n",
              "        text-align: right;\n",
              "    }\n",
              "</style>\n",
              "<table border=\"1\" class=\"dataframe\">\n",
              "  <thead>\n",
              "    <tr style=\"text-align: right;\">\n",
              "      <th></th>\n",
              "      <th>userID</th>\n",
              "      <th>Track</th>\n",
              "      <th>artist</th>\n",
              "      <th>genre</th>\n",
              "      <th>City</th>\n",
              "      <th>time</th>\n",
              "      <th>Day</th>\n",
              "    </tr>\n",
              "  </thead>\n",
              "  <tbody>\n",
              "    <tr>\n",
              "      <th>0</th>\n",
              "      <td>FFB692EC</td>\n",
              "      <td>Kamigata To Boots</td>\n",
              "      <td>The Mass Missile</td>\n",
              "      <td>rock</td>\n",
              "      <td>Shelbyville</td>\n",
              "      <td>20:28:33</td>\n",
              "      <td>Wednesday</td>\n",
              "    </tr>\n",
              "    <tr>\n",
              "      <th>1</th>\n",
              "      <td>55204538</td>\n",
              "      <td>Delayed Because of Accident</td>\n",
              "      <td>Andreas Rönnberg</td>\n",
              "      <td>rock</td>\n",
              "      <td>Springfield</td>\n",
              "      <td>14:07:09</td>\n",
              "      <td>Friday</td>\n",
              "    </tr>\n",
              "    <tr>\n",
              "      <th>2</th>\n",
              "      <td>20EC38</td>\n",
              "      <td>Funiculì funiculà</td>\n",
              "      <td>Mario Lanza</td>\n",
              "      <td>pop</td>\n",
              "      <td>Shelbyville</td>\n",
              "      <td>20:58:07</td>\n",
              "      <td>Wednesday</td>\n",
              "    </tr>\n",
              "    <tr>\n",
              "      <th>3</th>\n",
              "      <td>A3DD03C9</td>\n",
              "      <td>Dragons in the Sunset</td>\n",
              "      <td>Fire + Ice</td>\n",
              "      <td>folk</td>\n",
              "      <td>Shelbyville</td>\n",
              "      <td>08:37:09</td>\n",
              "      <td>Monday</td>\n",
              "    </tr>\n",
              "    <tr>\n",
              "      <th>4</th>\n",
              "      <td>E2DC1FAE</td>\n",
              "      <td>Soul People</td>\n",
              "      <td>Space Echo</td>\n",
              "      <td>dance</td>\n",
              "      <td>Springfield</td>\n",
              "      <td>08:34:34</td>\n",
              "      <td>Monday</td>\n",
              "    </tr>\n",
              "    <tr>\n",
              "      <th>5</th>\n",
              "      <td>842029A1</td>\n",
              "      <td>Chains</td>\n",
              "      <td>Obladaet</td>\n",
              "      <td>rusrap</td>\n",
              "      <td>Shelbyville</td>\n",
              "      <td>13:09:41</td>\n",
              "      <td>Friday</td>\n",
              "    </tr>\n",
              "    <tr>\n",
              "      <th>6</th>\n",
              "      <td>4CB90AA5</td>\n",
              "      <td>True</td>\n",
              "      <td>Roman Messer</td>\n",
              "      <td>dance</td>\n",
              "      <td>Springfield</td>\n",
              "      <td>13:00:07</td>\n",
              "      <td>Wednesday</td>\n",
              "    </tr>\n",
              "    <tr>\n",
              "      <th>7</th>\n",
              "      <td>F03E1C1F</td>\n",
              "      <td>Feeling This Way</td>\n",
              "      <td>Polina Griffith</td>\n",
              "      <td>dance</td>\n",
              "      <td>Springfield</td>\n",
              "      <td>20:47:49</td>\n",
              "      <td>Wednesday</td>\n",
              "    </tr>\n",
              "    <tr>\n",
              "      <th>8</th>\n",
              "      <td>8FA1D3BE</td>\n",
              "      <td>L’estate</td>\n",
              "      <td>Julia Dalia</td>\n",
              "      <td>ruspop</td>\n",
              "      <td>Springfield</td>\n",
              "      <td>09:17:40</td>\n",
              "      <td>Friday</td>\n",
              "    </tr>\n",
              "    <tr>\n",
              "      <th>9</th>\n",
              "      <td>E772D5C0</td>\n",
              "      <td>Pessimist</td>\n",
              "      <td>NaN</td>\n",
              "      <td>dance</td>\n",
              "      <td>Shelbyville</td>\n",
              "      <td>21:20:49</td>\n",
              "      <td>Wednesday</td>\n",
              "    </tr>\n",
              "  </tbody>\n",
              "</table>\n",
              "</div>\n",
              "      <button class=\"colab-df-convert\" onclick=\"convertToInteractive('df-172e1bae-cb78-4a41-b19c-b1b944fb7bbc')\"\n",
              "              title=\"Convert this dataframe to an interactive table.\"\n",
              "              style=\"display:none;\">\n",
              "        \n",
              "  <svg xmlns=\"http://www.w3.org/2000/svg\" height=\"24px\"viewBox=\"0 0 24 24\"\n",
              "       width=\"24px\">\n",
              "    <path d=\"M0 0h24v24H0V0z\" fill=\"none\"/>\n",
              "    <path d=\"M18.56 5.44l.94 2.06.94-2.06 2.06-.94-2.06-.94-.94-2.06-.94 2.06-2.06.94zm-11 1L8.5 8.5l.94-2.06 2.06-.94-2.06-.94L8.5 2.5l-.94 2.06-2.06.94zm10 10l.94 2.06.94-2.06 2.06-.94-2.06-.94-.94-2.06-.94 2.06-2.06.94z\"/><path d=\"M17.41 7.96l-1.37-1.37c-.4-.4-.92-.59-1.43-.59-.52 0-1.04.2-1.43.59L10.3 9.45l-7.72 7.72c-.78.78-.78 2.05 0 2.83L4 21.41c.39.39.9.59 1.41.59.51 0 1.02-.2 1.41-.59l7.78-7.78 2.81-2.81c.8-.78.8-2.07 0-2.86zM5.41 20L4 18.59l7.72-7.72 1.47 1.35L5.41 20z\"/>\n",
              "  </svg>\n",
              "      </button>\n",
              "      \n",
              "  <style>\n",
              "    .colab-df-container {\n",
              "      display:flex;\n",
              "      flex-wrap:wrap;\n",
              "      gap: 12px;\n",
              "    }\n",
              "\n",
              "    .colab-df-convert {\n",
              "      background-color: #E8F0FE;\n",
              "      border: none;\n",
              "      border-radius: 50%;\n",
              "      cursor: pointer;\n",
              "      display: none;\n",
              "      fill: #1967D2;\n",
              "      height: 32px;\n",
              "      padding: 0 0 0 0;\n",
              "      width: 32px;\n",
              "    }\n",
              "\n",
              "    .colab-df-convert:hover {\n",
              "      background-color: #E2EBFA;\n",
              "      box-shadow: 0px 1px 2px rgba(60, 64, 67, 0.3), 0px 1px 3px 1px rgba(60, 64, 67, 0.15);\n",
              "      fill: #174EA6;\n",
              "    }\n",
              "\n",
              "    [theme=dark] .colab-df-convert {\n",
              "      background-color: #3B4455;\n",
              "      fill: #D2E3FC;\n",
              "    }\n",
              "\n",
              "    [theme=dark] .colab-df-convert:hover {\n",
              "      background-color: #434B5C;\n",
              "      box-shadow: 0px 1px 3px 1px rgba(0, 0, 0, 0.15);\n",
              "      filter: drop-shadow(0px 1px 2px rgba(0, 0, 0, 0.3));\n",
              "      fill: #FFFFFF;\n",
              "    }\n",
              "  </style>\n",
              "\n",
              "      <script>\n",
              "        const buttonEl =\n",
              "          document.querySelector('#df-172e1bae-cb78-4a41-b19c-b1b944fb7bbc button.colab-df-convert');\n",
              "        buttonEl.style.display =\n",
              "          google.colab.kernel.accessAllowed ? 'block' : 'none';\n",
              "\n",
              "        async function convertToInteractive(key) {\n",
              "          const element = document.querySelector('#df-172e1bae-cb78-4a41-b19c-b1b944fb7bbc');\n",
              "          const dataTable =\n",
              "            await google.colab.kernel.invokeFunction('convertToInteractive',\n",
              "                                                     [key], {});\n",
              "          if (!dataTable) return;\n",
              "\n",
              "          const docLinkHtml = 'Like what you see? Visit the ' +\n",
              "            '<a target=\"_blank\" href=https://colab.research.google.com/notebooks/data_table.ipynb>data table notebook</a>'\n",
              "            + ' to learn more about interactive tables.';\n",
              "          element.innerHTML = '';\n",
              "          dataTable['output_type'] = 'display_data';\n",
              "          await google.colab.output.renderOutput(dataTable, element);\n",
              "          const docLink = document.createElement('div');\n",
              "          docLink.innerHTML = docLinkHtml;\n",
              "          element.appendChild(docLink);\n",
              "        }\n",
              "      </script>\n",
              "    </div>\n",
              "  </div>\n",
              "  "
            ]
          },
          "metadata": {},
          "execution_count": 4
        }
      ]
    },
    {
      "cell_type": "code",
      "source": [
        "# Tampilkan 10 baris tabel terakhir\n",
        "df.tail(10)"
      ],
      "metadata": {
        "colab": {
          "base_uri": "https://localhost:8080/",
          "height": 363
        },
        "id": "Lc43IpvuV7XY",
        "outputId": "7e2f9087-418d-430a-ea9e-8262566ac0a7"
      },
      "execution_count": null,
      "outputs": [
        {
          "output_type": "execute_result",
          "data": {
            "text/plain": [
              "         userID                              Track                   artist  \\\n",
              "65069  BE1AAD74                          Waterwalk         Eduardo Gonzales   \n",
              "65070  49F35D53                             Ass Up                   Rameez   \n",
              "65071  92378E24          Swing it Like You Mean it                   OJOJOJ   \n",
              "65072  C532021D             We Can Not Be Silenced                   Pänzer   \n",
              "65073  83A474E7      I Worship Only What You Bleed  The Black Dahlia Murder   \n",
              "65074  729CBB09                            My Name                   McLean   \n",
              "65075  D08D4A55  Maybe One Day (feat. Black Spade)              Blu & Exile   \n",
              "65076  C5E3A0D5                          Jalopiina                      NaN   \n",
              "65077  321D0506                      Freight Train            Chas McDevitt   \n",
              "65078  3A64EF84          Tell Me Sweet Little Lies             Monica Lopez   \n",
              "\n",
              "              genre       City        time        Day  \n",
              "65069    electronic  Springfield  20:38:59     Monday  \n",
              "65070         dance  Springfield  14:08:58     Friday  \n",
              "65071        techno  Springfield  21:12:56     Friday  \n",
              "65072  extrememetal  Springfield  08:38:24     Friday  \n",
              "65073  extrememetal  Springfield  21:07:12     Monday  \n",
              "65074           rnb  Springfield  13:32:28  Wednesday  \n",
              "65075           hip  Shelbyville  10:00:00     Monday  \n",
              "65076    industrial  Springfield  20:09:26     Friday  \n",
              "65077          rock  Springfield  21:43:59     Friday  \n",
              "65078       country  Springfield  21:59:46     Friday  "
            ],
            "text/html": [
              "\n",
              "  <div id=\"df-0c62c728-84bd-4004-8a7b-ddfecaabe64e\">\n",
              "    <div class=\"colab-df-container\">\n",
              "      <div>\n",
              "<style scoped>\n",
              "    .dataframe tbody tr th:only-of-type {\n",
              "        vertical-align: middle;\n",
              "    }\n",
              "\n",
              "    .dataframe tbody tr th {\n",
              "        vertical-align: top;\n",
              "    }\n",
              "\n",
              "    .dataframe thead th {\n",
              "        text-align: right;\n",
              "    }\n",
              "</style>\n",
              "<table border=\"1\" class=\"dataframe\">\n",
              "  <thead>\n",
              "    <tr style=\"text-align: right;\">\n",
              "      <th></th>\n",
              "      <th>userID</th>\n",
              "      <th>Track</th>\n",
              "      <th>artist</th>\n",
              "      <th>genre</th>\n",
              "      <th>City</th>\n",
              "      <th>time</th>\n",
              "      <th>Day</th>\n",
              "    </tr>\n",
              "  </thead>\n",
              "  <tbody>\n",
              "    <tr>\n",
              "      <th>65069</th>\n",
              "      <td>BE1AAD74</td>\n",
              "      <td>Waterwalk</td>\n",
              "      <td>Eduardo Gonzales</td>\n",
              "      <td>electronic</td>\n",
              "      <td>Springfield</td>\n",
              "      <td>20:38:59</td>\n",
              "      <td>Monday</td>\n",
              "    </tr>\n",
              "    <tr>\n",
              "      <th>65070</th>\n",
              "      <td>49F35D53</td>\n",
              "      <td>Ass Up</td>\n",
              "      <td>Rameez</td>\n",
              "      <td>dance</td>\n",
              "      <td>Springfield</td>\n",
              "      <td>14:08:58</td>\n",
              "      <td>Friday</td>\n",
              "    </tr>\n",
              "    <tr>\n",
              "      <th>65071</th>\n",
              "      <td>92378E24</td>\n",
              "      <td>Swing it Like You Mean it</td>\n",
              "      <td>OJOJOJ</td>\n",
              "      <td>techno</td>\n",
              "      <td>Springfield</td>\n",
              "      <td>21:12:56</td>\n",
              "      <td>Friday</td>\n",
              "    </tr>\n",
              "    <tr>\n",
              "      <th>65072</th>\n",
              "      <td>C532021D</td>\n",
              "      <td>We Can Not Be Silenced</td>\n",
              "      <td>Pänzer</td>\n",
              "      <td>extrememetal</td>\n",
              "      <td>Springfield</td>\n",
              "      <td>08:38:24</td>\n",
              "      <td>Friday</td>\n",
              "    </tr>\n",
              "    <tr>\n",
              "      <th>65073</th>\n",
              "      <td>83A474E7</td>\n",
              "      <td>I Worship Only What You Bleed</td>\n",
              "      <td>The Black Dahlia Murder</td>\n",
              "      <td>extrememetal</td>\n",
              "      <td>Springfield</td>\n",
              "      <td>21:07:12</td>\n",
              "      <td>Monday</td>\n",
              "    </tr>\n",
              "    <tr>\n",
              "      <th>65074</th>\n",
              "      <td>729CBB09</td>\n",
              "      <td>My Name</td>\n",
              "      <td>McLean</td>\n",
              "      <td>rnb</td>\n",
              "      <td>Springfield</td>\n",
              "      <td>13:32:28</td>\n",
              "      <td>Wednesday</td>\n",
              "    </tr>\n",
              "    <tr>\n",
              "      <th>65075</th>\n",
              "      <td>D08D4A55</td>\n",
              "      <td>Maybe One Day (feat. Black Spade)</td>\n",
              "      <td>Blu &amp; Exile</td>\n",
              "      <td>hip</td>\n",
              "      <td>Shelbyville</td>\n",
              "      <td>10:00:00</td>\n",
              "      <td>Monday</td>\n",
              "    </tr>\n",
              "    <tr>\n",
              "      <th>65076</th>\n",
              "      <td>C5E3A0D5</td>\n",
              "      <td>Jalopiina</td>\n",
              "      <td>NaN</td>\n",
              "      <td>industrial</td>\n",
              "      <td>Springfield</td>\n",
              "      <td>20:09:26</td>\n",
              "      <td>Friday</td>\n",
              "    </tr>\n",
              "    <tr>\n",
              "      <th>65077</th>\n",
              "      <td>321D0506</td>\n",
              "      <td>Freight Train</td>\n",
              "      <td>Chas McDevitt</td>\n",
              "      <td>rock</td>\n",
              "      <td>Springfield</td>\n",
              "      <td>21:43:59</td>\n",
              "      <td>Friday</td>\n",
              "    </tr>\n",
              "    <tr>\n",
              "      <th>65078</th>\n",
              "      <td>3A64EF84</td>\n",
              "      <td>Tell Me Sweet Little Lies</td>\n",
              "      <td>Monica Lopez</td>\n",
              "      <td>country</td>\n",
              "      <td>Springfield</td>\n",
              "      <td>21:59:46</td>\n",
              "      <td>Friday</td>\n",
              "    </tr>\n",
              "  </tbody>\n",
              "</table>\n",
              "</div>\n",
              "      <button class=\"colab-df-convert\" onclick=\"convertToInteractive('df-0c62c728-84bd-4004-8a7b-ddfecaabe64e')\"\n",
              "              title=\"Convert this dataframe to an interactive table.\"\n",
              "              style=\"display:none;\">\n",
              "        \n",
              "  <svg xmlns=\"http://www.w3.org/2000/svg\" height=\"24px\"viewBox=\"0 0 24 24\"\n",
              "       width=\"24px\">\n",
              "    <path d=\"M0 0h24v24H0V0z\" fill=\"none\"/>\n",
              "    <path d=\"M18.56 5.44l.94 2.06.94-2.06 2.06-.94-2.06-.94-.94-2.06-.94 2.06-2.06.94zm-11 1L8.5 8.5l.94-2.06 2.06-.94-2.06-.94L8.5 2.5l-.94 2.06-2.06.94zm10 10l.94 2.06.94-2.06 2.06-.94-2.06-.94-.94-2.06-.94 2.06-2.06.94z\"/><path d=\"M17.41 7.96l-1.37-1.37c-.4-.4-.92-.59-1.43-.59-.52 0-1.04.2-1.43.59L10.3 9.45l-7.72 7.72c-.78.78-.78 2.05 0 2.83L4 21.41c.39.39.9.59 1.41.59.51 0 1.02-.2 1.41-.59l7.78-7.78 2.81-2.81c.8-.78.8-2.07 0-2.86zM5.41 20L4 18.59l7.72-7.72 1.47 1.35L5.41 20z\"/>\n",
              "  </svg>\n",
              "      </button>\n",
              "      \n",
              "  <style>\n",
              "    .colab-df-container {\n",
              "      display:flex;\n",
              "      flex-wrap:wrap;\n",
              "      gap: 12px;\n",
              "    }\n",
              "\n",
              "    .colab-df-convert {\n",
              "      background-color: #E8F0FE;\n",
              "      border: none;\n",
              "      border-radius: 50%;\n",
              "      cursor: pointer;\n",
              "      display: none;\n",
              "      fill: #1967D2;\n",
              "      height: 32px;\n",
              "      padding: 0 0 0 0;\n",
              "      width: 32px;\n",
              "    }\n",
              "\n",
              "    .colab-df-convert:hover {\n",
              "      background-color: #E2EBFA;\n",
              "      box-shadow: 0px 1px 2px rgba(60, 64, 67, 0.3), 0px 1px 3px 1px rgba(60, 64, 67, 0.15);\n",
              "      fill: #174EA6;\n",
              "    }\n",
              "\n",
              "    [theme=dark] .colab-df-convert {\n",
              "      background-color: #3B4455;\n",
              "      fill: #D2E3FC;\n",
              "    }\n",
              "\n",
              "    [theme=dark] .colab-df-convert:hover {\n",
              "      background-color: #434B5C;\n",
              "      box-shadow: 0px 1px 3px 1px rgba(0, 0, 0, 0.15);\n",
              "      filter: drop-shadow(0px 1px 2px rgba(0, 0, 0, 0.3));\n",
              "      fill: #FFFFFF;\n",
              "    }\n",
              "  </style>\n",
              "\n",
              "      <script>\n",
              "        const buttonEl =\n",
              "          document.querySelector('#df-0c62c728-84bd-4004-8a7b-ddfecaabe64e button.colab-df-convert');\n",
              "        buttonEl.style.display =\n",
              "          google.colab.kernel.accessAllowed ? 'block' : 'none';\n",
              "\n",
              "        async function convertToInteractive(key) {\n",
              "          const element = document.querySelector('#df-0c62c728-84bd-4004-8a7b-ddfecaabe64e');\n",
              "          const dataTable =\n",
              "            await google.colab.kernel.invokeFunction('convertToInteractive',\n",
              "                                                     [key], {});\n",
              "          if (!dataTable) return;\n",
              "\n",
              "          const docLinkHtml = 'Like what you see? Visit the ' +\n",
              "            '<a target=\"_blank\" href=https://colab.research.google.com/notebooks/data_table.ipynb>data table notebook</a>'\n",
              "            + ' to learn more about interactive tables.';\n",
              "          element.innerHTML = '';\n",
              "          dataTable['output_type'] = 'display_data';\n",
              "          await google.colab.output.renderOutput(dataTable, element);\n",
              "          const docLink = document.createElement('div');\n",
              "          docLink.innerHTML = docLinkHtml;\n",
              "          element.appendChild(docLink);\n",
              "        }\n",
              "      </script>\n",
              "    </div>\n",
              "  </div>\n",
              "  "
            ]
          },
          "metadata": {},
          "execution_count": 5
        }
      ]
    },
    {
      "cell_type": "code",
      "source": [
        "# memperoleh informasi umum tentang data di df\n",
        "df.info()"
      ],
      "metadata": {
        "colab": {
          "base_uri": "https://localhost:8080/"
        },
        "id": "1o4Tj2PoWIpe",
        "outputId": "fa172e94-266f-47c7-9495-723db51a0e9a"
      },
      "execution_count": null,
      "outputs": [
        {
          "output_type": "stream",
          "name": "stdout",
          "text": [
            "<class 'pandas.core.frame.DataFrame'>\n",
            "RangeIndex: 65079 entries, 0 to 65078\n",
            "Data columns (total 7 columns):\n",
            " #   Column    Non-Null Count  Dtype \n",
            "---  ------    --------------  ----- \n",
            " 0     userID  65079 non-null  object\n",
            " 1   Track     63736 non-null  object\n",
            " 2   artist    57512 non-null  object\n",
            " 3   genre     63881 non-null  object\n",
            " 4     City    65079 non-null  object\n",
            " 5   time      65079 non-null  object\n",
            " 6   Day       65079 non-null  object\n",
            "dtypes: object(7)\n",
            "memory usage: 3.5+ MB\n"
          ]
        }
      ]
    },
    {
      "cell_type": "code",
      "source": [],
      "metadata": {
        "id": "n8a_ygiCUXpd"
      },
      "execution_count": null,
      "outputs": []
    },
    {
      "cell_type": "markdown",
      "source": [
        "Tabel ini berisi tujuh kolom. Semuanya menyimpan tipe data yang sama, yaitu: objek.\n",
        "\n",
        "Berdasarkan dokumentasi:\n",
        "\n",
        "- `userID` — pengenal pengguna\n",
        "- `Track` — judul trek\n",
        "- `artist` — nama artis\n",
        "- `genre`\n",
        "- `City` — kota tempat pengguna berada\n",
        "- `time` — lama waktu lagu tersebut dimainkan\n",
        "- `Day` — nama hari\n",
        "\n",
        "Kita dapat melihat tiga masalah dengan gaya penulisan nama kolom:\n",
        "\n",
        "- Beberapa nama huruf besar, beberapa huruf kecil.\n",
        "- Ada penggunaan spasi pada beberapa nama.\n",
        "- Ada nama yang memiliki beberapa kata namun digabung dalam satu kata dengan penggabungan huruf kecil dan huruf besar.\n",
        "- Jumlah nilai kolom berbeda. Ini berarti data mengandung nilai yang hilang.\n",
        "\n",
        "**Kesimpulan**\n",
        "\n",
        "Setiap baris dalam tabel menyimpan data pada lagu yang dimainkan. Beberapa kolom menggambarkan lagu itu sendiri: judul, artis, dan genre. Sisanya menyampaikan informasi tentang pengguna: kota asal mereka, waktu mereka memutar lagu.\n",
        "\n",
        "Jelas bahwa data tersebut cukup untuk menguji hipotesis. Namun, ada nilai-nilai yang hilang.\n",
        "\n",
        "Selanjutnya, kita perlu melakukan pra-pemrosesan data terlebih dahulu."
      ],
      "metadata": {
        "id": "iJIi3Km6UYCI"
      }
    },
    {
      "cell_type": "markdown",
      "source": [
        "# Tahap 2: Pra-pemrosesan Data"
      ],
      "metadata": {
        "id": "Tertt6_dZeoX"
      }
    },
    {
      "cell_type": "markdown",
      "source": [
        "## Gaya Penulisan Judul "
      ],
      "metadata": {
        "id": "iWyL98FcTxhM"
      }
    },
    {
      "cell_type": "code",
      "source": [
        "# 1. Gaya Penulisan Judul \n",
        "\n",
        "# daftar nama kolom di tabel df\n",
        "df.columns"
      ],
      "metadata": {
        "colab": {
          "base_uri": "https://localhost:8080/"
        },
        "id": "KzGKD91lZvyN",
        "outputId": "9db48feb-5cf5-4771-cf4a-5c54708c2197"
      },
      "execution_count": null,
      "outputs": [
        {
          "output_type": "execute_result",
          "data": {
            "text/plain": [
              "Index(['  userID', 'Track', 'artist', 'genre', '  City  ', 'time', 'Day'], dtype='object')"
            ]
          },
          "metadata": {},
          "execution_count": 7
        }
      ]
    },
    {
      "cell_type": "markdown",
      "source": [
        "Kita akan mengubah nama kolom sesuai dengan aturan gaya penulisan yang baik:\n",
        "\n",
        "- Jika nama memiliki beberapa kata, gunakan snake_case\n",
        "- Semua karakter harus menggunakan huruf kecil\n",
        "- Hapus spasi"
      ],
      "metadata": {
        "id": "NIO4LOStUQJ7"
      }
    },
    {
      "cell_type": "code",
      "source": [
        "# mengganti nama kolom\n",
        "df = df.rename(\n",
        "    columns={\n",
        "      '  userID': 'user_id',\n",
        "      'Track': 'track',\n",
        "      '  City  ': 'city',\n",
        "      'Day': 'day',\n",
        "    }\n",
        ")"
      ],
      "metadata": {
        "id": "FfN1xXZ8amOr"
      },
      "execution_count": null,
      "outputs": []
    },
    {
      "cell_type": "code",
      "source": [
        "# hasil pengecekan: daftar nama kolom\n",
        "df.columns"
      ],
      "metadata": {
        "colab": {
          "base_uri": "https://localhost:8080/"
        },
        "id": "OOr63PSlbMtz",
        "outputId": "ea34c896-b398-4015-bcfd-b23a195229f1"
      },
      "execution_count": null,
      "outputs": [
        {
          "output_type": "execute_result",
          "data": {
            "text/plain": [
              "Index(['user_id', 'track', 'artist', 'genre', 'city', 'time', 'day'], dtype='object')"
            ]
          },
          "metadata": {},
          "execution_count": 9
        }
      ]
    },
    {
      "cell_type": "markdown",
      "source": [
        "## Nilai-Nilai yang Hilang"
      ],
      "metadata": {
        "id": "AliYYk3MTtry"
      }
    },
    {
      "cell_type": "code",
      "source": [
        "# 2. Nilai-Nilai yang Hilang\n",
        "# menghitung nilai yang hilang\n",
        "df.isna().sum()"
      ],
      "metadata": {
        "colab": {
          "base_uri": "https://localhost:8080/"
        },
        "id": "zX0T_7ZRbQF0",
        "outputId": "ddcf203d-e5e1-49c3-9c21-ad2b33c4dc23"
      },
      "execution_count": null,
      "outputs": [
        {
          "output_type": "execute_result",
          "data": {
            "text/plain": [
              "user_id       0\n",
              "track      1343\n",
              "artist     7567\n",
              "genre      1198\n",
              "city          0\n",
              "time          0\n",
              "day           0\n",
              "dtype: int64"
            ]
          },
          "metadata": {},
          "execution_count": 10
        }
      ]
    },
    {
      "cell_type": "markdown",
      "source": [
        "Ganti nilai yang hilang pada `track`, `artist`, dan `genre` dengan string `unknown`. Untuk melakukannya, kita akan membuat list `columns_to_replace`, kemudian melakukan loop dengan `for`, dan ganti nilai yang hilang di setiap kolom."
      ],
      "metadata": {
        "id": "41WQI0O9T-HS"
      }
    },
    {
      "cell_type": "code",
      "source": [
        "# loop nama kolom dan ganti nilai yang hilang dengan 'unknown'\n",
        "column_to_replace = ['track', 'artist', 'genre']\n",
        "\n",
        "# cara pertama\n",
        "for column in column_to_replace:\n",
        "    df.loc[df[column].isna(), column] = 'unknown'\n"
      ],
      "metadata": {
        "id": "BmVUW2nhbtPX"
      },
      "execution_count": null,
      "outputs": []
    },
    {
      "cell_type": "code",
      "source": [
        "# menghitung kembali nilai yang hilang\n",
        "df.isna().sum()"
      ],
      "metadata": {
        "colab": {
          "base_uri": "https://localhost:8080/"
        },
        "id": "Cy2PDdzic2nb",
        "outputId": "88b3447b-9c7f-48d1-deb9-921d7a0c96fa"
      },
      "execution_count": null,
      "outputs": [
        {
          "output_type": "execute_result",
          "data": {
            "text/plain": [
              "user_id    0\n",
              "track      0\n",
              "artist     0\n",
              "genre      0\n",
              "city       0\n",
              "time       0\n",
              "day        0\n",
              "dtype: int64"
            ]
          },
          "metadata": {},
          "execution_count": 12
        }
      ]
    },
    {
      "cell_type": "markdown",
      "source": [
        "## Data Duplikat"
      ],
      "metadata": {
        "id": "5dxlFOBeTk2E"
      }
    },
    {
      "cell_type": "code",
      "source": [
        "# 3. Duplikat\n",
        "# menghitung duplikat yang jelas\n",
        "df.duplicated().sum()"
      ],
      "metadata": {
        "colab": {
          "base_uri": "https://localhost:8080/"
        },
        "id": "bdXhwYoPdKdz",
        "outputId": "964cac89-dae1-49ee-9dd0-53647493d5e6"
      },
      "execution_count": null,
      "outputs": [
        {
          "output_type": "execute_result",
          "data": {
            "text/plain": [
              "3826"
            ]
          },
          "metadata": {},
          "execution_count": 13
        }
      ]
    },
    {
      "cell_type": "code",
      "source": [
        "# menghapus duplikat yang jelas\n",
        "df = df.drop_duplicates().reset_index(drop=True) # untuk melakukan reset ulang pada index yang terbentuk "
      ],
      "metadata": {
        "id": "ZwuUUz1bdUF-"
      },
      "execution_count": null,
      "outputs": []
    },
    {
      "cell_type": "code",
      "source": [
        "# melihat kembali table df\n",
        "df.head()"
      ],
      "metadata": {
        "colab": {
          "base_uri": "https://localhost:8080/",
          "height": 206
        },
        "id": "YZJJ0PnVHgtY",
        "outputId": "7a401d3a-6c15-4990-f56f-7da5ecf96dc8"
      },
      "execution_count": null,
      "outputs": [
        {
          "output_type": "execute_result",
          "data": {
            "text/plain": [
              "    user_id                        track            artist  genre  \\\n",
              "0  FFB692EC            Kamigata To Boots  The Mass Missile   rock   \n",
              "1  55204538  Delayed Because of Accident  Andreas Rönnberg   rock   \n",
              "2    20EC38            Funiculì funiculà       Mario Lanza    pop   \n",
              "3  A3DD03C9        Dragons in the Sunset        Fire + Ice   folk   \n",
              "4  E2DC1FAE                  Soul People        Space Echo  dance   \n",
              "\n",
              "          city      time        day  \n",
              "0  Shelbyville  20:28:33  Wednesday  \n",
              "1  Springfield  14:07:09     Friday  \n",
              "2  Shelbyville  20:58:07  Wednesday  \n",
              "3  Shelbyville  08:37:09     Monday  \n",
              "4  Springfield  08:34:34     Monday  "
            ],
            "text/html": [
              "\n",
              "  <div id=\"df-6d905722-00a0-46c8-86a2-0888db27973e\">\n",
              "    <div class=\"colab-df-container\">\n",
              "      <div>\n",
              "<style scoped>\n",
              "    .dataframe tbody tr th:only-of-type {\n",
              "        vertical-align: middle;\n",
              "    }\n",
              "\n",
              "    .dataframe tbody tr th {\n",
              "        vertical-align: top;\n",
              "    }\n",
              "\n",
              "    .dataframe thead th {\n",
              "        text-align: right;\n",
              "    }\n",
              "</style>\n",
              "<table border=\"1\" class=\"dataframe\">\n",
              "  <thead>\n",
              "    <tr style=\"text-align: right;\">\n",
              "      <th></th>\n",
              "      <th>user_id</th>\n",
              "      <th>track</th>\n",
              "      <th>artist</th>\n",
              "      <th>genre</th>\n",
              "      <th>city</th>\n",
              "      <th>time</th>\n",
              "      <th>day</th>\n",
              "    </tr>\n",
              "  </thead>\n",
              "  <tbody>\n",
              "    <tr>\n",
              "      <th>0</th>\n",
              "      <td>FFB692EC</td>\n",
              "      <td>Kamigata To Boots</td>\n",
              "      <td>The Mass Missile</td>\n",
              "      <td>rock</td>\n",
              "      <td>Shelbyville</td>\n",
              "      <td>20:28:33</td>\n",
              "      <td>Wednesday</td>\n",
              "    </tr>\n",
              "    <tr>\n",
              "      <th>1</th>\n",
              "      <td>55204538</td>\n",
              "      <td>Delayed Because of Accident</td>\n",
              "      <td>Andreas Rönnberg</td>\n",
              "      <td>rock</td>\n",
              "      <td>Springfield</td>\n",
              "      <td>14:07:09</td>\n",
              "      <td>Friday</td>\n",
              "    </tr>\n",
              "    <tr>\n",
              "      <th>2</th>\n",
              "      <td>20EC38</td>\n",
              "      <td>Funiculì funiculà</td>\n",
              "      <td>Mario Lanza</td>\n",
              "      <td>pop</td>\n",
              "      <td>Shelbyville</td>\n",
              "      <td>20:58:07</td>\n",
              "      <td>Wednesday</td>\n",
              "    </tr>\n",
              "    <tr>\n",
              "      <th>3</th>\n",
              "      <td>A3DD03C9</td>\n",
              "      <td>Dragons in the Sunset</td>\n",
              "      <td>Fire + Ice</td>\n",
              "      <td>folk</td>\n",
              "      <td>Shelbyville</td>\n",
              "      <td>08:37:09</td>\n",
              "      <td>Monday</td>\n",
              "    </tr>\n",
              "    <tr>\n",
              "      <th>4</th>\n",
              "      <td>E2DC1FAE</td>\n",
              "      <td>Soul People</td>\n",
              "      <td>Space Echo</td>\n",
              "      <td>dance</td>\n",
              "      <td>Springfield</td>\n",
              "      <td>08:34:34</td>\n",
              "      <td>Monday</td>\n",
              "    </tr>\n",
              "  </tbody>\n",
              "</table>\n",
              "</div>\n",
              "      <button class=\"colab-df-convert\" onclick=\"convertToInteractive('df-6d905722-00a0-46c8-86a2-0888db27973e')\"\n",
              "              title=\"Convert this dataframe to an interactive table.\"\n",
              "              style=\"display:none;\">\n",
              "        \n",
              "  <svg xmlns=\"http://www.w3.org/2000/svg\" height=\"24px\"viewBox=\"0 0 24 24\"\n",
              "       width=\"24px\">\n",
              "    <path d=\"M0 0h24v24H0V0z\" fill=\"none\"/>\n",
              "    <path d=\"M18.56 5.44l.94 2.06.94-2.06 2.06-.94-2.06-.94-.94-2.06-.94 2.06-2.06.94zm-11 1L8.5 8.5l.94-2.06 2.06-.94-2.06-.94L8.5 2.5l-.94 2.06-2.06.94zm10 10l.94 2.06.94-2.06 2.06-.94-2.06-.94-.94-2.06-.94 2.06-2.06.94z\"/><path d=\"M17.41 7.96l-1.37-1.37c-.4-.4-.92-.59-1.43-.59-.52 0-1.04.2-1.43.59L10.3 9.45l-7.72 7.72c-.78.78-.78 2.05 0 2.83L4 21.41c.39.39.9.59 1.41.59.51 0 1.02-.2 1.41-.59l7.78-7.78 2.81-2.81c.8-.78.8-2.07 0-2.86zM5.41 20L4 18.59l7.72-7.72 1.47 1.35L5.41 20z\"/>\n",
              "  </svg>\n",
              "      </button>\n",
              "      \n",
              "  <style>\n",
              "    .colab-df-container {\n",
              "      display:flex;\n",
              "      flex-wrap:wrap;\n",
              "      gap: 12px;\n",
              "    }\n",
              "\n",
              "    .colab-df-convert {\n",
              "      background-color: #E8F0FE;\n",
              "      border: none;\n",
              "      border-radius: 50%;\n",
              "      cursor: pointer;\n",
              "      display: none;\n",
              "      fill: #1967D2;\n",
              "      height: 32px;\n",
              "      padding: 0 0 0 0;\n",
              "      width: 32px;\n",
              "    }\n",
              "\n",
              "    .colab-df-convert:hover {\n",
              "      background-color: #E2EBFA;\n",
              "      box-shadow: 0px 1px 2px rgba(60, 64, 67, 0.3), 0px 1px 3px 1px rgba(60, 64, 67, 0.15);\n",
              "      fill: #174EA6;\n",
              "    }\n",
              "\n",
              "    [theme=dark] .colab-df-convert {\n",
              "      background-color: #3B4455;\n",
              "      fill: #D2E3FC;\n",
              "    }\n",
              "\n",
              "    [theme=dark] .colab-df-convert:hover {\n",
              "      background-color: #434B5C;\n",
              "      box-shadow: 0px 1px 3px 1px rgba(0, 0, 0, 0.15);\n",
              "      filter: drop-shadow(0px 1px 2px rgba(0, 0, 0, 0.3));\n",
              "      fill: #FFFFFF;\n",
              "    }\n",
              "  </style>\n",
              "\n",
              "      <script>\n",
              "        const buttonEl =\n",
              "          document.querySelector('#df-6d905722-00a0-46c8-86a2-0888db27973e button.colab-df-convert');\n",
              "        buttonEl.style.display =\n",
              "          google.colab.kernel.accessAllowed ? 'block' : 'none';\n",
              "\n",
              "        async function convertToInteractive(key) {\n",
              "          const element = document.querySelector('#df-6d905722-00a0-46c8-86a2-0888db27973e');\n",
              "          const dataTable =\n",
              "            await google.colab.kernel.invokeFunction('convertToInteractive',\n",
              "                                                     [key], {});\n",
              "          if (!dataTable) return;\n",
              "\n",
              "          const docLinkHtml = 'Like what you see? Visit the ' +\n",
              "            '<a target=\"_blank\" href=https://colab.research.google.com/notebooks/data_table.ipynb>data table notebook</a>'\n",
              "            + ' to learn more about interactive tables.';\n",
              "          element.innerHTML = '';\n",
              "          dataTable['output_type'] = 'display_data';\n",
              "          await google.colab.output.renderOutput(dataTable, element);\n",
              "          const docLink = document.createElement('div');\n",
              "          docLink.innerHTML = docLinkHtml;\n",
              "          element.appendChild(docLink);\n",
              "        }\n",
              "      </script>\n",
              "    </div>\n",
              "  </div>\n",
              "  "
            ]
          },
          "metadata": {},
          "execution_count": 15
        }
      ]
    },
    {
      "cell_type": "code",
      "source": [
        "# memeriksa kembali duplikat\n",
        "df.duplicated().sum()"
      ],
      "metadata": {
        "colab": {
          "base_uri": "https://localhost:8080/"
        },
        "id": "pcJrasWQdaRK",
        "outputId": "98ba101f-0bf4-4471-c26c-991bf41afa91"
      },
      "execution_count": null,
      "outputs": [
        {
          "output_type": "execute_result",
          "data": {
            "text/plain": [
              "0"
            ]
          },
          "metadata": {},
          "execution_count": 16
        }
      ]
    },
    {
      "cell_type": "markdown",
      "source": [
        "Selanjutnya kita akan menghapus duplikat implisit di kolom genre. Misalnya, nama genre dapat ditulis dengan cara yang berbeda. Kesalahan seperti ini juga akan memengaruhi hasil."
      ],
      "metadata": {
        "id": "bzsQ503rTaAK"
      }
    },
    {
      "cell_type": "code",
      "source": [
        "# duplikat implisit\n",
        "# melihat nama genre yang unik\n",
        "df1 = df.sort_values('genre')\n",
        "df2 = df1['genre'].unique()\n",
        "df2"
      ],
      "metadata": {
        "colab": {
          "base_uri": "https://localhost:8080/"
        },
        "id": "Nick-7kydhl-",
        "outputId": "e2e884cb-afe6-4ed9-a2d4-46a2114c6d40"
      },
      "execution_count": null,
      "outputs": [
        {
          "output_type": "execute_result",
          "data": {
            "text/plain": [
              "array(['acid', 'acoustic', 'action', 'adult', 'africa', 'afrikaans',\n",
              "       'alternative', 'ambient', 'americana', 'animated', 'anime',\n",
              "       'arabesk', 'arabic', 'arena', 'argentinetango', 'art', 'audiobook',\n",
              "       'avantgarde', 'axé', 'baile', 'balkan', 'beats', 'bigroom',\n",
              "       'black', 'bluegrass', 'blues', 'bollywood', 'bossa', 'brazilian',\n",
              "       'breakbeat', 'breaks', 'broadway', 'cantautori', 'cantopop',\n",
              "       'canzone', 'caribbean', 'caucasian', 'celtic', 'chamber',\n",
              "       'children', 'chill', 'chinese', 'choral', 'christian', 'christmas',\n",
              "       'classical', 'classicmetal', 'club', 'colombian', 'comedy',\n",
              "       'conjazz', 'contemporary', 'country', 'cuban', 'dance',\n",
              "       'dancehall', 'dancepop', 'dark', 'death', 'deep', 'deutschrock',\n",
              "       'deutschspr', 'dirty', 'disco', 'dnb', 'documentary', 'downbeat',\n",
              "       'downtempo', 'drum', 'dub', 'dubstep', 'eastern', 'easy',\n",
              "       'electronic', 'electropop', 'emo', 'entehno', 'epicmetal',\n",
              "       'estrada', 'ethnic', 'eurofolk', 'european', 'experimental',\n",
              "       'extrememetal', 'fado', 'film', 'fitness', 'flamenco', 'folk',\n",
              "       'folklore', 'folkmetal', 'folkrock', 'folktronica', 'forró',\n",
              "       'frankreich', 'französisch', 'french', 'funk', 'future', 'gangsta',\n",
              "       'garage', 'german', 'ghazal', 'gitarre', 'glitch', 'gospel',\n",
              "       'gothic', 'grime', 'grunge', 'gypsy', 'handsup', \"hard'n'heavy\",\n",
              "       'hardcore', 'hardstyle', 'hardtechno', 'hip', 'hip-hop', 'hiphop',\n",
              "       'historisch', 'holiday', 'hop', 'horror', 'house', 'idm',\n",
              "       'independent', 'indian', 'indie', 'indipop', 'industrial',\n",
              "       'inspirational', 'instrumental', 'international', 'irish', 'jam',\n",
              "       'japanese', 'jazz', 'jewish', 'jpop', 'jungle', 'k-pop',\n",
              "       'karadeniz', 'karaoke', 'kayokyoku', 'korean', 'laiko', 'latin',\n",
              "       'latino', 'leftfield', 'local', 'lounge', 'loungeelectronic',\n",
              "       'lovers', 'malaysian', 'mandopop', 'marschmusik', 'meditative',\n",
              "       'mediterranean', 'melodic', 'metal', 'metalcore', 'mexican',\n",
              "       'middle', 'minimal', 'miscellaneous', 'modern', 'mood', 'mpb',\n",
              "       'muslim', 'native', 'neoklassik', 'neue', 'new', 'newage',\n",
              "       'newwave', 'nu', 'nujazz', 'numetal', 'oceania', 'old', 'opera',\n",
              "       'orchestral', 'other', 'piano', 'pop', 'popelectronic',\n",
              "       'popeurodance', 'post', 'posthardcore', 'postrock', 'power',\n",
              "       'progmetal', 'progressive', 'psychedelic', 'punjabi', 'punk',\n",
              "       'quebecois', 'ragga', 'ram', 'rancheras', 'rap', 'rave', 'reggae',\n",
              "       'reggaeton', 'regional', 'relax', 'religious', 'retro', 'rhythm',\n",
              "       'rnb', 'rnr', 'rock', 'rockabilly', 'romance', 'roots', 'ruspop',\n",
              "       'rusrap', 'rusrock', 'salsa', 'samba', 'schlager', 'self',\n",
              "       'sertanejo', 'shoegazing', 'showtunes', 'singer', 'ska', 'slow',\n",
              "       'smooth', 'soul', 'soulful', 'sound', 'soundtrack', 'southern',\n",
              "       'specialty', 'speech', 'spiritual', 'sport', 'stonerrock', 'surf',\n",
              "       'swing', 'synthpop', 'sängerportrait', 'tango', 'tanzorchester',\n",
              "       'taraftar', 'tech', 'techno', 'thrash', 'top', 'traditional',\n",
              "       'tradjazz', 'trance', 'tribal', 'trip', 'triphop', 'tropical',\n",
              "       'türk', 'türkçe', 'unknown', 'urban', 'uzbek', 'variété', 'vi',\n",
              "       'videogame', 'vocal', 'western', 'world', 'worldbeat', 'ïîï'],\n",
              "      dtype=object)"
            ]
          },
          "metadata": {},
          "execution_count": 17
        }
      ]
    },
    {
      "cell_type": "markdown",
      "source": [
        "Kita melihat duplikat implisit berikut:\n",
        "\n",
        "- hip\n",
        "- hop\n",
        "- hip-hop\n",
        "\n",
        "Untuk menghapusnya, gunakan fungsi `replace_wrong_genres()` dengan dua parameter:\n",
        "\n",
        "`wrong_genres` = — daftar duplikat\n",
        "\n",
        "`correct_genre` = — string dengan nilai yang benar"
      ],
      "metadata": {
        "id": "tJ98Lp14TCr1"
      }
    },
    {
      "cell_type": "code",
      "source": [
        "# fungsi untuk mengganti duplikat implisit\n",
        "def replace_wrong_genres(wrong_genres, correct_genre):\n",
        "    for wrong_genre in wrong_genres:\n",
        "        df['genre'] = df['genre'].replace(wrong_genres, correct_genre)"
      ],
      "metadata": {
        "id": "O9sBP29KdmuL"
      },
      "execution_count": null,
      "outputs": []
    },
    {
      "cell_type": "code",
      "source": [
        "# menghapus duplikat implisit\n",
        "duplicates = ['hip', 'hop', 'hip-hop']\n",
        "genre = 'hiphop'\n",
        "replace_wrong_genres(duplicates, genre)"
      ],
      "metadata": {
        "id": "JlVeggt_duKq"
      },
      "execution_count": null,
      "outputs": []
    },
    {
      "cell_type": "code",
      "source": [
        "# memeriksa duplikat implisit\n",
        "df1 = df.sort_values('genre')\n",
        "df2 = df1['genre'].unique()\n",
        "df2"
      ],
      "metadata": {
        "colab": {
          "base_uri": "https://localhost:8080/"
        },
        "id": "_WdX2wPldzfg",
        "outputId": "0a5ca227-0c28-4859-cc9a-7c59eeab7eef"
      },
      "execution_count": null,
      "outputs": [
        {
          "output_type": "execute_result",
          "data": {
            "text/plain": [
              "array(['acid', 'acoustic', 'action', 'adult', 'africa', 'afrikaans',\n",
              "       'alternative', 'ambient', 'americana', 'animated', 'anime',\n",
              "       'arabesk', 'arabic', 'arena', 'argentinetango', 'art', 'audiobook',\n",
              "       'avantgarde', 'axé', 'baile', 'balkan', 'beats', 'bigroom',\n",
              "       'black', 'bluegrass', 'blues', 'bollywood', 'bossa', 'brazilian',\n",
              "       'breakbeat', 'breaks', 'broadway', 'cantautori', 'cantopop',\n",
              "       'canzone', 'caribbean', 'caucasian', 'celtic', 'chamber',\n",
              "       'children', 'chill', 'chinese', 'choral', 'christian', 'christmas',\n",
              "       'classical', 'classicmetal', 'club', 'colombian', 'comedy',\n",
              "       'conjazz', 'contemporary', 'country', 'cuban', 'dance',\n",
              "       'dancehall', 'dancepop', 'dark', 'death', 'deep', 'deutschrock',\n",
              "       'deutschspr', 'dirty', 'disco', 'dnb', 'documentary', 'downbeat',\n",
              "       'downtempo', 'drum', 'dub', 'dubstep', 'eastern', 'easy',\n",
              "       'electronic', 'electropop', 'emo', 'entehno', 'epicmetal',\n",
              "       'estrada', 'ethnic', 'eurofolk', 'european', 'experimental',\n",
              "       'extrememetal', 'fado', 'film', 'fitness', 'flamenco', 'folk',\n",
              "       'folklore', 'folkmetal', 'folkrock', 'folktronica', 'forró',\n",
              "       'frankreich', 'französisch', 'french', 'funk', 'future', 'gangsta',\n",
              "       'garage', 'german', 'ghazal', 'gitarre', 'glitch', 'gospel',\n",
              "       'gothic', 'grime', 'grunge', 'gypsy', 'handsup', \"hard'n'heavy\",\n",
              "       'hardcore', 'hardstyle', 'hardtechno', 'hiphop', 'historisch',\n",
              "       'holiday', 'horror', 'house', 'idm', 'independent', 'indian',\n",
              "       'indie', 'indipop', 'industrial', 'inspirational', 'instrumental',\n",
              "       'international', 'irish', 'jam', 'japanese', 'jazz', 'jewish',\n",
              "       'jpop', 'jungle', 'k-pop', 'karadeniz', 'karaoke', 'kayokyoku',\n",
              "       'korean', 'laiko', 'latin', 'latino', 'leftfield', 'local',\n",
              "       'lounge', 'loungeelectronic', 'lovers', 'malaysian', 'mandopop',\n",
              "       'marschmusik', 'meditative', 'mediterranean', 'melodic', 'metal',\n",
              "       'metalcore', 'mexican', 'middle', 'minimal', 'miscellaneous',\n",
              "       'modern', 'mood', 'mpb', 'muslim', 'native', 'neoklassik', 'neue',\n",
              "       'new', 'newage', 'newwave', 'nu', 'nujazz', 'numetal', 'oceania',\n",
              "       'old', 'opera', 'orchestral', 'other', 'piano', 'pop',\n",
              "       'popelectronic', 'popeurodance', 'post', 'posthardcore',\n",
              "       'postrock', 'power', 'progmetal', 'progressive', 'psychedelic',\n",
              "       'punjabi', 'punk', 'quebecois', 'ragga', 'ram', 'rancheras', 'rap',\n",
              "       'rave', 'reggae', 'reggaeton', 'regional', 'relax', 'religious',\n",
              "       'retro', 'rhythm', 'rnb', 'rnr', 'rock', 'rockabilly', 'romance',\n",
              "       'roots', 'ruspop', 'rusrap', 'rusrock', 'salsa', 'samba',\n",
              "       'schlager', 'self', 'sertanejo', 'shoegazing', 'showtunes',\n",
              "       'singer', 'ska', 'slow', 'smooth', 'soul', 'soulful', 'sound',\n",
              "       'soundtrack', 'southern', 'specialty', 'speech', 'spiritual',\n",
              "       'sport', 'stonerrock', 'surf', 'swing', 'synthpop',\n",
              "       'sängerportrait', 'tango', 'tanzorchester', 'taraftar', 'tech',\n",
              "       'techno', 'thrash', 'top', 'traditional', 'tradjazz', 'trance',\n",
              "       'tribal', 'trip', 'triphop', 'tropical', 'türk', 'türkçe',\n",
              "       'unknown', 'urban', 'uzbek', 'variété', 'vi', 'videogame', 'vocal',\n",
              "       'western', 'world', 'worldbeat', 'ïîï'], dtype=object)"
            ]
          },
          "metadata": {},
          "execution_count": 20
        }
      ]
    },
    {
      "cell_type": "markdown",
      "source": [
        "**Kesimpulan**\n",
        "\n",
        "Kita mendeteksi tiga masalah dengan data:\n",
        "\n",
        "- Gaya penulisan judul yang salah\n",
        "- Nilai-nilai yang hilang\n",
        "- Duplikat yang jelas dan implisit\n",
        "\n",
        "Judul kolom telah dibersihkan untuk mempermudah pemrosesan tabel.\n",
        "\n",
        "Semua nilai yang hilang telah diganti dengan 'unknown'. Tapi kita masih harus melihat apakah nilai yang hilang dalam 'genre' akan memengaruhi perhitungan kita.\n",
        "\n",
        "Tidak adanya duplikat akan membuat hasil lebih tepat dan lebih mudah dipahami.\n",
        "\n",
        "Sekarang kita dapat melanjutkan ke pengujian hipotesis."
      ],
      "metadata": {
        "id": "87W88zTTSuQF"
      }
    },
    {
      "cell_type": "markdown",
      "source": [
        "# Tahap 3. Menguji Hipotesis"
      ],
      "metadata": {
        "id": "AdkyGZCseEse"
      }
    },
    {
      "cell_type": "markdown",
      "source": [
        "### Hipotesis 1: Membandingkan Perilaku Pengguna di Dua Kota\n",
        "\n",
        "Menurut hipotesis pertama, pengguna dari Springfield dan Shelbyville memiliki perbedaan dalam mendengarkan musik. Pengujian ini menggunakan data pada hari: Senin, Rabu, dan Jumat.\n",
        "\n",
        "- Pisahkan pengguna ke dalam kelompok berdasarkan kota.\n",
        "- Bandingkan berapa banyak lagu yang dimainkan setiap kelompok pada hari Senin, Rabu, dan Jumat."
      ],
      "metadata": {
        "id": "vVF_DjW9eV3q"
      }
    },
    {
      "cell_type": "code",
      "source": [
        "# Menghitung lagu yang diputar di setiap kota\n",
        "df.groupby('city').count()['track']"
      ],
      "metadata": {
        "colab": {
          "base_uri": "https://localhost:8080/"
        },
        "id": "oOxSAsuPeW2X",
        "outputId": "79102de3-e330-4286-dd7b-43f6462b01a0"
      },
      "execution_count": null,
      "outputs": [
        {
          "output_type": "execute_result",
          "data": {
            "text/plain": [
              "city\n",
              "Shelbyville    18512\n",
              "Springfield    42741\n",
              "Name: track, dtype: int64"
            ]
          },
          "metadata": {},
          "execution_count": 21
        }
      ]
    },
    {
      "cell_type": "code",
      "source": [
        "# membagi data berdasarkan kota\n",
        "track_by_city = df.groupby('city').count()['track']\n",
        "track_by_city"
      ],
      "metadata": {
        "id": "D_rimRmPWEBn",
        "colab": {
          "base_uri": "https://localhost:8080/"
        },
        "outputId": "63241cc3-4eaf-4cde-a65a-11c231d83505"
      },
      "execution_count": null,
      "outputs": [
        {
          "output_type": "execute_result",
          "data": {
            "text/plain": [
              "city\n",
              "Shelbyville    18512\n",
              "Springfield    42741\n",
              "Name: track, dtype: int64"
            ]
          },
          "metadata": {},
          "execution_count": 24
        }
      ]
    },
    {
      "cell_type": "markdown",
      "source": [
        "Springfield memiliki lebih banyak lagu yang dimainkan daripada Shelbyville. Namun bukan berarti warga Springfield lebih sering mendengarkan musik. Kota ini lebih besar, dan memiliki lebih banyak pengguna.\n",
        "\n",
        "Sekarang kelompokkan data menurut hari dan temukan jumlah lagu yang diputar pada hari Senin, Rabu, dan Jumat.\n",
        "\n"
      ],
      "metadata": {
        "id": "PFXHefMiSPoC"
      }
    },
    {
      "cell_type": "code",
      "source": [
        "# Menghitung trek yang diputar pada masing-masing hari\n",
        "df.groupby('day').count()['track']"
      ],
      "metadata": {
        "colab": {
          "base_uri": "https://localhost:8080/"
        },
        "id": "5nlKz3TYWN80",
        "outputId": "138dbe84-fc98-455c-d356-6413bf1ba839"
      },
      "execution_count": null,
      "outputs": [
        {
          "output_type": "execute_result",
          "data": {
            "text/plain": [
              "day\n",
              "Friday       21840\n",
              "Monday       21354\n",
              "Wednesday    18059\n",
              "Name: track, dtype: int64"
            ]
          },
          "metadata": {},
          "execution_count": 25
        }
      ]
    },
    {
      "cell_type": "code",
      "source": [
        "# membagi data berdasarkan hari\n",
        "track_by_day = df.groupby('day').count()['track']\n",
        "track_by_day"
      ],
      "metadata": {
        "id": "x1ohPunvWS0U",
        "colab": {
          "base_uri": "https://localhost:8080/"
        },
        "outputId": "db85ee35-d5a1-43b3-ec9c-360f85a66811"
      },
      "execution_count": null,
      "outputs": [
        {
          "output_type": "execute_result",
          "data": {
            "text/plain": [
              "day\n",
              "Friday       21840\n",
              "Monday       21354\n",
              "Wednesday    18059\n",
              "Name: track, dtype: int64"
            ]
          },
          "metadata": {},
          "execution_count": 26
        }
      ]
    },
    {
      "cell_type": "markdown",
      "source": [
        "Rabu adalah hari paling tenang secara keseluruhan. Tetapi jika kita mempertimbangkan kedua kota secara terpisah, kita mungkin akan memiliki kesimpulan yang berbeda.\n",
        "\n",
        "Selanjutnya kita akan menulis fungsi yang akan dikelompokkan berdasarkan kota dan hari.\n",
        "\n",
        "Fungsinya adalah `number_tracks()` untuk menghitung jumlah lagu yang diputar untuk hari dan kota tertentu. Ini akan membutuhkan dua parameter:\n",
        "\n",
        "1. nama hari\n",
        "2. nama kota\n",
        "\n",
        "Dalam fungsi, gunakan variabel untuk menyimpan baris dari tabel asli, di mana:\n",
        "\n",
        "- Nilai kolom 'day' sama dengan parameter day\n",
        "- Nilai kolom 'city' sama dengan parameter city\n",
        "\n",
        "Terapkan pemfilteran berurutan dengan pengindeksan logis.\n",
        "\n",
        "Kemudian hitung nilai kolom 'user_id' pada tabel yang dihasilkan. Simpan hasilnya ke variabel baru. Kembalikan variabel ini dari fungsi."
      ],
      "metadata": {
        "id": "CTtC-IyoV7Zp"
      }
    },
    {
      "cell_type": "code",
      "source": [
        "# <membuat fungsi number_tracks()>\n",
        "# Kita akan mendeklarasikan sebuah fungsi dengan dua parameter: day=, city=.\n",
        "# Biarkan variabel track_list menyimpan baris df di mana\n",
        "# nilai di kolom 'day' sama dengan parameter day= dan, pada saat yang sama,\n",
        "# nilai pada kolom 'city' sama dengan parameter city= (terapkan pemfilteran berurutan\n",
        "# dengan pengindeksan logis).\n",
        "# Biarkan variabel track_list_count menyimpan jumlah nilai kolom 'user_id' pada track_list\n",
        "# (temukan dengan metode count()).\n",
        "# Biarkan fungsi menghasilkan jumlah: nilai track_list_count.\n",
        "\n",
        "def number_tracks(dataset, day, city):\n",
        "    track_list = df.loc[(dataset['day']==day) & (dataset['city']==city)]\n",
        "    track_list_count = track_list['user_id'].count()\n",
        "    return track_list_count"
      ],
      "metadata": {
        "id": "Hr8iAzehWV0E"
      },
      "execution_count": null,
      "outputs": []
    },
    {
      "cell_type": "markdown",
      "source": [
        "Panggil `number_tracks()` enam kali dan ubahlah nilai parameternya, sehingga Anda bisa mengambil data di kedua kota untuk masing-masing hari tersebut."
      ],
      "metadata": {
        "id": "3WLyz2JxWY4Y"
      }
    },
    {
      "cell_type": "code",
      "source": [
        "# jumlah lagu yang diputar di Springfield pada hari Senin\n",
        "filtered_spr_monday = number_tracks(dataset=df, day='Monday', city='Springfield')\n",
        "filtered_spr_monday"
      ],
      "metadata": {
        "colab": {
          "base_uri": "https://localhost:8080/"
        },
        "id": "hvz5WMDTWj3Y",
        "outputId": "9f3de98a-0ba0-4685-ed4a-02be6a84026c"
      },
      "execution_count": null,
      "outputs": [
        {
          "output_type": "execute_result",
          "data": {
            "text/plain": [
              "15740"
            ]
          },
          "metadata": {},
          "execution_count": 28
        }
      ]
    },
    {
      "cell_type": "code",
      "source": [
        "# jumlah lagu yang diputar di Shelbyville pada hari Senin\n",
        "filtered_shel_monday = number_tracks(dataset=df, day='Monday', city='Shelbyville')\n",
        "filtered_shel_monday"
      ],
      "metadata": {
        "colab": {
          "base_uri": "https://localhost:8080/"
        },
        "id": "JDoEQml-Wl7J",
        "outputId": "d5bd4cb5-ec65-4eeb-bd37-cda983961d71"
      },
      "execution_count": null,
      "outputs": [
        {
          "output_type": "execute_result",
          "data": {
            "text/plain": [
              "5614"
            ]
          },
          "metadata": {},
          "execution_count": 29
        }
      ]
    },
    {
      "cell_type": "code",
      "source": [
        "#  jumlah lagu yang diputar di Springfield pada hari Rabu\n",
        "filtered_spr_wedn = number_tracks(dataset=df, day='Wednesday', city='Springfield')\n",
        "filtered_spr_wedn"
      ],
      "metadata": {
        "colab": {
          "base_uri": "https://localhost:8080/"
        },
        "id": "lKr6xZA7WpeW",
        "outputId": "28494d12-46f8-4d17-cf1a-193cf9398407"
      },
      "execution_count": null,
      "outputs": [
        {
          "output_type": "execute_result",
          "data": {
            "text/plain": [
              "11056"
            ]
          },
          "metadata": {},
          "execution_count": 30
        }
      ]
    },
    {
      "cell_type": "code",
      "source": [
        "#  jumlah lagu yang diputar di Shelbyville pada hari Rabu\n",
        "filtered_shel_wedn = number_tracks(dataset=df, day='Wednesday', city='Shelbyville')\n",
        "filtered_shel_wedn"
      ],
      "metadata": {
        "colab": {
          "base_uri": "https://localhost:8080/"
        },
        "id": "LFuIy2EoWrxx",
        "outputId": "128a7b91-c59a-425f-cd85-e9909d90f934"
      },
      "execution_count": null,
      "outputs": [
        {
          "output_type": "execute_result",
          "data": {
            "text/plain": [
              "7003"
            ]
          },
          "metadata": {},
          "execution_count": 31
        }
      ]
    },
    {
      "cell_type": "code",
      "source": [
        "# jumlah lagu yang diputar di Springfield pada hari Jumat\n",
        "filtered_spr_frid = number_tracks(dataset=df, day='Friday', city='Springfield')\n",
        "filtered_spr_frid"
      ],
      "metadata": {
        "colab": {
          "base_uri": "https://localhost:8080/"
        },
        "id": "7zcPjxHJWs-X",
        "outputId": "dfafc902-67ca-40c9-bc46-5236bf76546b"
      },
      "execution_count": null,
      "outputs": [
        {
          "output_type": "execute_result",
          "data": {
            "text/plain": [
              "15945"
            ]
          },
          "metadata": {},
          "execution_count": 32
        }
      ]
    },
    {
      "cell_type": "code",
      "source": [
        "# jumlah lagu yang diputar di Shelbyville pada hari Jumat\n",
        "filtered_shel_frid = number_tracks(dataset=df, day='Friday', city='Shelbyville')\n",
        "filtered_shel_frid"
      ],
      "metadata": {
        "colab": {
          "base_uri": "https://localhost:8080/"
        },
        "id": "4hoDNs86Wwn0",
        "outputId": "fce0fd29-f42b-47db-e117-594702063d0e"
      },
      "execution_count": null,
      "outputs": [
        {
          "output_type": "execute_result",
          "data": {
            "text/plain": [
              "5895"
            ]
          },
          "metadata": {},
          "execution_count": 33
        }
      ]
    },
    {
      "cell_type": "code",
      "source": [
        "# Gunakan pd.DataFrame untuk membuat tabel, di mana:\n",
        "    # Nama kolom adalah: ['city', 'monday', 'wednesday', 'friday']\n",
        "    # Data adalah hasil yang Anda dapatkan dari number_tracks()\n",
        "\n",
        "# tabel dengan hasil\n",
        "music = [\n",
        "    ['Springfield', 15740, 11056, 15945],\n",
        "    ['Shelbyville', 5614, 7003, 5895],\n",
        "]\n",
        "\n",
        "entries = ['city', 'monday', 'wednesday', 'friday']\n",
        "\n",
        "table_first_hypothesis = pd.DataFrame(data=music, columns=entries)\n",
        "table_first_hypothesis"
      ],
      "metadata": {
        "colab": {
          "base_uri": "https://localhost:8080/",
          "height": 112
        },
        "id": "-DNQJeDLW5yI",
        "outputId": "cadaef6c-ee24-4501-ea1a-782820ee1c9e"
      },
      "execution_count": null,
      "outputs": [
        {
          "output_type": "execute_result",
          "data": {
            "text/plain": [
              "          city  monday  wednesday  friday\n",
              "0  Springfield   15740      11056   15945\n",
              "1  Shelbyville    5614       7003    5895"
            ],
            "text/html": [
              "\n",
              "  <div id=\"df-64a9c7a1-7828-4691-83a2-4933cf6c1f7d\">\n",
              "    <div class=\"colab-df-container\">\n",
              "      <div>\n",
              "<style scoped>\n",
              "    .dataframe tbody tr th:only-of-type {\n",
              "        vertical-align: middle;\n",
              "    }\n",
              "\n",
              "    .dataframe tbody tr th {\n",
              "        vertical-align: top;\n",
              "    }\n",
              "\n",
              "    .dataframe thead th {\n",
              "        text-align: right;\n",
              "    }\n",
              "</style>\n",
              "<table border=\"1\" class=\"dataframe\">\n",
              "  <thead>\n",
              "    <tr style=\"text-align: right;\">\n",
              "      <th></th>\n",
              "      <th>city</th>\n",
              "      <th>monday</th>\n",
              "      <th>wednesday</th>\n",
              "      <th>friday</th>\n",
              "    </tr>\n",
              "  </thead>\n",
              "  <tbody>\n",
              "    <tr>\n",
              "      <th>0</th>\n",
              "      <td>Springfield</td>\n",
              "      <td>15740</td>\n",
              "      <td>11056</td>\n",
              "      <td>15945</td>\n",
              "    </tr>\n",
              "    <tr>\n",
              "      <th>1</th>\n",
              "      <td>Shelbyville</td>\n",
              "      <td>5614</td>\n",
              "      <td>7003</td>\n",
              "      <td>5895</td>\n",
              "    </tr>\n",
              "  </tbody>\n",
              "</table>\n",
              "</div>\n",
              "      <button class=\"colab-df-convert\" onclick=\"convertToInteractive('df-64a9c7a1-7828-4691-83a2-4933cf6c1f7d')\"\n",
              "              title=\"Convert this dataframe to an interactive table.\"\n",
              "              style=\"display:none;\">\n",
              "        \n",
              "  <svg xmlns=\"http://www.w3.org/2000/svg\" height=\"24px\"viewBox=\"0 0 24 24\"\n",
              "       width=\"24px\">\n",
              "    <path d=\"M0 0h24v24H0V0z\" fill=\"none\"/>\n",
              "    <path d=\"M18.56 5.44l.94 2.06.94-2.06 2.06-.94-2.06-.94-.94-2.06-.94 2.06-2.06.94zm-11 1L8.5 8.5l.94-2.06 2.06-.94-2.06-.94L8.5 2.5l-.94 2.06-2.06.94zm10 10l.94 2.06.94-2.06 2.06-.94-2.06-.94-.94-2.06-.94 2.06-2.06.94z\"/><path d=\"M17.41 7.96l-1.37-1.37c-.4-.4-.92-.59-1.43-.59-.52 0-1.04.2-1.43.59L10.3 9.45l-7.72 7.72c-.78.78-.78 2.05 0 2.83L4 21.41c.39.39.9.59 1.41.59.51 0 1.02-.2 1.41-.59l7.78-7.78 2.81-2.81c.8-.78.8-2.07 0-2.86zM5.41 20L4 18.59l7.72-7.72 1.47 1.35L5.41 20z\"/>\n",
              "  </svg>\n",
              "      </button>\n",
              "      \n",
              "  <style>\n",
              "    .colab-df-container {\n",
              "      display:flex;\n",
              "      flex-wrap:wrap;\n",
              "      gap: 12px;\n",
              "    }\n",
              "\n",
              "    .colab-df-convert {\n",
              "      background-color: #E8F0FE;\n",
              "      border: none;\n",
              "      border-radius: 50%;\n",
              "      cursor: pointer;\n",
              "      display: none;\n",
              "      fill: #1967D2;\n",
              "      height: 32px;\n",
              "      padding: 0 0 0 0;\n",
              "      width: 32px;\n",
              "    }\n",
              "\n",
              "    .colab-df-convert:hover {\n",
              "      background-color: #E2EBFA;\n",
              "      box-shadow: 0px 1px 2px rgba(60, 64, 67, 0.3), 0px 1px 3px 1px rgba(60, 64, 67, 0.15);\n",
              "      fill: #174EA6;\n",
              "    }\n",
              "\n",
              "    [theme=dark] .colab-df-convert {\n",
              "      background-color: #3B4455;\n",
              "      fill: #D2E3FC;\n",
              "    }\n",
              "\n",
              "    [theme=dark] .colab-df-convert:hover {\n",
              "      background-color: #434B5C;\n",
              "      box-shadow: 0px 1px 3px 1px rgba(0, 0, 0, 0.15);\n",
              "      filter: drop-shadow(0px 1px 2px rgba(0, 0, 0, 0.3));\n",
              "      fill: #FFFFFF;\n",
              "    }\n",
              "  </style>\n",
              "\n",
              "      <script>\n",
              "        const buttonEl =\n",
              "          document.querySelector('#df-64a9c7a1-7828-4691-83a2-4933cf6c1f7d button.colab-df-convert');\n",
              "        buttonEl.style.display =\n",
              "          google.colab.kernel.accessAllowed ? 'block' : 'none';\n",
              "\n",
              "        async function convertToInteractive(key) {\n",
              "          const element = document.querySelector('#df-64a9c7a1-7828-4691-83a2-4933cf6c1f7d');\n",
              "          const dataTable =\n",
              "            await google.colab.kernel.invokeFunction('convertToInteractive',\n",
              "                                                     [key], {});\n",
              "          if (!dataTable) return;\n",
              "\n",
              "          const docLinkHtml = 'Like what you see? Visit the ' +\n",
              "            '<a target=\"_blank\" href=https://colab.research.google.com/notebooks/data_table.ipynb>data table notebook</a>'\n",
              "            + ' to learn more about interactive tables.';\n",
              "          element.innerHTML = '';\n",
              "          dataTable['output_type'] = 'display_data';\n",
              "          await google.colab.output.renderOutput(dataTable, element);\n",
              "          const docLink = document.createElement('div');\n",
              "          docLink.innerHTML = docLinkHtml;\n",
              "          element.appendChild(docLink);\n",
              "        }\n",
              "      </script>\n",
              "    </div>\n",
              "  </div>\n",
              "  "
            ]
          },
          "metadata": {},
          "execution_count": 34
        }
      ]
    },
    {
      "cell_type": "markdown",
      "source": [
        "**Kesimpulan**\n",
        "\n",
        "Data mengungkapkan perbedaan perilaku pengguna:\n",
        "- Pada Springfield, jumlah lagu yang diputar mencapai puncaknya pada hari Senin dan Jumat, sedangkan pada hari Rabu terjadi penurunan aktivitas.\n",
        "- Di Shelbyville, sebaliknya, pengguna lebih banyak mendengarkan musik pada hari Rabu.\n",
        "\n",
        "Aktivitas pengguna pada hari Senin dan Jumat lebih sedikit.\n"
      ],
      "metadata": {
        "id": "P1oxYwinXKyy"
      }
    },
    {
      "cell_type": "markdown",
      "source": [
        "### Hipotesis 2: Musik di Awal dan Akhir Minggu \n",
        "\n",
        "Menurut hipotesis kedua, pada Senin pagi dan Jumat malam, warga Springfield mendengarkan genre yang berbeda dari yang dinikmati warga Shelbyville."
      ],
      "metadata": {
        "id": "xnqy3a03X__N"
      }
    },
    {
      "cell_type": "code",
      "source": [
        "# Dapatkan tabel (pastikan nama tabel gabungan Anda cocok dengan DataFrame yang diberikan dalam dua blok kode di bawah):\n",
        "    # Untuk Springfield — spr_general\n",
        "    # Untuk Shelbyville — shel_general\n",
        "\n",
        "# mendapatkan tabel spr_general dari baris df,\n",
        "# dimana nilai dari kolom 'city' adalah 'Springfield'\n",
        "\n",
        "spr_general = df.loc[(df['city']=='Springfield')]"
      ],
      "metadata": {
        "id": "O0GGZqXBX999"
      },
      "execution_count": null,
      "outputs": []
    },
    {
      "cell_type": "code",
      "source": [
        "# mendapatkan shel_general dari baris df,\n",
        "# dimana nilai dari kolom 'city' adalah 'Shelbyville'\n",
        "\n",
        "shel_general = df.loc[(df['city']=='Shelbyville')]"
      ],
      "metadata": {
        "id": "6qWsU6B0Yc7f"
      },
      "execution_count": null,
      "outputs": []
    },
    {
      "cell_type": "markdown",
      "source": [
        "Tulis fungsi `genre_weekday()` dengan empat parameter:\n",
        "\n",
        "- Sebuah tabel untuk data\n",
        "- Nama hari\n",
        "- Tanda waktu pertama, dalam format 'hh:mm'\n",
        "- Tanda waktu terakhir, dalam format 'hh: mm'"
      ],
      "metadata": {
        "id": "yMN_TgbvW95y"
      }
    },
    {
      "cell_type": "code",
      "source": [
        "# Mendeklarasikan fungsi genre_weekday() dengan parameter day=, time1=, dan time2=. Itu harus\n",
        "# memberikan informasi tentang genre paling populer pada hari dan waktu tertentu:\n",
        "\n",
        "# 1) Biarkan variabel genre_df menyimpan baris yang memenuhi beberapa ketentuan:\n",
        "#    - nilai pada kolom 'day' sama dengan nilai argumen hari=\n",
        "#    - nilai pada kolom 'time' lebih besar dari nilai argumen time1=\n",
        "#    - nilai pada kolom 'time' lebih kecil dari nilai argumen time2=\n",
        "#    Gunakan pemfilteran berurutan dengan pengindeksan logis.\n",
        "\n",
        "# 2) Kelompokkan genre_df berdasarkan kolom 'genre', lalu ambil salah satu kolomnya,\n",
        "#    dan gunakan metode count() untuk menemukan jumlah entri untuk masing-masing\n",
        "#    genre yang diwakili; simpan Series yang dihasilkan ke\n",
        "#    variabel genre_df_count\n",
        "\n",
        "# 3) Urutkan genre_df_count dalam urutan menurun dan simpan hasilnya\n",
        "#    ke variabel genre_df_sorted\n",
        "\n",
        "# 4) Menghasilkan objek Series dengan nilai 15 genre_df_sorted pertama - 15 genre paling\n",
        "#    populer (pada hari tertentu, dalam jangka waktu tertentu)\n",
        "\n",
        "def genre_weekday(dataset, day, time1, time2):\n",
        "    genre_df = dataset.loc[(dataset['day']==day) & (dataset['time']<time2) & (dataset['time']>time1)]\n",
        "    genre_df1 = genre_df.groupby('genre')['genre'].count()\n",
        "    genre_df2 = genre_df1.sort_values(ascending=False)\n",
        "    return genre_df2[:15]"
      ],
      "metadata": {
        "id": "ug0D8TtcYjaU"
      },
      "execution_count": null,
      "outputs": []
    },
    {
      "cell_type": "markdown",
      "source": [
        "Bandingkan hasil fungsi `genre_weekday()` untuk Springfield dan Shelbyville pada: \n",
        "- Senin pagi (dari pukul 07.00 hingga 11.00) \n",
        "- Jumat malam (dari pukul 17:00 hingga 23:00)\n"
      ],
      "metadata": {
        "id": "bsWrZJ19Yxv9"
      }
    },
    {
      "cell_type": "code",
      "source": [
        "# memanggil fungsi untuk Senin pagi di Springfield (gunakan spr_general alih-alih tabel df)\n",
        "filtered_spr_mon = genre_weekday(dataset=spr_general, day='Monday', time1='07.00.00', time2='11.00.00')\n",
        "filtered_spr_mon\n"
      ],
      "metadata": {
        "colab": {
          "base_uri": "https://localhost:8080/"
        },
        "id": "P35Laf--YnVb",
        "outputId": "f9fb5395-c705-4056-90d2-ba7ad6036f99"
      },
      "execution_count": null,
      "outputs": [
        {
          "output_type": "execute_result",
          "data": {
            "text/plain": [
              "genre\n",
              "pop            781\n",
              "dance          549\n",
              "electronic     480\n",
              "rock           474\n",
              "hiphop         286\n",
              "ruspop         186\n",
              "world          181\n",
              "rusrap         175\n",
              "alternative    164\n",
              "unknown        161\n",
              "classical      157\n",
              "metal          120\n",
              "jazz           100\n",
              "folk            97\n",
              "soundtrack      95\n",
              "Name: genre, dtype: int64"
            ]
          },
          "metadata": {},
          "execution_count": 38
        }
      ]
    },
    {
      "cell_type": "code",
      "source": [
        "# memanggil fungsi untuk Senin pagi di Shelbyville (gunakan shel_general alih-alih tabel df)\n",
        "filtered_shel_mon = genre_weekday(dataset=shel_general, day='Monday', time1='07.00.00', time2='11.00.00')\n",
        "filtered_shel_mon"
      ],
      "metadata": {
        "colab": {
          "base_uri": "https://localhost:8080/"
        },
        "id": "qqxT7jcQY5Ir",
        "outputId": "500c3385-e4b5-48de-c0a9-7d55d059033c"
      },
      "execution_count": null,
      "outputs": [
        {
          "output_type": "execute_result",
          "data": {
            "text/plain": [
              "genre\n",
              "pop            218\n",
              "dance          182\n",
              "rock           162\n",
              "electronic     147\n",
              "hiphop          80\n",
              "ruspop          64\n",
              "alternative     58\n",
              "rusrap          55\n",
              "jazz            44\n",
              "classical       40\n",
              "world           36\n",
              "rap             32\n",
              "soundtrack      31\n",
              "rnb             27\n",
              "metal           27\n",
              "Name: genre, dtype: int64"
            ]
          },
          "metadata": {},
          "execution_count": 39
        }
      ]
    },
    {
      "cell_type": "code",
      "source": [
        "# memanggil fungsi untuk Jumat malam di Springfield\n",
        "filtered_spr_fri = genre_weekday(dataset=spr_general, day='Friday', time1='17.00.00', time2='23.00.00')\n",
        "filtered_spr_fri"
      ],
      "metadata": {
        "colab": {
          "base_uri": "https://localhost:8080/"
        },
        "id": "1cIN04cvY79G",
        "outputId": "05a3824e-0f53-4784-8e21-1ae7518e707c"
      },
      "execution_count": null,
      "outputs": [
        {
          "output_type": "execute_result",
          "data": {
            "text/plain": [
              "genre\n",
              "pop            713\n",
              "rock           517\n",
              "dance          495\n",
              "electronic     482\n",
              "hiphop         273\n",
              "world          208\n",
              "ruspop         170\n",
              "classical      163\n",
              "alternative    163\n",
              "rusrap         142\n",
              "jazz           111\n",
              "unknown        110\n",
              "soundtrack     105\n",
              "rnb             90\n",
              "metal           88\n",
              "Name: genre, dtype: int64"
            ]
          },
          "metadata": {},
          "execution_count": 40
        }
      ]
    },
    {
      "cell_type": "code",
      "source": [
        "# memanggil fungsi untuk Jumat malam di Shelbyville\n",
        "filtered_shel_fri = genre_weekday(dataset=shel_general, day='Friday', time1='17.00.00', time2='23.00.00')\n",
        "filtered_shel_fri"
      ],
      "metadata": {
        "colab": {
          "base_uri": "https://localhost:8080/"
        },
        "id": "YD-6CC4QY-am",
        "outputId": "b2fd5a2f-916d-4047-c57f-534bd3299c26"
      },
      "execution_count": null,
      "outputs": [
        {
          "output_type": "execute_result",
          "data": {
            "text/plain": [
              "genre\n",
              "pop            256\n",
              "rock           216\n",
              "electronic     216\n",
              "dance          210\n",
              "hiphop          97\n",
              "alternative     63\n",
              "jazz            61\n",
              "classical       60\n",
              "rusrap          59\n",
              "world           54\n",
              "unknown         47\n",
              "ruspop          47\n",
              "soundtrack      40\n",
              "metal           39\n",
              "rap             36\n",
              "Name: genre, dtype: int64"
            ]
          },
          "metadata": {},
          "execution_count": 41
        }
      ]
    },
    {
      "cell_type": "markdown",
      "source": [
        "**Kesimpulan**\n",
        "\n",
        "Setelah membandingkan 15 genre teratas pada Senin pagi, kita dapat menarik kesimpulan berikut:\n",
        "1. Pengguna dari Springfield dan Shelbyville mendengarkan musik dengan genre yang sama. Lima genre teratas sama, hanya rock dan elektronik yang bertukar tempat.\n",
        "2. Di Springfield, jumlah nilai yang hilang ternyata sangat besar sehingga nilai 'unknown' berada di urutan ke-10. Ini berarti bahwa nilai-nilai yang hilang memiliki jumlah data yang cukup besar, yang mungkin menjadi dasar untuk mempertanyakan ketepatan kesimpulan kita.\n",
        "\n",
        "Untuk Jumat malam, situasinya serupa. Genre individu agak bervariasi, tetapi secara keseluruhan, 15 besar genre untuk kedua kota sama.\n",
        "\n",
        "Dengan demikian, hipotesis kedua sebagian terbukti benar:\n",
        "- Pengguna mendengarkan musik yang sama di awal dan akhir minggu\n",
        "- Tidak ada perbedaan yang mencolok antara Springfield dan Shelbyville. Pada kedua kota tersebut, pop adalah genre yang paling populer.\n",
        "\n",
        "Namun, jumlah nilai yang hilang membuat hasil ini dipertanyakan. Di Springfield, ada begitu banyak yang memengaruhi 15 teratas kita. Jika kita tidak mengabaikan nilai-nilai ini, hasilnya mungkin akan berbeda."
      ],
      "metadata": {
        "id": "GpBfLE0aZFkt"
      }
    },
    {
      "cell_type": "markdown",
      "source": [
        "### Hipotesis 3: Preferensi Genre di Springfield dan Shelbyville \n",
        "\n",
        "Hipotesis: Shelbyville menyukai musik rap. Warga Springfield lebih menyukai pop.\n",
        "\n",
        "Kelompokkan tabel `spr_general` berdasarkan genre dan temukan jumlah lagu yang dimainkan untuk setiap genre dengan metode `count()`. Kemudian urutkan hasilnya dalam urutan menurun dan simpan ke spr_genres.\n"
      ],
      "metadata": {
        "id": "gasOln8NZkWb"
      }
    },
    {
      "cell_type": "code",
      "source": [
        "# pada satu baris: kelompokkan tabel spr_general berdasarkan kolom 'genre',\n",
        "# hitung nilai 'genre' dengan count() dalam pengelompokan,\n",
        "# urutkan Series yang dihasilkan dalam urutan menurun, lalu simpan ke spr_genres\n",
        "\n",
        "spr_general = df.loc[(df['city']=='Springfield')]\n",
        "spr_genres = spr_general.groupby('genre').count()\n",
        "spr_genres = spr_genres.sort_values(by='user_id', ascending=False)['user_id']"
      ],
      "metadata": {
        "id": "UTo3nY80ZmEo"
      },
      "execution_count": null,
      "outputs": []
    },
    {
      "cell_type": "code",
      "source": [
        "# menampilkan 10 baris pertama dari spr_genres\n",
        "spr_genres.head(10)"
      ],
      "metadata": {
        "colab": {
          "base_uri": "https://localhost:8080/"
        },
        "id": "wdrseiK7ZvrE",
        "outputId": "cad7506f-ec30-4a88-c78d-88006e433600"
      },
      "execution_count": null,
      "outputs": [
        {
          "output_type": "execute_result",
          "data": {
            "text/plain": [
              "genre\n",
              "pop            5892\n",
              "dance          4435\n",
              "rock           3965\n",
              "electronic     3786\n",
              "hiphop         2096\n",
              "classical      1616\n",
              "world          1432\n",
              "alternative    1379\n",
              "ruspop         1372\n",
              "rusrap         1161\n",
              "Name: user_id, dtype: int64"
            ]
          },
          "metadata": {},
          "execution_count": 44
        }
      ]
    },
    {
      "cell_type": "code",
      "source": [
        "# pada satu baris: kelompokkan tabel shel_general menurut kolom 'genre',\n",
        "# hitung nilai 'genre' dalam pengelompokan menggunakan count(),\n",
        "# urutkan Series yang dihasilkan dalam urutan menurun dan simpan ke shel_genres\n",
        "\n",
        "shel_general = df.loc[(df['city']=='Shelbyville')]\n",
        "shel_genres = shel_general.groupby('genre').count()\n",
        "shel_genres = shel_genres.sort_values(by='user_id', ascending=False)['user_id']"
      ],
      "metadata": {
        "id": "UFTftCnZZyMK"
      },
      "execution_count": null,
      "outputs": []
    },
    {
      "cell_type": "code",
      "source": [
        "# menampilkan 10 baris pertama dari shel_genres\n",
        "shel_genres.head(10)"
      ],
      "metadata": {
        "colab": {
          "base_uri": "https://localhost:8080/"
        },
        "id": "EFoliX6yZ2Cj",
        "outputId": "2442ffb9-badd-49ba-fd15-54ff80a8cdce"
      },
      "execution_count": null,
      "outputs": [
        {
          "output_type": "execute_result",
          "data": {
            "text/plain": [
              "genre\n",
              "pop            2431\n",
              "dance          1932\n",
              "rock           1879\n",
              "electronic     1736\n",
              "hiphop          960\n",
              "alternative     649\n",
              "classical       646\n",
              "rusrap          564\n",
              "ruspop          538\n",
              "world           515\n",
              "Name: user_id, dtype: int64"
            ]
          },
          "metadata": {},
          "execution_count": 46
        }
      ]
    },
    {
      "cell_type": "markdown",
      "source": [
        "**Kesimpulan**\n",
        "\n",
        "Hipotesis terbukti benar sebagian:\n",
        "1. Musik pop adalah genre paling populer di Springfield, seperti yang diharapkan.\n",
        "2. Namun, musik pop ternyata sama populernya baik di Springfield maupun di Shelbyville, dan musik rap tidak berada di 5 besar untuk kedua kota tersebut.\n"
      ],
      "metadata": {
        "id": "I7_2hRfXZ5uq"
      }
    },
    {
      "cell_type": "markdown",
      "source": [
        "# Temuan"
      ],
      "metadata": {
        "id": "rqzTxPJUaBuo"
      }
    },
    {
      "cell_type": "markdown",
      "source": [
        "Kita telah menguji tiga hipotesis berikut:\n",
        "1.\tAktivitas pengguna berbeda-beda tergantung pada hari dan kotanya.\n",
        "2.\tPada senin pagi, penduduk Springfield dan Shelbyville mendengarkan genre yang berbeda. Hal ini juga ini juga berlaku untuk Jumat malam.\n",
        "3.\tPendengar di Springfield dan Shelbyville memiliki preferensi yang berbeda. Baik Springfield maupun di Shelbyville, mereka lebih suka musik pop.\n",
        "Setelah menganalisis data, kita dapat menyimpulkan:\n",
        "1.\tAktivitas pengguna di Springfield dan Shelbyville bergantung pada harinya, walaupun kotanya berbeda.\n",
        "Hipotesis pertama dapat diterima sepenuhnya.\n",
        "2.\tPreferensi musik tidak terlalu berbeda selama seminggu di Springfield dan Shelbyville. Kita dapat melihat perbedaan kecil dalam urutan pada hari Senin, tetapi:\n",
        "•\tBaik di Springfield maupun di Shelbyville, orang paling banyak mendengarkan musik pop.\n",
        "Jadi hipotesis ini tidak dapat kita terima. Kita juga harus ingat bahwa hasilnya bisa berbeda jika bukan karena nilai yang hilang.\n",
        "3.\tTernyata preferensi musik pengguna dari Springfield dan Shelbyville sangat mirip.\n",
        "Hipotesis ketiga ditolak. Jika ada perbedaan preferensi, tidak dapat dilihat dari data ini.\n"
      ],
      "metadata": {
        "id": "dIyLYR7-aELN"
      }
    }
  ]
}